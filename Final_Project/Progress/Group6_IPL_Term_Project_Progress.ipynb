{
  "nbformat": 4,
  "nbformat_minor": 0,
  "metadata": {
    "colab": {
      "name": "Group6_IPL_Term_Project.ipynb",
      "provenance": [],
      "collapsed_sections": [],
      "include_colab_link": true
    },
    "kernelspec": {
      "name": "python3",
      "display_name": "Python 3"
    }
  },
  "cells": [
    {
      "cell_type": "markdown",
      "metadata": {
        "id": "view-in-github",
        "colab_type": "text"
      },
      "source": [
        "<a href=\"https://colab.research.google.com/github/prashanthdnss/Nithya_INFO5731_Fall2020/blob/master/Final_Project/Progress/Group6_IPL_Term_Project_Progress.ipynb\" target=\"_parent\"><img src=\"https://colab.research.google.com/assets/colab-badge.svg\" alt=\"Open In Colab\"/></a>"
      ]
    },
    {
      "cell_type": "code",
      "metadata": {
        "id": "hyTnPOkcTAoN",
        "colab": {
          "base_uri": "https://localhost:8080/"
        },
        "outputId": "b6a0b22c-5b21-4669-a6c0-7eb957546876"
      },
      "source": [
        "!pip install tweepy  #Installing Tweepy for twitter data"
      ],
      "execution_count": null,
      "outputs": [
        {
          "output_type": "stream",
          "text": [
            "Requirement already satisfied: tweepy in /usr/local/lib/python3.6/dist-packages (3.6.0)\n",
            "Requirement already satisfied: requests>=2.11.1 in /usr/local/lib/python3.6/dist-packages (from tweepy) (2.23.0)\n",
            "Requirement already satisfied: six>=1.10.0 in /usr/local/lib/python3.6/dist-packages (from tweepy) (1.15.0)\n",
            "Requirement already satisfied: requests-oauthlib>=0.7.0 in /usr/local/lib/python3.6/dist-packages (from tweepy) (1.3.0)\n",
            "Requirement already satisfied: PySocks>=1.5.7 in /usr/local/lib/python3.6/dist-packages (from tweepy) (1.7.1)\n",
            "Requirement already satisfied: chardet<4,>=3.0.2 in /usr/local/lib/python3.6/dist-packages (from requests>=2.11.1->tweepy) (3.0.4)\n",
            "Requirement already satisfied: certifi>=2017.4.17 in /usr/local/lib/python3.6/dist-packages (from requests>=2.11.1->tweepy) (2020.6.20)\n",
            "Requirement already satisfied: urllib3!=1.25.0,!=1.25.1,<1.26,>=1.21.1 in /usr/local/lib/python3.6/dist-packages (from requests>=2.11.1->tweepy) (1.24.3)\n",
            "Requirement already satisfied: idna<3,>=2.5 in /usr/local/lib/python3.6/dist-packages (from requests>=2.11.1->tweepy) (2.10)\n",
            "Requirement already satisfied: oauthlib>=3.0.0 in /usr/local/lib/python3.6/dist-packages (from requests-oauthlib>=0.7.0->tweepy) (3.1.0)\n"
          ],
          "name": "stdout"
        }
      ]
    },
    {
      "cell_type": "markdown",
      "metadata": {
        "id": "UmeUFsajLCoX"
      },
      "source": [
        "**Tweets extracted 11/8/2020**"
      ]
    },
    {
      "cell_type": "code",
      "metadata": {
        "id": "gG9pci1qU5ax",
        "colab": {
          "base_uri": "https://localhost:8080/"
        },
        "outputId": "87dec30b-6df3-45b9-a9f8-ac637fbb2252"
      },
      "source": [
        "#Program to get twitter data using Twitter API \n",
        "\n",
        "import json\n",
        "import csv\n",
        "import tweepy\n",
        "import re\n",
        "import os\n",
        "def twitter_hashtag(api_key, api_key_secret, access_token, access_token_secret, hashtag):\n",
        "    \n",
        "    auth = tweepy.OAuthHandler(api_key, api_key_secret)\n",
        "    auth.set_access_token(access_token, access_token_secret)\n",
        "\n",
        "    api = tweepy.API(auth,wait_on_rate_limit=True)\n",
        "    \n",
        "    file_name = '_'.join(re.findall(r\"#(\\w+)\", hashtag))\n",
        "\n",
        "    with open('%s.csv' % (file_name), 'w') as file:\n",
        "\n",
        "        w = csv.writer(file)\n",
        "\n",
        "        w.writerow(['created', 'tweet_text', 'username', 'all_hashtags'])\n",
        "\n",
        "        for tweet in tweepy.Cursor(api.search, q=hashtag+' -filter:retweets', lang=\"en\", tweet_mode='extended').items(1000):\n",
        "            w.writerow([tweet.created_at, tweet.full_text.replace('\\n',' ').encode('utf-8'), tweet.user.screen_name.encode('utf-8'),[e['text'] for e in tweet._json['entities']['hashtags']]])\n",
        "            \n",
        "\n",
        "\n",
        "api_key = input('Please give twitter api key')\n",
        "api_key_secret = input('Please give twitter api key secret')\n",
        "access_token = input('Please give twitter access token')\n",
        "access_token_secret = input('Please give twitter access token secret')\n",
        "    \n",
        "hashtag = input('enter the hashtag')\n",
        "\n",
        "twitter_hashtag(api_key, api_key_secret, access_token, access_token_secret, hashtag)\n",
        "\n"
      ],
      "execution_count": null,
      "outputs": [
        {
          "output_type": "stream",
          "text": [
            "Please give twitter api keyePjdnPqsmA5Mgjewf5i5Vtnuw\n",
            "Please give twitter api key secretV83Stor4JRihnxggUa9OODxIrAc8EHmQdJxlnpxAGZXjqbJA7v\n",
            "Please give twitter access token1287853629869821952-ZsnNF12Y53o5JfCOUBPn72lO0OJau1\n",
            "Please give twitter access token secretTSYcER5dl5L72dcbpo8f0LzQqfn6qX3r2n1QsLpOGxRAz\n",
            "enter the hashtag#IPL2020\n"
          ],
          "name": "stdout"
        }
      ]
    },
    {
      "cell_type": "code",
      "metadata": {
        "id": "EYZM5qdsC8QB"
      },
      "source": [
        ""
      ],
      "execution_count": null,
      "outputs": []
    },
    {
      "cell_type": "code",
      "metadata": {
        "id": "X3vnZxYQU5d9",
        "colab": {
          "base_uri": "https://localhost:8080/",
          "height": 195
        },
        "outputId": "5f052bfa-fb48-41b3-d326-2d43f1f48509"
      },
      "source": [
        "#Saving the twitter data to a csv file\n",
        "import pandas as pd\n",
        "tweets=pd.read_csv('/content/sample_data/IPL2020 (1).csv')\n",
        "tweets.head()"
      ],
      "execution_count": 158,
      "outputs": [
        {
          "output_type": "execute_result",
          "data": {
            "text/html": [
              "<div>\n",
              "<style scoped>\n",
              "    .dataframe tbody tr th:only-of-type {\n",
              "        vertical-align: middle;\n",
              "    }\n",
              "\n",
              "    .dataframe tbody tr th {\n",
              "        vertical-align: top;\n",
              "    }\n",
              "\n",
              "    .dataframe thead th {\n",
              "        text-align: right;\n",
              "    }\n",
              "</style>\n",
              "<table border=\"1\" class=\"dataframe\">\n",
              "  <thead>\n",
              "    <tr style=\"text-align: right;\">\n",
              "      <th></th>\n",
              "      <th>created</th>\n",
              "      <th>tweet_text</th>\n",
              "      <th>username</th>\n",
              "      <th>all_hashtags</th>\n",
              "    </tr>\n",
              "  </thead>\n",
              "  <tbody>\n",
              "    <tr>\n",
              "      <th>0</th>\n",
              "      <td>2020-11-09 04:49:21</td>\n",
              "      <td>b'Look at #SRH youngster Priyam Garg after Kan...</td>\n",
              "      <td>b'SteadyTheShip'</td>\n",
              "      <td>['SRH', 'SRHvDC', 'DCvSRH', 'IPL2020']</td>\n",
              "    </tr>\n",
              "    <tr>\n",
              "      <th>1</th>\n",
              "      <td>2020-11-09 04:49:16</td>\n",
              "      <td>b'This is Mr.360\\xc2\\xb0 @ABdeVilliers17 . Mos...</td>\n",
              "      <td>b'imsapien'</td>\n",
              "      <td>['Cricket', 'IPL2020', 'Eliminater', 'IPLQuali...</td>\n",
              "    </tr>\n",
              "    <tr>\n",
              "      <th>2</th>\n",
              "      <td>2020-11-09 04:48:52</td>\n",
              "      <td>b\"Great things happen to those who don't stop ...</td>\n",
              "      <td>b'CricketGirl_45'</td>\n",
              "      <td>['RohitSharma', 'MumbaiIndians', 'IPL2020', 'I...</td>\n",
              "    </tr>\n",
              "    <tr>\n",
              "      <th>3</th>\n",
              "      <td>2020-11-09 04:48:41</td>\n",
              "      <td>b'T Natarajan made a mark with his yorkers in ...</td>\n",
              "      <td>b'ESPNcricinfo'</td>\n",
              "      <td>['IPL2020']</td>\n",
              "    </tr>\n",
              "    <tr>\n",
              "      <th>4</th>\n",
              "      <td>2020-11-09 04:47:57</td>\n",
              "      <td>b'#IPL2020 Final: Marcus Stoinis warning to @m...</td>\n",
              "      <td>b'InsideSportIND'</td>\n",
              "      <td>['IPL2020', 'iplseason13', 'IPLfinal', 'Mumbai...</td>\n",
              "    </tr>\n",
              "  </tbody>\n",
              "</table>\n",
              "</div>"
            ],
            "text/plain": [
              "               created  ...                                       all_hashtags\n",
              "0  2020-11-09 04:49:21  ...             ['SRH', 'SRHvDC', 'DCvSRH', 'IPL2020']\n",
              "1  2020-11-09 04:49:16  ...  ['Cricket', 'IPL2020', 'Eliminater', 'IPLQuali...\n",
              "2  2020-11-09 04:48:52  ...  ['RohitSharma', 'MumbaiIndians', 'IPL2020', 'I...\n",
              "3  2020-11-09 04:48:41  ...                                        ['IPL2020']\n",
              "4  2020-11-09 04:47:57  ...  ['IPL2020', 'iplseason13', 'IPLfinal', 'Mumbai...\n",
              "\n",
              "[5 rows x 4 columns]"
            ]
          },
          "metadata": {
            "tags": []
          },
          "execution_count": 158
        }
      ]
    },
    {
      "cell_type": "code",
      "metadata": {
        "id": "hJpkDEYoQeRW"
      },
      "source": [
        "#Functions to clean Tweets\n",
        "\n",
        "def remove_tag(string):\n",
        "    tweet_text=re.sub('<.*?>','',string)\n",
        "    return tweet_text\n",
        "def remove_mention(tweet_text):\n",
        "    line=re.sub(r'@\\w+','',tweet_text)\n",
        "    return line\n",
        "def remove_hash(tweet_text):\n",
        "    line=re.sub(r'#\\w+','',tweet_text)\n",
        "    return line\n",
        "\n",
        "def remove_newline(string):\n",
        "    tweet_text=re.sub('\\n','',string)\n",
        "    return tweet_text\n",
        "def remove_url(string): \n",
        "    tweet_text = re.sub('http[s]?://(?:[a-zA-Z]|[0-9]|[$-_@.&+]|[!*\\(\\),]|(?:%[0-9a-fA-F][0-9a-fA-F]))+','',string)\n",
        "    return tweet_text\n",
        "def remove_number(tweet_text):\n",
        "    line=re.sub(r'[0-9]+','',tweet_text)\n",
        "    return line\n",
        "def remove_punct(tweet_text):\n",
        "    line = re.sub(r'[!\"\\$%&\\'()*+,\\-.\\/:;=#@?\\[\\\\\\]^_`{|}~]*','',tweet_text)\n",
        "    return line\n",
        "def text_strip(string):\n",
        "    line=re.sub('\\s{2,}', ' ', string.strip())\n",
        "    return line\n",
        "\n"
      ],
      "execution_count": 159,
      "outputs": []
    },
    {
      "cell_type": "code",
      "metadata": {
        "id": "EbyPFD1m-dQd",
        "colab": {
          "base_uri": "https://localhost:8080/"
        },
        "outputId": "f2a19aa3-c633-4d75-f2f2-8ee4361e8ba6"
      },
      "source": [
        "!pip install nltk #installing NLTK Package"
      ],
      "execution_count": 160,
      "outputs": [
        {
          "output_type": "stream",
          "text": [
            "Requirement already satisfied: nltk in /usr/local/lib/python3.6/dist-packages (3.2.5)\n",
            "Requirement already satisfied: six in /usr/local/lib/python3.6/dist-packages (from nltk) (1.15.0)\n"
          ],
          "name": "stdout"
        }
      ]
    },
    {
      "cell_type": "code",
      "metadata": {
        "id": "kiRzYjf2RCOf",
        "colab": {
          "base_uri": "https://localhost:8080/"
        },
        "outputId": "8d9474b4-9585-46bc-d04c-a9108b94cc58"
      },
      "source": [
        "#Clensing the tweets\n",
        "\n",
        "import nltk\n",
        "import json\n",
        "import csv\n",
        "import tweepy\n",
        "import re\n",
        "import os\n",
        "\n",
        "tweets['refine_text']=tweets['tweet_text'].str.lower()\n",
        "tweets['refine_text']=tweets['refine_text'].apply(lambda x:remove_tag(str(x)))\n",
        "tweets['refine_text']=tweets['refine_text'].apply(lambda x:remove_mention(str(x)))\n",
        "tweets['refine_text']=tweets['refine_text'].apply(lambda x:remove_hash(str(x)))\n",
        "tweets['refine_text']=tweets['refine_text'].apply(lambda x:remove_newline(x))\n",
        "tweets['refine_text']=tweets['refine_text'].apply(lambda x:remove_url(x))\n",
        "tweets['refine_text']=tweets['refine_text'].apply(lambda x:remove_number(x))\n",
        "tweets['refine_text']=tweets['refine_text'].apply(lambda x:remove_punct(x))\n",
        "\n",
        "tweets['refine_text']=tweets['refine_text'].apply(lambda x:text_strip(x))\n",
        "\n",
        "tweets['text_length']=tweets['refine_text'].str.split().map(lambda x: len(x))\n",
        "\n",
        "#Remove noise\n",
        "tweets['refine_text'] = tweets['refine_text'].str.replace('[^\\w\\s]','')\n",
        "\n",
        "\n",
        "#Remove stopwords\n",
        "nltk.download('stopwords')\n",
        "from nltk.corpus import stopwords\n",
        "stop = stopwords.words('english')\n",
        "stop.extend(['amp','xcxa','via','xexcx','th','ipl','final','v','from','xexcxxefxbxf','xfxfxaxa','xfxfxx','xfxfxcxb','xfxfxxf','xfxfxx', 'xfxfxxd','xfxfxxa','i','the','we','it', 'subject', 're', 'edu', 'use'])\n",
        "tweets['refine_text'] = tweets['refine_text'].apply(lambda x: \" \".join(x for x in x.split() if x not in stop))\n",
        "\n",
        "\n",
        "\n",
        "#stemming\n",
        "from nltk.stem import PorterStemmer\n",
        "st = PorterStemmer()\n",
        "tweets['refine_text'][:5].apply(lambda x: \" \".join([st.stem(word) for word in x.split()]))\n",
        "\n",
        "#lemmatization\n",
        "!pip install -U textblob\n",
        "from textblob import Word\n",
        "import nltk\n",
        "nltk.download('wordnet')\n",
        "\n",
        "tweets['refine_text'] = tweets['refine_text'].apply(lambda x: \" \".join([Word(word).lemmatize() for word in x.split()]))\n"
      ],
      "execution_count": 191,
      "outputs": [
        {
          "output_type": "stream",
          "text": [
            "[nltk_data] Downloading package stopwords to /root/nltk_data...\n",
            "[nltk_data]   Package stopwords is already up-to-date!\n",
            "Requirement already up-to-date: textblob in /usr/local/lib/python3.6/dist-packages (0.15.3)\n",
            "Requirement already satisfied, skipping upgrade: nltk>=3.1 in /usr/local/lib/python3.6/dist-packages (from textblob) (3.2.5)\n",
            "Requirement already satisfied, skipping upgrade: six in /usr/local/lib/python3.6/dist-packages (from nltk>=3.1->textblob) (1.15.0)\n",
            "[nltk_data] Downloading package wordnet to /root/nltk_data...\n",
            "[nltk_data]   Package wordnet is already up-to-date!\n"
          ],
          "name": "stdout"
        }
      ]
    },
    {
      "cell_type": "code",
      "metadata": {
        "colab": {
          "base_uri": "https://localhost:8080/"
        },
        "id": "NmvN8X6lEgeX",
        "outputId": "01f1c848-1c6e-47e7-a2cb-82c0eba6096c"
      },
      "source": [
        "tweets['refine_text']"
      ],
      "execution_count": 192,
      "outputs": [
        {
          "output_type": "execute_result",
          "data": {
            "text/plain": [
              "0      blook youngster priyam garg kane williamson ma...\n",
              "1                  bthis mrxcxb dangerous animal cricket\n",
              "2      bgreat thing happen dont stop believing trying...\n",
              "3      bt natarajan made mark yorkers xfxfxxc see pla...\n",
              "4                         b marcus stoinis warning check\n",
              "                             ...                        \n",
              "995    bcongratulations entering final first time kee...\n",
              "996    bwell played ur fight back frm ending rd place...\n",
              "997    bshikhar dhawan would take another former team...\n",
              "998    bif winning heart art kane williamson artistxe...\n",
              "999      bo dilli tu roar macha xfxfxaxxfxfxx made first\n",
              "Name: refine_text, Length: 1000, dtype: object"
            ]
          },
          "metadata": {
            "tags": []
          },
          "execution_count": 192
        }
      ]
    },
    {
      "cell_type": "code",
      "metadata": {
        "id": "AuKl4G8DgAtD"
      },
      "source": [
        "#Saaving the clensed data to a new CSV file\n",
        "tweets.to_csv('clean_tweets.csv') "
      ],
      "execution_count": 193,
      "outputs": []
    },
    {
      "cell_type": "code",
      "metadata": {
        "id": "TVT96iN-nTOX"
      },
      "source": [
        "# importing pandas module  \n",
        "import pandas as pd \n",
        "  \n",
        "# importing module for regex \n",
        "import re \n",
        "# importing numpy module \n",
        "import numpy as np\n",
        "# importing P=mathplot lib\n",
        "import matplotlib.pyplot as plt\n",
        "# reading csv file from url  \n",
        "dat = pd.read_csv(\"/content/clean_tweets.csv\")\n",
        "selected_columns = dat[[\"refine_text\"]]\n",
        "data = selected_columns.copy()\n"
      ],
      "execution_count": 194,
      "outputs": []
    },
    {
      "cell_type": "code",
      "metadata": {
        "id": "NJAN6oDhnTRT"
      },
      "source": [
        "# count of occurrence of each team mentions and creating new column \n",
        "data[\"count1\"]= data[\"refine_text\"].str.count(\"csk\", re.I) \n",
        "data[\"count2\"]= data[\"refine_text\"].str.count( \"DC\", re.I) \n",
        "data[\"count3\"]= data[\"refine_text\"].str.count( \"KXIP\", re.I) \n",
        "data[\"count4\"]= data[\"refine_text\"].str.count( \"KKR\", re.I) \n",
        "data[\"count5\"]= data[\"refine_text\"].str.count( \"MI\", re.I) \n",
        "data[\"count6\"]= data[\"refine_text\"].str.count( \"RR\", re.I) \n",
        "data[\"count7\"]= data[\"refine_text\"].str.count( \"RCB\", re.I) \n",
        "data[\"count8\"]= data[\"refine_text\"].str.count( \"SRH\", re.I)"
      ],
      "execution_count": 195,
      "outputs": []
    },
    {
      "cell_type": "code",
      "metadata": {
        "id": "4jh3_upAnTUs"
      },
      "source": [
        "# count of occurrence of each team mention with their state name and creating new column \n",
        "data[\"count11\"]= data[\"refine_text\"].str.count(\"Chennai\", re.I) \n",
        "data[\"count22\"]= data[\"refine_text\"].str.count( \"Delhi\", re.I) \n",
        "data[\"count33\"]= data[\"refine_text\"].str.count( \"Punjab\", re.I) \n",
        "data[\"count44\"]= data[\"refine_text\"].str.count( \"Kolkata\", re.I) \n",
        "data[\"count55\"]= data[\"refine_text\"].str.count( \"Mumbai\", re.I) \n",
        "data[\"count66\"]= data[\"refine_text\"].str.count( \"Rajasthan\", re.I) \n",
        "data[\"count77\"]= data[\"refine_text\"].str.count( \"Bangalore\", re.I) \n",
        "data[\"count88\"]= data[\"refine_text\"].str.count( \"Hyderabad\", re.I)"
      ],
      "execution_count": 196,
      "outputs": []
    },
    {
      "cell_type": "code",
      "metadata": {
        "id": "qkInndSxnTXt"
      },
      "source": [
        "#aggrigating the total mentions\n",
        "data[\"csk\"] = data[\"count1\"] + data[\"count11\"]\n",
        "data[\"DC\"] = data[\"count2\"] + data[\"count22\"]\n",
        "data[\"KXIP\"]= data[\"count3\"] + data[\"count33\"]\n",
        "data[\"KKR\"]= data[\"count4\"] + data[\"count44\"]\n",
        "data[\"MI\"]= data[\"count5\"] + data[\"count55\"]\n",
        "data[\"RR\"]= data[\"count6\"] + data[\"count66\"]\n",
        "data[\"RCB\"]= data[\"count7\"] + data[\"count77\"]\n",
        "data[\"SRH\"]= data[\"count8\"] + data[\"count88\"]"
      ],
      "execution_count": 197,
      "outputs": []
    },
    {
      "cell_type": "code",
      "metadata": {
        "id": "xyfsV-NhALO4",
        "colab": {
          "base_uri": "https://localhost:8080/",
          "height": 858
        },
        "outputId": "31e1bd53-e217-49d7-d3d6-333d324d6509"
      },
      "source": [
        "data"
      ],
      "execution_count": 199,
      "outputs": [
        {
          "output_type": "execute_result",
          "data": {
            "text/html": [
              "<div>\n",
              "<style scoped>\n",
              "    .dataframe tbody tr th:only-of-type {\n",
              "        vertical-align: middle;\n",
              "    }\n",
              "\n",
              "    .dataframe tbody tr th {\n",
              "        vertical-align: top;\n",
              "    }\n",
              "\n",
              "    .dataframe thead th {\n",
              "        text-align: right;\n",
              "    }\n",
              "</style>\n",
              "<table border=\"1\" class=\"dataframe\">\n",
              "  <thead>\n",
              "    <tr style=\"text-align: right;\">\n",
              "      <th></th>\n",
              "      <th>refine_text</th>\n",
              "      <th>count1</th>\n",
              "      <th>count2</th>\n",
              "      <th>count3</th>\n",
              "      <th>count4</th>\n",
              "      <th>count5</th>\n",
              "      <th>count6</th>\n",
              "      <th>count7</th>\n",
              "      <th>count8</th>\n",
              "      <th>count11</th>\n",
              "      <th>count22</th>\n",
              "      <th>count33</th>\n",
              "      <th>count44</th>\n",
              "      <th>count55</th>\n",
              "      <th>count66</th>\n",
              "      <th>count77</th>\n",
              "      <th>count88</th>\n",
              "      <th>csk</th>\n",
              "      <th>DC</th>\n",
              "      <th>KXIP</th>\n",
              "      <th>KKR</th>\n",
              "      <th>MI</th>\n",
              "      <th>RR</th>\n",
              "      <th>RCB</th>\n",
              "      <th>SRH</th>\n",
              "    </tr>\n",
              "  </thead>\n",
              "  <tbody>\n",
              "    <tr>\n",
              "      <th>0</th>\n",
              "      <td>blook youngster priyam garg kane williamson ma...</td>\n",
              "      <td>0</td>\n",
              "      <td>0</td>\n",
              "      <td>0</td>\n",
              "      <td>0</td>\n",
              "      <td>0</td>\n",
              "      <td>0</td>\n",
              "      <td>0</td>\n",
              "      <td>0</td>\n",
              "      <td>0</td>\n",
              "      <td>0</td>\n",
              "      <td>0</td>\n",
              "      <td>0</td>\n",
              "      <td>0</td>\n",
              "      <td>0</td>\n",
              "      <td>0</td>\n",
              "      <td>0</td>\n",
              "      <td>0</td>\n",
              "      <td>0</td>\n",
              "      <td>0</td>\n",
              "      <td>0</td>\n",
              "      <td>0</td>\n",
              "      <td>0</td>\n",
              "      <td>0</td>\n",
              "      <td>0</td>\n",
              "    </tr>\n",
              "    <tr>\n",
              "      <th>1</th>\n",
              "      <td>bthis mrxcxb dangerous animal cricket</td>\n",
              "      <td>0</td>\n",
              "      <td>0</td>\n",
              "      <td>0</td>\n",
              "      <td>0</td>\n",
              "      <td>0</td>\n",
              "      <td>0</td>\n",
              "      <td>0</td>\n",
              "      <td>0</td>\n",
              "      <td>0</td>\n",
              "      <td>0</td>\n",
              "      <td>0</td>\n",
              "      <td>0</td>\n",
              "      <td>0</td>\n",
              "      <td>0</td>\n",
              "      <td>0</td>\n",
              "      <td>0</td>\n",
              "      <td>0</td>\n",
              "      <td>0</td>\n",
              "      <td>0</td>\n",
              "      <td>0</td>\n",
              "      <td>0</td>\n",
              "      <td>0</td>\n",
              "      <td>0</td>\n",
              "      <td>0</td>\n",
              "    </tr>\n",
              "    <tr>\n",
              "      <th>2</th>\n",
              "      <td>bgreat thing happen dont stop believing trying...</td>\n",
              "      <td>0</td>\n",
              "      <td>0</td>\n",
              "      <td>0</td>\n",
              "      <td>0</td>\n",
              "      <td>0</td>\n",
              "      <td>0</td>\n",
              "      <td>0</td>\n",
              "      <td>0</td>\n",
              "      <td>0</td>\n",
              "      <td>0</td>\n",
              "      <td>0</td>\n",
              "      <td>0</td>\n",
              "      <td>0</td>\n",
              "      <td>0</td>\n",
              "      <td>0</td>\n",
              "      <td>0</td>\n",
              "      <td>0</td>\n",
              "      <td>0</td>\n",
              "      <td>0</td>\n",
              "      <td>0</td>\n",
              "      <td>0</td>\n",
              "      <td>0</td>\n",
              "      <td>0</td>\n",
              "      <td>0</td>\n",
              "    </tr>\n",
              "    <tr>\n",
              "      <th>3</th>\n",
              "      <td>bt natarajan made mark yorkers xfxfxxc see pla...</td>\n",
              "      <td>0</td>\n",
              "      <td>0</td>\n",
              "      <td>0</td>\n",
              "      <td>0</td>\n",
              "      <td>0</td>\n",
              "      <td>0</td>\n",
              "      <td>0</td>\n",
              "      <td>0</td>\n",
              "      <td>0</td>\n",
              "      <td>0</td>\n",
              "      <td>0</td>\n",
              "      <td>0</td>\n",
              "      <td>0</td>\n",
              "      <td>0</td>\n",
              "      <td>0</td>\n",
              "      <td>0</td>\n",
              "      <td>0</td>\n",
              "      <td>0</td>\n",
              "      <td>0</td>\n",
              "      <td>0</td>\n",
              "      <td>0</td>\n",
              "      <td>0</td>\n",
              "      <td>0</td>\n",
              "      <td>0</td>\n",
              "    </tr>\n",
              "    <tr>\n",
              "      <th>4</th>\n",
              "      <td>b marcus stoinis warning check</td>\n",
              "      <td>0</td>\n",
              "      <td>0</td>\n",
              "      <td>0</td>\n",
              "      <td>0</td>\n",
              "      <td>0</td>\n",
              "      <td>0</td>\n",
              "      <td>0</td>\n",
              "      <td>0</td>\n",
              "      <td>0</td>\n",
              "      <td>0</td>\n",
              "      <td>0</td>\n",
              "      <td>0</td>\n",
              "      <td>0</td>\n",
              "      <td>0</td>\n",
              "      <td>0</td>\n",
              "      <td>0</td>\n",
              "      <td>0</td>\n",
              "      <td>0</td>\n",
              "      <td>0</td>\n",
              "      <td>0</td>\n",
              "      <td>0</td>\n",
              "      <td>0</td>\n",
              "      <td>0</td>\n",
              "      <td>0</td>\n",
              "    </tr>\n",
              "    <tr>\n",
              "      <th>...</th>\n",
              "      <td>...</td>\n",
              "      <td>...</td>\n",
              "      <td>...</td>\n",
              "      <td>...</td>\n",
              "      <td>...</td>\n",
              "      <td>...</td>\n",
              "      <td>...</td>\n",
              "      <td>...</td>\n",
              "      <td>...</td>\n",
              "      <td>...</td>\n",
              "      <td>...</td>\n",
              "      <td>...</td>\n",
              "      <td>...</td>\n",
              "      <td>...</td>\n",
              "      <td>...</td>\n",
              "      <td>...</td>\n",
              "      <td>...</td>\n",
              "      <td>...</td>\n",
              "      <td>...</td>\n",
              "      <td>...</td>\n",
              "      <td>...</td>\n",
              "      <td>...</td>\n",
              "      <td>...</td>\n",
              "      <td>...</td>\n",
              "      <td>...</td>\n",
              "    </tr>\n",
              "    <tr>\n",
              "      <th>995</th>\n",
              "      <td>bcongratulations entering final first time kee...</td>\n",
              "      <td>0</td>\n",
              "      <td>0</td>\n",
              "      <td>0</td>\n",
              "      <td>0</td>\n",
              "      <td>0</td>\n",
              "      <td>0</td>\n",
              "      <td>0</td>\n",
              "      <td>0</td>\n",
              "      <td>0</td>\n",
              "      <td>0</td>\n",
              "      <td>0</td>\n",
              "      <td>0</td>\n",
              "      <td>0</td>\n",
              "      <td>0</td>\n",
              "      <td>0</td>\n",
              "      <td>0</td>\n",
              "      <td>0</td>\n",
              "      <td>0</td>\n",
              "      <td>0</td>\n",
              "      <td>0</td>\n",
              "      <td>0</td>\n",
              "      <td>0</td>\n",
              "      <td>0</td>\n",
              "      <td>0</td>\n",
              "    </tr>\n",
              "    <tr>\n",
              "      <th>996</th>\n",
              "      <td>bwell played ur fight back frm ending rd place...</td>\n",
              "      <td>0</td>\n",
              "      <td>0</td>\n",
              "      <td>0</td>\n",
              "      <td>0</td>\n",
              "      <td>0</td>\n",
              "      <td>0</td>\n",
              "      <td>0</td>\n",
              "      <td>0</td>\n",
              "      <td>0</td>\n",
              "      <td>0</td>\n",
              "      <td>0</td>\n",
              "      <td>0</td>\n",
              "      <td>0</td>\n",
              "      <td>0</td>\n",
              "      <td>0</td>\n",
              "      <td>0</td>\n",
              "      <td>0</td>\n",
              "      <td>0</td>\n",
              "      <td>0</td>\n",
              "      <td>0</td>\n",
              "      <td>0</td>\n",
              "      <td>0</td>\n",
              "      <td>0</td>\n",
              "      <td>0</td>\n",
              "    </tr>\n",
              "    <tr>\n",
              "      <th>997</th>\n",
              "      <td>bshikhar dhawan would take another former team...</td>\n",
              "      <td>0</td>\n",
              "      <td>0</td>\n",
              "      <td>0</td>\n",
              "      <td>0</td>\n",
              "      <td>0</td>\n",
              "      <td>0</td>\n",
              "      <td>0</td>\n",
              "      <td>0</td>\n",
              "      <td>0</td>\n",
              "      <td>0</td>\n",
              "      <td>0</td>\n",
              "      <td>0</td>\n",
              "      <td>0</td>\n",
              "      <td>0</td>\n",
              "      <td>0</td>\n",
              "      <td>0</td>\n",
              "      <td>0</td>\n",
              "      <td>0</td>\n",
              "      <td>0</td>\n",
              "      <td>0</td>\n",
              "      <td>0</td>\n",
              "      <td>0</td>\n",
              "      <td>0</td>\n",
              "      <td>0</td>\n",
              "    </tr>\n",
              "    <tr>\n",
              "      <th>998</th>\n",
              "      <td>bif winning heart art kane williamson artistxe...</td>\n",
              "      <td>0</td>\n",
              "      <td>0</td>\n",
              "      <td>0</td>\n",
              "      <td>0</td>\n",
              "      <td>0</td>\n",
              "      <td>0</td>\n",
              "      <td>0</td>\n",
              "      <td>0</td>\n",
              "      <td>0</td>\n",
              "      <td>0</td>\n",
              "      <td>0</td>\n",
              "      <td>0</td>\n",
              "      <td>0</td>\n",
              "      <td>0</td>\n",
              "      <td>0</td>\n",
              "      <td>0</td>\n",
              "      <td>0</td>\n",
              "      <td>0</td>\n",
              "      <td>0</td>\n",
              "      <td>0</td>\n",
              "      <td>0</td>\n",
              "      <td>0</td>\n",
              "      <td>0</td>\n",
              "      <td>0</td>\n",
              "    </tr>\n",
              "    <tr>\n",
              "      <th>999</th>\n",
              "      <td>bo dilli tu roar macha xfxfxaxxfxfxx made first</td>\n",
              "      <td>0</td>\n",
              "      <td>0</td>\n",
              "      <td>0</td>\n",
              "      <td>0</td>\n",
              "      <td>0</td>\n",
              "      <td>0</td>\n",
              "      <td>0</td>\n",
              "      <td>0</td>\n",
              "      <td>0</td>\n",
              "      <td>0</td>\n",
              "      <td>0</td>\n",
              "      <td>0</td>\n",
              "      <td>0</td>\n",
              "      <td>0</td>\n",
              "      <td>0</td>\n",
              "      <td>0</td>\n",
              "      <td>0</td>\n",
              "      <td>0</td>\n",
              "      <td>0</td>\n",
              "      <td>0</td>\n",
              "      <td>0</td>\n",
              "      <td>0</td>\n",
              "      <td>0</td>\n",
              "      <td>0</td>\n",
              "    </tr>\n",
              "  </tbody>\n",
              "</table>\n",
              "<p>1000 rows × 25 columns</p>\n",
              "</div>"
            ],
            "text/plain": [
              "                                           refine_text  count1  ...  RCB  SRH\n",
              "0    blook youngster priyam garg kane williamson ma...       0  ...    0    0\n",
              "1                bthis mrxcxb dangerous animal cricket       0  ...    0    0\n",
              "2    bgreat thing happen dont stop believing trying...       0  ...    0    0\n",
              "3    bt natarajan made mark yorkers xfxfxxc see pla...       0  ...    0    0\n",
              "4                       b marcus stoinis warning check       0  ...    0    0\n",
              "..                                                 ...     ...  ...  ...  ...\n",
              "995  bcongratulations entering final first time kee...       0  ...    0    0\n",
              "996  bwell played ur fight back frm ending rd place...       0  ...    0    0\n",
              "997  bshikhar dhawan would take another former team...       0  ...    0    0\n",
              "998  bif winning heart art kane williamson artistxe...       0  ...    0    0\n",
              "999    bo dilli tu roar macha xfxfxaxxfxfxx made first       0  ...    0    0\n",
              "\n",
              "[1000 rows x 25 columns]"
            ]
          },
          "metadata": {
            "tags": []
          },
          "execution_count": 199
        }
      ]
    },
    {
      "cell_type": "code",
      "metadata": {
        "id": "6qGDUXwAnTbM"
      },
      "source": [
        "#dropping the previous count coloumns to clean the dataframe\n",
        "data1=data.drop(['count1', 'count11','count2','count22','count3','count33','count4','count44','count5','count55','count6','count66','count7','count77','count8','count88'], axis=1)"
      ],
      "execution_count": 200,
      "outputs": []
    },
    {
      "cell_type": "code",
      "metadata": {
        "id": "5MK641dMnxbd"
      },
      "source": [
        "#aggrigating the total mentions team wise and saving the results to a dictionary\n",
        "dict = data1.sum(axis = 0, skipna = True)"
      ],
      "execution_count": 201,
      "outputs": []
    },
    {
      "cell_type": "code",
      "metadata": {
        "id": "oObZVTkHnxeJ",
        "colab": {
          "base_uri": "https://localhost:8080/"
        },
        "outputId": "22701684-ebac-4d83-f131-8ad1f343c517"
      },
      "source": [
        "dict"
      ],
      "execution_count": 202,
      "outputs": [
        {
          "output_type": "execute_result",
          "data": {
            "text/plain": [
              "refine_text    blook youngster priyam garg kane williamson ma...\n",
              "csk                                                           53\n",
              "DC                                                           261\n",
              "KXIP                                                          23\n",
              "KKR                                                           19\n",
              "MI                                                           296\n",
              "RR                                                            76\n",
              "RCB                                                           69\n",
              "SRH                                                           97\n",
              "dtype: object"
            ]
          },
          "metadata": {
            "tags": []
          },
          "execution_count": 202
        }
      ]
    },
    {
      "cell_type": "code",
      "metadata": {
        "id": "k2H6xRznnxhw",
        "colab": {
          "base_uri": "https://localhost:8080/"
        },
        "outputId": "348d3f20-7c65-4170-ccf6-11651820a5e3"
      },
      "source": [
        "#saving the values to an array to use the results to plot\n",
        "y= dict.values\n",
        "z =np.delete(y, 0, 0)\n",
        "z.tolist()\n"
      ],
      "execution_count": 204,
      "outputs": [
        {
          "output_type": "execute_result",
          "data": {
            "text/plain": [
              "[53, 261, 23, 19, 296, 76, 69, 97]"
            ]
          },
          "metadata": {
            "tags": []
          },
          "execution_count": 204
        }
      ]
    },
    {
      "cell_type": "code",
      "metadata": {
        "id": "-E6F4RPQoH9b",
        "colab": {
          "base_uri": "https://localhost:8080/",
          "height": 336
        },
        "outputId": "472d4902-f01e-47fc-9bac-de7d2f0c4648"
      },
      "source": [
        "#plotting the results\n",
        "fig = plt.figure()\n",
        "ax = fig.add_axes([0,0,1,1])\n",
        "q = [\"CSK\" ,\"DC\",\"KXIP\", \"KKR\",\"MI\",\"RR\",\"RCB\",\"SRH\"]\n",
        "ax.bar(q,z)\n",
        "plt.show()"
      ],
      "execution_count": 206,
      "outputs": [
        {
          "output_type": "display_data",
          "data": {
            "image/png": "[encoded data removed]",
            "text/plain": [
              "<Figure size 432x288 with 1 Axes>"
            ]
          },
          "metadata": {
            "tags": [],
            "needs_background": "light"
          }
        }
      ]
    },
    {
      "cell_type": "code",
      "metadata": {
        "id": "RMETrzwHTFKW",
        "colab": {
          "base_uri": "https://localhost:8080/",
          "height": 510
        },
        "outputId": "7e9f3295-9062-4c9e-a5d5-a90929651fda"
      },
      "source": [
        "#Importing the packages\n",
        "import pandas as pd\n",
        "import matplotlib.pyplot as plt\n",
        "from wordcloud import WordCloud\n",
        "from nltk.corpus import stopwords\n",
        "from textblob import TextBlob\n",
        "import numpy as np\n",
        "from nltk.sentiment.vader import SentimentIntensityAnalyzer\n",
        "import nltk\n",
        "nltk.download('stopwords')\n",
        "\n",
        "\n",
        "#Building a word cloud:\n",
        "words = pd.Series(tweets[\"refine_text\"].tolist()).astype(str)\n",
        "\n",
        "stop_words = [\"https\", \"co\", \"rt\"]\n",
        "stop = set(stopwords.words('english'))\n",
        "\n",
        "for i in range(0, len(words)):\n",
        "    words[i] = \" \".join([x for x in words[i].lower().split() if x not in stop_words])\n",
        "    words[i] = \" \".join([x for x in words[i].lower().split() if x not in stop])\n",
        "\n",
        "stop = set(stopwords.words('english'))    \n",
        "cloud = WordCloud(width=500, height=400,\n",
        "                  stopwords=(stop), \n",
        "                  colormap='hsv').generate(''.join(words.astype(str)))\n",
        "plt.figure(figsize=(10, 10))\n",
        "plt.imshow(cloud)\n",
        "plt.axis('off')\n",
        "plt.show()"
      ],
      "execution_count": 207,
      "outputs": [
        {
          "output_type": "stream",
          "text": [
            "[nltk_data] Downloading package stopwords to /root/nltk_data...\n",
            "[nltk_data]   Package stopwords is already up-to-date!\n"
          ],
          "name": "stdout"
        },
        {
          "output_type": "display_data",
          "data": {
            "image/png": "[encoded data removed]",
            "text/plain": [
              "<Figure size 720x720 with 1 Axes>"
            ]
          },
          "metadata": {
            "tags": [],
            "needs_background": "light"
          }
        }
      ]
    },
    {
      "cell_type": "code",
      "metadata": {
        "id": "x-t1-HYfaq3_"
      },
      "source": [
        "\n",
        "import numpy as np \n",
        "import pandas as pd \n",
        "import os\n",
        "import itertools\n",
        "\n",
        "#plots\n",
        "import matplotlib.pyplot as plt\n",
        "import plotly.express as px\n",
        "import plotly.graph_objects as go\n",
        "import plotly.figure_factory as ff\n",
        "from plotly.colors import n_colors\n",
        "from plotly.subplots import make_subplots\n",
        "\n",
        "from wordcloud import WordCloud, STOPWORDS, ImageColorGenerator\n",
        "from sklearn.feature_extraction.text import CountVectorizer\n",
        "\n",
        "from PIL import Image\n",
        "from nltk.corpus import stopwords\n",
        "stop=set(stopwords.words('english'))\n",
        "from nltk.util import ngrams\n",
        "\n",
        "\n",
        "\n",
        "def ngram_df(corpus,nrange,n=None):\n",
        "    vec = CountVectorizer(stop_words = 'english',ngram_range=nrange).fit(corpus)\n",
        "    bag_of_words = vec.transform(corpus)\n",
        "    sum_words = bag_of_words.sum(axis=0) \n",
        "    words_freq = [(word, sum_words[0, idx]) for word, idx in vec.vocabulary_.items()]\n",
        "    words_freq =sorted(words_freq, key = lambda x: x[1], reverse=True)\n",
        "    total_list=words_freq[:n]\n",
        "    df=pd.DataFrame(total_list,columns=['text','count'])\n",
        "    return df\n",
        "unigram_df=ngram_df(tweets['refine_text'],(1,1),20)\n",
        "bigram_df=ngram_df(tweets['refine_text'],(2,2),20)\n",
        "trigram_df=ngram_df(tweets['refine_text'],(3,3),20)"
      ],
      "execution_count": 208,
      "outputs": []
    },
    {
      "cell_type": "code",
      "metadata": {
        "id": "-dnRWhxwbhrM",
        "colab": {
          "base_uri": "https://localhost:8080/",
          "height": 1000
        },
        "outputId": "d26e58dd-824e-41ec-f4d6-409fe286a73d"
      },
      "source": [
        "bigram_df=ngram_df(tweets['refine_text'],(2,2),20)\n",
        "trigram_df=ngram_df(tweets['refine_text'],(3,3),20)\n",
        "fig = make_subplots(\n",
        "    rows=3, cols=1,subplot_titles=(\"Unigram\",\"Bigram\",'Trigram'),\n",
        "    specs=[[{\"type\": \"scatter\"}],\n",
        "           [{\"type\": \"scatter\"}],\n",
        "           [{\"type\": \"scatter\"}]\n",
        "          ])\n",
        "\n",
        "fig.add_trace(go.Bar(\n",
        "    y=unigram_df['text'][::-1],\n",
        "    x=unigram_df['count'][::-1],\n",
        "    marker={'color': \"blue\"},  \n",
        "    text=unigram_df['count'],\n",
        "    textposition = \"outside\",\n",
        "    orientation=\"h\",\n",
        "    name=\"Months\",\n",
        "),row=1,col=1)\n",
        "\n",
        "fig.add_trace(go.Bar(\n",
        "    y=bigram_df['text'][::-1],\n",
        "    x=bigram_df['count'][::-1],\n",
        "    marker={'color': \"blue\"},  \n",
        "    text=bigram_df['count'],\n",
        "     name=\"Days\",\n",
        "    textposition = \"outside\",\n",
        "    orientation=\"h\",\n",
        "),row=2,col=1)\n",
        "\n",
        "fig.add_trace(go.Bar(\n",
        "    y=trigram_df['text'][::-1],\n",
        "    x=trigram_df['count'][::-1],\n",
        "    marker={'color': \"blue\"},  \n",
        "    text=trigram_df['count'],\n",
        "     name=\"Days\",\n",
        "    orientation=\"h\",\n",
        "    textposition = \"outside\",\n",
        "),row=3,col=1)\n",
        "\n",
        "fig.update_xaxes(showline=True, linewidth=2, linecolor='black', mirror=True)\n",
        "fig.update_yaxes(showline=True, linewidth=2, linecolor='black', mirror=True)\n",
        "fig.update_layout(title_text='Top N Grams',xaxis_title=\" \",yaxis_title=\" \",\n",
        "                  showlegend=False,title_x=0.5,height=1200,template=\"plotly_dark\")\n",
        "fig.show()"
      ],
      "execution_count": 209,
      "outputs": [
        {
          "output_type": "display_data",
          "data": {
            "text/html": [
              "<html>\n",
              "<head><meta charset=\"utf-8\" /></head>\n",
              "<body>\n",
              "    <div>\n",
              "            <script src=\"https://cdnjs.cloudflare.com/ajax/libs/mathjax/2.7.5/MathJax.js?config=TeX-AMS-MML_SVG\"></script><script type=\"text/javascript\">if (window.MathJax) {MathJax.Hub.Config({SVG: {font: \"STIX-Web\"}});}</script>\n",
              "                <script type=\"text/javascript\">window.PlotlyConfig = {MathJaxConfig: 'local'};</script>\n",
              "        <script src=\"https://cdn.plot.ly/plotly-latest.min.js\"></script>    \n",
              "            <div id=\"d5bc1f76-bcde-4d88-91e5-2ae1aedafbc4\" class=\"plotly-graph-div\" style=\"height:1200px; width:100%;\"></div>\n",
              "            <script type=\"text/javascript\">\n",
              "                \n",
              "                    window.PLOTLYENV=window.PLOTLYENV || {};\n",
              "                    \n",
              "                if (document.getElementById(\"d5bc1f76-bcde-4d88-91e5-2ae1aedafbc4\")) {\n",
              "                    Plotly.newPlot(\n",
              "                        'd5bc1f76-bcde-4d88-91e5-2ae1aedafbc4',\n",
              "                        [{\"marker\": {\"color\": \"blue\"}, \"name\": \"Months\", \"orientation\": \"h\", \"text\": [164.0, 150.0, 136.0, 121.0, 107.0, 104.0, 92.0, 81.0, 77.0, 70.0, 67.0, 65.0, 63.0, 59.0, 59.0, 58.0, 57.0, 55.0, 52.0, 50.0], \"textposition\": \"outside\", \"type\": \"bar\", \"x\": [50, 52, 55, 57, 58, 59, 59, 63, 65, 67, 70, 77, 81, 92, 104, 107, 121, 136, 150, 164], \"xaxis\": \"x\", \"y\": [\"csk\", \"mumbai\", \"best\", \"player\", \"year\", \"run\", \"played\", \"rcb\", \"srh\", \"season\", \"indian\", \"match\", \"capital\", \"mi\", \"dc\", \"time\", \"delhi\", \"win\", \"final\", \"team\"], \"yaxis\": \"y\"}, {\"marker\": {\"color\": \"blue\"}, \"name\": \"Days\", \"orientation\": \"h\", \"text\": [60.0, 32.0, 27.0, 20.0, 15.0, 14.0, 13.0, 13.0, 13.0, 12.0, 12.0, 11.0, 11.0, 11.0, 11.0, 11.0, 10.0, 10.0, 10.0, 10.0], \"textposition\": \"outside\", \"type\": \"bar\", \"x\": [10, 10, 10, 10, 11, 11, 11, 11, 11, 12, 12, 13, 13, 13, 14, 15, 20, 27, 32, 60], \"xaxis\": \"x2\", \"y\": [\"bdelhi capital\", \"purple cap\", \"kxip rr\", \"final csk\", \"csk mi\", \"final team\", \"indian win\", \"bmumbai indian\", \"kl rahul\", \"bwho win\", \"sunrisers hyderabad\", \"bwell played\", \"shreyas iyer\", \"mi dc\", \"mi rcb\", \"marcus stoinis\", \"rcb released\", \"kane williamson\", \"mumbai indian\", \"delhi capital\"], \"yaxis\": \"y2\"}, {\"marker\": {\"color\": \"blue\"}, \"name\": \"Days\", \"orientation\": \"h\", \"text\": [9.0, 8.0, 8.0, 8.0, 8.0, 8.0, 8.0, 8.0, 8.0, 8.0, 8.0, 8.0, 8.0, 7.0, 7.0, 7.0, 7.0, 6.0, 6.0, 6.0], \"textposition\": \"outside\", \"type\": \"bar\", \"x\": [6, 6, 6, 7, 7, 7, 7, 8, 8, 8, 8, 8, 8, 8, 8, 8, 8, 8, 8, 9], \"xaxis\": \"x3\", \"y\": [\"csk rcb released\", \"final csk rcb\", \"watson final csk\", \"stoinis hetmyer final\", \"rcb released stoinis\", \"released watson final\", \"rcb released watson\", \"rr rps delhi\", \"kxip rr rps\", \"deccan kxip rr\", \"srh deccan kxip\", \"kkr srh deccan\", \"rcb kkr srh\", \"mi rcb kkr\", \"csk mi rcb\", \"team csk mi\", \"final team csk\", \"indian delhi capital\", \"released stoinis hetmyer\", \"bno final team\"], \"yaxis\": \"y3\"}],\n",
              "                        {\"annotations\": [{\"font\": {\"size\": 16}, \"showarrow\": false, \"text\": \"Unigram\", \"x\": 0.5, \"xanchor\": \"center\", \"xref\": \"paper\", \"y\": 1.0, \"yanchor\": \"bottom\", \"yref\": \"paper\"}, {\"font\": {\"size\": 16}, \"showarrow\": false, \"text\": \"Bigram\", \"x\": 0.5, \"xanchor\": \"center\", \"xref\": \"paper\", \"y\": 0.6111111111111112, \"yanchor\": \"bottom\", \"yref\": \"paper\"}, {\"font\": {\"size\": 16}, \"showarrow\": false, \"text\": \"Trigram\", \"x\": 0.5, \"xanchor\": \"center\", \"xref\": \"paper\", \"y\": 0.22222222222222224, \"yanchor\": \"bottom\", \"yref\": \"paper\"}], \"height\": 1200, \"showlegend\": false, \"template\": {\"data\": {\"bar\": [{\"error_x\": {\"color\": \"#f2f5fa\"}, \"error_y\": {\"color\": \"#f2f5fa\"}, \"marker\": {\"line\": {\"color\": \"rgb(17,17,17)\", \"width\": 0.5}}, \"type\": \"bar\"}], \"barpolar\": [{\"marker\": {\"line\": {\"color\": \"rgb(17,17,17)\", \"width\": 0.5}}, \"type\": \"barpolar\"}], \"carpet\": [{\"aaxis\": {\"endlinecolor\": \"#A2B1C6\", \"gridcolor\": \"#506784\", \"linecolor\": \"#506784\", \"minorgridcolor\": \"#506784\", \"startlinecolor\": \"#A2B1C6\"}, \"baxis\": {\"endlinecolor\": \"#A2B1C6\", \"gridcolor\": \"#506784\", \"linecolor\": \"#506784\", \"minorgridcolor\": \"#506784\", \"startlinecolor\": \"#A2B1C6\"}, \"type\": \"carpet\"}], \"choropleth\": [{\"colorbar\": {\"outlinewidth\": 0, \"ticks\": \"\"}, \"type\": \"choropleth\"}], \"contour\": [{\"colorbar\": {\"outlinewidth\": 0, \"ticks\": \"\"}, \"colorscale\": [[0.0, \"#0d0887\"], [0.1111111111111111, \"#46039f\"], [0.2222222222222222, \"#7201a8\"], [0.3333333333333333, \"#9c179e\"], [0.4444444444444444, \"#bd3786\"], [0.5555555555555556, \"#d8576b\"], [0.6666666666666666, \"#ed7953\"], [0.7777777777777778, \"#fb9f3a\"], [0.8888888888888888, \"#fdca26\"], [1.0, \"#f0f921\"]], \"type\": \"contour\"}], \"contourcarpet\": [{\"colorbar\": {\"outlinewidth\": 0, \"ticks\": \"\"}, \"type\": \"contourcarpet\"}], \"heatmap\": [{\"colorbar\": {\"outlinewidth\": 0, \"ticks\": \"\"}, \"colorscale\": [[0.0, \"#0d0887\"], [0.1111111111111111, \"#46039f\"], [0.2222222222222222, \"#7201a8\"], [0.3333333333333333, \"#9c179e\"], [0.4444444444444444, \"#bd3786\"], [0.5555555555555556, \"#d8576b\"], [0.6666666666666666, \"#ed7953\"], [0.7777777777777778, \"#fb9f3a\"], [0.8888888888888888, \"#fdca26\"], [1.0, \"#f0f921\"]], \"type\": \"heatmap\"}], \"heatmapgl\": [{\"colorbar\": {\"outlinewidth\": 0, \"ticks\": \"\"}, \"colorscale\": [[0.0, \"#0d0887\"], [0.1111111111111111, \"#46039f\"], [0.2222222222222222, \"#7201a8\"], [0.3333333333333333, \"#9c179e\"], [0.4444444444444444, \"#bd3786\"], [0.5555555555555556, \"#d8576b\"], [0.6666666666666666, \"#ed7953\"], [0.7777777777777778, \"#fb9f3a\"], [0.8888888888888888, \"#fdca26\"], [1.0, \"#f0f921\"]], \"type\": \"heatmapgl\"}], \"histogram\": [{\"marker\": {\"colorbar\": {\"outlinewidth\": 0, \"ticks\": \"\"}}, \"type\": \"histogram\"}], \"histogram2d\": [{\"colorbar\": {\"outlinewidth\": 0, \"ticks\": \"\"}, \"colorscale\": [[0.0, \"#0d0887\"], [0.1111111111111111, \"#46039f\"], [0.2222222222222222, \"#7201a8\"], [0.3333333333333333, \"#9c179e\"], [0.4444444444444444, \"#bd3786\"], [0.5555555555555556, \"#d8576b\"], [0.6666666666666666, \"#ed7953\"], [0.7777777777777778, \"#fb9f3a\"], [0.8888888888888888, \"#fdca26\"], [1.0, \"#f0f921\"]], \"type\": \"histogram2d\"}], \"histogram2dcontour\": [{\"colorbar\": {\"outlinewidth\": 0, \"ticks\": \"\"}, \"colorscale\": [[0.0, \"#0d0887\"], [0.1111111111111111, \"#46039f\"], [0.2222222222222222, \"#7201a8\"], [0.3333333333333333, \"#9c179e\"], [0.4444444444444444, \"#bd3786\"], [0.5555555555555556, \"#d8576b\"], [0.6666666666666666, \"#ed7953\"], [0.7777777777777778, \"#fb9f3a\"], [0.8888888888888888, \"#fdca26\"], [1.0, \"#f0f921\"]], \"type\": \"histogram2dcontour\"}], \"mesh3d\": [{\"colorbar\": {\"outlinewidth\": 0, \"ticks\": \"\"}, \"type\": \"mesh3d\"}], \"parcoords\": [{\"line\": {\"colorbar\": {\"outlinewidth\": 0, \"ticks\": \"\"}}, \"type\": \"parcoords\"}], \"pie\": [{\"automargin\": true, \"type\": \"pie\"}], \"scatter\": [{\"marker\": {\"line\": {\"color\": \"#283442\"}}, \"type\": \"scatter\"}], \"scatter3d\": [{\"line\": {\"colorbar\": {\"outlinewidth\": 0, \"ticks\": \"\"}}, \"marker\": {\"colorbar\": {\"outlinewidth\": 0, \"ticks\": \"\"}}, \"type\": \"scatter3d\"}], \"scattercarpet\": [{\"marker\": {\"colorbar\": {\"outlinewidth\": 0, \"ticks\": \"\"}}, \"type\": \"scattercarpet\"}], \"scattergeo\": [{\"marker\": {\"colorbar\": {\"outlinewidth\": 0, \"ticks\": \"\"}}, \"type\": \"scattergeo\"}], \"scattergl\": [{\"marker\": {\"line\": {\"color\": \"#283442\"}}, \"type\": \"scattergl\"}], \"scattermapbox\": [{\"marker\": {\"colorbar\": {\"outlinewidth\": 0, \"ticks\": \"\"}}, \"type\": \"scattermapbox\"}], \"scatterpolar\": [{\"marker\": {\"colorbar\": {\"outlinewidth\": 0, \"ticks\": \"\"}}, \"type\": \"scatterpolar\"}], \"scatterpolargl\": [{\"marker\": {\"colorbar\": {\"outlinewidth\": 0, \"ticks\": \"\"}}, \"type\": \"scatterpolargl\"}], \"scatterternary\": [{\"marker\": {\"colorbar\": {\"outlinewidth\": 0, \"ticks\": \"\"}}, \"type\": \"scatterternary\"}], \"surface\": [{\"colorbar\": {\"outlinewidth\": 0, \"ticks\": \"\"}, \"colorscale\": [[0.0, \"#0d0887\"], [0.1111111111111111, \"#46039f\"], [0.2222222222222222, \"#7201a8\"], [0.3333333333333333, \"#9c179e\"], [0.4444444444444444, \"#bd3786\"], [0.5555555555555556, \"#d8576b\"], [0.6666666666666666, \"#ed7953\"], [0.7777777777777778, \"#fb9f3a\"], [0.8888888888888888, \"#fdca26\"], [1.0, \"#f0f921\"]], \"type\": \"surface\"}], \"table\": [{\"cells\": {\"fill\": {\"color\": \"#506784\"}, \"line\": {\"color\": \"rgb(17,17,17)\"}}, \"header\": {\"fill\": {\"color\": \"#2a3f5f\"}, \"line\": {\"color\": \"rgb(17,17,17)\"}}, \"type\": \"table\"}]}, \"layout\": {\"annotationdefaults\": {\"arrowcolor\": \"#f2f5fa\", \"arrowhead\": 0, \"arrowwidth\": 1}, \"coloraxis\": {\"colorbar\": {\"outlinewidth\": 0, \"ticks\": \"\"}}, \"colorscale\": {\"diverging\": [[0, \"#8e0152\"], [0.1, \"#c51b7d\"], [0.2, \"#de77ae\"], [0.3, \"#f1b6da\"], [0.4, \"#fde0ef\"], [0.5, \"#f7f7f7\"], [0.6, \"#e6f5d0\"], [0.7, \"#b8e186\"], [0.8, \"#7fbc41\"], [0.9, \"#4d9221\"], [1, \"#276419\"]], \"sequential\": [[0.0, \"#0d0887\"], [0.1111111111111111, \"#46039f\"], [0.2222222222222222, \"#7201a8\"], [0.3333333333333333, \"#9c179e\"], [0.4444444444444444, \"#bd3786\"], [0.5555555555555556, \"#d8576b\"], [0.6666666666666666, \"#ed7953\"], [0.7777777777777778, \"#fb9f3a\"], [0.8888888888888888, \"#fdca26\"], [1.0, \"#f0f921\"]], \"sequentialminus\": [[0.0, \"#0d0887\"], [0.1111111111111111, \"#46039f\"], [0.2222222222222222, \"#7201a8\"], [0.3333333333333333, \"#9c179e\"], [0.4444444444444444, \"#bd3786\"], [0.5555555555555556, \"#d8576b\"], [0.6666666666666666, \"#ed7953\"], [0.7777777777777778, \"#fb9f3a\"], [0.8888888888888888, \"#fdca26\"], [1.0, \"#f0f921\"]]}, \"colorway\": [\"#636efa\", \"#EF553B\", \"#00cc96\", \"#ab63fa\", \"#FFA15A\", \"#19d3f3\", \"#FF6692\", \"#B6E880\", \"#FF97FF\", \"#FECB52\"], \"font\": {\"color\": \"#f2f5fa\"}, \"geo\": {\"bgcolor\": \"rgb(17,17,17)\", \"lakecolor\": \"rgb(17,17,17)\", \"landcolor\": \"rgb(17,17,17)\", \"showlakes\": true, \"showland\": true, \"subunitcolor\": \"#506784\"}, \"hoverlabel\": {\"align\": \"left\"}, \"hovermode\": \"closest\", \"mapbox\": {\"style\": \"dark\"}, \"paper_bgcolor\": \"rgb(17,17,17)\", \"plot_bgcolor\": \"rgb(17,17,17)\", \"polar\": {\"angularaxis\": {\"gridcolor\": \"#506784\", \"linecolor\": \"#506784\", \"ticks\": \"\"}, \"bgcolor\": \"rgb(17,17,17)\", \"radialaxis\": {\"gridcolor\": \"#506784\", \"linecolor\": \"#506784\", \"ticks\": \"\"}}, \"scene\": {\"xaxis\": {\"backgroundcolor\": \"rgb(17,17,17)\", \"gridcolor\": \"#506784\", \"gridwidth\": 2, \"linecolor\": \"#506784\", \"showbackground\": true, \"ticks\": \"\", \"zerolinecolor\": \"#C8D4E3\"}, \"yaxis\": {\"backgroundcolor\": \"rgb(17,17,17)\", \"gridcolor\": \"#506784\", \"gridwidth\": 2, \"linecolor\": \"#506784\", \"showbackground\": true, \"ticks\": \"\", \"zerolinecolor\": \"#C8D4E3\"}, \"zaxis\": {\"backgroundcolor\": \"rgb(17,17,17)\", \"gridcolor\": \"#506784\", \"gridwidth\": 2, \"linecolor\": \"#506784\", \"showbackground\": true, \"ticks\": \"\", \"zerolinecolor\": \"#C8D4E3\"}}, \"shapedefaults\": {\"line\": {\"color\": \"#f2f5fa\"}}, \"sliderdefaults\": {\"bgcolor\": \"#C8D4E3\", \"bordercolor\": \"rgb(17,17,17)\", \"borderwidth\": 1, \"tickwidth\": 0}, \"ternary\": {\"aaxis\": {\"gridcolor\": \"#506784\", \"linecolor\": \"#506784\", \"ticks\": \"\"}, \"baxis\": {\"gridcolor\": \"#506784\", \"linecolor\": \"#506784\", \"ticks\": \"\"}, \"bgcolor\": \"rgb(17,17,17)\", \"caxis\": {\"gridcolor\": \"#506784\", \"linecolor\": \"#506784\", \"ticks\": \"\"}}, \"title\": {\"x\": 0.05}, \"updatemenudefaults\": {\"bgcolor\": \"#506784\", \"borderwidth\": 0}, \"xaxis\": {\"automargin\": true, \"gridcolor\": \"#283442\", \"linecolor\": \"#506784\", \"ticks\": \"\", \"title\": {\"standoff\": 15}, \"zerolinecolor\": \"#283442\", \"zerolinewidth\": 2}, \"yaxis\": {\"automargin\": true, \"gridcolor\": \"#283442\", \"linecolor\": \"#506784\", \"ticks\": \"\", \"title\": {\"standoff\": 15}, \"zerolinecolor\": \"#283442\", \"zerolinewidth\": 2}}}, \"title\": {\"text\": \"Top N Grams\", \"x\": 0.5}, \"xaxis\": {\"anchor\": \"y\", \"domain\": [0.0, 1.0], \"linecolor\": \"black\", \"linewidth\": 2, \"mirror\": true, \"showline\": true, \"title\": {\"text\": \" \"}}, \"xaxis2\": {\"anchor\": \"y2\", \"domain\": [0.0, 1.0], \"linecolor\": \"black\", \"linewidth\": 2, \"mirror\": true, \"showline\": true}, \"xaxis3\": {\"anchor\": \"y3\", \"domain\": [0.0, 1.0], \"linecolor\": \"black\", \"linewidth\": 2, \"mirror\": true, \"showline\": true}, \"yaxis\": {\"anchor\": \"x\", \"domain\": [0.7777777777777778, 1.0], \"linecolor\": \"black\", \"linewidth\": 2, \"mirror\": true, \"showline\": true, \"title\": {\"text\": \" \"}}, \"yaxis2\": {\"anchor\": \"x2\", \"domain\": [0.3888888888888889, 0.6111111111111112], \"linecolor\": \"black\", \"linewidth\": 2, \"mirror\": true, \"showline\": true}, \"yaxis3\": {\"anchor\": \"x3\", \"domain\": [0.0, 0.22222222222222224], \"linecolor\": \"black\", \"linewidth\": 2, \"mirror\": true, \"showline\": true}},\n",
              "                        {\"responsive\": true}\n",
              "                    ).then(function(){\n",
              "                            \n",
              "var gd = document.getElementById('d5bc1f76-bcde-4d88-91e5-2ae1aedafbc4');\n",
              "var x = new MutationObserver(function (mutations, observer) {{\n",
              "        var display = window.getComputedStyle(gd).display;\n",
              "        if (!display || display === 'none') {{\n",
              "            console.log([gd, 'removed!']);\n",
              "            Plotly.purge(gd);\n",
              "            observer.disconnect();\n",
              "        }}\n",
              "}});\n",
              "\n",
              "// Listen for the removal of the full notebook cells\n",
              "var notebookContainer = gd.closest('#notebook-container');\n",
              "if (notebookContainer) {{\n",
              "    x.observe(notebookContainer, {childList: true});\n",
              "}}\n",
              "\n",
              "// Listen for the clearing of the current output cell\n",
              "var outputEl = gd.closest('.output');\n",
              "if (outputEl) {{\n",
              "    x.observe(outputEl, {childList: true});\n",
              "}}\n",
              "\n",
              "                        })\n",
              "                };\n",
              "                \n",
              "            </script>\n",
              "        </div>\n",
              "</body>\n",
              "</html>"
            ]
          },
          "metadata": {
            "tags": []
          }
        }
      ]
    },
    {
      "cell_type": "code",
      "metadata": {
        "id": "pOyAG35og3Pa",
        "colab": {
          "base_uri": "https://localhost:8080/",
          "height": 568
        },
        "outputId": "5f429073-7ae3-4f6c-edf5-dc5a3221503e"
      },
      "source": [
        "#sentimmental Analysis\n",
        "from nltk.sentiment.vader import SentimentIntensityAnalyzer\n",
        "from nltk.sentiment.util import *\n",
        "\n",
        "from nltk import tokenize\n",
        "import nltk\n",
        "nltk.download('vader_lexicon')\n",
        "\n",
        "sid = SentimentIntensityAnalyzer()\n",
        "\n",
        "tweets['sentiment_compound_polarity']=tweets.refine_text.apply(lambda x:sid.polarity_scores(x)['compound'])\n",
        "tweets['sentiment_neutral']=tweets.refine_text.apply(lambda x:sid.polarity_scores(x)['neu'])\n",
        "tweets['sentiment_negative']=tweets.refine_text.apply(lambda x:sid.polarity_scores(x)['neg'])\n",
        "tweets['sentiment_pos']=tweets.refine_text.apply(lambda x:sid.polarity_scores(x)['pos'])\n",
        "tweets['sentiment_type']=''\n",
        "tweets.loc[tweets.sentiment_compound_polarity>0,'sentiment_type']='POSITIVE'\n",
        "tweets.loc[tweets.sentiment_compound_polarity==0,'sentiment_type']='NEUTRAL'\n",
        "tweets.loc[tweets.sentiment_compound_polarity<0,'sentiment_type']='NEGATIVE'\n",
        "tweets.head()"
      ],
      "execution_count": 210,
      "outputs": [
        {
          "output_type": "stream",
          "text": [
            "[nltk_data] Downloading package vader_lexicon to /root/nltk_data...\n",
            "[nltk_data]   Package vader_lexicon is already up-to-date!\n"
          ],
          "name": "stdout"
        },
        {
          "output_type": "execute_result",
          "data": {
            "text/html": [
              "<div>\n",
              "<style scoped>\n",
              "    .dataframe tbody tr th:only-of-type {\n",
              "        vertical-align: middle;\n",
              "    }\n",
              "\n",
              "    .dataframe tbody tr th {\n",
              "        vertical-align: top;\n",
              "    }\n",
              "\n",
              "    .dataframe thead th {\n",
              "        text-align: right;\n",
              "    }\n",
              "</style>\n",
              "<table border=\"1\" class=\"dataframe\">\n",
              "  <thead>\n",
              "    <tr style=\"text-align: right;\">\n",
              "      <th></th>\n",
              "      <th>created</th>\n",
              "      <th>tweet_text</th>\n",
              "      <th>username</th>\n",
              "      <th>all_hashtags</th>\n",
              "      <th>refine_text</th>\n",
              "      <th>text_length</th>\n",
              "      <th>sentiment_compound_polarity</th>\n",
              "      <th>sentiment_neutral</th>\n",
              "      <th>sentiment_negative</th>\n",
              "      <th>sentiment_pos</th>\n",
              "      <th>sentiment_type</th>\n",
              "      <th>hour</th>\n",
              "      <th>date</th>\n",
              "      <th>minute</th>\n",
              "    </tr>\n",
              "  </thead>\n",
              "  <tbody>\n",
              "    <tr>\n",
              "      <th>0</th>\n",
              "      <td>2020-11-09 04:49:21</td>\n",
              "      <td>b'Look at #SRH youngster Priyam Garg after Kan...</td>\n",
              "      <td>b'SteadyTheShip'</td>\n",
              "      <td>['SRH', 'SRHvDC', 'DCvSRH', 'IPL2020']</td>\n",
              "      <td>blook youngster priyam garg kane williamson ma...</td>\n",
              "      <td>40</td>\n",
              "      <td>0.6969</td>\n",
              "      <td>0.720</td>\n",
              "      <td>0.062</td>\n",
              "      <td>0.218</td>\n",
              "      <td>POSITIVE</td>\n",
              "      <td>4</td>\n",
              "      <td>2020-11-09</td>\n",
              "      <td>49</td>\n",
              "    </tr>\n",
              "    <tr>\n",
              "      <th>1</th>\n",
              "      <td>2020-11-09 04:49:16</td>\n",
              "      <td>b'This is Mr.360\\xc2\\xb0 @ABdeVilliers17 . Mos...</td>\n",
              "      <td>b'imsapien'</td>\n",
              "      <td>['Cricket', 'IPL2020', 'Eliminater', 'IPLQuali...</td>\n",
              "      <td>bthis mrxcxb dangerous animal cricket</td>\n",
              "      <td>9</td>\n",
              "      <td>-0.4767</td>\n",
              "      <td>0.563</td>\n",
              "      <td>0.437</td>\n",
              "      <td>0.000</td>\n",
              "      <td>NEGATIVE</td>\n",
              "      <td>4</td>\n",
              "      <td>2020-11-09</td>\n",
              "      <td>49</td>\n",
              "    </tr>\n",
              "    <tr>\n",
              "      <th>2</th>\n",
              "      <td>2020-11-09 04:48:52</td>\n",
              "      <td>b\"Great things happen to those who don't stop ...</td>\n",
              "      <td>b'CricketGirl_45'</td>\n",
              "      <td>['RohitSharma', 'MumbaiIndians', 'IPL2020', 'I...</td>\n",
              "      <td>bgreat thing happen dont stop believing trying...</td>\n",
              "      <td>21</td>\n",
              "      <td>0.8219</td>\n",
              "      <td>0.482</td>\n",
              "      <td>0.000</td>\n",
              "      <td>0.518</td>\n",
              "      <td>POSITIVE</td>\n",
              "      <td>4</td>\n",
              "      <td>2020-11-09</td>\n",
              "      <td>48</td>\n",
              "    </tr>\n",
              "    <tr>\n",
              "      <th>3</th>\n",
              "      <td>2020-11-09 04:48:41</td>\n",
              "      <td>b'T Natarajan made a mark with his yorkers in ...</td>\n",
              "      <td>b'ESPNcricinfo'</td>\n",
              "      <td>['IPL2020']</td>\n",
              "      <td>bt natarajan made mark yorkers xfxfxxc see pla...</td>\n",
              "      <td>19</td>\n",
              "      <td>0.3400</td>\n",
              "      <td>0.806</td>\n",
              "      <td>0.000</td>\n",
              "      <td>0.194</td>\n",
              "      <td>POSITIVE</td>\n",
              "      <td>4</td>\n",
              "      <td>2020-11-09</td>\n",
              "      <td>48</td>\n",
              "    </tr>\n",
              "    <tr>\n",
              "      <th>4</th>\n",
              "      <td>2020-11-09 04:47:57</td>\n",
              "      <td>b'#IPL2020 Final: Marcus Stoinis warning to @m...</td>\n",
              "      <td>b'InsideSportIND'</td>\n",
              "      <td>['IPL2020', 'iplseason13', 'IPLfinal', 'Mumbai...</td>\n",
              "      <td>b marcus stoinis warning check</td>\n",
              "      <td>8</td>\n",
              "      <td>-0.3400</td>\n",
              "      <td>0.556</td>\n",
              "      <td>0.444</td>\n",
              "      <td>0.000</td>\n",
              "      <td>NEGATIVE</td>\n",
              "      <td>4</td>\n",
              "      <td>2020-11-09</td>\n",
              "      <td>47</td>\n",
              "    </tr>\n",
              "  </tbody>\n",
              "</table>\n",
              "</div>"
            ],
            "text/plain": [
              "               created  ... minute\n",
              "0  2020-11-09 04:49:21  ...     49\n",
              "1  2020-11-09 04:49:16  ...     49\n",
              "2  2020-11-09 04:48:52  ...     48\n",
              "3  2020-11-09 04:48:41  ...     48\n",
              "4  2020-11-09 04:47:57  ...     47\n",
              "\n",
              "[5 rows x 14 columns]"
            ]
          },
          "metadata": {
            "tags": []
          },
          "execution_count": 210
        }
      ]
    },
    {
      "cell_type": "code",
      "metadata": {
        "id": "h1XciltLhDuD",
        "colab": {
          "base_uri": "https://localhost:8080/",
          "height": 338
        },
        "outputId": "4b3de3c9-2f4c-4478-e687-d2121efdf43d"
      },
      "source": [
        "tweets.sentiment_type.value_counts().plot(kind='bar',title=\"sentiment analysis\")"
      ],
      "execution_count": 211,
      "outputs": [
        {
          "output_type": "execute_result",
          "data": {
            "text/plain": [
              "<matplotlib.axes._subplots.AxesSubplot at 0x7f07b4d4f9b0>"
            ]
          },
          "metadata": {
            "tags": []
          },
          "execution_count": 211
        },
        {
          "output_type": "display_data",
          "data": {
            "image/png": "[encoded data removed]",
            "text/plain": [
              "<Figure size 432x288 with 1 Axes>"
            ]
          },
          "metadata": {
            "tags": [],
            "needs_background": "light"
          }
        }
      ]
    },
    {
      "cell_type": "code",
      "metadata": {
        "id": "Jx9SMTFchDwi",
        "colab": {
          "base_uri": "https://localhost:8080/",
          "height": 300
        },
        "outputId": "3de6736f-8003-4434-fe24-2b7e1b6c251d"
      },
      "source": [
        "#Polarity of tweets hour wise\n",
        "import pandas as pd\n",
        "import matplotlib.pyplot as plt\n",
        "\n",
        "tweets['hour'] = pd.DatetimeIndex(tweets['created']).hour\n",
        "tweets['date'] = pd.DatetimeIndex(tweets['created']).date\n",
        "tweets['minute'] = pd.DatetimeIndex(tweets['created']).minute\n",
        "df=(tweets.groupby('hour',as_index=False).sentiment_compound_polarity.mean())\n",
        "  \n",
        "plt.plot(df['hour'], df['sentiment_compound_polarity'], color='red', marker='o')\n",
        "plt.title('sentiment_compound_polarity Vs hour', fontsize=14)\n",
        "plt.xlabel('hour', fontsize=14)\n",
        "plt.ylabel('sentiment_compound_polarity', fontsize=14)\n",
        "plt.grid(True)\n",
        "plt.show()"
      ],
      "execution_count": 212,
      "outputs": [
        {
          "output_type": "display_data",
          "data": {
            "image/png": "[encoded data removed]",
            "text/plain": [
              "<Figure size 432x288 with 1 Axes>"
            ]
          },
          "metadata": {
            "tags": [],
            "needs_background": "light"
          }
        }
      ]
    },
    {
      "cell_type": "code",
      "metadata": {
        "id": "q2RbwxD5fOXz",
        "colab": {
          "base_uri": "https://localhost:8080/"
        },
        "outputId": "2326ff31-2319-48ee-e4eb-0c647c427e14"
      },
      "source": [
        "pip install pyLDAvis"
      ],
      "execution_count": 186,
      "outputs": [
        {
          "output_type": "stream",
          "text": [
            "Requirement already satisfied: pyLDAvis in /usr/local/lib/python3.6/dist-packages (2.1.2)\n",
            "Requirement already satisfied: pandas>=0.17.0 in /usr/local/lib/python3.6/dist-packages (from pyLDAvis) (1.1.4)\n",
            "Requirement already satisfied: pytest in /usr/local/lib/python3.6/dist-packages (from pyLDAvis) (3.6.4)\n",
            "Requirement already satisfied: scipy>=0.18.0 in /usr/local/lib/python3.6/dist-packages (from pyLDAvis) (1.4.1)\n",
            "Requirement already satisfied: numexpr in /usr/local/lib/python3.6/dist-packages (from pyLDAvis) (2.7.1)\n",
            "Requirement already satisfied: numpy>=1.9.2 in /usr/local/lib/python3.6/dist-packages (from pyLDAvis) (1.18.5)\n",
            "Requirement already satisfied: future in /usr/local/lib/python3.6/dist-packages (from pyLDAvis) (0.16.0)\n",
            "Requirement already satisfied: funcy in /usr/local/lib/python3.6/dist-packages (from pyLDAvis) (1.15)\n",
            "Requirement already satisfied: joblib>=0.8.4 in /usr/local/lib/python3.6/dist-packages (from pyLDAvis) (0.17.0)\n",
            "Requirement already satisfied: wheel>=0.23.0 in /usr/local/lib/python3.6/dist-packages (from pyLDAvis) (0.35.1)\n",
            "Requirement already satisfied: jinja2>=2.7.2 in /usr/local/lib/python3.6/dist-packages (from pyLDAvis) (2.11.2)\n",
            "Requirement already satisfied: pytz>=2017.2 in /usr/local/lib/python3.6/dist-packages (from pandas>=0.17.0->pyLDAvis) (2018.9)\n",
            "Requirement already satisfied: python-dateutil>=2.7.3 in /usr/local/lib/python3.6/dist-packages (from pandas>=0.17.0->pyLDAvis) (2.8.1)\n",
            "Requirement already satisfied: atomicwrites>=1.0 in /usr/local/lib/python3.6/dist-packages (from pytest->pyLDAvis) (1.4.0)\n",
            "Requirement already satisfied: attrs>=17.4.0 in /usr/local/lib/python3.6/dist-packages (from pytest->pyLDAvis) (20.3.0)\n",
            "Requirement already satisfied: py>=1.5.0 in /usr/local/lib/python3.6/dist-packages (from pytest->pyLDAvis) (1.9.0)\n",
            "Requirement already satisfied: setuptools in /usr/local/lib/python3.6/dist-packages (from pytest->pyLDAvis) (50.3.2)\n",
            "Requirement already satisfied: six>=1.10.0 in /usr/local/lib/python3.6/dist-packages (from pytest->pyLDAvis) (1.15.0)\n",
            "Requirement already satisfied: more-itertools>=4.0.0 in /usr/local/lib/python3.6/dist-packages (from pytest->pyLDAvis) (8.6.0)\n",
            "Requirement already satisfied: pluggy<0.8,>=0.5 in /usr/local/lib/python3.6/dist-packages (from pytest->pyLDAvis) (0.7.1)\n",
            "Requirement already satisfied: MarkupSafe>=0.23 in /usr/local/lib/python3.6/dist-packages (from jinja2>=2.7.2->pyLDAvis) (1.1.1)\n"
          ],
          "name": "stdout"
        }
      ]
    },
    {
      "cell_type": "code",
      "metadata": {
        "id": "hkasnx0OFger"
      },
      "source": [
        "\n",
        "import gensim #the library for Topic modelling\n",
        "from gensim.models.ldamulticore import LdaMulticore\n",
        "from gensim import corpora, models\n",
        "import pyLDAvis.gensim #LDA visualization library\n",
        "\n",
        "from nltk.corpus import stopwords\n",
        "import string\n",
        "from nltk.stem.wordnet import WordNetLemmatizer\n",
        "\n",
        "import warnings\n",
        "warnings.simplefilter('ignore')\n",
        "from itertools import chain"
      ],
      "execution_count": 213,
      "outputs": []
    },
    {
      "cell_type": "code",
      "metadata": {
        "id": "6vwRMZoPFlJc"
      },
      "source": [
        "\n",
        "#spliting the data\n",
        "stop = set(stopwords.words('english'))\n",
        "exclude = set(string.punctuation)\n",
        "lemma = WordNetLemmatizer()\n",
        "\n",
        "def split(text):\n",
        "    stop_free = ' '.join([word for word in text.lower().split() if word not in stop])\n",
        "    punc_free = ''.join(ch for ch in stop_free if ch not in exclude)\n",
        "    normalized = ' '.join([lemma.lemmatize(word) for word in punc_free.split()])\n",
        "    return normalized.split()"
      ],
      "execution_count": 214,
      "outputs": []
    },
    {
      "cell_type": "code",
      "metadata": {
        "id": "bbKKWsgaFoSe"
      },
      "source": [
        "data['text_split']=data['refine_text'].apply(split)"
      ],
      "execution_count": 215,
      "outputs": []
    },
    {
      "cell_type": "code",
      "metadata": {
        "colab": {
          "base_uri": "https://localhost:8080/"
        },
        "id": "tkAagArJFpu_",
        "outputId": "f1823657-5076-402f-a894-5eeec19f9168"
      },
      "source": [
        "#create dictionary\n",
        "dictionary = corpora.Dictionary(data['text_split'])\n",
        "#Total number of non-zeroes in the BOW matrix (sum of the number of unique words per document over the entire corpus).\n",
        "print(dictionary.num_nnz)"
      ],
      "execution_count": 216,
      "outputs": [
        {
          "output_type": "stream",
          "text": [
            "10031\n"
          ],
          "name": "stdout"
        }
      ]
    },
    {
      "cell_type": "code",
      "metadata": {
        "colab": {
          "base_uri": "https://localhost:8080/"
        },
        "id": "rCok9h_XFwT0",
        "outputId": "7585f732-2476-416a-a609-7109f65c1ab3"
      },
      "source": [
        "\n",
        "#create document term matrix\n",
        "doc_term_matrix = [dictionary.doc2bow(doc) for doc in data['text_split'] ]\n",
        "print(len(doc_term_matrix))"
      ],
      "execution_count": 217,
      "outputs": [
        {
          "output_type": "stream",
          "text": [
            "1000\n"
          ],
          "name": "stdout"
        }
      ]
    },
    {
      "cell_type": "code",
      "metadata": {
        "id": "LxFVgHJwFyvr"
      },
      "source": [
        "lda = gensim.models.ldamodel.LdaModel"
      ],
      "execution_count": 218,
      "outputs": []
    },
    {
      "cell_type": "code",
      "metadata": {
        "colab": {
          "base_uri": "https://localhost:8080/"
        },
        "id": "vgElcj65F2J_",
        "outputId": "17aabcf9-3b51-4335-c755-cabae05d3a42"
      },
      "source": [
        "num_topics=10\n",
        "%time ldamodel = lda(doc_term_matrix,num_topics=num_topics,id2word=dictionary,passes=50,minimum_probability=0)"
      ],
      "execution_count": 219,
      "outputs": [
        {
          "output_type": "stream",
          "text": [
            "CPU times: user 21.6 s, sys: 27.3 ms, total: 21.6 s\n",
            "Wall time: 21.6 s\n"
          ],
          "name": "stdout"
        }
      ]
    },
    {
      "cell_type": "code",
      "metadata": {
        "colab": {
          "base_uri": "https://localhost:8080/"
        },
        "id": "GfXHXDkdF9R0",
        "outputId": "2690bdd1-9926-4924-f5bb-7fe7641a9072"
      },
      "source": [
        "ldamodel.print_topics(num_topics=num_topics)"
      ],
      "execution_count": 220,
      "outputs": [
        {
          "output_type": "execute_result",
          "data": {
            "text/plain": [
              "[(0,\n",
              "  '0.022*\"b\" + 0.015*\"injured\" + 0.011*\"champion\" + 0.010*\"match\" + 0.009*\"well\" + 0.008*\"team\" + 0.007*\"williamson\" + 0.007*\"back\" + 0.006*\"nov\" + 0.006*\"first\"'),\n",
              " (1,\n",
              "  '0.027*\"mi\" + 0.019*\"dc\" + 0.018*\"run\" + 0.017*\"b\" + 0.016*\"capital\" + 0.015*\"rcb\" + 0.014*\"delhi\" + 0.014*\"match\" + 0.013*\"srh\" + 0.013*\"csk\"'),\n",
              " (2,\n",
              "  '0.025*\"v\" + 0.020*\"dc\" + 0.018*\"year\" + 0.017*\"b\" + 0.013*\"mi\" + 0.010*\"fan\" + 0.010*\"time\" + 0.007*\"game\" + 0.007*\"prediction\" + 0.007*\"finalist\"'),\n",
              " (3,\n",
              "  '0.017*\"b\" + 0.017*\"team\" + 0.015*\"played\" + 0.013*\"bipl\" + 0.011*\"indian\" + 0.011*\"bcongratulations\" + 0.010*\"maiden\" + 0.010*\"final\" + 0.009*\"well\" + 0.008*\"rabada\"'),\n",
              " (4,\n",
              "  '0.025*\"b\" + 0.022*\"indian\" + 0.021*\"delhi\" + 0.017*\"mumbai\" + 0.016*\"win\" + 0.015*\"capital\" + 0.011*\"player\" + 0.011*\"team\" + 0.010*\"first\" + 0.010*\"year\"'),\n",
              " (5,\n",
              "  '0.029*\"b\" + 0.014*\"team\" + 0.012*\"final\" + 0.011*\"iyer\" + 0.011*\"best\" + 0.010*\"shreyas\" + 0.009*\"trophy\" + 0.009*\"win\" + 0.008*\"ever\" + 0.008*\"see\"'),\n",
              " (6,\n",
              "  '0.022*\"season\" + 0.021*\"b\" + 0.018*\"team\" + 0.011*\"great\" + 0.010*\"one\" + 0.009*\"u\" + 0.008*\"next\" + 0.008*\"captain\" + 0.008*\"end\" + 0.007*\"player\"'),\n",
              " (7,\n",
              "  '0.016*\"v\" + 0.012*\"good\" + 0.012*\"played\" + 0.012*\"mumbai\" + 0.010*\"would\" + 0.010*\"delhi\" + 0.009*\"win\" + 0.008*\"dc\" + 0.008*\"bwell\" + 0.008*\"november\"'),\n",
              " (8,\n",
              "  '0.055*\"final\" + 0.031*\"b\" + 0.021*\"rcb\" + 0.020*\"time\" + 0.019*\"made\" + 0.019*\"delhi\" + 0.016*\"team\" + 0.016*\"released\" + 0.015*\"mi\" + 0.014*\"csk\"'),\n",
              " (9,\n",
              "  '0.045*\"win\" + 0.028*\"b\" + 0.016*\"best\" + 0.016*\"team\" + 0.012*\"bwho\" + 0.011*\"time\" + 0.009*\"season\" + 0.008*\"u\" + 0.007*\"luck\" + 0.007*\"dc\"')]"
            ]
          },
          "metadata": {
            "tags": []
          },
          "execution_count": 220
        }
      ]
    },
    {
      "cell_type": "code",
      "metadata": {
        "colab": {
          "base_uri": "https://localhost:8080/"
        },
        "id": "24u47Gl0GQNH",
        "outputId": "57245939-3d99-4952-c08d-77a782ccfdca"
      },
      "source": [
        "pip install tomotopy"
      ],
      "execution_count": 41,
      "outputs": [
        {
          "output_type": "stream",
          "text": [
            "Collecting tomotopy\n",
            "\u001b[?25l  Downloading https://files.pythonhosted.org/packages/70/39/29b0348bfcb689054abb7d627367fed37a4c282ff23feff13b3aef9a1de0/tomotopy-0.9.1-cp36-cp36m-manylinux2010_x86_64.whl (13.5MB)\n",
            "\u001b[K     |████████████████████████████████| 13.5MB 316kB/s \n",
            "\u001b[?25hCollecting py-cpuinfo\n",
            "\u001b[?25l  Downloading https://files.pythonhosted.org/packages/f6/f5/8e6e85ce2e9f6e05040cf0d4e26f43a4718bcc4bce988b433276d4b1a5c1/py-cpuinfo-7.0.0.tar.gz (95kB)\n",
            "\u001b[K     |████████████████████████████████| 102kB 11.4MB/s \n",
            "\u001b[?25hRequirement already satisfied: numpy>=1.10.0 in /usr/local/lib/python3.6/dist-packages (from tomotopy) (1.18.5)\n",
            "Building wheels for collected packages: py-cpuinfo\n",
            "  Building wheel for py-cpuinfo (setup.py) ... \u001b[?25l\u001b[?25hdone\n",
            "  Created wheel for py-cpuinfo: filename=py_cpuinfo-7.0.0-cp36-none-any.whl size=20071 sha256=e04a7646110556b5852e9e7562d581a9e7ac8f29a1732043f99354557a128ecb\n",
            "  Stored in directory: /root/.cache/pip/wheels/f1/93/7b/127daf0c3a5a49feb2fecd468d508067c733fba5192f726ad1\n",
            "Successfully built py-cpuinfo\n",
            "Installing collected packages: py-cpuinfo, tomotopy\n",
            "Successfully installed py-cpuinfo-7.0.0 tomotopy-0.9.1\n"
          ],
          "name": "stdout"
        }
      ]
    },
    {
      "cell_type": "markdown",
      "metadata": {
        "id": "qAsgSZ7RMGZ-"
      },
      "source": [
        "**Supervised LDA** Reference code taken: https://github.com/bab2min/tomotopy"
      ]
    },
    {
      "cell_type": "code",
      "metadata": {
        "colab": {
          "base_uri": "https://localhost:8080/"
        },
        "id": "OG1AHTvEGked",
        "outputId": "d34aeca5-7a3e-4904-abee-d7d88e1052b5"
      },
      "source": [
        "import tomotopy as tp\n",
        "SLDA_topic_modeling = tp.SLDAModel(k=15) #number of topics 6\n",
        "for i in tweets[\"refine_text\"]:\n",
        "    SLDA_topic_modeling.add_doc(i.split()) #splitting each sentence\n",
        "\n",
        "for k in range(SLDA_topic_modeling.k):\n",
        "    print('Top 10 words of topic #{}'.format(k))\n",
        "    print(SLDA_topic_modeling.get_topic_words(k, top_n=20))\n",
        "\n",
        "SLDA_topic_modeling.summary()"
      ],
      "execution_count": 221,
      "outputs": [
        {
          "output_type": "stream",
          "text": [
            "Top 10 words of topic #0\n",
            "[('b', 0.018081247806549072), ('final', 0.016691451892256737), ('delhi', 0.013911859132349491), ('dc', 0.013911859132349491), ('played', 0.012522063218057156), ('one', 0.011132266372442245), ('run', 0.011132266372442245), ('team', 0.00974247045814991), ('capital', 0.00974247045814991), ('win', 0.00974247045814991), ('indian', 0.006962878629565239), ('see', 0.006962878629565239), ('wicket', 0.006962878629565239), ('mi', 0.006962878629565239), ('mumbai', 0.0055730827152729034), ('game', 0.0055730827152729034), ('bcongratulations', 0.0055730827152729034), ('qualifier', 0.0055730827152729034), ('well', 0.0055730827152729034), ('year', 0.0055730827152729034)]\n",
            "Top 10 words of topic #1\n",
            "[('b', 0.027231603860855103), ('team', 0.019454849883913994), ('win', 0.015566471964120865), ('match', 0.012974219396710396), ('final', 0.011678094044327736), ('v', 0.011678094044327736), ('srh', 0.011678094044327736), ('delhi', 0.009085842408239841), ('williamson', 0.007789716590195894), ('good', 0.007789716590195894), ('best', 0.007789716590195894), ('run', 0.007789716590195894), ('first', 0.007789716590195894), ('mi', 0.007789716590195894), ('dc', 0.007789716590195894), ('indian', 0.006493590772151947), ('capital', 0.006493590772151947), ('another', 0.006493590772151947), ('well', 0.006493590772151947), ('made', 0.006493590772151947)]\n",
            "Top 10 words of topic #2\n",
            "[('team', 0.023220891132950783), ('b', 0.021855760365724564), ('win', 0.017760364338755608), ('delhi', 0.01639523170888424), ('final', 0.010934705846011639), ('player', 0.010934705846011639), ('season', 0.010934705846011639), ('v', 0.009569574147462845), ('capital', 0.009569574147462845), ('mumbai', 0.008204442448914051), ('year', 0.008204442448914051), ('time', 0.008204442448914051), ('match', 0.00683931028470397), ('like', 0.00683931028470397), ('one', 0.00683931028470397), ('csk', 0.00683931028470397), ('dc', 0.00683931028470397), ('dhawan', 0.005474178586155176), ('captain', 0.005474178586155176), ('st', 0.005474178586155176)]\n",
            "Top 10 words of topic #3\n",
            "[('b', 0.03193482384085655), ('final', 0.01528041809797287), ('time', 0.01528041809797287), ('win', 0.013892550952732563), ('mi', 0.012504683807492256), ('mumbai', 0.01111681666225195), ('delhi', 0.01111681666225195), ('v', 0.01111681666225195), ('team', 0.009728949517011642), ('year', 0.009728949517011642), ('rcb', 0.009728949517011642), ('see', 0.008341082371771336), ('match', 0.008341082371771336), ('well', 0.006953215226531029), ('play', 0.006953215226531029), ('wicket', 0.006953215226531029), ('player', 0.006953215226531029), ('indian', 0.006953215226531029), ('run', 0.006953215226531029), ('bwho', 0.005565347615629435)]\n",
            "Top 10 words of topic #4\n",
            "[('b', 0.02798367477953434), ('time', 0.017812415957450867), ('final', 0.01654100976884365), ('team', 0.015269601717591286), ('delhi', 0.012726787477731705), ('dc', 0.010183972306549549), ('made', 0.008912565186619759), ('best', 0.007641158066689968), ('srh', 0.007641158066689968), ('match', 0.007641158066689968), ('v', 0.007641158066689968), ('like', 0.006369750946760178), ('season', 0.006369750946760178), ('williamson', 0.006369750946760178), ('stoinis', 0.006369750946760178), ('great', 0.0050983433611691), ('next', 0.0050983433611691), ('back', 0.0050983433611691), ('hope', 0.0050983433611691), ('captain', 0.0050983433611691)]\n",
            "Top 10 words of topic #5\n",
            "[('b', 0.026383355259895325), ('team', 0.02360762096941471), ('first', 0.012504683807492256), ('time', 0.012504683807492256), ('win', 0.01111681666225195), ('mi', 0.01111681666225195), ('srh', 0.009728949517011642), ('dc', 0.008341082371771336), ('capital', 0.008341082371771336), ('good', 0.008341082371771336), ('final', 0.008341082371771336), ('match', 0.006953215226531029), ('indian', 0.006953215226531029), ('xfxfxxc', 0.006953215226531029), ('rcb', 0.006953215226531029), ('u', 0.006953215226531029), ('csk', 0.005565347615629435), ('tournament', 0.005565347615629435), ('made', 0.005565347615629435), ('see', 0.005565347615629435)]\n",
            "Top 10 words of topic #6\n",
            "[('b', 0.026104653254151344), ('team', 0.020886331796646118), ('final', 0.01827717013657093), ('win', 0.01697259023785591), ('dc', 0.010449688881635666), ('time', 0.009145108051598072), ('indian', 0.009145108051598072), ('rcb', 0.009145108051598072), ('qualifier', 0.007840528152883053), ('csk', 0.007840528152883053), ('player', 0.007840528152883053), ('well', 0.007840528152883053), ('year', 0.007840528152883053), ('first', 0.006535947788506746), ('go', 0.006535947788506746), ('fan', 0.006535947788506746), ('mi', 0.006535947788506746), ('trophy', 0.006535947788506746), ('williamson', 0.006535947788506746), ('season', 0.00523136742413044)]\n",
            "Top 10 words of topic #7\n",
            "[('b', 0.03560834750533104), ('final', 0.018469935283064842), ('rcb', 0.014514916576445103), ('team', 0.013196577318012714), ('delhi', 0.010559898801147938), ('good', 0.00924155954271555), ('player', 0.007923220284283161), ('mumbai', 0.007923220284283161), ('trophy', 0.007923220284283161), ('capital', 0.007923220284283161), ('v', 0.007923220284283161), ('dc', 0.007923220284283161), ('day', 0.007923220284283161), ('many', 0.007923220284283161), ('beat', 0.0066048805601894855), ('williamson', 0.0066048805601894855), ('bi', 0.0066048805601894855), ('mi', 0.0066048805601894855), ('time', 0.0066048805601894855), ('season', 0.0066048805601894855)]\n",
            "Top 10 words of topic #8\n",
            "[('b', 0.03262755274772644), ('final', 0.0195817518979311), ('team', 0.01697259023785591), ('win', 0.015668010339140892), ('mi', 0.013058849610388279), ('delhi', 0.009145108051598072), ('time', 0.009145108051598072), ('dc', 0.009145108051598072), ('v', 0.009145108051598072), ('season', 0.009145108051598072), ('played', 0.009145108051598072), ('know', 0.006535947788506746), ('indian', 0.006535947788506746), ('first', 0.006535947788506746), ('cricket', 0.00523136742413044), ('sir', 0.00523136742413044), ('made', 0.00523136742413044), ('trophy', 0.00523136742413044), ('injured', 0.00523136742413044), ('srh', 0.00523136742413044)]\n",
            "Top 10 words of topic #9\n",
            "[('b', 0.032384276390075684), ('final', 0.016902875155210495), ('team', 0.014088074676692486), ('win', 0.012680674903094769), ('delhi', 0.012680674903094769), ('best', 0.008458474650979042), ('mumbai', 0.008458474650979042), ('play', 0.008458474650979042), ('indian', 0.008458474650979042), ('v', 0.008458474650979042), ('dc', 0.008458474650979042), ('bipl', 0.0070510744117200375), ('season', 0.0070510744117200375), ('title', 0.0070510744117200375), ('williamson', 0.0070510744117200375), ('csk', 0.0070510744117200375), ('time', 0.0070510744117200375), ('november', 0.00564367463812232), ('like', 0.00564367463812232), ('kane', 0.00564367463812232)]\n",
            "Top 10 words of topic #10\n",
            "[('b', 0.02821914479136467), ('win', 0.02016036957502365), ('mi', 0.013444723561406136), ('fan', 0.01075846515595913), ('indian', 0.009415335953235626), ('played', 0.009415335953235626), ('first', 0.009415335953235626), ('season', 0.009415335953235626), ('time', 0.009415335953235626), ('delhi', 0.009415335953235626), ('v', 0.008072206750512123), ('team', 0.008072206750512123), ('match', 0.00672907754778862), ('great', 0.00672907754778862), ('run', 0.00672907754778862), ('see', 0.00672907754778862), ('stoinis', 0.00672907754778862), ('csk', 0.00672907754778862), ('bumrah', 0.005385948345065117), ('guy', 0.005385948345065117)]\n",
            "Top 10 words of topic #11\n",
            "[('b', 0.02094097062945366), ('win', 0.01570899784564972), ('capital', 0.014401004649698734), ('srh', 0.01309301145374775), ('team', 0.011785018257796764), ('time', 0.011785018257796764), ('year', 0.01047702506184578), ('played', 0.01047702506184578), ('well', 0.009169031865894794), ('rcb', 0.009169031865894794), ('delhi', 0.009169031865894794), ('maiden', 0.00786103866994381), ('kane', 0.00786103866994381), ('dc', 0.00786103866994381), ('run', 0.00786103866994381), ('final', 0.00786103866994381), ('best', 0.00786103866994381), ('good', 0.00786103866994381), ('indian', 0.005245052743703127), ('make', 0.005245052743703127)]\n",
            "Top 10 words of topic #12\n",
            "[('b', 0.023526184260845184), ('final', 0.016994761303067207), ('match', 0.013075907714664936), ('dc', 0.01176962349563837), ('delhi', 0.010463339276611805), ('win', 0.009157054126262665), ('mi', 0.009157054126262665), ('team', 0.0078507699072361), ('fan', 0.0078507699072361), ('srh', 0.0078507699072361), ('winning', 0.0078507699072361), ('time', 0.0078507699072361), ('take', 0.006544485688209534), ('u', 0.006544485688209534), ('game', 0.006544485688209534), ('bdelhi', 0.006544485688209534), ('player', 0.006544485688209534), ('season', 0.006544485688209534), ('run', 0.006544485688209534), ('shreyas', 0.005238201003521681)]\n",
            "Top 10 words of topic #13\n",
            "[('b', 0.02503022737801075), ('delhi', 0.016691451892256737), ('team', 0.013911859132349491), ('mi', 0.00974247045814991), ('v', 0.00974247045814991), ('capital', 0.00974247045814991), ('season', 0.00974247045814991), ('time', 0.008352674543857574), ('dc', 0.008352674543857574), ('year', 0.006962878629565239), ('one', 0.006962878629565239), ('stoinis', 0.006962878629565239), ('final', 0.006962878629565239), ('win', 0.006962878629565239), ('back', 0.0055730827152729034), ('first', 0.0055730827152729034), ('another', 0.0055730827152729034), ('well', 0.0055730827152729034), ('play', 0.0055730827152729034), ('best', 0.0055730827152729034)]\n",
            "Top 10 words of topic #14\n",
            "[('b', 0.019745465368032455), ('dc', 0.018336081877350807), ('v', 0.018336081877350807), ('team', 0.01269854698330164), ('delhi', 0.01269854698330164), ('mi', 0.01269854698330164), ('final', 0.011289163492619991), ('captain', 0.009879779070615768), ('capital', 0.009879779070615768), ('time', 0.009879779070615768), ('rcb', 0.00847039557993412), ('first', 0.00847039557993412), ('win', 0.00847039557993412), ('indian', 0.007061012089252472), ('season', 0.007061012089252472), ('see', 0.007061012089252472), ('trophy', 0.007061012089252472), ('match', 0.005651628598570824), ('maiden', 0.005651628598570824), ('game', 0.005651628598570824)]\n",
            "<Basic Info>\n",
            "| SLDAModel (current version: 0.9.1)\n",
            "| 1000 docs, 10714 words\n",
            "| Total Vocabs: 2953, Used Vocabs: 2953\n",
            "| Entropy of words: -6.93673\n",
            "| Removed Vocabs: <NA>\n",
            "|\n",
            "<Training Info>\n",
            "| Iterations: 0, Burn-in steps: 0\n",
            "| Optimization Interval: 10\n",
            "| Log-likelihood per word: -11.77357\n",
            "|\n",
            "<Initial Parameters>\n",
            "| tw: TermWeight.ONE\n",
            "| min_cf: 0 (minimum collection frequency of words)\n",
            "| min_df: 0 (minimum document frequency of words)\n",
            "| rm_top: 0 (the number of top words to be removed)\n",
            "| k: 15 (the number of topics between 1 ~ 32767)\n",
            "| vars: \n",
            "| alpha: 0.1 (hyperparameter of Dirichlet distribution for document-topic)\n",
            "| eta: 0.01 (hyperparameter of Dirichlet distribution for topic-word)\n",
            "| mu: [] (mean of regression coefficients, default value is 0)\n",
            "| nu_sq: [] (variance of regression coefficients, default value is 1)\n",
            "| glm_param: [] (the parameter for Generalized Linear Model, default value is 1)\n",
            "| trained in version 0.9.1\n",
            "|\n",
            "<Parameters>\n",
            "| alpha (Dirichlet prior on the per-document topic distributions)\n",
            "|  [0.1 0.1 0.1 0.1 0.1 0.1 0.1 0.1 0.1 0.1 0.1 0.1 0.1 0.1 0.1]\n",
            "| eta (Dirichlet prior on the per-topic word distribution)\n",
            "|  0.01\n",
            "| regression coefficients of response variables\n",
            "|\n",
            "<Topics>\n",
            "| #0 (690) : b final delhi dc played\n",
            "| #1 (742) : b team win match final\n",
            "| #2 (703) : team b win delhi final\n",
            "| #3 (691) : b final time win mi\n",
            "| #4 (757) : b time final team delhi\n",
            "| #5 (691) : b team first time win\n",
            "| #6 (737) : b team final win dc\n",
            "| #7 (729) : b final rcb team delhi\n",
            "| #8 (737) : b final team win mi\n",
            "| #9 (681) : b final team win delhi\n",
            "| #10 (715) : b win mi fan indian\n",
            "| #11 (735) : b win capital srh team\n",
            "| #12 (736) : b final match dc delhi\n",
            "| #13 (690) : b delhi team mi v\n",
            "| #14 (680) : b dc v team delhi\n",
            "|\n",
            "\n"
          ],
          "name": "stdout"
        }
      ]
    },
    {
      "cell_type": "markdown",
      "metadata": {
        "id": "IxdQxOJWMNY1"
      },
      "source": [
        "**K-means** Reference : https://www.kaggle.com/karthik3890/text-clustering"
      ]
    },
    {
      "cell_type": "code",
      "metadata": {
        "colab": {
          "base_uri": "https://localhost:8080/"
        },
        "id": "KfiIUggdMRIG",
        "outputId": "0b33d625-5c2c-4ad6-f45c-16b718a98d4e"
      },
      "source": [
        "from sklearn.feature_extraction.text import TfidfVectorizer\n",
        "tfidf_vector = TfidfVectorizer()\n",
        "tfidf = tfidf_vector.fit_transform(tweets[\"refine_text\"].values)\n",
        "tfidf.shape"
      ],
      "execution_count": 222,
      "outputs": [
        {
          "output_type": "execute_result",
          "data": {
            "text/plain": [
              "(1000, 2936)"
            ]
          },
          "metadata": {
            "tags": []
          },
          "execution_count": 222
        }
      ]
    },
    {
      "cell_type": "code",
      "metadata": {
        "colab": {
          "base_uri": "https://localhost:8080/"
        },
        "id": "9rT-xBj5MaEa",
        "outputId": "f330609a-15e7-425e-84ab-0bd75f77f590"
      },
      "source": [
        "from sklearn.cluster import KMeans\n",
        "model_tfif = KMeans(n_clusters = 10, n_jobs = -1,random_state=99)\n",
        "model_tfif.fit(tfidf)"
      ],
      "execution_count": 223,
      "outputs": [
        {
          "output_type": "execute_result",
          "data": {
            "text/plain": [
              "KMeans(algorithm='auto', copy_x=True, init='k-means++', max_iter=300,\n",
              "       n_clusters=10, n_init=10, n_jobs=-1, precompute_distances='auto',\n",
              "       random_state=99, tol=0.0001, verbose=0)"
            ]
          },
          "metadata": {
            "tags": []
          },
          "execution_count": 223
        }
      ]
    },
    {
      "cell_type": "code",
      "metadata": {
        "id": "5LChvs_BMc8f"
      },
      "source": [
        "labels_tfif = model_tfif.labels_\n",
        "cluster_center_tfif=model_tfif.cluster_centers_"
      ],
      "execution_count": 224,
      "outputs": []
    },
    {
      "cell_type": "code",
      "metadata": {
        "colab": {
          "base_uri": "https://localhost:8080/"
        },
        "id": "ZJHcsZj4MhXL",
        "outputId": "05fdeff7-6f3e-46ef-fde8-092c389f7793"
      },
      "source": [
        "cluster_center_tfif"
      ],
      "execution_count": 225,
      "outputs": [
        {
          "output_type": "execute_result",
          "data": {
            "text/plain": [
              "array([[0.        , 0.        , 0.00454361, ..., 0.        , 0.        ,\n",
              "        0.        ],\n",
              "       [0.        , 0.        , 0.        , ..., 0.        , 0.        ,\n",
              "        0.        ],\n",
              "       [0.        , 0.        , 0.        , ..., 0.        , 0.        ,\n",
              "        0.        ],\n",
              "       ...,\n",
              "       [0.        , 0.        , 0.        , ..., 0.        , 0.        ,\n",
              "        0.        ],\n",
              "       [0.        , 0.        , 0.        , ..., 0.        , 0.        ,\n",
              "        0.        ],\n",
              "       [0.        , 0.        , 0.        , ..., 0.00420336, 0.        ,\n",
              "        0.        ]])"
            ]
          },
          "metadata": {
            "tags": []
          },
          "execution_count": 225
        }
      ]
    },
    {
      "cell_type": "code",
      "metadata": {
        "id": "Fnd2n6AnMjxK"
      },
      "source": [
        "words = tfidf_vector.get_feature_names()"
      ],
      "execution_count": 226,
      "outputs": []
    },
    {
      "cell_type": "code",
      "metadata": {
        "colab": {
          "base_uri": "https://localhost:8080/"
        },
        "id": "AXoa_mQXMmHq",
        "outputId": "058fa8b1-530c-4a63-d25d-829f02125f90"
      },
      "source": [
        "words[1:10]"
      ],
      "execution_count": 227,
      "outputs": [
        {
          "output_type": "execute_result",
          "data": {
            "text/plain": [
              "['aapka',\n",
              " 'ab',\n",
              " 'abd',\n",
              " 'abdul',\n",
              " 'abdxexcxxefxbxf',\n",
              " 'abhishek',\n",
              " 'able',\n",
              " 'abraham',\n",
              " 'absolute']"
            ]
          },
          "metadata": {
            "tags": []
          },
          "execution_count": 227
        }
      ]
    },
    {
      "cell_type": "code",
      "metadata": {
        "id": "b1-PcDNpMpFP"
      },
      "source": [
        "from sklearn import metrics\n",
        "silhouette_score_tfif = metrics.silhouette_score(tfidf, labels_tfif, metric='euclidean')"
      ],
      "execution_count": 228,
      "outputs": []
    },
    {
      "cell_type": "code",
      "metadata": {
        "colab": {
          "base_uri": "https://localhost:8080/"
        },
        "id": "UmyoATgFMvw1",
        "outputId": "0ec8d497-daf7-482b-c08a-494879a0e2d6"
      },
      "source": [
        "silhouette_score_tfif"
      ],
      "execution_count": 229,
      "outputs": [
        {
          "output_type": "execute_result",
          "data": {
            "text/plain": [
              "0.012588063132463596"
            ]
          },
          "metadata": {
            "tags": []
          },
          "execution_count": 229
        }
      ]
    },
    {
      "cell_type": "code",
      "metadata": {
        "colab": {
          "base_uri": "https://localhost:8080/",
          "height": 568
        },
        "id": "TQFeCxXcMxp5",
        "outputId": "2d1f911f-355c-43b1-8ef4-5c8a8f3fc31b"
      },
      "source": [
        "df_tfif = tweets\n",
        "df_tfif['Tfidf cluster Labels'] = model_tfif.labels_\n",
        "df_tfif.head(5)"
      ],
      "execution_count": 230,
      "outputs": [
        {
          "output_type": "execute_result",
          "data": {
            "text/html": [
              "<div>\n",
              "<style scoped>\n",
              "    .dataframe tbody tr th:only-of-type {\n",
              "        vertical-align: middle;\n",
              "    }\n",
              "\n",
              "    .dataframe tbody tr th {\n",
              "        vertical-align: top;\n",
              "    }\n",
              "\n",
              "    .dataframe thead th {\n",
              "        text-align: right;\n",
              "    }\n",
              "</style>\n",
              "<table border=\"1\" class=\"dataframe\">\n",
              "  <thead>\n",
              "    <tr style=\"text-align: right;\">\n",
              "      <th></th>\n",
              "      <th>created</th>\n",
              "      <th>tweet_text</th>\n",
              "      <th>username</th>\n",
              "      <th>all_hashtags</th>\n",
              "      <th>refine_text</th>\n",
              "      <th>text_length</th>\n",
              "      <th>sentiment_compound_polarity</th>\n",
              "      <th>sentiment_neutral</th>\n",
              "      <th>sentiment_negative</th>\n",
              "      <th>sentiment_pos</th>\n",
              "      <th>sentiment_type</th>\n",
              "      <th>hour</th>\n",
              "      <th>date</th>\n",
              "      <th>minute</th>\n",
              "      <th>Tfidf cluster Labels</th>\n",
              "    </tr>\n",
              "  </thead>\n",
              "  <tbody>\n",
              "    <tr>\n",
              "      <th>0</th>\n",
              "      <td>2020-11-09 04:49:21</td>\n",
              "      <td>b'Look at #SRH youngster Priyam Garg after Kan...</td>\n",
              "      <td>b'SteadyTheShip'</td>\n",
              "      <td>['SRH', 'SRHvDC', 'DCvSRH', 'IPL2020']</td>\n",
              "      <td>blook youngster priyam garg kane williamson ma...</td>\n",
              "      <td>40</td>\n",
              "      <td>0.6969</td>\n",
              "      <td>0.720</td>\n",
              "      <td>0.062</td>\n",
              "      <td>0.218</td>\n",
              "      <td>POSITIVE</td>\n",
              "      <td>4</td>\n",
              "      <td>2020-11-09</td>\n",
              "      <td>49</td>\n",
              "      <td>3</td>\n",
              "    </tr>\n",
              "    <tr>\n",
              "      <th>1</th>\n",
              "      <td>2020-11-09 04:49:16</td>\n",
              "      <td>b'This is Mr.360\\xc2\\xb0 @ABdeVilliers17 . Mos...</td>\n",
              "      <td>b'imsapien'</td>\n",
              "      <td>['Cricket', 'IPL2020', 'Eliminater', 'IPLQuali...</td>\n",
              "      <td>bthis mrxcxb dangerous animal cricket</td>\n",
              "      <td>9</td>\n",
              "      <td>-0.4767</td>\n",
              "      <td>0.563</td>\n",
              "      <td>0.437</td>\n",
              "      <td>0.000</td>\n",
              "      <td>NEGATIVE</td>\n",
              "      <td>4</td>\n",
              "      <td>2020-11-09</td>\n",
              "      <td>49</td>\n",
              "      <td>3</td>\n",
              "    </tr>\n",
              "    <tr>\n",
              "      <th>2</th>\n",
              "      <td>2020-11-09 04:48:52</td>\n",
              "      <td>b\"Great things happen to those who don't stop ...</td>\n",
              "      <td>b'CricketGirl_45'</td>\n",
              "      <td>['RohitSharma', 'MumbaiIndians', 'IPL2020', 'I...</td>\n",
              "      <td>bgreat thing happen dont stop believing trying...</td>\n",
              "      <td>21</td>\n",
              "      <td>0.8219</td>\n",
              "      <td>0.482</td>\n",
              "      <td>0.000</td>\n",
              "      <td>0.518</td>\n",
              "      <td>POSITIVE</td>\n",
              "      <td>4</td>\n",
              "      <td>2020-11-09</td>\n",
              "      <td>48</td>\n",
              "      <td>0</td>\n",
              "    </tr>\n",
              "    <tr>\n",
              "      <th>3</th>\n",
              "      <td>2020-11-09 04:48:41</td>\n",
              "      <td>b'T Natarajan made a mark with his yorkers in ...</td>\n",
              "      <td>b'ESPNcricinfo'</td>\n",
              "      <td>['IPL2020']</td>\n",
              "      <td>bt natarajan made mark yorkers xfxfxxc see pla...</td>\n",
              "      <td>19</td>\n",
              "      <td>0.3400</td>\n",
              "      <td>0.806</td>\n",
              "      <td>0.000</td>\n",
              "      <td>0.194</td>\n",
              "      <td>POSITIVE</td>\n",
              "      <td>4</td>\n",
              "      <td>2020-11-09</td>\n",
              "      <td>48</td>\n",
              "      <td>3</td>\n",
              "    </tr>\n",
              "    <tr>\n",
              "      <th>4</th>\n",
              "      <td>2020-11-09 04:47:57</td>\n",
              "      <td>b'#IPL2020 Final: Marcus Stoinis warning to @m...</td>\n",
              "      <td>b'InsideSportIND'</td>\n",
              "      <td>['IPL2020', 'iplseason13', 'IPLfinal', 'Mumbai...</td>\n",
              "      <td>b marcus stoinis warning check</td>\n",
              "      <td>8</td>\n",
              "      <td>-0.3400</td>\n",
              "      <td>0.556</td>\n",
              "      <td>0.444</td>\n",
              "      <td>0.000</td>\n",
              "      <td>NEGATIVE</td>\n",
              "      <td>4</td>\n",
              "      <td>2020-11-09</td>\n",
              "      <td>47</td>\n",
              "      <td>3</td>\n",
              "    </tr>\n",
              "  </tbody>\n",
              "</table>\n",
              "</div>"
            ],
            "text/plain": [
              "               created  ... Tfidf cluster Labels\n",
              "0  2020-11-09 04:49:21  ...                    3\n",
              "1  2020-11-09 04:49:16  ...                    3\n",
              "2  2020-11-09 04:48:52  ...                    0\n",
              "3  2020-11-09 04:48:41  ...                    3\n",
              "4  2020-11-09 04:47:57  ...                    3\n",
              "\n",
              "[5 rows x 15 columns]"
            ]
          },
          "metadata": {
            "tags": []
          },
          "execution_count": 230
        }
      ]
    },
    {
      "cell_type": "code",
      "metadata": {
        "colab": {
          "base_uri": "https://localhost:8080/"
        },
        "id": "I0khgtpHNgA6",
        "outputId": "ff0c2ba6-c1ff-4e99-f824-26bd10eb4140"
      },
      "source": [
        "df1.groupby(['Tfidf cluster Labels'])['refine_text'].count()"
      ],
      "execution_count": 231,
      "outputs": [
        {
          "output_type": "execute_result",
          "data": {
            "text/plain": [
              "Tfidf cluster Labels\n",
              "0    477\n",
              "1     86\n",
              "2     43\n",
              "3     41\n",
              "4     37\n",
              "5     35\n",
              "6     71\n",
              "7     45\n",
              "8     77\n",
              "9     88\n",
              "Name: refine_text, dtype: int64"
            ]
          },
          "metadata": {
            "tags": []
          },
          "execution_count": 231
        }
      ]
    },
    {
      "cell_type": "code",
      "metadata": {
        "colab": {
          "base_uri": "https://localhost:8080/"
        },
        "id": "yZ0eLlU0NivH",
        "outputId": "12d1c864-4a64-4298-fefd-0be0f0235029"
      },
      "source": [
        "\n",
        "print(\"Top words per cluster:\")\n",
        "order_centroids = model_tfif.cluster_centers_.argsort()[:, ::-1]\n",
        "for i in range(10):\n",
        "    print(\"Cluster %d:\" % i, end='')\n",
        "    for ind in order_centroids[i, :10]:\n",
        "        print(' %s' % terms1[ind], end='')\n",
        "        print()"
      ],
      "execution_count": 232,
      "outputs": [
        {
          "output_type": "stream",
          "text": [
            "Top words per cluster:\n",
            "Cluster 0: whoever\n",
            " worthxfxfxxf\n",
            " performance\n",
            " run\n",
            " rabada\n",
            " special\n",
            " man\n",
            " wicketxfxfxaxaxfxfxaxaxfxfxaxa\n",
            " bi\n",
            " kane\n",
            "Cluster 1: csk\n",
            " rps\n",
            " kkr\n",
            " kxip\n",
            " srh\n",
            " deccan\n",
            " rr\n",
            " mi\n",
            " bno\n",
            " rcb\n",
            "Cluster 2: played\n",
            " bwell\n",
            " week\n",
            " better\n",
            " next\n",
            " luck\n",
            " team\n",
            " till\n",
            " bcongratulations\n",
            " great\n",
            "Cluster 3: team\n",
            " season\n",
            " fan\n",
            " player\n",
            " bcongratulations\n",
            " best\n",
            " one\n",
            " wicketxfxfxaxaxfxfxaxaxfxfxaxa\n",
            " champion\n",
            " wining\n",
            "Cluster 4: dc\n",
            " mi\n",
            " till\n",
            " srh\n",
            " rcb\n",
            " csk\n",
            " bmi\n",
            " fan\n",
            " rr\n",
            " bit\n",
            "Cluster 5: qualifier\n",
            " bipl\n",
            " tisxfxfxxf\n",
            " beat\n",
            " hyderabad\n",
            " face\n",
            " match\n",
            " first\n",
            " run\n",
            " reach\n",
            "Cluster 6: cap\n",
            " purple\n",
            " bthe\n",
            " good\n",
            " rabada\n",
            " fight\n",
            " final\n",
            " clash\n",
            " theyxexxve\n",
            " orange\n",
            "Cluster 7: williamsons\n",
            " bwho\n",
            " indian\n",
            " mumbai\n",
            " join\n",
            " byou\n",
            " always\n",
            " lose\n",
            " life\n",
            " till\n",
            "Cluster 8: final\n",
            " made\n",
            " released\n",
            " till\n",
            " first\n",
            " rcb\n",
            " congratulation\n",
            " bdelhi\n",
            " see\n",
            " hetmyer\n",
            "Cluster 9: capital\n",
            " delhi\n",
            " join\n",
            " indian\n",
            " maiden\n",
            " mumbai\n",
            " bdelhi\n",
            " bqualifier\n",
            " williamsons\n",
            " stoinis\n"
          ],
          "name": "stdout"
        }
      ]
    },
    {
      "cell_type": "code",
      "metadata": {
        "colab": {
          "base_uri": "https://localhost:8080/",
          "height": 295
        },
        "id": "ozr59NtYN90f",
        "outputId": "3a10da5a-715d-429d-e38c-f1898a69712d"
      },
      "source": [
        "import matplotlib.pyplot as plt\n",
        "plt.bar([x for x in range(10)], df1.groupby(['Tfidf cluster Labels'])['refine_text'].count(), alpha = 0.4)\n",
        "plt.title('KMeans cluster points')\n",
        "plt.xlabel(\"Cluster number\")\n",
        "plt.ylabel(\"Number of points\")\n",
        "plt.show()"
      ],
      "execution_count": 233,
      "outputs": [
        {
          "output_type": "display_data",
          "data": {
            "image/png": "[encoded data removed]",
            "text/plain": [
              "<Figure size 432x288 with 1 Axes>"
            ]
          },
          "metadata": {
            "tags": [],
            "needs_background": "light"
          }
        }
      ]
    },
    {
      "cell_type": "markdown",
      "metadata": {
        "id": "qvtVBjgUUYGI"
      },
      "source": [
        "MultinomialNB Method\n",
        "\n",
        "\n"
      ]
    },
    {
      "cell_type": "code",
      "metadata": {
        "id": "99IG1N_iU9RX"
      },
      "source": [
        "from sklearn.model_selection import train_test_split\n",
        "X_train, X_test, y_train, y_test = train_test_split(tfidf, tweets[\"sentiment_type\"], test_size=0.2,random_state=109)"
      ],
      "execution_count": 237,
      "outputs": []
    },
    {
      "cell_type": "code",
      "metadata": {
        "colab": {
          "base_uri": "https://localhost:8080/"
        },
        "id": "a_czLsZ0bW5F",
        "outputId": "b3949cfc-01bf-48ae-ef7a-3461792730af"
      },
      "source": [
        "from sklearn.naive_bayes import MultinomialNB\n",
        "from sklearn.metrics import accuracy_score\n",
        "from sklearn.metrics import classification_report\n",
        "cm = MultinomialNB()\n",
        "cm.fit(X_train,y_train)\n",
        "y_pred = cm.predict(X_test)\n",
        "accuracy = accuracy_score(y_test, y_pred)\n",
        "print(\"Accuracy: %.2f%%\" % (accuracy * 100.0))\n",
        "print(classification_report(y_test,y_pred))"
      ],
      "execution_count": 238,
      "outputs": [
        {
          "output_type": "stream",
          "text": [
            "Accuracy: 64.00%\n",
            "              precision    recall  f1-score   support\n",
            "\n",
            "    NEGATIVE       0.00      0.00      0.00        23\n",
            "     NEUTRAL       1.00      0.12      0.22        56\n",
            "    POSITIVE       0.63      1.00      0.77       121\n",
            "\n",
            "    accuracy                           0.64       200\n",
            "   macro avg       0.54      0.38      0.33       200\n",
            "weighted avg       0.66      0.64      0.53       200\n",
            "\n"
          ],
          "name": "stdout"
        }
      ]
    },
    {
      "cell_type": "code",
      "metadata": {
        "id": "XzAFoTBGbyPg"
      },
      "source": [
        "RandomForest"
      ],
      "execution_count": null,
      "outputs": []
    },
    {
      "cell_type": "code",
      "metadata": {
        "colab": {
          "base_uri": "https://localhost:8080/"
        },
        "id": "TQ4dtoOzb0Y9",
        "outputId": "75ebcadd-b994-45db-fbfe-9a24d817387d"
      },
      "source": [
        "from sklearn.ensemble import RandomForestClassifier\n",
        "from sklearn.metrics import accuracy_score\n",
        "from sklearn.metrics import classification_report\n",
        "rf = RandomForestClassifier()\n",
        "rf.fit(X_train,y_train)\n",
        "y_pred = rf.predict(X_test)\n",
        "accuracy = accuracy_score(y_test, y_pred)\n",
        "print(\"Accuracy: %.2f%%\" % (accuracy * 100.0))\n",
        "print(classification_report(y_test,y_pred))"
      ],
      "execution_count": 239,
      "outputs": [
        {
          "output_type": "stream",
          "text": [
            "Accuracy: 74.00%\n",
            "              precision    recall  f1-score   support\n",
            "\n",
            "    NEGATIVE       0.50      0.09      0.15        23\n",
            "     NEUTRAL       0.59      0.91      0.71        56\n",
            "    POSITIVE       0.87      0.79      0.83       121\n",
            "\n",
            "    accuracy                           0.74       200\n",
            "   macro avg       0.65      0.59      0.56       200\n",
            "weighted avg       0.75      0.74      0.72       200\n",
            "\n"
          ],
          "name": "stdout"
        }
      ]
    },
    {
      "cell_type": "code",
      "metadata": {
        "colab": {
          "base_uri": "https://localhost:8080/"
        },
        "id": "9HKZYui8cBc_",
        "outputId": "5dbb5517-1c12-4c19-9a6b-929b9ad316d6"
      },
      "source": [
        "print(pd.DataFrame({'predicted reviews':y_pred}))"
      ],
      "execution_count": 241,
      "outputs": [
        {
          "output_type": "stream",
          "text": [
            "    predicted reviews\n",
            "0             NEUTRAL\n",
            "1            POSITIVE\n",
            "2             NEUTRAL\n",
            "3            POSITIVE\n",
            "4            POSITIVE\n",
            "..                ...\n",
            "195           NEUTRAL\n",
            "196           NEUTRAL\n",
            "197          POSITIVE\n",
            "198          POSITIVE\n",
            "199           NEUTRAL\n",
            "\n",
            "[200 rows x 1 columns]\n"
          ],
          "name": "stdout"
        }
      ]
    }
  ]
}