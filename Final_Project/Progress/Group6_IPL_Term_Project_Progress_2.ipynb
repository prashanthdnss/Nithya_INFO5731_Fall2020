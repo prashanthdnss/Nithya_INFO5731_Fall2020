{
  "nbformat": 4,
  "nbformat_minor": 0,
  "metadata": {
    "colab": {
      "name": "Group6_IPL_Term_Project_Progress.ipynb",
      "provenance": [],
      "collapsed_sections": [],
      "include_colab_link": true
    },
    "kernelspec": {
      "name": "python3",
      "display_name": "Python 3"
    }
  },
  "cells": [
    {
      "cell_type": "markdown",
      "metadata": {
        "id": "view-in-github",
        "colab_type": "text"
      },
      "source": [
        "<a href=\"https://colab.research.google.com/github/prashanthdnss/Nithya_INFO5731_Fall2020/blob/master/Final_Project/Progress/Group6_IPL_Term_Project_Progress_2.ipynb\" target=\"_parent\"><img src=\"https://colab.research.google.com/assets/colab-badge.svg\" alt=\"Open In Colab\"/></a>"
      ]
    },
    {
      "cell_type": "code",
      "metadata": {
        "id": "hyTnPOkcTAoN",
        "colab": {
          "base_uri": "https://localhost:8080/"
        },
        "outputId": "b6a0b22c-5b21-4669-a6c0-7eb957546876"
      },
      "source": [
        "!pip install tweepy  #Installing Tweepy for twitter data"
      ],
      "execution_count": null,
      "outputs": [
        {
          "output_type": "stream",
          "text": [
            "Requirement already satisfied: tweepy in /usr/local/lib/python3.6/dist-packages (3.6.0)\n",
            "Requirement already satisfied: requests>=2.11.1 in /usr/local/lib/python3.6/dist-packages (from tweepy) (2.23.0)\n",
            "Requirement already satisfied: six>=1.10.0 in /usr/local/lib/python3.6/dist-packages (from tweepy) (1.15.0)\n",
            "Requirement already satisfied: requests-oauthlib>=0.7.0 in /usr/local/lib/python3.6/dist-packages (from tweepy) (1.3.0)\n",
            "Requirement already satisfied: PySocks>=1.5.7 in /usr/local/lib/python3.6/dist-packages (from tweepy) (1.7.1)\n",
            "Requirement already satisfied: chardet<4,>=3.0.2 in /usr/local/lib/python3.6/dist-packages (from requests>=2.11.1->tweepy) (3.0.4)\n",
            "Requirement already satisfied: certifi>=2017.4.17 in /usr/local/lib/python3.6/dist-packages (from requests>=2.11.1->tweepy) (2020.6.20)\n",
            "Requirement already satisfied: urllib3!=1.25.0,!=1.25.1,<1.26,>=1.21.1 in /usr/local/lib/python3.6/dist-packages (from requests>=2.11.1->tweepy) (1.24.3)\n",
            "Requirement already satisfied: idna<3,>=2.5 in /usr/local/lib/python3.6/dist-packages (from requests>=2.11.1->tweepy) (2.10)\n",
            "Requirement already satisfied: oauthlib>=3.0.0 in /usr/local/lib/python3.6/dist-packages (from requests-oauthlib>=0.7.0->tweepy) (3.1.0)\n"
          ],
          "name": "stdout"
        }
      ]
    },
    {
      "cell_type": "markdown",
      "metadata": {
        "id": "UmeUFsajLCoX"
      },
      "source": [
        "**Tweets extracted 11/8/2020**"
      ]
    },
    {
      "cell_type": "code",
      "metadata": {
        "id": "gG9pci1qU5ax",
        "colab": {
          "base_uri": "https://localhost:8080/"
        },
        "outputId": "87dec30b-6df3-45b9-a9f8-ac637fbb2252"
      },
      "source": [
        "#Program to get twitter data using Twitter API \n",
        "\n",
        "import json\n",
        "import csv\n",
        "import tweepy\n",
        "import re\n",
        "import os\n",
        "def twitter_hashtag(api_key, api_key_secret, access_token, access_token_secret, hashtag):\n",
        "    \n",
        "    auth = tweepy.OAuthHandler(api_key, api_key_secret)\n",
        "    auth.set_access_token(access_token, access_token_secret)\n",
        "\n",
        "    api = tweepy.API(auth,wait_on_rate_limit=True)\n",
        "    \n",
        "    file_name = '_'.join(re.findall(r\"#(\\w+)\", hashtag))\n",
        "\n",
        "    with open('%s.csv' % (file_name), 'w') as file:\n",
        "\n",
        "        w = csv.writer(file)\n",
        "\n",
        "        w.writerow(['created', 'tweet_text', 'username', 'all_hashtags'])\n",
        "\n",
        "        for tweet in tweepy.Cursor(api.search, q=hashtag+' -filter:retweets', lang=\"en\", tweet_mode='extended').items(1000):\n",
        "            w.writerow([tweet.created_at, tweet.full_text.replace('\\n',' ').encode('utf-8'), tweet.user.screen_name.encode('utf-8'),[e['text'] for e in tweet._json['entities']['hashtags']]])\n",
        "            \n",
        "\n",
        "\n",
        "api_key = input('Please give twitter api key')\n",
        "api_key_secret = input('Please give twitter api key secret')\n",
        "access_token = input('Please give twitter access token')\n",
        "access_token_secret = input('Please give twitter access token secret')\n",
        "    \n",
        "hashtag = input('enter the hashtag')\n",
        "\n",
        "twitter_hashtag(api_key, api_key_secret, access_token, access_token_secret, hashtag)\n",
        "\n"
      ],
      "execution_count": null,
      "outputs": [
        {
          "output_type": "stream",
          "text": [
            "Please give twitter api keyePjdnPqsmA5Mgjewf5i5Vtnuw\n",
            "Please give twitter api key secretV83Stor4JRihnxggUa9OODxIrAc8EHmQdJxlnpxAGZXjqbJA7v\n",
            "Please give twitter access token1287853629869821952-ZsnNF12Y53o5JfCOUBPn72lO0OJau1\n",
            "Please give twitter access token secretTSYcER5dl5L72dcbpo8f0LzQqfn6qX3r2n1QsLpOGxRAz\n",
            "enter the hashtag#IPL2020\n"
          ],
          "name": "stdout"
        }
      ]
    },
    {
      "cell_type": "code",
      "metadata": {
        "id": "EYZM5qdsC8QB"
      },
      "source": [
        ""
      ],
      "execution_count": null,
      "outputs": []
    },
    {
      "cell_type": "code",
      "metadata": {
        "id": "X3vnZxYQU5d9",
        "colab": {
          "base_uri": "https://localhost:8080/",
          "height": 195
        },
        "outputId": "b1461e72-d069-4748-dd92-c93388961d7e"
      },
      "source": [
        "#Saving the twitter data to a csv file\n",
        "import pandas as pd\n",
        "tweets=pd.read_csv('/content/IPL2020 (1).csv')\n",
        "tweets.head()"
      ],
      "execution_count": 49,
      "outputs": [
        {
          "output_type": "execute_result",
          "data": {
            "text/html": [
              "<div>\n",
              "<style scoped>\n",
              "    .dataframe tbody tr th:only-of-type {\n",
              "        vertical-align: middle;\n",
              "    }\n",
              "\n",
              "    .dataframe tbody tr th {\n",
              "        vertical-align: top;\n",
              "    }\n",
              "\n",
              "    .dataframe thead th {\n",
              "        text-align: right;\n",
              "    }\n",
              "</style>\n",
              "<table border=\"1\" class=\"dataframe\">\n",
              "  <thead>\n",
              "    <tr style=\"text-align: right;\">\n",
              "      <th></th>\n",
              "      <th>created</th>\n",
              "      <th>tweet_text</th>\n",
              "      <th>username</th>\n",
              "      <th>all_hashtags</th>\n",
              "    </tr>\n",
              "  </thead>\n",
              "  <tbody>\n",
              "    <tr>\n",
              "      <th>0</th>\n",
              "      <td>2020-11-09 04:49:21</td>\n",
              "      <td>b'Look at #SRH youngster Priyam Garg after Kan...</td>\n",
              "      <td>b'SteadyTheShip'</td>\n",
              "      <td>['SRH', 'SRHvDC', 'DCvSRH', 'IPL2020']</td>\n",
              "    </tr>\n",
              "    <tr>\n",
              "      <th>1</th>\n",
              "      <td>2020-11-09 04:49:16</td>\n",
              "      <td>b'This is Mr.360\\xc2\\xb0 @ABdeVilliers17 . Mos...</td>\n",
              "      <td>b'imsapien'</td>\n",
              "      <td>['Cricket', 'IPL2020', 'Eliminater', 'IPLQuali...</td>\n",
              "    </tr>\n",
              "    <tr>\n",
              "      <th>2</th>\n",
              "      <td>2020-11-09 04:48:52</td>\n",
              "      <td>b\"Great things happen to those who don't stop ...</td>\n",
              "      <td>b'CricketGirl_45'</td>\n",
              "      <td>['RohitSharma', 'MumbaiIndians', 'IPL2020', 'I...</td>\n",
              "    </tr>\n",
              "    <tr>\n",
              "      <th>3</th>\n",
              "      <td>2020-11-09 04:48:41</td>\n",
              "      <td>b'T Natarajan made a mark with his yorkers in ...</td>\n",
              "      <td>b'ESPNcricinfo'</td>\n",
              "      <td>['IPL2020']</td>\n",
              "    </tr>\n",
              "    <tr>\n",
              "      <th>4</th>\n",
              "      <td>2020-11-09 04:47:57</td>\n",
              "      <td>b'#IPL2020 Final: Marcus Stoinis warning to @m...</td>\n",
              "      <td>b'InsideSportIND'</td>\n",
              "      <td>['IPL2020', 'iplseason13', 'IPLfinal', 'Mumbai...</td>\n",
              "    </tr>\n",
              "  </tbody>\n",
              "</table>\n",
              "</div>"
            ],
            "text/plain": [
              "               created  ...                                       all_hashtags\n",
              "0  2020-11-09 04:49:21  ...             ['SRH', 'SRHvDC', 'DCvSRH', 'IPL2020']\n",
              "1  2020-11-09 04:49:16  ...  ['Cricket', 'IPL2020', 'Eliminater', 'IPLQuali...\n",
              "2  2020-11-09 04:48:52  ...  ['RohitSharma', 'MumbaiIndians', 'IPL2020', 'I...\n",
              "3  2020-11-09 04:48:41  ...                                        ['IPL2020']\n",
              "4  2020-11-09 04:47:57  ...  ['IPL2020', 'iplseason13', 'IPLfinal', 'Mumbai...\n",
              "\n",
              "[5 rows x 4 columns]"
            ]
          },
          "metadata": {
            "tags": []
          },
          "execution_count": 49
        }
      ]
    },
    {
      "cell_type": "code",
      "metadata": {
        "id": "hJpkDEYoQeRW"
      },
      "source": [
        "#Functions to clean Tweets\n",
        "\n",
        "def remove_tag(string):\n",
        "    tweet_text=re.sub('<.*?>','',string)\n",
        "    return tweet_text\n",
        "def remove_mention(tweet_text):\n",
        "    line=re.sub(r'@\\w+','',tweet_text)\n",
        "    return line\n",
        "def remove_hash(tweet_text):\n",
        "    line=re.sub(r'#\\w+','',tweet_text)\n",
        "    return line\n",
        "\n",
        "def remove_newline(string):\n",
        "    tweet_text=re.sub('\\n','',string)\n",
        "    return tweet_text\n",
        "def remove_url(string): \n",
        "    tweet_text = re.sub('http[s]?://(?:[a-zA-Z]|[0-9]|[$-_@.&+]|[!*\\(\\),]|(?:%[0-9a-fA-F][0-9a-fA-F]))+','',string)\n",
        "    return tweet_text\n",
        "def remove_number(tweet_text):\n",
        "    line=re.sub(r'[0-9]+','',tweet_text)\n",
        "    return line\n",
        "def remove_punct(tweet_text):\n",
        "    line = re.sub(r'[!\"\\$%&\\'()*+,\\-.\\/:;=#@?\\[\\\\\\]^_`{|}~]*','',tweet_text)\n",
        "    return line\n",
        "def text_strip(string):\n",
        "    line=re.sub('\\s{2,}', ' ', string.strip())\n",
        "    return line\n",
        "\n"
      ],
      "execution_count": 50,
      "outputs": []
    },
    {
      "cell_type": "code",
      "metadata": {
        "id": "EbyPFD1m-dQd",
        "colab": {
          "base_uri": "https://localhost:8080/"
        },
        "outputId": "e2b19ac7-8465-4177-a4fd-ac5b6b681069"
      },
      "source": [
        "!pip install nltk #installing NLTK Package"
      ],
      "execution_count": 4,
      "outputs": [
        {
          "output_type": "stream",
          "text": [
            "Requirement already satisfied: nltk in /usr/local/lib/python3.6/dist-packages (3.2.5)\n",
            "Requirement already satisfied: six in /usr/local/lib/python3.6/dist-packages (from nltk) (1.15.0)\n"
          ],
          "name": "stdout"
        }
      ]
    },
    {
      "cell_type": "code",
      "metadata": {
        "id": "kiRzYjf2RCOf",
        "colab": {
          "base_uri": "https://localhost:8080/"
        },
        "outputId": "c17d59b7-ad19-4ecb-eb4a-2295aa9cd0fc"
      },
      "source": [
        "#Clensing the tweets\n",
        "\n",
        "import nltk\n",
        "import json\n",
        "import csv\n",
        "import tweepy\n",
        "import re\n",
        "import os\n",
        "\n",
        "\n",
        "tweets['refine_text']=tweets['tweet_text'].str.lower()\n",
        "tweets['refine_text'] = tweets['refine_text'].str.replace('b[\\s]+', ' ')\n",
        "tweets['refine_text'] = tweets['refine_text'].str.replace('b\\'', ' ')\n",
        "tweets['refine_text'] = tweets['refine_text'].str.replace('b\\\"', ' ')\n",
        "tweets['refine_text']=tweets['refine_text'].apply(lambda x:remove_tag(str(x)))\n",
        "tweets['refine_text']=tweets['refine_text'].apply(lambda x:remove_mention(str(x)))\n",
        "tweets['refine_text']=tweets['refine_text'].apply(lambda x:remove_hash(str(x)))\n",
        "tweets['refine_text']=tweets['refine_text'].apply(lambda x:remove_newline(x))\n",
        "tweets['refine_text']=tweets['refine_text'].apply(lambda x:remove_url(x))\n",
        "tweets['refine_text']=tweets['refine_text'].apply(lambda x:remove_number(x))\n",
        "tweets['refine_text']=tweets['refine_text'].apply(lambda x:remove_punct(x))\n",
        "\n",
        "tweets['refine_text']=tweets['refine_text'].apply(lambda x:text_strip(x))\n",
        "\n",
        "tweets['text_length']=tweets['refine_text'].str.split().map(lambda x: len(x))\n",
        "\n",
        "#Remove noise\n",
        "tweets['refine_text'] = tweets['refine_text'].str.replace('[^\\w\\s]','')\n",
        "\n",
        "\n",
        "#Remove stopwords\n",
        "nltk.download('stopwords')\n",
        "from nltk.corpus import stopwords\n",
        "stop = stopwords.words('english')\n",
        "stop.extend(['amp','r','j','v','u','xcxa','via','xexcx','th','ipl','final','v','from','xexcxxefxbxf','xfxfxaxa','xfxfxx','xfxfxcxb','xfxfxxf','xfxfxx', 'xfxfxxd','xfxfxxa','i','the','we','it', 'subject', 're', 'edu', 'use'])\n",
        "tweets['refine_text'] = tweets['refine_text'].apply(lambda x: \" \".join(x for x in x.split() if x not in stop))\n",
        "\n",
        "\n",
        "\n",
        "#stemming\n",
        "from nltk.stem import PorterStemmer\n",
        "st = PorterStemmer()\n",
        "tweets['refine_text'][:5].apply(lambda x: \" \".join([st.stem(word) for word in x.split()]))\n",
        "\n",
        "#lemmatization\n",
        "!pip install -U textblob\n",
        "from textblob import Word\n",
        "import nltk\n",
        "nltk.download('wordnet')\n",
        "\n",
        "tweets['refine_text'] = tweets['refine_text'].apply(lambda x: \" \".join([Word(word).lemmatize() for word in x.split()]))\n"
      ],
      "execution_count": 53,
      "outputs": [
        {
          "output_type": "stream",
          "text": [
            "[nltk_data] Downloading package stopwords to /root/nltk_data...\n",
            "[nltk_data]   Package stopwords is already up-to-date!\n",
            "Requirement already up-to-date: textblob in /usr/local/lib/python3.6/dist-packages (0.15.3)\n",
            "Requirement already satisfied, skipping upgrade: nltk>=3.1 in /usr/local/lib/python3.6/dist-packages (from textblob) (3.2.5)\n",
            "Requirement already satisfied, skipping upgrade: six in /usr/local/lib/python3.6/dist-packages (from nltk>=3.1->textblob) (1.15.0)\n",
            "[nltk_data] Downloading package wordnet to /root/nltk_data...\n",
            "[nltk_data]   Package wordnet is already up-to-date!\n"
          ],
          "name": "stdout"
        }
      ]
    },
    {
      "cell_type": "code",
      "metadata": {
        "colab": {
          "base_uri": "https://localhost:8080/"
        },
        "id": "NmvN8X6lEgeX",
        "outputId": "675dea2e-60d4-42ab-afb9-c1f942dc49e1"
      },
      "source": [
        "tweets['refine_text']"
      ],
      "execution_count": 54,
      "outputs": [
        {
          "output_type": "execute_result",
          "data": {
            "text/plain": [
              "0      look youngster priyam garg kane williamson mas...\n",
              "1                        mrxcxb dangerous animal cricket\n",
              "2      great thing happen dont stop believing trying ...\n",
              "3      natarajan made mark yorkers xfxfxxc see play t...\n",
              "4                           marcus stoinis warning check\n",
              "                             ...                        \n",
              "995    congratulation entering final first time keep ...\n",
              "996    well played ur fight back frm ending rd place ...\n",
              "997    shikhar dhawan would take another former team ...\n",
              "998    winning heart art kane williamson artistxexdxa...\n",
              "999         dilli tu roar macha xfxfxaxxfxfxx made first\n",
              "Name: refine_text, Length: 1000, dtype: object"
            ]
          },
          "metadata": {
            "tags": []
          },
          "execution_count": 54
        }
      ]
    },
    {
      "cell_type": "code",
      "metadata": {
        "id": "AuKl4G8DgAtD"
      },
      "source": [
        "#Saaving the clensed data to a new CSV file\n",
        "tweets.to_csv('clean_tweets.csv') "
      ],
      "execution_count": 55,
      "outputs": []
    },
    {
      "cell_type": "code",
      "metadata": {
        "id": "TVT96iN-nTOX"
      },
      "source": [
        "# importing pandas module  \n",
        "import pandas as pd \n",
        "  \n",
        "# importing module for regex \n",
        "import re \n",
        "# importing numpy module \n",
        "import numpy as np\n",
        "# importing P=mathplot lib\n",
        "import matplotlib.pyplot as plt\n",
        "# reading csv file from url  \n",
        "dat = pd.read_csv(\"/content/clean_tweets.csv\")\n",
        "selected_columns = dat[[\"refine_text\"]]\n",
        "data = selected_columns.copy()\n"
      ],
      "execution_count": 56,
      "outputs": []
    },
    {
      "cell_type": "code",
      "metadata": {
        "id": "NJAN6oDhnTRT"
      },
      "source": [
        "# count of occurrence of each team mentions and creating new column \n",
        "data[\"count1\"]= data[\"refine_text\"].str.count(\"csk\", re.I) \n",
        "data[\"count2\"]= data[\"refine_text\"].str.count( \"DC\", re.I) \n",
        "data[\"count3\"]= data[\"refine_text\"].str.count( \"KXIP\", re.I) \n",
        "data[\"count4\"]= data[\"refine_text\"].str.count( \"KKR\", re.I) \n",
        "data[\"count5\"]= data[\"refine_text\"].str.count( \"MI\", re.I) \n",
        "data[\"count6\"]= data[\"refine_text\"].str.count( \"RR\", re.I) \n",
        "data[\"count7\"]= data[\"refine_text\"].str.count( \"RCB\", re.I) \n",
        "data[\"count8\"]= data[\"refine_text\"].str.count( \"SRH\", re.I)"
      ],
      "execution_count": 57,
      "outputs": []
    },
    {
      "cell_type": "code",
      "metadata": {
        "id": "4jh3_upAnTUs"
      },
      "source": [
        "# count of occurrence of each team mention with their state name and creating new column \n",
        "data[\"count11\"]= data[\"refine_text\"].str.count(\"Chennai\", re.I) \n",
        "data[\"count22\"]= data[\"refine_text\"].str.count( \"Delhi\", re.I) \n",
        "data[\"count33\"]= data[\"refine_text\"].str.count( \"Punjab\", re.I) \n",
        "data[\"count44\"]= data[\"refine_text\"].str.count( \"Kolkata\", re.I) \n",
        "data[\"count55\"]= data[\"refine_text\"].str.count( \"Mumbai\", re.I) \n",
        "data[\"count66\"]= data[\"refine_text\"].str.count( \"Rajasthan\", re.I) \n",
        "data[\"count77\"]= data[\"refine_text\"].str.count( \"Bangalore\", re.I) \n",
        "data[\"count88\"]= data[\"refine_text\"].str.count( \"Hyderabad\", re.I)"
      ],
      "execution_count": 58,
      "outputs": []
    },
    {
      "cell_type": "code",
      "metadata": {
        "id": "qkInndSxnTXt"
      },
      "source": [
        "#aggrigating the total mentions\n",
        "data[\"csk\"] = data[\"count1\"] + data[\"count11\"]\n",
        "data[\"DC\"] = data[\"count2\"] + data[\"count22\"]\n",
        "data[\"KXIP\"]= data[\"count3\"] + data[\"count33\"]\n",
        "data[\"KKR\"]= data[\"count4\"] + data[\"count44\"]\n",
        "data[\"MI\"]= data[\"count5\"] + data[\"count55\"]\n",
        "data[\"RR\"]= data[\"count6\"] + data[\"count66\"]\n",
        "data[\"RCB\"]= data[\"count7\"] + data[\"count77\"]\n",
        "data[\"SRH\"]= data[\"count8\"] + data[\"count88\"]"
      ],
      "execution_count": 59,
      "outputs": []
    },
    {
      "cell_type": "code",
      "metadata": {
        "id": "xyfsV-NhALO4",
        "colab": {
          "base_uri": "https://localhost:8080/",
          "height": 993
        },
        "outputId": "98002871-fbea-49cb-f8de-7b63d595965e"
      },
      "source": [
        "data"
      ],
      "execution_count": 60,
      "outputs": [
        {
          "output_type": "execute_result",
          "data": {
            "text/html": [
              "<div>\n",
              "<style scoped>\n",
              "    .dataframe tbody tr th:only-of-type {\n",
              "        vertical-align: middle;\n",
              "    }\n",
              "\n",
              "    .dataframe tbody tr th {\n",
              "        vertical-align: top;\n",
              "    }\n",
              "\n",
              "    .dataframe thead th {\n",
              "        text-align: right;\n",
              "    }\n",
              "</style>\n",
              "<table border=\"1\" class=\"dataframe\">\n",
              "  <thead>\n",
              "    <tr style=\"text-align: right;\">\n",
              "      <th></th>\n",
              "      <th>refine_text</th>\n",
              "      <th>count1</th>\n",
              "      <th>count2</th>\n",
              "      <th>count3</th>\n",
              "      <th>count4</th>\n",
              "      <th>count5</th>\n",
              "      <th>count6</th>\n",
              "      <th>count7</th>\n",
              "      <th>count8</th>\n",
              "      <th>count11</th>\n",
              "      <th>count22</th>\n",
              "      <th>count33</th>\n",
              "      <th>count44</th>\n",
              "      <th>count55</th>\n",
              "      <th>count66</th>\n",
              "      <th>count77</th>\n",
              "      <th>count88</th>\n",
              "      <th>csk</th>\n",
              "      <th>DC</th>\n",
              "      <th>KXIP</th>\n",
              "      <th>KKR</th>\n",
              "      <th>MI</th>\n",
              "      <th>RR</th>\n",
              "      <th>RCB</th>\n",
              "      <th>SRH</th>\n",
              "    </tr>\n",
              "  </thead>\n",
              "  <tbody>\n",
              "    <tr>\n",
              "      <th>0</th>\n",
              "      <td>look youngster priyam garg kane williamson mas...</td>\n",
              "      <td>0.0</td>\n",
              "      <td>0.0</td>\n",
              "      <td>0.0</td>\n",
              "      <td>0.0</td>\n",
              "      <td>0.0</td>\n",
              "      <td>0.0</td>\n",
              "      <td>0.0</td>\n",
              "      <td>0.0</td>\n",
              "      <td>0.0</td>\n",
              "      <td>0.0</td>\n",
              "      <td>0.0</td>\n",
              "      <td>0.0</td>\n",
              "      <td>0.0</td>\n",
              "      <td>0.0</td>\n",
              "      <td>0.0</td>\n",
              "      <td>0.0</td>\n",
              "      <td>0.0</td>\n",
              "      <td>0.0</td>\n",
              "      <td>0.0</td>\n",
              "      <td>0.0</td>\n",
              "      <td>0.0</td>\n",
              "      <td>0.0</td>\n",
              "      <td>0.0</td>\n",
              "      <td>0.0</td>\n",
              "    </tr>\n",
              "    <tr>\n",
              "      <th>1</th>\n",
              "      <td>mrxcxb dangerous animal cricket</td>\n",
              "      <td>0.0</td>\n",
              "      <td>0.0</td>\n",
              "      <td>0.0</td>\n",
              "      <td>0.0</td>\n",
              "      <td>0.0</td>\n",
              "      <td>0.0</td>\n",
              "      <td>0.0</td>\n",
              "      <td>0.0</td>\n",
              "      <td>0.0</td>\n",
              "      <td>0.0</td>\n",
              "      <td>0.0</td>\n",
              "      <td>0.0</td>\n",
              "      <td>0.0</td>\n",
              "      <td>0.0</td>\n",
              "      <td>0.0</td>\n",
              "      <td>0.0</td>\n",
              "      <td>0.0</td>\n",
              "      <td>0.0</td>\n",
              "      <td>0.0</td>\n",
              "      <td>0.0</td>\n",
              "      <td>0.0</td>\n",
              "      <td>0.0</td>\n",
              "      <td>0.0</td>\n",
              "      <td>0.0</td>\n",
              "    </tr>\n",
              "    <tr>\n",
              "      <th>2</th>\n",
              "      <td>great thing happen dont stop believing trying ...</td>\n",
              "      <td>0.0</td>\n",
              "      <td>0.0</td>\n",
              "      <td>0.0</td>\n",
              "      <td>0.0</td>\n",
              "      <td>0.0</td>\n",
              "      <td>0.0</td>\n",
              "      <td>0.0</td>\n",
              "      <td>0.0</td>\n",
              "      <td>0.0</td>\n",
              "      <td>0.0</td>\n",
              "      <td>0.0</td>\n",
              "      <td>0.0</td>\n",
              "      <td>0.0</td>\n",
              "      <td>0.0</td>\n",
              "      <td>0.0</td>\n",
              "      <td>0.0</td>\n",
              "      <td>0.0</td>\n",
              "      <td>0.0</td>\n",
              "      <td>0.0</td>\n",
              "      <td>0.0</td>\n",
              "      <td>0.0</td>\n",
              "      <td>0.0</td>\n",
              "      <td>0.0</td>\n",
              "      <td>0.0</td>\n",
              "    </tr>\n",
              "    <tr>\n",
              "      <th>3</th>\n",
              "      <td>natarajan made mark yorkers xfxfxxc see play t...</td>\n",
              "      <td>0.0</td>\n",
              "      <td>0.0</td>\n",
              "      <td>0.0</td>\n",
              "      <td>0.0</td>\n",
              "      <td>0.0</td>\n",
              "      <td>0.0</td>\n",
              "      <td>0.0</td>\n",
              "      <td>0.0</td>\n",
              "      <td>0.0</td>\n",
              "      <td>0.0</td>\n",
              "      <td>0.0</td>\n",
              "      <td>0.0</td>\n",
              "      <td>0.0</td>\n",
              "      <td>0.0</td>\n",
              "      <td>0.0</td>\n",
              "      <td>0.0</td>\n",
              "      <td>0.0</td>\n",
              "      <td>0.0</td>\n",
              "      <td>0.0</td>\n",
              "      <td>0.0</td>\n",
              "      <td>0.0</td>\n",
              "      <td>0.0</td>\n",
              "      <td>0.0</td>\n",
              "      <td>0.0</td>\n",
              "    </tr>\n",
              "    <tr>\n",
              "      <th>4</th>\n",
              "      <td>marcus stoinis warning check</td>\n",
              "      <td>0.0</td>\n",
              "      <td>0.0</td>\n",
              "      <td>0.0</td>\n",
              "      <td>0.0</td>\n",
              "      <td>0.0</td>\n",
              "      <td>0.0</td>\n",
              "      <td>0.0</td>\n",
              "      <td>0.0</td>\n",
              "      <td>0.0</td>\n",
              "      <td>0.0</td>\n",
              "      <td>0.0</td>\n",
              "      <td>0.0</td>\n",
              "      <td>0.0</td>\n",
              "      <td>0.0</td>\n",
              "      <td>0.0</td>\n",
              "      <td>0.0</td>\n",
              "      <td>0.0</td>\n",
              "      <td>0.0</td>\n",
              "      <td>0.0</td>\n",
              "      <td>0.0</td>\n",
              "      <td>0.0</td>\n",
              "      <td>0.0</td>\n",
              "      <td>0.0</td>\n",
              "      <td>0.0</td>\n",
              "    </tr>\n",
              "    <tr>\n",
              "      <th>...</th>\n",
              "      <td>...</td>\n",
              "      <td>...</td>\n",
              "      <td>...</td>\n",
              "      <td>...</td>\n",
              "      <td>...</td>\n",
              "      <td>...</td>\n",
              "      <td>...</td>\n",
              "      <td>...</td>\n",
              "      <td>...</td>\n",
              "      <td>...</td>\n",
              "      <td>...</td>\n",
              "      <td>...</td>\n",
              "      <td>...</td>\n",
              "      <td>...</td>\n",
              "      <td>...</td>\n",
              "      <td>...</td>\n",
              "      <td>...</td>\n",
              "      <td>...</td>\n",
              "      <td>...</td>\n",
              "      <td>...</td>\n",
              "      <td>...</td>\n",
              "      <td>...</td>\n",
              "      <td>...</td>\n",
              "      <td>...</td>\n",
              "      <td>...</td>\n",
              "    </tr>\n",
              "    <tr>\n",
              "      <th>995</th>\n",
              "      <td>congratulation entering final first time keep ...</td>\n",
              "      <td>0.0</td>\n",
              "      <td>0.0</td>\n",
              "      <td>0.0</td>\n",
              "      <td>0.0</td>\n",
              "      <td>0.0</td>\n",
              "      <td>0.0</td>\n",
              "      <td>0.0</td>\n",
              "      <td>0.0</td>\n",
              "      <td>0.0</td>\n",
              "      <td>0.0</td>\n",
              "      <td>0.0</td>\n",
              "      <td>0.0</td>\n",
              "      <td>0.0</td>\n",
              "      <td>0.0</td>\n",
              "      <td>0.0</td>\n",
              "      <td>0.0</td>\n",
              "      <td>0.0</td>\n",
              "      <td>0.0</td>\n",
              "      <td>0.0</td>\n",
              "      <td>0.0</td>\n",
              "      <td>0.0</td>\n",
              "      <td>0.0</td>\n",
              "      <td>0.0</td>\n",
              "      <td>0.0</td>\n",
              "    </tr>\n",
              "    <tr>\n",
              "      <th>996</th>\n",
              "      <td>well played ur fight back frm ending rd place ...</td>\n",
              "      <td>0.0</td>\n",
              "      <td>0.0</td>\n",
              "      <td>0.0</td>\n",
              "      <td>0.0</td>\n",
              "      <td>0.0</td>\n",
              "      <td>0.0</td>\n",
              "      <td>0.0</td>\n",
              "      <td>0.0</td>\n",
              "      <td>0.0</td>\n",
              "      <td>0.0</td>\n",
              "      <td>0.0</td>\n",
              "      <td>0.0</td>\n",
              "      <td>0.0</td>\n",
              "      <td>0.0</td>\n",
              "      <td>0.0</td>\n",
              "      <td>0.0</td>\n",
              "      <td>0.0</td>\n",
              "      <td>0.0</td>\n",
              "      <td>0.0</td>\n",
              "      <td>0.0</td>\n",
              "      <td>0.0</td>\n",
              "      <td>0.0</td>\n",
              "      <td>0.0</td>\n",
              "      <td>0.0</td>\n",
              "    </tr>\n",
              "    <tr>\n",
              "      <th>997</th>\n",
              "      <td>shikhar dhawan would take another former team ...</td>\n",
              "      <td>0.0</td>\n",
              "      <td>0.0</td>\n",
              "      <td>0.0</td>\n",
              "      <td>0.0</td>\n",
              "      <td>0.0</td>\n",
              "      <td>0.0</td>\n",
              "      <td>0.0</td>\n",
              "      <td>0.0</td>\n",
              "      <td>0.0</td>\n",
              "      <td>0.0</td>\n",
              "      <td>0.0</td>\n",
              "      <td>0.0</td>\n",
              "      <td>0.0</td>\n",
              "      <td>0.0</td>\n",
              "      <td>0.0</td>\n",
              "      <td>0.0</td>\n",
              "      <td>0.0</td>\n",
              "      <td>0.0</td>\n",
              "      <td>0.0</td>\n",
              "      <td>0.0</td>\n",
              "      <td>0.0</td>\n",
              "      <td>0.0</td>\n",
              "      <td>0.0</td>\n",
              "      <td>0.0</td>\n",
              "    </tr>\n",
              "    <tr>\n",
              "      <th>998</th>\n",
              "      <td>winning heart art kane williamson artistxexdxa...</td>\n",
              "      <td>0.0</td>\n",
              "      <td>0.0</td>\n",
              "      <td>0.0</td>\n",
              "      <td>0.0</td>\n",
              "      <td>0.0</td>\n",
              "      <td>0.0</td>\n",
              "      <td>0.0</td>\n",
              "      <td>0.0</td>\n",
              "      <td>0.0</td>\n",
              "      <td>0.0</td>\n",
              "      <td>0.0</td>\n",
              "      <td>0.0</td>\n",
              "      <td>0.0</td>\n",
              "      <td>0.0</td>\n",
              "      <td>0.0</td>\n",
              "      <td>0.0</td>\n",
              "      <td>0.0</td>\n",
              "      <td>0.0</td>\n",
              "      <td>0.0</td>\n",
              "      <td>0.0</td>\n",
              "      <td>0.0</td>\n",
              "      <td>0.0</td>\n",
              "      <td>0.0</td>\n",
              "      <td>0.0</td>\n",
              "    </tr>\n",
              "    <tr>\n",
              "      <th>999</th>\n",
              "      <td>dilli tu roar macha xfxfxaxxfxfxx made first</td>\n",
              "      <td>0.0</td>\n",
              "      <td>0.0</td>\n",
              "      <td>0.0</td>\n",
              "      <td>0.0</td>\n",
              "      <td>0.0</td>\n",
              "      <td>0.0</td>\n",
              "      <td>0.0</td>\n",
              "      <td>0.0</td>\n",
              "      <td>0.0</td>\n",
              "      <td>0.0</td>\n",
              "      <td>0.0</td>\n",
              "      <td>0.0</td>\n",
              "      <td>0.0</td>\n",
              "      <td>0.0</td>\n",
              "      <td>0.0</td>\n",
              "      <td>0.0</td>\n",
              "      <td>0.0</td>\n",
              "      <td>0.0</td>\n",
              "      <td>0.0</td>\n",
              "      <td>0.0</td>\n",
              "      <td>0.0</td>\n",
              "      <td>0.0</td>\n",
              "      <td>0.0</td>\n",
              "      <td>0.0</td>\n",
              "    </tr>\n",
              "  </tbody>\n",
              "</table>\n",
              "<p>1000 rows × 25 columns</p>\n",
              "</div>"
            ],
            "text/plain": [
              "                                           refine_text  count1  ...  RCB  SRH\n",
              "0    look youngster priyam garg kane williamson mas...     0.0  ...  0.0  0.0\n",
              "1                      mrxcxb dangerous animal cricket     0.0  ...  0.0  0.0\n",
              "2    great thing happen dont stop believing trying ...     0.0  ...  0.0  0.0\n",
              "3    natarajan made mark yorkers xfxfxxc see play t...     0.0  ...  0.0  0.0\n",
              "4                         marcus stoinis warning check     0.0  ...  0.0  0.0\n",
              "..                                                 ...     ...  ...  ...  ...\n",
              "995  congratulation entering final first time keep ...     0.0  ...  0.0  0.0\n",
              "996  well played ur fight back frm ending rd place ...     0.0  ...  0.0  0.0\n",
              "997  shikhar dhawan would take another former team ...     0.0  ...  0.0  0.0\n",
              "998  winning heart art kane williamson artistxexdxa...     0.0  ...  0.0  0.0\n",
              "999       dilli tu roar macha xfxfxaxxfxfxx made first     0.0  ...  0.0  0.0\n",
              "\n",
              "[1000 rows x 25 columns]"
            ]
          },
          "metadata": {
            "tags": []
          },
          "execution_count": 60
        }
      ]
    },
    {
      "cell_type": "code",
      "metadata": {
        "id": "6qGDUXwAnTbM"
      },
      "source": [
        "#dropping the previous count coloumns to clean the dataframe\n",
        "data1=data.drop(['count1', 'count11','count2','count22','count3','count33','count4','count44','count5','count55','count6','count66','count7','count77','count8','count88'], axis=1)"
      ],
      "execution_count": 61,
      "outputs": []
    },
    {
      "cell_type": "code",
      "metadata": {
        "id": "5MK641dMnxbd"
      },
      "source": [
        "#aggrigating the total mentions team wise and saving the results to a dictionary\n",
        "dict = data1.sum(axis = 0, skipna = True)"
      ],
      "execution_count": 62,
      "outputs": []
    },
    {
      "cell_type": "code",
      "metadata": {
        "id": "oObZVTkHnxeJ",
        "colab": {
          "base_uri": "https://localhost:8080/"
        },
        "outputId": "1b6c4624-5d13-428e-eb09-0981585b69f5"
      },
      "source": [
        "dict"
      ],
      "execution_count": 63,
      "outputs": [
        {
          "output_type": "execute_result",
          "data": {
            "text/plain": [
              "csk      53.0\n",
              "DC      261.0\n",
              "KXIP     23.0\n",
              "KKR      19.0\n",
              "MI      296.0\n",
              "RR       76.0\n",
              "RCB       7.0\n",
              "SRH      97.0\n",
              "dtype: float64"
            ]
          },
          "metadata": {
            "tags": []
          },
          "execution_count": 63
        }
      ]
    },
    {
      "cell_type": "code",
      "metadata": {
        "id": "k2H6xRznnxhw",
        "colab": {
          "base_uri": "https://localhost:8080/"
        },
        "outputId": "30fb83f5-85cd-4987-e745-c567e713b986"
      },
      "source": [
        "#saving the values to an array to use the results to plot\n",
        "y= dict.values\n",
        "#z =np.delete(y, 0, 0)\n",
        "y.tolist()\n"
      ],
      "execution_count": 66,
      "outputs": [
        {
          "output_type": "execute_result",
          "data": {
            "text/plain": [
              "[53.0, 261.0, 23.0, 19.0, 296.0, 76.0, 7.0, 97.0]"
            ]
          },
          "metadata": {
            "tags": []
          },
          "execution_count": 66
        }
      ]
    },
    {
      "cell_type": "code",
      "metadata": {
        "id": "-E6F4RPQoH9b",
        "colab": {
          "base_uri": "https://localhost:8080/",
          "height": 336
        },
        "outputId": "3481ea35-edf2-4dfa-c354-3f780ff1a9e8"
      },
      "source": [
        "#plotting the results\n",
        "fig = plt.figure()\n",
        "ax = fig.add_axes([0,0,1,1])\n",
        "q = [\"CSK\" ,\"DC\",\"KXIP\", \"KKR\",\"MI\",\"RR\",\"RCB\",\"SRH\"]\n",
        "ax.bar(q,y)\n",
        "plt.show()"
      ],
      "execution_count": 67,
      "outputs": [
        {
          "output_type": "display_data",
          "data": {
            "image/png": "[encoded data removed]",
            "text/plain": [
              "<Figure size 432x288 with 1 Axes>"
            ]
          },
          "metadata": {
            "tags": [],
            "needs_background": "light"
          }
        }
      ]
    },
    {
      "cell_type": "code",
      "metadata": {
        "id": "RMETrzwHTFKW",
        "colab": {
          "base_uri": "https://localhost:8080/",
          "height": 564
        },
        "outputId": "2eee50c5-bf42-4a3f-e03a-ceddcde029cb"
      },
      "source": [
        "#Importing the packages\n",
        "import pandas as pd\n",
        "import matplotlib.pyplot as plt\n",
        "from wordcloud import WordCloud\n",
        "from nltk.corpus import stopwords\n",
        "from textblob import TextBlob\n",
        "import numpy as np\n",
        "from nltk.sentiment.vader import SentimentIntensityAnalyzer\n",
        "import nltk\n",
        "nltk.download('stopwords')\n",
        "\n",
        "\n",
        "#Building a word cloud:\n",
        "words = pd.Series(tweets[\"refine_text\"].tolist()).astype(str)\n",
        "\n",
        "stop_words = [\"https\", \"co\", \"rt\"]\n",
        "stop = set(stopwords.words('english'))\n",
        "\n",
        "for i in range(0, len(words)):\n",
        "    words[i] = \" \".join([x for x in words[i].lower().split() if x not in stop_words])\n",
        "    words[i] = \" \".join([x for x in words[i].lower().split() if x not in stop])\n",
        "\n",
        "stop = set(stopwords.words('english'))    \n",
        "cloud = WordCloud(width=500, height=400,\n",
        "                  stopwords=(stop), \n",
        "                  colormap='hsv').generate(''.join(words.astype(str)))\n",
        "plt.figure(figsize=(10, 10))\n",
        "plt.imshow(cloud)\n",
        "plt.axis('off')\n",
        "plt.show()"
      ],
      "execution_count": 68,
      "outputs": [
        {
          "output_type": "stream",
          "text": [
            "/usr/local/lib/python3.6/dist-packages/nltk/twitter/__init__.py:20: UserWarning: The twython library has not been installed. Some functionality from the twitter package will not be available.\n",
            "  warnings.warn(\"The twython library has not been installed. \"\n"
          ],
          "name": "stderr"
        },
        {
          "output_type": "stream",
          "text": [
            "[nltk_data] Downloading package stopwords to /root/nltk_data...\n",
            "[nltk_data]   Package stopwords is already up-to-date!\n"
          ],
          "name": "stdout"
        },
        {
          "output_type": "display_data",
          "data": {
            "image/png": "[encoded data removed]",
            "text/plain": [
              "<Figure size 720x720 with 1 Axes>"
            ]
          },
          "metadata": {
            "tags": [],
            "needs_background": "light"
          }
        }
      ]
    },
    {
      "cell_type": "code",
      "metadata": {
        "id": "x-t1-HYfaq3_"
      },
      "source": [
        "\n",
        "import numpy as np \n",
        "import pandas as pd \n",
        "import os\n",
        "import itertools\n",
        "\n",
        "#plots\n",
        "import matplotlib.pyplot as plt\n",
        "import plotly.express as px\n",
        "import plotly.graph_objects as go\n",
        "import plotly.figure_factory as ff\n",
        "from plotly.colors import n_colors\n",
        "from plotly.subplots import make_subplots\n",
        "\n",
        "from wordcloud import WordCloud, STOPWORDS, ImageColorGenerator\n",
        "from sklearn.feature_extraction.text import CountVectorizer\n",
        "\n",
        "from PIL import Image\n",
        "from nltk.corpus import stopwords\n",
        "stop=set(stopwords.words('english'))\n",
        "from nltk.util import ngrams\n",
        "\n",
        "\n",
        "\n",
        "def ngram_df(corpus,nrange,n=None):\n",
        "    vec = CountVectorizer(stop_words = 'english',ngram_range=nrange).fit(corpus)\n",
        "    bag_of_words = vec.transform(corpus)\n",
        "    sum_words = bag_of_words.sum(axis=0) \n",
        "    words_freq = [(word, sum_words[0, idx]) for word, idx in vec.vocabulary_.items()]\n",
        "    words_freq =sorted(words_freq, key = lambda x: x[1], reverse=True)\n",
        "    total_list=words_freq[:n]\n",
        "    df=pd.DataFrame(total_list,columns=['text','count'])\n",
        "    return df\n",
        "unigram_df=ngram_df(tweets['refine_text'],(1,1),20)\n",
        "bigram_df=ngram_df(tweets['refine_text'],(2,2),20)\n",
        "trigram_df=ngram_df(tweets['refine_text'],(3,3),20)"
      ],
      "execution_count": 69,
      "outputs": []
    },
    {
      "cell_type": "code",
      "metadata": {
        "id": "-dnRWhxwbhrM",
        "colab": {
          "base_uri": "https://localhost:8080/",
          "height": 1000
        },
        "outputId": "07d87cfe-b1b8-4c69-9d98-d3931f02f020"
      },
      "source": [
        "bigram_df=ngram_df(tweets['refine_text'],(2,2),20)\n",
        "trigram_df=ngram_df(tweets['refine_text'],(3,3),20)\n",
        "fig = make_subplots(\n",
        "    rows=3, cols=1,subplot_titles=(\"Unigram\",\"Bigram\",'Trigram'),\n",
        "    specs=[[{\"type\": \"scatter\"}],\n",
        "           [{\"type\": \"scatter\"}],\n",
        "           [{\"type\": \"scatter\"}]\n",
        "          ])\n",
        "\n",
        "fig.add_trace(go.Bar(\n",
        "    y=unigram_df['text'][::-1],\n",
        "    x=unigram_df['count'][::-1],\n",
        "    marker={'color': \"blue\"},  \n",
        "    text=unigram_df['count'],\n",
        "    textposition = \"outside\",\n",
        "    orientation=\"h\",\n",
        "    name=\"Months\",\n",
        "),row=1,col=1)\n",
        "\n",
        "fig.add_trace(go.Bar(\n",
        "    y=bigram_df['text'][::-1],\n",
        "    x=bigram_df['count'][::-1],\n",
        "    marker={'color': \"blue\"},  \n",
        "    text=bigram_df['count'],\n",
        "     name=\"Days\",\n",
        "    textposition = \"outside\",\n",
        "    orientation=\"h\",\n",
        "),row=2,col=1)\n",
        "\n",
        "fig.add_trace(go.Bar(\n",
        "    y=trigram_df['text'][::-1],\n",
        "    x=trigram_df['count'][::-1],\n",
        "    marker={'color': \"blue\"},  \n",
        "    text=trigram_df['count'],\n",
        "     name=\"Days\",\n",
        "    orientation=\"h\",\n",
        "    textposition = \"outside\",\n",
        "),row=3,col=1)\n",
        "\n",
        "fig.update_xaxes(showline=True, linewidth=2, linecolor='black', mirror=True)\n",
        "fig.update_yaxes(showline=True, linewidth=2, linecolor='black', mirror=True)\n",
        "fig.update_layout(title_text='Top N Grams',xaxis_title=\" \",yaxis_title=\" \",\n",
        "                  showlegend=False,title_x=0.5,height=1200,template=\"plotly_dark\")\n",
        "fig.show()"
      ],
      "execution_count": 70,
      "outputs": [
        {
          "output_type": "display_data",
          "data": {
            "text/html": [
              "<html>\n",
              "<head><meta charset=\"utf-8\" /></head>\n",
              "<body>\n",
              "    <div>\n",
              "            <script src=\"https://cdnjs.cloudflare.com/ajax/libs/mathjax/2.7.5/MathJax.js?config=TeX-AMS-MML_SVG\"></script><script type=\"text/javascript\">if (window.MathJax) {MathJax.Hub.Config({SVG: {font: \"STIX-Web\"}});}</script>\n",
              "                <script type=\"text/javascript\">window.PlotlyConfig = {MathJaxConfig: 'local'};</script>\n",
              "        <script src=\"https://cdn.plot.ly/plotly-latest.min.js\"></script>    \n",
              "            <div id=\"13d5aeb9-4911-4030-a28d-d3c53ec3984a\" class=\"plotly-graph-div\" style=\"height:1200px; width:100%;\"></div>\n",
              "            <script type=\"text/javascript\">\n",
              "                \n",
              "                    window.PLOTLYENV=window.PLOTLYENV || {};\n",
              "                    \n",
              "                if (document.getElementById(\"13d5aeb9-4911-4030-a28d-d3c53ec3984a\")) {\n",
              "                    Plotly.newPlot(\n",
              "                        '13d5aeb9-4911-4030-a28d-d3c53ec3984a',\n",
              "                        [{\"marker\": {\"color\": \"blue\"}, \"name\": \"Months\", \"orientation\": \"h\", \"text\": [165.0, 152.0, 141.0, 138.0, 111.0, 108.0, 98.0, 81.0, 78.0, 70.0, 69.0, 68.0, 65.0, 62.0, 60.0, 59.0, 59.0, 58.0, 57.0, 54.0], \"textposition\": \"outside\", \"type\": \"bar\", \"x\": [54, 57, 58, 59, 59, 60, 62, 65, 68, 69, 70, 78, 81, 98, 108, 111, 138, 141, 152, 165], \"xaxis\": \"x\", \"y\": [\"good\", \"best\", \"year\", \"run\", \"played\", \"player\", \"rc\", \"mumbai\", \"season\", \"srh\", \"indian\", \"match\", \"capital\", \"mi\", \"time\", \"dc\", \"win\", \"delhi\", \"final\", \"team\"], \"yaxis\": \"y\"}, {\"marker\": {\"color\": \"blue\"}, \"name\": \"Days\", \"orientation\": \"h\", \"text\": [70.0, 43.0, 30.0, 20.0, 20.0, 16.0, 14.0, 13.0, 12.0, 11.0, 11.0, 11.0, 11.0, 10.0, 10.0, 10.0, 10.0, 9.0, 9.0, 9.0], \"textposition\": \"outside\", \"type\": \"bar\", \"x\": [9, 9, 9, 10, 10, 10, 10, 11, 11, 11, 11, 12, 13, 14, 16, 20, 20, 30, 43, 70], \"xaxis\": \"x2\", \"y\": [\"rc kkr\", \"team csk\", \"stoinis hetmyer\", \"abdul samad\", \"purple cap\", \"kxip rr\", \"final csk\", \"csk mi\", \"final team\", \"indian win\", \"kl rahul\", \"sunrisers hyderabad\", \"shreyas iyer\", \"mi rc\", \"mi dc\", \"rc released\", \"marcus stoinis\", \"kane williamson\", \"mumbai indian\", \"delhi capital\"], \"yaxis\": \"y2\"}, {\"marker\": {\"color\": \"blue\"}, \"name\": \"Days\", \"orientation\": \"h\", \"text\": [11.0, 8.0, 8.0, 8.0, 8.0, 8.0, 8.0, 8.0, 8.0, 8.0, 8.0, 8.0, 8.0, 8.0, 7.0, 7.0, 7.0, 7.0, 6.0, 6.0], \"textposition\": \"outside\", \"type\": \"bar\", \"x\": [6, 6, 7, 7, 7, 7, 8, 8, 8, 8, 8, 8, 8, 8, 8, 8, 8, 8, 8, 11], \"xaxis\": \"x3\", \"y\": [\"final csk rc\", \"watson final csk\", \"stoinis hetmyer final\", \"rc released stoinis\", \"released watson final\", \"rc released watson\", \"rr rps delhi\", \"kxip rr rps\", \"deccan kxip rr\", \"srh deccan kxip\", \"kkr srh deccan\", \"rc kkr srh\", \"mi rc kkr\", \"csk mi rc\", \"team csk mi\", \"final team csk\", \"indian delhi capital\", \"mumbai indian delhi\", \"released stoinis hetmyer\", \"mumbai indian win\"], \"yaxis\": \"y3\"}],\n",
              "                        {\"annotations\": [{\"font\": {\"size\": 16}, \"showarrow\": false, \"text\": \"Unigram\", \"x\": 0.5, \"xanchor\": \"center\", \"xref\": \"paper\", \"y\": 1.0, \"yanchor\": \"bottom\", \"yref\": \"paper\"}, {\"font\": {\"size\": 16}, \"showarrow\": false, \"text\": \"Bigram\", \"x\": 0.5, \"xanchor\": \"center\", \"xref\": \"paper\", \"y\": 0.6111111111111112, \"yanchor\": \"bottom\", \"yref\": \"paper\"}, {\"font\": {\"size\": 16}, \"showarrow\": false, \"text\": \"Trigram\", \"x\": 0.5, \"xanchor\": \"center\", \"xref\": \"paper\", \"y\": 0.22222222222222224, \"yanchor\": \"bottom\", \"yref\": \"paper\"}], \"height\": 1200, \"showlegend\": false, \"template\": {\"data\": {\"bar\": [{\"error_x\": {\"color\": \"#f2f5fa\"}, \"error_y\": {\"color\": \"#f2f5fa\"}, \"marker\": {\"line\": {\"color\": \"rgb(17,17,17)\", \"width\": 0.5}}, \"type\": \"bar\"}], \"barpolar\": [{\"marker\": {\"line\": {\"color\": \"rgb(17,17,17)\", \"width\": 0.5}}, \"type\": \"barpolar\"}], \"carpet\": [{\"aaxis\": {\"endlinecolor\": \"#A2B1C6\", \"gridcolor\": \"#506784\", \"linecolor\": \"#506784\", \"minorgridcolor\": \"#506784\", \"startlinecolor\": \"#A2B1C6\"}, \"baxis\": {\"endlinecolor\": \"#A2B1C6\", \"gridcolor\": \"#506784\", \"linecolor\": \"#506784\", \"minorgridcolor\": \"#506784\", \"startlinecolor\": \"#A2B1C6\"}, \"type\": \"carpet\"}], \"choropleth\": [{\"colorbar\": {\"outlinewidth\": 0, \"ticks\": \"\"}, \"type\": \"choropleth\"}], \"contour\": [{\"colorbar\": {\"outlinewidth\": 0, \"ticks\": \"\"}, \"colorscale\": [[0.0, \"#0d0887\"], [0.1111111111111111, \"#46039f\"], [0.2222222222222222, \"#7201a8\"], [0.3333333333333333, \"#9c179e\"], [0.4444444444444444, \"#bd3786\"], [0.5555555555555556, \"#d8576b\"], [0.6666666666666666, \"#ed7953\"], [0.7777777777777778, \"#fb9f3a\"], [0.8888888888888888, \"#fdca26\"], [1.0, \"#f0f921\"]], \"type\": \"contour\"}], \"contourcarpet\": [{\"colorbar\": {\"outlinewidth\": 0, \"ticks\": \"\"}, \"type\": \"contourcarpet\"}], \"heatmap\": [{\"colorbar\": {\"outlinewidth\": 0, \"ticks\": \"\"}, \"colorscale\": [[0.0, \"#0d0887\"], [0.1111111111111111, \"#46039f\"], [0.2222222222222222, \"#7201a8\"], [0.3333333333333333, \"#9c179e\"], [0.4444444444444444, \"#bd3786\"], [0.5555555555555556, \"#d8576b\"], [0.6666666666666666, \"#ed7953\"], [0.7777777777777778, \"#fb9f3a\"], [0.8888888888888888, \"#fdca26\"], [1.0, \"#f0f921\"]], \"type\": \"heatmap\"}], \"heatmapgl\": [{\"colorbar\": {\"outlinewidth\": 0, \"ticks\": \"\"}, \"colorscale\": [[0.0, \"#0d0887\"], [0.1111111111111111, \"#46039f\"], [0.2222222222222222, \"#7201a8\"], [0.3333333333333333, \"#9c179e\"], [0.4444444444444444, \"#bd3786\"], [0.5555555555555556, \"#d8576b\"], [0.6666666666666666, \"#ed7953\"], [0.7777777777777778, \"#fb9f3a\"], [0.8888888888888888, \"#fdca26\"], [1.0, \"#f0f921\"]], \"type\": \"heatmapgl\"}], \"histogram\": [{\"marker\": {\"colorbar\": {\"outlinewidth\": 0, \"ticks\": \"\"}}, \"type\": \"histogram\"}], \"histogram2d\": [{\"colorbar\": {\"outlinewidth\": 0, \"ticks\": \"\"}, \"colorscale\": [[0.0, \"#0d0887\"], [0.1111111111111111, \"#46039f\"], [0.2222222222222222, \"#7201a8\"], [0.3333333333333333, \"#9c179e\"], [0.4444444444444444, \"#bd3786\"], [0.5555555555555556, \"#d8576b\"], [0.6666666666666666, \"#ed7953\"], [0.7777777777777778, \"#fb9f3a\"], [0.8888888888888888, \"#fdca26\"], [1.0, \"#f0f921\"]], \"type\": \"histogram2d\"}], \"histogram2dcontour\": [{\"colorbar\": {\"outlinewidth\": 0, \"ticks\": \"\"}, \"colorscale\": [[0.0, \"#0d0887\"], [0.1111111111111111, \"#46039f\"], [0.2222222222222222, \"#7201a8\"], [0.3333333333333333, \"#9c179e\"], [0.4444444444444444, \"#bd3786\"], [0.5555555555555556, \"#d8576b\"], [0.6666666666666666, \"#ed7953\"], [0.7777777777777778, \"#fb9f3a\"], [0.8888888888888888, \"#fdca26\"], [1.0, \"#f0f921\"]], \"type\": \"histogram2dcontour\"}], \"mesh3d\": [{\"colorbar\": {\"outlinewidth\": 0, \"ticks\": \"\"}, \"type\": \"mesh3d\"}], \"parcoords\": [{\"line\": {\"colorbar\": {\"outlinewidth\": 0, \"ticks\": \"\"}}, \"type\": \"parcoords\"}], \"pie\": [{\"automargin\": true, \"type\": \"pie\"}], \"scatter\": [{\"marker\": {\"line\": {\"color\": \"#283442\"}}, \"type\": \"scatter\"}], \"scatter3d\": [{\"line\": {\"colorbar\": {\"outlinewidth\": 0, \"ticks\": \"\"}}, \"marker\": {\"colorbar\": {\"outlinewidth\": 0, \"ticks\": \"\"}}, \"type\": \"scatter3d\"}], \"scattercarpet\": [{\"marker\": {\"colorbar\": {\"outlinewidth\": 0, \"ticks\": \"\"}}, \"type\": \"scattercarpet\"}], \"scattergeo\": [{\"marker\": {\"colorbar\": {\"outlinewidth\": 0, \"ticks\": \"\"}}, \"type\": \"scattergeo\"}], \"scattergl\": [{\"marker\": {\"line\": {\"color\": \"#283442\"}}, \"type\": \"scattergl\"}], \"scattermapbox\": [{\"marker\": {\"colorbar\": {\"outlinewidth\": 0, \"ticks\": \"\"}}, \"type\": \"scattermapbox\"}], \"scatterpolar\": [{\"marker\": {\"colorbar\": {\"outlinewidth\": 0, \"ticks\": \"\"}}, \"type\": \"scatterpolar\"}], \"scatterpolargl\": [{\"marker\": {\"colorbar\": {\"outlinewidth\": 0, \"ticks\": \"\"}}, \"type\": \"scatterpolargl\"}], \"scatterternary\": [{\"marker\": {\"colorbar\": {\"outlinewidth\": 0, \"ticks\": \"\"}}, \"type\": \"scatterternary\"}], \"surface\": [{\"colorbar\": {\"outlinewidth\": 0, \"ticks\": \"\"}, \"colorscale\": [[0.0, \"#0d0887\"], [0.1111111111111111, \"#46039f\"], [0.2222222222222222, \"#7201a8\"], [0.3333333333333333, \"#9c179e\"], [0.4444444444444444, \"#bd3786\"], [0.5555555555555556, \"#d8576b\"], [0.6666666666666666, \"#ed7953\"], [0.7777777777777778, \"#fb9f3a\"], [0.8888888888888888, \"#fdca26\"], [1.0, \"#f0f921\"]], \"type\": \"surface\"}], \"table\": [{\"cells\": {\"fill\": {\"color\": \"#506784\"}, \"line\": {\"color\": \"rgb(17,17,17)\"}}, \"header\": {\"fill\": {\"color\": \"#2a3f5f\"}, \"line\": {\"color\": \"rgb(17,17,17)\"}}, \"type\": \"table\"}]}, \"layout\": {\"annotationdefaults\": {\"arrowcolor\": \"#f2f5fa\", \"arrowhead\": 0, \"arrowwidth\": 1}, \"coloraxis\": {\"colorbar\": {\"outlinewidth\": 0, \"ticks\": \"\"}}, \"colorscale\": {\"diverging\": [[0, \"#8e0152\"], [0.1, \"#c51b7d\"], [0.2, \"#de77ae\"], [0.3, \"#f1b6da\"], [0.4, \"#fde0ef\"], [0.5, \"#f7f7f7\"], [0.6, \"#e6f5d0\"], [0.7, \"#b8e186\"], [0.8, \"#7fbc41\"], [0.9, \"#4d9221\"], [1, \"#276419\"]], \"sequential\": [[0.0, \"#0d0887\"], [0.1111111111111111, \"#46039f\"], [0.2222222222222222, \"#7201a8\"], [0.3333333333333333, \"#9c179e\"], [0.4444444444444444, \"#bd3786\"], [0.5555555555555556, \"#d8576b\"], [0.6666666666666666, \"#ed7953\"], [0.7777777777777778, \"#fb9f3a\"], [0.8888888888888888, \"#fdca26\"], [1.0, \"#f0f921\"]], \"sequentialminus\": [[0.0, \"#0d0887\"], [0.1111111111111111, \"#46039f\"], [0.2222222222222222, \"#7201a8\"], [0.3333333333333333, \"#9c179e\"], [0.4444444444444444, \"#bd3786\"], [0.5555555555555556, \"#d8576b\"], [0.6666666666666666, \"#ed7953\"], [0.7777777777777778, \"#fb9f3a\"], [0.8888888888888888, \"#fdca26\"], [1.0, \"#f0f921\"]]}, \"colorway\": [\"#636efa\", \"#EF553B\", \"#00cc96\", \"#ab63fa\", \"#FFA15A\", \"#19d3f3\", \"#FF6692\", \"#B6E880\", \"#FF97FF\", \"#FECB52\"], \"font\": {\"color\": \"#f2f5fa\"}, \"geo\": {\"bgcolor\": \"rgb(17,17,17)\", \"lakecolor\": \"rgb(17,17,17)\", \"landcolor\": \"rgb(17,17,17)\", \"showlakes\": true, \"showland\": true, \"subunitcolor\": \"#506784\"}, \"hoverlabel\": {\"align\": \"left\"}, \"hovermode\": \"closest\", \"mapbox\": {\"style\": \"dark\"}, \"paper_bgcolor\": \"rgb(17,17,17)\", \"plot_bgcolor\": \"rgb(17,17,17)\", \"polar\": {\"angularaxis\": {\"gridcolor\": \"#506784\", \"linecolor\": \"#506784\", \"ticks\": \"\"}, \"bgcolor\": \"rgb(17,17,17)\", \"radialaxis\": {\"gridcolor\": \"#506784\", \"linecolor\": \"#506784\", \"ticks\": \"\"}}, \"scene\": {\"xaxis\": {\"backgroundcolor\": \"rgb(17,17,17)\", \"gridcolor\": \"#506784\", \"gridwidth\": 2, \"linecolor\": \"#506784\", \"showbackground\": true, \"ticks\": \"\", \"zerolinecolor\": \"#C8D4E3\"}, \"yaxis\": {\"backgroundcolor\": \"rgb(17,17,17)\", \"gridcolor\": \"#506784\", \"gridwidth\": 2, \"linecolor\": \"#506784\", \"showbackground\": true, \"ticks\": \"\", \"zerolinecolor\": \"#C8D4E3\"}, \"zaxis\": {\"backgroundcolor\": \"rgb(17,17,17)\", \"gridcolor\": \"#506784\", \"gridwidth\": 2, \"linecolor\": \"#506784\", \"showbackground\": true, \"ticks\": \"\", \"zerolinecolor\": \"#C8D4E3\"}}, \"shapedefaults\": {\"line\": {\"color\": \"#f2f5fa\"}}, \"sliderdefaults\": {\"bgcolor\": \"#C8D4E3\", \"bordercolor\": \"rgb(17,17,17)\", \"borderwidth\": 1, \"tickwidth\": 0}, \"ternary\": {\"aaxis\": {\"gridcolor\": \"#506784\", \"linecolor\": \"#506784\", \"ticks\": \"\"}, \"baxis\": {\"gridcolor\": \"#506784\", \"linecolor\": \"#506784\", \"ticks\": \"\"}, \"bgcolor\": \"rgb(17,17,17)\", \"caxis\": {\"gridcolor\": \"#506784\", \"linecolor\": \"#506784\", \"ticks\": \"\"}}, \"title\": {\"x\": 0.05}, \"updatemenudefaults\": {\"bgcolor\": \"#506784\", \"borderwidth\": 0}, \"xaxis\": {\"automargin\": true, \"gridcolor\": \"#283442\", \"linecolor\": \"#506784\", \"ticks\": \"\", \"title\": {\"standoff\": 15}, \"zerolinecolor\": \"#283442\", \"zerolinewidth\": 2}, \"yaxis\": {\"automargin\": true, \"gridcolor\": \"#283442\", \"linecolor\": \"#506784\", \"ticks\": \"\", \"title\": {\"standoff\": 15}, \"zerolinecolor\": \"#283442\", \"zerolinewidth\": 2}}}, \"title\": {\"text\": \"Top N Grams\", \"x\": 0.5}, \"xaxis\": {\"anchor\": \"y\", \"domain\": [0.0, 1.0], \"linecolor\": \"black\", \"linewidth\": 2, \"mirror\": true, \"showline\": true, \"title\": {\"text\": \" \"}}, \"xaxis2\": {\"anchor\": \"y2\", \"domain\": [0.0, 1.0], \"linecolor\": \"black\", \"linewidth\": 2, \"mirror\": true, \"showline\": true}, \"xaxis3\": {\"anchor\": \"y3\", \"domain\": [0.0, 1.0], \"linecolor\": \"black\", \"linewidth\": 2, \"mirror\": true, \"showline\": true}, \"yaxis\": {\"anchor\": \"x\", \"domain\": [0.7777777777777778, 1.0], \"linecolor\": \"black\", \"linewidth\": 2, \"mirror\": true, \"showline\": true, \"title\": {\"text\": \" \"}}, \"yaxis2\": {\"anchor\": \"x2\", \"domain\": [0.3888888888888889, 0.6111111111111112], \"linecolor\": \"black\", \"linewidth\": 2, \"mirror\": true, \"showline\": true}, \"yaxis3\": {\"anchor\": \"x3\", \"domain\": [0.0, 0.22222222222222224], \"linecolor\": \"black\", \"linewidth\": 2, \"mirror\": true, \"showline\": true}},\n",
              "                        {\"responsive\": true}\n",
              "                    ).then(function(){\n",
              "                            \n",
              "var gd = document.getElementById('13d5aeb9-4911-4030-a28d-d3c53ec3984a');\n",
              "var x = new MutationObserver(function (mutations, observer) {{\n",
              "        var display = window.getComputedStyle(gd).display;\n",
              "        if (!display || display === 'none') {{\n",
              "            console.log([gd, 'removed!']);\n",
              "            Plotly.purge(gd);\n",
              "            observer.disconnect();\n",
              "        }}\n",
              "}});\n",
              "\n",
              "// Listen for the removal of the full notebook cells\n",
              "var notebookContainer = gd.closest('#notebook-container');\n",
              "if (notebookContainer) {{\n",
              "    x.observe(notebookContainer, {childList: true});\n",
              "}}\n",
              "\n",
              "// Listen for the clearing of the current output cell\n",
              "var outputEl = gd.closest('.output');\n",
              "if (outputEl) {{\n",
              "    x.observe(outputEl, {childList: true});\n",
              "}}\n",
              "\n",
              "                        })\n",
              "                };\n",
              "                \n",
              "            </script>\n",
              "        </div>\n",
              "</body>\n",
              "</html>"
            ]
          },
          "metadata": {
            "tags": []
          }
        }
      ]
    },
    {
      "cell_type": "code",
      "metadata": {
        "id": "pOyAG35og3Pa",
        "colab": {
          "base_uri": "https://localhost:8080/",
          "height": 551
        },
        "outputId": "17cec1ca-373a-4a66-e5c8-21c513e14984"
      },
      "source": [
        "#sentimmental Analysis\n",
        "from nltk.sentiment.vader import SentimentIntensityAnalyzer\n",
        "from nltk.sentiment.util import *\n",
        "\n",
        "from nltk import tokenize\n",
        "import nltk\n",
        "nltk.download('vader_lexicon')\n",
        "\n",
        "sid = SentimentIntensityAnalyzer()\n",
        "\n",
        "tweets['sentiment_compound_polarity']=tweets.refine_text.apply(lambda x:sid.polarity_scores(x)['compound'])\n",
        "tweets['sentiment_neutral']=tweets.refine_text.apply(lambda x:sid.polarity_scores(x)['neu'])\n",
        "tweets['sentiment_negative']=tweets.refine_text.apply(lambda x:sid.polarity_scores(x)['neg'])\n",
        "tweets['sentiment_pos']=tweets.refine_text.apply(lambda x:sid.polarity_scores(x)['pos'])\n",
        "tweets['sentiment_type']=''\n",
        "tweets.loc[tweets.sentiment_compound_polarity>0,'sentiment_type']='POSITIVE'\n",
        "tweets.loc[tweets.sentiment_compound_polarity==0,'sentiment_type']='NEUTRAL'\n",
        "tweets.loc[tweets.sentiment_compound_polarity<0,'sentiment_type']='NEGATIVE'\n",
        "tweets.head()"
      ],
      "execution_count": 71,
      "outputs": [
        {
          "output_type": "stream",
          "text": [
            "[nltk_data] Downloading package vader_lexicon to /root/nltk_data...\n"
          ],
          "name": "stdout"
        },
        {
          "output_type": "execute_result",
          "data": {
            "text/html": [
              "<div>\n",
              "<style scoped>\n",
              "    .dataframe tbody tr th:only-of-type {\n",
              "        vertical-align: middle;\n",
              "    }\n",
              "\n",
              "    .dataframe tbody tr th {\n",
              "        vertical-align: top;\n",
              "    }\n",
              "\n",
              "    .dataframe thead th {\n",
              "        text-align: right;\n",
              "    }\n",
              "</style>\n",
              "<table border=\"1\" class=\"dataframe\">\n",
              "  <thead>\n",
              "    <tr style=\"text-align: right;\">\n",
              "      <th></th>\n",
              "      <th>created</th>\n",
              "      <th>tweet_text</th>\n",
              "      <th>username</th>\n",
              "      <th>all_hashtags</th>\n",
              "      <th>refine_text</th>\n",
              "      <th>text_length</th>\n",
              "      <th>sentiment_compound_polarity</th>\n",
              "      <th>sentiment_neutral</th>\n",
              "      <th>sentiment_negative</th>\n",
              "      <th>sentiment_pos</th>\n",
              "      <th>sentiment_type</th>\n",
              "    </tr>\n",
              "  </thead>\n",
              "  <tbody>\n",
              "    <tr>\n",
              "      <th>0</th>\n",
              "      <td>2020-11-09 04:49:21</td>\n",
              "      <td>b'Look at #SRH youngster Priyam Garg after Kan...</td>\n",
              "      <td>b'SteadyTheShip'</td>\n",
              "      <td>['SRH', 'SRHvDC', 'DCvSRH', 'IPL2020']</td>\n",
              "      <td>look youngster priyam garg kane williamson mas...</td>\n",
              "      <td>40</td>\n",
              "      <td>0.6969</td>\n",
              "      <td>0.720</td>\n",
              "      <td>0.062</td>\n",
              "      <td>0.218</td>\n",
              "      <td>POSITIVE</td>\n",
              "    </tr>\n",
              "    <tr>\n",
              "      <th>1</th>\n",
              "      <td>2020-11-09 04:49:16</td>\n",
              "      <td>b'This is Mr.360\\xc2\\xb0 @ABdeVilliers17 . Mos...</td>\n",
              "      <td>b'imsapien'</td>\n",
              "      <td>['Cricket', 'IPL2020', 'Eliminater', 'IPLQuali...</td>\n",
              "      <td>mrxcxb dangerous animal cricket</td>\n",
              "      <td>9</td>\n",
              "      <td>-0.4767</td>\n",
              "      <td>0.492</td>\n",
              "      <td>0.508</td>\n",
              "      <td>0.000</td>\n",
              "      <td>NEGATIVE</td>\n",
              "    </tr>\n",
              "    <tr>\n",
              "      <th>2</th>\n",
              "      <td>2020-11-09 04:48:52</td>\n",
              "      <td>b\"Great things happen to those who don't stop ...</td>\n",
              "      <td>b'CricketGirl_45'</td>\n",
              "      <td>['RohitSharma', 'MumbaiIndians', 'IPL2020', 'I...</td>\n",
              "      <td>great thing happen dont stop believing trying ...</td>\n",
              "      <td>21</td>\n",
              "      <td>0.9134</td>\n",
              "      <td>0.356</td>\n",
              "      <td>0.000</td>\n",
              "      <td>0.644</td>\n",
              "      <td>POSITIVE</td>\n",
              "    </tr>\n",
              "    <tr>\n",
              "      <th>3</th>\n",
              "      <td>2020-11-09 04:48:41</td>\n",
              "      <td>b'T Natarajan made a mark with his yorkers in ...</td>\n",
              "      <td>b'ESPNcricinfo'</td>\n",
              "      <td>['IPL2020']</td>\n",
              "      <td>natarajan made mark yorkers xfxfxxc see play t...</td>\n",
              "      <td>19</td>\n",
              "      <td>0.3400</td>\n",
              "      <td>0.789</td>\n",
              "      <td>0.000</td>\n",
              "      <td>0.211</td>\n",
              "      <td>POSITIVE</td>\n",
              "    </tr>\n",
              "    <tr>\n",
              "      <th>4</th>\n",
              "      <td>2020-11-09 04:47:57</td>\n",
              "      <td>b'#IPL2020 Final: Marcus Stoinis warning to @m...</td>\n",
              "      <td>b'InsideSportIND'</td>\n",
              "      <td>['IPL2020', 'iplseason13', 'IPLfinal', 'Mumbai...</td>\n",
              "      <td>marcus stoinis warning check</td>\n",
              "      <td>7</td>\n",
              "      <td>-0.3400</td>\n",
              "      <td>0.556</td>\n",
              "      <td>0.444</td>\n",
              "      <td>0.000</td>\n",
              "      <td>NEGATIVE</td>\n",
              "    </tr>\n",
              "  </tbody>\n",
              "</table>\n",
              "</div>"
            ],
            "text/plain": [
              "               created  ... sentiment_type\n",
              "0  2020-11-09 04:49:21  ...       POSITIVE\n",
              "1  2020-11-09 04:49:16  ...       NEGATIVE\n",
              "2  2020-11-09 04:48:52  ...       POSITIVE\n",
              "3  2020-11-09 04:48:41  ...       POSITIVE\n",
              "4  2020-11-09 04:47:57  ...       NEGATIVE\n",
              "\n",
              "[5 rows x 11 columns]"
            ]
          },
          "metadata": {
            "tags": []
          },
          "execution_count": 71
        }
      ]
    },
    {
      "cell_type": "code",
      "metadata": {
        "id": "h1XciltLhDuD",
        "colab": {
          "base_uri": "https://localhost:8080/",
          "height": 338
        },
        "outputId": "ef60c0dc-ed6b-49af-ff17-518402b42939"
      },
      "source": [
        "tweets.sentiment_type.value_counts().plot(kind='bar',title=\"sentiment analysis\")"
      ],
      "execution_count": 72,
      "outputs": [
        {
          "output_type": "execute_result",
          "data": {
            "text/plain": [
              "<matplotlib.axes._subplots.AxesSubplot at 0x7f941178cb70>"
            ]
          },
          "metadata": {
            "tags": []
          },
          "execution_count": 72
        },
        {
          "output_type": "display_data",
          "data": {
            "image/png": "[encoded data removed]",
            "text/plain": [
              "<Figure size 432x288 with 1 Axes>"
            ]
          },
          "metadata": {
            "tags": [],
            "needs_background": "light"
          }
        }
      ]
    },
    {
      "cell_type": "code",
      "metadata": {
        "id": "Jx9SMTFchDwi",
        "colab": {
          "base_uri": "https://localhost:8080/",
          "height": 300
        },
        "outputId": "a4419db7-2e11-4541-c181-ff971e6a2dd0"
      },
      "source": [
        "#Polarity of tweets hour wise\n",
        "import pandas as pd\n",
        "import matplotlib.pyplot as plt\n",
        "\n",
        "tweets['hour'] = pd.DatetimeIndex(tweets['created']).hour\n",
        "tweets['date'] = pd.DatetimeIndex(tweets['created']).date\n",
        "tweets['minute'] = pd.DatetimeIndex(tweets['created']).minute\n",
        "df=(tweets.groupby('hour',as_index=False).sentiment_compound_polarity.mean())\n",
        "  \n",
        "plt.plot(df['hour'], df['sentiment_compound_polarity'], color='red', marker='o')\n",
        "plt.title('sentiment_compound_polarity Vs hour', fontsize=14)\n",
        "plt.xlabel('hour', fontsize=14)\n",
        "plt.ylabel('sentiment_compound_polarity', fontsize=14)\n",
        "plt.grid(True)\n",
        "plt.show()"
      ],
      "execution_count": 73,
      "outputs": [
        {
          "output_type": "display_data",
          "data": {
            "image/png": "[encoded data removed]",
            "text/plain": [
              "<Figure size 432x288 with 1 Axes>"
            ]
          },
          "metadata": {
            "tags": [],
            "needs_background": "light"
          }
        }
      ]
    },
    {
      "cell_type": "code",
      "metadata": {
        "id": "q2RbwxD5fOXz",
        "colab": {
          "base_uri": "https://localhost:8080/"
        },
        "outputId": "74b2d66a-dc3d-40a9-e06f-450e91fc0442"
      },
      "source": [
        "pip install pyLDAvis"
      ],
      "execution_count": 74,
      "outputs": [
        {
          "output_type": "stream",
          "text": [
            "Collecting pyLDAvis\n",
            "\u001b[?25l  Downloading https://files.pythonhosted.org/packages/a5/3a/af82e070a8a96e13217c8f362f9a73e82d61ac8fff3a2561946a97f96266/pyLDAvis-2.1.2.tar.gz (1.6MB)\n",
            "\u001b[K     |████████████████████████████████| 1.6MB 5.7MB/s \n",
            "\u001b[?25hRequirement already satisfied: wheel>=0.23.0 in /usr/local/lib/python3.6/dist-packages (from pyLDAvis) (0.35.1)\n",
            "Requirement already satisfied: numpy>=1.9.2 in /usr/local/lib/python3.6/dist-packages (from pyLDAvis) (1.18.5)\n",
            "Requirement already satisfied: scipy>=0.18.0 in /usr/local/lib/python3.6/dist-packages (from pyLDAvis) (1.4.1)\n",
            "Requirement already satisfied: pandas>=0.17.0 in /usr/local/lib/python3.6/dist-packages (from pyLDAvis) (1.1.4)\n",
            "Requirement already satisfied: joblib>=0.8.4 in /usr/local/lib/python3.6/dist-packages (from pyLDAvis) (0.17.0)\n",
            "Requirement already satisfied: jinja2>=2.7.2 in /usr/local/lib/python3.6/dist-packages (from pyLDAvis) (2.11.2)\n",
            "Requirement already satisfied: numexpr in /usr/local/lib/python3.6/dist-packages (from pyLDAvis) (2.7.1)\n",
            "Requirement already satisfied: pytest in /usr/local/lib/python3.6/dist-packages (from pyLDAvis) (3.6.4)\n",
            "Requirement already satisfied: future in /usr/local/lib/python3.6/dist-packages (from pyLDAvis) (0.16.0)\n",
            "Collecting funcy\n",
            "  Downloading https://files.pythonhosted.org/packages/66/89/479de0afbbfb98d1c4b887936808764627300208bb771fcd823403645a36/funcy-1.15-py2.py3-none-any.whl\n",
            "Requirement already satisfied: python-dateutil>=2.7.3 in /usr/local/lib/python3.6/dist-packages (from pandas>=0.17.0->pyLDAvis) (2.8.1)\n",
            "Requirement already satisfied: pytz>=2017.2 in /usr/local/lib/python3.6/dist-packages (from pandas>=0.17.0->pyLDAvis) (2018.9)\n",
            "Requirement already satisfied: MarkupSafe>=0.23 in /usr/local/lib/python3.6/dist-packages (from jinja2>=2.7.2->pyLDAvis) (1.1.1)\n",
            "Requirement already satisfied: setuptools in /usr/local/lib/python3.6/dist-packages (from pytest->pyLDAvis) (50.3.2)\n",
            "Requirement already satisfied: atomicwrites>=1.0 in /usr/local/lib/python3.6/dist-packages (from pytest->pyLDAvis) (1.4.0)\n",
            "Requirement already satisfied: py>=1.5.0 in /usr/local/lib/python3.6/dist-packages (from pytest->pyLDAvis) (1.9.0)\n",
            "Requirement already satisfied: six>=1.10.0 in /usr/local/lib/python3.6/dist-packages (from pytest->pyLDAvis) (1.15.0)\n",
            "Requirement already satisfied: attrs>=17.4.0 in /usr/local/lib/python3.6/dist-packages (from pytest->pyLDAvis) (20.3.0)\n",
            "Requirement already satisfied: more-itertools>=4.0.0 in /usr/local/lib/python3.6/dist-packages (from pytest->pyLDAvis) (8.6.0)\n",
            "Requirement already satisfied: pluggy<0.8,>=0.5 in /usr/local/lib/python3.6/dist-packages (from pytest->pyLDAvis) (0.7.1)\n",
            "Building wheels for collected packages: pyLDAvis\n",
            "  Building wheel for pyLDAvis (setup.py) ... \u001b[?25l\u001b[?25hdone\n",
            "  Created wheel for pyLDAvis: filename=pyLDAvis-2.1.2-py2.py3-none-any.whl size=97712 sha256=e5f0ce5dcee825f3bc2031a9c47b2ac471402255155944dc27fadc69ab0a7b92\n",
            "  Stored in directory: /root/.cache/pip/wheels/98/71/24/513a99e58bb6b8465bae4d2d5e9dba8f0bef8179e3051ac414\n",
            "Successfully built pyLDAvis\n",
            "Installing collected packages: funcy, pyLDAvis\n",
            "Successfully installed funcy-1.15 pyLDAvis-2.1.2\n"
          ],
          "name": "stdout"
        }
      ]
    },
    {
      "cell_type": "code",
      "metadata": {
        "id": "hkasnx0OFger"
      },
      "source": [
        "\n",
        "import gensim #the library for Topic modelling\n",
        "from gensim.models.ldamulticore import LdaMulticore\n",
        "from gensim import corpora, models\n",
        "import pyLDAvis.gensim #LDA visualization library\n",
        "\n",
        "from nltk.corpus import stopwords\n",
        "import string\n",
        "from nltk.stem.wordnet import WordNetLemmatizer\n",
        "\n",
        "import warnings\n",
        "warnings.simplefilter('ignore')\n",
        "from itertools import chain"
      ],
      "execution_count": 75,
      "outputs": []
    },
    {
      "cell_type": "code",
      "metadata": {
        "id": "6vwRMZoPFlJc"
      },
      "source": [
        "\n",
        "#spliting the data\n",
        "stop = set(stopwords.words('english'))\n",
        "exclude = set(string.punctuation)\n",
        "lemma = WordNetLemmatizer()\n",
        "\n",
        "def split(text):\n",
        "    stop_free = ' '.join([word for word in text.lower().split() if word not in stop])\n",
        "    punc_free = ''.join(ch for ch in stop_free if ch not in exclude)\n",
        "    normalized = ' '.join([lemma.lemmatize(word) for word in punc_free.split()])\n",
        "    return normalized.split()"
      ],
      "execution_count": 79,
      "outputs": []
    },
    {
      "cell_type": "code",
      "metadata": {
        "id": "bbKKWsgaFoSe",
        "colab": {
          "base_uri": "https://localhost:8080/",
          "height": 337
        },
        "outputId": "26f965ad-04a5-4d09-ad1c-7e967808bfc8"
      },
      "source": [
        "data['text_split']=data['refine_text'].apply(split)"
      ],
      "execution_count": 77,
      "outputs": [
        {
          "output_type": "error",
          "ename": "AttributeError",
          "evalue": "ignored",
          "traceback": [
            "\u001b[0;31m---------------------------------------------------------------------------\u001b[0m",
            "\u001b[0;31mAttributeError\u001b[0m                            Traceback (most recent call last)",
            "\u001b[0;32m<ipython-input-77-e9575502a08e>\u001b[0m in \u001b[0;36m<module>\u001b[0;34m()\u001b[0m\n\u001b[0;32m----> 1\u001b[0;31m \u001b[0mdata\u001b[0m\u001b[0;34m[\u001b[0m\u001b[0;34m'text_split'\u001b[0m\u001b[0;34m]\u001b[0m\u001b[0;34m=\u001b[0m\u001b[0mdata\u001b[0m\u001b[0;34m[\u001b[0m\u001b[0;34m'refine_text'\u001b[0m\u001b[0;34m]\u001b[0m\u001b[0;34m.\u001b[0m\u001b[0mapply\u001b[0m\u001b[0;34m(\u001b[0m\u001b[0msplit\u001b[0m\u001b[0;34m)\u001b[0m\u001b[0;34m\u001b[0m\u001b[0;34m\u001b[0m\u001b[0m\n\u001b[0m",
            "\u001b[0;32m/usr/local/lib/python3.6/dist-packages/pandas/core/series.py\u001b[0m in \u001b[0;36mapply\u001b[0;34m(self, func, convert_dtype, args, **kwds)\u001b[0m\n\u001b[1;32m   4210\u001b[0m             \u001b[0;32melse\u001b[0m\u001b[0;34m:\u001b[0m\u001b[0;34m\u001b[0m\u001b[0;34m\u001b[0m\u001b[0m\n\u001b[1;32m   4211\u001b[0m                 \u001b[0mvalues\u001b[0m \u001b[0;34m=\u001b[0m \u001b[0mself\u001b[0m\u001b[0;34m.\u001b[0m\u001b[0mastype\u001b[0m\u001b[0;34m(\u001b[0m\u001b[0mobject\u001b[0m\u001b[0;34m)\u001b[0m\u001b[0;34m.\u001b[0m\u001b[0m_values\u001b[0m\u001b[0;34m\u001b[0m\u001b[0;34m\u001b[0m\u001b[0m\n\u001b[0;32m-> 4212\u001b[0;31m                 \u001b[0mmapped\u001b[0m \u001b[0;34m=\u001b[0m \u001b[0mlib\u001b[0m\u001b[0;34m.\u001b[0m\u001b[0mmap_infer\u001b[0m\u001b[0;34m(\u001b[0m\u001b[0mvalues\u001b[0m\u001b[0;34m,\u001b[0m \u001b[0mf\u001b[0m\u001b[0;34m,\u001b[0m \u001b[0mconvert\u001b[0m\u001b[0;34m=\u001b[0m\u001b[0mconvert_dtype\u001b[0m\u001b[0;34m)\u001b[0m\u001b[0;34m\u001b[0m\u001b[0;34m\u001b[0m\u001b[0m\n\u001b[0m\u001b[1;32m   4213\u001b[0m \u001b[0;34m\u001b[0m\u001b[0m\n\u001b[1;32m   4214\u001b[0m         \u001b[0;32mif\u001b[0m \u001b[0mlen\u001b[0m\u001b[0;34m(\u001b[0m\u001b[0mmapped\u001b[0m\u001b[0;34m)\u001b[0m \u001b[0;32mand\u001b[0m \u001b[0misinstance\u001b[0m\u001b[0;34m(\u001b[0m\u001b[0mmapped\u001b[0m\u001b[0;34m[\u001b[0m\u001b[0;36m0\u001b[0m\u001b[0;34m]\u001b[0m\u001b[0;34m,\u001b[0m \u001b[0mSeries\u001b[0m\u001b[0;34m)\u001b[0m\u001b[0;34m:\u001b[0m\u001b[0;34m\u001b[0m\u001b[0;34m\u001b[0m\u001b[0m\n",
            "\u001b[0;32mpandas/_libs/lib.pyx\u001b[0m in \u001b[0;36mpandas._libs.lib.map_infer\u001b[0;34m()\u001b[0m\n",
            "\u001b[0;32m<ipython-input-76-09d36b6ce0bc>\u001b[0m in \u001b[0;36msplit\u001b[0;34m(text)\u001b[0m\n\u001b[1;32m      6\u001b[0m \u001b[0;34m\u001b[0m\u001b[0m\n\u001b[1;32m      7\u001b[0m \u001b[0;32mdef\u001b[0m \u001b[0msplit\u001b[0m\u001b[0;34m(\u001b[0m\u001b[0mtext\u001b[0m\u001b[0;34m)\u001b[0m\u001b[0;34m:\u001b[0m\u001b[0;34m\u001b[0m\u001b[0;34m\u001b[0m\u001b[0m\n\u001b[0;32m----> 8\u001b[0;31m     \u001b[0mstop_free\u001b[0m \u001b[0;34m=\u001b[0m \u001b[0;34m' '\u001b[0m\u001b[0;34m.\u001b[0m\u001b[0mjoin\u001b[0m\u001b[0;34m(\u001b[0m\u001b[0;34m[\u001b[0m\u001b[0mword\u001b[0m \u001b[0;32mfor\u001b[0m \u001b[0mword\u001b[0m \u001b[0;32min\u001b[0m \u001b[0mtext\u001b[0m\u001b[0;34m.\u001b[0m\u001b[0mlower\u001b[0m\u001b[0;34m(\u001b[0m\u001b[0;34m)\u001b[0m\u001b[0;34m.\u001b[0m\u001b[0msplit\u001b[0m\u001b[0;34m(\u001b[0m\u001b[0;34m)\u001b[0m \u001b[0;32mif\u001b[0m \u001b[0mword\u001b[0m \u001b[0;32mnot\u001b[0m \u001b[0;32min\u001b[0m \u001b[0mstop\u001b[0m\u001b[0;34m]\u001b[0m\u001b[0;34m)\u001b[0m\u001b[0;34m\u001b[0m\u001b[0;34m\u001b[0m\u001b[0m\n\u001b[0m\u001b[1;32m      9\u001b[0m     \u001b[0mpunc_free\u001b[0m \u001b[0;34m=\u001b[0m \u001b[0;34m''\u001b[0m\u001b[0;34m.\u001b[0m\u001b[0mjoin\u001b[0m\u001b[0;34m(\u001b[0m\u001b[0mch\u001b[0m \u001b[0;32mfor\u001b[0m \u001b[0mch\u001b[0m \u001b[0;32min\u001b[0m \u001b[0mstop_free\u001b[0m \u001b[0;32mif\u001b[0m \u001b[0mch\u001b[0m \u001b[0;32mnot\u001b[0m \u001b[0;32min\u001b[0m \u001b[0mexclude\u001b[0m\u001b[0;34m)\u001b[0m\u001b[0;34m\u001b[0m\u001b[0;34m\u001b[0m\u001b[0m\n\u001b[1;32m     10\u001b[0m     \u001b[0mnormalized\u001b[0m \u001b[0;34m=\u001b[0m \u001b[0;34m' '\u001b[0m\u001b[0;34m.\u001b[0m\u001b[0mjoin\u001b[0m\u001b[0;34m(\u001b[0m\u001b[0;34m[\u001b[0m\u001b[0mlemma\u001b[0m\u001b[0;34m.\u001b[0m\u001b[0mlemmatize\u001b[0m\u001b[0;34m(\u001b[0m\u001b[0mword\u001b[0m\u001b[0;34m)\u001b[0m \u001b[0;32mfor\u001b[0m \u001b[0mword\u001b[0m \u001b[0;32min\u001b[0m \u001b[0mpunc_free\u001b[0m\u001b[0;34m.\u001b[0m\u001b[0msplit\u001b[0m\u001b[0;34m(\u001b[0m\u001b[0;34m)\u001b[0m\u001b[0;34m]\u001b[0m\u001b[0;34m)\u001b[0m\u001b[0;34m\u001b[0m\u001b[0;34m\u001b[0m\u001b[0m\n",
            "\u001b[0;31mAttributeError\u001b[0m: 'float' object has no attribute 'lower'"
          ]
        }
      ]
    },
    {
      "cell_type": "code",
      "metadata": {
        "colab": {
          "base_uri": "https://localhost:8080/"
        },
        "id": "tkAagArJFpu_",
        "outputId": "f1823657-5076-402f-a894-5eeec19f9168"
      },
      "source": [
        "#create dictionary\n",
        "dictionary = corpora.Dictionary(data['text_split'])\n",
        "#Total number of non-zeroes in the BOW matrix (sum of the number of unique words per document over the entire corpus).\n",
        "print(dictionary.num_nnz)"
      ],
      "execution_count": null,
      "outputs": [
        {
          "output_type": "stream",
          "text": [
            "10031\n"
          ],
          "name": "stdout"
        }
      ]
    },
    {
      "cell_type": "code",
      "metadata": {
        "colab": {
          "base_uri": "https://localhost:8080/"
        },
        "id": "rCok9h_XFwT0",
        "outputId": "7585f732-2476-416a-a609-7109f65c1ab3"
      },
      "source": [
        "\n",
        "#create document term matrix\n",
        "doc_term_matrix = [dictionary.doc2bow(doc) for doc in data['text_split'] ]\n",
        "print(len(doc_term_matrix))"
      ],
      "execution_count": null,
      "outputs": [
        {
          "output_type": "stream",
          "text": [
            "1000\n"
          ],
          "name": "stdout"
        }
      ]
    },
    {
      "cell_type": "code",
      "metadata": {
        "id": "LxFVgHJwFyvr"
      },
      "source": [
        "lda = gensim.models.ldamodel.LdaModel"
      ],
      "execution_count": null,
      "outputs": []
    },
    {
      "cell_type": "code",
      "metadata": {
        "colab": {
          "base_uri": "https://localhost:8080/"
        },
        "id": "vgElcj65F2J_",
        "outputId": "17aabcf9-3b51-4335-c755-cabae05d3a42"
      },
      "source": [
        "num_topics=10\n",
        "%time ldamodel = lda(doc_term_matrix,num_topics=num_topics,id2word=dictionary,passes=50,minimum_probability=0)"
      ],
      "execution_count": null,
      "outputs": [
        {
          "output_type": "stream",
          "text": [
            "CPU times: user 21.6 s, sys: 27.3 ms, total: 21.6 s\n",
            "Wall time: 21.6 s\n"
          ],
          "name": "stdout"
        }
      ]
    },
    {
      "cell_type": "code",
      "metadata": {
        "colab": {
          "base_uri": "https://localhost:8080/"
        },
        "id": "GfXHXDkdF9R0",
        "outputId": "2690bdd1-9926-4924-f5bb-7fe7641a9072"
      },
      "source": [
        "ldamodel.print_topics(num_topics=num_topics)"
      ],
      "execution_count": null,
      "outputs": [
        {
          "output_type": "execute_result",
          "data": {
            "text/plain": [
              "[(0,\n",
              "  '0.022*\"b\" + 0.015*\"injured\" + 0.011*\"champion\" + 0.010*\"match\" + 0.009*\"well\" + 0.008*\"team\" + 0.007*\"williamson\" + 0.007*\"back\" + 0.006*\"nov\" + 0.006*\"first\"'),\n",
              " (1,\n",
              "  '0.027*\"mi\" + 0.019*\"dc\" + 0.018*\"run\" + 0.017*\"b\" + 0.016*\"capital\" + 0.015*\"rcb\" + 0.014*\"delhi\" + 0.014*\"match\" + 0.013*\"srh\" + 0.013*\"csk\"'),\n",
              " (2,\n",
              "  '0.025*\"v\" + 0.020*\"dc\" + 0.018*\"year\" + 0.017*\"b\" + 0.013*\"mi\" + 0.010*\"fan\" + 0.010*\"time\" + 0.007*\"game\" + 0.007*\"prediction\" + 0.007*\"finalist\"'),\n",
              " (3,\n",
              "  '0.017*\"b\" + 0.017*\"team\" + 0.015*\"played\" + 0.013*\"bipl\" + 0.011*\"indian\" + 0.011*\"bcongratulations\" + 0.010*\"maiden\" + 0.010*\"final\" + 0.009*\"well\" + 0.008*\"rabada\"'),\n",
              " (4,\n",
              "  '0.025*\"b\" + 0.022*\"indian\" + 0.021*\"delhi\" + 0.017*\"mumbai\" + 0.016*\"win\" + 0.015*\"capital\" + 0.011*\"player\" + 0.011*\"team\" + 0.010*\"first\" + 0.010*\"year\"'),\n",
              " (5,\n",
              "  '0.029*\"b\" + 0.014*\"team\" + 0.012*\"final\" + 0.011*\"iyer\" + 0.011*\"best\" + 0.010*\"shreyas\" + 0.009*\"trophy\" + 0.009*\"win\" + 0.008*\"ever\" + 0.008*\"see\"'),\n",
              " (6,\n",
              "  '0.022*\"season\" + 0.021*\"b\" + 0.018*\"team\" + 0.011*\"great\" + 0.010*\"one\" + 0.009*\"u\" + 0.008*\"next\" + 0.008*\"captain\" + 0.008*\"end\" + 0.007*\"player\"'),\n",
              " (7,\n",
              "  '0.016*\"v\" + 0.012*\"good\" + 0.012*\"played\" + 0.012*\"mumbai\" + 0.010*\"would\" + 0.010*\"delhi\" + 0.009*\"win\" + 0.008*\"dc\" + 0.008*\"bwell\" + 0.008*\"november\"'),\n",
              " (8,\n",
              "  '0.055*\"final\" + 0.031*\"b\" + 0.021*\"rcb\" + 0.020*\"time\" + 0.019*\"made\" + 0.019*\"delhi\" + 0.016*\"team\" + 0.016*\"released\" + 0.015*\"mi\" + 0.014*\"csk\"'),\n",
              " (9,\n",
              "  '0.045*\"win\" + 0.028*\"b\" + 0.016*\"best\" + 0.016*\"team\" + 0.012*\"bwho\" + 0.011*\"time\" + 0.009*\"season\" + 0.008*\"u\" + 0.007*\"luck\" + 0.007*\"dc\"')]"
            ]
          },
          "metadata": {
            "tags": []
          },
          "execution_count": 220
        }
      ]
    },
    {
      "cell_type": "code",
      "metadata": {
        "colab": {
          "base_uri": "https://localhost:8080/"
        },
        "id": "24u47Gl0GQNH",
        "outputId": "13ed7d09-91fb-4c36-9e9c-160d9d876b61"
      },
      "source": [
        "pip install tomotopy"
      ],
      "execution_count": 80,
      "outputs": [
        {
          "output_type": "stream",
          "text": [
            "Collecting tomotopy\n",
            "\u001b[?25l  Downloading https://files.pythonhosted.org/packages/70/39/29b0348bfcb689054abb7d627367fed37a4c282ff23feff13b3aef9a1de0/tomotopy-0.9.1-cp36-cp36m-manylinux2010_x86_64.whl (13.5MB)\n",
            "\u001b[K     |████████████████████████████████| 13.5MB 307kB/s \n",
            "\u001b[?25hRequirement already satisfied: numpy>=1.10.0 in /usr/local/lib/python3.6/dist-packages (from tomotopy) (1.18.5)\n",
            "Collecting py-cpuinfo\n",
            "\u001b[?25l  Downloading https://files.pythonhosted.org/packages/f6/f5/8e6e85ce2e9f6e05040cf0d4e26f43a4718bcc4bce988b433276d4b1a5c1/py-cpuinfo-7.0.0.tar.gz (95kB)\n",
            "\u001b[K     |████████████████████████████████| 102kB 8.9MB/s \n",
            "\u001b[?25hBuilding wheels for collected packages: py-cpuinfo\n",
            "  Building wheel for py-cpuinfo (setup.py) ... \u001b[?25l\u001b[?25hdone\n",
            "  Created wheel for py-cpuinfo: filename=py_cpuinfo-7.0.0-cp36-none-any.whl size=20071 sha256=048b5b65b193b758c2a9b8f405859086f6b7cd7669746b6efec56f950ab3c05f\n",
            "  Stored in directory: /root/.cache/pip/wheels/f1/93/7b/127daf0c3a5a49feb2fecd468d508067c733fba5192f726ad1\n",
            "Successfully built py-cpuinfo\n",
            "Installing collected packages: py-cpuinfo, tomotopy\n",
            "Successfully installed py-cpuinfo-7.0.0 tomotopy-0.9.1\n"
          ],
          "name": "stdout"
        }
      ]
    },
    {
      "cell_type": "markdown",
      "metadata": {
        "id": "qAsgSZ7RMGZ-"
      },
      "source": [
        "**Supervised LDA** Reference code taken: https://github.com/bab2min/tomotopy"
      ]
    },
    {
      "cell_type": "code",
      "metadata": {
        "colab": {
          "base_uri": "https://localhost:8080/"
        },
        "id": "OG1AHTvEGked",
        "outputId": "6cfcf1a5-0b0a-458d-ea0a-2ee25ea0f71f"
      },
      "source": [
        "import tomotopy as tp\n",
        "SLDA_topic_modeling = tp.SLDAModel(k=15) #number of topics 6\n",
        "for i in tweets[\"refine_text\"]:\n",
        "    SLDA_topic_modeling.add_doc(i.split()) #splitting each sentence\n",
        "\n",
        "for k in range(SLDA_topic_modeling.k):\n",
        "    print('Top 10 words of topic #{}'.format(k))\n",
        "    print(SLDA_topic_modeling.get_topic_words(k, top_n=20))\n",
        "\n",
        "SLDA_topic_modeling.summary()"
      ],
      "execution_count": 81,
      "outputs": [
        {
          "output_type": "stream",
          "text": [
            "Top 10 words of topic #0\n",
            "[('dc', 0.020267045125365257), ('delhi', 0.014480593614280224), ('win', 0.014480593614280224), ('time', 0.011587368324398994), ('mi', 0.010140755213797092), ('capital', 0.010140755213797092), ('team', 0.010140755213797092), ('beat', 0.008694143034517765), ('mumbai', 0.008694143034517765), ('season', 0.008694143034517765), ('released', 0.007247529923915863), ('played', 0.007247529923915863), ('still', 0.007247529923915863), ('kane', 0.007247529923915863), ('would', 0.007247529923915863), ('back', 0.007247529923915863), ('final', 0.007247529923915863), ('rr', 0.007247529923915863), ('indian', 0.007247529923915863), ('srh', 0.007247529923915863)]\n",
            "Top 10 words of topic #1\n",
            "[('final', 0.013563761487603188), ('delhi', 0.013563761487603188), ('v', 0.013563761487603188), ('team', 0.013563761487603188), ('well', 0.013563761487603188), ('dc', 0.012058349326252937), ('first', 0.012058349326252937), ('win', 0.010552938096225262), ('year', 0.010552938096225262), ('tournament', 0.009047525934875011), ('match', 0.009047525934875011), ('srh', 0.009047525934875011), ('back', 0.0075421142391860485), ('time', 0.0075421142391860485), ('mumbai', 0.006036702077835798), ('rc', 0.006036702077835798), ('play', 0.006036702077835798), ('run', 0.006036702077835798), ('good', 0.006036702077835798), ('see', 0.006036702077835798)]\n",
            "Top 10 words of topic #2\n",
            "[('final', 0.014294486492872238), ('team', 0.014294486492872238), ('rc', 0.011438445188105106), ('winner', 0.010010425001382828), ('capital', 0.010010425001382828), ('stoinis', 0.008582403883337975), ('mumbai', 0.008582403883337975), ('mi', 0.008582403883337975), ('time', 0.008582403883337975), ('delhi', 0.008582403883337975), ('match', 0.007154383230954409), ('well', 0.007154383230954409), ('v', 0.007154383230954409), ('srh', 0.007154383230954409), ('season', 0.007154383230954409), ('first', 0.007154383230954409), ('win', 0.007154383230954409), ('williamson', 0.007154383230954409), ('played', 0.007154383230954409), ('back', 0.007154383230954409)]\n",
            "Top 10 words of topic #3\n",
            "[('team', 0.022261111065745354), ('final', 0.020778026431798935), ('time', 0.01632877066731453), ('rc', 0.013362599536776543), ('win', 0.01187951397150755), ('season', 0.010396428406238556), ('delhi', 0.010396428406238556), ('capital', 0.008913343772292137), ('csk', 0.008913343772292137), ('best', 0.008913343772292137), ('stoinis', 0.007430258207023144), ('indian', 0.007430258207023144), ('congratulation', 0.007430258207023144), ('player', 0.007430258207023144), ('run', 0.007430258207023144), ('played', 0.00594717264175415), ('one', 0.00594717264175415), ('made', 0.00594717264175415), ('bat', 0.00594717264175415), ('first', 0.00594717264175415)]\n",
            "Top 10 words of topic #4\n",
            "[('final', 0.018087783828377724), ('team', 0.015307186171412468), ('win', 0.013916888274252415), ('good', 0.013916888274252415), ('delhi', 0.012526589445769787), ('mi', 0.011136290617287159), ('player', 0.011136290617287159), ('dc', 0.009745992720127106), ('v', 0.009745992720127106), ('srh', 0.009745992720127106), ('match', 0.008355693891644478), ('mumbai', 0.008355693891644478), ('well', 0.006965395528823137), ('winning', 0.006965395528823137), ('made', 0.006965395528823137), ('indian', 0.006965395528823137), ('side', 0.006965395528823137), ('see', 0.005575097166001797), ('williamson', 0.005575097166001797), ('batting', 0.005575097166001797)]\n",
            "Top 10 words of topic #5\n",
            "[('final', 0.020179469138383865), ('win', 0.020179469138383865), ('delhi', 0.01585838384926319), ('dc', 0.01585838384926319), ('team', 0.012977659702301025), ('indian', 0.011537298560142517), ('v', 0.008656574413180351), ('take', 0.007216212805360556), ('great', 0.007216212805360556), ('csk', 0.007216212805360556), ('year', 0.007216212805360556), ('played', 0.007216212805360556), ('player', 0.007216212805360556), ('rc', 0.007216212805360556), ('first', 0.007216212805360556), ('reach', 0.00577585119754076), ('time', 0.00577585119754076), ('see', 0.00577585119754076), ('title', 0.00577585119754076), ('next', 0.00577585119754076)]\n",
            "Top 10 words of topic #6\n",
            "[('win', 0.02319382317364216), ('team', 0.02319382317364216), ('delhi', 0.01739898882806301), ('dc', 0.014501571655273438), ('match', 0.01305286306887865), ('mumbai', 0.01305286306887865), ('time', 0.010155446827411652), ('player', 0.010155446827411652), ('capital', 0.010155446827411652), ('final', 0.008706738241016865), ('stoinis', 0.008706738241016865), ('first', 0.007258029654622078), ('v', 0.007258029654622078), ('take', 0.007258029654622078), ('mi', 0.007258029654622078), ('csk', 0.007258029654622078), ('season', 0.005809321068227291), ('well', 0.005809321068227291), ('play', 0.005809321068227291), ('run', 0.005809321068227291)]\n",
            "Top 10 words of topic #7\n",
            "[('team', 0.015091893263161182), ('mi', 0.012076529674232006), ('delhi', 0.010568847879767418), ('time', 0.010568847879767418), ('v', 0.010568847879767418), ('dc', 0.009061167016625404), ('good', 0.009061167016625404), ('year', 0.009061167016625404), ('run', 0.009061167016625404), ('final', 0.007553485222160816), ('csk', 0.007553485222160816), ('mumbai', 0.007553485222160816), ('srh', 0.007553485222160816), ('indian', 0.007553485222160816), ('well', 0.007553485222160816), ('match', 0.007553485222160816), ('season', 0.006045803427696228), ('get', 0.006045803427696228), ('cricket', 0.006045803427696228), ('stoinis', 0.006045803427696228)]\n",
            "Top 10 words of topic #8\n",
            "[('time', 0.02219695784151554), ('mi', 0.016651185229420662), ('team', 0.015264741145074368), ('v', 0.012491854839026928), ('match', 0.012491854839026928), ('final', 0.011105411686003208), ('delhi', 0.009718967601656914), ('best', 0.009718967601656914), ('season', 0.009718967601656914), ('game', 0.008332524448633194), ('fan', 0.008332524448633194), ('run', 0.008332524448633194), ('rc', 0.008332524448633194), ('indian', 0.008332524448633194), ('capital', 0.008332524448633194), ('srh', 0.006946081295609474), ('win', 0.006946081295609474), ('first', 0.005559638142585754), ('one', 0.005559638142585754), ('finish', 0.005559638142585754)]\n",
            "Top 10 words of topic #9\n",
            "[('team', 0.022256532683968544), ('delhi', 0.018331218510866165), ('mi', 0.014405903406441212), ('final', 0.011789027601480484), ('played', 0.011789027601480484), ('dc', 0.010480589233338833), ('v', 0.010480589233338833), ('win', 0.010480589233338833), ('season', 0.009172150865197182), ('day', 0.009172150865197182), ('trophy', 0.007863713428378105), ('well', 0.007863713428378105), ('qualifier', 0.007863713428378105), ('play', 0.006555275060236454), ('williamson', 0.006555275060236454), ('captain', 0.006555275060236454), ('year', 0.006555275060236454), ('thing', 0.006555275060236454), ('mumbai', 0.006555275060236454), ('player', 0.006555275060236454)]\n",
            "Top 10 words of topic #10\n",
            "[('team', 0.017790965735912323), ('final', 0.016423482447862625), ('dc', 0.015055998228490353), ('delhi', 0.01368851400911808), ('mi', 0.012321030721068382), ('win', 0.01095354650169611), ('capital', 0.01095354650169611), ('hope', 0.009586062282323837), ('first', 0.009586062282323837), ('srh', 0.00821857899427414), ('congratulation', 0.00821857899427414), ('trophy', 0.00821857899427414), ('year', 0.00821857899427414), ('rc', 0.00821857899427414), ('mumbai', 0.00821857899427414), ('season', 0.006851094774901867), ('well', 0.006851094774901867), ('match', 0.006851094774901867), ('time', 0.006851094774901867), ('n', 0.005483611021190882)]\n",
            "Top 10 words of topic #11\n",
            "[('final', 0.021073469892144203), ('win', 0.019669506698846817), ('time', 0.016861584037542343), ('delhi', 0.012649697251617908), ('dc', 0.012649697251617908), ('good', 0.011245735920965672), ('played', 0.00984177365899086), ('v', 0.00984177365899086), ('kane', 0.00984177365899086), ('match', 0.00984177365899086), ('williamson', 0.008437811397016048), ('best', 0.008437811397016048), ('mi', 0.008437811397016048), ('kkr', 0.007033849600702524), ('like', 0.007033849600702524), ('mumbai', 0.007033849600702524), ('done', 0.007033849600702524), ('capital', 0.007033849600702524), ('great', 0.005629887804389), ('csk', 0.005629887804389)]\n",
            "Top 10 words of topic #12\n",
            "[('team', 0.02074725553393364), ('final', 0.013342810794711113), ('delhi', 0.013342810794711113), ('v', 0.013342810794711113), ('game', 0.010381032712757587), ('see', 0.008900144137442112), ('time', 0.008900144137442112), ('dc', 0.007419254630804062), ('capital', 0.007419254630804062), ('kane', 0.007419254630804062), ('win', 0.007419254630804062), ('season', 0.007419254630804062), ('fan', 0.007419254630804062), ('player', 0.007419254630804062), ('samad', 0.005938365589827299), ('trophy', 0.005938365589827299), ('beat', 0.005938365589827299), ('rabada', 0.005938365589827299), ('best', 0.005938365589827299), ('year', 0.005938365589827299)]\n",
            "Top 10 words of topic #13\n",
            "[('final', 0.021745113655924797), ('win', 0.01595027931034565), ('time', 0.01595027931034565), ('srh', 0.014501571655273438), ('delhi', 0.01305286306887865), ('team', 0.01305286306887865), ('match', 0.011604154482483864), ('mi', 0.010155446827411652), ('well', 0.010155446827411652), ('play', 0.008706738241016865), ('trophy', 0.008706738241016865), ('stoinis', 0.008706738241016865), ('csk', 0.008706738241016865), ('season', 0.007258029654622078), ('dc', 0.007258029654622078), ('indian', 0.007258029654622078), ('sunrisers', 0.005809321068227291), ('player', 0.005809321068227291), ('rr', 0.005809321068227291), ('fan', 0.005809321068227291)]\n",
            "Top 10 words of topic #14\n",
            "[('win', 0.018929969519376755), ('delhi', 0.017474936321377754), ('team', 0.016019904986023903), ('dc', 0.013109840452671051), ('well', 0.013109840452671051), ('indian', 0.013109840452671051), ('final', 0.011654808185994625), ('first', 0.011654808185994625), ('capital', 0.0101997759193182), ('fan', 0.007289711385965347), ('trophy', 0.007289711385965347), ('best', 0.007289711385965347), ('year', 0.007289711385965347), ('run', 0.007289711385965347), ('played', 0.007289711385965347), ('rc', 0.007289711385965347), ('thats', 0.007289711385965347), ('second', 0.007289711385965347), ('v', 0.007289711385965347), ('mi', 0.007289711385965347)]\n",
            "<Basic Info>\n",
            "| SLDAModel (current version: 0.9.1)\n",
            "| 998 docs, 10070 words\n",
            "| Total Vocabs: 2727, Used Vocabs: 2727\n",
            "| Entropy of words: -6.88505\n",
            "| Removed Vocabs: <NA>\n",
            "|\n",
            "<Training Info>\n",
            "| Iterations: 0, Burn-in steps: 0\n",
            "| Optimization Interval: 10\n",
            "| Log-likelihood per word: -11.72210\n",
            "|\n",
            "<Initial Parameters>\n",
            "| tw: TermWeight.ONE\n",
            "| min_cf: 0 (minimum collection frequency of words)\n",
            "| min_df: 0 (minimum document frequency of words)\n",
            "| rm_top: 0 (the number of top words to be removed)\n",
            "| k: 15 (the number of topics between 1 ~ 32767)\n",
            "| vars: \n",
            "| alpha: 0.1 (hyperparameter of Dirichlet distribution for document-topic)\n",
            "| eta: 0.01 (hyperparameter of Dirichlet distribution for topic-word)\n",
            "| mu: [] (mean of regression coefficients, default value is 0)\n",
            "| nu_sq: [] (variance of regression coefficients, default value is 1)\n",
            "| glm_param: [] (the parameter for Generalized Linear Model, default value is 1)\n",
            "| trained in version 0.9.1\n",
            "|\n",
            "<Parameters>\n",
            "| alpha (Dirichlet prior on the per-document topic distributions)\n",
            "|  [0.1 0.1 0.1 0.1 0.1 0.1 0.1 0.1 0.1 0.1 0.1 0.1 0.1 0.1 0.1]\n",
            "| eta (Dirichlet prior on the per-topic word distribution)\n",
            "|  0.01\n",
            "| regression coefficients of response variables\n",
            "|\n",
            "<Topics>\n",
            "| #0 (664) : dc delhi win time mi\n",
            "| #1 (637) : final delhi v team well\n",
            "| #2 (673) : final team rc winner capital\n",
            "| #3 (647) : team final time rc win\n",
            "| #4 (692) : final team win good delhi\n",
            "| #5 (667) : final win delhi dc team\n",
            "| #6 (663) : win team delhi dc match\n",
            "| #7 (636) : team mi delhi time v\n",
            "| #8 (694) : time mi team v match\n",
            "| #9 (737) : team delhi mi final played\n",
            "| #10 (704) : team final dc delhi mi\n",
            "| #11 (685) : final win time delhi dc\n",
            "| #12 (648) : team final delhi v game\n",
            "| #13 (663) : final win time srh delhi\n",
            "| #14 (660) : win delhi team dc well\n",
            "|\n",
            "\n"
          ],
          "name": "stdout"
        }
      ]
    },
    {
      "cell_type": "markdown",
      "metadata": {
        "id": "IxdQxOJWMNY1"
      },
      "source": [
        "**K-means** Reference : https://www.kaggle.com/karthik3890/text-clustering"
      ]
    },
    {
      "cell_type": "code",
      "metadata": {
        "colab": {
          "base_uri": "https://localhost:8080/"
        },
        "id": "KfiIUggdMRIG",
        "outputId": "7be8a195-261f-450e-bdce-21f5965ba140"
      },
      "source": [
        "from sklearn.feature_extraction.text import TfidfVectorizer\n",
        "tfidf_vector = TfidfVectorizer()\n",
        "tfidf = tfidf_vector.fit_transform(tweets[\"refine_text\"].values)\n",
        "tfidf.shape"
      ],
      "execution_count": 82,
      "outputs": [
        {
          "output_type": "execute_result",
          "data": {
            "text/plain": [
              "(1000, 2712)"
            ]
          },
          "metadata": {
            "tags": []
          },
          "execution_count": 82
        }
      ]
    },
    {
      "cell_type": "code",
      "metadata": {
        "colab": {
          "base_uri": "https://localhost:8080/"
        },
        "id": "9rT-xBj5MaEa",
        "outputId": "ca2a8fa2-68c4-4b1a-83c1-537a953a1fc7"
      },
      "source": [
        "from sklearn.cluster import KMeans\n",
        "model_tfif = KMeans(n_clusters = 10, n_jobs = -1,random_state=99)\n",
        "model_tfif.fit(tfidf)"
      ],
      "execution_count": 83,
      "outputs": [
        {
          "output_type": "execute_result",
          "data": {
            "text/plain": [
              "KMeans(algorithm='auto', copy_x=True, init='k-means++', max_iter=300,\n",
              "       n_clusters=10, n_init=10, n_jobs=-1, precompute_distances='auto',\n",
              "       random_state=99, tol=0.0001, verbose=0)"
            ]
          },
          "metadata": {
            "tags": []
          },
          "execution_count": 83
        }
      ]
    },
    {
      "cell_type": "code",
      "metadata": {
        "id": "5LChvs_BMc8f"
      },
      "source": [
        "labels_tfif = model_tfif.labels_\n",
        "cluster_center_tfif=model_tfif.cluster_centers_"
      ],
      "execution_count": 84,
      "outputs": []
    },
    {
      "cell_type": "code",
      "metadata": {
        "colab": {
          "base_uri": "https://localhost:8080/"
        },
        "id": "ZJHcsZj4MhXL",
        "outputId": "244b1fd1-8899-4cd7-8668-7eb1d74b474c"
      },
      "source": [
        "cluster_center_tfif"
      ],
      "execution_count": 85,
      "outputs": [
        {
          "output_type": "execute_result",
          "data": {
            "text/plain": [
              "array([[0.00051261, 0.        , 0.00043416, ..., 0.00046739, 0.        ,\n",
              "        0.00044525],\n",
              "       [0.        , 0.        , 0.        , ..., 0.        , 0.        ,\n",
              "        0.        ],\n",
              "       [0.        , 0.        , 0.        , ..., 0.        , 0.        ,\n",
              "        0.        ],\n",
              "       ...,\n",
              "       [0.        , 0.        , 0.        , ..., 0.        , 0.        ,\n",
              "        0.        ],\n",
              "       [0.        , 0.        , 0.        , ..., 0.        , 0.        ,\n",
              "        0.        ],\n",
              "       [0.        , 0.00367054, 0.        , ..., 0.        , 0.00315616,\n",
              "        0.        ]])"
            ]
          },
          "metadata": {
            "tags": []
          },
          "execution_count": 85
        }
      ]
    },
    {
      "cell_type": "code",
      "metadata": {
        "id": "Fnd2n6AnMjxK"
      },
      "source": [
        "words = tfidf_vector.get_feature_names()"
      ],
      "execution_count": 86,
      "outputs": []
    },
    {
      "cell_type": "code",
      "metadata": {
        "colab": {
          "base_uri": "https://localhost:8080/"
        },
        "id": "AXoa_mQXMmHq",
        "outputId": "0c90f14d-822a-4185-8528-011e62b20fca"
      },
      "source": [
        "words[1:10]"
      ],
      "execution_count": 87,
      "outputs": [
        {
          "output_type": "execute_result",
          "data": {
            "text/plain": [
              "['aapka',\n",
              " 'ab',\n",
              " 'abd',\n",
              " 'abdul',\n",
              " 'abdxexcxxefxbxf',\n",
              " 'abhishek',\n",
              " 'able',\n",
              " 'abraham',\n",
              " 'absolute']"
            ]
          },
          "metadata": {
            "tags": []
          },
          "execution_count": 87
        }
      ]
    },
    {
      "cell_type": "code",
      "metadata": {
        "id": "b1-PcDNpMpFP"
      },
      "source": [
        "from sklearn import metrics\n",
        "silhouette_score_tfif = metrics.silhouette_score(tfidf, labels_tfif, metric='euclidean')"
      ],
      "execution_count": 88,
      "outputs": []
    },
    {
      "cell_type": "code",
      "metadata": {
        "colab": {
          "base_uri": "https://localhost:8080/"
        },
        "id": "UmyoATgFMvw1",
        "outputId": "47747fae-e9b1-4ca6-d7ab-2402a255ed2a"
      },
      "source": [
        "silhouette_score_tfif"
      ],
      "execution_count": 89,
      "outputs": [
        {
          "output_type": "execute_result",
          "data": {
            "text/plain": [
              "0.014422666902032791"
            ]
          },
          "metadata": {
            "tags": []
          },
          "execution_count": 89
        }
      ]
    },
    {
      "cell_type": "code",
      "metadata": {
        "colab": {
          "base_uri": "https://localhost:8080/",
          "height": 568
        },
        "id": "TQFeCxXcMxp5",
        "outputId": "adc0f492-bc4b-4743-82ea-b59dfaac75b4"
      },
      "source": [
        "df_tfif = tweets\n",
        "df_tfif['Tfidf cluster Labels'] = model_tfif.labels_\n",
        "df_tfif.head(5)"
      ],
      "execution_count": 90,
      "outputs": [
        {
          "output_type": "execute_result",
          "data": {
            "text/html": [
              "<div>\n",
              "<style scoped>\n",
              "    .dataframe tbody tr th:only-of-type {\n",
              "        vertical-align: middle;\n",
              "    }\n",
              "\n",
              "    .dataframe tbody tr th {\n",
              "        vertical-align: top;\n",
              "    }\n",
              "\n",
              "    .dataframe thead th {\n",
              "        text-align: right;\n",
              "    }\n",
              "</style>\n",
              "<table border=\"1\" class=\"dataframe\">\n",
              "  <thead>\n",
              "    <tr style=\"text-align: right;\">\n",
              "      <th></th>\n",
              "      <th>created</th>\n",
              "      <th>tweet_text</th>\n",
              "      <th>username</th>\n",
              "      <th>all_hashtags</th>\n",
              "      <th>refine_text</th>\n",
              "      <th>text_length</th>\n",
              "      <th>sentiment_compound_polarity</th>\n",
              "      <th>sentiment_neutral</th>\n",
              "      <th>sentiment_negative</th>\n",
              "      <th>sentiment_pos</th>\n",
              "      <th>sentiment_type</th>\n",
              "      <th>hour</th>\n",
              "      <th>date</th>\n",
              "      <th>minute</th>\n",
              "      <th>Tfidf cluster Labels</th>\n",
              "    </tr>\n",
              "  </thead>\n",
              "  <tbody>\n",
              "    <tr>\n",
              "      <th>0</th>\n",
              "      <td>2020-11-09 04:49:21</td>\n",
              "      <td>b'Look at #SRH youngster Priyam Garg after Kan...</td>\n",
              "      <td>b'SteadyTheShip'</td>\n",
              "      <td>['SRH', 'SRHvDC', 'DCvSRH', 'IPL2020']</td>\n",
              "      <td>look youngster priyam garg kane williamson mas...</td>\n",
              "      <td>40</td>\n",
              "      <td>0.6969</td>\n",
              "      <td>0.720</td>\n",
              "      <td>0.062</td>\n",
              "      <td>0.218</td>\n",
              "      <td>POSITIVE</td>\n",
              "      <td>4</td>\n",
              "      <td>2020-11-09</td>\n",
              "      <td>49</td>\n",
              "      <td>9</td>\n",
              "    </tr>\n",
              "    <tr>\n",
              "      <th>1</th>\n",
              "      <td>2020-11-09 04:49:16</td>\n",
              "      <td>b'This is Mr.360\\xc2\\xb0 @ABdeVilliers17 . Mos...</td>\n",
              "      <td>b'imsapien'</td>\n",
              "      <td>['Cricket', 'IPL2020', 'Eliminater', 'IPLQuali...</td>\n",
              "      <td>mrxcxb dangerous animal cricket</td>\n",
              "      <td>9</td>\n",
              "      <td>-0.4767</td>\n",
              "      <td>0.492</td>\n",
              "      <td>0.508</td>\n",
              "      <td>0.000</td>\n",
              "      <td>NEGATIVE</td>\n",
              "      <td>4</td>\n",
              "      <td>2020-11-09</td>\n",
              "      <td>49</td>\n",
              "      <td>0</td>\n",
              "    </tr>\n",
              "    <tr>\n",
              "      <th>2</th>\n",
              "      <td>2020-11-09 04:48:52</td>\n",
              "      <td>b\"Great things happen to those who don't stop ...</td>\n",
              "      <td>b'CricketGirl_45'</td>\n",
              "      <td>['RohitSharma', 'MumbaiIndians', 'IPL2020', 'I...</td>\n",
              "      <td>great thing happen dont stop believing trying ...</td>\n",
              "      <td>21</td>\n",
              "      <td>0.9134</td>\n",
              "      <td>0.356</td>\n",
              "      <td>0.000</td>\n",
              "      <td>0.644</td>\n",
              "      <td>POSITIVE</td>\n",
              "      <td>4</td>\n",
              "      <td>2020-11-09</td>\n",
              "      <td>48</td>\n",
              "      <td>0</td>\n",
              "    </tr>\n",
              "    <tr>\n",
              "      <th>3</th>\n",
              "      <td>2020-11-09 04:48:41</td>\n",
              "      <td>b'T Natarajan made a mark with his yorkers in ...</td>\n",
              "      <td>b'ESPNcricinfo'</td>\n",
              "      <td>['IPL2020']</td>\n",
              "      <td>natarajan made mark yorkers xfxfxxc see play t...</td>\n",
              "      <td>19</td>\n",
              "      <td>0.3400</td>\n",
              "      <td>0.789</td>\n",
              "      <td>0.000</td>\n",
              "      <td>0.211</td>\n",
              "      <td>POSITIVE</td>\n",
              "      <td>4</td>\n",
              "      <td>2020-11-09</td>\n",
              "      <td>48</td>\n",
              "      <td>0</td>\n",
              "    </tr>\n",
              "    <tr>\n",
              "      <th>4</th>\n",
              "      <td>2020-11-09 04:47:57</td>\n",
              "      <td>b'#IPL2020 Final: Marcus Stoinis warning to @m...</td>\n",
              "      <td>b'InsideSportIND'</td>\n",
              "      <td>['IPL2020', 'iplseason13', 'IPLfinal', 'Mumbai...</td>\n",
              "      <td>marcus stoinis warning check</td>\n",
              "      <td>7</td>\n",
              "      <td>-0.3400</td>\n",
              "      <td>0.556</td>\n",
              "      <td>0.444</td>\n",
              "      <td>0.000</td>\n",
              "      <td>NEGATIVE</td>\n",
              "      <td>4</td>\n",
              "      <td>2020-11-09</td>\n",
              "      <td>47</td>\n",
              "      <td>0</td>\n",
              "    </tr>\n",
              "  </tbody>\n",
              "</table>\n",
              "</div>"
            ],
            "text/plain": [
              "               created  ... Tfidf cluster Labels\n",
              "0  2020-11-09 04:49:21  ...                    9\n",
              "1  2020-11-09 04:49:16  ...                    0\n",
              "2  2020-11-09 04:48:52  ...                    0\n",
              "3  2020-11-09 04:48:41  ...                    0\n",
              "4  2020-11-09 04:47:57  ...                    0\n",
              "\n",
              "[5 rows x 15 columns]"
            ]
          },
          "metadata": {
            "tags": []
          },
          "execution_count": 90
        }
      ]
    },
    {
      "cell_type": "code",
      "metadata": {
        "colab": {
          "base_uri": "https://localhost:8080/"
        },
        "id": "I0khgtpHNgA6",
        "outputId": "5f054a4b-fc1d-404d-8305-c558092ab7ab"
      },
      "source": [
        "df_tfif.groupby(['Tfidf cluster Labels'])['refine_text'].count()"
      ],
      "execution_count": 92,
      "outputs": [
        {
          "output_type": "execute_result",
          "data": {
            "text/plain": [
              "Tfidf cluster Labels\n",
              "0    508\n",
              "1     13\n",
              "2     49\n",
              "3     55\n",
              "4     50\n",
              "5     64\n",
              "6     51\n",
              "7     69\n",
              "8     33\n",
              "9    108\n",
              "Name: refine_text, dtype: int64"
            ]
          },
          "metadata": {
            "tags": []
          },
          "execution_count": 92
        }
      ]
    },
    {
      "cell_type": "code",
      "metadata": {
        "colab": {
          "base_uri": "https://localhost:8080/"
        },
        "id": "yZ0eLlU0NivH",
        "outputId": "31a98c76-e9b8-47df-ff23-b7f621dd56b0"
      },
      "source": [
        "\n",
        "print(\"Top words per cluster:\")\n",
        "order_centroids = model_tfif.cluster_centers_.argsort()[:, ::-1]\n",
        "for i in range(10):\n",
        "    print(\"Cluster %d:\" % i, end='')\n",
        "    for ind in order_centroids[i, :10]:\n",
        "        print(' %s' % words[ind], end='')\n",
        "        print()"
      ],
      "execution_count": 94,
      "outputs": [
        {
          "output_type": "stream",
          "text": [
            "Top words per cluster:\n",
            "Cluster 0: congratulation\n",
            " one\n",
            " season\n",
            " champion\n",
            " year\n",
            " fan\n",
            " match\n",
            " run\n",
            " wicket\n",
            " trophy\n",
            "Cluster 1: csk\n",
            " rps\n",
            " kkr\n",
            " deccan\n",
            " kxip\n",
            " rr\n",
            " srh\n",
            " mi\n",
            " final\n",
            " rc\n",
            "Cluster 2: win\n",
            " always\n",
            " lose\n",
            " life\n",
            " retweet\n",
            " time\n",
            " like\n",
            " wish\n",
            " first\n",
            " hope\n",
            "Cluster 3: capital\n",
            " delhi\n",
            " maiden\n",
            " run\n",
            " qualifier\n",
            " hyderabad\n",
            " sunrisers\n",
            " join\n",
            " first\n",
            " time\n",
            "Cluster 4: title\n",
            " qualifier\n",
            " tuesday\n",
            " first\n",
            " lost\n",
            " match\n",
            " face\n",
            " final\n",
            " win\n",
            " beat\n",
            "Cluster 5: final\n",
            " finally\n",
            " time\n",
            " congratulation\n",
            " first\n",
            " delhi\n",
            " see\n",
            " qualified\n",
            " trophy\n",
            " made\n",
            "Cluster 6: well\n",
            " played\n",
            " congratulation\n",
            " team\n",
            " better\n",
            " boy\n",
            " proud\n",
            " match\n",
            " done\n",
            " next\n",
            "Cluster 7: dc\n",
            " mi\n",
            " rc\n",
            " time\n",
            " csk\n",
            " released\n",
            " final\n",
            " made\n",
            " srh\n",
            " fan\n",
            "Cluster 8: mumbai\n",
            " indian\n",
            " win\n",
            " capital\n",
            " join\n",
            " delhi\n",
            " year\n",
            " meet\n",
            " winner\n",
            " time\n",
            "Cluster 9: player\n",
            " team\n",
            " williamson\n",
            " kane\n",
            " injured\n",
            " best\n",
            " season\n",
            " fan\n",
            " good\n",
            " back\n"
          ],
          "name": "stdout"
        }
      ]
    },
    {
      "cell_type": "code",
      "metadata": {
        "colab": {
          "base_uri": "https://localhost:8080/",
          "height": 295
        },
        "id": "ozr59NtYN90f",
        "outputId": "7ac7410d-0e68-424d-801c-0cc6829caa32"
      },
      "source": [
        "import matplotlib.pyplot as plt\n",
        "plt.bar([x for x in range(10)], df_tfif.groupby(['Tfidf cluster Labels'])['refine_text'].count(), alpha = 0.4)\n",
        "plt.title('KMeans cluster points')\n",
        "plt.xlabel(\"Cluster number\")\n",
        "plt.ylabel(\"Number of points\")\n",
        "plt.show()"
      ],
      "execution_count": 96,
      "outputs": [
        {
          "output_type": "display_data",
          "data": {
            "image/png": "[encoded data removed]",
            "text/plain": [
              "<Figure size 432x288 with 1 Axes>"
            ]
          },
          "metadata": {
            "tags": [],
            "needs_background": "light"
          }
        }
      ]
    },
    {
      "cell_type": "markdown",
      "metadata": {
        "id": "qvtVBjgUUYGI"
      },
      "source": [
        "**MultinomialNB Method**\n",
        "\n",
        "\n"
      ]
    },
    {
      "cell_type": "code",
      "metadata": {
        "id": "99IG1N_iU9RX"
      },
      "source": [
        "from sklearn.model_selection import train_test_split\n",
        "X_train, X_test, y_train, y_test = train_test_split(tfidf, tweets[\"sentiment_type\"], test_size=0.2,random_state=109)"
      ],
      "execution_count": 97,
      "outputs": []
    },
    {
      "cell_type": "code",
      "metadata": {
        "id": "a_czLsZ0bW5F",
        "colab": {
          "base_uri": "https://localhost:8080/"
        },
        "outputId": "0593c23c-556e-450c-849a-528af13e206d"
      },
      "source": [
        "from sklearn.naive_bayes import MultinomialNB\n",
        "from sklearn.metrics import accuracy_score\n",
        "from sklearn.metrics import classification_report\n",
        "cm = MultinomialNB()\n",
        "cm.fit(X_train,y_train)\n",
        "y_pred = cm.predict(X_test)\n",
        "accuracy = accuracy_score(y_test, y_pred)\n",
        "print(\"Accuracy: %.2f%%\" % (accuracy * 100.0))\n",
        "print(classification_report(y_test,y_pred))"
      ],
      "execution_count": 98,
      "outputs": [
        {
          "output_type": "stream",
          "text": [
            "Accuracy: 65.00%\n",
            "              precision    recall  f1-score   support\n",
            "\n",
            "    NEGATIVE       0.00      0.00      0.00        22\n",
            "     NEUTRAL       1.00      0.06      0.11        51\n",
            "    POSITIVE       0.64      1.00      0.78       127\n",
            "\n",
            "    accuracy                           0.65       200\n",
            "   macro avg       0.55      0.35      0.30       200\n",
            "weighted avg       0.66      0.65      0.53       200\n",
            "\n"
          ],
          "name": "stdout"
        }
      ]
    },
    {
      "cell_type": "markdown",
      "metadata": {
        "id": "z6_KRhbPHXjg"
      },
      "source": [
        "**RandomForest**"
      ]
    },
    {
      "cell_type": "code",
      "metadata": {
        "id": "TQ4dtoOzb0Y9",
        "colab": {
          "base_uri": "https://localhost:8080/"
        },
        "outputId": "696edcf4-c813-4bc9-e79c-d92c2d07c8a9"
      },
      "source": [
        "from sklearn.ensemble import RandomForestClassifier\n",
        "from sklearn.metrics import accuracy_score\n",
        "from sklearn.metrics import classification_report\n",
        "rf = RandomForestClassifier()\n",
        "rf.fit(X_train,y_train)\n",
        "y_pred = rf.predict(X_test)\n",
        "accuracy = accuracy_score(y_test, y_pred)\n",
        "print(\"Accuracy: %.2f%%\" % (accuracy * 100.0))\n",
        "print(classification_report(y_test,y_pred))"
      ],
      "execution_count": 100,
      "outputs": [
        {
          "output_type": "stream",
          "text": [
            "Accuracy: 70.00%\n",
            "              precision    recall  f1-score   support\n",
            "\n",
            "    NEGATIVE       0.50      0.05      0.08        22\n",
            "     NEUTRAL       0.51      0.78      0.62        51\n",
            "    POSITIVE       0.82      0.78      0.80       127\n",
            "\n",
            "    accuracy                           0.70       200\n",
            "   macro avg       0.61      0.54      0.50       200\n",
            "weighted avg       0.71      0.70      0.68       200\n",
            "\n"
          ],
          "name": "stdout"
        }
      ]
    },
    {
      "cell_type": "code",
      "metadata": {
        "id": "9HKZYui8cBc_",
        "colab": {
          "base_uri": "https://localhost:8080/"
        },
        "outputId": "d522b232-31dd-4d6f-a7c3-41195ef61d0b"
      },
      "source": [
        "print(pd.DataFrame({'predicted reviews':y_pred}))"
      ],
      "execution_count": 101,
      "outputs": [
        {
          "output_type": "stream",
          "text": [
            "    predicted reviews\n",
            "0             NEUTRAL\n",
            "1             NEUTRAL\n",
            "2             NEUTRAL\n",
            "3            POSITIVE\n",
            "4            POSITIVE\n",
            "..                ...\n",
            "195           NEUTRAL\n",
            "196           NEUTRAL\n",
            "197          POSITIVE\n",
            "198          POSITIVE\n",
            "199           NEUTRAL\n",
            "\n",
            "[200 rows x 1 columns]\n"
          ],
          "name": "stdout"
        }
      ]
    }
  ]
}