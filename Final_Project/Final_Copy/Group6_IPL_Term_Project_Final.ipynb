{
  "nbformat": 4,
  "nbformat_minor": 0,
  "metadata": {
    "colab": {
      "name": "Group6_IPL_Term_Project_Progress.ipynb",
      "provenance": [],
      "collapsed_sections": [],
      "include_colab_link": true
    },
    "kernelspec": {
      "name": "python3",
      "display_name": "Python 3"
    }
  },
  "cells": [
    {
      "cell_type": "markdown",
      "metadata": {
        "id": "view-in-github",
        "colab_type": "text"
      },
      "source": [
        "<a href=\"https://colab.research.google.com/github/prashanthdnss/Nithya_INFO5731_Fall2020/blob/master/Final_Project/Final_Copy/Group6_IPL_Term_Project_Final.ipynb\" target=\"_parent\"><img src=\"https://colab.research.google.com/assets/colab-badge.svg\" alt=\"Open In Colab\"/></a>"
      ]
    },
    {
      "cell_type": "code",
      "metadata": {
        "id": "hyTnPOkcTAoN",
        "colab": {
          "base_uri": "https://localhost:8080/"
        },
        "outputId": "b6a0b22c-5b21-4669-a6c0-7eb957546876"
      },
      "source": [
        "!pip install tweepy  #Installing Tweepy for twitter data"
      ],
      "execution_count": null,
      "outputs": [
        {
          "output_type": "stream",
          "text": [
            "Requirement already satisfied: tweepy in /usr/local/lib/python3.6/dist-packages (3.6.0)\n",
            "Requirement already satisfied: requests>=2.11.1 in /usr/local/lib/python3.6/dist-packages (from tweepy) (2.23.0)\n",
            "Requirement already satisfied: six>=1.10.0 in /usr/local/lib/python3.6/dist-packages (from tweepy) (1.15.0)\n",
            "Requirement already satisfied: requests-oauthlib>=0.7.0 in /usr/local/lib/python3.6/dist-packages (from tweepy) (1.3.0)\n",
            "Requirement already satisfied: PySocks>=1.5.7 in /usr/local/lib/python3.6/dist-packages (from tweepy) (1.7.1)\n",
            "Requirement already satisfied: chardet<4,>=3.0.2 in /usr/local/lib/python3.6/dist-packages (from requests>=2.11.1->tweepy) (3.0.4)\n",
            "Requirement already satisfied: certifi>=2017.4.17 in /usr/local/lib/python3.6/dist-packages (from requests>=2.11.1->tweepy) (2020.6.20)\n",
            "Requirement already satisfied: urllib3!=1.25.0,!=1.25.1,<1.26,>=1.21.1 in /usr/local/lib/python3.6/dist-packages (from requests>=2.11.1->tweepy) (1.24.3)\n",
            "Requirement already satisfied: idna<3,>=2.5 in /usr/local/lib/python3.6/dist-packages (from requests>=2.11.1->tweepy) (2.10)\n",
            "Requirement already satisfied: oauthlib>=3.0.0 in /usr/local/lib/python3.6/dist-packages (from requests-oauthlib>=0.7.0->tweepy) (3.1.0)\n"
          ],
          "name": "stdout"
        }
      ]
    },
    {
      "cell_type": "markdown",
      "metadata": {
        "id": "UmeUFsajLCoX"
      },
      "source": [
        "**Tweets extracted 11/8/2020**"
      ]
    },
    {
      "cell_type": "code",
      "metadata": {
        "id": "gG9pci1qU5ax",
        "colab": {
          "base_uri": "https://localhost:8080/"
        },
        "outputId": "87dec30b-6df3-45b9-a9f8-ac637fbb2252"
      },
      "source": [
        "#Program to get twitter data using Twitter API \n",
        "\n",
        "import json\n",
        "import csv\n",
        "import tweepy\n",
        "import re\n",
        "import os\n",
        "def twitter_hashtag(api_key, api_key_secret, access_token, access_token_secret, hashtag):\n",
        "    \n",
        "    auth = tweepy.OAuthHandler(api_key, api_key_secret)\n",
        "    auth.set_access_token(access_token, access_token_secret)\n",
        "\n",
        "    api = tweepy.API(auth,wait_on_rate_limit=True)\n",
        "    \n",
        "    file_name = '_'.join(re.findall(r\"#(\\w+)\", hashtag))\n",
        "\n",
        "    with open('%s.csv' % (file_name), 'w') as file:\n",
        "\n",
        "        w = csv.writer(file)\n",
        "\n",
        "        w.writerow(['created', 'user_location', 'tweet_text', 'username', 'all_hashtags'])\n",
        "\n",
        "        for tweet in tweepy.Cursor(api.search, q=hashtag+' -filter:retweets', lang=\"en\", tweet_mode='extended').items(1000):\n",
        "            w.writerow([tweet.created_at, tweet.full_text.replace('\\n',' ').encode('utf-8'), tweet.user.screen_name.encode('utf-8'),[e['text'] for e in tweet._json['entities']['hashtags']]])\n",
        "            \n",
        "\n",
        "\n",
        "api_key = input('Please give twitter api key')\n",
        "api_key_secret = input('Please give twitter api key secret')\n",
        "access_token = input('Please give twitter access token')\n",
        "access_token_secret = input('Please give twitter access token secret')\n",
        "    \n",
        "hashtag = input('enter the hashtag')\n",
        "\n",
        "twitter_hashtag(api_key, api_key_secret, access_token, access_token_secret, hashtag)\n",
        "\n"
      ],
      "execution_count": null,
      "outputs": [
        {
          "output_type": "stream",
          "text": [
            "Please give twitter api keyePjdnPqsmA5Mgjewf5i5Vtnuw\n",
            "Please give twitter api key secretV83Stor4JRihnxggUa9OODxIrAc8EHmQdJxlnpxAGZXjqbJA7v\n",
            "Please give twitter access token1287853629869821952-ZsnNF12Y53o5JfCOUBPn72lO0OJau1\n",
            "Please give twitter access token secretTSYcER5dl5L72dcbpo8f0LzQqfn6qX3r2n1QsLpOGxRAz\n",
            "enter the hashtag#IPL2020\n"
          ],
          "name": "stdout"
        }
      ]
    },
    {
      "cell_type": "code",
      "metadata": {
        "id": "EYZM5qdsC8QB"
      },
      "source": [
        ""
      ],
      "execution_count": null,
      "outputs": []
    },
    {
      "cell_type": "code",
      "metadata": {
        "id": "X3vnZxYQU5d9",
        "colab": {
          "base_uri": "https://localhost:8080/",
          "height": 195
        },
        "outputId": "73b0d138-f18a-447d-92f0-5e3dd281b8e3"
      },
      "source": [
        "#Saving the twitter data to a csv file\n",
        "import pandas as pd\n",
        "tweets=pd.read_csv('/content/IPL2020 (1).csv')\n",
        "tweets.head()"
      ],
      "execution_count": 45,
      "outputs": [
        {
          "output_type": "execute_result",
          "data": {
            "text/html": [
              "<div>\n",
              "<style scoped>\n",
              "    .dataframe tbody tr th:only-of-type {\n",
              "        vertical-align: middle;\n",
              "    }\n",
              "\n",
              "    .dataframe tbody tr th {\n",
              "        vertical-align: top;\n",
              "    }\n",
              "\n",
              "    .dataframe thead th {\n",
              "        text-align: right;\n",
              "    }\n",
              "</style>\n",
              "<table border=\"1\" class=\"dataframe\">\n",
              "  <thead>\n",
              "    <tr style=\"text-align: right;\">\n",
              "      <th></th>\n",
              "      <th>created</th>\n",
              "      <th>user_location</th>\n",
              "      <th>tweet_text</th>\n",
              "      <th>username</th>\n",
              "      <th>all_hashtags</th>\n",
              "    </tr>\n",
              "  </thead>\n",
              "  <tbody>\n",
              "    <tr>\n",
              "      <th>0</th>\n",
              "      <td>11/9/2020 4:49</td>\n",
              "      <td>Gotham City</td>\n",
              "      <td>b'Look at #SRH youngster Priyam Garg after Kan...</td>\n",
              "      <td>b'SteadyTheShip'</td>\n",
              "      <td>['SRH', 'SRHvDC', 'DCvSRH', 'IPL2020']</td>\n",
              "    </tr>\n",
              "    <tr>\n",
              "      <th>1</th>\n",
              "      <td>11/9/2020 4:49</td>\n",
              "      <td>Bengaluru South, India</td>\n",
              "      <td>b'This is Mr.360\\xc2\\xb0 @ABdeVilliers17 . Mos...</td>\n",
              "      <td>b'imsapien'</td>\n",
              "      <td>['Cricket', 'IPL2020', 'Eliminater', 'IPLQuali...</td>\n",
              "    </tr>\n",
              "    <tr>\n",
              "      <th>2</th>\n",
              "      <td>11/9/2020 4:48</td>\n",
              "      <td>Chennai, India</td>\n",
              "      <td>b\"Great things happen to those who don't stop ...</td>\n",
              "      <td>b'CricketGirl_45'</td>\n",
              "      <td>['RohitSharma', 'MumbaiIndians', 'IPL2020', 'I...</td>\n",
              "    </tr>\n",
              "    <tr>\n",
              "      <th>3</th>\n",
              "      <td>11/9/2020 4:48</td>\n",
              "      <td>Chennai, India</td>\n",
              "      <td>b'T Natarajan made a mark with his yorkers in ...</td>\n",
              "      <td>b'ESPNcricinfo'</td>\n",
              "      <td>['IPL2020']</td>\n",
              "    </tr>\n",
              "    <tr>\n",
              "      <th>4</th>\n",
              "      <td>11/9/2020 4:47</td>\n",
              "      <td>Kerala, India</td>\n",
              "      <td>b'#IPL2020 Final: Marcus Stoinis warning to @m...</td>\n",
              "      <td>b'InsideSportIND'</td>\n",
              "      <td>['IPL2020', 'iplseason13', 'IPLfinal', 'Mumbai...</td>\n",
              "    </tr>\n",
              "  </tbody>\n",
              "</table>\n",
              "</div>"
            ],
            "text/plain": [
              "          created  ...                                       all_hashtags\n",
              "0  11/9/2020 4:49  ...             ['SRH', 'SRHvDC', 'DCvSRH', 'IPL2020']\n",
              "1  11/9/2020 4:49  ...  ['Cricket', 'IPL2020', 'Eliminater', 'IPLQuali...\n",
              "2  11/9/2020 4:48  ...  ['RohitSharma', 'MumbaiIndians', 'IPL2020', 'I...\n",
              "3  11/9/2020 4:48  ...                                        ['IPL2020']\n",
              "4  11/9/2020 4:47  ...  ['IPL2020', 'iplseason13', 'IPLfinal', 'Mumbai...\n",
              "\n",
              "[5 rows x 5 columns]"
            ]
          },
          "metadata": {
            "tags": []
          },
          "execution_count": 45
        }
      ]
    },
    {
      "cell_type": "code",
      "metadata": {
        "id": "ftm2a5e-2CZD"
      },
      "source": [
        "import pandas as pd\n",
        "import numpy as np\n",
        "import sklearn\n",
        "from scipy import stats\n",
        "import matplotlib.pyplot as plt\n",
        "import os\n",
        "import seaborn as sns\n"
      ],
      "execution_count": 48,
      "outputs": []
    },
    {
      "cell_type": "code",
      "metadata": {
        "colab": {
          "base_uri": "https://localhost:8080/",
          "height": 295
        },
        "id": "tVdnYEeY2Hmb",
        "outputId": "220aaba3-24cf-4fc6-cf18-1b1d41afacdd"
      },
      "source": [
        "ds = tweets['user_location'].value_counts().reset_index()\n",
        "ds.columns = ['user_location', 'count']\n",
        "ds = ds[ds['user_location']!='NA']\n",
        "ds = ds.sort_values(['count'],ascending=False)\n",
        "\n",
        "fig = sns.barplot(\n",
        "    \n",
        "    x=ds.head(20)[\"count\"], \n",
        "    y=ds.head(20)[\"user_location\"], \n",
        "    orientation='horizontal'\n",
        ").set_title('Top 20 user locations by number of tweets')"
      ],
      "execution_count": 47,
      "outputs": [
        {
          "output_type": "display_data",
          "data": {
            "image/png": "[encoded data removed]",
            "text/plain": [
              "<Figure size 432x288 with 1 Axes>"
            ]
          },
          "metadata": {
            "tags": [],
            "needs_background": "light"
          }
        }
      ]
    },
    {
      "cell_type": "code",
      "metadata": {
        "colab": {
          "base_uri": "https://localhost:8080/",
          "height": 617
        },
        "id": "8e5eRPfd2YAR",
        "outputId": "4a060f24-4561-4723-a5d8-5fc7593f75d2"
      },
      "source": [
        "from plotly.offline import init_notebook_mode, iplot\n",
        "import matplotlib.pyplot as plt\n",
        "import plotly.express as px\n",
        "import plotly.graph_objects as go\n",
        "import plotly.figure_factory as ff\n",
        "from plotly.colors import n_colors\n",
        "from plotly.subplots import make_subplots\n",
        "def pie_count(data, field, percent_limit, title):\n",
        "    \n",
        "    data[field] = data[field].fillna('NA')\n",
        "    data = data[field].value_counts().to_frame()\n",
        "\n",
        "    total = data[field].sum()\n",
        "    data['percentage'] = 100 * data[field]/total    \n",
        "\n",
        "    percent_limit = percent_limit\n",
        "    otherdata = data[data['percentage'] < percent_limit] \n",
        "    others = otherdata['percentage'].sum()  \n",
        "    maindata = data[data['percentage'] >= percent_limit]\n",
        "\n",
        "    data = maindata\n",
        "    #other_label = \"Others(<\" + str(percent_limit) + \"% each)\"\n",
        "    #data.loc[other_label] = pd.Series({field:otherdata[field].sum()}) \n",
        "    \n",
        "    labels = data.index.tolist()   \n",
        "    datavals = data[field].tolist()\n",
        "    \n",
        "    trace=go.Pie(labels=labels,values=datavals)\n",
        "    \n",
        "    layout = go.Layout(\n",
        "        title = title,\n",
        "        height=600,\n",
        "        width=600\n",
        "        )\n",
        "    \n",
        "    fig = go.Figure(data=[trace], layout=layout)\n",
        "    iplot(fig)\n",
        "    \n",
        "pie_count(tweets, 'user_location', 0.5, 'Number of tweets per location')"
      ],
      "execution_count": 49,
      "outputs": [
        {
          "output_type": "display_data",
          "data": {
            "text/html": [
              "<html>\n",
              "<head><meta charset=\"utf-8\" /></head>\n",
              "<body>\n",
              "    <div>\n",
              "            <script src=\"https://cdnjs.cloudflare.com/ajax/libs/mathjax/2.7.5/MathJax.js?config=TeX-AMS-MML_SVG\"></script><script type=\"text/javascript\">if (window.MathJax) {MathJax.Hub.Config({SVG: {font: \"STIX-Web\"}});}</script>\n",
              "                <script type=\"text/javascript\">window.PlotlyConfig = {MathJaxConfig: 'local'};</script>\n",
              "        <script src=\"https://cdn.plot.ly/plotly-latest.min.js\"></script>    \n",
              "            <div id=\"48183793-d475-4297-8616-42daeb9179ab\" class=\"plotly-graph-div\" style=\"height:600px; width:600px;\"></div>\n",
              "            <script type=\"text/javascript\">\n",
              "                \n",
              "                    window.PLOTLYENV=window.PLOTLYENV || {};\n",
              "                    \n",
              "                if (document.getElementById(\"48183793-d475-4297-8616-42daeb9179ab\")) {\n",
              "                    Plotly.newPlot(\n",
              "                        '48183793-d475-4297-8616-42daeb9179ab',\n",
              "                        [{\"labels\": [\"NA\", \"India\", \"New Delhi, India\", \"Chennai, India\", \"Mumbai, India\", \"Mumbai\", \"Saket, New Delhi\", \"Bengaluru, India\", \"Hyderabad, India\", \"Tamil Nadu, India\", \"New Delhi\", \"Kolkata\", \"Ahmadabad City, India\", \"Pune, India\", \"Sri Lanka\"], \"type\": \"pie\", \"values\": [413, 78, 64, 30, 19, 15, 14, 13, 10, 8, 6, 6, 5, 5, 5]}],\n",
              "                        {\"height\": 600, \"template\": {\"data\": {\"bar\": [{\"error_x\": {\"color\": \"#2a3f5f\"}, \"error_y\": {\"color\": \"#2a3f5f\"}, \"marker\": {\"line\": {\"color\": \"#E5ECF6\", \"width\": 0.5}}, \"type\": \"bar\"}], \"barpolar\": [{\"marker\": {\"line\": {\"color\": \"#E5ECF6\", \"width\": 0.5}}, \"type\": \"barpolar\"}], \"carpet\": [{\"aaxis\": {\"endlinecolor\": \"#2a3f5f\", \"gridcolor\": \"white\", \"linecolor\": \"white\", \"minorgridcolor\": \"white\", \"startlinecolor\": \"#2a3f5f\"}, \"baxis\": {\"endlinecolor\": \"#2a3f5f\", \"gridcolor\": \"white\", \"linecolor\": \"white\", \"minorgridcolor\": \"white\", \"startlinecolor\": \"#2a3f5f\"}, \"type\": \"carpet\"}], \"choropleth\": [{\"colorbar\": {\"outlinewidth\": 0, \"ticks\": \"\"}, \"type\": \"choropleth\"}], \"contour\": [{\"colorbar\": {\"outlinewidth\": 0, \"ticks\": \"\"}, \"colorscale\": [[0.0, \"#0d0887\"], [0.1111111111111111, \"#46039f\"], [0.2222222222222222, \"#7201a8\"], [0.3333333333333333, \"#9c179e\"], [0.4444444444444444, \"#bd3786\"], [0.5555555555555556, \"#d8576b\"], [0.6666666666666666, \"#ed7953\"], [0.7777777777777778, \"#fb9f3a\"], [0.8888888888888888, \"#fdca26\"], [1.0, \"#f0f921\"]], \"type\": \"contour\"}], \"contourcarpet\": [{\"colorbar\": {\"outlinewidth\": 0, \"ticks\": \"\"}, \"type\": \"contourcarpet\"}], \"heatmap\": [{\"colorbar\": {\"outlinewidth\": 0, \"ticks\": \"\"}, \"colorscale\": [[0.0, \"#0d0887\"], [0.1111111111111111, \"#46039f\"], [0.2222222222222222, \"#7201a8\"], [0.3333333333333333, \"#9c179e\"], [0.4444444444444444, \"#bd3786\"], [0.5555555555555556, \"#d8576b\"], [0.6666666666666666, \"#ed7953\"], [0.7777777777777778, \"#fb9f3a\"], [0.8888888888888888, \"#fdca26\"], [1.0, \"#f0f921\"]], \"type\": \"heatmap\"}], \"heatmapgl\": [{\"colorbar\": {\"outlinewidth\": 0, \"ticks\": \"\"}, \"colorscale\": [[0.0, \"#0d0887\"], [0.1111111111111111, \"#46039f\"], [0.2222222222222222, \"#7201a8\"], [0.3333333333333333, \"#9c179e\"], [0.4444444444444444, \"#bd3786\"], [0.5555555555555556, \"#d8576b\"], [0.6666666666666666, \"#ed7953\"], [0.7777777777777778, \"#fb9f3a\"], [0.8888888888888888, \"#fdca26\"], [1.0, \"#f0f921\"]], \"type\": \"heatmapgl\"}], \"histogram\": [{\"marker\": {\"colorbar\": {\"outlinewidth\": 0, \"ticks\": \"\"}}, \"type\": \"histogram\"}], \"histogram2d\": [{\"colorbar\": {\"outlinewidth\": 0, \"ticks\": \"\"}, \"colorscale\": [[0.0, \"#0d0887\"], [0.1111111111111111, \"#46039f\"], [0.2222222222222222, \"#7201a8\"], [0.3333333333333333, \"#9c179e\"], [0.4444444444444444, \"#bd3786\"], [0.5555555555555556, \"#d8576b\"], [0.6666666666666666, \"#ed7953\"], [0.7777777777777778, \"#fb9f3a\"], [0.8888888888888888, \"#fdca26\"], [1.0, \"#f0f921\"]], \"type\": \"histogram2d\"}], \"histogram2dcontour\": [{\"colorbar\": {\"outlinewidth\": 0, \"ticks\": \"\"}, \"colorscale\": [[0.0, \"#0d0887\"], [0.1111111111111111, \"#46039f\"], [0.2222222222222222, \"#7201a8\"], [0.3333333333333333, \"#9c179e\"], [0.4444444444444444, \"#bd3786\"], [0.5555555555555556, \"#d8576b\"], [0.6666666666666666, \"#ed7953\"], [0.7777777777777778, \"#fb9f3a\"], [0.8888888888888888, \"#fdca26\"], [1.0, \"#f0f921\"]], \"type\": \"histogram2dcontour\"}], \"mesh3d\": [{\"colorbar\": {\"outlinewidth\": 0, \"ticks\": \"\"}, \"type\": \"mesh3d\"}], \"parcoords\": [{\"line\": {\"colorbar\": {\"outlinewidth\": 0, \"ticks\": \"\"}}, \"type\": \"parcoords\"}], \"pie\": [{\"automargin\": true, \"type\": \"pie\"}], \"scatter\": [{\"marker\": {\"colorbar\": {\"outlinewidth\": 0, \"ticks\": \"\"}}, \"type\": \"scatter\"}], \"scatter3d\": [{\"line\": {\"colorbar\": {\"outlinewidth\": 0, \"ticks\": \"\"}}, \"marker\": {\"colorbar\": {\"outlinewidth\": 0, \"ticks\": \"\"}}, \"type\": \"scatter3d\"}], \"scattercarpet\": [{\"marker\": {\"colorbar\": {\"outlinewidth\": 0, \"ticks\": \"\"}}, \"type\": \"scattercarpet\"}], \"scattergeo\": [{\"marker\": {\"colorbar\": {\"outlinewidth\": 0, \"ticks\": \"\"}}, \"type\": \"scattergeo\"}], \"scattergl\": [{\"marker\": {\"colorbar\": {\"outlinewidth\": 0, \"ticks\": \"\"}}, \"type\": \"scattergl\"}], \"scattermapbox\": [{\"marker\": {\"colorbar\": {\"outlinewidth\": 0, \"ticks\": \"\"}}, \"type\": \"scattermapbox\"}], \"scatterpolar\": [{\"marker\": {\"colorbar\": {\"outlinewidth\": 0, \"ticks\": \"\"}}, \"type\": \"scatterpolar\"}], \"scatterpolargl\": [{\"marker\": {\"colorbar\": {\"outlinewidth\": 0, \"ticks\": \"\"}}, \"type\": \"scatterpolargl\"}], \"scatterternary\": [{\"marker\": {\"colorbar\": {\"outlinewidth\": 0, \"ticks\": \"\"}}, \"type\": \"scatterternary\"}], \"surface\": [{\"colorbar\": {\"outlinewidth\": 0, \"ticks\": \"\"}, \"colorscale\": [[0.0, \"#0d0887\"], [0.1111111111111111, \"#46039f\"], [0.2222222222222222, \"#7201a8\"], [0.3333333333333333, \"#9c179e\"], [0.4444444444444444, \"#bd3786\"], [0.5555555555555556, \"#d8576b\"], [0.6666666666666666, \"#ed7953\"], [0.7777777777777778, \"#fb9f3a\"], [0.8888888888888888, \"#fdca26\"], [1.0, \"#f0f921\"]], \"type\": \"surface\"}], \"table\": [{\"cells\": {\"fill\": {\"color\": \"#EBF0F8\"}, \"line\": {\"color\": \"white\"}}, \"header\": {\"fill\": {\"color\": \"#C8D4E3\"}, \"line\": {\"color\": \"white\"}}, \"type\": \"table\"}]}, \"layout\": {\"annotationdefaults\": {\"arrowcolor\": \"#2a3f5f\", \"arrowhead\": 0, \"arrowwidth\": 1}, \"coloraxis\": {\"colorbar\": {\"outlinewidth\": 0, \"ticks\": \"\"}}, \"colorscale\": {\"diverging\": [[0, \"#8e0152\"], [0.1, \"#c51b7d\"], [0.2, \"#de77ae\"], [0.3, \"#f1b6da\"], [0.4, \"#fde0ef\"], [0.5, \"#f7f7f7\"], [0.6, \"#e6f5d0\"], [0.7, \"#b8e186\"], [0.8, \"#7fbc41\"], [0.9, \"#4d9221\"], [1, \"#276419\"]], \"sequential\": [[0.0, \"#0d0887\"], [0.1111111111111111, \"#46039f\"], [0.2222222222222222, \"#7201a8\"], [0.3333333333333333, \"#9c179e\"], [0.4444444444444444, \"#bd3786\"], [0.5555555555555556, \"#d8576b\"], [0.6666666666666666, \"#ed7953\"], [0.7777777777777778, \"#fb9f3a\"], [0.8888888888888888, \"#fdca26\"], [1.0, \"#f0f921\"]], \"sequentialminus\": [[0.0, \"#0d0887\"], [0.1111111111111111, \"#46039f\"], [0.2222222222222222, \"#7201a8\"], [0.3333333333333333, \"#9c179e\"], [0.4444444444444444, \"#bd3786\"], [0.5555555555555556, \"#d8576b\"], [0.6666666666666666, \"#ed7953\"], [0.7777777777777778, \"#fb9f3a\"], [0.8888888888888888, \"#fdca26\"], [1.0, \"#f0f921\"]]}, \"colorway\": [\"#636efa\", \"#EF553B\", \"#00cc96\", \"#ab63fa\", \"#FFA15A\", \"#19d3f3\", \"#FF6692\", \"#B6E880\", \"#FF97FF\", \"#FECB52\"], \"font\": {\"color\": \"#2a3f5f\"}, \"geo\": {\"bgcolor\": \"white\", \"lakecolor\": \"white\", \"landcolor\": \"#E5ECF6\", \"showlakes\": true, \"showland\": true, \"subunitcolor\": \"white\"}, \"hoverlabel\": {\"align\": \"left\"}, \"hovermode\": \"closest\", \"mapbox\": {\"style\": \"light\"}, \"paper_bgcolor\": \"white\", \"plot_bgcolor\": \"#E5ECF6\", \"polar\": {\"angularaxis\": {\"gridcolor\": \"white\", \"linecolor\": \"white\", \"ticks\": \"\"}, \"bgcolor\": \"#E5ECF6\", \"radialaxis\": {\"gridcolor\": \"white\", \"linecolor\": \"white\", \"ticks\": \"\"}}, \"scene\": {\"xaxis\": {\"backgroundcolor\": \"#E5ECF6\", \"gridcolor\": \"white\", \"gridwidth\": 2, \"linecolor\": \"white\", \"showbackground\": true, \"ticks\": \"\", \"zerolinecolor\": \"white\"}, \"yaxis\": {\"backgroundcolor\": \"#E5ECF6\", \"gridcolor\": \"white\", \"gridwidth\": 2, \"linecolor\": \"white\", \"showbackground\": true, \"ticks\": \"\", \"zerolinecolor\": \"white\"}, \"zaxis\": {\"backgroundcolor\": \"#E5ECF6\", \"gridcolor\": \"white\", \"gridwidth\": 2, \"linecolor\": \"white\", \"showbackground\": true, \"ticks\": \"\", \"zerolinecolor\": \"white\"}}, \"shapedefaults\": {\"line\": {\"color\": \"#2a3f5f\"}}, \"ternary\": {\"aaxis\": {\"gridcolor\": \"white\", \"linecolor\": \"white\", \"ticks\": \"\"}, \"baxis\": {\"gridcolor\": \"white\", \"linecolor\": \"white\", \"ticks\": \"\"}, \"bgcolor\": \"#E5ECF6\", \"caxis\": {\"gridcolor\": \"white\", \"linecolor\": \"white\", \"ticks\": \"\"}}, \"title\": {\"x\": 0.05}, \"xaxis\": {\"automargin\": true, \"gridcolor\": \"white\", \"linecolor\": \"white\", \"ticks\": \"\", \"title\": {\"standoff\": 15}, \"zerolinecolor\": \"white\", \"zerolinewidth\": 2}, \"yaxis\": {\"automargin\": true, \"gridcolor\": \"white\", \"linecolor\": \"white\", \"ticks\": \"\", \"title\": {\"standoff\": 15}, \"zerolinecolor\": \"white\", \"zerolinewidth\": 2}}}, \"title\": {\"text\": \"Number of tweets per location\"}, \"width\": 600},\n",
              "                        {\"responsive\": true}\n",
              "                    ).then(function(){\n",
              "                            \n",
              "var gd = document.getElementById('48183793-d475-4297-8616-42daeb9179ab');\n",
              "var x = new MutationObserver(function (mutations, observer) {{\n",
              "        var display = window.getComputedStyle(gd).display;\n",
              "        if (!display || display === 'none') {{\n",
              "            console.log([gd, 'removed!']);\n",
              "            Plotly.purge(gd);\n",
              "            observer.disconnect();\n",
              "        }}\n",
              "}});\n",
              "\n",
              "// Listen for the removal of the full notebook cells\n",
              "var notebookContainer = gd.closest('#notebook-container');\n",
              "if (notebookContainer) {{\n",
              "    x.observe(notebookContainer, {childList: true});\n",
              "}}\n",
              "\n",
              "// Listen for the clearing of the current output cell\n",
              "var outputEl = gd.closest('.output');\n",
              "if (outputEl) {{\n",
              "    x.observe(outputEl, {childList: true});\n",
              "}}\n",
              "\n",
              "                        })\n",
              "                };\n",
              "                \n",
              "            </script>\n",
              "        </div>\n",
              "</body>\n",
              "</html>"
            ]
          },
          "metadata": {
            "tags": []
          }
        }
      ]
    },
    {
      "cell_type": "code",
      "metadata": {
        "colab": {
          "base_uri": "https://localhost:8080/",
          "height": 295
        },
        "id": "bPJDfPEU2bty",
        "outputId": "dd6e6393-23a7-4e60-f87e-3e9d0627a18a"
      },
      "source": [
        "ds = tweets['all_hashtags'].value_counts().reset_index()\n",
        "ds.columns = ['all_hashtags', 'count']\n",
        "ds = ds.sort_values(['count'],ascending=False)\n",
        "fig = sns.barplot(\n",
        "    x=ds.head(10)[\"count\"], \n",
        "    y=ds.head(10)['all_hashtags'], \n",
        "    orientation='horizontal', \n",
        "    #title='Top 20 hashtags', \n",
        "    #width=800, \n",
        "    #height=700\n",
        ").set_title('Top 10 hashtags')"
      ],
      "execution_count": 50,
      "outputs": [
        {
          "output_type": "display_data",
          "data": {
            "image/png": "[encoded data removed]",
            "text/plain": [
              "<Figure size 432x288 with 1 Axes>"
            ]
          },
          "metadata": {
            "tags": [],
            "needs_background": "light"
          }
        }
      ]
    },
    {
      "cell_type": "code",
      "metadata": {
        "id": "hJpkDEYoQeRW"
      },
      "source": [
        "#Functions to clean Tweets\n",
        "\n",
        "def remove_tag(string):\n",
        "    tweet_text=re.sub('<.*?>','',string)\n",
        "    return tweet_text\n",
        "def remove_mention(tweet_text):\n",
        "    line=re.sub(r'@\\w+','',tweet_text)\n",
        "    return line\n",
        "def remove_hash(tweet_text):\n",
        "    line=re.sub(r'#\\w+','',tweet_text)\n",
        "    return line\n",
        "\n",
        "def remove_newline(string):\n",
        "    tweet_text=re.sub('\\n','',string)\n",
        "    return tweet_text\n",
        "def remove_url(string): \n",
        "    tweet_text = re.sub('http[s]?://(?:[a-zA-Z]|[0-9]|[$-_@.&+]|[!*\\(\\),]|(?:%[0-9a-fA-F][0-9a-fA-F]))+','',string)\n",
        "    return tweet_text\n",
        "def remove_number(tweet_text):\n",
        "    line=re.sub(r'[0-9]+','',tweet_text)\n",
        "    return line\n",
        "def remove_punct(tweet_text):\n",
        "    line = re.sub(r'[!\"\\$%&\\'()*+,\\-.\\/:;=#@?\\[\\\\\\]^_`{|}~]*','',tweet_text)\n",
        "    return line\n",
        "def text_strip(string):\n",
        "    line=re.sub('\\s{2,}', ' ', string.strip())\n",
        "    return line\n",
        "\n"
      ],
      "execution_count": 51,
      "outputs": []
    },
    {
      "cell_type": "code",
      "metadata": {
        "id": "EbyPFD1m-dQd",
        "colab": {
          "base_uri": "https://localhost:8080/"
        },
        "outputId": "c8b32467-d5b8-4277-d83f-a353b5147014"
      },
      "source": [
        "!pip install nltk #installing NLTK Package"
      ],
      "execution_count": 52,
      "outputs": [
        {
          "output_type": "stream",
          "text": [
            "Requirement already satisfied: nltk in /usr/local/lib/python3.6/dist-packages (3.2.5)\n",
            "Requirement already satisfied: six in /usr/local/lib/python3.6/dist-packages (from nltk) (1.15.0)\n"
          ],
          "name": "stdout"
        }
      ]
    },
    {
      "cell_type": "code",
      "metadata": {
        "id": "kiRzYjf2RCOf",
        "colab": {
          "base_uri": "https://localhost:8080/"
        },
        "outputId": "59513a61-9241-432e-a1ca-64c47471124d"
      },
      "source": [
        "#Clensing the tweets\n",
        "\n",
        "import nltk\n",
        "import json\n",
        "import csv\n",
        "import tweepy\n",
        "import re\n",
        "import os\n",
        "\n",
        "\n",
        "tweets['refine_text']=tweets['tweet_text'].str.lower()\n",
        "tweets['refine_text'] = tweets['refine_text'].str[2:]\n",
        "tweets['refine_text']=tweets['refine_text'].apply(lambda x:remove_tag(str(x)))\n",
        "tweets['refine_text']=tweets['refine_text'].apply(lambda x:remove_mention(str(x)))\n",
        "tweets['refine_text']=tweets['refine_text'].apply(lambda x:remove_hash(str(x)))\n",
        "tweets['refine_text']=tweets['refine_text'].apply(lambda x:remove_newline(x))\n",
        "tweets['refine_text']=tweets['refine_text'].apply(lambda x:remove_url(x))\n",
        "tweets['refine_text']=tweets['refine_text'].apply(lambda x:remove_number(x))\n",
        "tweets['refine_text']=tweets['refine_text'].apply(lambda x:remove_punct(x))\n",
        "\n",
        "tweets['refine_text']=tweets['refine_text'].apply(lambda x:text_strip(x))\n",
        "\n",
        "tweets['text_length']=tweets['refine_text'].str.split().map(lambda x: len(x))\n",
        "\n",
        "#Remove noise\n",
        "tweets['refine_text'] = tweets['refine_text'].str.replace('[^\\w\\s]','')\n",
        "\n",
        "\n",
        "#Remove stopwords\n",
        "nltk.download('stopwords')\n",
        "from nltk.corpus import stopwords\n",
        "stop = stopwords.words('english')\n",
        "stop.extend(['amp','r','j','v','u','xcxa','via','xexcx','th','ipl','final','v','from','xexcxxefxbxf','xfxfxaxa','xfxfxx','xfxfxcxb','xfxfxxf','xfxfxx', 'xfxfxxd','xfxfxxa','i','the','we','it', 'subject', 're', 'edu', 'use'])\n",
        "tweets['refine_text'] = tweets['refine_text'].apply(lambda x: \" \".join(x for x in x.split() if x not in stop))\n",
        "\n",
        "\n",
        "\n",
        "#stemming\n",
        "from nltk.stem import PorterStemmer\n",
        "st = PorterStemmer()\n",
        "tweets['refine_text'][:5].apply(lambda x: \" \".join([st.stem(word) for word in x.split()]))\n",
        "\n",
        "#lemmatization\n",
        "!pip install -U textblob\n",
        "from textblob import Word\n",
        "import nltk\n",
        "nltk.download('wordnet')\n",
        "\n",
        "tweets['refine_text'] = tweets['refine_text'].apply(lambda x: \" \".join([Word(word).lemmatize() for word in x.split()]))\n"
      ],
      "execution_count": 53,
      "outputs": [
        {
          "output_type": "stream",
          "text": [
            "[nltk_data] Downloading package stopwords to /root/nltk_data...\n",
            "[nltk_data]   Package stopwords is already up-to-date!\n",
            "Requirement already up-to-date: textblob in /usr/local/lib/python3.6/dist-packages (0.15.3)\n",
            "Requirement already satisfied, skipping upgrade: nltk>=3.1 in /usr/local/lib/python3.6/dist-packages (from textblob) (3.2.5)\n",
            "Requirement already satisfied, skipping upgrade: six in /usr/local/lib/python3.6/dist-packages (from nltk>=3.1->textblob) (1.15.0)\n",
            "[nltk_data] Downloading package wordnet to /root/nltk_data...\n",
            "[nltk_data]   Package wordnet is already up-to-date!\n"
          ],
          "name": "stdout"
        }
      ]
    },
    {
      "cell_type": "code",
      "metadata": {
        "colab": {
          "base_uri": "https://localhost:8080/"
        },
        "id": "NmvN8X6lEgeX",
        "outputId": "6d079fd1-b066-4bfb-958e-60bc9b8ab541"
      },
      "source": [
        "tweets['refine_text']"
      ],
      "execution_count": 54,
      "outputs": [
        {
          "output_type": "execute_result",
          "data": {
            "text/plain": [
              "0      look youngster priyam garg kane williamson mas...\n",
              "1                        mrxcxb dangerous animal cricket\n",
              "2      great thing happen dont stop believing trying ...\n",
              "3      natarajan made mark yorkers xfxfxxc see play t...\n",
              "4                           marcus stoinis warning check\n",
              "                             ...                        \n",
              "995    congratulation entering final first time keep ...\n",
              "996    well played ur fight back frm ending rd place ...\n",
              "997    shikhar dhawan would take another former team ...\n",
              "998    winning heart art kane williamson artistxexdxa...\n",
              "999         dilli tu roar macha xfxfxaxxfxfxx made first\n",
              "Name: refine_text, Length: 1000, dtype: object"
            ]
          },
          "metadata": {
            "tags": []
          },
          "execution_count": 54
        }
      ]
    },
    {
      "cell_type": "code",
      "metadata": {
        "id": "AuKl4G8DgAtD"
      },
      "source": [
        "#Saaving the clensed data to a new CSV file\n",
        "tweets.to_csv('clean_tweets.csv') "
      ],
      "execution_count": 56,
      "outputs": []
    },
    {
      "cell_type": "code",
      "metadata": {
        "id": "TVT96iN-nTOX"
      },
      "source": [
        "# importing pandas module  \n",
        "import pandas as pd \n",
        "  \n",
        "# importing module for regex \n",
        "import re \n",
        "# importing numpy module \n",
        "import numpy as np\n",
        "# importing P=mathplot lib\n",
        "import matplotlib.pyplot as plt\n",
        "# reading csv file from url  \n",
        "dat = pd.read_csv(\"/content/clean_tweets.csv\")\n",
        "selected_columns = dat[[\"refine_text\"]]\n",
        "data = selected_columns.copy()\n"
      ],
      "execution_count": 57,
      "outputs": []
    },
    {
      "cell_type": "code",
      "metadata": {
        "id": "NJAN6oDhnTRT"
      },
      "source": [
        "# count of occurrence of each team mentions and creating new column \n",
        "data[\"count1\"]= data[\"refine_text\"].str.count(\"csk\", re.I) \n",
        "data[\"count2\"]= data[\"refine_text\"].str.count( \"DC\", re.I) \n",
        "data[\"count3\"]= data[\"refine_text\"].str.count( \"KXIP\", re.I) \n",
        "data[\"count4\"]= data[\"refine_text\"].str.count( \"KKR\", re.I) \n",
        "data[\"count5\"]= data[\"refine_text\"].str.count( \"MI\", re.I) \n",
        "data[\"count6\"]= data[\"refine_text\"].str.count( \"RR\", re.I) \n",
        "data[\"count7\"]= data[\"refine_text\"].str.count( \"RCB\", re.I) \n",
        "data[\"count8\"]= data[\"refine_text\"].str.count( \"SRH\", re.I)"
      ],
      "execution_count": 58,
      "outputs": []
    },
    {
      "cell_type": "code",
      "metadata": {
        "id": "4jh3_upAnTUs"
      },
      "source": [
        "# count of occurrence of each team mention with their state name and creating new column \n",
        "data[\"count11\"]= data[\"refine_text\"].str.count(\"Chennai\", re.I) \n",
        "data[\"count22\"]= data[\"refine_text\"].str.count( \"Delhi\", re.I) \n",
        "data[\"count33\"]= data[\"refine_text\"].str.count( \"Punjab\", re.I) \n",
        "data[\"count44\"]= data[\"refine_text\"].str.count( \"Kolkata\", re.I) \n",
        "data[\"count55\"]= data[\"refine_text\"].str.count( \"Mumbai\", re.I) \n",
        "data[\"count66\"]= data[\"refine_text\"].str.count( \"Rajasthan\", re.I) \n",
        "data[\"count77\"]= data[\"refine_text\"].str.count( \"Bangalore\", re.I) \n",
        "data[\"count88\"]= data[\"refine_text\"].str.count( \"Hyderabad\", re.I)"
      ],
      "execution_count": 59,
      "outputs": []
    },
    {
      "cell_type": "code",
      "metadata": {
        "id": "qkInndSxnTXt"
      },
      "source": [
        "#aggrigating the total mentions\n",
        "data[\"csk\"] = data[\"count1\"] + data[\"count11\"]\n",
        "data[\"DC\"] = data[\"count2\"] + data[\"count22\"]\n",
        "data[\"KXIP\"]= data[\"count3\"] + data[\"count33\"]\n",
        "data[\"KKR\"]= data[\"count4\"] + data[\"count44\"]\n",
        "data[\"MI\"]= data[\"count5\"] + data[\"count55\"]\n",
        "data[\"RR\"]= data[\"count6\"] + data[\"count66\"]\n",
        "data[\"RCB\"]= data[\"count7\"] + data[\"count77\"]\n",
        "data[\"SRH\"]= data[\"count8\"] + data[\"count88\"]"
      ],
      "execution_count": 60,
      "outputs": []
    },
    {
      "cell_type": "code",
      "metadata": {
        "id": "xyfsV-NhALO4",
        "colab": {
          "base_uri": "https://localhost:8080/",
          "height": 993
        },
        "outputId": "c0ec7ee2-7054-489b-d4af-b3966c4158a9"
      },
      "source": [
        "data"
      ],
      "execution_count": 61,
      "outputs": [
        {
          "output_type": "execute_result",
          "data": {
            "text/html": [
              "<div>\n",
              "<style scoped>\n",
              "    .dataframe tbody tr th:only-of-type {\n",
              "        vertical-align: middle;\n",
              "    }\n",
              "\n",
              "    .dataframe tbody tr th {\n",
              "        vertical-align: top;\n",
              "    }\n",
              "\n",
              "    .dataframe thead th {\n",
              "        text-align: right;\n",
              "    }\n",
              "</style>\n",
              "<table border=\"1\" class=\"dataframe\">\n",
              "  <thead>\n",
              "    <tr style=\"text-align: right;\">\n",
              "      <th></th>\n",
              "      <th>refine_text</th>\n",
              "      <th>count1</th>\n",
              "      <th>count2</th>\n",
              "      <th>count3</th>\n",
              "      <th>count4</th>\n",
              "      <th>count5</th>\n",
              "      <th>count6</th>\n",
              "      <th>count7</th>\n",
              "      <th>count8</th>\n",
              "      <th>count11</th>\n",
              "      <th>count22</th>\n",
              "      <th>count33</th>\n",
              "      <th>count44</th>\n",
              "      <th>count55</th>\n",
              "      <th>count66</th>\n",
              "      <th>count77</th>\n",
              "      <th>count88</th>\n",
              "      <th>csk</th>\n",
              "      <th>DC</th>\n",
              "      <th>KXIP</th>\n",
              "      <th>KKR</th>\n",
              "      <th>MI</th>\n",
              "      <th>RR</th>\n",
              "      <th>RCB</th>\n",
              "      <th>SRH</th>\n",
              "    </tr>\n",
              "  </thead>\n",
              "  <tbody>\n",
              "    <tr>\n",
              "      <th>0</th>\n",
              "      <td>look youngster priyam garg kane williamson mas...</td>\n",
              "      <td>0.0</td>\n",
              "      <td>0.0</td>\n",
              "      <td>0.0</td>\n",
              "      <td>0.0</td>\n",
              "      <td>0.0</td>\n",
              "      <td>0.0</td>\n",
              "      <td>0.0</td>\n",
              "      <td>0.0</td>\n",
              "      <td>0.0</td>\n",
              "      <td>0.0</td>\n",
              "      <td>0.0</td>\n",
              "      <td>0.0</td>\n",
              "      <td>0.0</td>\n",
              "      <td>0.0</td>\n",
              "      <td>0.0</td>\n",
              "      <td>0.0</td>\n",
              "      <td>0.0</td>\n",
              "      <td>0.0</td>\n",
              "      <td>0.0</td>\n",
              "      <td>0.0</td>\n",
              "      <td>0.0</td>\n",
              "      <td>0.0</td>\n",
              "      <td>0.0</td>\n",
              "      <td>0.0</td>\n",
              "    </tr>\n",
              "    <tr>\n",
              "      <th>1</th>\n",
              "      <td>mrxcxb dangerous animal cricket</td>\n",
              "      <td>0.0</td>\n",
              "      <td>0.0</td>\n",
              "      <td>0.0</td>\n",
              "      <td>0.0</td>\n",
              "      <td>0.0</td>\n",
              "      <td>0.0</td>\n",
              "      <td>0.0</td>\n",
              "      <td>0.0</td>\n",
              "      <td>0.0</td>\n",
              "      <td>0.0</td>\n",
              "      <td>0.0</td>\n",
              "      <td>0.0</td>\n",
              "      <td>0.0</td>\n",
              "      <td>0.0</td>\n",
              "      <td>0.0</td>\n",
              "      <td>0.0</td>\n",
              "      <td>0.0</td>\n",
              "      <td>0.0</td>\n",
              "      <td>0.0</td>\n",
              "      <td>0.0</td>\n",
              "      <td>0.0</td>\n",
              "      <td>0.0</td>\n",
              "      <td>0.0</td>\n",
              "      <td>0.0</td>\n",
              "    </tr>\n",
              "    <tr>\n",
              "      <th>2</th>\n",
              "      <td>great thing happen dont stop believing trying ...</td>\n",
              "      <td>0.0</td>\n",
              "      <td>0.0</td>\n",
              "      <td>0.0</td>\n",
              "      <td>0.0</td>\n",
              "      <td>0.0</td>\n",
              "      <td>0.0</td>\n",
              "      <td>0.0</td>\n",
              "      <td>0.0</td>\n",
              "      <td>0.0</td>\n",
              "      <td>0.0</td>\n",
              "      <td>0.0</td>\n",
              "      <td>0.0</td>\n",
              "      <td>0.0</td>\n",
              "      <td>0.0</td>\n",
              "      <td>0.0</td>\n",
              "      <td>0.0</td>\n",
              "      <td>0.0</td>\n",
              "      <td>0.0</td>\n",
              "      <td>0.0</td>\n",
              "      <td>0.0</td>\n",
              "      <td>0.0</td>\n",
              "      <td>0.0</td>\n",
              "      <td>0.0</td>\n",
              "      <td>0.0</td>\n",
              "    </tr>\n",
              "    <tr>\n",
              "      <th>3</th>\n",
              "      <td>natarajan made mark yorkers xfxfxxc see play t...</td>\n",
              "      <td>0.0</td>\n",
              "      <td>0.0</td>\n",
              "      <td>0.0</td>\n",
              "      <td>0.0</td>\n",
              "      <td>0.0</td>\n",
              "      <td>0.0</td>\n",
              "      <td>0.0</td>\n",
              "      <td>0.0</td>\n",
              "      <td>0.0</td>\n",
              "      <td>0.0</td>\n",
              "      <td>0.0</td>\n",
              "      <td>0.0</td>\n",
              "      <td>0.0</td>\n",
              "      <td>0.0</td>\n",
              "      <td>0.0</td>\n",
              "      <td>0.0</td>\n",
              "      <td>0.0</td>\n",
              "      <td>0.0</td>\n",
              "      <td>0.0</td>\n",
              "      <td>0.0</td>\n",
              "      <td>0.0</td>\n",
              "      <td>0.0</td>\n",
              "      <td>0.0</td>\n",
              "      <td>0.0</td>\n",
              "    </tr>\n",
              "    <tr>\n",
              "      <th>4</th>\n",
              "      <td>marcus stoinis warning check</td>\n",
              "      <td>0.0</td>\n",
              "      <td>0.0</td>\n",
              "      <td>0.0</td>\n",
              "      <td>0.0</td>\n",
              "      <td>0.0</td>\n",
              "      <td>0.0</td>\n",
              "      <td>0.0</td>\n",
              "      <td>0.0</td>\n",
              "      <td>0.0</td>\n",
              "      <td>0.0</td>\n",
              "      <td>0.0</td>\n",
              "      <td>0.0</td>\n",
              "      <td>0.0</td>\n",
              "      <td>0.0</td>\n",
              "      <td>0.0</td>\n",
              "      <td>0.0</td>\n",
              "      <td>0.0</td>\n",
              "      <td>0.0</td>\n",
              "      <td>0.0</td>\n",
              "      <td>0.0</td>\n",
              "      <td>0.0</td>\n",
              "      <td>0.0</td>\n",
              "      <td>0.0</td>\n",
              "      <td>0.0</td>\n",
              "    </tr>\n",
              "    <tr>\n",
              "      <th>...</th>\n",
              "      <td>...</td>\n",
              "      <td>...</td>\n",
              "      <td>...</td>\n",
              "      <td>...</td>\n",
              "      <td>...</td>\n",
              "      <td>...</td>\n",
              "      <td>...</td>\n",
              "      <td>...</td>\n",
              "      <td>...</td>\n",
              "      <td>...</td>\n",
              "      <td>...</td>\n",
              "      <td>...</td>\n",
              "      <td>...</td>\n",
              "      <td>...</td>\n",
              "      <td>...</td>\n",
              "      <td>...</td>\n",
              "      <td>...</td>\n",
              "      <td>...</td>\n",
              "      <td>...</td>\n",
              "      <td>...</td>\n",
              "      <td>...</td>\n",
              "      <td>...</td>\n",
              "      <td>...</td>\n",
              "      <td>...</td>\n",
              "      <td>...</td>\n",
              "    </tr>\n",
              "    <tr>\n",
              "      <th>995</th>\n",
              "      <td>congratulation entering final first time keep ...</td>\n",
              "      <td>0.0</td>\n",
              "      <td>0.0</td>\n",
              "      <td>0.0</td>\n",
              "      <td>0.0</td>\n",
              "      <td>0.0</td>\n",
              "      <td>0.0</td>\n",
              "      <td>0.0</td>\n",
              "      <td>0.0</td>\n",
              "      <td>0.0</td>\n",
              "      <td>0.0</td>\n",
              "      <td>0.0</td>\n",
              "      <td>0.0</td>\n",
              "      <td>0.0</td>\n",
              "      <td>0.0</td>\n",
              "      <td>0.0</td>\n",
              "      <td>0.0</td>\n",
              "      <td>0.0</td>\n",
              "      <td>0.0</td>\n",
              "      <td>0.0</td>\n",
              "      <td>0.0</td>\n",
              "      <td>0.0</td>\n",
              "      <td>0.0</td>\n",
              "      <td>0.0</td>\n",
              "      <td>0.0</td>\n",
              "    </tr>\n",
              "    <tr>\n",
              "      <th>996</th>\n",
              "      <td>well played ur fight back frm ending rd place ...</td>\n",
              "      <td>0.0</td>\n",
              "      <td>0.0</td>\n",
              "      <td>0.0</td>\n",
              "      <td>0.0</td>\n",
              "      <td>0.0</td>\n",
              "      <td>0.0</td>\n",
              "      <td>0.0</td>\n",
              "      <td>0.0</td>\n",
              "      <td>0.0</td>\n",
              "      <td>0.0</td>\n",
              "      <td>0.0</td>\n",
              "      <td>0.0</td>\n",
              "      <td>0.0</td>\n",
              "      <td>0.0</td>\n",
              "      <td>0.0</td>\n",
              "      <td>0.0</td>\n",
              "      <td>0.0</td>\n",
              "      <td>0.0</td>\n",
              "      <td>0.0</td>\n",
              "      <td>0.0</td>\n",
              "      <td>0.0</td>\n",
              "      <td>0.0</td>\n",
              "      <td>0.0</td>\n",
              "      <td>0.0</td>\n",
              "    </tr>\n",
              "    <tr>\n",
              "      <th>997</th>\n",
              "      <td>shikhar dhawan would take another former team ...</td>\n",
              "      <td>0.0</td>\n",
              "      <td>0.0</td>\n",
              "      <td>0.0</td>\n",
              "      <td>0.0</td>\n",
              "      <td>0.0</td>\n",
              "      <td>0.0</td>\n",
              "      <td>0.0</td>\n",
              "      <td>0.0</td>\n",
              "      <td>0.0</td>\n",
              "      <td>0.0</td>\n",
              "      <td>0.0</td>\n",
              "      <td>0.0</td>\n",
              "      <td>0.0</td>\n",
              "      <td>0.0</td>\n",
              "      <td>0.0</td>\n",
              "      <td>0.0</td>\n",
              "      <td>0.0</td>\n",
              "      <td>0.0</td>\n",
              "      <td>0.0</td>\n",
              "      <td>0.0</td>\n",
              "      <td>0.0</td>\n",
              "      <td>0.0</td>\n",
              "      <td>0.0</td>\n",
              "      <td>0.0</td>\n",
              "    </tr>\n",
              "    <tr>\n",
              "      <th>998</th>\n",
              "      <td>winning heart art kane williamson artistxexdxa...</td>\n",
              "      <td>0.0</td>\n",
              "      <td>0.0</td>\n",
              "      <td>0.0</td>\n",
              "      <td>0.0</td>\n",
              "      <td>0.0</td>\n",
              "      <td>0.0</td>\n",
              "      <td>0.0</td>\n",
              "      <td>0.0</td>\n",
              "      <td>0.0</td>\n",
              "      <td>0.0</td>\n",
              "      <td>0.0</td>\n",
              "      <td>0.0</td>\n",
              "      <td>0.0</td>\n",
              "      <td>0.0</td>\n",
              "      <td>0.0</td>\n",
              "      <td>0.0</td>\n",
              "      <td>0.0</td>\n",
              "      <td>0.0</td>\n",
              "      <td>0.0</td>\n",
              "      <td>0.0</td>\n",
              "      <td>0.0</td>\n",
              "      <td>0.0</td>\n",
              "      <td>0.0</td>\n",
              "      <td>0.0</td>\n",
              "    </tr>\n",
              "    <tr>\n",
              "      <th>999</th>\n",
              "      <td>dilli tu roar macha xfxfxaxxfxfxx made first</td>\n",
              "      <td>0.0</td>\n",
              "      <td>0.0</td>\n",
              "      <td>0.0</td>\n",
              "      <td>0.0</td>\n",
              "      <td>0.0</td>\n",
              "      <td>0.0</td>\n",
              "      <td>0.0</td>\n",
              "      <td>0.0</td>\n",
              "      <td>0.0</td>\n",
              "      <td>0.0</td>\n",
              "      <td>0.0</td>\n",
              "      <td>0.0</td>\n",
              "      <td>0.0</td>\n",
              "      <td>0.0</td>\n",
              "      <td>0.0</td>\n",
              "      <td>0.0</td>\n",
              "      <td>0.0</td>\n",
              "      <td>0.0</td>\n",
              "      <td>0.0</td>\n",
              "      <td>0.0</td>\n",
              "      <td>0.0</td>\n",
              "      <td>0.0</td>\n",
              "      <td>0.0</td>\n",
              "      <td>0.0</td>\n",
              "    </tr>\n",
              "  </tbody>\n",
              "</table>\n",
              "<p>1000 rows × 25 columns</p>\n",
              "</div>"
            ],
            "text/plain": [
              "                                           refine_text  count1  ...  RCB  SRH\n",
              "0    look youngster priyam garg kane williamson mas...     0.0  ...  0.0  0.0\n",
              "1                      mrxcxb dangerous animal cricket     0.0  ...  0.0  0.0\n",
              "2    great thing happen dont stop believing trying ...     0.0  ...  0.0  0.0\n",
              "3    natarajan made mark yorkers xfxfxxc see play t...     0.0  ...  0.0  0.0\n",
              "4                         marcus stoinis warning check     0.0  ...  0.0  0.0\n",
              "..                                                 ...     ...  ...  ...  ...\n",
              "995  congratulation entering final first time keep ...     0.0  ...  0.0  0.0\n",
              "996  well played ur fight back frm ending rd place ...     0.0  ...  0.0  0.0\n",
              "997  shikhar dhawan would take another former team ...     0.0  ...  0.0  0.0\n",
              "998  winning heart art kane williamson artistxexdxa...     0.0  ...  0.0  0.0\n",
              "999       dilli tu roar macha xfxfxaxxfxfxx made first     0.0  ...  0.0  0.0\n",
              "\n",
              "[1000 rows x 25 columns]"
            ]
          },
          "metadata": {
            "tags": []
          },
          "execution_count": 61
        }
      ]
    },
    {
      "cell_type": "code",
      "metadata": {
        "id": "6qGDUXwAnTbM"
      },
      "source": [
        "#dropping the previous count coloumns to clean the dataframe\n",
        "data1=data.drop(['count1', 'count11','count2','count22','count3','count33','count4','count44','count5','count55','count6','count66','count7','count77','count8','count88'], axis=1)"
      ],
      "execution_count": 62,
      "outputs": []
    },
    {
      "cell_type": "code",
      "metadata": {
        "id": "5MK641dMnxbd"
      },
      "source": [
        "#aggrigating the total mentions team wise and saving the results to a dictionary\n",
        "dict = data1.sum(axis = 0, skipna = True)"
      ],
      "execution_count": 63,
      "outputs": []
    },
    {
      "cell_type": "code",
      "metadata": {
        "id": "oObZVTkHnxeJ",
        "colab": {
          "base_uri": "https://localhost:8080/"
        },
        "outputId": "6e993e6b-8a1a-4e78-cdc0-1770a268309e"
      },
      "source": [
        "dict"
      ],
      "execution_count": 64,
      "outputs": [
        {
          "output_type": "execute_result",
          "data": {
            "text/plain": [
              "csk      53.0\n",
              "DC      261.0\n",
              "KXIP     23.0\n",
              "KKR      19.0\n",
              "MI      296.0\n",
              "RR       76.0\n",
              "RCB      69.0\n",
              "SRH      97.0\n",
              "dtype: float64"
            ]
          },
          "metadata": {
            "tags": []
          },
          "execution_count": 64
        }
      ]
    },
    {
      "cell_type": "code",
      "metadata": {
        "id": "k2H6xRznnxhw",
        "colab": {
          "base_uri": "https://localhost:8080/"
        },
        "outputId": "7d481a1a-85f1-4b00-8dcf-98efcc6407ed"
      },
      "source": [
        "#saving the values to an array to use the results to plot\n",
        "y= dict.values\n",
        "#z =np.delete(y, 0, 0)\n",
        "y.tolist()\n"
      ],
      "execution_count": 67,
      "outputs": [
        {
          "output_type": "execute_result",
          "data": {
            "text/plain": [
              "[53.0, 261.0, 23.0, 19.0, 296.0, 76.0, 69.0, 97.0]"
            ]
          },
          "metadata": {
            "tags": []
          },
          "execution_count": 67
        }
      ]
    },
    {
      "cell_type": "code",
      "metadata": {
        "id": "-E6F4RPQoH9b",
        "colab": {
          "base_uri": "https://localhost:8080/",
          "height": 336
        },
        "outputId": "4b83080d-d6ab-44fa-d07e-cf6a1d9fbd57"
      },
      "source": [
        "#plotting the results\n",
        "fig = plt.figure()\n",
        "ax = fig.add_axes([0,0,1,1])\n",
        "q = [\"CSK\" ,\"DC\",\"KXIP\", \"KKR\",\"MI\",\"RR\",\"RCB\",\"SRH\"]\n",
        "ax.bar(q,y)\n",
        "plt.show()"
      ],
      "execution_count": 68,
      "outputs": [
        {
          "output_type": "display_data",
          "data": {
            "image/png": "[encoded data removed]",
            "text/plain": [
              "<Figure size 432x288 with 1 Axes>"
            ]
          },
          "metadata": {
            "tags": [],
            "needs_background": "light"
          }
        }
      ]
    },
    {
      "cell_type": "code",
      "metadata": {
        "id": "RMETrzwHTFKW",
        "colab": {
          "base_uri": "https://localhost:8080/",
          "height": 578
        },
        "outputId": "da138531-65c9-47fb-df94-1138a160adb2"
      },
      "source": [
        "#Importing the packages\n",
        "import pandas as pd\n",
        "import matplotlib.pyplot as plt\n",
        "from wordcloud import WordCloud\n",
        "from nltk.corpus import stopwords\n",
        "from textblob import TextBlob\n",
        "import numpy as np\n",
        "from nltk.sentiment.vader import SentimentIntensityAnalyzer\n",
        "import nltk\n",
        "nltk.download('stopwords')\n",
        "\n",
        "\n",
        "#Building a word cloud:\n",
        "words = pd.Series(tweets[\"refine_text\"].tolist()).astype(str)\n",
        "\n",
        "stop_words = [\"https\", \"co\", \"rt\"]\n",
        "stop = set(stopwords.words('english'))\n",
        "\n",
        "for i in range(0, len(words)):\n",
        "    words[i] = \" \".join([x for x in words[i].lower().split() if x not in stop_words])\n",
        "    words[i] = \" \".join([x for x in words[i].lower().split() if x not in stop])\n",
        "\n",
        "stop = set(stopwords.words('english'))    \n",
        "cloud = WordCloud(width=500, height=400,\n",
        "                  stopwords=(stop), \n",
        "                  colormap='hsv').generate(''.join(words.astype(str)))\n",
        "plt.figure(figsize=(10, 10))\n",
        "plt.imshow(cloud)\n",
        "plt.axis('off')\n",
        "plt.show()"
      ],
      "execution_count": 69,
      "outputs": [
        {
          "output_type": "stream",
          "text": [
            "/usr/local/lib/python3.6/dist-packages/nltk/twitter/__init__.py:20: UserWarning:\n",
            "\n",
            "The twython library has not been installed. Some functionality from the twitter package will not be available.\n",
            "\n"
          ],
          "name": "stderr"
        },
        {
          "output_type": "stream",
          "text": [
            "[nltk_data] Downloading package stopwords to /root/nltk_data...\n",
            "[nltk_data]   Package stopwords is already up-to-date!\n"
          ],
          "name": "stdout"
        },
        {
          "output_type": "display_data",
          "data": {
            "image/png": "[encoded data removed]",
            "text/plain": [
              "<Figure size 720x720 with 1 Axes>"
            ]
          },
          "metadata": {
            "tags": [],
            "needs_background": "light"
          }
        }
      ]
    },
    {
      "cell_type": "code",
      "metadata": {
        "id": "x-t1-HYfaq3_"
      },
      "source": [
        "\n",
        "import numpy as np \n",
        "import pandas as pd \n",
        "import os\n",
        "import itertools\n",
        "\n",
        "#plots\n",
        "import matplotlib.pyplot as plt\n",
        "import plotly.express as px\n",
        "import plotly.graph_objects as go\n",
        "import plotly.figure_factory as ff\n",
        "from plotly.colors import n_colors\n",
        "from plotly.subplots import make_subplots\n",
        "\n",
        "from wordcloud import WordCloud, STOPWORDS, ImageColorGenerator\n",
        "from sklearn.feature_extraction.text import CountVectorizer\n",
        "\n",
        "from PIL import Image\n",
        "from nltk.corpus import stopwords\n",
        "stop=set(stopwords.words('english'))\n",
        "from nltk.util import ngrams\n",
        "\n",
        "\n",
        "\n",
        "def ngram_df(corpus,nrange,n=None):\n",
        "    vec = CountVectorizer(stop_words = 'english',ngram_range=nrange).fit(corpus)\n",
        "    bag_of_words = vec.transform(corpus)\n",
        "    sum_words = bag_of_words.sum(axis=0) \n",
        "    words_freq = [(word, sum_words[0, idx]) for word, idx in vec.vocabulary_.items()]\n",
        "    words_freq =sorted(words_freq, key = lambda x: x[1], reverse=True)\n",
        "    total_list=words_freq[:n]\n",
        "    df=pd.DataFrame(total_list,columns=['text','count'])\n",
        "    return df\n",
        "unigram_df=ngram_df(tweets['refine_text'],(1,1),20)\n",
        "bigram_df=ngram_df(tweets['refine_text'],(2,2),20)\n",
        "trigram_df=ngram_df(tweets['refine_text'],(3,3),20)"
      ],
      "execution_count": 71,
      "outputs": []
    },
    {
      "cell_type": "code",
      "metadata": {
        "id": "-dnRWhxwbhrM",
        "colab": {
          "base_uri": "https://localhost:8080/",
          "height": 1000
        },
        "outputId": "6f132afe-3e3c-408f-ff44-3cbe0dcd64fe"
      },
      "source": [
        "bigram_df=ngram_df(tweets['refine_text'],(2,2),20)\n",
        "trigram_df=ngram_df(tweets['refine_text'],(3,3),20)\n",
        "fig = make_subplots(\n",
        "    rows=3, cols=1,subplot_titles=(\"Unigram\",\"Bigram\",'Trigram'),\n",
        "    specs=[[{\"type\": \"scatter\"}],\n",
        "           [{\"type\": \"scatter\"}],\n",
        "           [{\"type\": \"scatter\"}]\n",
        "          ])\n",
        "\n",
        "fig.add_trace(go.Bar(\n",
        "    y=unigram_df['text'][::-1],\n",
        "    x=unigram_df['count'][::-1],\n",
        "    marker={'color': \"blue\"},  \n",
        "    text=unigram_df['count'],\n",
        "    textposition = \"outside\",\n",
        "    orientation=\"h\",\n",
        "    name=\"Months\",\n",
        "),row=1,col=1)\n",
        "\n",
        "fig.add_trace(go.Bar(\n",
        "    y=bigram_df['text'][::-1],\n",
        "    x=bigram_df['count'][::-1],\n",
        "    marker={'color': \"blue\"},  \n",
        "    text=bigram_df['count'],\n",
        "     name=\"Days\",\n",
        "    textposition = \"outside\",\n",
        "    orientation=\"h\",\n",
        "),row=2,col=1)\n",
        "\n",
        "fig.add_trace(go.Bar(\n",
        "    y=trigram_df['text'][::-1],\n",
        "    x=trigram_df['count'][::-1],\n",
        "    marker={'color': \"blue\"},  \n",
        "    text=trigram_df['count'],\n",
        "     name=\"Days\",\n",
        "    orientation=\"h\",\n",
        "    textposition = \"outside\",\n",
        "),row=3,col=1)\n",
        "\n",
        "fig.update_xaxes(showline=True, linewidth=2, linecolor='black', mirror=True)\n",
        "fig.update_yaxes(showline=True, linewidth=2, linecolor='black', mirror=True)\n",
        "fig.update_layout(title_text='Top N Grams',xaxis_title=\" \",yaxis_title=\" \",\n",
        "                  showlegend=False,title_x=0.5,height=1200,template=\"plotly_dark\")\n",
        "fig.show()"
      ],
      "execution_count": 74,
      "outputs": [
        {
          "output_type": "display_data",
          "data": {
            "text/html": [
              "<html>\n",
              "<head><meta charset=\"utf-8\" /></head>\n",
              "<body>\n",
              "    <div>\n",
              "            <script src=\"https://cdnjs.cloudflare.com/ajax/libs/mathjax/2.7.5/MathJax.js?config=TeX-AMS-MML_SVG\"></script><script type=\"text/javascript\">if (window.MathJax) {MathJax.Hub.Config({SVG: {font: \"STIX-Web\"}});}</script>\n",
              "                <script type=\"text/javascript\">window.PlotlyConfig = {MathJaxConfig: 'local'};</script>\n",
              "        <script src=\"https://cdn.plot.ly/plotly-latest.min.js\"></script>    \n",
              "            <div id=\"8fe1a58e-8e0b-4d74-b89f-1e83f6d6f72f\" class=\"plotly-graph-div\" style=\"height:1200px; width:100%;\"></div>\n",
              "            <script type=\"text/javascript\">\n",
              "                \n",
              "                    window.PLOTLYENV=window.PLOTLYENV || {};\n",
              "                    \n",
              "                if (document.getElementById(\"8fe1a58e-8e0b-4d74-b89f-1e83f6d6f72f\")) {\n",
              "                    Plotly.newPlot(\n",
              "                        '8fe1a58e-8e0b-4d74-b89f-1e83f6d6f72f',\n",
              "                        [{\"marker\": {\"color\": \"blue\"}, \"name\": \"Months\", \"orientation\": \"h\", \"text\": [165.0, 152.0, 141.0, 138.0, 111.0, 108.0, 98.0, 81.0, 78.0, 70.0, 69.0, 68.0, 66.0, 65.0, 60.0, 59.0, 59.0, 58.0, 57.0, 54.0], \"textposition\": \"outside\", \"type\": \"bar\", \"x\": [54, 57, 58, 59, 59, 60, 65, 66, 68, 69, 70, 78, 81, 98, 108, 111, 138, 141, 152, 165], \"xaxis\": \"x\", \"y\": [\"good\", \"best\", \"year\", \"run\", \"played\", \"player\", \"mumbai\", \"rcb\", \"season\", \"srh\", \"indian\", \"match\", \"capital\", \"mi\", \"time\", \"dc\", \"win\", \"delhi\", \"final\", \"team\"], \"yaxis\": \"y\"}, {\"marker\": {\"color\": \"blue\"}, \"name\": \"Days\", \"orientation\": \"h\", \"text\": [70.0, 43.0, 30.0, 20.0, 20.0, 16.0, 14.0, 13.0, 12.0, 11.0, 11.0, 11.0, 11.0, 10.0, 10.0, 10.0, 10.0, 9.0, 9.0, 9.0], \"textposition\": \"outside\", \"type\": \"bar\", \"x\": [9, 9, 9, 10, 10, 10, 10, 11, 11, 11, 11, 12, 13, 14, 16, 20, 20, 30, 43, 70], \"xaxis\": \"x2\", \"y\": [\"rcb kkr\", \"team csk\", \"stoinis hetmyer\", \"abdul samad\", \"purple cap\", \"kxip rr\", \"final csk\", \"csk mi\", \"final team\", \"indian win\", \"kl rahul\", \"sunrisers hyderabad\", \"shreyas iyer\", \"mi rcb\", \"mi dc\", \"rcb released\", \"marcus stoinis\", \"kane williamson\", \"mumbai indian\", \"delhi capital\"], \"yaxis\": \"y2\"}, {\"marker\": {\"color\": \"blue\"}, \"name\": \"Days\", \"orientation\": \"h\", \"text\": [11.0, 8.0, 8.0, 8.0, 8.0, 8.0, 8.0, 8.0, 8.0, 8.0, 8.0, 8.0, 8.0, 8.0, 7.0, 7.0, 7.0, 7.0, 6.0, 6.0], \"textposition\": \"outside\", \"type\": \"bar\", \"x\": [6, 6, 7, 7, 7, 7, 8, 8, 8, 8, 8, 8, 8, 8, 8, 8, 8, 8, 8, 11], \"xaxis\": \"x3\", \"y\": [\"final csk rcb\", \"watson final csk\", \"stoinis hetmyer final\", \"rcb released stoinis\", \"released watson final\", \"rcb released watson\", \"rr rps delhi\", \"kxip rr rps\", \"deccan kxip rr\", \"srh deccan kxip\", \"kkr srh deccan\", \"rcb kkr srh\", \"mi rcb kkr\", \"csk mi rcb\", \"team csk mi\", \"final team csk\", \"indian delhi capital\", \"mumbai indian delhi\", \"released stoinis hetmyer\", \"mumbai indian win\"], \"yaxis\": \"y3\"}],\n",
              "                        {\"annotations\": [{\"font\": {\"size\": 16}, \"showarrow\": false, \"text\": \"Unigram\", \"x\": 0.5, \"xanchor\": \"center\", \"xref\": \"paper\", \"y\": 1.0, \"yanchor\": \"bottom\", \"yref\": \"paper\"}, {\"font\": {\"size\": 16}, \"showarrow\": false, \"text\": \"Bigram\", \"x\": 0.5, \"xanchor\": \"center\", \"xref\": \"paper\", \"y\": 0.6111111111111112, \"yanchor\": \"bottom\", \"yref\": \"paper\"}, {\"font\": {\"size\": 16}, \"showarrow\": false, \"text\": \"Trigram\", \"x\": 0.5, \"xanchor\": \"center\", \"xref\": \"paper\", \"y\": 0.22222222222222224, \"yanchor\": \"bottom\", \"yref\": \"paper\"}], \"height\": 1200, \"showlegend\": false, \"template\": {\"data\": {\"bar\": [{\"error_x\": {\"color\": \"#f2f5fa\"}, \"error_y\": {\"color\": \"#f2f5fa\"}, \"marker\": {\"line\": {\"color\": \"rgb(17,17,17)\", \"width\": 0.5}}, \"type\": \"bar\"}], \"barpolar\": [{\"marker\": {\"line\": {\"color\": \"rgb(17,17,17)\", \"width\": 0.5}}, \"type\": \"barpolar\"}], \"carpet\": [{\"aaxis\": {\"endlinecolor\": \"#A2B1C6\", \"gridcolor\": \"#506784\", \"linecolor\": \"#506784\", \"minorgridcolor\": \"#506784\", \"startlinecolor\": \"#A2B1C6\"}, \"baxis\": {\"endlinecolor\": \"#A2B1C6\", \"gridcolor\": \"#506784\", \"linecolor\": \"#506784\", \"minorgridcolor\": \"#506784\", \"startlinecolor\": \"#A2B1C6\"}, \"type\": \"carpet\"}], \"choropleth\": [{\"colorbar\": {\"outlinewidth\": 0, \"ticks\": \"\"}, \"type\": \"choropleth\"}], \"contour\": [{\"colorbar\": {\"outlinewidth\": 0, \"ticks\": \"\"}, \"colorscale\": [[0.0, \"#0d0887\"], [0.1111111111111111, \"#46039f\"], [0.2222222222222222, \"#7201a8\"], [0.3333333333333333, \"#9c179e\"], [0.4444444444444444, \"#bd3786\"], [0.5555555555555556, \"#d8576b\"], [0.6666666666666666, \"#ed7953\"], [0.7777777777777778, \"#fb9f3a\"], [0.8888888888888888, \"#fdca26\"], [1.0, \"#f0f921\"]], \"type\": \"contour\"}], \"contourcarpet\": [{\"colorbar\": {\"outlinewidth\": 0, \"ticks\": \"\"}, \"type\": \"contourcarpet\"}], \"heatmap\": [{\"colorbar\": {\"outlinewidth\": 0, \"ticks\": \"\"}, \"colorscale\": [[0.0, \"#0d0887\"], [0.1111111111111111, \"#46039f\"], [0.2222222222222222, \"#7201a8\"], [0.3333333333333333, \"#9c179e\"], [0.4444444444444444, \"#bd3786\"], [0.5555555555555556, \"#d8576b\"], [0.6666666666666666, \"#ed7953\"], [0.7777777777777778, \"#fb9f3a\"], [0.8888888888888888, \"#fdca26\"], [1.0, \"#f0f921\"]], \"type\": \"heatmap\"}], \"heatmapgl\": [{\"colorbar\": {\"outlinewidth\": 0, \"ticks\": \"\"}, \"colorscale\": [[0.0, \"#0d0887\"], [0.1111111111111111, \"#46039f\"], [0.2222222222222222, \"#7201a8\"], [0.3333333333333333, \"#9c179e\"], [0.4444444444444444, \"#bd3786\"], [0.5555555555555556, \"#d8576b\"], [0.6666666666666666, \"#ed7953\"], [0.7777777777777778, \"#fb9f3a\"], [0.8888888888888888, \"#fdca26\"], [1.0, \"#f0f921\"]], \"type\": \"heatmapgl\"}], \"histogram\": [{\"marker\": {\"colorbar\": {\"outlinewidth\": 0, \"ticks\": \"\"}}, \"type\": \"histogram\"}], \"histogram2d\": [{\"colorbar\": {\"outlinewidth\": 0, \"ticks\": \"\"}, \"colorscale\": [[0.0, \"#0d0887\"], [0.1111111111111111, \"#46039f\"], [0.2222222222222222, \"#7201a8\"], [0.3333333333333333, \"#9c179e\"], [0.4444444444444444, \"#bd3786\"], [0.5555555555555556, \"#d8576b\"], [0.6666666666666666, \"#ed7953\"], [0.7777777777777778, \"#fb9f3a\"], [0.8888888888888888, \"#fdca26\"], [1.0, \"#f0f921\"]], \"type\": \"histogram2d\"}], \"histogram2dcontour\": [{\"colorbar\": {\"outlinewidth\": 0, \"ticks\": \"\"}, \"colorscale\": [[0.0, \"#0d0887\"], [0.1111111111111111, \"#46039f\"], [0.2222222222222222, \"#7201a8\"], [0.3333333333333333, \"#9c179e\"], [0.4444444444444444, \"#bd3786\"], [0.5555555555555556, \"#d8576b\"], [0.6666666666666666, \"#ed7953\"], [0.7777777777777778, \"#fb9f3a\"], [0.8888888888888888, \"#fdca26\"], [1.0, \"#f0f921\"]], \"type\": \"histogram2dcontour\"}], \"mesh3d\": [{\"colorbar\": {\"outlinewidth\": 0, \"ticks\": \"\"}, \"type\": \"mesh3d\"}], \"parcoords\": [{\"line\": {\"colorbar\": {\"outlinewidth\": 0, \"ticks\": \"\"}}, \"type\": \"parcoords\"}], \"pie\": [{\"automargin\": true, \"type\": \"pie\"}], \"scatter\": [{\"marker\": {\"line\": {\"color\": \"#283442\"}}, \"type\": \"scatter\"}], \"scatter3d\": [{\"line\": {\"colorbar\": {\"outlinewidth\": 0, \"ticks\": \"\"}}, \"marker\": {\"colorbar\": {\"outlinewidth\": 0, \"ticks\": \"\"}}, \"type\": \"scatter3d\"}], \"scattercarpet\": [{\"marker\": {\"colorbar\": {\"outlinewidth\": 0, \"ticks\": \"\"}}, \"type\": \"scattercarpet\"}], \"scattergeo\": [{\"marker\": {\"colorbar\": {\"outlinewidth\": 0, \"ticks\": \"\"}}, \"type\": \"scattergeo\"}], \"scattergl\": [{\"marker\": {\"line\": {\"color\": \"#283442\"}}, \"type\": \"scattergl\"}], \"scattermapbox\": [{\"marker\": {\"colorbar\": {\"outlinewidth\": 0, \"ticks\": \"\"}}, \"type\": \"scattermapbox\"}], \"scatterpolar\": [{\"marker\": {\"colorbar\": {\"outlinewidth\": 0, \"ticks\": \"\"}}, \"type\": \"scatterpolar\"}], \"scatterpolargl\": [{\"marker\": {\"colorbar\": {\"outlinewidth\": 0, \"ticks\": \"\"}}, \"type\": \"scatterpolargl\"}], \"scatterternary\": [{\"marker\": {\"colorbar\": {\"outlinewidth\": 0, \"ticks\": \"\"}}, \"type\": \"scatterternary\"}], \"surface\": [{\"colorbar\": {\"outlinewidth\": 0, \"ticks\": \"\"}, \"colorscale\": [[0.0, \"#0d0887\"], [0.1111111111111111, \"#46039f\"], [0.2222222222222222, \"#7201a8\"], [0.3333333333333333, \"#9c179e\"], [0.4444444444444444, \"#bd3786\"], [0.5555555555555556, \"#d8576b\"], [0.6666666666666666, \"#ed7953\"], [0.7777777777777778, \"#fb9f3a\"], [0.8888888888888888, \"#fdca26\"], [1.0, \"#f0f921\"]], \"type\": \"surface\"}], \"table\": [{\"cells\": {\"fill\": {\"color\": \"#506784\"}, \"line\": {\"color\": \"rgb(17,17,17)\"}}, \"header\": {\"fill\": {\"color\": \"#2a3f5f\"}, \"line\": {\"color\": \"rgb(17,17,17)\"}}, \"type\": \"table\"}]}, \"layout\": {\"annotationdefaults\": {\"arrowcolor\": \"#f2f5fa\", \"arrowhead\": 0, \"arrowwidth\": 1}, \"coloraxis\": {\"colorbar\": {\"outlinewidth\": 0, \"ticks\": \"\"}}, \"colorscale\": {\"diverging\": [[0, \"#8e0152\"], [0.1, \"#c51b7d\"], [0.2, \"#de77ae\"], [0.3, \"#f1b6da\"], [0.4, \"#fde0ef\"], [0.5, \"#f7f7f7\"], [0.6, \"#e6f5d0\"], [0.7, \"#b8e186\"], [0.8, \"#7fbc41\"], [0.9, \"#4d9221\"], [1, \"#276419\"]], \"sequential\": [[0.0, \"#0d0887\"], [0.1111111111111111, \"#46039f\"], [0.2222222222222222, \"#7201a8\"], [0.3333333333333333, \"#9c179e\"], [0.4444444444444444, \"#bd3786\"], [0.5555555555555556, \"#d8576b\"], [0.6666666666666666, \"#ed7953\"], [0.7777777777777778, \"#fb9f3a\"], [0.8888888888888888, \"#fdca26\"], [1.0, \"#f0f921\"]], \"sequentialminus\": [[0.0, \"#0d0887\"], [0.1111111111111111, \"#46039f\"], [0.2222222222222222, \"#7201a8\"], [0.3333333333333333, \"#9c179e\"], [0.4444444444444444, \"#bd3786\"], [0.5555555555555556, \"#d8576b\"], [0.6666666666666666, \"#ed7953\"], [0.7777777777777778, \"#fb9f3a\"], [0.8888888888888888, \"#fdca26\"], [1.0, \"#f0f921\"]]}, \"colorway\": [\"#636efa\", \"#EF553B\", \"#00cc96\", \"#ab63fa\", \"#FFA15A\", \"#19d3f3\", \"#FF6692\", \"#B6E880\", \"#FF97FF\", \"#FECB52\"], \"font\": {\"color\": \"#f2f5fa\"}, \"geo\": {\"bgcolor\": \"rgb(17,17,17)\", \"lakecolor\": \"rgb(17,17,17)\", \"landcolor\": \"rgb(17,17,17)\", \"showlakes\": true, \"showland\": true, \"subunitcolor\": \"#506784\"}, \"hoverlabel\": {\"align\": \"left\"}, \"hovermode\": \"closest\", \"mapbox\": {\"style\": \"dark\"}, \"paper_bgcolor\": \"rgb(17,17,17)\", \"plot_bgcolor\": \"rgb(17,17,17)\", \"polar\": {\"angularaxis\": {\"gridcolor\": \"#506784\", \"linecolor\": \"#506784\", \"ticks\": \"\"}, \"bgcolor\": \"rgb(17,17,17)\", \"radialaxis\": {\"gridcolor\": \"#506784\", \"linecolor\": \"#506784\", \"ticks\": \"\"}}, \"scene\": {\"xaxis\": {\"backgroundcolor\": \"rgb(17,17,17)\", \"gridcolor\": \"#506784\", \"gridwidth\": 2, \"linecolor\": \"#506784\", \"showbackground\": true, \"ticks\": \"\", \"zerolinecolor\": \"#C8D4E3\"}, \"yaxis\": {\"backgroundcolor\": \"rgb(17,17,17)\", \"gridcolor\": \"#506784\", \"gridwidth\": 2, \"linecolor\": \"#506784\", \"showbackground\": true, \"ticks\": \"\", \"zerolinecolor\": \"#C8D4E3\"}, \"zaxis\": {\"backgroundcolor\": \"rgb(17,17,17)\", \"gridcolor\": \"#506784\", \"gridwidth\": 2, \"linecolor\": \"#506784\", \"showbackground\": true, \"ticks\": \"\", \"zerolinecolor\": \"#C8D4E3\"}}, \"shapedefaults\": {\"line\": {\"color\": \"#f2f5fa\"}}, \"sliderdefaults\": {\"bgcolor\": \"#C8D4E3\", \"bordercolor\": \"rgb(17,17,17)\", \"borderwidth\": 1, \"tickwidth\": 0}, \"ternary\": {\"aaxis\": {\"gridcolor\": \"#506784\", \"linecolor\": \"#506784\", \"ticks\": \"\"}, \"baxis\": {\"gridcolor\": \"#506784\", \"linecolor\": \"#506784\", \"ticks\": \"\"}, \"bgcolor\": \"rgb(17,17,17)\", \"caxis\": {\"gridcolor\": \"#506784\", \"linecolor\": \"#506784\", \"ticks\": \"\"}}, \"title\": {\"x\": 0.05}, \"updatemenudefaults\": {\"bgcolor\": \"#506784\", \"borderwidth\": 0}, \"xaxis\": {\"automargin\": true, \"gridcolor\": \"#283442\", \"linecolor\": \"#506784\", \"ticks\": \"\", \"title\": {\"standoff\": 15}, \"zerolinecolor\": \"#283442\", \"zerolinewidth\": 2}, \"yaxis\": {\"automargin\": true, \"gridcolor\": \"#283442\", \"linecolor\": \"#506784\", \"ticks\": \"\", \"title\": {\"standoff\": 15}, \"zerolinecolor\": \"#283442\", \"zerolinewidth\": 2}}}, \"title\": {\"text\": \"Top N Grams\", \"x\": 0.5}, \"xaxis\": {\"anchor\": \"y\", \"domain\": [0.0, 1.0], \"linecolor\": \"black\", \"linewidth\": 2, \"mirror\": true, \"showline\": true, \"title\": {\"text\": \" \"}}, \"xaxis2\": {\"anchor\": \"y2\", \"domain\": [0.0, 1.0], \"linecolor\": \"black\", \"linewidth\": 2, \"mirror\": true, \"showline\": true}, \"xaxis3\": {\"anchor\": \"y3\", \"domain\": [0.0, 1.0], \"linecolor\": \"black\", \"linewidth\": 2, \"mirror\": true, \"showline\": true}, \"yaxis\": {\"anchor\": \"x\", \"domain\": [0.7777777777777778, 1.0], \"linecolor\": \"black\", \"linewidth\": 2, \"mirror\": true, \"showline\": true, \"title\": {\"text\": \" \"}}, \"yaxis2\": {\"anchor\": \"x2\", \"domain\": [0.3888888888888889, 0.6111111111111112], \"linecolor\": \"black\", \"linewidth\": 2, \"mirror\": true, \"showline\": true}, \"yaxis3\": {\"anchor\": \"x3\", \"domain\": [0.0, 0.22222222222222224], \"linecolor\": \"black\", \"linewidth\": 2, \"mirror\": true, \"showline\": true}},\n",
              "                        {\"responsive\": true}\n",
              "                    ).then(function(){\n",
              "                            \n",
              "var gd = document.getElementById('8fe1a58e-8e0b-4d74-b89f-1e83f6d6f72f');\n",
              "var x = new MutationObserver(function (mutations, observer) {{\n",
              "        var display = window.getComputedStyle(gd).display;\n",
              "        if (!display || display === 'none') {{\n",
              "            console.log([gd, 'removed!']);\n",
              "            Plotly.purge(gd);\n",
              "            observer.disconnect();\n",
              "        }}\n",
              "}});\n",
              "\n",
              "// Listen for the removal of the full notebook cells\n",
              "var notebookContainer = gd.closest('#notebook-container');\n",
              "if (notebookContainer) {{\n",
              "    x.observe(notebookContainer, {childList: true});\n",
              "}}\n",
              "\n",
              "// Listen for the clearing of the current output cell\n",
              "var outputEl = gd.closest('.output');\n",
              "if (outputEl) {{\n",
              "    x.observe(outputEl, {childList: true});\n",
              "}}\n",
              "\n",
              "                        })\n",
              "                };\n",
              "                \n",
              "            </script>\n",
              "        </div>\n",
              "</body>\n",
              "</html>"
            ]
          },
          "metadata": {
            "tags": []
          }
        }
      ]
    },
    {
      "cell_type": "code",
      "metadata": {
        "id": "pOyAG35og3Pa",
        "colab": {
          "base_uri": "https://localhost:8080/",
          "height": 568
        },
        "outputId": "db928355-50b3-474b-f823-316bbcc41fca"
      },
      "source": [
        "#sentimmental Analysis\n",
        "from nltk.sentiment.vader import SentimentIntensityAnalyzer\n",
        "from nltk.sentiment.util import *\n",
        "\n",
        "from nltk import tokenize\n",
        "import nltk\n",
        "nltk.download('vader_lexicon')\n",
        "\n",
        "sid = SentimentIntensityAnalyzer()\n",
        "\n",
        "tweets['sentiment_compound_polarity']=tweets.refine_text.apply(lambda x:sid.polarity_scores(x)['compound'])\n",
        "tweets['sentiment_neutral']=tweets.refine_text.apply(lambda x:sid.polarity_scores(x)['neu'])\n",
        "tweets['sentiment_negative']=tweets.refine_text.apply(lambda x:sid.polarity_scores(x)['neg'])\n",
        "tweets['sentiment_pos']=tweets.refine_text.apply(lambda x:sid.polarity_scores(x)['pos'])\n",
        "tweets['sentiment_type']=''\n",
        "tweets.loc[tweets.sentiment_compound_polarity>0,'sentiment_type']='POSITIVE'\n",
        "tweets.loc[tweets.sentiment_compound_polarity==0,'sentiment_type']='NEUTRAL'\n",
        "tweets.loc[tweets.sentiment_compound_polarity<0,'sentiment_type']='NEGATIVE'\n",
        "tweets.head()"
      ],
      "execution_count": 75,
      "outputs": [
        {
          "output_type": "stream",
          "text": [
            "[nltk_data] Downloading package vader_lexicon to /root/nltk_data...\n",
            "[nltk_data]   Package vader_lexicon is already up-to-date!\n"
          ],
          "name": "stdout"
        },
        {
          "output_type": "execute_result",
          "data": {
            "text/html": [
              "<div>\n",
              "<style scoped>\n",
              "    .dataframe tbody tr th:only-of-type {\n",
              "        vertical-align: middle;\n",
              "    }\n",
              "\n",
              "    .dataframe tbody tr th {\n",
              "        vertical-align: top;\n",
              "    }\n",
              "\n",
              "    .dataframe thead th {\n",
              "        text-align: right;\n",
              "    }\n",
              "</style>\n",
              "<table border=\"1\" class=\"dataframe\">\n",
              "  <thead>\n",
              "    <tr style=\"text-align: right;\">\n",
              "      <th></th>\n",
              "      <th>created</th>\n",
              "      <th>user_location</th>\n",
              "      <th>tweet_text</th>\n",
              "      <th>username</th>\n",
              "      <th>all_hashtags</th>\n",
              "      <th>refine_text</th>\n",
              "      <th>text_length</th>\n",
              "      <th>sentiment_compound_polarity</th>\n",
              "      <th>sentiment_neutral</th>\n",
              "      <th>sentiment_negative</th>\n",
              "      <th>sentiment_pos</th>\n",
              "      <th>sentiment_type</th>\n",
              "    </tr>\n",
              "  </thead>\n",
              "  <tbody>\n",
              "    <tr>\n",
              "      <th>0</th>\n",
              "      <td>11/9/2020 4:49</td>\n",
              "      <td>Gotham City</td>\n",
              "      <td>b'Look at #SRH youngster Priyam Garg after Kan...</td>\n",
              "      <td>b'SteadyTheShip'</td>\n",
              "      <td>['SRH', 'SRHvDC', 'DCvSRH', 'IPL2020']</td>\n",
              "      <td>look youngster priyam garg kane williamson mas...</td>\n",
              "      <td>40</td>\n",
              "      <td>0.6969</td>\n",
              "      <td>0.720</td>\n",
              "      <td>0.062</td>\n",
              "      <td>0.218</td>\n",
              "      <td>POSITIVE</td>\n",
              "    </tr>\n",
              "    <tr>\n",
              "      <th>1</th>\n",
              "      <td>11/9/2020 4:49</td>\n",
              "      <td>Bengaluru South, India</td>\n",
              "      <td>b'This is Mr.360\\xc2\\xb0 @ABdeVilliers17 . Mos...</td>\n",
              "      <td>b'imsapien'</td>\n",
              "      <td>['Cricket', 'IPL2020', 'Eliminater', 'IPLQuali...</td>\n",
              "      <td>mrxcxb dangerous animal cricket</td>\n",
              "      <td>9</td>\n",
              "      <td>-0.4767</td>\n",
              "      <td>0.492</td>\n",
              "      <td>0.508</td>\n",
              "      <td>0.000</td>\n",
              "      <td>NEGATIVE</td>\n",
              "    </tr>\n",
              "    <tr>\n",
              "      <th>2</th>\n",
              "      <td>11/9/2020 4:48</td>\n",
              "      <td>Chennai, India</td>\n",
              "      <td>b\"Great things happen to those who don't stop ...</td>\n",
              "      <td>b'CricketGirl_45'</td>\n",
              "      <td>['RohitSharma', 'MumbaiIndians', 'IPL2020', 'I...</td>\n",
              "      <td>great thing happen dont stop believing trying ...</td>\n",
              "      <td>21</td>\n",
              "      <td>0.9134</td>\n",
              "      <td>0.356</td>\n",
              "      <td>0.000</td>\n",
              "      <td>0.644</td>\n",
              "      <td>POSITIVE</td>\n",
              "    </tr>\n",
              "    <tr>\n",
              "      <th>3</th>\n",
              "      <td>11/9/2020 4:48</td>\n",
              "      <td>Chennai, India</td>\n",
              "      <td>b'T Natarajan made a mark with his yorkers in ...</td>\n",
              "      <td>b'ESPNcricinfo'</td>\n",
              "      <td>['IPL2020']</td>\n",
              "      <td>natarajan made mark yorkers xfxfxxc see play t...</td>\n",
              "      <td>19</td>\n",
              "      <td>0.3400</td>\n",
              "      <td>0.789</td>\n",
              "      <td>0.000</td>\n",
              "      <td>0.211</td>\n",
              "      <td>POSITIVE</td>\n",
              "    </tr>\n",
              "    <tr>\n",
              "      <th>4</th>\n",
              "      <td>11/9/2020 4:47</td>\n",
              "      <td>Kerala, India</td>\n",
              "      <td>b'#IPL2020 Final: Marcus Stoinis warning to @m...</td>\n",
              "      <td>b'InsideSportIND'</td>\n",
              "      <td>['IPL2020', 'iplseason13', 'IPLfinal', 'Mumbai...</td>\n",
              "      <td>marcus stoinis warning check</td>\n",
              "      <td>7</td>\n",
              "      <td>-0.3400</td>\n",
              "      <td>0.556</td>\n",
              "      <td>0.444</td>\n",
              "      <td>0.000</td>\n",
              "      <td>NEGATIVE</td>\n",
              "    </tr>\n",
              "  </tbody>\n",
              "</table>\n",
              "</div>"
            ],
            "text/plain": [
              "          created           user_location  ... sentiment_pos sentiment_type\n",
              "0  11/9/2020 4:49            Gotham City   ...         0.218       POSITIVE\n",
              "1  11/9/2020 4:49  Bengaluru South, India  ...         0.000       NEGATIVE\n",
              "2  11/9/2020 4:48         Chennai, India   ...         0.644       POSITIVE\n",
              "3  11/9/2020 4:48          Chennai, India  ...         0.211       POSITIVE\n",
              "4  11/9/2020 4:47           Kerala, India  ...         0.000       NEGATIVE\n",
              "\n",
              "[5 rows x 12 columns]"
            ]
          },
          "metadata": {
            "tags": []
          },
          "execution_count": 75
        }
      ]
    },
    {
      "cell_type": "code",
      "metadata": {
        "id": "h1XciltLhDuD",
        "colab": {
          "base_uri": "https://localhost:8080/",
          "height": 338
        },
        "outputId": "1766aa12-408c-4ec4-b680-eaf309b748f4"
      },
      "source": [
        "tweets.sentiment_type.value_counts().plot(kind='bar',title=\"sentiment analysis\")"
      ],
      "execution_count": 76,
      "outputs": [
        {
          "output_type": "execute_result",
          "data": {
            "text/plain": [
              "<matplotlib.axes._subplots.AxesSubplot at 0x7f79638250b8>"
            ]
          },
          "metadata": {
            "tags": []
          },
          "execution_count": 76
        },
        {
          "output_type": "display_data",
          "data": {
            "image/png": "[encoded data removed]",
            "text/plain": [
              "<Figure size 432x288 with 1 Axes>"
            ]
          },
          "metadata": {
            "tags": [],
            "needs_background": "light"
          }
        }
      ]
    },
    {
      "cell_type": "code",
      "metadata": {
        "id": "Jx9SMTFchDwi",
        "colab": {
          "base_uri": "https://localhost:8080/",
          "height": 300
        },
        "outputId": "a2a3b481-6032-42c7-d637-d592558275cb"
      },
      "source": [
        "#Polarity of tweets hour wise\n",
        "import pandas as pd\n",
        "import matplotlib.pyplot as plt\n",
        "\n",
        "tweets['hour'] = pd.DatetimeIndex(tweets['created']).hour\n",
        "tweets['date'] = pd.DatetimeIndex(tweets['created']).date\n",
        "tweets['minute'] = pd.DatetimeIndex(tweets['created']).minute\n",
        "df=(tweets.groupby('hour',as_index=False).sentiment_compound_polarity.mean())\n",
        "  \n",
        "plt.plot(df['hour'], df['sentiment_compound_polarity'], color='red', marker='o')\n",
        "plt.title('sentiment_compound_polarity Vs hour', fontsize=14)\n",
        "plt.xlabel('hour', fontsize=14)\n",
        "plt.ylabel('sentiment_compound_polarity', fontsize=14)\n",
        "plt.grid(True)\n",
        "plt.show()"
      ],
      "execution_count": 77,
      "outputs": [
        {
          "output_type": "display_data",
          "data": {
            "image/png": "[encoded data removed]",
            "text/plain": [
              "<Figure size 432x288 with 1 Axes>"
            ]
          },
          "metadata": {
            "tags": [],
            "needs_background": "light"
          }
        }
      ]
    },
    {
      "cell_type": "code",
      "metadata": {
        "id": "q2RbwxD5fOXz",
        "colab": {
          "base_uri": "https://localhost:8080/"
        },
        "outputId": "eaa98580-279d-494e-f0a5-3391af6eade7"
      },
      "source": [
        "pip install pyLDAvis"
      ],
      "execution_count": 78,
      "outputs": [
        {
          "output_type": "stream",
          "text": [
            "Collecting pyLDAvis\n",
            "\u001b[?25l  Downloading https://files.pythonhosted.org/packages/a5/3a/af82e070a8a96e13217c8f362f9a73e82d61ac8fff3a2561946a97f96266/pyLDAvis-2.1.2.tar.gz (1.6MB)\n",
            "\u001b[K     |████████████████████████████████| 1.6MB 5.9MB/s \n",
            "\u001b[?25hRequirement already satisfied: wheel>=0.23.0 in /usr/local/lib/python3.6/dist-packages (from pyLDAvis) (0.35.1)\n",
            "Requirement already satisfied: numpy>=1.9.2 in /usr/local/lib/python3.6/dist-packages (from pyLDAvis) (1.18.5)\n",
            "Requirement already satisfied: scipy>=0.18.0 in /usr/local/lib/python3.6/dist-packages (from pyLDAvis) (1.4.1)\n",
            "Requirement already satisfied: pandas>=0.17.0 in /usr/local/lib/python3.6/dist-packages (from pyLDAvis) (1.1.4)\n",
            "Requirement already satisfied: joblib>=0.8.4 in /usr/local/lib/python3.6/dist-packages (from pyLDAvis) (0.17.0)\n",
            "Requirement already satisfied: jinja2>=2.7.2 in /usr/local/lib/python3.6/dist-packages (from pyLDAvis) (2.11.2)\n",
            "Requirement already satisfied: numexpr in /usr/local/lib/python3.6/dist-packages (from pyLDAvis) (2.7.1)\n",
            "Requirement already satisfied: pytest in /usr/local/lib/python3.6/dist-packages (from pyLDAvis) (3.6.4)\n",
            "Requirement already satisfied: future in /usr/local/lib/python3.6/dist-packages (from pyLDAvis) (0.16.0)\n",
            "Collecting funcy\n",
            "  Downloading https://files.pythonhosted.org/packages/66/89/479de0afbbfb98d1c4b887936808764627300208bb771fcd823403645a36/funcy-1.15-py2.py3-none-any.whl\n",
            "Requirement already satisfied: pytz>=2017.2 in /usr/local/lib/python3.6/dist-packages (from pandas>=0.17.0->pyLDAvis) (2018.9)\n",
            "Requirement already satisfied: python-dateutil>=2.7.3 in /usr/local/lib/python3.6/dist-packages (from pandas>=0.17.0->pyLDAvis) (2.8.1)\n",
            "Requirement already satisfied: MarkupSafe>=0.23 in /usr/local/lib/python3.6/dist-packages (from jinja2>=2.7.2->pyLDAvis) (1.1.1)\n",
            "Requirement already satisfied: attrs>=17.4.0 in /usr/local/lib/python3.6/dist-packages (from pytest->pyLDAvis) (20.3.0)\n",
            "Requirement already satisfied: more-itertools>=4.0.0 in /usr/local/lib/python3.6/dist-packages (from pytest->pyLDAvis) (8.6.0)\n",
            "Requirement already satisfied: pluggy<0.8,>=0.5 in /usr/local/lib/python3.6/dist-packages (from pytest->pyLDAvis) (0.7.1)\n",
            "Requirement already satisfied: py>=1.5.0 in /usr/local/lib/python3.6/dist-packages (from pytest->pyLDAvis) (1.9.0)\n",
            "Requirement already satisfied: atomicwrites>=1.0 in /usr/local/lib/python3.6/dist-packages (from pytest->pyLDAvis) (1.4.0)\n",
            "Requirement already satisfied: setuptools in /usr/local/lib/python3.6/dist-packages (from pytest->pyLDAvis) (50.3.2)\n",
            "Requirement already satisfied: six>=1.10.0 in /usr/local/lib/python3.6/dist-packages (from pytest->pyLDAvis) (1.15.0)\n",
            "Building wheels for collected packages: pyLDAvis\n",
            "  Building wheel for pyLDAvis (setup.py) ... \u001b[?25l\u001b[?25hdone\n",
            "  Created wheel for pyLDAvis: filename=pyLDAvis-2.1.2-py2.py3-none-any.whl size=97712 sha256=727961eb55b8a556979c533c0b8644da164271ff3f4cb8f2ce9fb788136bcb3e\n",
            "  Stored in directory: /root/.cache/pip/wheels/98/71/24/513a99e58bb6b8465bae4d2d5e9dba8f0bef8179e3051ac414\n",
            "Successfully built pyLDAvis\n",
            "Installing collected packages: funcy, pyLDAvis\n",
            "Successfully installed funcy-1.15 pyLDAvis-2.1.2\n"
          ],
          "name": "stdout"
        }
      ]
    },
    {
      "cell_type": "code",
      "metadata": {
        "id": "hkasnx0OFger"
      },
      "source": [
        "import gensim #the library for Topic modelling\n",
        "from gensim.models.ldamulticore import LdaMulticore\n",
        "from gensim import corpora, models\n",
        "import pyLDAvis.gensim #LDA visualization library\n",
        "\n",
        "from nltk.corpus import stopwords\n",
        "import string\n",
        "from nltk.stem.wordnet import WordNetLemmatizer\n",
        "\n",
        "import warnings\n",
        "warnings.simplefilter('ignore')\n",
        "from itertools import chain"
      ],
      "execution_count": 82,
      "outputs": []
    },
    {
      "cell_type": "code",
      "metadata": {
        "id": "6vwRMZoPFlJc"
      },
      "source": [
        "\n",
        "#spliting the data\n",
        "stop = set(stopwords.words('english'))\n",
        "exclude = set(string.punctuation)\n",
        "lemma = WordNetLemmatizer()\n",
        "\n",
        "def split(text):\n",
        "    stop_free = ' '.join([word for word in str(text).lower().split() if word not in stop])\n",
        "    punc_free = ''.join(ch for ch in stop_free if ch not in exclude)\n",
        "    normalized = ' '.join([lemma.lemmatize(word) for word in punc_free.split()])\n",
        "    return normalized.split()"
      ],
      "execution_count": 85,
      "outputs": []
    },
    {
      "cell_type": "code",
      "metadata": {
        "id": "bbKKWsgaFoSe"
      },
      "source": [
        "data['text_split']=data['refine_text'].apply(split)"
      ],
      "execution_count": 86,
      "outputs": []
    },
    {
      "cell_type": "code",
      "metadata": {
        "colab": {
          "base_uri": "https://localhost:8080/"
        },
        "id": "tkAagArJFpu_",
        "outputId": "ebf5a380-6247-46e9-bdb3-51cdd440eadc"
      },
      "source": [
        "#create dictionary\n",
        "dictionary = corpora.Dictionary(data['text_split'])\n",
        "#Total number of non-zeroes in the BOW matrix (sum of the number of unique words per document over the entire corpus).\n",
        "print(dictionary.num_nnz)"
      ],
      "execution_count": 87,
      "outputs": [
        {
          "output_type": "stream",
          "text": [
            "9397\n"
          ],
          "name": "stdout"
        }
      ]
    },
    {
      "cell_type": "code",
      "metadata": {
        "colab": {
          "base_uri": "https://localhost:8080/"
        },
        "id": "rCok9h_XFwT0",
        "outputId": "a50bf955-bfd2-4a61-bc03-f27e0e798ff8"
      },
      "source": [
        "\n",
        "#create document term matrix\n",
        "doc_term_matrix = [dictionary.doc2bow(doc) for doc in data['text_split'] ]\n",
        "print(len(doc_term_matrix))"
      ],
      "execution_count": 88,
      "outputs": [
        {
          "output_type": "stream",
          "text": [
            "1000\n"
          ],
          "name": "stdout"
        }
      ]
    },
    {
      "cell_type": "code",
      "metadata": {
        "id": "LxFVgHJwFyvr"
      },
      "source": [
        "lda = gensim.models.ldamodel.LdaModel"
      ],
      "execution_count": 89,
      "outputs": []
    },
    {
      "cell_type": "code",
      "metadata": {
        "colab": {
          "base_uri": "https://localhost:8080/"
        },
        "id": "vgElcj65F2J_",
        "outputId": "206d63df-2c1a-428c-c838-73b0e20bbfa3"
      },
      "source": [
        "num_topics=10\n",
        "%time ldamodel = lda(doc_term_matrix,num_topics=num_topics,id2word=dictionary,passes=50,minimum_probability=0)"
      ],
      "execution_count": 90,
      "outputs": [
        {
          "output_type": "stream",
          "text": [
            "CPU times: user 22.6 s, sys: 4.38 ms, total: 22.6 s\n",
            "Wall time: 22.7 s\n"
          ],
          "name": "stdout"
        }
      ]
    },
    {
      "cell_type": "code",
      "metadata": {
        "colab": {
          "base_uri": "https://localhost:8080/"
        },
        "id": "GfXHXDkdF9R0",
        "outputId": "7be31358-136a-4df6-d835-6295110bf3c7"
      },
      "source": [
        "ldamodel.print_topics(num_topics=num_topics)"
      ],
      "execution_count": 91,
      "outputs": [
        {
          "output_type": "execute_result",
          "data": {
            "text/plain": [
              "[(0,\n",
              "  '0.033*\"time\" + 0.029*\"delhi\" + 0.026*\"final\" + 0.022*\"first\" + 0.021*\"mumbai\" + 0.020*\"indian\" + 0.020*\"capital\" + 0.020*\"congratulation\" + 0.015*\"year\" + 0.013*\"match\"'),\n",
              " (1,\n",
              "  '0.031*\"win\" + 0.022*\"mumbai\" + 0.019*\"indian\" + 0.014*\"join\" + 0.011*\"special\" + 0.010*\"left\" + 0.008*\"performance\" + 0.007*\"finally\" + 0.007*\"year\" + 0.007*\"player\"'),\n",
              " (2,\n",
              "  '0.032*\"team\" + 0.014*\"fan\" + 0.010*\"season\" + 0.009*\"great\" + 0.008*\"cricket\" + 0.007*\"v\" + 0.007*\"champion\" + 0.007*\"year\" + 0.007*\"best\" + 0.007*\"good\"'),\n",
              " (3,\n",
              "  '0.014*\"delhi\" + 0.013*\"win\" + 0.013*\"capital\" + 0.012*\"team\" + 0.012*\"final\" + 0.009*\"title\" + 0.009*\"time\" + 0.009*\"back\" + 0.009*\"first\" + 0.009*\"v\"'),\n",
              " (4,\n",
              "  '0.023*\"well\" + 0.016*\"played\" + 0.015*\"match\" + 0.014*\"win\" + 0.013*\"team\" + 0.011*\"season\" + 0.011*\"injured\" + 0.010*\"time\" + 0.010*\"let\" + 0.010*\"mi\"'),\n",
              " (5,\n",
              "  '0.026*\"final\" + 0.025*\"made\" + 0.024*\"released\" + 0.022*\"rcb\" + 0.021*\"run\" + 0.016*\"wicket\" + 0.015*\"stoinis\" + 0.010*\"hetmyer\" + 0.009*\"mi\" + 0.009*\"dc\"'),\n",
              " (6,\n",
              "  '0.034*\"mi\" + 0.028*\"dc\" + 0.024*\"team\" + 0.020*\"rcb\" + 0.015*\"srh\" + 0.013*\"final\" + 0.013*\"rr\" + 0.013*\"win\" + 0.012*\"csk\" + 0.011*\"v\"'),\n",
              " (7,\n",
              "  '0.037*\"delhi\" + 0.026*\"capital\" + 0.018*\"v\" + 0.012*\"run\" + 0.012*\"win\" + 0.011*\"sunrisers\" + 0.011*\"qualifier\" + 0.009*\"november\" + 0.009*\"hyderabad\" + 0.009*\"final\"'),\n",
              " (8,\n",
              "  '0.021*\"stoinis\" + 0.015*\"marcus\" + 0.013*\"delhi\" + 0.011*\"get\" + 0.011*\"one\" + 0.010*\"make\" + 0.009*\"team\" + 0.009*\"player\" + 0.008*\"match\" + 0.007*\"congratulation\"'),\n",
              " (9,\n",
              "  '0.014*\"final\" + 0.013*\"win\" + 0.010*\"see\" + 0.010*\"well\" + 0.009*\"making\" + 0.009*\"india\" + 0.008*\"going\" + 0.008*\"play\" + 0.007*\"know\" + 0.006*\"rohit\"')]"
            ]
          },
          "metadata": {
            "tags": []
          },
          "execution_count": 91
        }
      ]
    },
    {
      "cell_type": "code",
      "metadata": {
        "colab": {
          "base_uri": "https://localhost:8080/"
        },
        "id": "24u47Gl0GQNH",
        "outputId": "bca4eb00-7297-42ee-cd0f-d93435536cb8"
      },
      "source": [
        "pip install tomotopy"
      ],
      "execution_count": 92,
      "outputs": [
        {
          "output_type": "stream",
          "text": [
            "Collecting tomotopy\n",
            "\u001b[?25l  Downloading https://files.pythonhosted.org/packages/70/39/29b0348bfcb689054abb7d627367fed37a4c282ff23feff13b3aef9a1de0/tomotopy-0.9.1-cp36-cp36m-manylinux2010_x86_64.whl (13.5MB)\n",
            "\u001b[K     |████████████████████████████████| 13.5MB 242kB/s \n",
            "\u001b[?25hRequirement already satisfied: numpy>=1.10.0 in /usr/local/lib/python3.6/dist-packages (from tomotopy) (1.18.5)\n",
            "Collecting py-cpuinfo\n",
            "\u001b[?25l  Downloading https://files.pythonhosted.org/packages/f6/f5/8e6e85ce2e9f6e05040cf0d4e26f43a4718bcc4bce988b433276d4b1a5c1/py-cpuinfo-7.0.0.tar.gz (95kB)\n",
            "\u001b[K     |████████████████████████████████| 102kB 7.5MB/s \n",
            "\u001b[?25hBuilding wheels for collected packages: py-cpuinfo\n",
            "  Building wheel for py-cpuinfo (setup.py) ... \u001b[?25l\u001b[?25hdone\n",
            "  Created wheel for py-cpuinfo: filename=py_cpuinfo-7.0.0-cp36-none-any.whl size=20071 sha256=c849a5846a806223d681b5e2b3d30183a83af222e209d4a732af9fce743b8168\n",
            "  Stored in directory: /root/.cache/pip/wheels/f1/93/7b/127daf0c3a5a49feb2fecd468d508067c733fba5192f726ad1\n",
            "Successfully built py-cpuinfo\n",
            "Installing collected packages: py-cpuinfo, tomotopy\n",
            "Successfully installed py-cpuinfo-7.0.0 tomotopy-0.9.1\n"
          ],
          "name": "stdout"
        }
      ]
    },
    {
      "cell_type": "markdown",
      "metadata": {
        "id": "qAsgSZ7RMGZ-"
      },
      "source": [
        "**Supervised LDA** Reference code taken: https://github.com/bab2min/tomotopy"
      ]
    },
    {
      "cell_type": "code",
      "metadata": {
        "colab": {
          "base_uri": "https://localhost:8080/"
        },
        "id": "OG1AHTvEGked",
        "outputId": "cd5c97cd-d08e-4bea-a60a-e36b52cd0d79"
      },
      "source": [
        "import tomotopy as tp\n",
        "SLDA_topic_modeling = tp.SLDAModel(k=15) #number of topics 6\n",
        "for i in tweets[\"refine_text\"]:\n",
        "    SLDA_topic_modeling.add_doc(i.split()) #splitting each sentence\n",
        "\n",
        "for k in range(SLDA_topic_modeling.k):\n",
        "    print('Top 10 words of topic #{}'.format(k))\n",
        "    print(SLDA_topic_modeling.get_topic_words(k, top_n=20))\n",
        "\n",
        "SLDA_topic_modeling.summary()"
      ],
      "execution_count": 93,
      "outputs": [
        {
          "output_type": "stream",
          "text": [
            "Top 10 words of topic #0\n",
            "[('final', 0.02159806713461876), ('delhi', 0.012154815718531609), ('team', 0.012154815718531609), ('dc', 0.01080577913671732), ('time', 0.01080577913671732), ('v', 0.01080577913671732), ('indian', 0.01080577913671732), ('player', 0.01080577913671732), ('win', 0.009456743486225605), ('well', 0.009456743486225605), ('srh', 0.009456743486225605), ('good', 0.008107706904411316), ('great', 0.008107706904411316), ('best', 0.008107706904411316), ('match', 0.008107706904411316), ('mi', 0.0067586712539196014), ('played', 0.0067586712539196014), ('u', 0.0054096351377666), ('purple', 0.0054096351377666), ('tweet', 0.0054096351377666)]\n",
            "Top 10 words of topic #1\n",
            "[('dc', 0.01739898882806301), ('team', 0.01739898882806301), ('delhi', 0.01595027931034565), ('final', 0.014501571655273438), ('mi', 0.014501571655273438), ('win', 0.011604154482483864), ('time', 0.011604154482483864), ('back', 0.008706738241016865), ('stoinis', 0.008706738241016865), ('fan', 0.008706738241016865), ('run', 0.008706738241016865), ('v', 0.008706738241016865), ('capital', 0.008706738241016865), ('kane', 0.007258029654622078), ('first', 0.007258029654622078), ('made', 0.007258029654622078), ('played', 0.007258029654622078), ('well', 0.007258029654622078), ('year', 0.007258029654622078), ('congratulation', 0.007258029654622078)]\n",
            "Top 10 words of topic #2\n",
            "[('final', 0.019263822585344315), ('win', 0.017888816073536873), ('mi', 0.012388796545565128), ('match', 0.012388796545565128), ('delhi', 0.011013790965080261), ('season', 0.011013790965080261), ('v', 0.009638786315917969), ('dc', 0.008263780735433102), ('team', 0.008263780735433102), ('congratulation', 0.008263780735433102), ('srh', 0.008263780735433102), ('tournament', 0.006888776086270809), ('ever', 0.006888776086270809), ('run', 0.006888776086270809), ('played', 0.006888776086270809), ('rcb', 0.006888776086270809), ('next', 0.006888776086270809), ('time', 0.006888776086270809), ('player', 0.005513770971447229), ('bumrah', 0.005513770971447229)]\n",
            "Top 10 words of topic #3\n",
            "[('win', 0.018342802301049232), ('delhi', 0.014113102108240128), ('dc', 0.014113102108240128), ('team', 0.014113102108240128), ('time', 0.012703201733529568), ('final', 0.009883400984108448), ('csk', 0.009883400984108448), ('v', 0.009883400984108448), ('srh', 0.009883400984108448), ('rcb', 0.008473500609397888), ('good', 0.008473500609397888), ('mumbai', 0.008473500609397888), ('capital', 0.008473500609397888), ('mi', 0.008473500609397888), ('indian', 0.007063600700348616), ('proud', 0.007063600700348616), ('luck', 0.007063600700348616), ('well', 0.007063600700348616), ('player', 0.007063600700348616), ('match', 0.007063600700348616)]\n",
            "Top 10 words of topic #4\n",
            "[('team', 0.015328497625887394), ('mi', 0.015328497625887394), ('final', 0.013936263509094715), ('v', 0.013936263509094715), ('delhi', 0.012544029392302036), ('match', 0.012544029392302036), ('player', 0.012544029392302036), ('season', 0.011151795275509357), ('dc', 0.009759561158716679), ('fan', 0.008367327041924), ('well', 0.008367327041924), ('congratulation', 0.006975092925131321), ('rcb', 0.006975092925131321), ('sharma', 0.005582858808338642), ('big', 0.005582858808338642), ('made', 0.005582858808338642), ('part', 0.005582858808338642), ('finally', 0.005582858808338642), ('tough', 0.005582858808338642), ('back', 0.005582858808338642)]\n",
            "Top 10 words of topic #5\n",
            "[('win', 0.014650138095021248), ('well', 0.014650138095021248), ('final', 0.013186587952077389), ('season', 0.013186587952077389), ('mi', 0.013186587952077389), ('played', 0.01172303780913353), ('dc', 0.01172303780913353), ('srh', 0.01025948766618967), ('indian', 0.01025948766618967), ('match', 0.01025948766618967), ('team', 0.008795937523245811), ('delhi', 0.008795937523245811), ('v', 0.007332386914640665), ('time', 0.007332386914640665), ('capital', 0.007332386914640665), ('stoinis', 0.005868836771696806), ('hope', 0.005868836771696806), ('wicket', 0.005868836771696806), ('kane', 0.005868836771696806), ('see', 0.005868836771696806)]\n",
            "Top 10 words of topic #6\n",
            "[('team', 0.016280479729175568), ('time', 0.016280479729175568), ('delhi', 0.014801780693233013), ('final', 0.01184438169002533), ('dc', 0.01184438169002533), ('v', 0.010365682654082775), ('capital', 0.010365682654082775), ('back', 0.008886982686817646), ('match', 0.008886982686817646), ('rcb', 0.008886982686817646), ('mumbai', 0.008886982686817646), ('mi', 0.0074082836508750916), ('indian', 0.0074082836508750916), ('year', 0.0074082836508750916), ('run', 0.0074082836508750916), ('player', 0.005929584614932537), ('next', 0.005929584614932537), ('csk', 0.005929584614932537), ('go', 0.005929584614932537), ('good', 0.005929584614932537)]\n",
            "Top 10 words of topic #7\n",
            "[('delhi', 0.020325852558016777), ('team', 0.015973420813679695), ('capital', 0.015973420813679695), ('time', 0.014522611163556576), ('final', 0.013071800582110882), ('dc', 0.013071800582110882), ('win', 0.011620990000665188), ('first', 0.010170180350542068), ('best', 0.008719369769096375), ('kane', 0.008719369769096375), ('rcb', 0.008719369769096375), ('mi', 0.008719369769096375), ('well', 0.008719369769096375), ('v', 0.007268559653311968), ('see', 0.007268559653311968), ('played', 0.007268559653311968), ('run', 0.007268559653311968), ('csk', 0.007268559653311968), ('kxip', 0.005817749537527561), ('luck', 0.005817749537527561)]\n",
            "Top 10 words of topic #8\n",
            "[('final', 0.022097250446677208), ('team', 0.019152913242578506), ('win', 0.019152913242578506), ('good', 0.011792071163654327), ('delhi', 0.010319902561604977), ('stoinis', 0.010319902561604977), ('dc', 0.008847733959555626), ('wicket', 0.008847733959555626), ('great', 0.008847733959555626), ('play', 0.008847733959555626), ('mumbai', 0.008847733959555626), ('srh', 0.008847733959555626), ('well', 0.008847733959555626), ('time', 0.008847733959555626), ('rcb', 0.007375564891844988), ('indian', 0.007375564891844988), ('one', 0.007375564891844988), ('congratulation', 0.007375564891844988), ('csk', 0.005903396289795637), ('mi', 0.005903396289795637)]\n",
            "Top 10 words of topic #9\n",
            "[('team', 0.022427421063184738), ('win', 0.016450759023427963), ('final', 0.01346242893487215), ('time', 0.01346242893487215), ('delhi', 0.010474098846316338), ('played', 0.010474098846316338), ('dc', 0.008979933336377144), ('csk', 0.008979933336377144), ('champion', 0.0074857682920992374), ('best', 0.0074857682920992374), ('srh', 0.0074857682920992374), ('mi', 0.0074857682920992374), ('match', 0.0074857682920992374), ('well', 0.005991602782160044), ('like', 0.005991602782160044), ('congratulation', 0.005991602782160044), ('maiden', 0.005991602782160044), ('capital', 0.005991602782160044), ('year', 0.005991602782160044), ('player', 0.005991602782160044)]\n",
            "Top 10 words of topic #10\n",
            "[('final', 0.018658481538295746), ('team', 0.01722431741654873), ('time', 0.01435598824173212), ('delhi', 0.011487659066915512), ('win', 0.01005349401384592), ('dc', 0.01005349401384592), ('first', 0.01005349401384592), ('best', 0.008619329892098904), ('rcb', 0.008619329892098904), ('capital', 0.008619329892098904), ('match', 0.0071851653046905994), ('well', 0.0071851653046905994), ('play', 0.0071851653046905994), ('made', 0.0071851653046905994), ('trophy', 0.0071851653046905994), ('v', 0.0071851653046905994), ('csk', 0.0071851653046905994), ('hope', 0.005751000717282295), ('done', 0.005751000717282295), ('great', 0.005751000717282295)]\n",
            "Top 10 words of topic #11\n",
            "[('delhi', 0.01516046468168497), ('team', 0.013645933009684086), ('time', 0.012131400406360626), ('capital', 0.012131400406360626), ('year', 0.012131400406360626), ('run', 0.012131400406360626), ('final', 0.010616868734359741), ('v', 0.010616868734359741), ('indian', 0.010616868734359741), ('win', 0.009102337062358856), ('congratulation', 0.009102337062358856), ('rcb', 0.009102337062358856), ('mumbai', 0.007587804924696684), ('game', 0.007587804924696684), ('stoinis', 0.007587804924696684), ('fan', 0.007587804924696684), ('bumrah', 0.007587804924696684), ('srh', 0.007587804924696684), ('dc', 0.007587804924696684), ('first', 0.006073273252695799)]\n",
            "Top 10 words of topic #12\n",
            "[('delhi', 0.024050220847129822), ('win', 0.022636333480477333), ('team', 0.015566897578537464), ('v', 0.01415301114320755), ('time', 0.009911349043250084), ('well', 0.009911349043250084), ('final', 0.00849746260792017), ('good', 0.00849746260792017), ('srh', 0.00849746260792017), ('capital', 0.00849746260792017), ('mi', 0.00849746260792017), ('dc', 0.00849746260792017), ('go', 0.007083574775606394), ('fan', 0.007083574775606394), ('let', 0.007083574775606394), ('mumbai', 0.007083574775606394), ('first', 0.007083574775606394), ('winning', 0.007083574775606394), ('beat', 0.005669687874615192), ('tournament', 0.005669687874615192)]\n",
            "Top 10 words of topic #13\n",
            "[('team', 0.020955784246325493), ('final', 0.015371298417448997), ('win', 0.01257905550301075), ('mi', 0.01257905550301075), ('delhi', 0.011182934045791626), ('dc', 0.011182934045791626), ('take', 0.011182934045791626), ('best', 0.009786812588572502), ('season', 0.009786812588572502), ('first', 0.009786812588572502), ('match', 0.008390691131353378), ('played', 0.008390691131353378), ('mumbai', 0.008390691131353378), ('one', 0.006994569208472967), ('see', 0.006994569208472967), ('indian', 0.006994569208472967), ('capital', 0.006994569208472967), ('time', 0.006994569208472967), ('last', 0.005598447751253843), ('play', 0.005598447751253843)]\n",
            "Top 10 words of topic #14\n",
            "[('team', 0.019106196239590645), ('win', 0.013651179149746895), ('capital', 0.012287424877285957), ('final', 0.01092367060482502), ('season', 0.009559916332364082), ('williamson', 0.009559916332364082), ('take', 0.009559916332364082), ('mumbai', 0.009559916332364082), ('mi', 0.009559916332364082), ('delhi', 0.009559916332364082), ('indian', 0.008196162059903145), ('rcb', 0.008196162059903145), ('khan', 0.006832408253103495), ('csk', 0.006832408253103495), ('see', 0.006832408253103495), ('one', 0.006832408253103495), ('kkr', 0.006832408253103495), ('dc', 0.006832408253103495), ('hope', 0.006832408253103495), ('warner', 0.0054686544463038445)]\n",
            "<Basic Info>\n",
            "| SLDAModel (current version: 0.9.1)\n",
            "| 998 docs, 10089 words\n",
            "| Total Vocabs: 2727, Used Vocabs: 2727\n",
            "| Entropy of words: -6.88604\n",
            "| Removed Vocabs: <NA>\n",
            "|\n",
            "<Training Info>\n",
            "| Iterations: 0, Burn-in steps: 0\n",
            "| Optimization Interval: 10\n",
            "| Log-likelihood per word: -11.71931\n",
            "|\n",
            "<Initial Parameters>\n",
            "| tw: TermWeight.ONE\n",
            "| min_cf: 0 (minimum collection frequency of words)\n",
            "| min_df: 0 (minimum document frequency of words)\n",
            "| rm_top: 0 (the number of top words to be removed)\n",
            "| k: 15 (the number of topics between 1 ~ 32767)\n",
            "| vars: \n",
            "| alpha: 0.1 (hyperparameter of Dirichlet distribution for document-topic)\n",
            "| eta: 0.01 (hyperparameter of Dirichlet distribution for topic-word)\n",
            "| mu: [] (mean of regression coefficients, default value is 0)\n",
            "| nu_sq: [] (variance of regression coefficients, default value is 1)\n",
            "| glm_param: [] (the parameter for Generalized Linear Model, default value is 1)\n",
            "| trained in version 0.9.1\n",
            "|\n",
            "<Parameters>\n",
            "| alpha (Dirichlet prior on the per-document topic distributions)\n",
            "|  [0.1 0.1 0.1 0.1 0.1 0.1 0.1 0.1 0.1 0.1 0.1 0.1 0.1 0.1 0.1]\n",
            "| eta (Dirichlet prior on the per-topic word distribution)\n",
            "|  0.01\n",
            "| regression coefficients of response variables\n",
            "|\n",
            "<Topics>\n",
            "| #0 (714) : final delhi team dc time\n",
            "| #1 (663) : dc team delhi final mi\n",
            "| #2 (700) : final win mi match delhi\n",
            "| #3 (682) : win delhi dc team time\n",
            "| #4 (691) : team mi final v delhi\n",
            "| #5 (656) : win well final season mi\n",
            "| #6 (649) : team time delhi final dc\n",
            "| #7 (662) : delhi team capital time final\n",
            "| #8 (652) : final team win good delhi\n",
            "| #9 (642) : team win final time delhi\n",
            "| #10 (670) : final team time delhi win\n",
            "| #11 (633) : delhi team time capital year\n",
            "| #12 (680) : delhi win team v time\n",
            "| #13 (689) : team final win mi delhi\n",
            "| #14 (706) : team win capital final season\n",
            "|\n",
            "\n"
          ],
          "name": "stdout"
        }
      ]
    },
    {
      "cell_type": "markdown",
      "metadata": {
        "id": "IxdQxOJWMNY1"
      },
      "source": [
        "**K-means** Reference : https://www.kaggle.com/karthik3890/text-clustering"
      ]
    },
    {
      "cell_type": "code",
      "metadata": {
        "colab": {
          "base_uri": "https://localhost:8080/"
        },
        "id": "KfiIUggdMRIG",
        "outputId": "aff28730-e82b-431a-9e76-826bbc4695a8"
      },
      "source": [
        "from sklearn.feature_extraction.text import TfidfVectorizer\n",
        "tfidf_vector = TfidfVectorizer()\n",
        "tfidf = tfidf_vector.fit_transform(tweets[\"refine_text\"].values)\n",
        "tfidf.shape"
      ],
      "execution_count": 94,
      "outputs": [
        {
          "output_type": "execute_result",
          "data": {
            "text/plain": [
              "(1000, 2711)"
            ]
          },
          "metadata": {
            "tags": []
          },
          "execution_count": 94
        }
      ]
    },
    {
      "cell_type": "code",
      "metadata": {
        "colab": {
          "base_uri": "https://localhost:8080/"
        },
        "id": "9rT-xBj5MaEa",
        "outputId": "e84cd4c2-7ac9-4cc1-a71e-078e8b7351c3"
      },
      "source": [
        "from sklearn.cluster import KMeans\n",
        "model_tfif = KMeans(n_clusters = 10, n_jobs = -1,random_state=99)\n",
        "model_tfif.fit(tfidf)"
      ],
      "execution_count": 95,
      "outputs": [
        {
          "output_type": "execute_result",
          "data": {
            "text/plain": [
              "KMeans(algorithm='auto', copy_x=True, init='k-means++', max_iter=300,\n",
              "       n_clusters=10, n_init=10, n_jobs=-1, precompute_distances='auto',\n",
              "       random_state=99, tol=0.0001, verbose=0)"
            ]
          },
          "metadata": {
            "tags": []
          },
          "execution_count": 95
        }
      ]
    },
    {
      "cell_type": "code",
      "metadata": {
        "id": "5LChvs_BMc8f"
      },
      "source": [
        "labels_tfif = model_tfif.labels_\n",
        "cluster_center_tfif=model_tfif.cluster_centers_"
      ],
      "execution_count": 96,
      "outputs": []
    },
    {
      "cell_type": "code",
      "metadata": {
        "colab": {
          "base_uri": "https://localhost:8080/"
        },
        "id": "ZJHcsZj4MhXL",
        "outputId": "a4a96932-44ba-40af-b0f9-fbf21ca69642"
      },
      "source": [
        "cluster_center_tfif"
      ],
      "execution_count": 97,
      "outputs": [
        {
          "output_type": "execute_result",
          "data": {
            "text/plain": [
              "array([[0.00051286, 0.        , 0.00189733, ..., 0.00046739, 0.        ,\n",
              "        0.00044525],\n",
              "       [0.        , 0.        , 0.        , ..., 0.        , 0.        ,\n",
              "        0.        ],\n",
              "       [0.        , 0.        , 0.        , ..., 0.        , 0.        ,\n",
              "        0.        ],\n",
              "       ...,\n",
              "       [0.        , 0.        , 0.        , ..., 0.        , 0.        ,\n",
              "        0.        ],\n",
              "       [0.        , 0.        , 0.        , ..., 0.        , 0.        ,\n",
              "        0.        ],\n",
              "       [0.        , 0.00367482, 0.0065745 , ..., 0.        , 0.00315616,\n",
              "        0.        ]])"
            ]
          },
          "metadata": {
            "tags": []
          },
          "execution_count": 97
        }
      ]
    },
    {
      "cell_type": "code",
      "metadata": {
        "id": "Fnd2n6AnMjxK"
      },
      "source": [
        "words = tfidf_vector.get_feature_names()"
      ],
      "execution_count": 98,
      "outputs": []
    },
    {
      "cell_type": "code",
      "metadata": {
        "id": "b1-PcDNpMpFP"
      },
      "source": [
        "from sklearn import metrics\n",
        "silhouette_score_tfif = metrics.silhouette_score(tfidf, labels_tfif, metric='euclidean')"
      ],
      "execution_count": 101,
      "outputs": []
    },
    {
      "cell_type": "code",
      "metadata": {
        "colab": {
          "base_uri": "https://localhost:8080/"
        },
        "id": "UmyoATgFMvw1",
        "outputId": "6fc8e68f-e313-4465-edfa-c028f5808992"
      },
      "source": [
        "silhouette_score_tfif"
      ],
      "execution_count": 102,
      "outputs": [
        {
          "output_type": "execute_result",
          "data": {
            "text/plain": [
              "0.014400088854713158"
            ]
          },
          "metadata": {
            "tags": []
          },
          "execution_count": 102
        }
      ]
    },
    {
      "cell_type": "code",
      "metadata": {
        "colab": {
          "base_uri": "https://localhost:8080/",
          "height": 568
        },
        "id": "TQFeCxXcMxp5",
        "outputId": "ab7f9a84-697b-48ff-e423-0a7fe26e62ff"
      },
      "source": [
        "df_tfif = tweets\n",
        "df_tfif['Tfidf cluster Labels'] = model_tfif.labels_\n",
        "df_tfif.head(5)"
      ],
      "execution_count": 103,
      "outputs": [
        {
          "output_type": "execute_result",
          "data": {
            "text/html": [
              "<div>\n",
              "<style scoped>\n",
              "    .dataframe tbody tr th:only-of-type {\n",
              "        vertical-align: middle;\n",
              "    }\n",
              "\n",
              "    .dataframe tbody tr th {\n",
              "        vertical-align: top;\n",
              "    }\n",
              "\n",
              "    .dataframe thead th {\n",
              "        text-align: right;\n",
              "    }\n",
              "</style>\n",
              "<table border=\"1\" class=\"dataframe\">\n",
              "  <thead>\n",
              "    <tr style=\"text-align: right;\">\n",
              "      <th></th>\n",
              "      <th>created</th>\n",
              "      <th>user_location</th>\n",
              "      <th>tweet_text</th>\n",
              "      <th>username</th>\n",
              "      <th>all_hashtags</th>\n",
              "      <th>refine_text</th>\n",
              "      <th>text_length</th>\n",
              "      <th>sentiment_compound_polarity</th>\n",
              "      <th>sentiment_neutral</th>\n",
              "      <th>sentiment_negative</th>\n",
              "      <th>sentiment_pos</th>\n",
              "      <th>sentiment_type</th>\n",
              "      <th>hour</th>\n",
              "      <th>date</th>\n",
              "      <th>minute</th>\n",
              "      <th>Tfidf cluster Labels</th>\n",
              "    </tr>\n",
              "  </thead>\n",
              "  <tbody>\n",
              "    <tr>\n",
              "      <th>0</th>\n",
              "      <td>11/9/2020 4:49</td>\n",
              "      <td>Gotham City</td>\n",
              "      <td>b'Look at #SRH youngster Priyam Garg after Kan...</td>\n",
              "      <td>b'SteadyTheShip'</td>\n",
              "      <td>['SRH', 'SRHvDC', 'DCvSRH', 'IPL2020']</td>\n",
              "      <td>look youngster priyam garg kane williamson mas...</td>\n",
              "      <td>40</td>\n",
              "      <td>0.6969</td>\n",
              "      <td>0.720</td>\n",
              "      <td>0.062</td>\n",
              "      <td>0.218</td>\n",
              "      <td>POSITIVE</td>\n",
              "      <td>4</td>\n",
              "      <td>2020-11-09</td>\n",
              "      <td>49</td>\n",
              "      <td>9</td>\n",
              "    </tr>\n",
              "    <tr>\n",
              "      <th>1</th>\n",
              "      <td>11/9/2020 4:49</td>\n",
              "      <td>Bengaluru South, India</td>\n",
              "      <td>b'This is Mr.360\\xc2\\xb0 @ABdeVilliers17 . Mos...</td>\n",
              "      <td>b'imsapien'</td>\n",
              "      <td>['Cricket', 'IPL2020', 'Eliminater', 'IPLQuali...</td>\n",
              "      <td>mrxcxb dangerous animal cricket</td>\n",
              "      <td>9</td>\n",
              "      <td>-0.4767</td>\n",
              "      <td>0.492</td>\n",
              "      <td>0.508</td>\n",
              "      <td>0.000</td>\n",
              "      <td>NEGATIVE</td>\n",
              "      <td>4</td>\n",
              "      <td>2020-11-09</td>\n",
              "      <td>49</td>\n",
              "      <td>0</td>\n",
              "    </tr>\n",
              "    <tr>\n",
              "      <th>2</th>\n",
              "      <td>11/9/2020 4:48</td>\n",
              "      <td>Chennai, India</td>\n",
              "      <td>b\"Great things happen to those who don't stop ...</td>\n",
              "      <td>b'CricketGirl_45'</td>\n",
              "      <td>['RohitSharma', 'MumbaiIndians', 'IPL2020', 'I...</td>\n",
              "      <td>great thing happen dont stop believing trying ...</td>\n",
              "      <td>21</td>\n",
              "      <td>0.9134</td>\n",
              "      <td>0.356</td>\n",
              "      <td>0.000</td>\n",
              "      <td>0.644</td>\n",
              "      <td>POSITIVE</td>\n",
              "      <td>4</td>\n",
              "      <td>2020-11-09</td>\n",
              "      <td>48</td>\n",
              "      <td>0</td>\n",
              "    </tr>\n",
              "    <tr>\n",
              "      <th>3</th>\n",
              "      <td>11/9/2020 4:48</td>\n",
              "      <td>Chennai, India</td>\n",
              "      <td>b'T Natarajan made a mark with his yorkers in ...</td>\n",
              "      <td>b'ESPNcricinfo'</td>\n",
              "      <td>['IPL2020']</td>\n",
              "      <td>natarajan made mark yorkers xfxfxxc see play t...</td>\n",
              "      <td>19</td>\n",
              "      <td>0.3400</td>\n",
              "      <td>0.789</td>\n",
              "      <td>0.000</td>\n",
              "      <td>0.211</td>\n",
              "      <td>POSITIVE</td>\n",
              "      <td>4</td>\n",
              "      <td>2020-11-09</td>\n",
              "      <td>48</td>\n",
              "      <td>0</td>\n",
              "    </tr>\n",
              "    <tr>\n",
              "      <th>4</th>\n",
              "      <td>11/9/2020 4:47</td>\n",
              "      <td>Kerala, India</td>\n",
              "      <td>b'#IPL2020 Final: Marcus Stoinis warning to @m...</td>\n",
              "      <td>b'InsideSportIND'</td>\n",
              "      <td>['IPL2020', 'iplseason13', 'IPLfinal', 'Mumbai...</td>\n",
              "      <td>marcus stoinis warning check</td>\n",
              "      <td>7</td>\n",
              "      <td>-0.3400</td>\n",
              "      <td>0.556</td>\n",
              "      <td>0.444</td>\n",
              "      <td>0.000</td>\n",
              "      <td>NEGATIVE</td>\n",
              "      <td>4</td>\n",
              "      <td>2020-11-09</td>\n",
              "      <td>47</td>\n",
              "      <td>0</td>\n",
              "    </tr>\n",
              "  </tbody>\n",
              "</table>\n",
              "</div>"
            ],
            "text/plain": [
              "          created           user_location  ... minute Tfidf cluster Labels\n",
              "0  11/9/2020 4:49            Gotham City   ...     49                    9\n",
              "1  11/9/2020 4:49  Bengaluru South, India  ...     49                    0\n",
              "2  11/9/2020 4:48         Chennai, India   ...     48                    0\n",
              "3  11/9/2020 4:48          Chennai, India  ...     48                    0\n",
              "4  11/9/2020 4:47           Kerala, India  ...     47                    0\n",
              "\n",
              "[5 rows x 16 columns]"
            ]
          },
          "metadata": {
            "tags": []
          },
          "execution_count": 103
        }
      ]
    },
    {
      "cell_type": "code",
      "metadata": {
        "colab": {
          "base_uri": "https://localhost:8080/"
        },
        "id": "I0khgtpHNgA6",
        "outputId": "aa684241-d428-40f5-b33d-0bde793c7137"
      },
      "source": [
        "df_tfif.groupby(['Tfidf cluster Labels'])['refine_text'].count()"
      ],
      "execution_count": 104,
      "outputs": [
        {
          "output_type": "execute_result",
          "data": {
            "text/plain": [
              "Tfidf cluster Labels\n",
              "0    508\n",
              "1     13\n",
              "2     49\n",
              "3     55\n",
              "4     50\n",
              "5     64\n",
              "6     51\n",
              "7     69\n",
              "8     33\n",
              "9    108\n",
              "Name: refine_text, dtype: int64"
            ]
          },
          "metadata": {
            "tags": []
          },
          "execution_count": 104
        }
      ]
    },
    {
      "cell_type": "code",
      "metadata": {
        "colab": {
          "base_uri": "https://localhost:8080/"
        },
        "id": "yZ0eLlU0NivH",
        "outputId": "04f04ac0-3dfa-4e4d-e615-1845a70f872f"
      },
      "source": [
        "\n",
        "print(\"Top words per cluster:\")\n",
        "order_centroids = model_tfif.cluster_centers_.argsort()[:, ::-1]\n",
        "for i in range(10):\n",
        "    print(\"Cluster %d:\" % i, end='')\n",
        "    for ind in order_centroids[i, :10]:\n",
        "        print(' %s' % words[ind], end='')\n",
        "        print()"
      ],
      "execution_count": 105,
      "outputs": [
        {
          "output_type": "stream",
          "text": [
            "Top words per cluster:\n",
            "Cluster 0: congratulation\n",
            " one\n",
            " season\n",
            " champion\n",
            " year\n",
            " fan\n",
            " match\n",
            " run\n",
            " wicket\n",
            " trophy\n",
            "Cluster 1: csk\n",
            " rps\n",
            " kkr\n",
            " deccan\n",
            " kxip\n",
            " rr\n",
            " srh\n",
            " mi\n",
            " rcb\n",
            " final\n",
            "Cluster 2: win\n",
            " always\n",
            " lose\n",
            " life\n",
            " retweet\n",
            " time\n",
            " like\n",
            " wish\n",
            " first\n",
            " hope\n",
            "Cluster 3: capital\n",
            " delhi\n",
            " maiden\n",
            " run\n",
            " qualifier\n",
            " hyderabad\n",
            " sunrisers\n",
            " join\n",
            " first\n",
            " time\n",
            "Cluster 4: title\n",
            " qualifier\n",
            " tuesday\n",
            " first\n",
            " lost\n",
            " match\n",
            " face\n",
            " final\n",
            " win\n",
            " beat\n",
            "Cluster 5: final\n",
            " finally\n",
            " time\n",
            " congratulation\n",
            " first\n",
            " delhi\n",
            " see\n",
            " qualified\n",
            " trophy\n",
            " made\n",
            "Cluster 6: well\n",
            " played\n",
            " congratulation\n",
            " team\n",
            " better\n",
            " boy\n",
            " proud\n",
            " match\n",
            " done\n",
            " next\n",
            "Cluster 7: dc\n",
            " mi\n",
            " rcb\n",
            " time\n",
            " csk\n",
            " released\n",
            " final\n",
            " made\n",
            " srh\n",
            " fan\n",
            "Cluster 8: mumbai\n",
            " indian\n",
            " win\n",
            " capital\n",
            " join\n",
            " delhi\n",
            " year\n",
            " meet\n",
            " winner\n",
            " time\n",
            "Cluster 9: player\n",
            " team\n",
            " williamson\n",
            " kane\n",
            " injured\n",
            " best\n",
            " season\n",
            " fan\n",
            " good\n",
            " back\n"
          ],
          "name": "stdout"
        }
      ]
    },
    {
      "cell_type": "code",
      "metadata": {
        "colab": {
          "base_uri": "https://localhost:8080/",
          "height": 295
        },
        "id": "ozr59NtYN90f",
        "outputId": "d483430b-0b4f-45f2-da04-87ea103eb78a"
      },
      "source": [
        "import matplotlib.pyplot as plt\n",
        "plt.bar([x for x in range(10)], df_tfif.groupby(['Tfidf cluster Labels'])['refine_text'].count(), alpha = 0.4)\n",
        "plt.title('KMeans cluster points')\n",
        "plt.xlabel(\"Cluster number\")\n",
        "plt.ylabel(\"Number of points\")\n",
        "plt.show()"
      ],
      "execution_count": 106,
      "outputs": [
        {
          "output_type": "display_data",
          "data": {
            "image/png": "[encoded data removed]",
            "text/plain": [
              "<Figure size 432x288 with 1 Axes>"
            ]
          },
          "metadata": {
            "tags": [],
            "needs_background": "light"
          }
        }
      ]
    },
    {
      "cell_type": "markdown",
      "metadata": {
        "id": "qvtVBjgUUYGI"
      },
      "source": [
        "**MultinomialNB Method**\n",
        "\n",
        "\n"
      ]
    },
    {
      "cell_type": "code",
      "metadata": {
        "id": "99IG1N_iU9RX"
      },
      "source": [
        "from sklearn.model_selection import train_test_split\n",
        "X_train, X_test, y_train, y_test = train_test_split(tfidf, tweets[\"sentiment_type\"], test_size=0.2,random_state=109)"
      ],
      "execution_count": 107,
      "outputs": []
    },
    {
      "cell_type": "code",
      "metadata": {
        "id": "a_czLsZ0bW5F",
        "colab": {
          "base_uri": "https://localhost:8080/"
        },
        "outputId": "99fa306f-6c29-474e-b9f3-4cda73f49b81"
      },
      "source": [
        "from sklearn.naive_bayes import MultinomialNB\n",
        "from sklearn.metrics import accuracy_score\n",
        "from sklearn.metrics import classification_report\n",
        "cm = MultinomialNB()\n",
        "cm.fit(X_train,y_train)\n",
        "y_pred = cm.predict(X_test)\n",
        "accuracy = accuracy_score(y_test, y_pred)\n",
        "print(\"Accuracy: %.2f%%\" % (accuracy * 100.0))\n",
        "print(classification_report(y_test,y_pred))"
      ],
      "execution_count": 108,
      "outputs": [
        {
          "output_type": "stream",
          "text": [
            "Accuracy: 65.00%\n",
            "              precision    recall  f1-score   support\n",
            "\n",
            "    NEGATIVE       0.00      0.00      0.00        22\n",
            "     NEUTRAL       1.00      0.06      0.11        51\n",
            "    POSITIVE       0.64      1.00      0.78       127\n",
            "\n",
            "    accuracy                           0.65       200\n",
            "   macro avg       0.55      0.35      0.30       200\n",
            "weighted avg       0.66      0.65      0.53       200\n",
            "\n"
          ],
          "name": "stdout"
        }
      ]
    },
    {
      "cell_type": "markdown",
      "metadata": {
        "id": "z6_KRhbPHXjg"
      },
      "source": [
        "**RandomForest**"
      ]
    },
    {
      "cell_type": "code",
      "metadata": {
        "id": "TQ4dtoOzb0Y9",
        "colab": {
          "base_uri": "https://localhost:8080/"
        },
        "outputId": "06414150-011a-4e73-9abb-b961cf6a5082"
      },
      "source": [
        "from sklearn.ensemble import RandomForestClassifier\n",
        "from sklearn.metrics import accuracy_score\n",
        "from sklearn.metrics import classification_report\n",
        "rf = RandomForestClassifier()\n",
        "rf.fit(X_train,y_train)\n",
        "y_pred = rf.predict(X_test)\n",
        "accuracy = accuracy_score(y_test, y_pred)\n",
        "print(\"Accuracy: %.2f%%\" % (accuracy * 100.0))\n",
        "print(classification_report(y_test,y_pred))"
      ],
      "execution_count": 109,
      "outputs": [
        {
          "output_type": "stream",
          "text": [
            "Accuracy: 67.50%\n",
            "              precision    recall  f1-score   support\n",
            "\n",
            "    NEGATIVE       0.00      0.00      0.00        22\n",
            "     NEUTRAL       0.50      0.75      0.60        51\n",
            "    POSITIVE       0.80      0.76      0.78       127\n",
            "\n",
            "    accuracy                           0.68       200\n",
            "   macro avg       0.43      0.50      0.46       200\n",
            "weighted avg       0.63      0.68      0.65       200\n",
            "\n"
          ],
          "name": "stdout"
        }
      ]
    },
    {
      "cell_type": "code",
      "metadata": {
        "id": "9HKZYui8cBc_",
        "colab": {
          "base_uri": "https://localhost:8080/"
        },
        "outputId": "926c14fc-0922-4a8f-be5b-26509316c574"
      },
      "source": [
        "print(pd.DataFrame({'predicted reviews':y_pred}))"
      ],
      "execution_count": 110,
      "outputs": [
        {
          "output_type": "stream",
          "text": [
            "    predicted reviews\n",
            "0             NEUTRAL\n",
            "1             NEUTRAL\n",
            "2             NEUTRAL\n",
            "3            POSITIVE\n",
            "4            POSITIVE\n",
            "..                ...\n",
            "195           NEUTRAL\n",
            "196           NEUTRAL\n",
            "197          POSITIVE\n",
            "198          POSITIVE\n",
            "199           NEUTRAL\n",
            "\n",
            "[200 rows x 1 columns]\n"
          ],
          "name": "stdout"
        }
      ]
    }
  ]
}