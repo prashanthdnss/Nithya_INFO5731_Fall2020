{
  "nbformat": 4,
  "nbformat_minor": 0,
  "metadata": {
    "colab": {
      "name": "Group6_IPL_Term_Project_Final (1).ipynb",
      "provenance": [],
      "collapsed_sections": [],
      "include_colab_link": true
    },
    "kernelspec": {
      "name": "python3",
      "display_name": "Python 3"
    }
  },
  "cells": [
    {
      "cell_type": "markdown",
      "metadata": {
        "id": "view-in-github",
        "colab_type": "text"
      },
      "source": [
        "<a href=\"https://colab.research.google.com/github/prashanthdnss/Nithya_INFO5731_Fall2020/blob/master/Final_Project/Final_Copy/Group6_IPL_Term_Project_Final.ipynb\" target=\"_parent\"><img src=\"https://colab.research.google.com/assets/colab-badge.svg\" alt=\"Open In Colab\"/></a>"
      ]
    },
    {
      "cell_type": "code",
      "metadata": {
        "id": "hyTnPOkcTAoN",
        "colab": {
          "base_uri": "https://localhost:8080/"
        },
        "outputId": "b6a0b22c-5b21-4669-a6c0-7eb957546876"
      },
      "source": [
        "!pip install tweepy  #Installing Tweepy for twitter data"
      ],
      "execution_count": null,
      "outputs": [
        {
          "output_type": "stream",
          "text": [
            "Requirement already satisfied: tweepy in /usr/local/lib/python3.6/dist-packages (3.6.0)\n",
            "Requirement already satisfied: requests>=2.11.1 in /usr/local/lib/python3.6/dist-packages (from tweepy) (2.23.0)\n",
            "Requirement already satisfied: six>=1.10.0 in /usr/local/lib/python3.6/dist-packages (from tweepy) (1.15.0)\n",
            "Requirement already satisfied: requests-oauthlib>=0.7.0 in /usr/local/lib/python3.6/dist-packages (from tweepy) (1.3.0)\n",
            "Requirement already satisfied: PySocks>=1.5.7 in /usr/local/lib/python3.6/dist-packages (from tweepy) (1.7.1)\n",
            "Requirement already satisfied: chardet<4,>=3.0.2 in /usr/local/lib/python3.6/dist-packages (from requests>=2.11.1->tweepy) (3.0.4)\n",
            "Requirement already satisfied: certifi>=2017.4.17 in /usr/local/lib/python3.6/dist-packages (from requests>=2.11.1->tweepy) (2020.6.20)\n",
            "Requirement already satisfied: urllib3!=1.25.0,!=1.25.1,<1.26,>=1.21.1 in /usr/local/lib/python3.6/dist-packages (from requests>=2.11.1->tweepy) (1.24.3)\n",
            "Requirement already satisfied: idna<3,>=2.5 in /usr/local/lib/python3.6/dist-packages (from requests>=2.11.1->tweepy) (2.10)\n",
            "Requirement already satisfied: oauthlib>=3.0.0 in /usr/local/lib/python3.6/dist-packages (from requests-oauthlib>=0.7.0->tweepy) (3.1.0)\n"
          ],
          "name": "stdout"
        }
      ]
    },
    {
      "cell_type": "markdown",
      "metadata": {
        "id": "UmeUFsajLCoX"
      },
      "source": [
        "**Tweets extracted 11/8/2020**"
      ]
    },
    {
      "cell_type": "code",
      "metadata": {
        "id": "gG9pci1qU5ax",
        "colab": {
          "base_uri": "https://localhost:8080/"
        },
        "outputId": "87dec30b-6df3-45b9-a9f8-ac637fbb2252"
      },
      "source": [
        "#Program to get twitter data using Twitter API \n",
        "\n",
        "import json\n",
        "import csv\n",
        "import tweepy\n",
        "import re\n",
        "import os\n",
        "def twitter_hashtag(api_key, api_key_secret, access_token, access_token_secret, hashtag):\n",
        "    \n",
        "    auth = tweepy.OAuthHandler(api_key, api_key_secret)\n",
        "    auth.set_access_token(access_token, access_token_secret)\n",
        "\n",
        "    api = tweepy.API(auth,wait_on_rate_limit=True)\n",
        "    \n",
        "    file_name = '_'.join(re.findall(r\"#(\\w+)\", hashtag))\n",
        "\n",
        "    with open('%s.csv' % (file_name), 'w') as file:\n",
        "\n",
        "        w = csv.writer(file)\n",
        "\n",
        "        w.writerow(['created', 'user_location', 'tweet_text', 'username', 'all_hashtags'])\n",
        "\n",
        "        for tweet in tweepy.Cursor(api.search, q=hashtag+' -filter:retweets', lang=\"en\", tweet_mode='extended').items(1000):\n",
        "            w.writerow([tweet.created_at, tweet.full_text.replace('\\n',' ').encode('utf-8'), tweet.user.screen_name.encode('utf-8'),[e['text'] for e in tweet._json['entities']['hashtags']]])\n",
        "            \n",
        "\n",
        "\n",
        "api_key = input('Please give twitter api key')\n",
        "api_key_secret = input('Please give twitter api key secret')\n",
        "access_token = input('Please give twitter access token')\n",
        "access_token_secret = input('Please give twitter access token secret')\n",
        "    \n",
        "hashtag = input('enter the hashtag')\n",
        "\n",
        "twitter_hashtag(api_key, api_key_secret, access_token, access_token_secret, hashtag)\n",
        "\n"
      ],
      "execution_count": null,
      "outputs": [
        {
          "output_type": "stream",
          "text": [
            "Please give twitter api keyePjdnPqsmA5Mgjewf5i5Vtnuw\n",
            "Please give twitter api key secretV83Stor4JRihnxggUa9OODxIrAc8EHmQdJxlnpxAGZXjqbJA7v\n",
            "Please give twitter access token1287853629869821952-ZsnNF12Y53o5JfCOUBPn72lO0OJau1\n",
            "Please give twitter access token secretTSYcER5dl5L72dcbpo8f0LzQqfn6qX3r2n1QsLpOGxRAz\n",
            "enter the hashtag#IPL2020\n"
          ],
          "name": "stdout"
        }
      ]
    },
    {
      "cell_type": "code",
      "metadata": {
        "id": "X3vnZxYQU5d9",
        "colab": {
          "base_uri": "https://localhost:8080/",
          "height": 195
        },
        "outputId": "17a4d372-9840-4591-e521-798819d423f5"
      },
      "source": [
        "#Saving the twitter data to a csv file\n",
        "import pandas as pd\n",
        "tweets=pd.read_csv('/content/IPL2020 (1).csv')\n",
        "tweets.head()"
      ],
      "execution_count": 2,
      "outputs": [
        {
          "output_type": "execute_result",
          "data": {
            "text/html": [
              "<div>\n",
              "<style scoped>\n",
              "    .dataframe tbody tr th:only-of-type {\n",
              "        vertical-align: middle;\n",
              "    }\n",
              "\n",
              "    .dataframe tbody tr th {\n",
              "        vertical-align: top;\n",
              "    }\n",
              "\n",
              "    .dataframe thead th {\n",
              "        text-align: right;\n",
              "    }\n",
              "</style>\n",
              "<table border=\"1\" class=\"dataframe\">\n",
              "  <thead>\n",
              "    <tr style=\"text-align: right;\">\n",
              "      <th></th>\n",
              "      <th>created</th>\n",
              "      <th>user_location</th>\n",
              "      <th>tweet_text</th>\n",
              "      <th>username</th>\n",
              "      <th>all_hashtags</th>\n",
              "    </tr>\n",
              "  </thead>\n",
              "  <tbody>\n",
              "    <tr>\n",
              "      <th>0</th>\n",
              "      <td>11/9/2020 4:49</td>\n",
              "      <td>Gotham City</td>\n",
              "      <td>b'Look at #SRH youngster Priyam Garg after Kan...</td>\n",
              "      <td>b'SteadyTheShip'</td>\n",
              "      <td>['SRH', 'SRHvDC', 'DCvSRH', 'IPL2020']</td>\n",
              "    </tr>\n",
              "    <tr>\n",
              "      <th>1</th>\n",
              "      <td>11/9/2020 4:49</td>\n",
              "      <td>Bengaluru South, India</td>\n",
              "      <td>b'This is Mr.360\\xc2\\xb0 @ABdeVilliers17 . Mos...</td>\n",
              "      <td>b'imsapien'</td>\n",
              "      <td>['Cricket', 'IPL2020', 'Eliminater', 'IPLQuali...</td>\n",
              "    </tr>\n",
              "    <tr>\n",
              "      <th>2</th>\n",
              "      <td>11/9/2020 4:48</td>\n",
              "      <td>Chennai, India</td>\n",
              "      <td>b\"Great things happen to those who don't stop ...</td>\n",
              "      <td>b'CricketGirl_45'</td>\n",
              "      <td>['RohitSharma', 'MumbaiIndians', 'IPL2020', 'I...</td>\n",
              "    </tr>\n",
              "    <tr>\n",
              "      <th>3</th>\n",
              "      <td>11/9/2020 4:48</td>\n",
              "      <td>Chennai, India</td>\n",
              "      <td>b'T Natarajan made a mark with his yorkers in ...</td>\n",
              "      <td>b'ESPNcricinfo'</td>\n",
              "      <td>['IPL2020']</td>\n",
              "    </tr>\n",
              "    <tr>\n",
              "      <th>4</th>\n",
              "      <td>11/9/2020 4:47</td>\n",
              "      <td>Kerala, India</td>\n",
              "      <td>b'#IPL2020 Final: Marcus Stoinis warning to @m...</td>\n",
              "      <td>b'InsideSportIND'</td>\n",
              "      <td>['IPL2020', 'iplseason13', 'IPLfinal', 'Mumbai...</td>\n",
              "    </tr>\n",
              "  </tbody>\n",
              "</table>\n",
              "</div>"
            ],
            "text/plain": [
              "          created  ...                                       all_hashtags\n",
              "0  11/9/2020 4:49  ...             ['SRH', 'SRHvDC', 'DCvSRH', 'IPL2020']\n",
              "1  11/9/2020 4:49  ...  ['Cricket', 'IPL2020', 'Eliminater', 'IPLQuali...\n",
              "2  11/9/2020 4:48  ...  ['RohitSharma', 'MumbaiIndians', 'IPL2020', 'I...\n",
              "3  11/9/2020 4:48  ...                                        ['IPL2020']\n",
              "4  11/9/2020 4:47  ...  ['IPL2020', 'iplseason13', 'IPLfinal', 'Mumbai...\n",
              "\n",
              "[5 rows x 5 columns]"
            ]
          },
          "metadata": {
            "tags": []
          },
          "execution_count": 2
        }
      ]
    },
    {
      "cell_type": "code",
      "metadata": {
        "id": "ftm2a5e-2CZD"
      },
      "source": [
        "import pandas as pd\n",
        "import numpy as np\n",
        "import sklearn\n",
        "from scipy import stats\n",
        "import matplotlib.pyplot as plt\n",
        "import os\n",
        "import seaborn as sns\n"
      ],
      "execution_count": 3,
      "outputs": []
    },
    {
      "cell_type": "code",
      "metadata": {
        "colab": {
          "base_uri": "https://localhost:8080/",
          "height": 295
        },
        "id": "tVdnYEeY2Hmb",
        "outputId": "4ce91825-3a54-4749-9a72-af77b61ea554"
      },
      "source": [
        "ds = tweets['user_location'].value_counts().reset_index()\n",
        "ds.columns = ['user_location', 'count']\n",
        "ds = ds[ds['user_location']!='NA']\n",
        "ds = ds.sort_values(['count'],ascending=False)\n",
        "\n",
        "fig = sns.barplot(\n",
        "    \n",
        "    x=ds.head(20)[\"count\"], \n",
        "    y=ds.head(20)[\"user_location\"], \n",
        "    orientation='horizontal'\n",
        ").set_title('Top 20 user locations by number of tweets')"
      ],
      "execution_count": 4,
      "outputs": [
        {
          "output_type": "display_data",
          "data": {
            "image/png": "[encoded data removed]",
            "text/plain": [
              "<Figure size 432x288 with 1 Axes>"
            ]
          },
          "metadata": {
            "tags": [],
            "needs_background": "light"
          }
        }
      ]
    },
    {
      "cell_type": "code",
      "metadata": {
        "colab": {
          "base_uri": "https://localhost:8080/",
          "height": 617
        },
        "id": "8e5eRPfd2YAR",
        "outputId": "b506f482-7795-40fd-c5a8-51b9f67ed681"
      },
      "source": [
        "from plotly.offline import init_notebook_mode, iplot\n",
        "import matplotlib.pyplot as plt\n",
        "import plotly.express as px\n",
        "import plotly.graph_objects as go\n",
        "import plotly.figure_factory as ff\n",
        "from plotly.colors import n_colors\n",
        "from plotly.subplots import make_subplots\n",
        "def pie_count(data, field, percent_limit, title):\n",
        "    \n",
        "    data[field] = data[field].fillna('NA')\n",
        "    data = data[field].value_counts().to_frame()\n",
        "\n",
        "    total = data[field].sum()\n",
        "    data['percentage'] = 100 * data[field]/total    \n",
        "\n",
        "    percent_limit = percent_limit\n",
        "    otherdata = data[data['percentage'] < percent_limit] \n",
        "    others = otherdata['percentage'].sum()  \n",
        "    maindata = data[data['percentage'] >= percent_limit]\n",
        "\n",
        "    data = maindata\n",
        "    #other_label = \"Others(<\" + str(percent_limit) + \"% each)\"\n",
        "    #data.loc[other_label] = pd.Series({field:otherdata[field].sum()}) \n",
        "    \n",
        "    labels = data.index.tolist()   \n",
        "    datavals = data[field].tolist()\n",
        "    \n",
        "    trace=go.Pie(labels=labels,values=datavals)\n",
        "    \n",
        "    layout = go.Layout(\n",
        "        title = title,\n",
        "        height=600,\n",
        "        width=600\n",
        "        )\n",
        "    \n",
        "    fig = go.Figure(data=[trace], layout=layout)\n",
        "    iplot(fig)\n",
        "    \n",
        "pie_count(tweets, 'user_location', 0.5, 'Number of tweets per location')"
      ],
      "execution_count": 5,
      "outputs": [
        {
          "output_type": "display_data",
          "data": {
            "text/html": [
              "<html>\n",
              "<head><meta charset=\"utf-8\" /></head>\n",
              "<body>\n",
              "    <div>\n",
              "            <script src=\"https://cdnjs.cloudflare.com/ajax/libs/mathjax/2.7.5/MathJax.js?config=TeX-AMS-MML_SVG\"></script><script type=\"text/javascript\">if (window.MathJax) {MathJax.Hub.Config({SVG: {font: \"STIX-Web\"}});}</script>\n",
              "                <script type=\"text/javascript\">window.PlotlyConfig = {MathJaxConfig: 'local'};</script>\n",
              "        <script src=\"https://cdn.plot.ly/plotly-latest.min.js\"></script>    \n",
              "            <div id=\"4ec1ea3b-155f-41c9-afaf-7534ddba4265\" class=\"plotly-graph-div\" style=\"height:600px; width:600px;\"></div>\n",
              "            <script type=\"text/javascript\">\n",
              "                \n",
              "                    window.PLOTLYENV=window.PLOTLYENV || {};\n",
              "                    \n",
              "                if (document.getElementById(\"4ec1ea3b-155f-41c9-afaf-7534ddba4265\")) {\n",
              "                    Plotly.newPlot(\n",
              "                        '4ec1ea3b-155f-41c9-afaf-7534ddba4265',\n",
              "                        [{\"labels\": [\"NA\", \"India\", \"New Delhi, India\", \"Chennai, India\", \"Mumbai, India\", \"Mumbai\", \"Saket, New Delhi\", \"Bengaluru, India\", \"Hyderabad, India\", \"Tamil Nadu, India\", \"New Delhi\", \"Kolkata\", \"Sri Lanka\", \"Pune, India\", \"Ahmadabad City, India\"], \"type\": \"pie\", \"values\": [413, 78, 64, 30, 19, 15, 14, 13, 10, 8, 6, 6, 5, 5, 5]}],\n",
              "                        {\"height\": 600, \"template\": {\"data\": {\"bar\": [{\"error_x\": {\"color\": \"#2a3f5f\"}, \"error_y\": {\"color\": \"#2a3f5f\"}, \"marker\": {\"line\": {\"color\": \"#E5ECF6\", \"width\": 0.5}}, \"type\": \"bar\"}], \"barpolar\": [{\"marker\": {\"line\": {\"color\": \"#E5ECF6\", \"width\": 0.5}}, \"type\": \"barpolar\"}], \"carpet\": [{\"aaxis\": {\"endlinecolor\": \"#2a3f5f\", \"gridcolor\": \"white\", \"linecolor\": \"white\", \"minorgridcolor\": \"white\", \"startlinecolor\": \"#2a3f5f\"}, \"baxis\": {\"endlinecolor\": \"#2a3f5f\", \"gridcolor\": \"white\", \"linecolor\": \"white\", \"minorgridcolor\": \"white\", \"startlinecolor\": \"#2a3f5f\"}, \"type\": \"carpet\"}], \"choropleth\": [{\"colorbar\": {\"outlinewidth\": 0, \"ticks\": \"\"}, \"type\": \"choropleth\"}], \"contour\": [{\"colorbar\": {\"outlinewidth\": 0, \"ticks\": \"\"}, \"colorscale\": [[0.0, \"#0d0887\"], [0.1111111111111111, \"#46039f\"], [0.2222222222222222, \"#7201a8\"], [0.3333333333333333, \"#9c179e\"], [0.4444444444444444, \"#bd3786\"], [0.5555555555555556, \"#d8576b\"], [0.6666666666666666, \"#ed7953\"], [0.7777777777777778, \"#fb9f3a\"], [0.8888888888888888, \"#fdca26\"], [1.0, \"#f0f921\"]], \"type\": \"contour\"}], \"contourcarpet\": [{\"colorbar\": {\"outlinewidth\": 0, \"ticks\": \"\"}, \"type\": \"contourcarpet\"}], \"heatmap\": [{\"colorbar\": {\"outlinewidth\": 0, \"ticks\": \"\"}, \"colorscale\": [[0.0, \"#0d0887\"], [0.1111111111111111, \"#46039f\"], [0.2222222222222222, \"#7201a8\"], [0.3333333333333333, \"#9c179e\"], [0.4444444444444444, \"#bd3786\"], [0.5555555555555556, \"#d8576b\"], [0.6666666666666666, \"#ed7953\"], [0.7777777777777778, \"#fb9f3a\"], [0.8888888888888888, \"#fdca26\"], [1.0, \"#f0f921\"]], \"type\": \"heatmap\"}], \"heatmapgl\": [{\"colorbar\": {\"outlinewidth\": 0, \"ticks\": \"\"}, \"colorscale\": [[0.0, \"#0d0887\"], [0.1111111111111111, \"#46039f\"], [0.2222222222222222, \"#7201a8\"], [0.3333333333333333, \"#9c179e\"], [0.4444444444444444, \"#bd3786\"], [0.5555555555555556, \"#d8576b\"], [0.6666666666666666, \"#ed7953\"], [0.7777777777777778, \"#fb9f3a\"], [0.8888888888888888, \"#fdca26\"], [1.0, \"#f0f921\"]], \"type\": \"heatmapgl\"}], \"histogram\": [{\"marker\": {\"colorbar\": {\"outlinewidth\": 0, \"ticks\": \"\"}}, \"type\": \"histogram\"}], \"histogram2d\": [{\"colorbar\": {\"outlinewidth\": 0, \"ticks\": \"\"}, \"colorscale\": [[0.0, \"#0d0887\"], [0.1111111111111111, \"#46039f\"], [0.2222222222222222, \"#7201a8\"], [0.3333333333333333, \"#9c179e\"], [0.4444444444444444, \"#bd3786\"], [0.5555555555555556, \"#d8576b\"], [0.6666666666666666, \"#ed7953\"], [0.7777777777777778, \"#fb9f3a\"], [0.8888888888888888, \"#fdca26\"], [1.0, \"#f0f921\"]], \"type\": \"histogram2d\"}], \"histogram2dcontour\": [{\"colorbar\": {\"outlinewidth\": 0, \"ticks\": \"\"}, \"colorscale\": [[0.0, \"#0d0887\"], [0.1111111111111111, \"#46039f\"], [0.2222222222222222, \"#7201a8\"], [0.3333333333333333, \"#9c179e\"], [0.4444444444444444, \"#bd3786\"], [0.5555555555555556, \"#d8576b\"], [0.6666666666666666, \"#ed7953\"], [0.7777777777777778, \"#fb9f3a\"], [0.8888888888888888, \"#fdca26\"], [1.0, \"#f0f921\"]], \"type\": \"histogram2dcontour\"}], \"mesh3d\": [{\"colorbar\": {\"outlinewidth\": 0, \"ticks\": \"\"}, \"type\": \"mesh3d\"}], \"parcoords\": [{\"line\": {\"colorbar\": {\"outlinewidth\": 0, \"ticks\": \"\"}}, \"type\": \"parcoords\"}], \"pie\": [{\"automargin\": true, \"type\": \"pie\"}], \"scatter\": [{\"marker\": {\"colorbar\": {\"outlinewidth\": 0, \"ticks\": \"\"}}, \"type\": \"scatter\"}], \"scatter3d\": [{\"line\": {\"colorbar\": {\"outlinewidth\": 0, \"ticks\": \"\"}}, \"marker\": {\"colorbar\": {\"outlinewidth\": 0, \"ticks\": \"\"}}, \"type\": \"scatter3d\"}], \"scattercarpet\": [{\"marker\": {\"colorbar\": {\"outlinewidth\": 0, \"ticks\": \"\"}}, \"type\": \"scattercarpet\"}], \"scattergeo\": [{\"marker\": {\"colorbar\": {\"outlinewidth\": 0, \"ticks\": \"\"}}, \"type\": \"scattergeo\"}], \"scattergl\": [{\"marker\": {\"colorbar\": {\"outlinewidth\": 0, \"ticks\": \"\"}}, \"type\": \"scattergl\"}], \"scattermapbox\": [{\"marker\": {\"colorbar\": {\"outlinewidth\": 0, \"ticks\": \"\"}}, \"type\": \"scattermapbox\"}], \"scatterpolar\": [{\"marker\": {\"colorbar\": {\"outlinewidth\": 0, \"ticks\": \"\"}}, \"type\": \"scatterpolar\"}], \"scatterpolargl\": [{\"marker\": {\"colorbar\": {\"outlinewidth\": 0, \"ticks\": \"\"}}, \"type\": \"scatterpolargl\"}], \"scatterternary\": [{\"marker\": {\"colorbar\": {\"outlinewidth\": 0, \"ticks\": \"\"}}, \"type\": \"scatterternary\"}], \"surface\": [{\"colorbar\": {\"outlinewidth\": 0, \"ticks\": \"\"}, \"colorscale\": [[0.0, \"#0d0887\"], [0.1111111111111111, \"#46039f\"], [0.2222222222222222, \"#7201a8\"], [0.3333333333333333, \"#9c179e\"], [0.4444444444444444, \"#bd3786\"], [0.5555555555555556, \"#d8576b\"], [0.6666666666666666, \"#ed7953\"], [0.7777777777777778, \"#fb9f3a\"], [0.8888888888888888, \"#fdca26\"], [1.0, \"#f0f921\"]], \"type\": \"surface\"}], \"table\": [{\"cells\": {\"fill\": {\"color\": \"#EBF0F8\"}, \"line\": {\"color\": \"white\"}}, \"header\": {\"fill\": {\"color\": \"#C8D4E3\"}, \"line\": {\"color\": \"white\"}}, \"type\": \"table\"}]}, \"layout\": {\"annotationdefaults\": {\"arrowcolor\": \"#2a3f5f\", \"arrowhead\": 0, \"arrowwidth\": 1}, \"coloraxis\": {\"colorbar\": {\"outlinewidth\": 0, \"ticks\": \"\"}}, \"colorscale\": {\"diverging\": [[0, \"#8e0152\"], [0.1, \"#c51b7d\"], [0.2, \"#de77ae\"], [0.3, \"#f1b6da\"], [0.4, \"#fde0ef\"], [0.5, \"#f7f7f7\"], [0.6, \"#e6f5d0\"], [0.7, \"#b8e186\"], [0.8, \"#7fbc41\"], [0.9, \"#4d9221\"], [1, \"#276419\"]], \"sequential\": [[0.0, \"#0d0887\"], [0.1111111111111111, \"#46039f\"], [0.2222222222222222, \"#7201a8\"], [0.3333333333333333, \"#9c179e\"], [0.4444444444444444, \"#bd3786\"], [0.5555555555555556, \"#d8576b\"], [0.6666666666666666, \"#ed7953\"], [0.7777777777777778, \"#fb9f3a\"], [0.8888888888888888, \"#fdca26\"], [1.0, \"#f0f921\"]], \"sequentialminus\": [[0.0, \"#0d0887\"], [0.1111111111111111, \"#46039f\"], [0.2222222222222222, \"#7201a8\"], [0.3333333333333333, \"#9c179e\"], [0.4444444444444444, \"#bd3786\"], [0.5555555555555556, \"#d8576b\"], [0.6666666666666666, \"#ed7953\"], [0.7777777777777778, \"#fb9f3a\"], [0.8888888888888888, \"#fdca26\"], [1.0, \"#f0f921\"]]}, \"colorway\": [\"#636efa\", \"#EF553B\", \"#00cc96\", \"#ab63fa\", \"#FFA15A\", \"#19d3f3\", \"#FF6692\", \"#B6E880\", \"#FF97FF\", \"#FECB52\"], \"font\": {\"color\": \"#2a3f5f\"}, \"geo\": {\"bgcolor\": \"white\", \"lakecolor\": \"white\", \"landcolor\": \"#E5ECF6\", \"showlakes\": true, \"showland\": true, \"subunitcolor\": \"white\"}, \"hoverlabel\": {\"align\": \"left\"}, \"hovermode\": \"closest\", \"mapbox\": {\"style\": \"light\"}, \"paper_bgcolor\": \"white\", \"plot_bgcolor\": \"#E5ECF6\", \"polar\": {\"angularaxis\": {\"gridcolor\": \"white\", \"linecolor\": \"white\", \"ticks\": \"\"}, \"bgcolor\": \"#E5ECF6\", \"radialaxis\": {\"gridcolor\": \"white\", \"linecolor\": \"white\", \"ticks\": \"\"}}, \"scene\": {\"xaxis\": {\"backgroundcolor\": \"#E5ECF6\", \"gridcolor\": \"white\", \"gridwidth\": 2, \"linecolor\": \"white\", \"showbackground\": true, \"ticks\": \"\", \"zerolinecolor\": \"white\"}, \"yaxis\": {\"backgroundcolor\": \"#E5ECF6\", \"gridcolor\": \"white\", \"gridwidth\": 2, \"linecolor\": \"white\", \"showbackground\": true, \"ticks\": \"\", \"zerolinecolor\": \"white\"}, \"zaxis\": {\"backgroundcolor\": \"#E5ECF6\", \"gridcolor\": \"white\", \"gridwidth\": 2, \"linecolor\": \"white\", \"showbackground\": true, \"ticks\": \"\", \"zerolinecolor\": \"white\"}}, \"shapedefaults\": {\"line\": {\"color\": \"#2a3f5f\"}}, \"ternary\": {\"aaxis\": {\"gridcolor\": \"white\", \"linecolor\": \"white\", \"ticks\": \"\"}, \"baxis\": {\"gridcolor\": \"white\", \"linecolor\": \"white\", \"ticks\": \"\"}, \"bgcolor\": \"#E5ECF6\", \"caxis\": {\"gridcolor\": \"white\", \"linecolor\": \"white\", \"ticks\": \"\"}}, \"title\": {\"x\": 0.05}, \"xaxis\": {\"automargin\": true, \"gridcolor\": \"white\", \"linecolor\": \"white\", \"ticks\": \"\", \"title\": {\"standoff\": 15}, \"zerolinecolor\": \"white\", \"zerolinewidth\": 2}, \"yaxis\": {\"automargin\": true, \"gridcolor\": \"white\", \"linecolor\": \"white\", \"ticks\": \"\", \"title\": {\"standoff\": 15}, \"zerolinecolor\": \"white\", \"zerolinewidth\": 2}}}, \"title\": {\"text\": \"Number of tweets per location\"}, \"width\": 600},\n",
              "                        {\"responsive\": true}\n",
              "                    ).then(function(){\n",
              "                            \n",
              "var gd = document.getElementById('4ec1ea3b-155f-41c9-afaf-7534ddba4265');\n",
              "var x = new MutationObserver(function (mutations, observer) {{\n",
              "        var display = window.getComputedStyle(gd).display;\n",
              "        if (!display || display === 'none') {{\n",
              "            console.log([gd, 'removed!']);\n",
              "            Plotly.purge(gd);\n",
              "            observer.disconnect();\n",
              "        }}\n",
              "}});\n",
              "\n",
              "// Listen for the removal of the full notebook cells\n",
              "var notebookContainer = gd.closest('#notebook-container');\n",
              "if (notebookContainer) {{\n",
              "    x.observe(notebookContainer, {childList: true});\n",
              "}}\n",
              "\n",
              "// Listen for the clearing of the current output cell\n",
              "var outputEl = gd.closest('.output');\n",
              "if (outputEl) {{\n",
              "    x.observe(outputEl, {childList: true});\n",
              "}}\n",
              "\n",
              "                        })\n",
              "                };\n",
              "                \n",
              "            </script>\n",
              "        </div>\n",
              "</body>\n",
              "</html>"
            ]
          },
          "metadata": {
            "tags": []
          }
        }
      ]
    },
    {
      "cell_type": "code",
      "metadata": {
        "colab": {
          "base_uri": "https://localhost:8080/",
          "height": 295
        },
        "id": "bPJDfPEU2bty",
        "outputId": "98a38c03-8154-477b-fdf8-4db78bc28704"
      },
      "source": [
        "ds = tweets['all_hashtags'].value_counts().reset_index()\n",
        "ds.columns = ['all_hashtags', 'count']\n",
        "ds = ds.sort_values(['count'],ascending=False)\n",
        "fig = sns.barplot(\n",
        "    x=ds.head(10)[\"count\"], \n",
        "    y=ds.head(10)['all_hashtags'], \n",
        "    orientation='horizontal', \n",
        "    #title='Top 20 hashtags', \n",
        "    #width=800, \n",
        "    #height=700\n",
        ").set_title('Top 10 hashtags')"
      ],
      "execution_count": 6,
      "outputs": [
        {
          "output_type": "display_data",
          "data": {
            "image/png": "[encoded data removed]",
            "text/plain": [
              "<Figure size 432x288 with 1 Axes>"
            ]
          },
          "metadata": {
            "tags": [],
            "needs_background": "light"
          }
        }
      ]
    },
    {
      "cell_type": "code",
      "metadata": {
        "id": "hJpkDEYoQeRW"
      },
      "source": [
        "#Functions to clean Tweets\n",
        "\n",
        "def remove_tag(string):\n",
        "    tweet_text=re.sub('<.*?>','',string)\n",
        "    return tweet_text\n",
        "def remove_mention(tweet_text):\n",
        "    line=re.sub(r'@\\w+','',tweet_text)\n",
        "    return line\n",
        "def remove_hash(tweet_text):\n",
        "    line=re.sub(r'#\\w+','',tweet_text)\n",
        "    return line\n",
        "\n",
        "def remove_newline(string):\n",
        "    tweet_text=re.sub('\\n','',string)\n",
        "    return tweet_text\n",
        "def remove_url(string): \n",
        "    tweet_text = re.sub('http[s]?://(?:[a-zA-Z]|[0-9]|[$-_@.&+]|[!*\\(\\),]|(?:%[0-9a-fA-F][0-9a-fA-F]))+','',string)\n",
        "    return tweet_text\n",
        "def remove_number(tweet_text):\n",
        "    line=re.sub(r'[0-9]+','',tweet_text)\n",
        "    return line\n",
        "def remove_punct(tweet_text):\n",
        "    line = re.sub(r'[!\"\\$%&\\'()*+,\\-.\\/:;=#@?\\[\\\\\\]^_`{|}~]*','',tweet_text)\n",
        "    return line\n",
        "def text_strip(string):\n",
        "    line=re.sub('\\s{2,}', ' ', string.strip())\n",
        "    return line\n",
        "\n"
      ],
      "execution_count": 7,
      "outputs": []
    },
    {
      "cell_type": "code",
      "metadata": {
        "id": "EbyPFD1m-dQd",
        "colab": {
          "base_uri": "https://localhost:8080/"
        },
        "outputId": "1b531c83-bcfa-4299-94b7-4523705722fe"
      },
      "source": [
        "!pip install nltk #installing NLTK Package"
      ],
      "execution_count": 8,
      "outputs": [
        {
          "output_type": "stream",
          "text": [
            "Requirement already satisfied: nltk in /usr/local/lib/python3.6/dist-packages (3.2.5)\n",
            "Requirement already satisfied: six in /usr/local/lib/python3.6/dist-packages (from nltk) (1.15.0)\n"
          ],
          "name": "stdout"
        }
      ]
    },
    {
      "cell_type": "code",
      "metadata": {
        "id": "kiRzYjf2RCOf",
        "colab": {
          "base_uri": "https://localhost:8080/"
        },
        "outputId": "a1e94499-e2ea-4d9c-ff76-3ee1639f87be"
      },
      "source": [
        "#Clensing the tweets\n",
        "\n",
        "import nltk\n",
        "import json\n",
        "import csv\n",
        "import tweepy\n",
        "import re\n",
        "import os\n",
        "\n",
        "\n",
        "tweets['refine_text']=tweets['tweet_text'].str.lower()\n",
        "tweets['refine_text'] = tweets['refine_text'].str[2:]\n",
        "tweets['refine_text']=tweets['refine_text'].apply(lambda x:remove_tag(str(x)))\n",
        "tweets['refine_text']=tweets['refine_text'].apply(lambda x:remove_mention(str(x)))\n",
        "tweets['refine_text']=tweets['refine_text'].apply(lambda x:remove_hash(str(x)))\n",
        "tweets['refine_text']=tweets['refine_text'].apply(lambda x:remove_newline(x))\n",
        "tweets['refine_text']=tweets['refine_text'].apply(lambda x:remove_url(x))\n",
        "tweets['refine_text']=tweets['refine_text'].apply(lambda x:remove_number(x))\n",
        "tweets['refine_text']=tweets['refine_text'].apply(lambda x:remove_punct(x))\n",
        "\n",
        "tweets['refine_text']=tweets['refine_text'].apply(lambda x:text_strip(x))\n",
        "\n",
        "tweets['text_length']=tweets['refine_text'].str.split().map(lambda x: len(x))\n",
        "\n",
        "#Remove noise\n",
        "tweets['refine_text'] = tweets['refine_text'].str.replace('[^\\w\\s]','')\n",
        "\n",
        "\n",
        "#Remove stopwords\n",
        "nltk.download('stopwords')\n",
        "from nltk.corpus import stopwords\n",
        "stop = stopwords.words('english')\n",
        "stop.extend(['amp','r','j','v','u','xcxa','via','xexcx','th','ipl','final','v','from','xexcxxefxbxf','xfxfxaxa','xfxfxx','xfxfxcxb','xfxfxxf','xfxfxx', 'xfxfxxd','xfxfxxa','i','the','we','it', 'subject', 're', 'edu', 'use'])\n",
        "tweets['refine_text'] = tweets['refine_text'].apply(lambda x: \" \".join(x for x in x.split() if x not in stop))\n",
        "\n",
        "\n",
        "\n",
        "#stemming\n",
        "from nltk.stem import PorterStemmer\n",
        "st = PorterStemmer()\n",
        "tweets['refine_text'][:5].apply(lambda x: \" \".join([st.stem(word) for word in x.split()]))\n",
        "\n",
        "#lemmatization\n",
        "!pip install -U textblob\n",
        "from textblob import Word\n",
        "import nltk\n",
        "nltk.download('wordnet')\n",
        "\n",
        "tweets['refine_text'] = tweets['refine_text'].apply(lambda x: \" \".join([Word(word).lemmatize() for word in x.split()]))\n"
      ],
      "execution_count": 9,
      "outputs": [
        {
          "output_type": "stream",
          "text": [
            "[nltk_data] Downloading package stopwords to /root/nltk_data...\n",
            "[nltk_data]   Unzipping corpora/stopwords.zip.\n",
            "Requirement already up-to-date: textblob in /usr/local/lib/python3.6/dist-packages (0.15.3)\n",
            "Requirement already satisfied, skipping upgrade: nltk>=3.1 in /usr/local/lib/python3.6/dist-packages (from textblob) (3.2.5)\n",
            "Requirement already satisfied, skipping upgrade: six in /usr/local/lib/python3.6/dist-packages (from nltk>=3.1->textblob) (1.15.0)\n",
            "[nltk_data] Downloading package wordnet to /root/nltk_data...\n",
            "[nltk_data]   Unzipping corpora/wordnet.zip.\n"
          ],
          "name": "stdout"
        }
      ]
    },
    {
      "cell_type": "code",
      "metadata": {
        "colab": {
          "base_uri": "https://localhost:8080/"
        },
        "id": "NmvN8X6lEgeX",
        "outputId": "cd41c534-6906-47de-e7b1-2f0450a1a4b0"
      },
      "source": [
        "tweets['refine_text']"
      ],
      "execution_count": 10,
      "outputs": [
        {
          "output_type": "execute_result",
          "data": {
            "text/plain": [
              "0      look youngster priyam garg kane williamson mas...\n",
              "1                        mrxcxb dangerous animal cricket\n",
              "2      great thing happen dont stop believing trying ...\n",
              "3      natarajan made mark yorkers xfxfxxc see play t...\n",
              "4                           marcus stoinis warning check\n",
              "                             ...                        \n",
              "995    congratulation entering final first time keep ...\n",
              "996    well played ur fight back frm ending rd place ...\n",
              "997    shikhar dhawan would take another former team ...\n",
              "998    winning heart art kane williamson artistxexdxa...\n",
              "999         dilli tu roar macha xfxfxaxxfxfxx made first\n",
              "Name: refine_text, Length: 1000, dtype: object"
            ]
          },
          "metadata": {
            "tags": []
          },
          "execution_count": 10
        }
      ]
    },
    {
      "cell_type": "code",
      "metadata": {
        "id": "AuKl4G8DgAtD"
      },
      "source": [
        "#Saaving the clensed data to a new CSV file\n",
        "tweets.to_csv('clean_tweets.csv') "
      ],
      "execution_count": 11,
      "outputs": []
    },
    {
      "cell_type": "code",
      "metadata": {
        "id": "TVT96iN-nTOX"
      },
      "source": [
        "# importing pandas module  \n",
        "import pandas as pd \n",
        "  \n",
        "# importing module for regex \n",
        "import re \n",
        "# importing numpy module \n",
        "import numpy as np\n",
        "# importing P=mathplot lib\n",
        "import matplotlib.pyplot as plt\n",
        "# reading csv file from url  \n",
        "dat = pd.read_csv(\"/content/clean_tweets.csv\")\n",
        "selected_columns = dat[[\"refine_text\"]]\n",
        "data = selected_columns.copy()\n"
      ],
      "execution_count": 12,
      "outputs": []
    },
    {
      "cell_type": "code",
      "metadata": {
        "id": "NJAN6oDhnTRT"
      },
      "source": [
        "# count of occurrence of each team mentions and creating new column \n",
        "data[\"count1\"]= data[\"refine_text\"].str.count(\"csk\", re.I) \n",
        "data[\"count2\"]= data[\"refine_text\"].str.count( \"DC\", re.I) \n",
        "data[\"count3\"]= data[\"refine_text\"].str.count( \"KXIP\", re.I) \n",
        "data[\"count4\"]= data[\"refine_text\"].str.count( \"KKR\", re.I) \n",
        "data[\"count5\"]= data[\"refine_text\"].str.count( \"MI\", re.I) \n",
        "data[\"count6\"]= data[\"refine_text\"].str.count( \"RR\", re.I) \n",
        "data[\"count7\"]= data[\"refine_text\"].str.count( \"RCB\", re.I) \n",
        "data[\"count8\"]= data[\"refine_text\"].str.count( \"SRH\", re.I)"
      ],
      "execution_count": 13,
      "outputs": []
    },
    {
      "cell_type": "code",
      "metadata": {
        "id": "4jh3_upAnTUs"
      },
      "source": [
        "# count of occurrence of each team mention with their state name and creating new column \n",
        "data[\"count11\"]= data[\"refine_text\"].str.count(\"Chennai\", re.I) \n",
        "data[\"count22\"]= data[\"refine_text\"].str.count( \"Delhi\", re.I) \n",
        "data[\"count33\"]= data[\"refine_text\"].str.count( \"Punjab\", re.I) \n",
        "data[\"count44\"]= data[\"refine_text\"].str.count( \"Kolkata\", re.I) \n",
        "data[\"count55\"]= data[\"refine_text\"].str.count( \"Mumbai\", re.I) \n",
        "data[\"count66\"]= data[\"refine_text\"].str.count( \"Rajasthan\", re.I) \n",
        "data[\"count77\"]= data[\"refine_text\"].str.count( \"Bangalore\", re.I) \n",
        "data[\"count88\"]= data[\"refine_text\"].str.count( \"Hyderabad\", re.I)"
      ],
      "execution_count": 14,
      "outputs": []
    },
    {
      "cell_type": "code",
      "metadata": {
        "id": "qkInndSxnTXt"
      },
      "source": [
        "#aggrigating the total mentions\n",
        "data[\"csk\"] = data[\"count1\"] + data[\"count11\"]\n",
        "data[\"DC\"] = data[\"count2\"] + data[\"count22\"]\n",
        "data[\"KXIP\"]= data[\"count3\"] + data[\"count33\"]\n",
        "data[\"KKR\"]= data[\"count4\"] + data[\"count44\"]\n",
        "data[\"MI\"]= data[\"count5\"] + data[\"count55\"]\n",
        "data[\"RR\"]= data[\"count6\"] + data[\"count66\"]\n",
        "data[\"RCB\"]= data[\"count7\"] + data[\"count77\"]\n",
        "data[\"SRH\"]= data[\"count8\"] + data[\"count88\"]"
      ],
      "execution_count": 15,
      "outputs": []
    },
    {
      "cell_type": "code",
      "metadata": {
        "id": "xyfsV-NhALO4",
        "colab": {
          "base_uri": "https://localhost:8080/",
          "height": 993
        },
        "outputId": "77e93709-8388-46ba-f499-e064b8d8e59b"
      },
      "source": [
        "data"
      ],
      "execution_count": 16,
      "outputs": [
        {
          "output_type": "execute_result",
          "data": {
            "text/html": [
              "<div>\n",
              "<style scoped>\n",
              "    .dataframe tbody tr th:only-of-type {\n",
              "        vertical-align: middle;\n",
              "    }\n",
              "\n",
              "    .dataframe tbody tr th {\n",
              "        vertical-align: top;\n",
              "    }\n",
              "\n",
              "    .dataframe thead th {\n",
              "        text-align: right;\n",
              "    }\n",
              "</style>\n",
              "<table border=\"1\" class=\"dataframe\">\n",
              "  <thead>\n",
              "    <tr style=\"text-align: right;\">\n",
              "      <th></th>\n",
              "      <th>refine_text</th>\n",
              "      <th>count1</th>\n",
              "      <th>count2</th>\n",
              "      <th>count3</th>\n",
              "      <th>count4</th>\n",
              "      <th>count5</th>\n",
              "      <th>count6</th>\n",
              "      <th>count7</th>\n",
              "      <th>count8</th>\n",
              "      <th>count11</th>\n",
              "      <th>count22</th>\n",
              "      <th>count33</th>\n",
              "      <th>count44</th>\n",
              "      <th>count55</th>\n",
              "      <th>count66</th>\n",
              "      <th>count77</th>\n",
              "      <th>count88</th>\n",
              "      <th>csk</th>\n",
              "      <th>DC</th>\n",
              "      <th>KXIP</th>\n",
              "      <th>KKR</th>\n",
              "      <th>MI</th>\n",
              "      <th>RR</th>\n",
              "      <th>RCB</th>\n",
              "      <th>SRH</th>\n",
              "    </tr>\n",
              "  </thead>\n",
              "  <tbody>\n",
              "    <tr>\n",
              "      <th>0</th>\n",
              "      <td>look youngster priyam garg kane williamson mas...</td>\n",
              "      <td>0.0</td>\n",
              "      <td>0.0</td>\n",
              "      <td>0.0</td>\n",
              "      <td>0.0</td>\n",
              "      <td>0.0</td>\n",
              "      <td>0.0</td>\n",
              "      <td>0.0</td>\n",
              "      <td>0.0</td>\n",
              "      <td>0.0</td>\n",
              "      <td>0.0</td>\n",
              "      <td>0.0</td>\n",
              "      <td>0.0</td>\n",
              "      <td>0.0</td>\n",
              "      <td>0.0</td>\n",
              "      <td>0.0</td>\n",
              "      <td>0.0</td>\n",
              "      <td>0.0</td>\n",
              "      <td>0.0</td>\n",
              "      <td>0.0</td>\n",
              "      <td>0.0</td>\n",
              "      <td>0.0</td>\n",
              "      <td>0.0</td>\n",
              "      <td>0.0</td>\n",
              "      <td>0.0</td>\n",
              "    </tr>\n",
              "    <tr>\n",
              "      <th>1</th>\n",
              "      <td>mrxcxb dangerous animal cricket</td>\n",
              "      <td>0.0</td>\n",
              "      <td>0.0</td>\n",
              "      <td>0.0</td>\n",
              "      <td>0.0</td>\n",
              "      <td>0.0</td>\n",
              "      <td>0.0</td>\n",
              "      <td>0.0</td>\n",
              "      <td>0.0</td>\n",
              "      <td>0.0</td>\n",
              "      <td>0.0</td>\n",
              "      <td>0.0</td>\n",
              "      <td>0.0</td>\n",
              "      <td>0.0</td>\n",
              "      <td>0.0</td>\n",
              "      <td>0.0</td>\n",
              "      <td>0.0</td>\n",
              "      <td>0.0</td>\n",
              "      <td>0.0</td>\n",
              "      <td>0.0</td>\n",
              "      <td>0.0</td>\n",
              "      <td>0.0</td>\n",
              "      <td>0.0</td>\n",
              "      <td>0.0</td>\n",
              "      <td>0.0</td>\n",
              "    </tr>\n",
              "    <tr>\n",
              "      <th>2</th>\n",
              "      <td>great thing happen dont stop believing trying ...</td>\n",
              "      <td>0.0</td>\n",
              "      <td>0.0</td>\n",
              "      <td>0.0</td>\n",
              "      <td>0.0</td>\n",
              "      <td>0.0</td>\n",
              "      <td>0.0</td>\n",
              "      <td>0.0</td>\n",
              "      <td>0.0</td>\n",
              "      <td>0.0</td>\n",
              "      <td>0.0</td>\n",
              "      <td>0.0</td>\n",
              "      <td>0.0</td>\n",
              "      <td>0.0</td>\n",
              "      <td>0.0</td>\n",
              "      <td>0.0</td>\n",
              "      <td>0.0</td>\n",
              "      <td>0.0</td>\n",
              "      <td>0.0</td>\n",
              "      <td>0.0</td>\n",
              "      <td>0.0</td>\n",
              "      <td>0.0</td>\n",
              "      <td>0.0</td>\n",
              "      <td>0.0</td>\n",
              "      <td>0.0</td>\n",
              "    </tr>\n",
              "    <tr>\n",
              "      <th>3</th>\n",
              "      <td>natarajan made mark yorkers xfxfxxc see play t...</td>\n",
              "      <td>0.0</td>\n",
              "      <td>0.0</td>\n",
              "      <td>0.0</td>\n",
              "      <td>0.0</td>\n",
              "      <td>0.0</td>\n",
              "      <td>0.0</td>\n",
              "      <td>0.0</td>\n",
              "      <td>0.0</td>\n",
              "      <td>0.0</td>\n",
              "      <td>0.0</td>\n",
              "      <td>0.0</td>\n",
              "      <td>0.0</td>\n",
              "      <td>0.0</td>\n",
              "      <td>0.0</td>\n",
              "      <td>0.0</td>\n",
              "      <td>0.0</td>\n",
              "      <td>0.0</td>\n",
              "      <td>0.0</td>\n",
              "      <td>0.0</td>\n",
              "      <td>0.0</td>\n",
              "      <td>0.0</td>\n",
              "      <td>0.0</td>\n",
              "      <td>0.0</td>\n",
              "      <td>0.0</td>\n",
              "    </tr>\n",
              "    <tr>\n",
              "      <th>4</th>\n",
              "      <td>marcus stoinis warning check</td>\n",
              "      <td>0.0</td>\n",
              "      <td>0.0</td>\n",
              "      <td>0.0</td>\n",
              "      <td>0.0</td>\n",
              "      <td>0.0</td>\n",
              "      <td>0.0</td>\n",
              "      <td>0.0</td>\n",
              "      <td>0.0</td>\n",
              "      <td>0.0</td>\n",
              "      <td>0.0</td>\n",
              "      <td>0.0</td>\n",
              "      <td>0.0</td>\n",
              "      <td>0.0</td>\n",
              "      <td>0.0</td>\n",
              "      <td>0.0</td>\n",
              "      <td>0.0</td>\n",
              "      <td>0.0</td>\n",
              "      <td>0.0</td>\n",
              "      <td>0.0</td>\n",
              "      <td>0.0</td>\n",
              "      <td>0.0</td>\n",
              "      <td>0.0</td>\n",
              "      <td>0.0</td>\n",
              "      <td>0.0</td>\n",
              "    </tr>\n",
              "    <tr>\n",
              "      <th>...</th>\n",
              "      <td>...</td>\n",
              "      <td>...</td>\n",
              "      <td>...</td>\n",
              "      <td>...</td>\n",
              "      <td>...</td>\n",
              "      <td>...</td>\n",
              "      <td>...</td>\n",
              "      <td>...</td>\n",
              "      <td>...</td>\n",
              "      <td>...</td>\n",
              "      <td>...</td>\n",
              "      <td>...</td>\n",
              "      <td>...</td>\n",
              "      <td>...</td>\n",
              "      <td>...</td>\n",
              "      <td>...</td>\n",
              "      <td>...</td>\n",
              "      <td>...</td>\n",
              "      <td>...</td>\n",
              "      <td>...</td>\n",
              "      <td>...</td>\n",
              "      <td>...</td>\n",
              "      <td>...</td>\n",
              "      <td>...</td>\n",
              "      <td>...</td>\n",
              "    </tr>\n",
              "    <tr>\n",
              "      <th>995</th>\n",
              "      <td>congratulation entering final first time keep ...</td>\n",
              "      <td>0.0</td>\n",
              "      <td>0.0</td>\n",
              "      <td>0.0</td>\n",
              "      <td>0.0</td>\n",
              "      <td>0.0</td>\n",
              "      <td>0.0</td>\n",
              "      <td>0.0</td>\n",
              "      <td>0.0</td>\n",
              "      <td>0.0</td>\n",
              "      <td>0.0</td>\n",
              "      <td>0.0</td>\n",
              "      <td>0.0</td>\n",
              "      <td>0.0</td>\n",
              "      <td>0.0</td>\n",
              "      <td>0.0</td>\n",
              "      <td>0.0</td>\n",
              "      <td>0.0</td>\n",
              "      <td>0.0</td>\n",
              "      <td>0.0</td>\n",
              "      <td>0.0</td>\n",
              "      <td>0.0</td>\n",
              "      <td>0.0</td>\n",
              "      <td>0.0</td>\n",
              "      <td>0.0</td>\n",
              "    </tr>\n",
              "    <tr>\n",
              "      <th>996</th>\n",
              "      <td>well played ur fight back frm ending rd place ...</td>\n",
              "      <td>0.0</td>\n",
              "      <td>0.0</td>\n",
              "      <td>0.0</td>\n",
              "      <td>0.0</td>\n",
              "      <td>0.0</td>\n",
              "      <td>0.0</td>\n",
              "      <td>0.0</td>\n",
              "      <td>0.0</td>\n",
              "      <td>0.0</td>\n",
              "      <td>0.0</td>\n",
              "      <td>0.0</td>\n",
              "      <td>0.0</td>\n",
              "      <td>0.0</td>\n",
              "      <td>0.0</td>\n",
              "      <td>0.0</td>\n",
              "      <td>0.0</td>\n",
              "      <td>0.0</td>\n",
              "      <td>0.0</td>\n",
              "      <td>0.0</td>\n",
              "      <td>0.0</td>\n",
              "      <td>0.0</td>\n",
              "      <td>0.0</td>\n",
              "      <td>0.0</td>\n",
              "      <td>0.0</td>\n",
              "    </tr>\n",
              "    <tr>\n",
              "      <th>997</th>\n",
              "      <td>shikhar dhawan would take another former team ...</td>\n",
              "      <td>0.0</td>\n",
              "      <td>0.0</td>\n",
              "      <td>0.0</td>\n",
              "      <td>0.0</td>\n",
              "      <td>0.0</td>\n",
              "      <td>0.0</td>\n",
              "      <td>0.0</td>\n",
              "      <td>0.0</td>\n",
              "      <td>0.0</td>\n",
              "      <td>0.0</td>\n",
              "      <td>0.0</td>\n",
              "      <td>0.0</td>\n",
              "      <td>0.0</td>\n",
              "      <td>0.0</td>\n",
              "      <td>0.0</td>\n",
              "      <td>0.0</td>\n",
              "      <td>0.0</td>\n",
              "      <td>0.0</td>\n",
              "      <td>0.0</td>\n",
              "      <td>0.0</td>\n",
              "      <td>0.0</td>\n",
              "      <td>0.0</td>\n",
              "      <td>0.0</td>\n",
              "      <td>0.0</td>\n",
              "    </tr>\n",
              "    <tr>\n",
              "      <th>998</th>\n",
              "      <td>winning heart art kane williamson artistxexdxa...</td>\n",
              "      <td>0.0</td>\n",
              "      <td>0.0</td>\n",
              "      <td>0.0</td>\n",
              "      <td>0.0</td>\n",
              "      <td>0.0</td>\n",
              "      <td>0.0</td>\n",
              "      <td>0.0</td>\n",
              "      <td>0.0</td>\n",
              "      <td>0.0</td>\n",
              "      <td>0.0</td>\n",
              "      <td>0.0</td>\n",
              "      <td>0.0</td>\n",
              "      <td>0.0</td>\n",
              "      <td>0.0</td>\n",
              "      <td>0.0</td>\n",
              "      <td>0.0</td>\n",
              "      <td>0.0</td>\n",
              "      <td>0.0</td>\n",
              "      <td>0.0</td>\n",
              "      <td>0.0</td>\n",
              "      <td>0.0</td>\n",
              "      <td>0.0</td>\n",
              "      <td>0.0</td>\n",
              "      <td>0.0</td>\n",
              "    </tr>\n",
              "    <tr>\n",
              "      <th>999</th>\n",
              "      <td>dilli tu roar macha xfxfxaxxfxfxx made first</td>\n",
              "      <td>0.0</td>\n",
              "      <td>0.0</td>\n",
              "      <td>0.0</td>\n",
              "      <td>0.0</td>\n",
              "      <td>0.0</td>\n",
              "      <td>0.0</td>\n",
              "      <td>0.0</td>\n",
              "      <td>0.0</td>\n",
              "      <td>0.0</td>\n",
              "      <td>0.0</td>\n",
              "      <td>0.0</td>\n",
              "      <td>0.0</td>\n",
              "      <td>0.0</td>\n",
              "      <td>0.0</td>\n",
              "      <td>0.0</td>\n",
              "      <td>0.0</td>\n",
              "      <td>0.0</td>\n",
              "      <td>0.0</td>\n",
              "      <td>0.0</td>\n",
              "      <td>0.0</td>\n",
              "      <td>0.0</td>\n",
              "      <td>0.0</td>\n",
              "      <td>0.0</td>\n",
              "      <td>0.0</td>\n",
              "    </tr>\n",
              "  </tbody>\n",
              "</table>\n",
              "<p>1000 rows × 25 columns</p>\n",
              "</div>"
            ],
            "text/plain": [
              "                                           refine_text  count1  ...  RCB  SRH\n",
              "0    look youngster priyam garg kane williamson mas...     0.0  ...  0.0  0.0\n",
              "1                      mrxcxb dangerous animal cricket     0.0  ...  0.0  0.0\n",
              "2    great thing happen dont stop believing trying ...     0.0  ...  0.0  0.0\n",
              "3    natarajan made mark yorkers xfxfxxc see play t...     0.0  ...  0.0  0.0\n",
              "4                         marcus stoinis warning check     0.0  ...  0.0  0.0\n",
              "..                                                 ...     ...  ...  ...  ...\n",
              "995  congratulation entering final first time keep ...     0.0  ...  0.0  0.0\n",
              "996  well played ur fight back frm ending rd place ...     0.0  ...  0.0  0.0\n",
              "997  shikhar dhawan would take another former team ...     0.0  ...  0.0  0.0\n",
              "998  winning heart art kane williamson artistxexdxa...     0.0  ...  0.0  0.0\n",
              "999       dilli tu roar macha xfxfxaxxfxfxx made first     0.0  ...  0.0  0.0\n",
              "\n",
              "[1000 rows x 25 columns]"
            ]
          },
          "metadata": {
            "tags": []
          },
          "execution_count": 16
        }
      ]
    },
    {
      "cell_type": "code",
      "metadata": {
        "id": "6qGDUXwAnTbM"
      },
      "source": [
        "#dropping the previous count coloumns to clean the dataframe\n",
        "data1=data.drop(['count1', 'count11','count2','count22','count3','count33','count4','count44','count5','count55','count6','count66','count7','count77','count8','count88'], axis=1)"
      ],
      "execution_count": 17,
      "outputs": []
    },
    {
      "cell_type": "code",
      "metadata": {
        "id": "5MK641dMnxbd"
      },
      "source": [
        "#aggrigating the total mentions team wise and saving the results to a dictionary\n",
        "dict = data1.sum(axis = 0, skipna = True)"
      ],
      "execution_count": 18,
      "outputs": []
    },
    {
      "cell_type": "code",
      "metadata": {
        "id": "oObZVTkHnxeJ",
        "colab": {
          "base_uri": "https://localhost:8080/"
        },
        "outputId": "985d9df9-4d95-43a9-fd70-ff3347671d5b"
      },
      "source": [
        "dict"
      ],
      "execution_count": 19,
      "outputs": [
        {
          "output_type": "execute_result",
          "data": {
            "text/plain": [
              "csk      53.0\n",
              "DC      261.0\n",
              "KXIP     23.0\n",
              "KKR      19.0\n",
              "MI      296.0\n",
              "RR       76.0\n",
              "RCB      69.0\n",
              "SRH      97.0\n",
              "dtype: float64"
            ]
          },
          "metadata": {
            "tags": []
          },
          "execution_count": 19
        }
      ]
    },
    {
      "cell_type": "code",
      "metadata": {
        "id": "k2H6xRznnxhw",
        "colab": {
          "base_uri": "https://localhost:8080/"
        },
        "outputId": "84e74df4-da60-44a7-d4bb-80dc7dcac4a5"
      },
      "source": [
        "#saving the values to an array to use the results to plot\n",
        "y= dict.values\n",
        "#z =np.delete(y, 0, 0)\n",
        "y.tolist()\n"
      ],
      "execution_count": 20,
      "outputs": [
        {
          "output_type": "execute_result",
          "data": {
            "text/plain": [
              "[53.0, 261.0, 23.0, 19.0, 296.0, 76.0, 69.0, 97.0]"
            ]
          },
          "metadata": {
            "tags": []
          },
          "execution_count": 20
        }
      ]
    },
    {
      "cell_type": "code",
      "metadata": {
        "id": "-E6F4RPQoH9b",
        "colab": {
          "base_uri": "https://localhost:8080/",
          "height": 336
        },
        "outputId": "2d0bb530-0fce-4853-95e0-69cff5f48e7e"
      },
      "source": [
        "#plotting the results\n",
        "fig = plt.figure()\n",
        "ax = fig.add_axes([0,0,1,1])\n",
        "q = [\"CSK\" ,\"DC\",\"KXIP\", \"KKR\",\"MI\",\"RR\",\"RCB\",\"SRH\"]\n",
        "ax.bar(q,y)\n",
        "plt.show()"
      ],
      "execution_count": 21,
      "outputs": [
        {
          "output_type": "display_data",
          "data": {
            "image/png": "[encoded data removed]",
            "text/plain": [
              "<Figure size 432x288 with 1 Axes>"
            ]
          },
          "metadata": {
            "tags": [],
            "needs_background": "light"
          }
        }
      ]
    },
    {
      "cell_type": "code",
      "metadata": {
        "id": "RMETrzwHTFKW",
        "colab": {
          "base_uri": "https://localhost:8080/",
          "height": 578
        },
        "outputId": "5300c219-3f6b-42d6-9029-384f2c8fb1be"
      },
      "source": [
        "#Importing the packages\n",
        "import pandas as pd\n",
        "import matplotlib.pyplot as plt\n",
        "from wordcloud import WordCloud\n",
        "from nltk.corpus import stopwords\n",
        "from textblob import TextBlob\n",
        "import numpy as np\n",
        "from nltk.sentiment.vader import SentimentIntensityAnalyzer\n",
        "import nltk\n",
        "nltk.download('stopwords')\n",
        "\n",
        "\n",
        "#Building a word cloud:\n",
        "words = pd.Series(tweets[\"refine_text\"].tolist()).astype(str)\n",
        "\n",
        "stop_words = [\"https\", \"co\", \"rt\"]\n",
        "stop = set(stopwords.words('english'))\n",
        "\n",
        "for i in range(0, len(words)):\n",
        "    words[i] = \" \".join([x for x in words[i].lower().split() if x not in stop_words])\n",
        "    words[i] = \" \".join([x for x in words[i].lower().split() if x not in stop])\n",
        "\n",
        "stop = set(stopwords.words('english'))    \n",
        "cloud = WordCloud(width=500, height=400,\n",
        "                  stopwords=(stop), \n",
        "                  colormap='hsv').generate(''.join(words.astype(str)))\n",
        "plt.figure(figsize=(10, 10))\n",
        "plt.imshow(cloud)\n",
        "plt.axis('off')\n",
        "plt.show()"
      ],
      "execution_count": 22,
      "outputs": [
        {
          "output_type": "stream",
          "text": [
            "/usr/local/lib/python3.6/dist-packages/nltk/twitter/__init__.py:20: UserWarning:\n",
            "\n",
            "The twython library has not been installed. Some functionality from the twitter package will not be available.\n",
            "\n"
          ],
          "name": "stderr"
        },
        {
          "output_type": "stream",
          "text": [
            "[nltk_data] Downloading package stopwords to /root/nltk_data...\n",
            "[nltk_data]   Package stopwords is already up-to-date!\n"
          ],
          "name": "stdout"
        },
        {
          "output_type": "display_data",
          "data": {
            "image/png": "[encoded data removed]",
            "text/plain": [
              "<Figure size 720x720 with 1 Axes>"
            ]
          },
          "metadata": {
            "tags": [],
            "needs_background": "light"
          }
        }
      ]
    },
    {
      "cell_type": "code",
      "metadata": {
        "id": "x-t1-HYfaq3_"
      },
      "source": [
        "\n",
        "import numpy as np \n",
        "import pandas as pd \n",
        "import os\n",
        "import itertools\n",
        "\n",
        "#plots\n",
        "import matplotlib.pyplot as plt\n",
        "import plotly.express as px\n",
        "import plotly.graph_objects as go\n",
        "import plotly.figure_factory as ff\n",
        "from plotly.colors import n_colors\n",
        "from plotly.subplots import make_subplots\n",
        "\n",
        "from wordcloud import WordCloud, STOPWORDS, ImageColorGenerator\n",
        "from sklearn.feature_extraction.text import CountVectorizer\n",
        "\n",
        "from PIL import Image\n",
        "from nltk.corpus import stopwords\n",
        "stop=set(stopwords.words('english'))\n",
        "from nltk.util import ngrams\n",
        "\n",
        "\n",
        "\n",
        "def ngram_df(corpus,nrange,n=None):\n",
        "    vec = CountVectorizer(stop_words = 'english',ngram_range=nrange).fit(corpus)\n",
        "    bag_of_words = vec.transform(corpus)\n",
        "    sum_words = bag_of_words.sum(axis=0) \n",
        "    words_freq = [(word, sum_words[0, idx]) for word, idx in vec.vocabulary_.items()]\n",
        "    words_freq =sorted(words_freq, key = lambda x: x[1], reverse=True)\n",
        "    total_list=words_freq[:n]\n",
        "    df=pd.DataFrame(total_list,columns=['text','count'])\n",
        "    return df\n",
        "unigram_df=ngram_df(tweets['refine_text'],(1,1),20)\n",
        "bigram_df=ngram_df(tweets['refine_text'],(2,2),20)\n",
        "trigram_df=ngram_df(tweets['refine_text'],(3,3),20)"
      ],
      "execution_count": 25,
      "outputs": []
    },
    {
      "cell_type": "code",
      "metadata": {
        "id": "-dnRWhxwbhrM",
        "colab": {
          "base_uri": "https://localhost:8080/",
          "height": 1000
        },
        "outputId": "1d086f34-25c3-433f-b8fa-ef790d48a090"
      },
      "source": [
        "bigram_df=ngram_df(tweets['refine_text'],(2,2),20)\n",
        "trigram_df=ngram_df(tweets['refine_text'],(3,3),20)\n",
        "fig = make_subplots(\n",
        "    rows=3, cols=1,subplot_titles=(\"Unigram\",\"Bigram\",'Trigram'),\n",
        "    specs=[[{\"type\": \"scatter\"}],\n",
        "           [{\"type\": \"scatter\"}],\n",
        "           [{\"type\": \"scatter\"}]\n",
        "          ])\n",
        "\n",
        "fig.add_trace(go.Bar(\n",
        "    y=unigram_df['text'][::-1],\n",
        "    x=unigram_df['count'][::-1],\n",
        "    marker={'color': \"blue\"},  \n",
        "    text=unigram_df['count'],\n",
        "    textposition = \"outside\",\n",
        "    orientation=\"h\",\n",
        "    name=\"Months\",\n",
        "),row=1,col=1)\n",
        "\n",
        "fig.add_trace(go.Bar(\n",
        "    y=bigram_df['text'][::-1],\n",
        "    x=bigram_df['count'][::-1],\n",
        "    marker={'color': \"blue\"},  \n",
        "    text=bigram_df['count'],\n",
        "     name=\"Days\",\n",
        "    textposition = \"outside\",\n",
        "    orientation=\"h\",\n",
        "),row=2,col=1)\n",
        "\n",
        "fig.add_trace(go.Bar(\n",
        "    y=trigram_df['text'][::-1],\n",
        "    x=trigram_df['count'][::-1],\n",
        "    marker={'color': \"blue\"},  \n",
        "    text=trigram_df['count'],\n",
        "     name=\"Days\",\n",
        "    orientation=\"h\",\n",
        "    textposition = \"outside\",\n",
        "),row=3,col=1)\n",
        "\n",
        "fig.update_xaxes(showline=True, linewidth=2, linecolor='black', mirror=True)\n",
        "fig.update_yaxes(showline=True, linewidth=2, linecolor='black', mirror=True)\n",
        "fig.update_layout(title_text='Top N Grams',xaxis_title=\" \",yaxis_title=\" \",\n",
        "                  showlegend=False,title_x=0.5,height=1200,template=\"plotly_dark\")\n",
        "fig.show()"
      ],
      "execution_count": 26,
      "outputs": [
        {
          "output_type": "display_data",
          "data": {
            "text/html": [
              "<html>\n",
              "<head><meta charset=\"utf-8\" /></head>\n",
              "<body>\n",
              "    <div>\n",
              "            <script src=\"https://cdnjs.cloudflare.com/ajax/libs/mathjax/2.7.5/MathJax.js?config=TeX-AMS-MML_SVG\"></script><script type=\"text/javascript\">if (window.MathJax) {MathJax.Hub.Config({SVG: {font: \"STIX-Web\"}});}</script>\n",
              "                <script type=\"text/javascript\">window.PlotlyConfig = {MathJaxConfig: 'local'};</script>\n",
              "        <script src=\"https://cdn.plot.ly/plotly-latest.min.js\"></script>    \n",
              "            <div id=\"421fa61c-ed16-4fdf-903e-698f0c30e99e\" class=\"plotly-graph-div\" style=\"height:1200px; width:100%;\"></div>\n",
              "            <script type=\"text/javascript\">\n",
              "                \n",
              "                    window.PLOTLYENV=window.PLOTLYENV || {};\n",
              "                    \n",
              "                if (document.getElementById(\"421fa61c-ed16-4fdf-903e-698f0c30e99e\")) {\n",
              "                    Plotly.newPlot(\n",
              "                        '421fa61c-ed16-4fdf-903e-698f0c30e99e',\n",
              "                        [{\"marker\": {\"color\": \"blue\"}, \"name\": \"Months\", \"orientation\": \"h\", \"text\": [165.0, 152.0, 141.0, 138.0, 111.0, 108.0, 98.0, 81.0, 78.0, 70.0, 69.0, 68.0, 66.0, 65.0, 60.0, 59.0, 59.0, 58.0, 57.0, 54.0], \"textposition\": \"outside\", \"type\": \"bar\", \"x\": [54, 57, 58, 59, 59, 60, 65, 66, 68, 69, 70, 78, 81, 98, 108, 111, 138, 141, 152, 165], \"xaxis\": \"x\", \"y\": [\"good\", \"best\", \"year\", \"run\", \"played\", \"player\", \"mumbai\", \"rcb\", \"season\", \"srh\", \"indian\", \"match\", \"capital\", \"mi\", \"time\", \"dc\", \"win\", \"delhi\", \"final\", \"team\"], \"yaxis\": \"y\"}, {\"marker\": {\"color\": \"blue\"}, \"name\": \"Days\", \"orientation\": \"h\", \"text\": [70.0, 43.0, 30.0, 20.0, 20.0, 16.0, 14.0, 13.0, 12.0, 11.0, 11.0, 11.0, 11.0, 10.0, 10.0, 10.0, 10.0, 9.0, 9.0, 9.0], \"textposition\": \"outside\", \"type\": \"bar\", \"x\": [9, 9, 9, 10, 10, 10, 10, 11, 11, 11, 11, 12, 13, 14, 16, 20, 20, 30, 43, 70], \"xaxis\": \"x2\", \"y\": [\"rcb kkr\", \"team csk\", \"stoinis hetmyer\", \"abdul samad\", \"purple cap\", \"kxip rr\", \"final csk\", \"csk mi\", \"final team\", \"indian win\", \"kl rahul\", \"sunrisers hyderabad\", \"shreyas iyer\", \"mi rcb\", \"mi dc\", \"rcb released\", \"marcus stoinis\", \"kane williamson\", \"mumbai indian\", \"delhi capital\"], \"yaxis\": \"y2\"}, {\"marker\": {\"color\": \"blue\"}, \"name\": \"Days\", \"orientation\": \"h\", \"text\": [11.0, 8.0, 8.0, 8.0, 8.0, 8.0, 8.0, 8.0, 8.0, 8.0, 8.0, 8.0, 8.0, 8.0, 7.0, 7.0, 7.0, 7.0, 6.0, 6.0], \"textposition\": \"outside\", \"type\": \"bar\", \"x\": [6, 6, 7, 7, 7, 7, 8, 8, 8, 8, 8, 8, 8, 8, 8, 8, 8, 8, 8, 11], \"xaxis\": \"x3\", \"y\": [\"final csk rcb\", \"watson final csk\", \"stoinis hetmyer final\", \"rcb released stoinis\", \"released watson final\", \"rcb released watson\", \"rr rps delhi\", \"kxip rr rps\", \"deccan kxip rr\", \"srh deccan kxip\", \"kkr srh deccan\", \"rcb kkr srh\", \"mi rcb kkr\", \"csk mi rcb\", \"team csk mi\", \"final team csk\", \"indian delhi capital\", \"mumbai indian delhi\", \"released stoinis hetmyer\", \"mumbai indian win\"], \"yaxis\": \"y3\"}],\n",
              "                        {\"annotations\": [{\"font\": {\"size\": 16}, \"showarrow\": false, \"text\": \"Unigram\", \"x\": 0.5, \"xanchor\": \"center\", \"xref\": \"paper\", \"y\": 1.0, \"yanchor\": \"bottom\", \"yref\": \"paper\"}, {\"font\": {\"size\": 16}, \"showarrow\": false, \"text\": \"Bigram\", \"x\": 0.5, \"xanchor\": \"center\", \"xref\": \"paper\", \"y\": 0.6111111111111112, \"yanchor\": \"bottom\", \"yref\": \"paper\"}, {\"font\": {\"size\": 16}, \"showarrow\": false, \"text\": \"Trigram\", \"x\": 0.5, \"xanchor\": \"center\", \"xref\": \"paper\", \"y\": 0.22222222222222224, \"yanchor\": \"bottom\", \"yref\": \"paper\"}], \"height\": 1200, \"showlegend\": false, \"template\": {\"data\": {\"bar\": [{\"error_x\": {\"color\": \"#f2f5fa\"}, \"error_y\": {\"color\": \"#f2f5fa\"}, \"marker\": {\"line\": {\"color\": \"rgb(17,17,17)\", \"width\": 0.5}}, \"type\": \"bar\"}], \"barpolar\": [{\"marker\": {\"line\": {\"color\": \"rgb(17,17,17)\", \"width\": 0.5}}, \"type\": \"barpolar\"}], \"carpet\": [{\"aaxis\": {\"endlinecolor\": \"#A2B1C6\", \"gridcolor\": \"#506784\", \"linecolor\": \"#506784\", \"minorgridcolor\": \"#506784\", \"startlinecolor\": \"#A2B1C6\"}, \"baxis\": {\"endlinecolor\": \"#A2B1C6\", \"gridcolor\": \"#506784\", \"linecolor\": \"#506784\", \"minorgridcolor\": \"#506784\", \"startlinecolor\": \"#A2B1C6\"}, \"type\": \"carpet\"}], \"choropleth\": [{\"colorbar\": {\"outlinewidth\": 0, \"ticks\": \"\"}, \"type\": \"choropleth\"}], \"contour\": [{\"colorbar\": {\"outlinewidth\": 0, \"ticks\": \"\"}, \"colorscale\": [[0.0, \"#0d0887\"], [0.1111111111111111, \"#46039f\"], [0.2222222222222222, \"#7201a8\"], [0.3333333333333333, \"#9c179e\"], [0.4444444444444444, \"#bd3786\"], [0.5555555555555556, \"#d8576b\"], [0.6666666666666666, \"#ed7953\"], [0.7777777777777778, \"#fb9f3a\"], [0.8888888888888888, \"#fdca26\"], [1.0, \"#f0f921\"]], \"type\": \"contour\"}], \"contourcarpet\": [{\"colorbar\": {\"outlinewidth\": 0, \"ticks\": \"\"}, \"type\": \"contourcarpet\"}], \"heatmap\": [{\"colorbar\": {\"outlinewidth\": 0, \"ticks\": \"\"}, \"colorscale\": [[0.0, \"#0d0887\"], [0.1111111111111111, \"#46039f\"], [0.2222222222222222, \"#7201a8\"], [0.3333333333333333, \"#9c179e\"], [0.4444444444444444, \"#bd3786\"], [0.5555555555555556, \"#d8576b\"], [0.6666666666666666, \"#ed7953\"], [0.7777777777777778, \"#fb9f3a\"], [0.8888888888888888, \"#fdca26\"], [1.0, \"#f0f921\"]], \"type\": \"heatmap\"}], \"heatmapgl\": [{\"colorbar\": {\"outlinewidth\": 0, \"ticks\": \"\"}, \"colorscale\": [[0.0, \"#0d0887\"], [0.1111111111111111, \"#46039f\"], [0.2222222222222222, \"#7201a8\"], [0.3333333333333333, \"#9c179e\"], [0.4444444444444444, \"#bd3786\"], [0.5555555555555556, \"#d8576b\"], [0.6666666666666666, \"#ed7953\"], [0.7777777777777778, \"#fb9f3a\"], [0.8888888888888888, \"#fdca26\"], [1.0, \"#f0f921\"]], \"type\": \"heatmapgl\"}], \"histogram\": [{\"marker\": {\"colorbar\": {\"outlinewidth\": 0, \"ticks\": \"\"}}, \"type\": \"histogram\"}], \"histogram2d\": [{\"colorbar\": {\"outlinewidth\": 0, \"ticks\": \"\"}, \"colorscale\": [[0.0, \"#0d0887\"], [0.1111111111111111, \"#46039f\"], [0.2222222222222222, \"#7201a8\"], [0.3333333333333333, \"#9c179e\"], [0.4444444444444444, \"#bd3786\"], [0.5555555555555556, \"#d8576b\"], [0.6666666666666666, \"#ed7953\"], [0.7777777777777778, \"#fb9f3a\"], [0.8888888888888888, \"#fdca26\"], [1.0, \"#f0f921\"]], \"type\": \"histogram2d\"}], \"histogram2dcontour\": [{\"colorbar\": {\"outlinewidth\": 0, \"ticks\": \"\"}, \"colorscale\": [[0.0, \"#0d0887\"], [0.1111111111111111, \"#46039f\"], [0.2222222222222222, \"#7201a8\"], [0.3333333333333333, \"#9c179e\"], [0.4444444444444444, \"#bd3786\"], [0.5555555555555556, \"#d8576b\"], [0.6666666666666666, \"#ed7953\"], [0.7777777777777778, \"#fb9f3a\"], [0.8888888888888888, \"#fdca26\"], [1.0, \"#f0f921\"]], \"type\": \"histogram2dcontour\"}], \"mesh3d\": [{\"colorbar\": {\"outlinewidth\": 0, \"ticks\": \"\"}, \"type\": \"mesh3d\"}], \"parcoords\": [{\"line\": {\"colorbar\": {\"outlinewidth\": 0, \"ticks\": \"\"}}, \"type\": \"parcoords\"}], \"pie\": [{\"automargin\": true, \"type\": \"pie\"}], \"scatter\": [{\"marker\": {\"line\": {\"color\": \"#283442\"}}, \"type\": \"scatter\"}], \"scatter3d\": [{\"line\": {\"colorbar\": {\"outlinewidth\": 0, \"ticks\": \"\"}}, \"marker\": {\"colorbar\": {\"outlinewidth\": 0, \"ticks\": \"\"}}, \"type\": \"scatter3d\"}], \"scattercarpet\": [{\"marker\": {\"colorbar\": {\"outlinewidth\": 0, \"ticks\": \"\"}}, \"type\": \"scattercarpet\"}], \"scattergeo\": [{\"marker\": {\"colorbar\": {\"outlinewidth\": 0, \"ticks\": \"\"}}, \"type\": \"scattergeo\"}], \"scattergl\": [{\"marker\": {\"line\": {\"color\": \"#283442\"}}, \"type\": \"scattergl\"}], \"scattermapbox\": [{\"marker\": {\"colorbar\": {\"outlinewidth\": 0, \"ticks\": \"\"}}, \"type\": \"scattermapbox\"}], \"scatterpolar\": [{\"marker\": {\"colorbar\": {\"outlinewidth\": 0, \"ticks\": \"\"}}, \"type\": \"scatterpolar\"}], \"scatterpolargl\": [{\"marker\": {\"colorbar\": {\"outlinewidth\": 0, \"ticks\": \"\"}}, \"type\": \"scatterpolargl\"}], \"scatterternary\": [{\"marker\": {\"colorbar\": {\"outlinewidth\": 0, \"ticks\": \"\"}}, \"type\": \"scatterternary\"}], \"surface\": [{\"colorbar\": {\"outlinewidth\": 0, \"ticks\": \"\"}, \"colorscale\": [[0.0, \"#0d0887\"], [0.1111111111111111, \"#46039f\"], [0.2222222222222222, \"#7201a8\"], [0.3333333333333333, \"#9c179e\"], [0.4444444444444444, \"#bd3786\"], [0.5555555555555556, \"#d8576b\"], [0.6666666666666666, \"#ed7953\"], [0.7777777777777778, \"#fb9f3a\"], [0.8888888888888888, \"#fdca26\"], [1.0, \"#f0f921\"]], \"type\": \"surface\"}], \"table\": [{\"cells\": {\"fill\": {\"color\": \"#506784\"}, \"line\": {\"color\": \"rgb(17,17,17)\"}}, \"header\": {\"fill\": {\"color\": \"#2a3f5f\"}, \"line\": {\"color\": \"rgb(17,17,17)\"}}, \"type\": \"table\"}]}, \"layout\": {\"annotationdefaults\": {\"arrowcolor\": \"#f2f5fa\", \"arrowhead\": 0, \"arrowwidth\": 1}, \"coloraxis\": {\"colorbar\": {\"outlinewidth\": 0, \"ticks\": \"\"}}, \"colorscale\": {\"diverging\": [[0, \"#8e0152\"], [0.1, \"#c51b7d\"], [0.2, \"#de77ae\"], [0.3, \"#f1b6da\"], [0.4, \"#fde0ef\"], [0.5, \"#f7f7f7\"], [0.6, \"#e6f5d0\"], [0.7, \"#b8e186\"], [0.8, \"#7fbc41\"], [0.9, \"#4d9221\"], [1, \"#276419\"]], \"sequential\": [[0.0, \"#0d0887\"], [0.1111111111111111, \"#46039f\"], [0.2222222222222222, \"#7201a8\"], [0.3333333333333333, \"#9c179e\"], [0.4444444444444444, \"#bd3786\"], [0.5555555555555556, \"#d8576b\"], [0.6666666666666666, \"#ed7953\"], [0.7777777777777778, \"#fb9f3a\"], [0.8888888888888888, \"#fdca26\"], [1.0, \"#f0f921\"]], \"sequentialminus\": [[0.0, \"#0d0887\"], [0.1111111111111111, \"#46039f\"], [0.2222222222222222, \"#7201a8\"], [0.3333333333333333, \"#9c179e\"], [0.4444444444444444, \"#bd3786\"], [0.5555555555555556, \"#d8576b\"], [0.6666666666666666, \"#ed7953\"], [0.7777777777777778, \"#fb9f3a\"], [0.8888888888888888, \"#fdca26\"], [1.0, \"#f0f921\"]]}, \"colorway\": [\"#636efa\", \"#EF553B\", \"#00cc96\", \"#ab63fa\", \"#FFA15A\", \"#19d3f3\", \"#FF6692\", \"#B6E880\", \"#FF97FF\", \"#FECB52\"], \"font\": {\"color\": \"#f2f5fa\"}, \"geo\": {\"bgcolor\": \"rgb(17,17,17)\", \"lakecolor\": \"rgb(17,17,17)\", \"landcolor\": \"rgb(17,17,17)\", \"showlakes\": true, \"showland\": true, \"subunitcolor\": \"#506784\"}, \"hoverlabel\": {\"align\": \"left\"}, \"hovermode\": \"closest\", \"mapbox\": {\"style\": \"dark\"}, \"paper_bgcolor\": \"rgb(17,17,17)\", \"plot_bgcolor\": \"rgb(17,17,17)\", \"polar\": {\"angularaxis\": {\"gridcolor\": \"#506784\", \"linecolor\": \"#506784\", \"ticks\": \"\"}, \"bgcolor\": \"rgb(17,17,17)\", \"radialaxis\": {\"gridcolor\": \"#506784\", \"linecolor\": \"#506784\", \"ticks\": \"\"}}, \"scene\": {\"xaxis\": {\"backgroundcolor\": \"rgb(17,17,17)\", \"gridcolor\": \"#506784\", \"gridwidth\": 2, \"linecolor\": \"#506784\", \"showbackground\": true, \"ticks\": \"\", \"zerolinecolor\": \"#C8D4E3\"}, \"yaxis\": {\"backgroundcolor\": \"rgb(17,17,17)\", \"gridcolor\": \"#506784\", \"gridwidth\": 2, \"linecolor\": \"#506784\", \"showbackground\": true, \"ticks\": \"\", \"zerolinecolor\": \"#C8D4E3\"}, \"zaxis\": {\"backgroundcolor\": \"rgb(17,17,17)\", \"gridcolor\": \"#506784\", \"gridwidth\": 2, \"linecolor\": \"#506784\", \"showbackground\": true, \"ticks\": \"\", \"zerolinecolor\": \"#C8D4E3\"}}, \"shapedefaults\": {\"line\": {\"color\": \"#f2f5fa\"}}, \"sliderdefaults\": {\"bgcolor\": \"#C8D4E3\", \"bordercolor\": \"rgb(17,17,17)\", \"borderwidth\": 1, \"tickwidth\": 0}, \"ternary\": {\"aaxis\": {\"gridcolor\": \"#506784\", \"linecolor\": \"#506784\", \"ticks\": \"\"}, \"baxis\": {\"gridcolor\": \"#506784\", \"linecolor\": \"#506784\", \"ticks\": \"\"}, \"bgcolor\": \"rgb(17,17,17)\", \"caxis\": {\"gridcolor\": \"#506784\", \"linecolor\": \"#506784\", \"ticks\": \"\"}}, \"title\": {\"x\": 0.05}, \"updatemenudefaults\": {\"bgcolor\": \"#506784\", \"borderwidth\": 0}, \"xaxis\": {\"automargin\": true, \"gridcolor\": \"#283442\", \"linecolor\": \"#506784\", \"ticks\": \"\", \"title\": {\"standoff\": 15}, \"zerolinecolor\": \"#283442\", \"zerolinewidth\": 2}, \"yaxis\": {\"automargin\": true, \"gridcolor\": \"#283442\", \"linecolor\": \"#506784\", \"ticks\": \"\", \"title\": {\"standoff\": 15}, \"zerolinecolor\": \"#283442\", \"zerolinewidth\": 2}}}, \"title\": {\"text\": \"Top N Grams\", \"x\": 0.5}, \"xaxis\": {\"anchor\": \"y\", \"domain\": [0.0, 1.0], \"linecolor\": \"black\", \"linewidth\": 2, \"mirror\": true, \"showline\": true, \"title\": {\"text\": \" \"}}, \"xaxis2\": {\"anchor\": \"y2\", \"domain\": [0.0, 1.0], \"linecolor\": \"black\", \"linewidth\": 2, \"mirror\": true, \"showline\": true}, \"xaxis3\": {\"anchor\": \"y3\", \"domain\": [0.0, 1.0], \"linecolor\": \"black\", \"linewidth\": 2, \"mirror\": true, \"showline\": true}, \"yaxis\": {\"anchor\": \"x\", \"domain\": [0.7777777777777778, 1.0], \"linecolor\": \"black\", \"linewidth\": 2, \"mirror\": true, \"showline\": true, \"title\": {\"text\": \" \"}}, \"yaxis2\": {\"anchor\": \"x2\", \"domain\": [0.3888888888888889, 0.6111111111111112], \"linecolor\": \"black\", \"linewidth\": 2, \"mirror\": true, \"showline\": true}, \"yaxis3\": {\"anchor\": \"x3\", \"domain\": [0.0, 0.22222222222222224], \"linecolor\": \"black\", \"linewidth\": 2, \"mirror\": true, \"showline\": true}},\n",
              "                        {\"responsive\": true}\n",
              "                    ).then(function(){\n",
              "                            \n",
              "var gd = document.getElementById('421fa61c-ed16-4fdf-903e-698f0c30e99e');\n",
              "var x = new MutationObserver(function (mutations, observer) {{\n",
              "        var display = window.getComputedStyle(gd).display;\n",
              "        if (!display || display === 'none') {{\n",
              "            console.log([gd, 'removed!']);\n",
              "            Plotly.purge(gd);\n",
              "            observer.disconnect();\n",
              "        }}\n",
              "}});\n",
              "\n",
              "// Listen for the removal of the full notebook cells\n",
              "var notebookContainer = gd.closest('#notebook-container');\n",
              "if (notebookContainer) {{\n",
              "    x.observe(notebookContainer, {childList: true});\n",
              "}}\n",
              "\n",
              "// Listen for the clearing of the current output cell\n",
              "var outputEl = gd.closest('.output');\n",
              "if (outputEl) {{\n",
              "    x.observe(outputEl, {childList: true});\n",
              "}}\n",
              "\n",
              "                        })\n",
              "                };\n",
              "                \n",
              "            </script>\n",
              "        </div>\n",
              "</body>\n",
              "</html>"
            ]
          },
          "metadata": {
            "tags": []
          }
        }
      ]
    },
    {
      "cell_type": "code",
      "metadata": {
        "id": "pOyAG35og3Pa",
        "colab": {
          "base_uri": "https://localhost:8080/",
          "height": 551
        },
        "outputId": "f8093a4e-29b6-4b3d-972c-1fa37add6949"
      },
      "source": [
        "#sentimmental Analysis\n",
        "from nltk.sentiment.vader import SentimentIntensityAnalyzer\n",
        "from nltk.sentiment.util import *\n",
        "\n",
        "from nltk import tokenize\n",
        "import nltk\n",
        "nltk.download('vader_lexicon')\n",
        "\n",
        "sid = SentimentIntensityAnalyzer()\n",
        "\n",
        "tweets['sentiment_compound_polarity']=tweets.refine_text.apply(lambda x:sid.polarity_scores(x)['compound'])\n",
        "tweets['sentiment_neutral']=tweets.refine_text.apply(lambda x:sid.polarity_scores(x)['neu'])\n",
        "tweets['sentiment_negative']=tweets.refine_text.apply(lambda x:sid.polarity_scores(x)['neg'])\n",
        "tweets['sentiment_pos']=tweets.refine_text.apply(lambda x:sid.polarity_scores(x)['pos'])\n",
        "tweets['sentiment_type']=''\n",
        "tweets.loc[tweets.sentiment_compound_polarity>0,'sentiment_type']='POSITIVE'\n",
        "tweets.loc[tweets.sentiment_compound_polarity==0,'sentiment_type']='NEUTRAL'\n",
        "tweets.loc[tweets.sentiment_compound_polarity<0,'sentiment_type']='NEGATIVE'\n",
        "tweets.head()"
      ],
      "execution_count": 27,
      "outputs": [
        {
          "output_type": "stream",
          "text": [
            "[nltk_data] Downloading package vader_lexicon to /root/nltk_data...\n"
          ],
          "name": "stdout"
        },
        {
          "output_type": "execute_result",
          "data": {
            "text/html": [
              "<div>\n",
              "<style scoped>\n",
              "    .dataframe tbody tr th:only-of-type {\n",
              "        vertical-align: middle;\n",
              "    }\n",
              "\n",
              "    .dataframe tbody tr th {\n",
              "        vertical-align: top;\n",
              "    }\n",
              "\n",
              "    .dataframe thead th {\n",
              "        text-align: right;\n",
              "    }\n",
              "</style>\n",
              "<table border=\"1\" class=\"dataframe\">\n",
              "  <thead>\n",
              "    <tr style=\"text-align: right;\">\n",
              "      <th></th>\n",
              "      <th>created</th>\n",
              "      <th>user_location</th>\n",
              "      <th>tweet_text</th>\n",
              "      <th>username</th>\n",
              "      <th>all_hashtags</th>\n",
              "      <th>refine_text</th>\n",
              "      <th>text_length</th>\n",
              "      <th>sentiment_compound_polarity</th>\n",
              "      <th>sentiment_neutral</th>\n",
              "      <th>sentiment_negative</th>\n",
              "      <th>sentiment_pos</th>\n",
              "      <th>sentiment_type</th>\n",
              "    </tr>\n",
              "  </thead>\n",
              "  <tbody>\n",
              "    <tr>\n",
              "      <th>0</th>\n",
              "      <td>11/9/2020 4:49</td>\n",
              "      <td>Gotham City</td>\n",
              "      <td>b'Look at #SRH youngster Priyam Garg after Kan...</td>\n",
              "      <td>b'SteadyTheShip'</td>\n",
              "      <td>['SRH', 'SRHvDC', 'DCvSRH', 'IPL2020']</td>\n",
              "      <td>look youngster priyam garg kane williamson mas...</td>\n",
              "      <td>40</td>\n",
              "      <td>0.6969</td>\n",
              "      <td>0.720</td>\n",
              "      <td>0.062</td>\n",
              "      <td>0.218</td>\n",
              "      <td>POSITIVE</td>\n",
              "    </tr>\n",
              "    <tr>\n",
              "      <th>1</th>\n",
              "      <td>11/9/2020 4:49</td>\n",
              "      <td>Bengaluru South, India</td>\n",
              "      <td>b'This is Mr.360\\xc2\\xb0 @ABdeVilliers17 . Mos...</td>\n",
              "      <td>b'imsapien'</td>\n",
              "      <td>['Cricket', 'IPL2020', 'Eliminater', 'IPLQuali...</td>\n",
              "      <td>mrxcxb dangerous animal cricket</td>\n",
              "      <td>9</td>\n",
              "      <td>-0.4767</td>\n",
              "      <td>0.492</td>\n",
              "      <td>0.508</td>\n",
              "      <td>0.000</td>\n",
              "      <td>NEGATIVE</td>\n",
              "    </tr>\n",
              "    <tr>\n",
              "      <th>2</th>\n",
              "      <td>11/9/2020 4:48</td>\n",
              "      <td>Chennai, India</td>\n",
              "      <td>b\"Great things happen to those who don't stop ...</td>\n",
              "      <td>b'CricketGirl_45'</td>\n",
              "      <td>['RohitSharma', 'MumbaiIndians', 'IPL2020', 'I...</td>\n",
              "      <td>great thing happen dont stop believing trying ...</td>\n",
              "      <td>21</td>\n",
              "      <td>0.9134</td>\n",
              "      <td>0.356</td>\n",
              "      <td>0.000</td>\n",
              "      <td>0.644</td>\n",
              "      <td>POSITIVE</td>\n",
              "    </tr>\n",
              "    <tr>\n",
              "      <th>3</th>\n",
              "      <td>11/9/2020 4:48</td>\n",
              "      <td>Chennai, India</td>\n",
              "      <td>b'T Natarajan made a mark with his yorkers in ...</td>\n",
              "      <td>b'ESPNcricinfo'</td>\n",
              "      <td>['IPL2020']</td>\n",
              "      <td>natarajan made mark yorkers xfxfxxc see play t...</td>\n",
              "      <td>19</td>\n",
              "      <td>0.3400</td>\n",
              "      <td>0.789</td>\n",
              "      <td>0.000</td>\n",
              "      <td>0.211</td>\n",
              "      <td>POSITIVE</td>\n",
              "    </tr>\n",
              "    <tr>\n",
              "      <th>4</th>\n",
              "      <td>11/9/2020 4:47</td>\n",
              "      <td>Kerala, India</td>\n",
              "      <td>b'#IPL2020 Final: Marcus Stoinis warning to @m...</td>\n",
              "      <td>b'InsideSportIND'</td>\n",
              "      <td>['IPL2020', 'iplseason13', 'IPLfinal', 'Mumbai...</td>\n",
              "      <td>marcus stoinis warning check</td>\n",
              "      <td>7</td>\n",
              "      <td>-0.3400</td>\n",
              "      <td>0.556</td>\n",
              "      <td>0.444</td>\n",
              "      <td>0.000</td>\n",
              "      <td>NEGATIVE</td>\n",
              "    </tr>\n",
              "  </tbody>\n",
              "</table>\n",
              "</div>"
            ],
            "text/plain": [
              "          created           user_location  ... sentiment_pos sentiment_type\n",
              "0  11/9/2020 4:49            Gotham City   ...         0.218       POSITIVE\n",
              "1  11/9/2020 4:49  Bengaluru South, India  ...         0.000       NEGATIVE\n",
              "2  11/9/2020 4:48         Chennai, India   ...         0.644       POSITIVE\n",
              "3  11/9/2020 4:48          Chennai, India  ...         0.211       POSITIVE\n",
              "4  11/9/2020 4:47           Kerala, India  ...         0.000       NEGATIVE\n",
              "\n",
              "[5 rows x 12 columns]"
            ]
          },
          "metadata": {
            "tags": []
          },
          "execution_count": 27
        }
      ]
    },
    {
      "cell_type": "code",
      "metadata": {
        "id": "h1XciltLhDuD",
        "colab": {
          "base_uri": "https://localhost:8080/",
          "height": 338
        },
        "outputId": "81fe7158-d5d1-4231-afe8-519296c41b33"
      },
      "source": [
        "tweets.sentiment_type.value_counts().plot(kind='bar',title=\"sentiment analysis\")"
      ],
      "execution_count": 28,
      "outputs": [
        {
          "output_type": "execute_result",
          "data": {
            "text/plain": [
              "<matplotlib.axes._subplots.AxesSubplot at 0x7f7308f23898>"
            ]
          },
          "metadata": {
            "tags": []
          },
          "execution_count": 28
        },
        {
          "output_type": "display_data",
          "data": {
            "image/png": "[encoded data removed]",
            "text/plain": [
              "<Figure size 432x288 with 1 Axes>"
            ]
          },
          "metadata": {
            "tags": [],
            "needs_background": "light"
          }
        }
      ]
    },
    {
      "cell_type": "code",
      "metadata": {
        "id": "Jx9SMTFchDwi",
        "colab": {
          "base_uri": "https://localhost:8080/",
          "height": 300
        },
        "outputId": "fe09fca6-07e1-4639-95ac-a3b3e5dddc45"
      },
      "source": [
        "#Polarity of tweets hour wise\n",
        "import pandas as pd\n",
        "import matplotlib.pyplot as plt\n",
        "\n",
        "tweets['hour'] = pd.DatetimeIndex(tweets['created']).hour\n",
        "tweets['date'] = pd.DatetimeIndex(tweets['created']).date\n",
        "tweets['minute'] = pd.DatetimeIndex(tweets['created']).minute\n",
        "df=(tweets.groupby('hour',as_index=False).sentiment_compound_polarity.mean())\n",
        "  \n",
        "plt.plot(df['hour'], df['sentiment_compound_polarity'], color='red', marker='o')\n",
        "plt.title('sentiment_compound_polarity Vs hour', fontsize=14)\n",
        "plt.xlabel('hour', fontsize=14)\n",
        "plt.ylabel('sentiment_compound_polarity', fontsize=14)\n",
        "plt.grid(True)\n",
        "plt.show()"
      ],
      "execution_count": 29,
      "outputs": [
        {
          "output_type": "display_data",
          "data": {
            "image/png": "[encoded data removed]",
            "text/plain": [
              "<Figure size 432x288 with 1 Axes>"
            ]
          },
          "metadata": {
            "tags": [],
            "needs_background": "light"
          }
        }
      ]
    },
    {
      "cell_type": "markdown",
      "metadata": {
        "id": "QoUAZerl8AEv"
      },
      "source": [
        ""
      ]
    },
    {
      "cell_type": "code",
      "metadata": {
        "id": "q2RbwxD5fOXz",
        "colab": {
          "base_uri": "https://localhost:8080/"
        },
        "outputId": "17aba093-fb17-4d0b-8e46-ac7e75b918fa"
      },
      "source": [
        "pip install pyLDAvis"
      ],
      "execution_count": 30,
      "outputs": [
        {
          "output_type": "stream",
          "text": [
            "Collecting pyLDAvis\n",
            "\u001b[?25l  Downloading https://files.pythonhosted.org/packages/a5/3a/af82e070a8a96e13217c8f362f9a73e82d61ac8fff3a2561946a97f96266/pyLDAvis-2.1.2.tar.gz (1.6MB)\n",
            "\u001b[K     |████████████████████████████████| 1.6MB 9.3MB/s \n",
            "\u001b[?25hRequirement already satisfied: wheel>=0.23.0 in /usr/local/lib/python3.6/dist-packages (from pyLDAvis) (0.35.1)\n",
            "Requirement already satisfied: numpy>=1.9.2 in /usr/local/lib/python3.6/dist-packages (from pyLDAvis) (1.18.5)\n",
            "Requirement already satisfied: scipy>=0.18.0 in /usr/local/lib/python3.6/dist-packages (from pyLDAvis) (1.4.1)\n",
            "Requirement already satisfied: pandas>=0.17.0 in /usr/local/lib/python3.6/dist-packages (from pyLDAvis) (1.1.4)\n",
            "Requirement already satisfied: joblib>=0.8.4 in /usr/local/lib/python3.6/dist-packages (from pyLDAvis) (0.17.0)\n",
            "Requirement already satisfied: jinja2>=2.7.2 in /usr/local/lib/python3.6/dist-packages (from pyLDAvis) (2.11.2)\n",
            "Requirement already satisfied: numexpr in /usr/local/lib/python3.6/dist-packages (from pyLDAvis) (2.7.1)\n",
            "Requirement already satisfied: pytest in /usr/local/lib/python3.6/dist-packages (from pyLDAvis) (3.6.4)\n",
            "Requirement already satisfied: future in /usr/local/lib/python3.6/dist-packages (from pyLDAvis) (0.16.0)\n",
            "Collecting funcy\n",
            "  Downloading https://files.pythonhosted.org/packages/66/89/479de0afbbfb98d1c4b887936808764627300208bb771fcd823403645a36/funcy-1.15-py2.py3-none-any.whl\n",
            "Requirement already satisfied: pytz>=2017.2 in /usr/local/lib/python3.6/dist-packages (from pandas>=0.17.0->pyLDAvis) (2018.9)\n",
            "Requirement already satisfied: python-dateutil>=2.7.3 in /usr/local/lib/python3.6/dist-packages (from pandas>=0.17.0->pyLDAvis) (2.8.1)\n",
            "Requirement already satisfied: MarkupSafe>=0.23 in /usr/local/lib/python3.6/dist-packages (from jinja2>=2.7.2->pyLDAvis) (1.1.1)\n",
            "Requirement already satisfied: six>=1.10.0 in /usr/local/lib/python3.6/dist-packages (from pytest->pyLDAvis) (1.15.0)\n",
            "Requirement already satisfied: attrs>=17.4.0 in /usr/local/lib/python3.6/dist-packages (from pytest->pyLDAvis) (20.3.0)\n",
            "Requirement already satisfied: py>=1.5.0 in /usr/local/lib/python3.6/dist-packages (from pytest->pyLDAvis) (1.9.0)\n",
            "Requirement already satisfied: setuptools in /usr/local/lib/python3.6/dist-packages (from pytest->pyLDAvis) (50.3.2)\n",
            "Requirement already satisfied: pluggy<0.8,>=0.5 in /usr/local/lib/python3.6/dist-packages (from pytest->pyLDAvis) (0.7.1)\n",
            "Requirement already satisfied: atomicwrites>=1.0 in /usr/local/lib/python3.6/dist-packages (from pytest->pyLDAvis) (1.4.0)\n",
            "Requirement already satisfied: more-itertools>=4.0.0 in /usr/local/lib/python3.6/dist-packages (from pytest->pyLDAvis) (8.6.0)\n",
            "Building wheels for collected packages: pyLDAvis\n",
            "  Building wheel for pyLDAvis (setup.py) ... \u001b[?25l\u001b[?25hdone\n",
            "  Created wheel for pyLDAvis: filename=pyLDAvis-2.1.2-py2.py3-none-any.whl size=97712 sha256=fffdfa20d5638d0cb1429eca7a853e4d9bf0c3d8af4e3cfb11e94bb6a63a1a0f\n",
            "  Stored in directory: /root/.cache/pip/wheels/98/71/24/513a99e58bb6b8465bae4d2d5e9dba8f0bef8179e3051ac414\n",
            "Successfully built pyLDAvis\n",
            "Installing collected packages: funcy, pyLDAvis\n",
            "Successfully installed funcy-1.15 pyLDAvis-2.1.2\n"
          ],
          "name": "stdout"
        }
      ]
    },
    {
      "cell_type": "markdown",
      "metadata": {
        "id": "5anca9cad6hz"
      },
      "source": [
        "**TOPIC MODELLING**"
      ]
    },
    {
      "cell_type": "code",
      "metadata": {
        "id": "hkasnx0OFger"
      },
      "source": [
        "import gensim #the library for Topic modelling\n",
        "from gensim.models.ldamulticore import LdaMulticore\n",
        "from gensim import corpora, models\n",
        "import pyLDAvis.gensim #LDA visualization library\n",
        "\n",
        "from nltk.corpus import stopwords\n",
        "import string\n",
        "from nltk.stem.wordnet import WordNetLemmatizer\n",
        "\n",
        "import warnings\n",
        "warnings.simplefilter('ignore')\n",
        "from itertools import chain"
      ],
      "execution_count": 31,
      "outputs": []
    },
    {
      "cell_type": "code",
      "metadata": {
        "id": "6vwRMZoPFlJc"
      },
      "source": [
        "\n",
        "#spliting the data\n",
        "stop = set(stopwords.words('english'))\n",
        "exclude = set(string.punctuation)\n",
        "lemma = WordNetLemmatizer()\n",
        "\n",
        "def split(text):\n",
        "    stop_free = ' '.join([word for word in str(text).lower().split() if word not in stop])\n",
        "    punc_free = ''.join(ch for ch in stop_free if ch not in exclude)\n",
        "    normalized = ' '.join([lemma.lemmatize(word) for word in punc_free.split()])\n",
        "    return normalized.split()"
      ],
      "execution_count": 32,
      "outputs": []
    },
    {
      "cell_type": "code",
      "metadata": {
        "id": "bbKKWsgaFoSe"
      },
      "source": [
        "data['text_split']=data['refine_text'].apply(split)"
      ],
      "execution_count": 33,
      "outputs": []
    },
    {
      "cell_type": "code",
      "metadata": {
        "colab": {
          "base_uri": "https://localhost:8080/"
        },
        "id": "tkAagArJFpu_",
        "outputId": "372b3fdc-bfbc-4b5b-b56c-e37620e9c10a"
      },
      "source": [
        "#create dictionary\n",
        "dictionary = corpora.Dictionary(data['text_split'])\n",
        "#Total number of non-zeroes in the BOW matrix (sum of the number of unique words per document over the entire corpus).\n",
        "print(dictionary.num_nnz)"
      ],
      "execution_count": 34,
      "outputs": [
        {
          "output_type": "stream",
          "text": [
            "9397\n"
          ],
          "name": "stdout"
        }
      ]
    },
    {
      "cell_type": "code",
      "metadata": {
        "colab": {
          "base_uri": "https://localhost:8080/"
        },
        "id": "rCok9h_XFwT0",
        "outputId": "fa71c03d-71a5-4f72-8cd1-7d1830c5b0d5"
      },
      "source": [
        "\n",
        "#create document term matrix\n",
        "doc_term_matrix = [dictionary.doc2bow(doc) for doc in data['text_split'] ]\n",
        "print(len(doc_term_matrix))"
      ],
      "execution_count": 35,
      "outputs": [
        {
          "output_type": "stream",
          "text": [
            "1000\n"
          ],
          "name": "stdout"
        }
      ]
    },
    {
      "cell_type": "code",
      "metadata": {
        "id": "LxFVgHJwFyvr"
      },
      "source": [
        "lda = gensim.models.ldamodel.LdaModel"
      ],
      "execution_count": 37,
      "outputs": []
    },
    {
      "cell_type": "code",
      "metadata": {
        "colab": {
          "base_uri": "https://localhost:8080/"
        },
        "id": "vgElcj65F2J_",
        "outputId": "8727cd16-d3f6-496d-f5d0-bdd444f98bc0"
      },
      "source": [
        "num_topics=10\n",
        "%time ldamodel = lda(doc_term_matrix,num_topics=num_topics,id2word=dictionary,passes=50,minimum_probability=0)"
      ],
      "execution_count": 38,
      "outputs": [
        {
          "output_type": "stream",
          "text": [
            "CPU times: user 22.6 s, sys: 11.2 ms, total: 22.6 s\n",
            "Wall time: 22.6 s\n"
          ],
          "name": "stdout"
        }
      ]
    },
    {
      "cell_type": "code",
      "metadata": {
        "colab": {
          "base_uri": "https://localhost:8080/"
        },
        "id": "GfXHXDkdF9R0",
        "outputId": "776e112e-643a-4a3f-e2ad-fc7243973e53"
      },
      "source": [
        "ldamodel.print_topics(num_topics=num_topics)"
      ],
      "execution_count": 39,
      "outputs": [
        {
          "output_type": "execute_result",
          "data": {
            "text/plain": [
              "[(0,\n",
              "  '0.017*\"mi\" + 0.015*\"team\" + 0.014*\"dc\" + 0.014*\"year\" + 0.013*\"srh\" + 0.012*\"rcb\" + 0.009*\"rr\" + 0.009*\"time\" + 0.009*\"dhawan\" + 0.008*\"bumrah\"'),\n",
              " (1,\n",
              "  '0.037*\"well\" + 0.029*\"played\" + 0.020*\"injured\" + 0.012*\"still\" + 0.011*\"team\" + 0.010*\"done\" + 0.008*\"finally\" + 0.007*\"saha\" + 0.007*\"army\" + 0.007*\"thank\"'),\n",
              " (2,\n",
              "  '0.016*\"season\" + 0.013*\"best\" + 0.013*\"win\" + 0.012*\"maiden\" + 0.011*\"iyer\" + 0.010*\"back\" + 0.010*\"shreyas\" + 0.010*\"player\" + 0.009*\"congratulation\" + 0.008*\"csk\"'),\n",
              " (3,\n",
              "  '0.026*\"final\" + 0.025*\"made\" + 0.019*\"released\" + 0.019*\"rcb\" + 0.017*\"kane\" + 0.017*\"williamson\" + 0.012*\"mi\" + 0.012*\"dc\" + 0.012*\"csk\" + 0.009*\"srh\"'),\n",
              " (4,\n",
              "  '0.053*\"delhi\" + 0.051*\"v\" + 0.035*\"capital\" + 0.024*\"dc\" + 0.015*\"mumbai\" + 0.015*\"run\" + 0.015*\"mi\" + 0.011*\"hyderabad\" + 0.011*\"sunrisers\" + 0.010*\"indian\"'),\n",
              " (5,\n",
              "  '0.030*\"final\" + 0.015*\"team\" + 0.009*\"congratulation\" + 0.009*\"season\" + 0.009*\"first\" + 0.009*\"match\" + 0.009*\"time\" + 0.009*\"take\" + 0.007*\"u\" + 0.007*\"beat\"'),\n",
              " (6,\n",
              "  '0.015*\"team\" + 0.012*\"cricket\" + 0.009*\"hyderabad\" + 0.007*\"time\" + 0.007*\"tweet\" + 0.007*\"brilliant\" + 0.007*\"david\" + 0.007*\"warner\" + 0.006*\"sunrisers\" + 0.006*\"gt\"'),\n",
              " (7,\n",
              "  '0.014*\"november\" + 0.012*\"team\" + 0.012*\"bat\" + 0.009*\"match\" + 0.009*\"ball\" + 0.008*\"going\" + 0.008*\"season\" + 0.007*\"stoinis\" + 0.006*\"marcus\" + 0.006*\"see\"'),\n",
              " (8,\n",
              "  '0.052*\"win\" + 0.028*\"delhi\" + 0.025*\"team\" + 0.021*\"mumbai\" + 0.016*\"final\" + 0.015*\"indian\" + 0.014*\"capital\" + 0.012*\"fan\" + 0.012*\"mi\" + 0.012*\"time\"'),\n",
              " (9,\n",
              "  '0.028*\"dc\" + 0.022*\"time\" + 0.016*\"first\" + 0.016*\"congratulation\" + 0.014*\"qualifier\" + 0.013*\"best\" + 0.013*\"match\" + 0.012*\"year\" + 0.012*\"winning\" + 0.010*\"mi\"')]"
            ]
          },
          "metadata": {
            "tags": []
          },
          "execution_count": 39
        }
      ]
    },
    {
      "cell_type": "code",
      "metadata": {
        "colab": {
          "base_uri": "https://localhost:8080/",
          "height": 881
        },
        "id": "EuclNUPk8Meh",
        "outputId": "4ac06542-cf87-4d7c-c0bc-b3150b1fda65"
      },
      "source": [
        "lda_display = pyLDAvis.gensim.prepare(ldamodel, doc_term_matrix, dictionary, sort_topics=False, mds='mmds')\n",
        "pyLDAvis.display(lda_display)"
      ],
      "execution_count": 40,
      "outputs": [
        {
          "output_type": "execute_result",
          "data": {
            "text/html": [
              "\n",
              "<link rel=\"stylesheet\" type=\"text/css\" href=\"https://cdn.rawgit.com/bmabey/pyLDAvis/files/ldavis.v1.0.0.css\">\n",
              "\n",
              "\n",
              "<div id=\"ldavis_el591401320612871926350185661\"></div>\n",
              "<script type=\"text/javascript\">\n",
              "\n",
              "var ldavis_el591401320612871926350185661_data = {\"mdsDat\": {\"x\": [0.19453365759851038, 0.05339014567350765, -0.08835233811613423, -0.1390651941713307, 0.0745124633934628, -0.059432590268104706, -0.09082255179523911, -0.20950271954422384, 0.18194936581544668, 0.08278976141410502], \"y\": [0.09312480105608359, 0.23345365018628442, -0.049014774705296166, 0.1785510466080387, -0.2213470082484424, 0.08632936743695954, -0.1751746665758968, -0.03500573700417004, -0.10714934982327035, -0.0037673289302905173], \"topics\": [1, 2, 3, 4, 5, 6, 7, 8, 9, 10], \"cluster\": [1, 1, 1, 1, 1, 1, 1, 1, 1, 1], \"Freq\": [13.253309627863652, 7.695601652962539, 9.770098120522757, 10.265391274573405, 10.59489447481704, 13.242423035824316, 5.904441939476643, 7.675624263693351, 14.872436355284592, 6.725779254981708]}, \"tinfo\": {\"Term\": [\"delhi\", \"v\", \"win\", \"capital\", \"dc\", \"well\", \"mumbai\", \"played\", \"made\", \"final\", \"released\", \"mi\", \"injured\", \"rcb\", \"kane\", \"qualifier\", \"hyderabad\", \"congratulation\", \"williamson\", \"first\", \"time\", \"november\", \"rr\", \"sunrisers\", \"year\", \"csk\", \"best\", \"iyer\", \"bat\", \"shreyas\", \"c\", \"b\", \"k\", \"chahal\", \"kishan\", \"mine\", \"tewatia\", \"abdul\", \"yadav\", \"pandey\", \"vth\", \"difference\", \"ke\", \"wk\", \"wicketswicket\", \"xi\", \"sandeep\", \"select\", \"rashid\", \"archer\", \"xcxaxefxbfxbcxcxa\", \"diwali\", \"birthdaynext\", \"padikkal\", \"tom\", \"curran\", \"success\", \"underdog\", \"bowl\", \"manish\", \"khan\", \"rahul\", \"nov\", \"samad\", \"dhawan\", \"pandya\", \"bumrah\", \"rr\", \"holder\", \"kl\", \"kxip\", \"year\", \"rabada\", \"mi\", \"srh\", \"rcb\", \"dc\", \"team\", \"player\", \"time\", \"tournament\", \"indian\", \"trophy\", \"stoinis\", \"injured\", \"shankar\", \"film\", \"marsh\", \"vijay\", \"scene\", \"apparently\", \"army\", \"managed\", \"mitchell\", \"xcxain\", \"march\", \"active\", \"full\", \"bhuvi\", \"petition\", \"dadi\", \"chennai\", \"whoxexxs\", \"coached\", \"constant\", \"quell\", \"gem\", \"touch\", \"uae\", \"shot\", \"done\", \"saha\", \"rd\", \"hyderbad\", \"well\", \"played\", \"still\", \"appearance\", \"cameo\", \"missed\", \"thank\", \"left\", \"king\", \"congrats\", \"special\", \"finish\", \"finally\", \"n\", \"team\", \"proud\", \"reach\", \"match\", \"first\", \"final\", \"williamson\", \"one\", \"run\", \"would\", \"season\", \"shreyas\", \"ah\", \"rollercoaster\", \"iyer\", \"describes\", \"warrior\", \"gone\", \"feeling\", \"co\", \"emotion\", \"high\", \"adayi\", \"medicine\", \"gentleman\", \"sinha\", \"occupation\", \"scammer\", \"utkarsh\", \"hour\", \"meme\", \"personally\", \"skipper\", \"lo\", \"purple\", \"catch\", \"step\", \"true\", \"fifth\", \"soft\", \"blamed\", \"xexxcreated\", \"closest\", \"note\", \"goat\", \"mentally\", \"wonderful\", \"nail\", \"maiden\", \"sport\", \"stay\", \"failed\", \"cap\", \"back\", \"champion\", \"season\", \"best\", \"face\", \"captain\", \"cant\", \"player\", \"next\", \"congratulation\", \"love\", \"title\", \"journey\", \"csk\", \"win\", \"end\", \"ever\", \"know\", \"keep\", \"game\", \"final\", \"time\", \"team\", \"like\", \"delhi\", \"capital\", \"released\", \"watson\", \"krunal\", \"decision\", \"dekock\", \"hetmyer\", \"made\", \"thrice\", \"nortje\", \"predicted\", \"chahar\", \"enjoyed\", \"xcxaxefxbfxbc\", \"money\", \"underrated\", \"morning\", \"consistent\", \"reached\", \"pollard\", \"shittiness\", \"srhs\", \"lavishes\", \"xfxfxxcxfxfxxa\", \"behavior\", \"somewhat\", \"per\", \"arexfxfxfxfxexxaxefxbxf\", \"fell\", \"krabada\", \"jus\", \"kane\", \"xfxfxex\", \"scalped\", \"inexperienced\", \"fragile\", \"fightso\", \"execution\", \"art\", \"craze\", \"artistxexdxaxefxbxfxfxfxax\", \"williamson\", \"xexdxa\", \"loaded\", \"die\", \"behind\", \"q\", \"worthwhile\", \"short\", \"loading\", \"loved\", \"past\", \"bit\", \"dismissal\", \"really\", \"last\", \"ishan\", \"rcb\", \"rohit\", \"csk\", \"final\", \"batting\", \"sharma\", \"night\", \"stoinis\", \"mi\", \"reason\", \"srh\", \"love\", \"dc\", \"big\", \"great\", \"one\", \"heart\", \"played\", \"time\", \"well\", \"game\", \"team\", \"player\", \"match\", \"take\", \"good\", \"finalist\", \"tv\", \"streaming\", \"channel\", \"tip\", \"called\", \"v\", \"date\", \"xfxfxfxxfxfxx\", \"ask\", \"xexbxcxexbxbfxexbxadxexbxbexexbxbxexbxbxexbxbxexbx\", \"nightmare\", \"analysis\", \"episode\", \"post\", \"rather\", \"xexxaxefxbxfxexxaxefxbxf\", \"fourtime\", \"pay\", \"confident\", \"hyderabad\", \"edition\", \"shah\", \"clash\", \"video\", \"live\", \"sunrisers\", \"lift\", \"capital\", \"join\", \"delhi\", \"dream\", \"qualifier\", \"run\", \"dc\", \"tuesday\", \"mumbai\", \"enter\", \"india\", \"performance\", \"mi\", \"special\", \"champion\", \"indian\", \"beat\", \"first\", \"good\", \"take\", \"time\", \"final\", \"trophy\", \"team\", \"one\", \"match\", \"win\", \"highest\", \"runner\", \"throwing\", \"plzz\", \"chakravarthy\", \"nz\", \"pic\", \"almost\", \"attitude\", \"field\", \"fertility\", \"xexdxc\", \"aggravated\", \"xcxaxcxa\", \"hinders\", \"doesnxexxt\", \"sheer\", \"dragon\", \"enters\", \"excited\", \"ka\", \"ton\", \"dislodge\", \"personality\", \"duck\", \"unlucky\", \"xfxfxxdxfxfxx\", \"struggled\", \"xexbxaaxexbxxexbxaxexbxdxexbxaxexbxbexexbxaaxexbxxexbxbxexbxaaxexbxdxexbxaaxexbxbexexbxaxexbx\", \"sorry\", \"leap\", \"u\", \"making\", \"final\", \"amazing\", \"order\", \"fine\", \"role\", \"beat\", \"squad\", \"take\", \"reaching\", \"record\", \"bowling\", \"let\", \"think\", \"set\", \"congratulation\", \"st\", \"watching\", \"top\", \"first\", \"see\", \"season\", \"team\", \"match\", \"wicket\", \"end\", \"good\", \"warner\", \"time\", \"title\", \"one\", \"like\", \"year\", \"kane\", \"best\", \"trophy\", \"back\", \"player\", \"brilliant\", \"successfully\", \"chased\", \"appreciation\", \"david\", \"nan\", \"loyal\", \"allrounders\", \"ur\", \"umpiring\", \"gt\", \"dhoni\", \"throughout\", \"remove\", \"plz\", \"emerging\", \"five\", \"anna\", \"okka\", \"progress\", \"chasing\", \"xexdxaxefxbxfxfxfxxdxfxfxaxaxfxfxaxa\", \"excuse\", \"proudxfxfxxfxfxfxfxbc\", \"seasonxexxaxefxbxf\", \"crap\", \"imagination\", \"consistency\", \"boost\", \"touched\", \"died\", \"ofxfxfxxf\", \"elevated\", \"claimed\", \"app\", \"develop\", \"mobile\", \"feature\", \"toppled\", \"tennis\", \"pack\", \"hypocrisy\", \"makingxfxfxax\", \"tq\", \"xexxafxexxafxexxaf\", \"jason\", \"gear\", \"gold\", \"performer\", \"thankyou\", \"rpsg\", \"xfxfxaxdxfxfxaxdxfxfxaxd\", \"tweet\", \"xfxfxfxfxfxfxfx\", \"consistently\", \"script\", \"till\", \"cricket\", \"three\", \"number\", \"glimpse\", \"prediction\", \"hyderabad\", \"knocked\", \"xfxfxfxf\", \"loose\", \"score\", \"eliminated\", \"warner\", \"talent\", \"side\", \"sunrisers\", \"ball\", \"team\", \"second\", \"part\", \"day\", \"time\", \"lead\", \"fan\", \"game\", \"well\", \"season\", \"win\", \"rcb\", \"played\", \"home\", \"always\", \"entered\", \"tat\", \"november\", \"teach\", \"different\", \"wasnt\", \"ha\", \"kind\", \"pls\", \"choosing\", \"australian\", \"brother\", \"bat\", \"something\", \"ball\", \"graemee\", \"donxexxt\", \"reasonxfxfxaxbxfxfxfxbbxexxdxexxxefxbxf\", \"jazz\", \"car\", \"latest\", \"championsxfxfxfxxfxfxfxxfxfxfx\", \"pair\", \"shit\", \"lethal\", \"backed\", \"delivery\", \"listen\", \"lasith\", \"swann\", \"sahi\", \"xfxfxfxfinal\", \"xfxfxxaxfxfxxaxfxfxxfxfxfxxfman\", \"alround\", \"srk\", \"height\", \"glorious\", \"delight\", \"worst\", \"replaced\", \"cannot\", \"andaz\", \"pointstable\", \"aapka\", \"aapas\", \"foreign\", \"nature\", \"understd\", \"gamexexxd\", \"bhuvimarshsaha\", \"shanker\", \"fixed\", \"haixfxfxaxa\", \"deadly\", \"xfxfxaxafxfxfxx\", \"xexxaxexxa\", \"xexxa\", \"tremendous\", \"timeknowg\", \"malinga\", \"decline\", \"spread\", \"continent\", \"max\", \"shed\", \"hardluck\", \"xfxfxxdxfxfxfxbbxfxfxaxa\", \"relationship\", \"light\", \"beaten\", \"natarajan\", \"phir\", \"anyway\", \"haame\", \"bulaya\", \"agar\", \"mein\", \"hii\", \"khelna\", \"kyu\", \"knockout\", \"race\", \"level\", \"hilariously\", \"xexdxaall\", \"dwayne\", \"faulkner\", \"james\", \"satisfaction\", \"birthday\", \"young\", \"lbw\", \"tha\", \"mark\", \"kagiso\", \"going\", \"six\", \"soo\", \"easily\", \"said\", \"marcus\", \"thing\", \"watch\", \"boy\", \"end\", \"match\", \"team\", \"stoinis\", \"cricket\", \"season\", \"see\", \"game\", \"playing\", \"performance\", \"get\", \"captain\", \"run\", \"top\", \"good\", \"player\", \"srh\", \"rps\", \"deccan\", \"pakistan\", \"meet\", \"worry\", \"warming\", \"xefxbxfxexxa\", \"fast\", \"babar\", \"xfxfxxaxfxfxxba\", \"whiteball\", \"plan\", \"lefthanded\", \"rate\", \"story\", \"remaining\", \"england\", \"taken\", \"start\", \"win\", \"month\", \"kkr\", \"need\", \"winner\", \"lose\", \"series\", \"want\", \"retweet\", \"wow\", \"later\", \"mumbai\", \"favourite\", \"always\", \"life\", \"fan\", \"luck\", \"delhi\", \"indian\", \"hope\", \"franchise\", \"supporting\", \"right\", \"support\", \"kxip\", \"team\", \"deserve\", \"wish\", \"capital\", \"rr\", \"like\", \"csk\", \"st\", \"srh\", \"mi\", \"final\", \"time\", \"rcb\", \"match\", \"play\", \"next\", \"make\", \"dc\", \"best\", \"trophy\", \"defeat\", \"drop\", \"defeating\", \"fourth\", \"xfxfxaxddc\", \"perfect\", \"former\", \"battle\", \"continues\", \"vk\", \"xexdxaxefxbxfda\", \"vivo\", \"pepsi\", \"regained\", \"seesaw\", \"la\", \"dlf\", \"adding\", \"wickettaker\", \"mana\", \"kodi\", \"critic\", \"chestunnaru\", \"base\", \"burra\", \"galla\", \"cheskoni\", \"ee\", \"judge\", \"cheyyakudadu\", \"mighty\", \"umpire\", \"challenge\", \"follow\", \"defeated\", \"qualifier\", \"winning\", \"congratulation\", \"dc\", \"got\", \"first\", \"time\", \"failed\", \"knocked\", \"ending\", \"enough\", \"best\", \"lost\", \"group\", \"year\", \"victory\", \"match\", \"tuesday\", \"title\", \"good\", \"play\", \"fan\", \"mi\", \"day\", \"top\", \"kane\", \"win\", \"final\", \"team\", \"would\", \"second\", \"season\", \"indian\", \"williamson\", \"mumbai\", \"make\"], \"Freq\": [113.0, 70.0, 111.0, 65.0, 88.0, 59.0, 53.0, 46.0, 35.0, 122.0, 20.0, 79.0, 16.0, 53.0, 34.0, 26.0, 17.0, 39.0, 36.0, 51.0, 85.0, 14.0, 22.0, 19.0, 47.0, 40.0, 45.0, 13.0, 13.0, 10.0, 9.190373728165456, 8.362348052436609, 6.706733251105159, 6.706723936379848, 6.706617127529614, 5.050749276160547, 5.653194970686912, 7.513344994325548, 3.394765301215935, 3.364079801623683, 2.5667712955531448, 2.5667705193260355, 2.566769122117239, 2.5667517346299915, 2.5664668592808946, 8.998477346142016, 2.5045852579039223, 6.706756227427593, 8.200787246824568, 5.878756011947929, 1.7387838101980724, 1.7387838101980724, 1.7387838101980724, 1.7387838101980724, 1.7387828787255413, 1.7387813262713228, 1.7387808605350572, 1.7387791528354168, 1.7387780661174639, 1.7387780661174639, 8.286092743186705, 8.978223407425629, 9.190792890804454, 9.635417020949486, 11.585398255488064, 4.222764895713912, 11.192809906820784, 12.465301983346063, 5.876295061520745, 7.534778798248004, 9.656252819506971, 18.119152710694873, 10.41818803522704, 22.601947478192564, 17.205473788858942, 15.376456682118333, 18.54792442032384, 20.54551321592729, 10.914621288533919, 12.237814035909029, 7.113181911035308, 8.6153912592554, 7.018468542108992, 6.904934460200818, 15.139898423819885, 5.353274720371229, 3.84561594659618, 3.845609095648843, 3.845587821654481, 3.091574000053122, 3.091574000053122, 5.353588421644027, 2.337532774662415, 2.3375324140862395, 2.337530611205361, 2.3374795896765095, 2.323852875135204, 3.8120362085121475, 3.8030160349025977, 1.5834902872550933, 1.5834818137149662, 1.5834774868008585, 1.5834737007510145, 1.5834708161416093, 1.583441970047559, 1.58340392926103, 1.5832721386688375, 1.5790658372920305, 3.091580851000459, 4.507010008268269, 7.447195379830956, 5.353750320346885, 3.8442435936717336, 2.3375569332661823, 28.510492822966444, 22.48737790458518, 9.019531783957211, 3.0916493604738284, 3.0915927500142546, 3.0915837356098637, 5.3534319315838035, 3.706152293386167, 3.091580851000459, 3.0915181107458993, 4.5996885421141664, 3.845655970551675, 6.027516111181, 3.0366178639730648, 8.30070442787849, 4.161365652647675, 3.9996126225649435, 5.1058866514573475, 4.576579575594242, 5.144802195788347, 4.02913119118286, 3.9901017047803617, 4.109644966591542, 3.6370554414264444, 3.8379183663988394, 10.233578009617695, 3.202882065229348, 3.202882065229348, 10.917776986170507, 2.4216924062269802, 2.4216908040096734, 2.4216386175031057, 7.108860573481831, 1.640501145007306, 1.640501145007306, 1.6405010305632124, 1.6405010305632124, 1.6405008016750258, 1.6405004583427458, 1.6404970250199453, 1.6404970250199453, 1.6404970250199453, 1.6404970250199453, 1.6404963383553852, 1.6404780273004491, 1.6394054572575731, 4.76512015922289, 4.765284043164566, 5.478990369193992, 3.9840817953119307, 3.08612047898902, 3.962401048491335, 0.859310284341958, 0.859310284341958, 0.859310284341958, 0.859310284341958, 0.859310284341958, 0.859310284341958, 0.859310284341958, 0.859310284341958, 1.6404455251779377, 0.859310284341958, 11.356844039189612, 1.6405020605600527, 2.4216953817734077, 2.689275971994087, 5.901880062953516, 10.288317992796117, 7.666072841829865, 15.601245862551911, 12.76259105104819, 6.739760519149549, 7.709254429356311, 4.70411413304537, 10.198428108562553, 6.267355443961217, 8.56717587740342, 4.386895248439626, 5.317708428423211, 3.607597808076707, 7.972153569494415, 12.643572856175187, 4.765282212059073, 4.765307847535984, 4.765226363341518, 3.984109719670708, 5.2926300653592415, 7.5024690592932, 6.627033087199808, 7.027915639584503, 4.984555263812162, 5.706957509830692, 4.81106259605731, 19.9893619927832, 6.450766557471056, 2.468814656534662, 2.46880720129422, 4.857998687447714, 7.745623981389339, 25.571807557265732, 1.6724231460367356, 1.6724231460367356, 1.6724227852992948, 1.672422424561854, 1.6724063116228338, 1.6723793765605908, 1.6723578525599592, 1.6699253999969608, 3.265227450541593, 2.4687667987008552, 4.857978005167778, 4.013150879728997, 0.8760313349242752, 0.8760313349242752, 0.8760313349242752, 0.8760313349242752, 0.8760313349242752, 0.8760312748013683, 0.8760312748013683, 0.8760312748013683, 0.8760312748013683, 0.8760312748013683, 0.8760312748013683, 17.972216344675566, 0.8760312748013683, 0.8760312748013683, 0.8760312748013683, 0.8760312748013683, 0.8760312748013683, 0.8760312748013683, 0.8760312748013683, 0.8760312748013683, 0.8760312748013683, 17.811577557391924, 1.6723774526275734, 0.8760312748013683, 0.8760312748013683, 1.6724191779248874, 1.6724233865283626, 0.8760312748013683, 1.6724211018579047, 1.6724165325169884, 1.672412323913513, 1.6701765935015387, 1.6724249497239394, 1.6723663900127237, 4.691593872911075, 8.570366448585121, 2.390944670115555, 19.52779122259075, 5.423951962513235, 12.025589499338846, 27.198517934564414, 4.858003016297004, 3.869810414695976, 3.9521881761747344, 9.340401399449302, 12.371533819121574, 3.265251980687564, 9.8063799001845, 4.253434000656996, 12.276480946432887, 4.857989067782627, 6.279203197531646, 6.80991627250162, 3.988891046346721, 6.648298684295402, 8.09569369454452, 5.901093603598351, 5.009130840709375, 6.975850685415518, 5.538514958947615, 5.656284670738663, 4.945172092463845, 4.921613051683139, 5.642566111620553, 2.4658912665053587, 2.4658912665053587, 2.4658912665053587, 2.465891514716396, 2.465891514716396, 53.84887213696816, 4.055845783968032, 1.6704524593510002, 1.6704524593510002, 1.6704524593510002, 1.6704524593510002, 1.6704522111399633, 1.6704522111399633, 1.6704522111399633, 1.670447991552337, 1.670433098890126, 1.6687798892791883, 1.665816621815758, 1.6622230224242476, 11.992878195181975, 1.5701915823921426, 1.5632983895822705, 6.193863177768819, 2.4659153429759333, 2.4658982164143906, 11.747641719397857, 6.1225139223822165, 37.723272235485055, 7.755706306042039, 56.816439608401005, 6.9891224042380165, 10.773100653856249, 16.265161024750526, 25.48108888920292, 5.761576850303039, 16.328837084143956, 4.4787904408509345, 6.75213348478634, 6.587053784820396, 16.24898064368037, 4.056810083846194, 5.830351164393361, 10.793038950024313, 6.482080869537984, 9.31623193013166, 7.93280239872395, 6.55406008453611, 9.857451131761753, 10.286628864202026, 6.41401494974683, 8.169083420298533, 4.986657525459529, 5.251778683827754, 5.213626165353583, 4.1500028762068215, 3.3362742306672413, 2.522560166210212, 2.522559700856514, 2.5225593906207147, 2.5225477567782546, 2.522545274891863, 2.5225395355295825, 6.104939182171329, 5.777464820822964, 1.7088310553169341, 1.7088310553169341, 1.7088309001990347, 1.7088309001990347, 1.7088309001990347, 1.7088309001990347, 1.7088309001990347, 1.7088309001990347, 1.7088309001990347, 1.7088309001990347, 1.7088305899632357, 1.7088305899632357, 1.7088295041379393, 1.7088169395880821, 1.7088116655795, 1.708797860086447, 1.7087915002525689, 1.708782038060701, 1.708692690150605, 1.7085743351933078, 3.3362974983521623, 9.953875898943314, 7.566071615777312, 40.43565999408999, 4.735055783637213, 3.336286019627601, 2.522562803214503, 3.336260270056289, 9.879142576864043, 2.522562337860805, 11.402440059862471, 4.444934743189131, 4.1500245927127475, 4.9637454823573535, 7.739451235318479, 5.892243379829958, 4.800658866153557, 12.022950126989997, 5.7774896396868805, 3.336126248191145, 5.7774846759140965, 11.901423318884367, 9.495723393892066, 12.021619835884124, 20.300533897270743, 11.74616271094474, 7.405035037732939, 5.777495223931261, 8.95661175474833, 6.239407786865715, 11.476605029958078, 5.535095584784178, 7.1004039587324375, 6.314646172825669, 7.403835045662623, 6.695359479159254, 7.253090230012426, 6.367648718132095, 5.676095893989536, 5.699289122318606, 4.36368857609037, 2.2176229576502697, 2.2176229576502697, 2.2176172862909156, 4.363407774639408, 1.5022607891030615, 1.5022595441705204, 1.5022582992379792, 2.9329921808152113, 2.9329872010850466, 3.648348678003065, 2.217628767335462, 2.9329824980065577, 0.7868985513929345, 0.7868985513929345, 0.7868985513929345, 0.7868985513929345, 0.7868985513929345, 0.7868985513929345, 0.7868985513929345, 0.7868985513929345, 0.7868985513929345, 0.7868985513929345, 0.7868985513929345, 0.7868985513929345, 0.7868985513929345, 0.7868985513929345, 0.7868985513929345, 0.7868985513929345, 0.7868985513929345, 0.7868985513929345, 0.7868985513929345, 0.7868985513929345, 0.7868985513929345, 0.7868985513929345, 0.7868985513929345, 0.7868985513929345, 0.7868985513929345, 0.7868985513929345, 0.7868985513929345, 0.7868985513929345, 0.7868985513929345, 0.7868985513929345, 0.7868985513929345, 0.7868985513929345, 0.7868985513929345, 0.7868985513929345, 0.7868985513929345, 0.7868985513929345, 0.7868985513929345, 0.7868985513929345, 0.7868985513929345, 4.363716517909627, 0.7868985513929345, 1.5022624490131165, 1.502250691316894, 2.9330126530392224, 7.152710118200242, 2.2176251708636765, 2.21761631801005, 0.7868985513929345, 3.5056448273213237, 5.079101786871767, 1.5022581609121413, 2.933026208971338, 1.502277111551935, 2.9330735164079034, 1.5022765582485835, 4.3008446580619415, 2.2176935038276047, 2.6328469680289253, 3.814096783325891, 2.834189907918251, 8.762432792631058, 2.2176485479302834, 2.217650207840338, 2.9331487656637276, 4.363754419189216, 2.0538527734837455, 3.2865829008988436, 2.826411569400793, 3.113563282928669, 2.9375923448808074, 3.1519326571520048, 2.6320333354503282, 2.544159080400078, 2.2176771813787313, 2.2176643170758052, 3.084916502763993, 2.3325883544500137, 10.609189873405144, 1.580140445969989, 1.580140445969989, 1.580140445969989, 1.5801397266897126, 1.5801352311879842, 1.5801345119077075, 1.5801319944267396, 1.5801280383852188, 1.5801048415963, 8.94402798126624, 2.332588893910221, 6.665397695501942, 0.8276926273999993, 0.8276926273999993, 0.8276926273999993, 0.8276926273999993, 0.8276926273999993, 0.8276926273999993, 0.8276926273999993, 0.8276926273999993, 0.8276926273999993, 0.8276926273999993, 0.8276926273999993, 0.8276926273999993, 0.8276926273999993, 0.8276926273999993, 0.8276926273999993, 0.8276926273999993, 0.8276926273999993, 0.8276926273999993, 0.8276926273999993, 0.8276926273999993, 0.8276926273999993, 0.8276926273999993, 0.8276926273999993, 0.8276926273999993, 0.8276926273999993, 0.8276926273999993, 0.8276926273999993, 0.8276926273999993, 0.8276926273999993, 0.8276926273999993, 0.8276926273999993, 0.8276926273999993, 0.8276926273999993, 0.8276926273999993, 0.8276926273999993, 0.8276926273999993, 0.8276926273999993, 0.8276926273999993, 0.8276926273999993, 0.8276926273999993, 0.8276926273999993, 0.8276926273999993, 0.8276926273999993, 0.8276926273999993, 0.8276926273999993, 0.8276926273999993, 0.8276926273999993, 0.8276926273999993, 0.8276926273999993, 0.8276926273999993, 0.8276926273999993, 0.8276926273999993, 0.8276926273999993, 0.8276926273999993, 2.3326013014949916, 4.589949342616724, 0.8276926273999993, 1.5801435029111643, 0.8276926273999993, 0.8276926273999993, 0.8276926273999993, 0.8276926273999993, 0.8276926273999993, 0.8276926273999993, 0.8276926273999993, 1.5801431432710262, 1.579362903991041, 1.5801449414717175, 0.8276926273999993, 0.8276926273999993, 0.8276926273999993, 0.8276926273999993, 0.8276926273999993, 0.8276926273999993, 4.589949342616724, 3.4234551155648023, 0.8276926273999993, 2.332616406380799, 1.4947191698773472, 2.3326106521385865, 6.191670354723977, 2.332620542242389, 0.8276926273999993, 1.458629282001562, 3.7303033183013317, 4.94766756399168, 3.6381926457267606, 3.0850582009784726, 2.87123415676773, 3.8375001753962157, 7.094303085846833, 9.14342182456888, 5.21484098595411, 3.837559875659169, 5.812367251530097, 4.906159337792661, 4.590016595322581, 2.959270106575658, 3.5538527176198738, 3.824250673062067, 3.806978236141187, 4.447550549147453, 3.080549392564933, 3.4638675182625014, 3.084587072397334, 3.0137687143891996, 11.562943163421423, 10.742852742739434, 2.5422180409589683, 2.5421527116830904, 2.531367980609765, 1.7221476545882488, 1.7221476545882488, 1.7221476545882488, 1.7221476545882488, 1.7221476545882488, 1.7221476545882488, 1.7221476545882488, 1.7221476545882488, 1.7221352855786827, 1.722119606552472, 1.7221046243718705, 1.7220678657659767, 1.7220260550294149, 5.6349723355628525, 77.35489107734591, 3.3622030637425406, 10.49563073536846, 4.89548953074407, 12.248235072582387, 7.3055314644214535, 2.542187379752156, 8.708882356986907, 2.5422016650871484, 2.542180062873258, 2.537061383449673, 30.68791551054152, 4.899932966772181, 6.564992938504484, 7.891897080340244, 18.622872786513675, 9.50151078904946, 41.695076914993535, 22.61882383180653, 12.342062546500841, 3.362215606963509, 4.99615096955356, 5.002444530674533, 6.5510595105452465, 8.641275092811998, 37.16231642929183, 4.908090938321008, 6.381781078272881, 20.531378210837, 9.139415176666013, 10.494800095402098, 12.750765283775396, 6.456216035728339, 14.9897790058553, 18.363798132173024, 23.57537125655983, 17.37339794771681, 12.539253129656291, 10.500397159336512, 7.987640879684451, 7.246953925652687, 7.138567953263395, 8.89002179837626, 7.967258145610548, 7.479524754086778, 4.444777041086652, 1.5301914630709912, 1.5301913055033394, 1.5301913055033394, 1.5301900449621257, 1.530189887394474, 1.36670746117564, 2.2588670075904727, 0.8015289178827757, 0.8015289178827757, 0.8015289178827757, 0.8015289178827757, 0.8015289178827757, 0.8015289178827757, 0.8015289178827757, 0.8015289178827757, 0.8015289178827757, 0.8015289178827757, 0.8015289178827757, 0.8015289178827757, 0.8015289178827757, 0.8015289178827757, 0.8015289178827757, 0.8015289178827757, 0.8015289178827757, 0.8015289178827757, 0.8015289178827757, 0.8015289178827757, 0.8015289178827757, 0.8015289178827757, 1.5301946144240253, 1.5301895722591705, 1.5301955598299355, 1.530192566044553, 3.7158961859169937, 9.774470401206726, 8.083025148782673, 10.543459156712995, 19.24250449391104, 2.2588908003058807, 10.837506866167443, 14.910691168822893, 2.008522262014028, 1.5301941417210703, 1.530186105770833, 1.5301928811798564, 8.602535780796897, 2.9875910829466803, 1.5302043836184311, 8.328639713454814, 2.198707047897376, 8.573038486126368, 2.9873490590336553, 3.716232750421044, 5.9017865234567095, 5.035422219735503, 5.168263094997098, 6.4311627812797365, 3.4074628649968193, 2.991926714451105, 4.054292886621452, 5.96356501806816, 6.074188224168182, 5.456658537649441, 2.9875639813105863, 2.25887598894662, 3.8723665364994746, 3.320918202025054, 2.987518601826894, 3.1857988985197467, 2.6856744449658856], \"Total\": [113.0, 70.0, 111.0, 65.0, 88.0, 59.0, 53.0, 46.0, 35.0, 122.0, 20.0, 79.0, 16.0, 53.0, 34.0, 26.0, 17.0, 39.0, 36.0, 51.0, 85.0, 14.0, 22.0, 19.0, 47.0, 40.0, 45.0, 13.0, 13.0, 10.0, 9.886432959532671, 9.05843789889645, 7.4024737188774425, 7.40247314680191, 7.402472118503211, 5.746488749616467, 6.56561779683293, 8.982605767206417, 4.090503835778764, 4.089975281566285, 3.2625116958059843, 3.262511732991898, 3.262511110413978, 3.26251095688255, 3.26249415472122, 11.4883604312445, 3.261526299814609, 8.974992755307733, 11.298458816660155, 8.184602763558381, 2.4345190657704365, 2.4345190657704365, 2.4345190657704365, 2.4345190657704365, 2.434519323404644, 2.4345190137806707, 2.434519164806962, 2.434519335324003, 2.4345187472175245, 2.434518784733395, 12.029378376451724, 13.12201891111107, 13.92676626873632, 15.447279135680901, 19.400884492824343, 6.467337452844554, 19.371459760490186, 22.218822159099656, 9.731006994297287, 13.08365242619053, 19.62702898980894, 47.09962271152073, 23.229241076684865, 79.54104933729664, 56.45285747534661, 53.86076100972157, 88.20429709572406, 131.84443087051628, 48.446327521790366, 85.94102327950421, 21.718887251505414, 56.85700212853973, 37.03073969904492, 38.73107560179673, 16.674423094444165, 6.056878118176192, 4.548750177124801, 4.548750558574773, 4.548752358631509, 3.79470735661212, 3.79470735661212, 6.85323816300063, 3.040663930344925, 3.0406638179590697, 3.0406639580615207, 3.040666574916666, 3.040203620299024, 5.346046999071906, 5.38092092575609, 2.286620693967763, 2.2866213286293218, 2.286621827209112, 2.2866205213367694, 2.2866217953032293, 2.2866255193920093, 2.2866256020040856, 2.2866380434375118, 2.2870546520032424, 4.590160848874666, 6.923406154811494, 11.454501856671442, 8.447208240145365, 6.084318160469973, 3.769330062043126, 59.80025052909662, 46.47766279755499, 17.741992692063366, 5.262523749756336, 5.323797592356168, 5.328346016309236, 10.717239435473743, 6.842496728506481, 5.450689972184129, 5.450694382083376, 10.108050729564297, 7.771128792512863, 16.479628717579484, 5.4092792904916145, 131.84443087051628, 16.954543828528536, 17.33145336298445, 61.859442153341575, 51.73623989778302, 122.44016874463843, 36.33298514048879, 34.8638295800149, 47.13954761204253, 19.46730932406722, 53.96375836870382, 10.934018808657573, 3.903298836638823, 3.903298884744592, 13.309881781167277, 3.1221077890715248, 3.122107619795394, 3.12211076699402, 10.105690234481157, 2.3409165278518502, 2.3409165278518502, 2.340916685613073, 2.3409168516427883, 2.3409168269241163, 2.3409166524836853, 2.3409169876044342, 2.3409169876044342, 2.3409169876044342, 2.3409169876044342, 2.3409168641814033, 2.3409169746803045, 2.3409824542682798, 7.001097485042744, 7.014414156282178, 8.553517343215903, 6.257008173428104, 5.430628360297979, 7.00922468319939, 1.5597256671865023, 1.5597256671865023, 1.5597256671865023, 1.5597256671865023, 1.5597256671865023, 1.5597256671865023, 1.5597256671865023, 1.5597256671865023, 3.0562753095570105, 1.5597256671865023, 23.757238755833033, 3.0949597699265228, 4.6882851669138725, 5.326115451279874, 13.267440832327953, 25.876005719379865, 18.896284119536382, 53.96375836870382, 45.376817821285606, 18.970578834804222, 26.09960774081813, 12.339238057563072, 48.446327521790366, 22.897321940049288, 39.477457124080914, 12.650154625716135, 18.05980774488586, 9.214685283438781, 40.83258393019201, 111.60839706117055, 16.5800035846935, 17.189011570688784, 17.362758544785333, 11.782361796460926, 30.471614665428827, 122.44016874463843, 85.94102327950421, 131.84443087051628, 28.175185858585085, 113.87683346721329, 65.57828801612906, 20.688336404027048, 7.149671226690463, 3.1677108399382683, 3.167710724539677, 6.37061578402475, 10.410262393544945, 35.710057847956215, 2.3713186154657495, 2.3713187011121937, 2.3713186479432538, 2.371318623385337, 2.371318396709196, 2.3713199275754038, 2.371320721057426, 2.3711858826917394, 4.792094445590272, 3.995699849277786, 7.998072180977866, 7.161346749560718, 1.5749266181950112, 1.5749266181950112, 1.5749266181950112, 1.5749266181950112, 1.5749266181950112, 1.5749265580721046, 1.5749265580721046, 1.5749265580721046, 1.5749265580721046, 1.5749265580721046, 1.5749265580721046, 34.06338197157965, 1.5749265580721046, 1.5749265580721046, 1.5749265580721046, 1.5749265580721046, 1.5749265580721046, 1.5749265580721046, 1.5749265580721046, 1.5749265580721046, 1.5749265580721046, 36.33298514048879, 3.0999769145636886, 1.5749265580721046, 1.5749265580721046, 3.123766602115164, 3.1253616611101496, 1.5749265580721046, 3.1850476338390545, 3.1850480924881186, 3.191388760463543, 3.1912692190652394, 3.1993110357828862, 3.199306269276562, 10.137729329139274, 20.66603069487201, 4.813544636291244, 53.86076100972157, 13.440503457361688, 40.83258393019201, 122.44016874463843, 13.130209974720897, 9.657004191754615, 10.229895086891021, 38.73107560179673, 79.54104933729664, 7.7537264152823235, 56.45285747534661, 12.650154625716135, 88.20429709572406, 16.40217517368525, 26.86189947671517, 34.8638295800149, 11.987497536488195, 46.47766279755499, 85.94102327950421, 59.80025052909662, 30.471614665428827, 131.84443087051628, 48.446327521790366, 61.859442153341575, 30.571147629587244, 43.241978030674794, 7.174266401977794, 3.1648935599255124, 3.1648935599255124, 3.1648935599255124, 3.164893888960571, 3.1648948352932007, 70.79553184117262, 5.552141469829124, 2.369441603835187, 2.369441603835187, 2.369441603835187, 2.369441603835187, 2.36944135562415, 2.36944135562415, 2.36944135562415, 2.369441665417354, 2.3694423961706366, 2.3693543914295714, 2.369447134458488, 2.3697778061869603, 17.716917564766746, 2.3642223248592296, 2.369568029313555, 9.538521496452823, 3.984964855227426, 3.984964025743084, 19.356786192416568, 10.303620947208577, 65.57828801612906, 13.599782412855868, 113.87683346721329, 12.491852254863439, 26.88243019810122, 47.13954761204253, 88.20429709572406, 12.277927784056743, 53.18098654795176, 9.507411926169546, 17.382284306331925, 18.02703018297443, 79.54104933729664, 10.108050729564297, 18.896284119536382, 56.85700212853973, 23.9945054972412, 51.73623989778302, 43.241978030674794, 30.571147629587244, 85.94102327950421, 122.44016874463843, 37.03073969904492, 131.84443087051628, 34.8638295800149, 61.859442153341575, 111.60839706117055, 4.847178512398062, 4.033450641383424, 3.219721754073538, 3.21972128871984, 3.2197216479799224, 3.2197215535219557, 3.219721805446149, 3.2197202827910436, 8.05011820450527, 8.090160209308591, 2.40599264318026, 2.40599264318026, 2.4059924880623607, 2.4059924880623607, 2.4059924880623607, 2.4059924880623607, 2.4059924880623607, 2.4059924880623607, 2.4059924880623607, 2.4059924880623607, 2.4059925111735163, 2.405992635131492, 2.4059925797744786, 2.4059927801217618, 2.405990937521374, 2.4059902715787866, 2.4059914651747616, 2.4059889742977125, 2.4059894591612982, 2.405982985232285, 4.861443040969445, 17.54047358945566, 15.056287133047597, 122.44016874463843, 8.740107965500007, 5.626234664236898, 3.9483844447275516, 5.6894353826064075, 23.9945054972412, 4.039792140214245, 30.571147629587244, 8.71497205262167, 8.052662989364704, 10.484605795113149, 20.145767120722404, 13.870219396650752, 10.411158218976574, 39.477457124080914, 14.466910295563126, 6.501571989479347, 15.590352189583449, 51.73623989778302, 35.71675479617375, 53.96375836870382, 131.84443087051628, 61.859442153341575, 26.16752652130637, 16.5800035846935, 43.241978030674794, 21.20099174364693, 85.94102327950421, 18.05980774488586, 34.8638295800149, 28.175185858585085, 47.09962271152073, 34.06338197157965, 45.376817821285606, 37.03073969904492, 25.876005719379865, 48.446327521790366, 5.070711431768056, 2.9246212207283997, 2.9246212207283997, 2.9246225491864686, 5.8247869544534945, 2.2092590521811917, 2.209259358427645, 2.209259464671421, 4.392432358535974, 4.392431908001697, 5.979730177755849, 3.7058121116039953, 5.232768232782608, 1.4938968144710647, 1.4938968144710647, 1.4938968144710647, 1.4938968144710647, 1.4938968144710647, 1.4938968144710647, 1.4938968144710647, 1.4938968144710647, 1.4938968144710647, 1.4938968144710647, 1.4938968144710647, 1.4938968144710647, 1.4938968144710647, 1.4938968144710647, 1.4938968144710647, 1.4938968144710647, 1.4938968144710647, 1.4938968144710647, 1.4938968144710647, 1.4938968144710647, 1.4938968144710647, 1.4938968144710647, 1.4938968144710647, 1.4938968144710647, 1.4938968144710647, 1.4938968144710647, 1.4938968144710647, 1.4938968144710647, 1.4938968144710647, 1.4938968144710647, 1.4938968144710647, 1.4938968144710647, 1.4938968144710647, 1.4938968144710647, 1.4938968144710647, 1.4938968144710647, 1.4938968144710647, 1.4938968144710647, 1.4938968144710647, 8.928537776718423, 1.4938968144710647, 3.004712490067069, 3.022989227197643, 6.813205464209641, 19.391940426477365, 5.300732823807822, 5.397770546549949, 1.4938968144710647, 10.020064598028457, 17.716917564766746, 3.666584301344542, 9.322333510402714, 3.7587528795158187, 9.970299351392187, 3.8493978353933267, 21.20099174364693, 7.534109611804582, 10.095585204497056, 19.356786192416568, 12.059436022579671, 131.84443087051628, 8.265798552989846, 8.357478293195262, 20.16050738929901, 85.94102327950421, 7.027764442559233, 40.2776614946397, 30.471614665428827, 59.80025052909662, 53.96375836870382, 111.60839706117055, 53.86076100972157, 46.47766279755499, 9.403477072175445, 11.093761774373833, 3.788331277148729, 3.0358780558114122, 14.332543238731976, 2.2834301473313876, 2.283430231841429, 2.283430397677842, 2.2834304274435144, 2.2834303693620313, 2.283430379201675, 2.2834306512454665, 2.2834313549643563, 2.2834304671989503, 13.126389001591296, 3.7512407536038226, 12.059436022579671, 1.5309823287613975, 1.5309823287613975, 1.5309823287613975, 1.5309823287613975, 1.5309823287613975, 1.5309823287613975, 1.5309823287613975, 1.5309823287613975, 1.5309823287613975, 1.5309823287613975, 1.5309823287613975, 1.5309823287613975, 1.5309823287613975, 1.5309823287613975, 1.5309823287613975, 1.5309823287613975, 1.5309823287613975, 1.5309823287613975, 1.5309823287613975, 1.5309823287613975, 1.5309823287613975, 1.5309823287613975, 1.5309823287613975, 1.5309823287613975, 1.5309823287613975, 1.5309823287613975, 1.5309823287613975, 1.5309823287613975, 1.5309823287613975, 1.5309823287613975, 1.5309823287613975, 1.5309823287613975, 1.5309823287613975, 1.5309823287613975, 1.5309823287613975, 1.5309823287613975, 1.5309823287613975, 1.5309823287613975, 1.5309823287613975, 1.5309823287613975, 1.5309823287613975, 1.5309823287613975, 1.5309823287613975, 1.5309823287613975, 1.5309823287613975, 1.5309823287613975, 1.5309823287613975, 1.5309823287613975, 1.5309823287613975, 1.5309823287613975, 1.5309823287613975, 1.5309823287613975, 1.5309823287613975, 1.5309823287613975, 4.56093735143609, 9.41688049899636, 1.5309823287613975, 3.0646212088436653, 1.5309823287613975, 1.5309823287613975, 1.5309823287613975, 1.5309823287613975, 1.5309823287613975, 1.5309823287613975, 1.5309823287613975, 3.1035003684656384, 3.1035453579228602, 3.111422408949823, 1.5309823287613975, 1.5309823287613975, 1.5309823287613975, 1.5309823287613975, 1.5309823287613975, 1.5309823287613975, 10.718733205507597, 7.734132492015335, 1.5309823287613975, 5.321195810235409, 3.119994725669891, 5.34616288478196, 17.96771629048652, 5.4241160101995725, 1.5309823287613975, 3.1236222389512984, 11.460643246598247, 18.95385418157305, 12.483390534223656, 9.95547583650814, 9.368068212922216, 16.5800035846935, 61.859442153341575, 131.84443087051628, 38.73107560179673, 19.391940426477365, 53.96375836870382, 35.71675479617375, 30.471614665428827, 11.069513593645603, 18.02703018297443, 22.07224438279014, 26.09960774081813, 47.13954761204253, 15.590352189583449, 43.241978030674794, 48.446327521790366, 56.45285747534661, 12.259520917917344, 11.439449897651775, 3.2387454947416225, 3.2387405169031407, 3.23885032063969, 2.418675108370903, 2.418675108370903, 2.418675108370903, 2.418675108370903, 2.418675108370903, 2.418675108370903, 2.4186751647109306, 2.418675215416955, 2.4186749041613758, 2.418672913459866, 2.418673342402933, 2.4186702121330304, 2.4186683578987065, 8.04092177231893, 111.60839706117055, 4.855206100990978, 15.369844376557632, 7.26590407961958, 18.653249747152895, 11.266963280910552, 3.991191280893145, 13.712443805355514, 4.019934291096565, 4.019934686742089, 4.019986497048447, 53.18098654795176, 8.059105349332077, 11.093761774373833, 14.383198691602855, 40.2776614946397, 18.402135461511723, 113.87683346721329, 56.85700212853973, 27.215337343030686, 5.621192025281456, 9.389717540128268, 9.533351013181974, 13.554426233508801, 19.62702898980894, 131.84443087051628, 9.463350732567074, 13.452893030071781, 65.57828801612906, 22.218822159099656, 28.175185858585085, 40.83258393019201, 14.466910295563126, 56.45285747534661, 79.54104933729664, 122.44016874463843, 85.94102327950421, 53.86076100972157, 61.859442153341575, 33.38008119211073, 22.897321940049288, 22.286256484951437, 88.20429709572406, 45.376817821285606, 37.03073969904492, 5.150514956487283, 2.235859697656845, 2.2358595400891934, 2.2358595400891934, 2.2358598463801496, 2.2358596731593225, 2.247645404675491, 3.7782497929783014, 1.5071971524686294, 1.5071971524686294, 1.5071971524686294, 1.5071971524686294, 1.5071971524686294, 1.5071971524686294, 1.5071971524686294, 1.5071971524686294, 1.5071971524686294, 1.5071971524686294, 1.5071971524686294, 1.5071971524686294, 1.5071971524686294, 1.5071971524686294, 1.5071971524686294, 1.5071971524686294, 1.5071971524686294, 1.5071971524686294, 1.5071971524686294, 1.5071971524686294, 1.5071971524686294, 1.5071971524686294, 2.988307679353229, 2.988307684915456, 3.0322520749882913, 3.0322515950590767, 8.434495304583375, 26.88243019810122, 23.8938402647524, 39.477457124080914, 88.20429709572406, 5.9630134813545785, 51.73623989778302, 85.94102327950421, 5.326115451279874, 3.666584301344542, 3.7036700980289177, 3.7439351582786564, 45.376817821285606, 10.021477728655393, 3.8459794789251998, 47.09962271152073, 7.011305878952623, 61.859442153341575, 12.277927784056743, 18.05980774488586, 43.241978030674794, 33.38008119211073, 40.2776614946397, 79.54104933729664, 20.16050738929901, 15.590352189583449, 34.06338197157965, 111.60839706117055, 122.44016874463843, 131.84443087051628, 19.46730932406722, 8.265798552989846, 53.96375836870382, 56.85700212853973, 36.33298514048879, 53.18098654795176, 22.286256484951437], \"Category\": [\"Default\", \"Default\", \"Default\", \"Default\", \"Default\", \"Default\", \"Default\", \"Default\", \"Default\", \"Default\", \"Default\", \"Default\", \"Default\", \"Default\", \"Default\", \"Default\", \"Default\", \"Default\", \"Default\", \"Default\", \"Default\", \"Default\", \"Default\", \"Default\", \"Default\", \"Default\", \"Default\", \"Default\", \"Default\", \"Default\", \"Topic1\", \"Topic1\", \"Topic1\", \"Topic1\", \"Topic1\", \"Topic1\", \"Topic1\", \"Topic1\", \"Topic1\", \"Topic1\", \"Topic1\", \"Topic1\", \"Topic1\", \"Topic1\", \"Topic1\", \"Topic1\", \"Topic1\", \"Topic1\", \"Topic1\", \"Topic1\", \"Topic1\", \"Topic1\", \"Topic1\", \"Topic1\", \"Topic1\", \"Topic1\", \"Topic1\", \"Topic1\", \"Topic1\", \"Topic1\", \"Topic1\", \"Topic1\", \"Topic1\", \"Topic1\", \"Topic1\", \"Topic1\", \"Topic1\", \"Topic1\", \"Topic1\", \"Topic1\", \"Topic1\", \"Topic1\", \"Topic1\", \"Topic1\", \"Topic1\", \"Topic1\", \"Topic1\", \"Topic1\", \"Topic1\", \"Topic1\", \"Topic1\", \"Topic1\", \"Topic1\", \"Topic1\", \"Topic2\", \"Topic2\", \"Topic2\", \"Topic2\", \"Topic2\", \"Topic2\", \"Topic2\", \"Topic2\", \"Topic2\", \"Topic2\", \"Topic2\", \"Topic2\", \"Topic2\", \"Topic2\", \"Topic2\", \"Topic2\", \"Topic2\", \"Topic2\", \"Topic2\", \"Topic2\", \"Topic2\", \"Topic2\", \"Topic2\", \"Topic2\", \"Topic2\", \"Topic2\", \"Topic2\", \"Topic2\", \"Topic2\", \"Topic2\", \"Topic2\", \"Topic2\", \"Topic2\", \"Topic2\", \"Topic2\", \"Topic2\", \"Topic2\", \"Topic2\", \"Topic2\", \"Topic2\", \"Topic2\", \"Topic2\", \"Topic2\", \"Topic2\", \"Topic2\", \"Topic2\", \"Topic2\", \"Topic2\", \"Topic2\", \"Topic2\", \"Topic2\", \"Topic2\", \"Topic2\", \"Topic2\", \"Topic2\", \"Topic3\", \"Topic3\", \"Topic3\", \"Topic3\", \"Topic3\", \"Topic3\", \"Topic3\", \"Topic3\", \"Topic3\", \"Topic3\", \"Topic3\", \"Topic3\", \"Topic3\", \"Topic3\", \"Topic3\", \"Topic3\", \"Topic3\", \"Topic3\", \"Topic3\", \"Topic3\", \"Topic3\", \"Topic3\", \"Topic3\", \"Topic3\", \"Topic3\", \"Topic3\", \"Topic3\", \"Topic3\", \"Topic3\", \"Topic3\", \"Topic3\", \"Topic3\", \"Topic3\", \"Topic3\", \"Topic3\", \"Topic3\", \"Topic3\", \"Topic3\", \"Topic3\", \"Topic3\", \"Topic3\", \"Topic3\", \"Topic3\", \"Topic3\", \"Topic3\", \"Topic3\", \"Topic3\", \"Topic3\", \"Topic3\", \"Topic3\", \"Topic3\", \"Topic3\", \"Topic3\", \"Topic3\", \"Topic3\", \"Topic3\", \"Topic3\", \"Topic3\", \"Topic3\", \"Topic3\", \"Topic3\", \"Topic3\", \"Topic3\", \"Topic3\", \"Topic3\", \"Topic3\", \"Topic3\", \"Topic3\", \"Topic4\", \"Topic4\", \"Topic4\", \"Topic4\", \"Topic4\", \"Topic4\", \"Topic4\", \"Topic4\", \"Topic4\", \"Topic4\", \"Topic4\", \"Topic4\", \"Topic4\", \"Topic4\", \"Topic4\", \"Topic4\", \"Topic4\", \"Topic4\", \"Topic4\", \"Topic4\", \"Topic4\", \"Topic4\", \"Topic4\", \"Topic4\", \"Topic4\", \"Topic4\", \"Topic4\", \"Topic4\", \"Topic4\", \"Topic4\", \"Topic4\", \"Topic4\", \"Topic4\", \"Topic4\", \"Topic4\", \"Topic4\", \"Topic4\", \"Topic4\", \"Topic4\", \"Topic4\", \"Topic4\", \"Topic4\", \"Topic4\", \"Topic4\", \"Topic4\", \"Topic4\", \"Topic4\", \"Topic4\", \"Topic4\", \"Topic4\", \"Topic4\", \"Topic4\", \"Topic4\", \"Topic4\", \"Topic4\", \"Topic4\", \"Topic4\", \"Topic4\", \"Topic4\", \"Topic4\", \"Topic4\", \"Topic4\", \"Topic4\", \"Topic4\", \"Topic4\", \"Topic4\", \"Topic4\", \"Topic4\", \"Topic4\", \"Topic4\", \"Topic4\", \"Topic4\", \"Topic4\", \"Topic4\", \"Topic4\", \"Topic4\", \"Topic4\", \"Topic4\", \"Topic4\", \"Topic4\", \"Topic4\", \"Topic4\", \"Topic5\", \"Topic5\", \"Topic5\", \"Topic5\", \"Topic5\", \"Topic5\", \"Topic5\", \"Topic5\", \"Topic5\", \"Topic5\", \"Topic5\", \"Topic5\", \"Topic5\", \"Topic5\", \"Topic5\", \"Topic5\", \"Topic5\", \"Topic5\", \"Topic5\", \"Topic5\", \"Topic5\", \"Topic5\", \"Topic5\", \"Topic5\", \"Topic5\", \"Topic5\", \"Topic5\", \"Topic5\", \"Topic5\", \"Topic5\", \"Topic5\", \"Topic5\", \"Topic5\", \"Topic5\", \"Topic5\", \"Topic5\", \"Topic5\", \"Topic5\", \"Topic5\", \"Topic5\", \"Topic5\", \"Topic5\", \"Topic5\", \"Topic5\", \"Topic5\", \"Topic5\", \"Topic5\", \"Topic5\", \"Topic5\", \"Topic5\", \"Topic5\", \"Topic5\", \"Topic5\", \"Topic5\", \"Topic5\", \"Topic6\", \"Topic6\", \"Topic6\", \"Topic6\", \"Topic6\", \"Topic6\", \"Topic6\", \"Topic6\", \"Topic6\", \"Topic6\", \"Topic6\", \"Topic6\", \"Topic6\", \"Topic6\", \"Topic6\", \"Topic6\", \"Topic6\", \"Topic6\", \"Topic6\", \"Topic6\", \"Topic6\", \"Topic6\", \"Topic6\", \"Topic6\", \"Topic6\", \"Topic6\", \"Topic6\", \"Topic6\", \"Topic6\", \"Topic6\", \"Topic6\", \"Topic6\", \"Topic6\", \"Topic6\", \"Topic6\", \"Topic6\", \"Topic6\", \"Topic6\", \"Topic6\", \"Topic6\", \"Topic6\", \"Topic6\", \"Topic6\", \"Topic6\", \"Topic6\", \"Topic6\", \"Topic6\", \"Topic6\", \"Topic6\", \"Topic6\", \"Topic6\", \"Topic6\", \"Topic6\", \"Topic6\", \"Topic6\", \"Topic6\", \"Topic6\", \"Topic6\", \"Topic6\", \"Topic6\", \"Topic6\", \"Topic6\", \"Topic6\", \"Topic6\", \"Topic6\", \"Topic6\", \"Topic6\", \"Topic6\", \"Topic6\", \"Topic6\", \"Topic7\", \"Topic7\", \"Topic7\", \"Topic7\", \"Topic7\", \"Topic7\", \"Topic7\", \"Topic7\", \"Topic7\", \"Topic7\", \"Topic7\", \"Topic7\", \"Topic7\", \"Topic7\", \"Topic7\", \"Topic7\", \"Topic7\", \"Topic7\", \"Topic7\", \"Topic7\", \"Topic7\", \"Topic7\", \"Topic7\", \"Topic7\", \"Topic7\", \"Topic7\", \"Topic7\", \"Topic7\", \"Topic7\", \"Topic7\", \"Topic7\", \"Topic7\", \"Topic7\", \"Topic7\", \"Topic7\", \"Topic7\", \"Topic7\", \"Topic7\", \"Topic7\", \"Topic7\", \"Topic7\", \"Topic7\", \"Topic7\", \"Topic7\", \"Topic7\", \"Topic7\", \"Topic7\", \"Topic7\", \"Topic7\", \"Topic7\", \"Topic7\", \"Topic7\", \"Topic7\", \"Topic7\", \"Topic7\", \"Topic7\", \"Topic7\", \"Topic7\", \"Topic7\", \"Topic7\", \"Topic7\", \"Topic7\", \"Topic7\", \"Topic7\", \"Topic7\", \"Topic7\", \"Topic7\", \"Topic7\", \"Topic7\", \"Topic7\", \"Topic7\", \"Topic7\", \"Topic7\", \"Topic7\", \"Topic7\", \"Topic7\", \"Topic7\", \"Topic7\", \"Topic7\", \"Topic7\", \"Topic7\", \"Topic7\", \"Topic7\", \"Topic7\", \"Topic7\", \"Topic7\", \"Topic7\", \"Topic7\", \"Topic8\", \"Topic8\", \"Topic8\", \"Topic8\", \"Topic8\", \"Topic8\", \"Topic8\", \"Topic8\", \"Topic8\", \"Topic8\", \"Topic8\", \"Topic8\", \"Topic8\", \"Topic8\", \"Topic8\", \"Topic8\", \"Topic8\", \"Topic8\", \"Topic8\", \"Topic8\", \"Topic8\", \"Topic8\", \"Topic8\", \"Topic8\", \"Topic8\", \"Topic8\", \"Topic8\", \"Topic8\", \"Topic8\", \"Topic8\", \"Topic8\", \"Topic8\", \"Topic8\", \"Topic8\", \"Topic8\", \"Topic8\", \"Topic8\", \"Topic8\", \"Topic8\", \"Topic8\", \"Topic8\", \"Topic8\", \"Topic8\", \"Topic8\", \"Topic8\", \"Topic8\", \"Topic8\", \"Topic8\", \"Topic8\", \"Topic8\", \"Topic8\", \"Topic8\", \"Topic8\", \"Topic8\", \"Topic8\", \"Topic8\", \"Topic8\", \"Topic8\", \"Topic8\", \"Topic8\", \"Topic8\", \"Topic8\", \"Topic8\", \"Topic8\", \"Topic8\", \"Topic8\", \"Topic8\", \"Topic8\", \"Topic8\", \"Topic8\", \"Topic8\", \"Topic8\", \"Topic8\", \"Topic8\", \"Topic8\", \"Topic8\", \"Topic8\", \"Topic8\", \"Topic8\", \"Topic8\", \"Topic8\", \"Topic8\", \"Topic8\", \"Topic8\", \"Topic8\", \"Topic8\", \"Topic8\", \"Topic8\", \"Topic8\", \"Topic8\", \"Topic8\", \"Topic8\", \"Topic8\", \"Topic8\", \"Topic8\", \"Topic8\", \"Topic8\", \"Topic8\", \"Topic8\", \"Topic8\", \"Topic8\", \"Topic8\", \"Topic8\", \"Topic8\", \"Topic8\", \"Topic8\", \"Topic8\", \"Topic8\", \"Topic8\", \"Topic8\", \"Topic8\", \"Topic8\", \"Topic8\", \"Topic8\", \"Topic8\", \"Topic8\", \"Topic8\", \"Topic8\", \"Topic8\", \"Topic8\", \"Topic8\", \"Topic9\", \"Topic9\", \"Topic9\", \"Topic9\", \"Topic9\", \"Topic9\", \"Topic9\", \"Topic9\", \"Topic9\", \"Topic9\", \"Topic9\", \"Topic9\", \"Topic9\", \"Topic9\", \"Topic9\", \"Topic9\", \"Topic9\", \"Topic9\", \"Topic9\", \"Topic9\", \"Topic9\", \"Topic9\", \"Topic9\", \"Topic9\", \"Topic9\", \"Topic9\", \"Topic9\", \"Topic9\", \"Topic9\", \"Topic9\", \"Topic9\", \"Topic9\", \"Topic9\", \"Topic9\", \"Topic9\", \"Topic9\", \"Topic9\", \"Topic9\", \"Topic9\", \"Topic9\", \"Topic9\", \"Topic9\", \"Topic9\", \"Topic9\", \"Topic9\", \"Topic9\", \"Topic9\", \"Topic9\", \"Topic9\", \"Topic9\", \"Topic9\", \"Topic9\", \"Topic9\", \"Topic9\", \"Topic9\", \"Topic9\", \"Topic9\", \"Topic9\", \"Topic9\", \"Topic9\", \"Topic9\", \"Topic9\", \"Topic9\", \"Topic9\", \"Topic10\", \"Topic10\", \"Topic10\", \"Topic10\", \"Topic10\", \"Topic10\", \"Topic10\", \"Topic10\", \"Topic10\", \"Topic10\", \"Topic10\", \"Topic10\", \"Topic10\", \"Topic10\", \"Topic10\", \"Topic10\", \"Topic10\", \"Topic10\", \"Topic10\", \"Topic10\", \"Topic10\", \"Topic10\", \"Topic10\", \"Topic10\", \"Topic10\", \"Topic10\", \"Topic10\", \"Topic10\", \"Topic10\", \"Topic10\", \"Topic10\", \"Topic10\", \"Topic10\", \"Topic10\", \"Topic10\", \"Topic10\", \"Topic10\", \"Topic10\", \"Topic10\", \"Topic10\", \"Topic10\", \"Topic10\", \"Topic10\", \"Topic10\", \"Topic10\", \"Topic10\", \"Topic10\", \"Topic10\", \"Topic10\", \"Topic10\", \"Topic10\", \"Topic10\", \"Topic10\", \"Topic10\", \"Topic10\", \"Topic10\", \"Topic10\", \"Topic10\", \"Topic10\", \"Topic10\", \"Topic10\", \"Topic10\", \"Topic10\", \"Topic10\", \"Topic10\", \"Topic10\", \"Topic10\", \"Topic10\", \"Topic10\", \"Topic10\", \"Topic10\"], \"logprob\": [30.0, 29.0, 28.0, 27.0, 26.0, 25.0, 24.0, 23.0, 22.0, 21.0, 20.0, 19.0, 18.0, 17.0, 16.0, 15.0, 14.0, 13.0, 12.0, 11.0, 10.0, 9.0, 8.0, 7.0, 6.0, 5.0, 4.0, 3.0, 2.0, 1.0, -4.977399826049805, -5.071899890899658, -5.292500019073486, -5.292500019073486, -5.292500019073486, -5.576099872589111, -5.463399887084961, -5.178899765014648, -5.973400115966797, -5.982399940490723, -6.252900123596191, -6.252900123596191, -6.252999782562256, -6.252999782562256, -6.2530999183654785, -4.998499870300293, -6.277500152587891, -5.292500019073486, -5.091400146484375, -5.424300193786621, -6.642399787902832, -6.642399787902832, -6.642399787902832, -6.642399787902832, -6.642399787902832, -6.642399787902832, -6.642399787902832, -6.642399787902832, -6.642399787902832, -6.642399787902832, -5.080999851226807, -5.000800132751465, -4.977399826049805, -4.930200099945068, -4.7459001541137695, -5.755099773406982, -4.780300140380859, -4.672599792480469, -5.424699783325195, -5.17609977722168, -4.927999973297119, -4.298600196838379, -4.8520002365112305, -4.077600002288818, -4.350399971008301, -4.462800025939941, -4.275199890136719, -4.172999858856201, -4.805500030517578, -4.691100120544434, -5.23360013961792, -5.041999816894531, -5.247099876403809, -5.263400077819824, -3.9347000122070312, -4.974299907684326, -5.305099964141846, -5.305099964141846, -5.305099964141846, -5.5233001708984375, -5.5233001708984375, -4.9741997718811035, -5.8028998374938965, -5.8028998374938965, -5.8028998374938965, -5.8028998374938965, -5.808800220489502, -5.313799858093262, -5.316199779510498, -6.192399978637695, -6.192399978637695, -6.192399978637695, -6.192399978637695, -6.192399978637695, -6.192399978637695, -6.192399978637695, -6.192500114440918, -6.195199966430664, -5.5233001708984375, -5.146399974822998, -4.644199848175049, -4.9741997718811035, -5.3053998947143555, -5.8028998374938965, -3.3017001152038574, -3.5390000343322754, -4.452600002288818, -5.5233001708984375, -5.5233001708984375, -5.5233001708984375, -4.974299907684326, -5.3420000076293945, -5.5233001708984375, -5.5233001708984375, -5.125999927520752, -5.305099964141846, -4.8557000160217285, -5.541299819946289, -4.535699844360352, -5.226200103759766, -5.2657999992370605, -5.021599769592285, -5.13100004196167, -5.013999938964844, -5.258399963378906, -5.268199920654297, -5.238699913024902, -5.360799789428711, -5.30709981918335, -4.565000057220459, -5.726600170135498, -5.726600170135498, -4.50029993057251, -6.006199836730957, -6.006199836730957, -6.006199836730957, -4.929299831390381, -6.395699977874756, -6.395699977874756, -6.395699977874756, -6.395699977874756, -6.395699977874756, -6.395699977874756, -6.395699977874756, -6.395699977874756, -6.395699977874756, -6.395699977874756, -6.395699977874756, -6.395699977874756, -6.396299839019775, -5.329400062561035, -5.3292999267578125, -5.189799785614014, -5.508399963378906, -5.763800144195557, -5.513800144195557, -7.042300224304199, -7.042300224304199, -7.042300224304199, -7.042300224304199, -7.042300224304199, -7.042300224304199, -7.042300224304199, -7.042300224304199, -6.395699977874756, -7.042300224304199, -4.460899829864502, -6.395699977874756, -6.006199836730957, -5.901400089263916, -5.1153998374938965, -4.559700012207031, -4.853899955749512, -4.1433000564575195, -4.344200134277344, -4.982699871063232, -4.848299980163574, -5.342199802398682, -4.568399906158447, -5.055300235748291, -4.742700099945068, -5.412099838256836, -5.219600200653076, -5.607600212097168, -4.814700126647949, -4.353499889373779, -5.3292999267578125, -5.3292999267578125, -5.3292999267578125, -5.508399963378906, -5.224400043487549, -4.875400066375732, -4.999499797821045, -4.940800189971924, -5.284299850463867, -5.14900016784668, -5.319799900054932, -3.9449000358581543, -5.075900077819824, -6.036399841308594, -6.036399841308594, -5.359499931335449, -4.89300012588501, -3.6986000537872314, -6.425899982452393, -6.425899982452393, -6.425899982452393, -6.425899982452393, -6.425899982452393, -6.425899982452393, -6.425899982452393, -6.4274001121521, -5.756800174713135, -6.036399841308594, -5.359499931335449, -5.550600051879883, -7.072500228881836, -7.072500228881836, -7.072500228881836, -7.072500228881836, -7.072500228881836, -7.072500228881836, -7.072500228881836, -7.072500228881836, -7.072500228881836, -7.072500228881836, -7.072500228881836, -4.051300048828125, -7.072500228881836, -7.072500228881836, -7.072500228881836, -7.072500228881836, -7.072500228881836, -7.072500228881836, -7.072500228881836, -7.072500228881836, -7.072500228881836, -4.060299873352051, -6.425899982452393, -7.072500228881836, -7.072500228881836, -6.425899982452393, -6.425899982452393, -7.072500228881836, -6.425899982452393, -6.425899982452393, -6.425899982452393, -6.427199840545654, -6.425899982452393, -6.425899982452393, -5.394400119781494, -4.791800022125244, -6.068399906158447, -3.9683001041412354, -5.249300003051758, -4.453100204467773, -3.63700008392334, -5.359499931335449, -5.586900234222412, -5.565899848937988, -4.7058000564575195, -4.424699783325195, -5.756800174713135, -4.657100200653076, -5.492400169372559, -4.432400226593018, -5.359499931335449, -5.10290002822876, -5.021699905395508, -5.556600093841553, -5.04580020904541, -4.848800182342529, -5.164999961853027, -5.32889986038208, -4.997700214385986, -5.228400230407715, -5.207399845123291, -5.341700077056885, -5.346499919891357, -5.241399765014648, -6.069200038909912, -6.069200038909912, -6.069200038909912, -6.069200038909912, -6.069200038909912, -2.9855000972747803, -5.571599960327148, -6.458600044250488, -6.458600044250488, -6.458600044250488, -6.458600044250488, -6.458600044250488, -6.458600044250488, -6.458600044250488, -6.458600044250488, -6.458600044250488, -6.45959997177124, -6.461400032043457, -6.463600158691406, -4.487400054931641, -6.520500183105469, -6.524899959564209, -5.148200035095215, -6.069200038909912, -6.069200038909912, -4.5081000328063965, -5.159800052642822, -3.341399908065796, -4.923299789428711, -2.9319000244140625, -5.027400016784668, -4.594699859619141, -4.182700157165527, -3.733799934387207, -5.2204999923706055, -4.178800106048584, -5.472400188446045, -5.0619001388549805, -5.086599826812744, -4.183700084686279, -5.571300029754639, -5.208600044250488, -4.592800140380859, -5.102700233459473, -4.739999771118164, -4.900700092315674, -5.091599941253662, -4.683499813079834, -4.640900135040283, -5.1132001876831055, -4.871399879455566, -5.364999771118164, -5.313199996948242, -5.320400238037109, -5.771699905395508, -5.9899001121521, -6.269499778747559, -6.269499778747559, -6.269499778747559, -6.269499778747559, -6.269499778747559, -6.269499778747559, -5.385700225830078, -5.440800189971924, -6.658999919891357, -6.658999919891357, -6.658999919891357, -6.658999919891357, -6.658999919891357, -6.658999919891357, -6.658999919891357, -6.658999919891357, -6.658999919891357, -6.658999919891357, -6.658999919891357, -6.658999919891357, -6.658999919891357, -6.658999919891357, -6.658999919891357, -6.658999919891357, -6.658999919891357, -6.658999919891357, -6.658999919891357, -6.65910005569458, -5.9899001121521, -4.8968000411987305, -5.17110013961792, -3.4951000213623047, -5.639800071716309, -5.9899001121521, -6.269499778747559, -5.9899001121521, -4.904399871826172, -6.269499778747559, -4.760900020599365, -5.703000068664551, -5.771699905395508, -5.592599868774414, -5.148399829864502, -5.42110013961792, -5.625999927520752, -4.708000183105469, -5.440800189971924, -5.989999771118164, -5.440800189971924, -4.718100070953369, -4.943900108337402, -4.708099842071533, -4.184100151062012, -4.731200218200684, -5.192599773406982, -5.440800189971924, -5.002399921417236, -5.363900184631348, -4.754499912261963, -5.483699798583984, -5.234600067138672, -5.351900100708008, -5.192800045013428, -5.293399810791016, -5.2133002281188965, -5.343500137329102, -5.458499908447266, -5.454400062561035, -4.913700103759766, -5.59060001373291, -5.59060001373291, -5.59060001373291, -4.91379976272583, -5.980100154876709, -5.980100154876709, -5.980100154876709, -5.310999870300293, -5.310999870300293, -5.092800140380859, -5.59060001373291, -5.310999870300293, -6.626699924468994, -6.626699924468994, -6.626699924468994, -6.626699924468994, -6.626699924468994, -6.626699924468994, -6.626699924468994, -6.626699924468994, -6.626699924468994, -6.626699924468994, -6.626699924468994, -6.626699924468994, -6.626699924468994, -6.626699924468994, -6.626699924468994, -6.626699924468994, -6.626699924468994, -6.626699924468994, -6.626699924468994, -6.626699924468994, -6.626699924468994, -6.626699924468994, -6.626699924468994, -6.626699924468994, -6.626699924468994, -6.626699924468994, -6.626699924468994, -6.626699924468994, -6.626699924468994, -6.626699924468994, -6.626699924468994, -6.626699924468994, -6.626699924468994, -6.626699924468994, -6.626699924468994, -6.626699924468994, -6.626699924468994, -6.626699924468994, -6.626699924468994, -4.913700103759766, -6.626699924468994, -5.980100154876709, -5.980100154876709, -5.310999870300293, -4.419600009918213, -5.59060001373291, -5.59060001373291, -6.626699924468994, -5.132699966430664, -4.761899948120117, -5.980100154876709, -5.310999870300293, -5.980100154876709, -5.310999870300293, -5.980100154876709, -4.928199768066406, -5.59060001373291, -5.419000148773193, -5.048399925231934, -5.345300197601318, -4.216599941253662, -5.59060001373291, -5.59060001373291, -5.310999870300293, -4.913700103759766, -5.667300224304199, -5.197199821472168, -5.3480000495910645, -5.251299858093262, -5.309500217437744, -5.238999843597412, -5.419300079345703, -5.4532999992370605, -5.59060001373291, -5.59060001373291, -5.522900104522705, -5.8024001121521, -4.287700176239014, -6.19189977645874, -6.19189977645874, -6.19189977645874, -6.19189977645874, -6.19189977645874, -6.19189977645874, -6.19189977645874, -6.19189977645874, -6.19189977645874, -4.458399772644043, -5.8024001121521, -4.752500057220459, -6.838500022888184, -6.838500022888184, -6.838500022888184, -6.838500022888184, -6.838500022888184, -6.838500022888184, -6.838500022888184, -6.838500022888184, -6.838500022888184, -6.838500022888184, -6.838500022888184, -6.838500022888184, -6.838500022888184, -6.838500022888184, -6.838500022888184, -6.838500022888184, -6.838500022888184, -6.838500022888184, -6.838500022888184, -6.838500022888184, -6.838500022888184, -6.838500022888184, -6.838500022888184, -6.838500022888184, -6.838500022888184, -6.838500022888184, -6.838500022888184, -6.838500022888184, -6.838500022888184, -6.838500022888184, -6.838500022888184, -6.838500022888184, -6.838500022888184, -6.838500022888184, -6.838500022888184, -6.838500022888184, -6.838500022888184, -6.838500022888184, -6.838500022888184, -6.838500022888184, -6.838500022888184, -6.838500022888184, -6.838500022888184, -6.838500022888184, -6.838500022888184, -6.838500022888184, -6.838500022888184, -6.838500022888184, -6.838500022888184, -6.838500022888184, -6.838500022888184, -6.838500022888184, -6.838500022888184, -6.838500022888184, -5.8024001121521, -5.125500202178955, -6.838500022888184, -6.19189977645874, -6.838500022888184, -6.838500022888184, -6.838500022888184, -6.838500022888184, -6.838500022888184, -6.838500022888184, -6.838500022888184, -6.19189977645874, -6.192399978637695, -6.19189977645874, -6.838500022888184, -6.838500022888184, -6.838500022888184, -6.838500022888184, -6.838500022888184, -6.838500022888184, -5.125500202178955, -5.418799877166748, -6.838500022888184, -5.8024001121521, -6.247499942779541, -5.8024001121521, -4.826200008392334, -5.8024001121521, -6.838500022888184, -6.271900177001953, -5.332900047302246, -5.05049991607666, -5.357900142669678, -5.522799968719482, -5.594699859619141, -5.304599761962891, -4.690100193023682, -4.436399936676025, -4.997900009155273, -5.304599761962891, -4.889400005340576, -5.058899879455566, -5.125500202178955, -5.564499855041504, -5.381400108337402, -5.308000087738037, -5.312600135803223, -5.1570000648498535, -5.5243000984191895, -5.4070000648498535, -5.5229997634887695, -5.546199798583984, -4.863100051879883, -4.936600208282471, -6.377799987792969, -6.377799987792969, -6.3821001052856445, -6.767300128936768, -6.767300128936768, -6.767300128936768, -6.767300128936768, -6.767300128936768, -6.767300128936768, -6.767300128936768, -6.767300128936768, -6.767300128936768, -6.767300128936768, -6.767300128936768, -6.767300128936768, -6.767399787902832, -5.581900119781494, -2.9625000953674316, -6.098299980163574, -4.95989990234375, -5.722499847412109, -4.805500030517578, -5.322199821472168, -6.377799987792969, -5.146500110626221, -6.377799987792969, -6.377799987792969, -6.379899978637695, -3.88700008392334, -5.72160005569458, -5.429100036621094, -5.244999885559082, -4.386499881744385, -5.0594000816345215, -3.5804998874664307, -4.1921000480651855, -4.797800064086914, -6.098299980163574, -5.702199935913086, -5.700900077819824, -5.43120002746582, -5.154300212860107, -3.6956000328063965, -5.71999979019165, -5.457399845123291, -4.288899898529053, -5.098299980163574, -4.960000038146973, -4.7652997970581055, -5.445799827575684, -4.603499889373779, -4.4004998207092285, -4.150700092315674, -4.455900192260742, -4.7820000648498535, -4.959400177001953, -5.232999801635742, -5.3302998542785645, -5.345300197601318, -5.125899791717529, -5.235499858856201, -5.298699855804443, -5.025599956512451, -6.091899871826172, -6.091899871826172, -6.091899871826172, -6.091899871826172, -6.091899871826172, -6.204899787902832, -5.702400207519531, -6.738500118255615, -6.738500118255615, -6.738500118255615, -6.738500118255615, -6.738500118255615, -6.738500118255615, -6.738500118255615, -6.738500118255615, -6.738500118255615, -6.738500118255615, -6.738500118255615, -6.738500118255615, -6.738500118255615, -6.738500118255615, -6.738500118255615, -6.738500118255615, -6.738500118255615, -6.738500118255615, -6.738500118255615, -6.738500118255615, -6.738500118255615, -6.738500118255615, -6.091899871826172, -6.091899871826172, -6.091899871826172, -6.091899871826172, -5.204699993133545, -4.237500190734863, -4.427499771118164, -4.161799907684326, -3.5601999759674072, -5.702400207519531, -4.134300231933594, -3.815200090408325, -5.819900035858154, -6.091899871826172, -6.091899871826172, -6.091899871826172, -4.365200042724609, -5.422800064086914, -6.091899871826172, -4.397600173950195, -5.729400157928467, -4.36870002746582, -5.422900199890137, -5.204599857330322, -4.742000102996826, -4.9008002281188965, -4.874800205230713, -4.656099796295166, -5.291299819946289, -5.42140007019043, -5.117499828338623, -4.731599807739258, -4.7133002281188965, -4.820499897003174, -5.422800064086914, -5.702400207519531, -5.163400173187256, -5.3171000480651855, -5.422900199890137, -5.35860013961792, -5.529399871826172], \"loglift\": [30.0, 29.0, 28.0, 27.0, 26.0, 25.0, 24.0, 23.0, 22.0, 21.0, 20.0, 19.0, 18.0, 17.0, 16.0, 15.0, 14.0, 13.0, 12.0, 11.0, 10.0, 9.0, 8.0, 7.0, 6.0, 5.0, 4.0, 3.0, 2.0, 1.0, 1.9479, 1.941, 1.9222, 1.9222, 1.9222, 1.8919, 1.8713, 1.8423, 1.8345, 1.8255, 1.7811, 1.7811, 1.7811, 1.7811, 1.781, 1.7766, 1.7569, 1.7296, 1.7005, 1.69, 1.6844, 1.6844, 1.6844, 1.6844, 1.6844, 1.6844, 1.6844, 1.6844, 1.6844, 1.6844, 1.6481, 1.6414, 1.6053, 1.5489, 1.5053, 1.5946, 1.4724, 1.4429, 1.5165, 1.4691, 1.3116, 1.0656, 1.2191, 0.7627, 0.8327, 0.7674, 0.4616, 0.1619, 0.5306, 0.0718, 0.9047, 0.1339, 0.3577, 0.2965, 2.468, 2.441, 2.3966, 2.3966, 2.3966, 2.3596, 2.3596, 2.3176, 2.3015, 2.3015, 2.3015, 2.3015, 2.2958, 2.2263, 2.2175, 2.1971, 2.1971, 2.1971, 2.1971, 2.1971, 2.197, 2.197, 2.1969, 2.1941, 2.1693, 2.1352, 2.134, 2.1085, 2.1054, 2.0867, 1.8238, 1.8385, 1.888, 2.0326, 2.021, 2.0202, 1.8704, 1.9514, 1.9975, 1.9974, 1.7772, 1.8611, 1.5587, 1.9871, -0.2008, 1.1598, 1.0982, 0.0701, 0.1393, -0.6051, 0.3653, 0.3969, 0.1247, 0.887, -0.0789, 2.2596, 2.1281, 2.1281, 2.1277, 2.0718, 2.0718, 2.0718, 1.9741, 1.9703, 1.9703, 1.9703, 1.9703, 1.9703, 1.9703, 1.9703, 1.9703, 1.9703, 1.9703, 1.9703, 1.9703, 1.9696, 1.9411, 1.9392, 1.8804, 1.8744, 1.7607, 1.7555, 1.7297, 1.7297, 1.7297, 1.7297, 1.7297, 1.7297, 1.7297, 1.7297, 1.7036, 1.7297, 1.5878, 1.6911, 1.6652, 1.6425, 1.5158, 1.4035, 1.4237, 1.0849, 1.0574, 1.291, 1.1063, 1.3615, 0.7676, 1.0302, 0.7981, 1.2668, 1.1032, 1.3881, 0.6923, 0.148, 1.079, 1.0429, 1.0329, 1.2416, 0.5754, -0.4665, -0.2367, -0.6059, 0.5937, -0.6676, -0.2865, 2.242, 2.1735, 2.0271, 2.0271, 2.0053, 1.9807, 1.9425, 1.9272, 1.9272, 1.9272, 1.9272, 1.9272, 1.9272, 1.9272, 1.9258, 1.8928, 1.7949, 1.7778, 1.6973, 1.6898, 1.6898, 1.6898, 1.6898, 1.6898, 1.6898, 1.6898, 1.6898, 1.6898, 1.6898, 1.6898, 1.637, 1.6898, 1.6898, 1.6898, 1.6898, 1.6898, 1.6898, 1.6898, 1.6898, 1.6898, 1.5635, 1.6592, 1.6898, 1.6898, 1.6516, 1.6511, 1.6898, 1.6322, 1.6322, 1.6302, 1.6289, 1.6277, 1.6277, 1.5059, 1.3962, 1.5766, 1.2618, 1.3689, 1.0539, 0.7719, 1.2821, 1.3619, 1.3253, 0.8541, 0.4155, 1.4116, 0.526, 1.1864, 0.3044, 1.0596, 0.8229, 0.6433, 1.176, 0.3318, -0.0859, -0.0395, 0.4709, -0.6628, 0.1077, -0.1157, 0.4547, 0.1032, 2.0046, 1.9952, 1.9952, 1.9952, 1.9952, 1.9952, 1.9712, 1.9308, 1.8952, 1.8952, 1.8952, 1.8952, 1.8952, 1.8952, 1.8952, 1.8952, 1.8952, 1.8943, 1.8925, 1.8902, 1.8546, 1.8355, 1.8289, 1.813, 1.7648, 1.7648, 1.7454, 1.7243, 1.6918, 1.6832, 1.5495, 1.6641, 1.3304, 1.1807, 1.0031, 1.4882, 1.064, 1.4921, 1.2992, 1.238, 0.6566, 1.3319, 1.0689, 0.5832, 0.936, 0.5304, 0.549, 0.7048, 0.0794, -0.232, 0.4915, -0.5365, 0.3001, -0.2215, -0.8189, 1.8665, 1.832, 1.7777, 1.7777, 1.7777, 1.7777, 1.7777, 1.7777, 1.7452, 1.6851, 1.6796, 1.6796, 1.6796, 1.6796, 1.6796, 1.6796, 1.6796, 1.6796, 1.6796, 1.6796, 1.6796, 1.6796, 1.6796, 1.6796, 1.6796, 1.6796, 1.6796, 1.6796, 1.6795, 1.6794, 1.6453, 1.4552, 1.3336, 0.9138, 1.4088, 1.4992, 1.5737, 1.488, 1.1343, 1.5508, 1.0355, 1.3485, 1.3589, 1.274, 1.0651, 1.1656, 1.2476, 0.8328, 1.1038, 1.3545, 1.0291, 0.5522, 0.697, 0.5201, 0.1508, 0.3604, 0.7594, 0.9675, 0.4473, 0.7986, 0.0084, 0.8392, 0.4304, 0.5262, 0.1715, 0.3949, 0.1882, 0.2612, 0.5047, -0.1184, 2.6793, 2.5527, 2.5527, 2.5527, 2.5406, 2.4438, 2.4438, 2.4438, 2.4256, 2.4256, 2.3354, 2.316, 2.2505, 2.1884, 2.1884, 2.1884, 2.1884, 2.1884, 2.1884, 2.1884, 2.1884, 2.1884, 2.1884, 2.1884, 2.1884, 2.1884, 2.1884, 2.1884, 2.1884, 2.1884, 2.1884, 2.1884, 2.1884, 2.1884, 2.1884, 2.1884, 2.1884, 2.1884, 2.1884, 2.1884, 2.1884, 2.1884, 2.1884, 2.1884, 2.1884, 2.1884, 2.1884, 2.1884, 2.1884, 2.1884, 2.1884, 2.1884, 2.1135, 2.1884, 2.1363, 2.1302, 1.9866, 1.8321, 1.9581, 1.9399, 2.1884, 1.7793, 1.5801, 1.9372, 1.6731, 1.9124, 1.6059, 1.8885, 1.2342, 1.6065, 1.4854, 1.2051, 1.3814, 0.1183, 1.5138, 1.5028, 0.9018, -0.1509, 1.5993, 0.3235, 0.4517, -0.1258, -0.0813, -0.7375, -0.1892, -0.0757, 1.3848, 1.2195, 2.3617, 2.3036, 2.2663, 2.199, 2.199, 2.199, 2.199, 2.199, 2.199, 2.1989, 2.1989, 2.1989, 2.1835, 2.092, 1.9742, 1.9521, 1.9521, 1.9521, 1.9521, 1.9521, 1.9521, 1.9521, 1.9521, 1.9521, 1.9521, 1.9521, 1.9521, 1.9521, 1.9521, 1.9521, 1.9521, 1.9521, 1.9521, 1.9521, 1.9521, 1.9521, 1.9521, 1.9521, 1.9521, 1.9521, 1.9521, 1.9521, 1.9521, 1.9521, 1.9521, 1.9521, 1.9521, 1.9521, 1.9521, 1.9521, 1.9521, 1.9521, 1.9521, 1.9521, 1.9521, 1.9521, 1.9521, 1.9521, 1.9521, 1.9521, 1.9521, 1.9521, 1.9521, 1.9521, 1.9521, 1.9521, 1.9521, 1.9521, 1.9521, 1.8966, 1.8485, 1.9521, 1.9047, 1.9521, 1.9521, 1.9521, 1.9521, 1.9521, 1.9521, 1.9521, 1.8921, 1.8916, 1.8896, 1.9521, 1.9521, 1.9521, 1.9521, 1.9521, 1.9521, 1.719, 1.7521, 1.9521, 1.7424, 1.8312, 1.7377, 1.5017, 1.7233, 1.9521, 1.8056, 1.4447, 1.224, 1.3342, 1.3956, 1.3846, 1.1037, 0.4015, -0.1015, 0.562, 0.9471, 0.3388, 0.582, 0.6742, 1.2479, 0.9433, 0.8142, 0.642, 0.2064, 0.9456, 0.0427, -0.1869, -0.3631, 1.8472, 1.8428, 1.6635, 1.6635, 1.6592, 1.566, 1.566, 1.566, 1.566, 1.566, 1.566, 1.566, 1.566, 1.566, 1.566, 1.566, 1.566, 1.5659, 1.5501, 1.5391, 1.5382, 1.5242, 1.5108, 1.485, 1.4724, 1.4546, 1.4517, 1.4474, 1.4474, 1.4454, 1.3558, 1.4081, 1.381, 1.3054, 1.1343, 1.2446, 0.9009, 0.9839, 1.1149, 1.3917, 1.2747, 1.2608, 1.1786, 1.0853, 0.6393, 1.2491, 1.1599, 0.7444, 1.0173, 0.9181, 0.7418, 1.0988, 0.5796, 0.4398, 0.2582, 0.3069, 0.4481, 0.1322, 0.4756, 0.7552, 0.7672, -0.3891, 0.166, 0.3061, 2.5519, 2.32, 2.32, 2.32, 2.32, 2.32, 2.2017, 2.1848, 2.0677, 2.0677, 2.0677, 2.0677, 2.0677, 2.0677, 2.0677, 2.0677, 2.0677, 2.0677, 2.0677, 2.0677, 2.0677, 2.0677, 2.0677, 2.0677, 2.0677, 2.0677, 2.0677, 2.0677, 2.0677, 2.0677, 2.0299, 2.0299, 2.0153, 2.0153, 1.8795, 1.6875, 1.6154, 1.379, 1.1767, 1.7285, 1.1361, 0.9476, 1.724, 1.8254, 1.8153, 1.8045, 1.0363, 1.489, 1.7776, 0.9667, 1.5396, 0.723, 1.2858, 1.1182, 0.7077, 0.8078, 0.646, 0.1841, 0.9215, 1.0485, 0.5708, -0.2301, -0.3044, -0.4856, 0.8249, 1.402, 0.0648, -0.1411, 0.2009, -0.1158, 0.5832]}, \"token.table\": {\"Topic\": [8, 8, 1, 2, 2, 3, 10, 8, 6, 3, 7, 6, 8, 5, 6, 7, 9, 2, 3, 4, 6, 8, 5, 8, 7, 3, 8, 7, 2, 2, 7, 8, 7, 1, 4, 6, 4, 2, 4, 4, 4, 5, 3, 6, 8, 1, 9, 1, 3, 4, 5, 6, 7, 8, 8, 1, 5, 7, 8, 10, 1, 8, 9, 3, 4, 5, 7, 8, 6, 10, 4, 5, 6, 8, 9, 4, 8, 10, 4, 4, 8, 1, 3, 4, 5, 6, 7, 8, 9, 10, 1, 2, 8, 1, 2, 4, 5, 6, 7, 8, 9, 1, 5, 7, 8, 1, 1, 4, 3, 7, 1, 4, 5, 6, 9, 2, 4, 6, 8, 9, 7, 8, 8, 1, 3, 4, 5, 8, 10, 1, 5, 2, 6, 7, 8, 1, 2, 3, 4, 7, 8, 9, 10, 1, 3, 6, 7, 8, 10, 3, 5, 9, 10, 1, 3, 6, 7, 8, 9, 8, 3, 8, 9, 1, 4, 6, 4, 10, 3, 5, 6, 8, 10, 8, 5, 7, 7, 2, 10, 10, 10, 8, 7, 3, 4, 5, 9, 3, 3, 2, 5, 1, 2, 1, 2, 3, 4, 6, 7, 8, 9, 10, 7, 1, 4, 5, 7, 2, 8, 10, 7, 4, 2, 3, 5, 6, 7, 8, 10, 10, 1, 3, 4, 5, 9, 10, 1, 2, 4, 5, 2, 7, 1, 3, 4, 7, 8, 9, 10, 1, 2, 4, 5, 6, 9, 10, 8, 9, 4, 8, 10, 1, 4, 5, 10, 10, 4, 6, 1, 3, 5, 6, 7, 8, 9, 10, 8, 8, 3, 3, 8, 9, 10, 7, 1, 3, 4, 6, 8, 10, 3, 7, 4, 7, 1, 8, 6, 1, 4, 1, 10, 6, 2, 3, 6, 7, 8, 6, 1, 5, 7, 10, 10, 6, 8, 1, 8, 5, 10, 7, 7, 9, 7, 3, 1, 3, 6, 8, 7, 8, 10, 9, 4, 2, 10, 1, 3, 5, 8, 6, 5, 3, 5, 6, 7, 9, 10, 6, 7, 4, 1, 3, 5, 6, 8, 9, 10, 3, 10, 1, 3, 4, 5, 6, 7, 8, 9, 10, 9, 8, 2, 5, 6, 9, 7, 2, 3, 6, 10, 4, 6, 5, 6, 9, 3, 4, 2, 1, 2, 3, 4, 5, 6, 9, 10, 1, 5, 2, 5, 8, 9, 6, 10, 2, 3, 6, 1, 2, 3, 5, 6, 7, 9, 10, 7, 8, 4, 10, 8, 10, 10, 5, 4, 3, 9, 2, 5, 10, 1, 3, 4, 5, 6, 7, 8, 9, 10, 8, 7, 2, 3, 1, 3, 4, 5, 6, 8, 9, 10, 7, 8, 3, 2, 3, 4, 6, 8, 9, 7, 3, 1, 2, 3, 4, 5, 6, 7, 8, 9, 10, 2, 6, 7, 10, 8, 1, 2, 3, 4, 5, 7, 8, 9, 4, 6, 10, 1, 4, 7, 8, 8, 8, 8, 2, 3, 4, 5, 6, 9, 8, 1, 4, 3, 6, 8, 8, 6, 1, 6, 7, 1, 3, 6, 7, 8, 9, 1, 2, 3, 6, 8, 9, 3, 5, 7, 2, 10, 7, 7, 1, 3, 5, 6, 7, 8, 9, 1, 3, 5, 6, 7, 8, 9, 10, 4, 2, 6, 1, 4, 6, 3, 4, 8, 7, 8, 1, 5, 7, 2, 3, 6, 7, 8, 10, 4, 1, 6, 3, 6, 7, 8, 1, 4, 6, 7, 10, 1, 3, 6, 7, 8, 9, 10, 1, 2, 7, 8, 8, 1, 2, 1, 1, 7, 9, 10, 1, 3, 6, 9, 7, 10, 8, 9, 1, 2, 3, 4, 6, 7, 8, 9, 10, 10, 4, 4, 1, 7, 9, 8, 10, 8, 1, 3, 4, 5, 6, 8, 10, 3, 9, 8, 4, 8, 1, 4, 7, 9, 1, 6, 2, 3, 8, 9, 1, 2, 3, 5, 6, 8, 9, 8, 1, 8, 1, 2, 3, 6, 8, 9, 1, 3, 5, 10, 8, 1, 2, 3, 5, 6, 9, 8, 5, 9, 3, 9, 10, 4, 4, 6, 2, 5, 7, 2, 4, 6, 9, 1, 2, 4, 6, 7, 10, 1, 3, 4, 7, 9, 4, 9, 7, 1, 3, 6, 7, 8, 9, 10, 2, 4, 6, 9, 10, 3, 4, 6, 8, 9, 1, 3, 5, 7, 8, 9, 10, 1, 4, 6, 8, 10, 7, 8, 10, 2, 1, 2, 1, 3, 6, 7, 8, 9, 10, 1, 8, 2, 1, 2, 3, 4, 5, 6, 7, 8, 9, 10, 8, 3, 9, 8, 3, 3, 1, 3, 4, 5, 9, 10, 8, 10, 1, 2, 3, 8, 2, 7, 4, 4, 9, 1, 4, 1, 5, 6, 9, 10, 1, 2, 3, 3, 7, 1, 6, 8, 8, 2, 6, 9, 1, 3, 5, 7, 8, 9, 10, 1, 4, 5, 6, 8, 9, 10, 5, 4, 3, 1, 4, 6, 9, 3, 8, 10, 1, 7, 9, 6, 3, 7, 7, 1, 2, 3, 4, 5, 6, 8, 9, 10, 4, 6, 7, 1, 8, 9, 1, 1, 4, 8, 3, 6, 7, 9, 10, 4, 9, 5, 10, 4, 10, 2, 4, 5, 6, 8, 10, 7, 6, 3, 2, 8, 6, 9, 1, 2, 3, 4, 5, 6, 8, 9, 10, 2, 3, 4, 5, 6, 7, 8, 9, 1, 2, 3, 4, 5, 6, 7, 8, 9, 10, 1, 2, 4, 6, 8, 8, 7, 6, 8, 1, 4, 8, 9, 5, 4, 1, 3, 5, 7, 7, 2, 3, 4, 5, 7, 8, 9, 10, 7, 1, 3, 8, 10, 2, 4, 2, 5, 6, 8, 10, 2, 1, 2, 3, 4, 5, 6, 8, 8, 9, 1, 4, 6, 9, 1, 7, 9, 9, 5, 1, 3, 4, 7, 8, 9, 2, 7, 9, 1, 2, 3, 4, 6, 7, 10, 4, 6, 1, 2, 6, 2, 4, 8, 9, 2, 4, 6, 7, 8, 8, 1, 2, 5, 6, 10, 8, 4, 9, 7, 8, 3, 9, 3, 5, 6, 7, 9, 10, 1, 4, 5, 6, 7, 1, 6, 3, 9, 7, 1, 9, 1, 2, 3, 4, 5, 6, 7, 8, 9, 10, 6, 2, 3, 5, 6, 8, 2, 3, 5, 7, 8, 10, 1, 2, 5, 6, 8, 1, 8, 4, 3, 2, 1, 5, 6, 7, 8, 9, 10, 6, 7, 1, 2, 3, 5, 6, 7, 8, 9, 10, 7, 1, 6, 7, 8, 10, 1, 2, 3, 4, 5, 6, 8, 9, 10, 10, 1, 8, 9, 8, 9, 1, 3, 5, 6, 8, 5, 2, 8, 1, 4, 5, 6, 8, 6, 8, 4, 4, 6, 2, 5, 9, 3, 4, 6, 7, 8, 9, 3, 4, 5, 8, 3, 7, 9, 3, 7, 8, 4, 8, 6, 1, 2, 5, 2, 3, 8, 6, 9, 1, 3, 4, 5, 6, 8, 9, 10, 4, 8, 6, 7, 9, 10, 3, 8, 9, 3, 6, 8, 3, 4, 10, 2, 3, 5, 6, 8, 9, 10, 1, 3, 4, 5, 6, 7, 8, 9, 10, 9, 5, 6, 1, 7, 1, 2, 5, 7, 1, 2, 5, 6, 8, 9, 2, 7, 8, 9, 8, 1, 3, 4, 5, 6, 10, 9, 2, 3, 6, 7, 8, 8, 8, 1, 2, 3, 4, 5, 6, 7, 8, 9, 10, 7, 1, 1, 8, 10, 1, 2, 3, 8, 10, 7, 1, 2, 3, 4, 6, 8, 9, 1, 6, 9, 3, 6, 7, 4, 4, 7, 6, 1, 4, 7, 8, 1, 3, 4, 5, 6, 7, 8, 9, 10, 8, 5, 3, 6, 9, 10, 1, 6, 1, 6, 7, 8, 9, 10, 7, 2, 7, 1, 3, 4, 6, 7, 9, 7, 8, 1, 3, 4, 5, 6, 8, 9, 3, 4, 6, 7, 5, 7, 8, 9, 10, 5, 1, 7, 8, 9, 10, 3, 5, 6, 7, 9, 2, 5, 8, 10, 7, 8, 1, 4, 8, 6, 7, 8, 3, 2, 3, 4, 5, 6, 8, 9, 3, 6, 9, 10, 5, 9, 2, 10, 10, 1, 3, 5, 9, 9, 1, 2, 3, 6, 7, 3, 8, 3, 4, 6, 7, 8, 10, 1, 6, 9, 4, 1, 2, 3, 4, 6, 7, 9, 9, 2, 1, 2, 3, 4, 6, 7, 8, 9, 1, 10, 1, 2, 3, 4, 6, 8, 10, 1, 2, 3, 4, 5, 7, 8, 9, 10, 1, 3, 4, 6, 9, 10, 1, 2, 3, 4, 6, 8, 9, 10, 3, 4, 6, 7, 9, 1, 3, 7, 9, 8, 4, 1, 2, 4, 7, 8, 9, 10, 3, 9, 2, 6, 4, 1, 9, 6, 5, 4, 10, 8, 10, 7, 6, 8, 7, 5, 8, 3, 8, 10, 7, 4, 1, 6, 7, 10, 8, 7, 5, 8, 9, 4, 8, 6, 1, 5, 6, 1, 1, 2, 3, 4, 5, 6, 8, 9, 10, 1, 2, 8, 9], \"Freq\": [0.6531754032778581, 0.6531754032778581, 0.8906101645033002, 0.11132627056291253, 0.6578506737661495, 0.85436609958891, 0.6634832068001892, 0.6531754032778581, 0.8312577906719392, 0.7685806610142449, 0.9052807205229993, 0.9317579592347143, 0.6531754032778581, 0.0901407493993572, 0.0901407493993572, 0.1802814987987144, 0.6309852457955004, 0.11441506259960618, 0.11441506259960618, 0.11441506259960618, 0.5720753129980309, 0.11441506259960618, 0.8440808189883083, 0.6531754032778581, 0.6693902753611963, 0.3263046007494405, 0.652609201498881, 0.6693902753611963, 0.7905747974933098, 0.5700686861772177, 0.1900228953924059, 0.1900228953924059, 0.6838489296871259, 0.7330838372162375, 0.1221806395360396, 0.1221806395360396, 0.6349502425205894, 0.7295821159395975, 0.1459164231879195, 0.6349502425205894, 0.6349502425205894, 0.8440807305665574, 0.1242217784380293, 0.7453306706281758, 0.8758748081705392, 0.883154478651844, 0.826898988242823, 0.07729168178773811, 0.38645840893869055, 0.038645840893869056, 0.11593752268160717, 0.23187504536321435, 0.07729168178773811, 0.07729168178773811, 0.6531754032778581, 0.08292261745305789, 0.08292261745305789, 0.24876785235917365, 0.5804583221714051, 0.6634832068001892, 0.22854724171562443, 0.6856417251468733, 0.07618241390520815, 0.07616024434683548, 0.3808012217341774, 0.15232048869367096, 0.15232048869367096, 0.15232048869367096, 0.2646728127553802, 0.5293456255107604, 0.16670483167323058, 0.25005724750984587, 0.41676207918307645, 0.08335241583661529, 0.041676207918307645, 0.21925317603521405, 0.4385063520704281, 0.21925317603521405, 0.6349502182813305, 0.6402526996241525, 0.32012634981207627, 0.044075369230978316, 0.28648990000135904, 0.044075369230978316, 0.044075369230978316, 0.1542637923084241, 0.022037684615489158, 0.044075369230978316, 0.17630147692391326, 0.19833916153940243, 0.18584179433179215, 0.7433671773271686, 0.6531754032778581, 0.06096752347849236, 0.12193504695698472, 0.3048376173924618, 0.12193504695698472, 0.06096752347849236, 0.12193504695698472, 0.12193504695698472, 0.12193504695698472, 0.27988382045543525, 0.09329460681847841, 0.18658921363695682, 0.46647303409239205, 0.8215174931756276, 0.31256729615077744, 0.6251345923015549, 0.641138388011426, 0.6693902753611963, 0.8215176006698871, 0.19075586045707082, 0.19075586045707082, 0.47688965114267706, 0.19075586045707082, 0.21349118671459083, 0.10674559335729542, 0.21349118671459083, 0.3202367800718862, 0.21349118671459083, 0.7888439430688091, 0.8758751486982522, 0.6531754032778581, 0.5678456934069305, 0.0516223357642664, 0.2064893430570656, 0.0516223357642664, 0.1032446715285328, 0.6634832068001892, 0.9103384442942126, 0.6319325298575733, 0.5635075240853178, 0.1878358413617726, 0.1878358413617726, 0.6531754032778581, 0.08104228116314453, 0.16208456232628907, 0.4052114058157227, 0.08104228116314453, 0.08104228116314453, 0.08104228116314453, 0.08104228116314453, 0.16208456232628907, 0.150744972242629, 0.452234916727887, 0.150744972242629, 0.0753724861213145, 0.150744972242629, 0.0753724861213145, 0.07624474732811329, 0.579460079693661, 0.3202279387780758, 0.015248949465622656, 0.15325900832387815, 0.3065180166477563, 0.19157376040484766, 0.07662950416193907, 0.15325900832387815, 0.15325900832387815, 0.6531754032778581, 0.6392831668315483, 0.15982079170788707, 0.15982079170788707, 0.9456299078942569, 0.8434125976477863, 0.931757564161555, 0.32978788546260995, 0.6595757709252199, 0.4233636597223369, 0.3175227447917527, 0.15876137239587634, 0.052920457465292114, 0.052920457465292114, 0.6531754032778581, 0.6319327845095275, 0.6838492403135489, 0.6693902753611963, 0.8746527196589642, 0.6634832068001892, 0.6634832068001892, 0.6634832068001892, 0.8758750781019459, 0.6693902753611963, 0.10483805067398329, 0.10483805067398329, 0.6290283040438998, 0.10483805067398329, 0.641138388011426, 0.8543662177631368, 0.8746527318632418, 0.8439609801300556, 0.36692572722001626, 0.5503885908300244, 0.025330912192670293, 0.05066182438534059, 0.22797820973403266, 0.025330912192670293, 0.3039709463120435, 0.025330912192670293, 0.025330912192670293, 0.05066182438534059, 0.2786400341193732, 0.6693902753611963, 0.2502690486575832, 0.5005380973151664, 0.3328105445382159, 0.6656210890764318, 0.8746513073692014, 0.6531754032778581, 0.6634832068001892, 0.6693902753611963, 0.6349502425205894, 0.10313563037091637, 0.051567815185458186, 0.10313563037091637, 0.10313563037091637, 0.3609747062982073, 0.20627126074183275, 0.10313563037091637, 0.6634832068001892, 0.07347073614368477, 0.19592196304982606, 0.29388294457473907, 0.07347073614368477, 0.31837318995596736, 0.024490245381228258, 0.8215175107193403, 0.8746529103701083, 0.18011068439702, 0.72044273758808, 0.17168009882926683, 0.6867203953170673, 0.1488057786478315, 0.04960192621594384, 0.19840770486377535, 0.1488057786478315, 0.09920385243188767, 0.19840770486377535, 0.1488057786478315, 0.21540900642720587, 0.034011948383243035, 0.13604779353297214, 0.28343290319369197, 0.011337316127747677, 0.1020358451497291, 0.21540900642720587, 0.6531754032778581, 0.9615847001749636, 0.6313707828515921, 0.6531754032778581, 0.7766213735505878, 0.11856073942641139, 0.23712147885282278, 0.11856073942641139, 0.47424295770564556, 0.8945105737367632, 0.7848534850490012, 0.15697069700980024, 0.008781417339707762, 0.05268850403824658, 0.5005407883633425, 0.035125669358831046, 0.017562834679415523, 0.008781417339707762, 0.368819528267726, 0.008781417339707762, 0.6531754032778581, 0.6531754032778581, 0.6405928735070273, 0.211341633267086, 0.105670816633543, 0.5283540831677149, 0.211341633267086, 0.6693902753611963, 0.6185285008236788, 0.05154404173530657, 0.10308808347061314, 0.10308808347061314, 0.10308808347061314, 0.05154404173530657, 0.2698463845127776, 0.5396927690255552, 0.6349502425205894, 0.6693902753611963, 0.9195369229366233, 0.875875238976379, 0.8312577589858845, 0.3125677618311058, 0.6251355236622116, 0.8215174931756276, 0.6634832068001892, 0.8312577906719392, 0.6111134371088335, 0.08730191958697622, 0.17460383917395245, 0.08730191958697622, 0.6531754032778581, 0.8312577906719392, 0.16010435916109578, 0.5603652570638352, 0.16010435916109578, 0.16010435916109578, 0.8945105106979553, 0.8312583263760663, 0.6531754032778581, 0.320141144959876, 0.320141144959876, 0.8459441309603081, 0.6634832068001892, 0.6693902753611963, 0.5195617822639635, 0.5195617822639635, 0.6693902753611963, 0.8543662177631368, 0.12062723568084031, 0.30156808920210076, 0.36188170704252093, 0.24125447136168063, 0.2700024498759209, 0.2700024498759209, 0.5400048997518418, 0.826900662176757, 0.8434126782702422, 0.5341972858631283, 0.5341972858631283, 0.10518109531443132, 0.31554328594329395, 0.42072438125772527, 0.7919054012240283, 0.8312577906719392, 0.8440808189883083, 0.2908835088880939, 0.05817670177761878, 0.23270680711047512, 0.11635340355523756, 0.17453010533285634, 0.17453010533285634, 0.8312577906719392, 0.6693902753611963, 0.6349502425205894, 0.10542640883106402, 0.3689924309087241, 0.15813961324659603, 0.15813961324659603, 0.05271320441553201, 0.10542640883106402, 0.10542640883106402, 0.5632622926487812, 0.37550819509918754, 0.09931063154032253, 0.04965531577016127, 0.04965531577016127, 0.04965531577016127, 0.024827657885080633, 0.0744829736552419, 0.04965531577016127, 0.47172549981653206, 0.12413828942540317, 0.826898988242823, 0.6531754032778581, 0.12408325200549439, 0.12408325200549439, 0.12408325200549439, 0.620416260027472, 0.6693902753611963, 0.09895415125509649, 0.6926790587856755, 0.09895415125509649, 0.09895415125509649, 0.6349502425205894, 0.8312577370795217, 0.12360694647918016, 0.741641678875081, 0.12360694647918016, 0.641138388011426, 0.6349502425205894, 0.8793624279732025, 0.016334508687024157, 0.04083627171756039, 0.06533803474809663, 0.2205158672748261, 0.08167254343512079, 0.32669017374048315, 0.1960141042442899, 0.04900352606107247, 0.1393870737395981, 0.8363224424375886, 0.3640858724929621, 0.24272391499530804, 0.06068097874882701, 0.30340489374413504, 0.759804431912913, 0.253268143970971, 0.5147257376372171, 0.12868143440930427, 0.38604430322791283, 0.11597286567122767, 0.09664405472602305, 0.07731524378081844, 0.1739592985068415, 0.23194573134245533, 0.01932881094520461, 0.07731524378081844, 0.21261692039725072, 0.6693902753611963, 0.6531754032778581, 0.3297879376597433, 0.6595758753194866, 0.6531754032778581, 0.4449100369301257, 0.8945105737367632, 0.844111799920856, 0.6349502425205894, 0.3557964202263414, 0.5336946303395121, 0.7482163925409587, 0.18705409813523968, 0.6634832068001892, 0.09845228199881416, 0.16408713666469027, 0.16408713666469027, 0.09845228199881416, 0.06563485466587611, 0.09845228199881416, 0.16408713666469027, 0.09845228199881416, 0.06563485466587611, 0.6531754032778581, 0.6693902753611963, 0.8746465168546712, 0.8543661722761565, 0.13591730627715948, 0.18122307503621263, 0.04530576875905316, 0.04530576875905316, 0.13591730627715948, 0.18122307503621263, 0.13591730627715948, 0.09061153751810631, 0.6693902753611963, 0.6531754032778581, 0.641138388011426, 0.05565537566560288, 0.2226215026624115, 0.05565537566560288, 0.2226215026624115, 0.3339322539936173, 0.11131075133120576, 0.6693902753611963, 0.6405922624986197, 0.09250270644794506, 0.023125676611986265, 0.023125676611986265, 0.11562838305993133, 0.18500541289589012, 0.2081310895078764, 0.04625135322397253, 0.0693770298359588, 0.09250270644794506, 0.1387540596719176, 0.16770044259112368, 0.16770044259112368, 0.33540088518224737, 0.33540088518224737, 0.6531754032778581, 0.07445489853514156, 0.11168234780271233, 0.03722744926757078, 0.22336469560542466, 0.1861372463378539, 0.03722744926757078, 0.11168234780271233, 0.22336469560542466, 0.2600117877590602, 0.2600117877590602, 0.5200235755181204, 0.16723162588839302, 0.16723162588839302, 0.6689265035535721, 0.8758751639475884, 0.6531754032778581, 0.6531754032778581, 0.6531754032778581, 0.0834202465490521, 0.0834202465490521, 0.3336809861962084, 0.0834202465490521, 0.0834202465490521, 0.3336809861962084, 0.6531754032778581, 0.19211811618121488, 0.7684724647248595, 0.8543661601848983, 0.8252223411555489, 0.6531754032778581, 0.6531754032778581, 0.8312577906719392, 0.6165857247370402, 0.3082928623685201, 0.10276428745617337, 0.31903092621737694, 0.10634364207245897, 0.10634364207245897, 0.21268728414491794, 0.10634364207245897, 0.10634364207245897, 0.11023196083102167, 0.07348797388734778, 0.14697594777469555, 0.11023196083102167, 0.11023196083102167, 0.4409278433240867, 0.8543660950126827, 0.6773187241026702, 0.28221613504277926, 0.53059826735256, 0.26529913367628, 0.6693902753611963, 0.6693902753611963, 0.11505967597546721, 0.11505967597546721, 0.4027088659141352, 0.11505967597546721, 0.057529837987733604, 0.1725895139632008, 0.057529837987733604, 0.15829184907873278, 0.03517596646194062, 0.1934678155406734, 0.07035193292388124, 0.03517596646194062, 0.03517596646194062, 0.4045236143123171, 0.05276394969291093, 0.6349502425205894, 0.8995813477347786, 0.05997208984898524, 0.2077471126912585, 0.415494225382517, 0.2077471126912585, 0.8264536215163362, 0.15026429482115203, 0.6531754032778581, 0.6693902753611963, 0.6531754032778581, 0.36765294092304757, 0.5882447054768761, 0.07353058818460952, 0.32556727741877317, 0.4340897032250309, 0.10852242580625772, 0.10852242580625772, 0.10852242580625772, 0.6634832068001892, 0.6349502425205894, 0.9456298348143982, 0.8312577826871562, 0.1870500434707171, 0.1870500434707171, 0.1870500434707171, 0.3741000869414342, 0.11742815212351343, 0.5284266845558104, 0.2054992662161485, 0.029357038030878357, 0.11742815212351343, 0.9195370984098601, 0.33949050870271885, 0.2546178815270391, 0.08487262717567971, 0.08487262717567971, 0.2546178815270391, 0.08487262717567971, 0.6650385206654161, 0.16625963016635403, 0.08312981508317702, 0.6531754032778581, 0.8758751862264059, 0.3669260240825229, 0.5503890361237844, 0.9456300392544279, 0.19518740245513838, 0.06506246748504613, 0.6506246748504613, 0.06506246748504613, 0.6114500553366733, 0.07643125691708416, 0.22929377075125248, 0.07643125691708416, 0.5454667984223346, 0.5454667984223346, 0.6444336273717906, 0.3222168136858953, 0.11518906945812897, 0.057594534729064485, 0.2879726736453224, 0.11518906945812897, 0.17278360418719346, 0.057594534729064485, 0.057594534729064485, 0.17278360418719346, 0.057594534729064485, 0.6634832068001892, 0.6349502425205894, 0.6313707598509767, 0.5095014637820303, 0.05095014637820303, 0.4585513174038273, 0.6531754032778581, 0.6634832068001892, 0.6531754032778581, 0.1451657574835795, 0.09677717165571967, 0.4354972724507385, 0.09677717165571967, 0.09677717165571967, 0.048388585827859834, 0.048388585827859834, 0.24875705446628232, 0.7462711633988469, 0.6531754032778581, 0.6349502182813305, 0.6531754032778581, 0.14229276011929615, 0.14229276011929615, 0.2845855202385923, 0.42687828035788844, 0.20570023994369066, 0.617100719831072, 0.5845819382471352, 0.1461454845617838, 0.2922909691235676, 0.8268989516458167, 0.148914656961071, 0.04963821898702367, 0.04963821898702367, 0.04963821898702367, 0.39710575189618935, 0.09927643797404734, 0.19855287594809468, 0.6531754032778581, 0.3213964124972421, 0.6427928249944842, 0.06952556391950673, 0.06952556391950673, 0.06952556391950673, 0.06952556391950673, 0.13905112783901347, 0.5562045113560539, 0.19410651946991833, 0.09705325973495917, 0.582319558409755, 0.09705325973495917, 0.6531754032778581, 0.07098444745096837, 0.07098444745096837, 0.17746111862742092, 0.07098444745096837, 0.2129533423529051, 0.35492223725484184, 0.6531754032778581, 0.5018865884559789, 0.25094329422798944, 0.7128179044748807, 0.14256358089497614, 0.14256358089497614, 0.6349502425205894, 0.6279340034823856, 0.3139670017411928, 0.2660456891033534, 0.2660456891033534, 0.5320913782067068, 0.1775101196423148, 0.0887550598211574, 0.0887550598211574, 0.6212854187481018, 0.1995713660352908, 0.0997856830176454, 0.1995713660352908, 0.0997856830176454, 0.0997856830176454, 0.2993570490529362, 0.15810083427235408, 0.31620166854470816, 0.31620166854470816, 0.07905041713617704, 0.07905041713617704, 0.626686420901446, 0.313343210450723, 0.9052807640581514, 0.10868303867140978, 0.10868303867140978, 0.10868303867140978, 0.05434151933570489, 0.05434151933570489, 0.5434151933570489, 0.05434151933570489, 0.056006630079275144, 0.7280861910305769, 0.11201326015855029, 0.056006630079275144, 0.056006630079275144, 0.46301677198488433, 0.04209243381680766, 0.16836973526723065, 0.08418486763361532, 0.21046216908403834, 0.2692242191527966, 0.08974140638426553, 0.1346121095763983, 0.044870703192132766, 0.044870703192132766, 0.31409492234492936, 0.1346121095763983, 0.06641743685965336, 0.13283487371930672, 0.5313394948772269, 0.19925231057896006, 0.06641743685965336, 0.6693902753611963, 0.6531754032778581, 0.6634832068001892, 0.6577510852286544, 0.8215175880103225, 0.657750513160034, 0.21103887165539148, 0.10551943582769574, 0.10551943582769574, 0.05275971791384787, 0.26379858956923935, 0.26379858956923935, 0.05275971791384787, 0.32051336233758887, 0.32051336233758887, 0.8793623542314641, 0.048497042578615354, 0.08082840429769227, 0.048497042578615354, 0.09699408515723071, 0.08082840429769227, 0.19398817031446142, 0.016165680859538453, 0.11315976601676916, 0.17782248945492296, 0.14549112773584608, 0.6531754032778581, 0.8543661086105014, 0.9262860004816247, 0.6531754032778581, 0.854366054683822, 0.641138388011426, 0.289158870691631, 0.037716374438038824, 0.1508654977521553, 0.20115399700287373, 0.22629824662823295, 0.07543274887607765, 0.3346375632299127, 0.6692751264598255, 0.8700965437953239, 0.563026498432622, 0.18767549947754067, 0.18767549947754067, 0.6577511095397662, 0.6693902753611963, 0.8434118515643697, 0.20596448002400838, 0.6178934400720252, 0.20867702240722924, 0.6260310672216878, 0.018803712847604452, 0.30085940556167123, 0.037607425695208904, 0.582915098275738, 0.05641113854281335, 0.184867511233482, 0.554602533700446, 0.184867511233482, 0.641138388011426, 0.9052808895477463, 0.3185768365988861, 0.10619227886629536, 0.5309613943314768, 0.6531754032778581, 0.13762912213566642, 0.13762912213566642, 0.688145610678332, 0.17469291869472617, 0.26203937804208927, 0.04367322967368154, 0.08734645934736308, 0.08734645934736308, 0.3057126077157708, 0.08734645934736308, 0.09775271315161758, 0.39101085260647034, 0.09775271315161758, 0.09775271315161758, 0.09775271315161758, 0.09775271315161758, 0.19550542630323517, 0.8440807305665574, 0.8434125700024893, 0.641138388011426, 0.6462375993344389, 0.1436083554076531, 0.1436083554076531, 0.07180417770382655, 0.13954257570946937, 0.7674841664020815, 0.13954257570946937, 0.1852616726435625, 0.370523345287125, 0.1852616726435625, 0.9317575914968147, 0.8543660499668936, 0.6693902753611963, 0.6693902753611963, 0.11473208905004895, 0.11473208905004895, 0.08604906678753671, 0.20078115583758566, 0.14341511131256118, 0.20078115583758566, 0.08604906678753671, 0.05736604452502447, 0.028683022262512237, 0.3554775297079198, 0.5332162945618797, 0.6693902753611963, 0.8215174931756276, 0.6531754032778581, 0.9262845768124583, 0.7335007655232403, 0.6184925449097548, 0.1546231362274387, 0.1546231362274387, 0.11965331705548185, 0.11965331705548185, 0.2393066341109637, 0.2393066341109637, 0.2393066341109637, 0.6267098958783001, 0.31335494793915003, 0.8440787603632603, 0.6634832068001892, 0.6349502425205894, 0.89451052049879, 0.055472254156674505, 0.16641676247002352, 0.38830577909672154, 0.16641676247002352, 0.22188901662669802, 0.055472254156674505, 0.6693902753611963, 0.8312576897669596, 0.8543421572226775, 0.874653153133843, 0.6531754032778581, 0.9317575185922925, 0.8268989689812403, 0.17974791509548754, 0.029957985849247925, 0.029957985849247925, 0.08987395754774377, 0.05991597169849585, 0.14978992924623963, 0.029957985849247925, 0.2396638867939834, 0.14978992924623963, 0.4733456605988659, 0.021515711845402994, 0.15060998291782096, 0.021515711845402994, 0.10757855922701497, 0.06454713553620899, 0.021515711845402994, 0.15060998291782096, 0.22705539434443983, 0.020641399485858167, 0.20641399485858167, 0.123848396915149, 0.041282798971716335, 0.123848396915149, 0.041282798971716335, 0.0619241984575745, 0.123848396915149, 0.041282798971716335, 0.27101461817817674, 0.09033820605939225, 0.1806764121187845, 0.1806764121187845, 0.27101461817817674, 0.8758751824521285, 0.6693902753611963, 0.9317576681281003, 0.6531754032778581, 0.13963853936570528, 0.5585541574628211, 0.13963853936570528, 0.13963853936570528, 0.8440808189883083, 0.8434125889132132, 0.29939926740495054, 0.09979975580165018, 0.19959951160330036, 0.3991990232066007, 0.6693902753611963, 0.23592495560213225, 0.11796247780106613, 0.17694371670159917, 0.05898123890053306, 0.05898123890053306, 0.11796247780106613, 0.11796247780106613, 0.05898123890053306, 0.6693902753611963, 0.11691096888850472, 0.5845548444425236, 0.11691096888850472, 0.11691096888850472, 0.3199629701878384, 0.6399259403756768, 0.037199017820592456, 0.409189196026517, 0.14879607128236982, 0.07439803564118491, 0.37199017820592456, 0.8746512757694674, 0.4304918945473848, 0.08609837890947696, 0.12914756836421543, 0.08609837890947696, 0.04304918945473848, 0.08609837890947696, 0.08609837890947696, 0.6444242855656408, 0.3222121427828204, 0.6858700677819668, 0.07620778530910742, 0.15241557061821484, 0.07620778530910742, 0.708061172750711, 0.17701529318767775, 0.08850764659383888, 0.8268990580581799, 0.8440807086287645, 0.278495879352551, 0.037132783913673466, 0.3713278391367346, 0.055699175870510195, 0.037132783913673466, 0.24136309543887752, 0.6574278159857154, 0.16435695399642886, 0.16435695399642886, 0.3461913940128336, 0.2307942626752224, 0.0576985656688056, 0.0576985656688056, 0.1730956970064168, 0.0576985656688056, 0.1153971313376112, 0.6251506471636626, 0.37509038829819763, 0.1147450610239394, 0.3442351830718182, 0.4589802440957576, 0.2959242550870817, 0.4932070918118028, 0.09864141836236055, 0.09864141836236055, 0.25794049117571005, 0.3869107367635651, 0.12897024558785503, 0.12897024558785503, 0.12897024558785503, 0.6531754032778581, 0.24836504428925385, 0.12418252214462693, 0.12418252214462693, 0.4967300885785077, 0.6634832068001892, 0.6531754032778581, 0.9667282863839617, 0.8268995919941035, 0.6693902753611963, 0.6531754032778581, 0.24876028501630515, 0.7462808550489154, 0.10489491036439107, 0.10489491036439107, 0.10489491036439107, 0.10489491036439107, 0.5244745518219553, 0.10489491036439107, 0.07440197483467599, 0.37200987417338, 0.22320592450402799, 0.22320592450402799, 0.14880394966935198, 0.35152873097290943, 0.5272930964593642, 0.7685806515419589, 0.9788310718130875, 0.6693902753611963, 0.5400826341771422, 0.4050619756328567, 0.10606805226791512, 0.08485444181433209, 0.08485444181433209, 0.10606805226791512, 0.33941776725732836, 0.042427220907166045, 0.042427220907166045, 0.08485444181433209, 0.042427220907166045, 0.042427220907166045, 0.7437800203180464, 0.5919115354866589, 0.11838230709733177, 0.11838230709733177, 0.11838230709733177, 0.6531754032778581, 0.08725513729753523, 0.2617654118926057, 0.17451027459507046, 0.08725513729753523, 0.3490205491901409, 0.08725513729753523, 0.6473631965969656, 0.06473631965969656, 0.06473631965969656, 0.19420895897908969, 0.06473631965969656, 0.9198147505879457, 0.6531754032778581, 0.6349502425205894, 0.8543660499668936, 0.7905747974933098, 0.10029789124238948, 0.20059578248477897, 0.10029789124238948, 0.30089367372716846, 0.10029789124238948, 0.10029789124238948, 0.10029789124238948, 0.33079840014084844, 0.6615968002816969, 0.11118573245038633, 0.0741238216335909, 0.2964952865343636, 0.018530955408397724, 0.22237146490077267, 0.05559286622519317, 0.11118573245038633, 0.05559286622519317, 0.0741238216335909, 0.6693902753611963, 0.12098044654600094, 0.12098044654600094, 0.2419608930920019, 0.12098044654600094, 0.2419608930920019, 0.08399419312085382, 0.08399419312085382, 0.027998064373617938, 0.08399419312085382, 0.08399419312085382, 0.25198257936256147, 0.13999032186808968, 0.19598645061532557, 0.055996128747235877, 0.6634832068001892, 0.7799449192714123, 0.1114207027530589, 0.1114207027530589, 0.25055176001893376, 0.7516552800568013, 0.09605079271365649, 0.09605079271365649, 0.19210158542731298, 0.4802539635682824, 0.09605079271365649, 0.8440356956450769, 0.8255077785031554, 0.6531754032778581, 0.20710356548334613, 0.41420713096669226, 0.10355178274167307, 0.3106553482250192, 0.6531754032778581, 0.8312577906719392, 0.6531754032778581, 0.6349502182813305, 0.6279340939053168, 0.3139670469526584, 0.7221878780757643, 0.14443757561515289, 0.14443757561515289, 0.9145768061128617, 0.29715959394445574, 0.09905319798148524, 0.29715959394445574, 0.09905319798148524, 0.29715959394445574, 0.8543660499668936, 0.36872367704510306, 0.18436183852255153, 0.36872367704510306, 0.7141737435712157, 0.14283474871424315, 0.14283474871424315, 0.641138388011426, 0.26657846448253114, 0.5331569289650623, 0.6349502425205894, 0.6531754032778581, 0.8312610738628772, 0.09893104286419668, 0.49465521432098336, 0.39572417145678673, 0.323105976923164, 0.646211953846328, 0.6531754032778581, 0.7426124651653239, 0.24753748838844128, 0.301136218081149, 0.05314168554373218, 0.1771389518124406, 0.05314168554373218, 0.05314168554373218, 0.05314168554373218, 0.2657084277186609, 0.03542779036248812, 0.6349502182813305, 0.6531754032778581, 0.41473955927134953, 0.06912325987855826, 0.41473955927134953, 0.06912325987855826, 0.1243638513487999, 0.1243638513487999, 0.7461831080927994, 0.42659521099833764, 0.21329760549916882, 0.21329760549916882, 0.5524222614701976, 0.18414075382339917, 0.18414075382339917, 0.5072710915964939, 0.05636345462183265, 0.1127269092436653, 0.1127269092436653, 0.05636345462183265, 0.05636345462183265, 0.05636345462183265, 0.1807334263568779, 0.07745718272437624, 0.23237154817312872, 0.10327624363250165, 0.025819060908125413, 0.051638121816250826, 0.12909530454062706, 0.12909530454062706, 0.051638121816250826, 0.8268997386418149, 0.6319327845095275, 0.8312590046609764, 0.8215174597561995, 0.6838492403135489, 0.05166146849272795, 0.1033229369854559, 0.6199376219127355, 0.2066458739709118, 0.0737766381824288, 0.1475532763648576, 0.0737766381824288, 0.0737766381824288, 0.1475532763648576, 0.5164364672770017, 0.21299895246611208, 0.21299895246611208, 0.10649947623305604, 0.5324973811652802, 0.6531754032778581, 0.1635529048690642, 0.03271058097381284, 0.1635529048690642, 0.2289740668166899, 0.3598163907119412, 0.03271058097381284, 0.8269012961072357, 0.26545937118652524, 0.13272968559326262, 0.13272968559326262, 0.26545937118652524, 0.13272968559326262, 0.6587879892512518, 0.8758752713926334, 0.15927862755632044, 0.06067757240240779, 0.05309287585210681, 0.05309287585210681, 0.06067757240240779, 0.15169393100601947, 0.06826226895270876, 0.06826226895270876, 0.280633772361136, 0.03792348275150487, 0.6693902753611963, 0.9138515499477036, 0.18792768311146968, 0.37585536622293936, 0.37585536622293936, 0.09330761023123453, 0.46653805115617264, 0.18661522046246906, 0.09330761023123453, 0.09330761023123453, 0.6693902753611963, 0.08010644201657112, 0.08010644201657112, 0.3204257680662845, 0.08010644201657112, 0.08010644201657112, 0.3204257680662845, 0.08010644201657112, 0.14419382583688192, 0.4325814775106458, 0.4325814775106458, 0.37730632093305255, 0.18865316046652628, 0.37730632093305255, 0.8434126004645651, 0.3822068761750734, 0.57331031426261, 0.9317575334590482, 0.14677379175677097, 0.29354758351354193, 0.4403213752703129, 0.14677379175677097, 0.13963063903687356, 0.08145120610484291, 0.09308709269124904, 0.1163588658640613, 0.12799475245046743, 0.04654354634562452, 0.01163588658640613, 0.1978100719689042, 0.17453829879609195, 0.6531754032778581, 0.6319327188112613, 0.27685787526812905, 0.3322294503217548, 0.1661147251608774, 0.22148630021450325, 0.8215174062381341, 0.8312577398603284, 0.1282844656541038, 0.3848533969623114, 0.0641422328270519, 0.1924266984811557, 0.0641422328270519, 0.1924266984811557, 0.6693902753611963, 0.8744871917460258, 0.6693902753611963, 0.32230012149976994, 0.18417149799986854, 0.18417149799986854, 0.09208574899993427, 0.046042874499967135, 0.1381286234999014, 0.6693902753611963, 0.6531754032778581, 0.18903214078061045, 0.10801836616034884, 0.10801836616034884, 0.16202754924052323, 0.16202754924052323, 0.05400918308017442, 0.18903214078061045, 0.5706765271182865, 0.14266913177957163, 0.14266913177957163, 0.14266913177957163, 0.4886818122347307, 0.08144696870578844, 0.08144696870578844, 0.08144696870578844, 0.24434090611736534, 0.6319327845095275, 0.11200042213043511, 0.44800168852174044, 0.11200042213043511, 0.11200042213043511, 0.22400084426087022, 0.17103301029474083, 0.05701100343158028, 0.5701100343158028, 0.11402200686316057, 0.11402200686316057, 0.653571867908613, 0.21785728930287102, 0.33463756260704175, 0.6692751252140835, 0.682992943962295, 0.22766431465409837, 0.8215174022160008, 0.8434598124924841, 0.6531754032778581, 0.8312585564560991, 0.6829928739073217, 0.22766429130244056, 0.8543660499668936, 0.014125185219929786, 0.056500740879719145, 0.04237555565978936, 0.7627600018762084, 0.07062592609964893, 0.014125185219929786, 0.028250370439859573, 0.14262678269420817, 0.42788034808262454, 0.14262678269420817, 0.28525356538841634, 0.5018864839865339, 0.25094324199326695, 0.8793620062454662, 0.6634832068001892, 0.6634832068001892, 0.9195369334174502, 0.21877938335312075, 0.07292646111770691, 0.6563381500593622, 0.826898988242823, 0.2830056288191308, 0.1415028144095654, 0.04716760480318847, 0.2830056288191308, 0.18867041921275388, 0.6405929082390406, 0.8758751753650651, 0.10044723290200337, 0.10044723290200337, 0.20089446580400674, 0.10044723290200337, 0.3013416987060101, 0.20089446580400674, 0.15380895599066974, 0.46142686797200927, 0.3076179119813395, 0.8391994274647733, 0.08361168984680394, 0.48494780111146285, 0.06688935187744315, 0.10033402781616473, 0.10033402781616473, 0.05016701390808236, 0.11705636578552552, 0.826898988242823, 0.8746532191667685, 0.19107652364195954, 0.07643060945678382, 0.11464591418517572, 0.11464591418517572, 0.26750713309874335, 0.03821530472839191, 0.11464591418517572, 0.03821530472839191, 0.9195418773880837, 0.6634832068001892, 0.13761599771300087, 0.1100927981704007, 0.027523199542600175, 0.49541759176680317, 0.13761599771300087, 0.027523199542600175, 0.08256959862780053, 0.017919798623250865, 0.0268796979348763, 0.11647869105113062, 0.008959899311625432, 0.044799496558127164, 0.0268796979348763, 0.008959899311625432, 0.6899122469951583, 0.0537593958697526, 0.10721992291478681, 0.053609961457393406, 0.10721992291478681, 0.053609961457393406, 0.6433195374887208, 0.053609961457393406, 0.08370358125103693, 0.04185179062551846, 0.08370358125103693, 0.08370358125103693, 0.20925895312759232, 0.12555537187655538, 0.04185179062551846, 0.3348143250041477, 0.22300036083643734, 0.07433345361214577, 0.07433345361214577, 0.14866690722429154, 0.4460007216728747, 0.9195371416826171, 0.6543913088411817, 0.32719565442059084, 0.9262545974670061, 0.6531754032778581, 0.6349502425205894, 0.1027363343699184, 0.2054726687398368, 0.0513681671849592, 0.0513681671849592, 0.1027363343699184, 0.3595771702947144, 0.1541045015548776, 0.24876026053309805, 0.7462807815992941, 0.6577510792330491, 0.8312577906719392, 0.843412133783624, 0.8215174931756276, 0.826898988242823, 0.831258837142694, 0.8440807305665574, 0.6451660948196104, 0.3225830474098052, 0.6531754032778581, 0.6634832068001892, 0.6693902753611963, 0.8312577370795217, 0.6531754032778581, 0.6693902753611963, 0.8440804483081297, 0.6531754032778581, 0.641138388011426, 0.6531754032778581, 0.8945104511975533, 0.6693902753611963, 0.6349502425205894, 0.4290771184635728, 0.1072692796158932, 0.3218078388476796, 0.1072692796158932, 0.6531754032778581, 0.6693902753611963, 0.8440807305665574, 0.6531754032778581, 0.826898988242823, 0.6349502182813305, 0.6531754032778581, 0.8312581440743922, 0.7834016049429481, 0.08704462277143868, 0.08704462277143868, 0.7334059862649779, 0.38216866640838587, 0.02123159257824366, 0.06369477773473098, 0.02123159257824366, 0.02123159257824366, 0.1486211480477056, 0.02123159257824366, 0.1486211480477056, 0.16985274062594927, 0.1292969833439488, 0.2585939666878976, 0.3878909500318464, 0.1292969833439488], \"Term\": [\"aapas\", \"aapka\", \"abdul\", \"abdul\", \"active\", \"adayi\", \"adding\", \"agar\", \"aggravated\", \"ah\", \"allrounders\", \"almost\", \"alround\", \"always\", \"always\", \"always\", \"always\", \"amazing\", \"amazing\", \"amazing\", \"amazing\", \"amazing\", \"analysis\", \"andaz\", \"anna\", \"anyway\", \"anyway\", \"app\", \"apparently\", \"appearance\", \"appearance\", \"appearance\", \"appreciation\", \"archer\", \"archer\", \"archer\", \"arexfxfxfxfxexxaxefxbxf\", \"army\", \"army\", \"art\", \"artistxexdxaxefxbxfxfxfxax\", \"ask\", \"attitude\", \"attitude\", \"australian\", \"b\", \"babar\", \"back\", \"back\", \"back\", \"back\", \"back\", \"back\", \"back\", \"backed\", \"ball\", \"ball\", \"ball\", \"ball\", \"base\", \"bat\", \"bat\", \"bat\", \"batting\", \"batting\", \"batting\", \"batting\", \"batting\", \"battle\", \"battle\", \"beat\", \"beat\", \"beat\", \"beat\", \"beat\", \"beaten\", \"beaten\", \"beaten\", \"behavior\", \"behind\", \"behind\", \"best\", \"best\", \"best\", \"best\", \"best\", \"best\", \"best\", \"best\", \"best\", \"bhuvi\", \"bhuvi\", \"bhuvimarshsaha\", \"big\", \"big\", \"big\", \"big\", \"big\", \"big\", \"big\", \"big\", \"birthday\", \"birthday\", \"birthday\", \"birthday\", \"birthdaynext\", \"bit\", \"bit\", \"blamed\", \"boost\", \"bowl\", \"bowling\", \"bowling\", \"bowling\", \"bowling\", \"boy\", \"boy\", \"boy\", \"boy\", \"boy\", \"brilliant\", \"brother\", \"bulaya\", \"bumrah\", \"bumrah\", \"bumrah\", \"bumrah\", \"bumrah\", \"burra\", \"c\", \"called\", \"cameo\", \"cameo\", \"cameo\", \"cannot\", \"cant\", \"cant\", \"cant\", \"cant\", \"cant\", \"cant\", \"cant\", \"cant\", \"cap\", \"cap\", \"cap\", \"cap\", \"cap\", \"cap\", \"capital\", \"capital\", \"capital\", \"capital\", \"captain\", \"captain\", \"captain\", \"captain\", \"captain\", \"captain\", \"car\", \"catch\", \"catch\", \"catch\", \"chahal\", \"chahar\", \"chakravarthy\", \"challenge\", \"challenge\", \"champion\", \"champion\", \"champion\", \"champion\", \"champion\", \"championsxfxfxfxxfxfxfxxfxfxfx\", \"channel\", \"chased\", \"chasing\", \"chennai\", \"cheskoni\", \"chestunnaru\", \"cheyyakudadu\", \"choosing\", \"claimed\", \"clash\", \"clash\", \"clash\", \"clash\", \"closest\", \"co\", \"coached\", \"confident\", \"congrats\", \"congrats\", \"congratulation\", \"congratulation\", \"congratulation\", \"congratulation\", \"congratulation\", \"congratulation\", \"congratulation\", \"congratulation\", \"congratulation\", \"consistency\", \"consistent\", \"consistent\", \"consistently\", \"consistently\", \"constant\", \"continent\", \"continues\", \"crap\", \"craze\", \"cricket\", \"cricket\", \"cricket\", \"cricket\", \"cricket\", \"cricket\", \"cricket\", \"critic\", \"csk\", \"csk\", \"csk\", \"csk\", \"csk\", \"csk\", \"curran\", \"dadi\", \"date\", \"date\", \"david\", \"david\", \"day\", \"day\", \"day\", \"day\", \"day\", \"day\", \"day\", \"dc\", \"dc\", \"dc\", \"dc\", \"dc\", \"dc\", \"dc\", \"deadly\", \"deccan\", \"decision\", \"decline\", \"defeat\", \"defeated\", \"defeated\", \"defeated\", \"defeated\", \"defeating\", \"dekock\", \"dekock\", \"delhi\", \"delhi\", \"delhi\", \"delhi\", \"delhi\", \"delhi\", \"delhi\", \"delhi\", \"delight\", \"delivery\", \"describes\", \"deserve\", \"deserve\", \"deserve\", \"deserve\", \"develop\", \"dhawan\", \"dhawan\", \"dhawan\", \"dhawan\", \"dhawan\", \"dhawan\", \"dhoni\", \"dhoni\", \"die\", \"died\", \"difference\", \"different\", \"dislodge\", \"dismissal\", \"dismissal\", \"diwali\", \"dlf\", \"doesnxexxt\", \"done\", \"done\", \"done\", \"done\", \"donxexxt\", \"dragon\", \"dream\", \"dream\", \"dream\", \"dream\", \"drop\", \"duck\", \"dwayne\", \"easily\", \"easily\", \"edition\", \"ee\", \"elevated\", \"eliminated\", \"eliminated\", \"emerging\", \"emotion\", \"end\", \"end\", \"end\", \"end\", \"ending\", \"ending\", \"ending\", \"england\", \"enjoyed\", \"enough\", \"enough\", \"enter\", \"enter\", \"enter\", \"entered\", \"enters\", \"episode\", \"ever\", \"ever\", \"ever\", \"ever\", \"ever\", \"ever\", \"excited\", \"excuse\", \"execution\", \"face\", \"face\", \"face\", \"face\", \"face\", \"face\", \"face\", \"failed\", \"failed\", \"fan\", \"fan\", \"fan\", \"fan\", \"fan\", \"fan\", \"fan\", \"fan\", \"fan\", \"fast\", \"faulkner\", \"favourite\", \"favourite\", \"favourite\", \"favourite\", \"feature\", \"feeling\", \"feeling\", \"feeling\", \"feeling\", \"fell\", \"fertility\", \"field\", \"field\", \"field\", \"fifth\", \"fightso\", \"film\", \"final\", \"final\", \"final\", \"final\", \"final\", \"final\", \"final\", \"final\", \"finalist\", \"finalist\", \"finally\", \"finally\", \"finally\", \"finally\", \"fine\", \"fine\", \"finish\", \"finish\", \"finish\", \"first\", \"first\", \"first\", \"first\", \"first\", \"first\", \"first\", \"first\", \"five\", \"fixed\", \"follow\", \"follow\", \"foreign\", \"former\", \"fourth\", \"fourtime\", \"fragile\", \"franchise\", \"franchise\", \"full\", \"full\", \"galla\", \"game\", \"game\", \"game\", \"game\", \"game\", \"game\", \"game\", \"game\", \"game\", \"gamexexxd\", \"gear\", \"gem\", \"gentleman\", \"get\", \"get\", \"get\", \"get\", \"get\", \"get\", \"get\", \"get\", \"glimpse\", \"glorious\", \"goat\", \"going\", \"going\", \"going\", \"going\", \"going\", \"going\", \"gold\", \"gone\", \"good\", \"good\", \"good\", \"good\", \"good\", \"good\", \"good\", \"good\", \"good\", \"good\", \"got\", \"got\", \"got\", \"got\", \"graemee\", \"great\", \"great\", \"great\", \"great\", \"great\", \"great\", \"great\", \"great\", \"group\", \"group\", \"group\", \"gt\", \"gt\", \"gt\", \"ha\", \"haame\", \"haixfxfxaxa\", \"hardluck\", \"heart\", \"heart\", \"heart\", \"heart\", \"heart\", \"heart\", \"height\", \"hetmyer\", \"hetmyer\", \"high\", \"highest\", \"hii\", \"hilariously\", \"hinders\", \"holder\", \"holder\", \"holder\", \"home\", \"home\", \"home\", \"home\", \"home\", \"home\", \"hope\", \"hope\", \"hope\", \"hope\", \"hope\", \"hope\", \"hour\", \"hyderabad\", \"hyderabad\", \"hyderbad\", \"hyderbad\", \"hypocrisy\", \"imagination\", \"india\", \"india\", \"india\", \"india\", \"india\", \"india\", \"india\", \"indian\", \"indian\", \"indian\", \"indian\", \"indian\", \"indian\", \"indian\", \"indian\", \"inexperienced\", \"injured\", \"injured\", \"ishan\", \"ishan\", \"ishan\", \"iyer\", \"iyer\", \"james\", \"jason\", \"jazz\", \"join\", \"join\", \"join\", \"journey\", \"journey\", \"journey\", \"journey\", \"journey\", \"judge\", \"jus\", \"k\", \"ka\", \"kagiso\", \"kagiso\", \"kagiso\", \"kagiso\", \"kane\", \"kane\", \"kane\", \"kane\", \"kane\", \"ke\", \"keep\", \"keep\", \"keep\", \"keep\", \"keep\", \"keep\", \"khan\", \"khan\", \"khan\", \"khelna\", \"kind\", \"king\", \"king\", \"kishan\", \"kkr\", \"kkr\", \"kkr\", \"kkr\", \"kl\", \"kl\", \"kl\", \"kl\", \"knocked\", \"knocked\", \"knockout\", \"knockout\", \"know\", \"know\", \"know\", \"know\", \"know\", \"know\", \"know\", \"know\", \"know\", \"kodi\", \"krabada\", \"krunal\", \"kxip\", \"kxip\", \"kxip\", \"kyu\", \"la\", \"lasith\", \"last\", \"last\", \"last\", \"last\", \"last\", \"last\", \"last\", \"later\", \"later\", \"latest\", \"lavishes\", \"lbw\", \"lead\", \"lead\", \"lead\", \"lead\", \"leap\", \"leap\", \"left\", \"left\", \"left\", \"lefthanded\", \"let\", \"let\", \"let\", \"let\", \"let\", \"let\", \"let\", \"lethal\", \"level\", \"level\", \"life\", \"life\", \"life\", \"life\", \"life\", \"life\", \"lift\", \"lift\", \"lift\", \"lift\", \"light\", \"like\", \"like\", \"like\", \"like\", \"like\", \"like\", \"listen\", \"live\", \"live\", \"lo\", \"lo\", \"lo\", \"loaded\", \"loading\", \"loading\", \"loose\", \"loose\", \"loose\", \"lose\", \"lose\", \"lose\", \"lose\", \"lost\", \"lost\", \"lost\", \"lost\", \"lost\", \"lost\", \"love\", \"love\", \"love\", \"love\", \"love\", \"loved\", \"loved\", \"loyal\", \"luck\", \"luck\", \"luck\", \"luck\", \"luck\", \"luck\", \"luck\", \"made\", \"made\", \"made\", \"made\", \"made\", \"maiden\", \"maiden\", \"maiden\", \"maiden\", \"maiden\", \"make\", \"make\", \"make\", \"make\", \"make\", \"make\", \"make\", \"making\", \"making\", \"making\", \"making\", \"making\", \"makingxfxfxax\", \"malinga\", \"mana\", \"managed\", \"manish\", \"march\", \"marcus\", \"marcus\", \"marcus\", \"marcus\", \"marcus\", \"marcus\", \"marcus\", \"mark\", \"mark\", \"marsh\", \"match\", \"match\", \"match\", \"match\", \"match\", \"match\", \"match\", \"match\", \"match\", \"match\", \"max\", \"medicine\", \"meet\", \"mein\", \"meme\", \"mentally\", \"mi\", \"mi\", \"mi\", \"mi\", \"mi\", \"mi\", \"mighty\", \"mighty\", \"mine\", \"missed\", \"missed\", \"missed\", \"mitchell\", \"mobile\", \"money\", \"month\", \"month\", \"morning\", \"morning\", \"mumbai\", \"mumbai\", \"mumbai\", \"mumbai\", \"mumbai\", \"n\", \"n\", \"n\", \"nail\", \"nan\", \"natarajan\", \"natarajan\", \"natarajan\", \"nature\", \"need\", \"need\", \"need\", \"next\", \"next\", \"next\", \"next\", \"next\", \"next\", \"next\", \"night\", \"night\", \"night\", \"night\", \"night\", \"night\", \"night\", \"nightmare\", \"nortje\", \"note\", \"nov\", \"nov\", \"nov\", \"nov\", \"november\", \"november\", \"november\", \"number\", \"number\", \"number\", \"nz\", \"occupation\", \"ofxfxfxxf\", \"okka\", \"one\", \"one\", \"one\", \"one\", \"one\", \"one\", \"one\", \"one\", \"one\", \"order\", \"order\", \"pack\", \"padikkal\", \"pair\", \"pakistan\", \"pandey\", \"pandya\", \"pandya\", \"pandya\", \"part\", \"part\", \"part\", \"part\", \"part\", \"past\", \"past\", \"pay\", \"pepsi\", \"per\", \"perfect\", \"performance\", \"performance\", \"performance\", \"performance\", \"performance\", \"performance\", \"performer\", \"personality\", \"personally\", \"petition\", \"phir\", \"pic\", \"plan\", \"play\", \"play\", \"play\", \"play\", \"play\", \"play\", \"play\", \"play\", \"play\", \"played\", \"played\", \"played\", \"played\", \"played\", \"played\", \"played\", \"played\", \"player\", \"player\", \"player\", \"player\", \"player\", \"player\", \"player\", \"player\", \"player\", \"player\", \"playing\", \"playing\", \"playing\", \"playing\", \"playing\", \"pls\", \"plz\", \"plzz\", \"pointstable\", \"pollard\", \"pollard\", \"pollard\", \"pollard\", \"post\", \"predicted\", \"prediction\", \"prediction\", \"prediction\", \"prediction\", \"progress\", \"proud\", \"proud\", \"proud\", \"proud\", \"proud\", \"proud\", \"proud\", \"proud\", \"proudxfxfxxfxfxfxfxbc\", \"purple\", \"purple\", \"purple\", \"purple\", \"q\", \"q\", \"qualifier\", \"qualifier\", \"qualifier\", \"qualifier\", \"qualifier\", \"quell\", \"rabada\", \"rabada\", \"rabada\", \"rabada\", \"rabada\", \"rabada\", \"rabada\", \"race\", \"race\", \"rahul\", \"rahul\", \"rahul\", \"rahul\", \"rashid\", \"rashid\", \"rashid\", \"rate\", \"rather\", \"rcb\", \"rcb\", \"rcb\", \"rcb\", \"rcb\", \"rcb\", \"rd\", \"rd\", \"rd\", \"reach\", \"reach\", \"reach\", \"reach\", \"reach\", \"reach\", \"reach\", \"reached\", \"reached\", \"reaching\", \"reaching\", \"reaching\", \"really\", \"really\", \"really\", \"really\", \"reason\", \"reason\", \"reason\", \"reason\", \"reason\", \"reasonxfxfxaxbxfxfxfxbbxexxdxexxxefxbxf\", \"record\", \"record\", \"record\", \"record\", \"regained\", \"relationship\", \"released\", \"remaining\", \"remove\", \"replaced\", \"retweet\", \"retweet\", \"right\", \"right\", \"right\", \"right\", \"right\", \"right\", \"rohit\", \"rohit\", \"rohit\", \"rohit\", \"rohit\", \"role\", \"role\", \"rollercoaster\", \"rps\", \"rpsg\", \"rr\", \"rr\", \"run\", \"run\", \"run\", \"run\", \"run\", \"run\", \"run\", \"run\", \"run\", \"run\", \"runner\", \"saha\", \"saha\", \"saha\", \"saha\", \"sahi\", \"said\", \"said\", \"said\", \"said\", \"said\", \"said\", \"samad\", \"samad\", \"samad\", \"samad\", \"samad\", \"sandeep\", \"satisfaction\", \"scalped\", \"scammer\", \"scene\", \"score\", \"score\", \"score\", \"score\", \"score\", \"score\", \"score\", \"script\", \"script\", \"season\", \"season\", \"season\", \"season\", \"season\", \"season\", \"season\", \"season\", \"season\", \"seasonxexxaxefxbxf\", \"second\", \"second\", \"second\", \"second\", \"second\", \"see\", \"see\", \"see\", \"see\", \"see\", \"see\", \"see\", \"see\", \"see\", \"seesaw\", \"select\", \"select\", \"select\", \"series\", \"series\", \"set\", \"set\", \"set\", \"set\", \"set\", \"shah\", \"shankar\", \"shanker\", \"sharma\", \"sharma\", \"sharma\", \"sharma\", \"shed\", \"sheer\", \"shit\", \"shittiness\", \"short\", \"short\", \"shot\", \"shot\", \"shot\", \"shreyas\", \"side\", \"side\", \"side\", \"side\", \"side\", \"sinha\", \"six\", \"six\", \"six\", \"skipper\", \"skipper\", \"skipper\", \"soft\", \"something\", \"something\", \"somewhat\", \"soo\", \"sorry\", \"special\", \"special\", \"special\", \"sport\", \"sport\", \"spread\", \"squad\", \"squad\", \"srh\", \"srh\", \"srh\", \"srh\", \"srh\", \"srh\", \"srh\", \"srh\", \"srhs\", \"srk\", \"st\", \"st\", \"st\", \"st\", \"start\", \"start\", \"start\", \"stay\", \"stay\", \"stay\", \"step\", \"step\", \"step\", \"still\", \"still\", \"still\", \"still\", \"still\", \"still\", \"still\", \"stoinis\", \"stoinis\", \"stoinis\", \"stoinis\", \"stoinis\", \"stoinis\", \"stoinis\", \"stoinis\", \"stoinis\", \"story\", \"streaming\", \"struggled\", \"success\", \"successfully\", \"sunrisers\", \"sunrisers\", \"sunrisers\", \"sunrisers\", \"support\", \"support\", \"support\", \"support\", \"support\", \"support\", \"supporting\", \"supporting\", \"supporting\", \"supporting\", \"swann\", \"take\", \"take\", \"take\", \"take\", \"take\", \"take\", \"taken\", \"talent\", \"talent\", \"talent\", \"talent\", \"talent\", \"tat\", \"teach\", \"team\", \"team\", \"team\", \"team\", \"team\", \"team\", \"team\", \"team\", \"team\", \"team\", \"tennis\", \"tewatia\", \"tha\", \"tha\", \"tha\", \"thank\", \"thank\", \"thank\", \"thank\", \"thank\", \"thankyou\", \"thing\", \"thing\", \"thing\", \"thing\", \"thing\", \"thing\", \"thing\", \"think\", \"think\", \"think\", \"three\", \"three\", \"three\", \"thrice\", \"throughout\", \"throughout\", \"throwing\", \"till\", \"till\", \"till\", \"till\", \"time\", \"time\", \"time\", \"time\", \"time\", \"time\", \"time\", \"time\", \"time\", \"timeknowg\", \"tip\", \"title\", \"title\", \"title\", \"title\", \"tom\", \"ton\", \"top\", \"top\", \"top\", \"top\", \"top\", \"top\", \"toppled\", \"touch\", \"touched\", \"tournament\", \"tournament\", \"tournament\", \"tournament\", \"tournament\", \"tournament\", \"tq\", \"tremendous\", \"trophy\", \"trophy\", \"trophy\", \"trophy\", \"trophy\", \"trophy\", \"trophy\", \"true\", \"true\", \"true\", \"true\", \"tuesday\", \"tuesday\", \"tuesday\", \"tuesday\", \"tuesday\", \"tv\", \"tweet\", \"tweet\", \"tweet\", \"tweet\", \"tweet\", \"u\", \"u\", \"u\", \"u\", \"u\", \"uae\", \"uae\", \"umpire\", \"umpire\", \"umpiring\", \"umpiring\", \"underdog\", \"underrated\", \"understd\", \"unlucky\", \"ur\", \"ur\", \"utkarsh\", \"v\", \"v\", \"v\", \"v\", \"v\", \"v\", \"v\", \"victory\", \"victory\", \"victory\", \"victory\", \"video\", \"video\", \"vijay\", \"vivo\", \"vk\", \"vth\", \"want\", \"want\", \"want\", \"warming\", \"warner\", \"warner\", \"warner\", \"warner\", \"warner\", \"warrior\", \"wasnt\", \"watch\", \"watch\", \"watch\", \"watch\", \"watch\", \"watch\", \"watching\", \"watching\", \"watching\", \"watson\", \"well\", \"well\", \"well\", \"well\", \"well\", \"well\", \"well\", \"whiteball\", \"whoxexxs\", \"wicket\", \"wicket\", \"wicket\", \"wicket\", \"wicket\", \"wicket\", \"wicket\", \"wicket\", \"wicketswicket\", \"wickettaker\", \"williamson\", \"williamson\", \"williamson\", \"williamson\", \"williamson\", \"williamson\", \"williamson\", \"win\", \"win\", \"win\", \"win\", \"win\", \"win\", \"win\", \"win\", \"win\", \"winner\", \"winner\", \"winner\", \"winner\", \"winner\", \"winner\", \"winning\", \"winning\", \"winning\", \"winning\", \"winning\", \"winning\", \"winning\", \"winning\", \"wish\", \"wish\", \"wish\", \"wish\", \"wish\", \"wk\", \"wonderful\", \"wonderful\", \"worry\", \"worst\", \"worthwhile\", \"would\", \"would\", \"would\", \"would\", \"would\", \"would\", \"would\", \"wow\", \"wow\", \"xcxain\", \"xcxaxcxa\", \"xcxaxefxbfxbc\", \"xcxaxefxbfxbcxcxa\", \"xefxbxfxexxa\", \"xexbxaaxexbxxexbxaxexbxdxexbxaxexbxbexexbxaaxexbxxexbxbxexbxaaxexbxdxexbxaaxexbxbexexbxaxexbx\", \"xexbxcxexbxbfxexbxadxexbxbexexbxbxexbxbxexbxbxexbx\", \"xexdxa\", \"xexdxa\", \"xexdxaall\", \"xexdxaxefxbxfda\", \"xexdxaxefxbxfxfxfxxdxfxfxaxaxfxfxaxa\", \"xexdxc\", \"xexxa\", \"xexxafxexxafxexxaf\", \"xexxaxefxbxfxexxaxefxbxf\", \"xexxaxexxa\", \"xexxcreated\", \"xfxfxaxafxfxfxx\", \"xfxfxaxddc\", \"xfxfxaxdxfxfxaxdxfxfxaxd\", \"xfxfxex\", \"xfxfxfxf\", \"xfxfxfxf\", \"xfxfxfxf\", \"xfxfxfxf\", \"xfxfxfxfinal\", \"xfxfxfxfxfxfxfx\", \"xfxfxfxxfxfxx\", \"xfxfxxaxfxfxxaxfxfxxfxfxfxxfman\", \"xfxfxxaxfxfxxba\", \"xfxfxxcxfxfxxa\", \"xfxfxxdxfxfxfxbbxfxfxaxa\", \"xfxfxxdxfxfxx\", \"xi\", \"xi\", \"xi\", \"yadav\", \"year\", \"year\", \"year\", \"year\", \"year\", \"year\", \"year\", \"year\", \"year\", \"young\", \"young\", \"young\", \"young\"]}, \"R\": 30, \"lambda.step\": 0.01, \"plot.opts\": {\"xlab\": \"PC1\", \"ylab\": \"PC2\"}, \"topic.order\": [1, 2, 3, 4, 5, 6, 7, 8, 9, 10]};\n",
              "\n",
              "function LDAvis_load_lib(url, callback){\n",
              "  var s = document.createElement('script');\n",
              "  s.src = url;\n",
              "  s.async = true;\n",
              "  s.onreadystatechange = s.onload = callback;\n",
              "  s.onerror = function(){console.warn(\"failed to load library \" + url);};\n",
              "  document.getElementsByTagName(\"head\")[0].appendChild(s);\n",
              "}\n",
              "\n",
              "if(typeof(LDAvis) !== \"undefined\"){\n",
              "   // already loaded: just create the visualization\n",
              "   !function(LDAvis){\n",
              "       new LDAvis(\"#\" + \"ldavis_el591401320612871926350185661\", ldavis_el591401320612871926350185661_data);\n",
              "   }(LDAvis);\n",
              "}else if(typeof define === \"function\" && define.amd){\n",
              "   // require.js is available: use it to load d3/LDAvis\n",
              "   require.config({paths: {d3: \"https://cdnjs.cloudflare.com/ajax/libs/d3/3.5.5/d3.min\"}});\n",
              "   require([\"d3\"], function(d3){\n",
              "      window.d3 = d3;\n",
              "      LDAvis_load_lib(\"https://cdn.rawgit.com/bmabey/pyLDAvis/files/ldavis.v1.0.0.js\", function(){\n",
              "        new LDAvis(\"#\" + \"ldavis_el591401320612871926350185661\", ldavis_el591401320612871926350185661_data);\n",
              "      });\n",
              "    });\n",
              "}else{\n",
              "    // require.js not available: dynamically load d3 & LDAvis\n",
              "    LDAvis_load_lib(\"https://cdnjs.cloudflare.com/ajax/libs/d3/3.5.5/d3.min.js\", function(){\n",
              "         LDAvis_load_lib(\"https://cdn.rawgit.com/bmabey/pyLDAvis/files/ldavis.v1.0.0.js\", function(){\n",
              "                 new LDAvis(\"#\" + \"ldavis_el591401320612871926350185661\", ldavis_el591401320612871926350185661_data);\n",
              "            })\n",
              "         });\n",
              "}\n",
              "</script>"
            ],
            "text/plain": [
              "<IPython.core.display.HTML object>"
            ]
          },
          "metadata": {
            "tags": []
          },
          "execution_count": 40
        }
      ]
    },
    {
      "cell_type": "code",
      "metadata": {
        "colab": {
          "base_uri": "https://localhost:8080/"
        },
        "id": "24u47Gl0GQNH",
        "outputId": "594f34ba-fbf7-4459-e144-e8fd7d995cd4"
      },
      "source": [
        "pip install tomotopy"
      ],
      "execution_count": 41,
      "outputs": [
        {
          "output_type": "stream",
          "text": [
            "Collecting tomotopy\n",
            "\u001b[?25l  Downloading https://files.pythonhosted.org/packages/70/39/29b0348bfcb689054abb7d627367fed37a4c282ff23feff13b3aef9a1de0/tomotopy-0.9.1-cp36-cp36m-manylinux2010_x86_64.whl (13.5MB)\n",
            "\u001b[K     |████████████████████████████████| 13.5MB 315kB/s \n",
            "\u001b[?25hCollecting py-cpuinfo\n",
            "\u001b[?25l  Downloading https://files.pythonhosted.org/packages/f6/f5/8e6e85ce2e9f6e05040cf0d4e26f43a4718bcc4bce988b433276d4b1a5c1/py-cpuinfo-7.0.0.tar.gz (95kB)\n",
            "\u001b[K     |████████████████████████████████| 102kB 11.1MB/s \n",
            "\u001b[?25hRequirement already satisfied: numpy>=1.10.0 in /usr/local/lib/python3.6/dist-packages (from tomotopy) (1.18.5)\n",
            "Building wheels for collected packages: py-cpuinfo\n",
            "  Building wheel for py-cpuinfo (setup.py) ... \u001b[?25l\u001b[?25hdone\n",
            "  Created wheel for py-cpuinfo: filename=py_cpuinfo-7.0.0-cp36-none-any.whl size=20071 sha256=e6a6292dc7866425f1db48b6282e82955761c4744fba2e270dc74d3dc42fa955\n",
            "  Stored in directory: /root/.cache/pip/wheels/f1/93/7b/127daf0c3a5a49feb2fecd468d508067c733fba5192f726ad1\n",
            "Successfully built py-cpuinfo\n",
            "Installing collected packages: py-cpuinfo, tomotopy\n",
            "Successfully installed py-cpuinfo-7.0.0 tomotopy-0.9.1\n"
          ],
          "name": "stdout"
        }
      ]
    },
    {
      "cell_type": "markdown",
      "metadata": {
        "id": "qAsgSZ7RMGZ-"
      },
      "source": [
        "**Supervised LDA** Reference code taken: https://github.com/bab2min/tomotopy"
      ]
    },
    {
      "cell_type": "code",
      "metadata": {
        "colab": {
          "base_uri": "https://localhost:8080/"
        },
        "id": "OG1AHTvEGked",
        "outputId": "3e2edfd9-3a69-4521-b3b1-53850dca87b6"
      },
      "source": [
        "import tomotopy as tp\n",
        "SLDA_topic_modeling = tp.SLDAModel(k=15) #number of topics 6\n",
        "for i in tweets[\"refine_text\"]:\n",
        "    SLDA_topic_modeling.add_doc(i.split()) #splitting each sentence\n",
        "\n",
        "for k in range(SLDA_topic_modeling.k):\n",
        "    print('Top 10 words of topic #{}'.format(k))\n",
        "    print(SLDA_topic_modeling.get_topic_words(k, top_n=20))\n",
        "\n",
        "SLDA_topic_modeling.summary()"
      ],
      "execution_count": 42,
      "outputs": [
        {
          "output_type": "stream",
          "text": [
            "Top 10 words of topic #0\n",
            "[('time', 0.019054224714636803), ('final', 0.017694180831313133), ('win', 0.017694180831313133), ('delhi', 0.013614046387374401), ('rcb', 0.010893957689404488), ('mi', 0.010893957689404488), ('v', 0.009533912874758244), ('best', 0.008173868060112), ('indian', 0.008173868060112), ('capital', 0.008173868060112), ('well', 0.006813823711127043), ('kxip', 0.006813823711127043), ('nov', 0.006813823711127043), ('williamson', 0.006813823711127043), ('team', 0.006813823711127043), ('make', 0.006813823711127043), ('good', 0.006813823711127043), ('captain', 0.006813823711127043), ('year', 0.006813823711127043), ('run', 0.006813823711127043)]\n",
            "Top 10 words of topic #1\n",
            "[('team', 0.024430178105831146), ('win', 0.02299395389854908), ('final', 0.01868527941405773), ('v', 0.014376606792211533), ('dc', 0.012940382584929466), ('time', 0.012940382584929466), ('capital', 0.011504157446324825), ('good', 0.011504157446324825), ('delhi', 0.010067933239042759), ('reaching', 0.008631709031760693), ('match', 0.007195484824478626), ('u', 0.007195484824478626), ('first', 0.007195484824478626), ('run', 0.007195484824478626), ('made', 0.007195484824478626), ('sunrisers', 0.005759260151535273), ('csk', 0.005759260151535273), ('congratulation', 0.005759260151535273), ('dhawan', 0.005759260151535273), ('mi', 0.005759260151535273)]\n",
            "Top 10 words of topic #2\n",
            "[('final', 0.015479354187846184), ('delhi', 0.015479354187846184), ('dc', 0.014073417522013187), ('indian', 0.014073417522013187), ('match', 0.011261546052992344), ('stoinis', 0.009855610318481922), ('team', 0.009855610318481922), ('made', 0.0084496745839715), ('v', 0.007043738849461079), ('well', 0.007043738849461079), ('day', 0.007043738849461079), ('win', 0.007043738849461079), ('hope', 0.007043738849461079), ('back', 0.007043738849461079), ('player', 0.007043738849461079), ('played', 0.007043738849461079), ('samad', 0.005637803114950657), ('take', 0.005637803114950657), ('like', 0.005637803114950657), ('captain', 0.005637803114950657)]\n",
            "Top 10 words of topic #3\n",
            "[('final', 0.02015044540166855), ('team', 0.02015044540166855), ('first', 0.017273863777518272), ('dc', 0.01583557389676571), ('match', 0.012958994135260582), ('delhi', 0.011520704254508018), ('rcb', 0.010082414373755455), ('indian', 0.010082414373755455), ('mumbai', 0.008644123561680317), ('year', 0.008644123561680317), ('well', 0.008644123561680317), ('hyderabad', 0.008644123561680317), ('time', 0.008644123561680317), ('win', 0.008644123561680317), ('best', 0.0072058336809277534), ('played', 0.0072058336809277534), ('india', 0.0072058336809277534), ('mi', 0.0072058336809277534), ('v', 0.0072058336809277534), ('season', 0.00576754380017519)]\n",
            "Top 10 words of topic #4\n",
            "[('team', 0.019674262031912804), ('final', 0.018162021413445473), ('time', 0.013625296764075756), ('match', 0.013625296764075756), ('delhi', 0.01211305521428585), ('win', 0.010600813664495945), ('dc', 0.010600813664495945), ('srh', 0.010600813664495945), ('capital', 0.010600813664495945), ('williamson', 0.00908857211470604), ('trophy', 0.007576330564916134), ('mi', 0.007576330564916134), ('hope', 0.007576330564916134), ('cricket', 0.007576330564916134), ('player', 0.007576330564916134), ('would', 0.007576330564916134), ('run', 0.007576330564916134), ('play', 0.006064089015126228), ('stoinis', 0.006064089015126228), ('deserve', 0.006064089015126228)]\n",
            "Top 10 words of topic #5\n",
            "[('win', 0.02279749885201454), ('final', 0.018525637686252594), ('delhi', 0.014253776520490646), ('time', 0.012829823419451714), ('season', 0.011405869387090206), ('dc', 0.009981916286051273), ('mi', 0.009981916286051273), ('match', 0.009981916286051273), ('team', 0.008557962253689766), ('csk', 0.008557962253689766), ('indian', 0.008557962253689766), ('srh', 0.008557962253689766), ('stoinis', 0.008557962253689766), ('year', 0.0071340082213282585), ('best', 0.0071340082213282585), ('made', 0.0071340082213282585), ('v', 0.0071340082213282585), ('dream', 0.005710054654628038), ('released', 0.005710054654628038), ('good', 0.005710054654628038)]\n",
            "Top 10 words of topic #6\n",
            "[('delhi', 0.019290346652269363), ('final', 0.015159651637077332), ('capital', 0.015159651637077332), ('team', 0.015159651637077332), ('time', 0.013782752677798271), ('player', 0.0110289566218853), ('fan', 0.0110289566218853), ('dc', 0.00965205766260624), ('v', 0.00965205766260624), ('rcb', 0.00965205766260624), ('win', 0.008275159634649754), ('mi', 0.008275159634649754), ('run', 0.0068982611410319805), ('best', 0.0068982611410319805), ('one', 0.0068982611410319805), ('made', 0.0055213626474142075), ('trophy', 0.0055213626474142075), ('game', 0.0055213626474142075), ('kane', 0.0055213626474142075), ('williamson', 0.0055213626474142075)]\n",
            "Top 10 words of topic #7\n",
            "[('team', 0.020667245611548424), ('srh', 0.013782752677798271), ('v', 0.013782752677798271), ('final', 0.012405854649841785), ('mumbai', 0.012405854649841785), ('time', 0.012405854649841785), ('win', 0.012405854649841785), ('mi', 0.0110289566218853), ('csk', 0.00965205766260624), ('best', 0.00965205766260624), ('first', 0.00965205766260624), ('congratulation', 0.008275159634649754), ('delhi', 0.008275159634649754), ('capital', 0.008275159634649754), ('rabada', 0.0068982611410319805), ('well', 0.0068982611410319805), ('stoinis', 0.0068982611410319805), ('year', 0.0068982611410319805), ('end', 0.0068982611410319805), ('love', 0.0055213626474142075)]\n",
            "Top 10 words of topic #8\n",
            "[('delhi', 0.015457620844244957), ('final', 0.01405365951359272), ('win', 0.01405365951359272), ('mi', 0.012649697251617908), ('team', 0.012649697251617908), ('indian', 0.012649697251617908), ('dc', 0.011245735920965672), ('played', 0.00984177365899086), ('time', 0.008437811397016048), ('kane', 0.008437811397016048), ('srh', 0.008437811397016048), ('run', 0.007033849600702524), ('next', 0.007033849600702524), ('one', 0.007033849600702524), ('fan', 0.007033849600702524), ('good', 0.007033849600702524), ('well', 0.007033849600702524), ('season', 0.007033849600702524), ('tomorrow', 0.005629887804389), ('v', 0.005629887804389)]\n",
            "Top 10 words of topic #9\n",
            "[('delhi', 0.02219695784151554), ('team', 0.01803762838244438), ('final', 0.016651185229420662), ('mi', 0.013878297992050648), ('capital', 0.012491854839026928), ('match', 0.011105411686003208), ('good', 0.008332524448633194), ('dc', 0.008332524448633194), ('best', 0.008332524448633194), ('well', 0.008332524448633194), ('wicket', 0.008332524448633194), ('player', 0.008332524448633194), ('season', 0.008332524448633194), ('csk', 0.006946081295609474), ('mumbai', 0.006946081295609474), ('srh', 0.006946081295609474), ('v', 0.006946081295609474), ('time', 0.006946081295609474), ('next', 0.005559638142585754), ('point', 0.005559638142585754)]\n",
            "Top 10 words of topic #10\n",
            "[('team', 0.022871684283018112), ('dc', 0.018300393596291542), ('win', 0.01525286864489317), ('season', 0.013729105703532696), ('well', 0.012205342762172222), ('final', 0.010681578889489174), ('mumbai', 0.010681578889489174), ('delhi', 0.0091578159481287), ('mi', 0.0091578159481287), ('indian', 0.0091578159481287), ('player', 0.007634053006768227), ('trophy', 0.007634053006768227), ('make', 0.007634053006768227), ('best', 0.007634053006768227), ('first', 0.007634053006768227), ('match', 0.007634053006768227), ('time', 0.007634053006768227), ('game', 0.006110290065407753), ('take', 0.006110290065407753), ('played', 0.006110290065407753)]\n",
            "Top 10 words of topic #11\n",
            "[('win', 0.0157675389200449), ('mi', 0.0157675389200449), ('delhi', 0.01290331780910492), ('final', 0.01147120725363493), ('team', 0.01147120725363493), ('well', 0.01003909669816494), ('played', 0.01003909669816494), ('day', 0.00860698614269495), ('v', 0.00860698614269495), ('year', 0.00860698614269495), ('st', 0.007174875121563673), ('see', 0.007174875121563673), ('csk', 0.007174875121563673), ('season', 0.007174875121563673), ('rcb', 0.005742764566093683), ('back', 0.005742764566093683), ('qualifier', 0.005742764566093683), ('make', 0.005742764566093683), ('take', 0.005742764566093683), ('kane', 0.005742764566093683)]\n",
            "Top 10 words of topic #12\n",
            "[('delhi', 0.018739107996225357), ('team', 0.0172987449914217), ('win', 0.014418021775782108), ('time', 0.011537298560142517), ('dc', 0.010096936486661434), ('played', 0.008656574413180351), ('capital', 0.008656574413180351), ('rcb', 0.008656574413180351), ('back', 0.007216212805360556), ('trophy', 0.007216212805360556), ('new', 0.007216212805360556), ('made', 0.007216212805360556), ('season', 0.007216212805360556), ('name', 0.007216212805360556), ('v', 0.007216212805360556), ('final', 0.007216212805360556), ('stoinis', 0.00577585119754076), ('lift', 0.00577585119754076), ('next', 0.00577585119754076), ('williamson', 0.00577585119754076)]\n",
            "Top 10 words of topic #13\n",
            "[('final', 0.013362599536776543), ('win', 0.013362599536776543), ('team', 0.010396428406238556), ('stoinis', 0.010396428406238556), ('first', 0.010396428406238556), ('season', 0.010396428406238556), ('well', 0.010396428406238556), ('mi', 0.010396428406238556), ('dc', 0.010396428406238556), ('indian', 0.008913343772292137), ('delhi', 0.008913343772292137), ('time', 0.008913343772292137), ('year', 0.008913343772292137), ('v', 0.007430258207023144), ('play', 0.007430258207023144), ('wicket', 0.007430258207023144), ('congratulation', 0.007430258207023144), ('champion', 0.007430258207023144), ('run', 0.007430258207023144), ('match', 0.007430258207023144)]\n",
            "Top 10 words of topic #14\n",
            "[('team', 0.018929969519376755), ('v', 0.013109840452671051), ('win', 0.011654808185994625), ('dc', 0.011654808185994625), ('one', 0.0101997759193182), ('capital', 0.0101997759193182), ('delhi', 0.008744743652641773), ('time', 0.008744743652641773), ('well', 0.008744743652641773), ('srh', 0.008744743652641773), ('rcb', 0.008744743652641773), ('final', 0.007289711385965347), ('winning', 0.007289711385965347), ('mumbai', 0.007289711385965347), ('mi', 0.007289711385965347), ('game', 0.005834679584950209), ('player', 0.005834679584950209), ('played', 0.005834679584950209), ('ever', 0.005834679584950209), ('year', 0.005834679584950209)]\n",
            "<Basic Info>\n",
            "| SLDAModel (current version: 0.9.1)\n",
            "| 998 docs, 10089 words\n",
            "| Total Vocabs: 2727, Used Vocabs: 2727\n",
            "| Entropy of words: -6.88604\n",
            "| Removed Vocabs: <NA>\n",
            "|\n",
            "<Training Info>\n",
            "| Iterations: 0, Burn-in steps: 0\n",
            "| Optimization Interval: 10\n",
            "| Log-likelihood per word: -11.71934\n",
            "|\n",
            "<Initial Parameters>\n",
            "| tw: TermWeight.ONE\n",
            "| min_cf: 0 (minimum collection frequency of words)\n",
            "| min_df: 0 (minimum document frequency of words)\n",
            "| rm_top: 0 (the number of top words to be removed)\n",
            "| k: 15 (the number of topics between 1 ~ 32767)\n",
            "| vars: \n",
            "| alpha: 0.1 (hyperparameter of Dirichlet distribution for document-topic)\n",
            "| eta: 0.01 (hyperparameter of Dirichlet distribution for topic-word)\n",
            "| mu: [] (mean of regression coefficients, default value is 0)\n",
            "| nu_sq: [] (variance of regression coefficients, default value is 1)\n",
            "| glm_param: [] (the parameter for Generalized Linear Model, default value is 1)\n",
            "| trained in version 0.9.1\n",
            "|\n",
            "<Parameters>\n",
            "| alpha (Dirichlet prior on the per-document topic distributions)\n",
            "|  [0.1 0.1 0.1 0.1 0.1 0.1 0.1 0.1 0.1 0.1 0.1 0.1 0.1 0.1 0.1]\n",
            "| eta (Dirichlet prior on the per-topic word distribution)\n",
            "|  0.01\n",
            "| regression coefficients of response variables\n",
            "|\n",
            "<Topics>\n",
            "| #0 (708) : time final win delhi rcb\n",
            "| #1 (669) : team win final v dc\n",
            "| #2 (684) : final delhi dc indian match\n",
            "| #3 (668) : final team first dc match\n",
            "| #4 (634) : team final time match delhi\n",
            "| #5 (675) : win final delhi time season\n",
            "| #6 (699) : delhi final capital team time\n",
            "| #7 (699) : team srh v final mumbai\n",
            "| #8 (685) : delhi final win mi team\n",
            "| #9 (694) : delhi team final mi capital\n",
            "| #10 (629) : team dc win season well\n",
            "| #11 (671) : win mi delhi final team\n",
            "| #12 (667) : delhi team win time dc\n",
            "| #13 (647) : final win team stoinis first\n",
            "| #14 (660) : team v win dc one\n",
            "|\n",
            "\n"
          ],
          "name": "stdout"
        }
      ]
    },
    {
      "cell_type": "markdown",
      "metadata": {
        "id": "IxdQxOJWMNY1"
      },
      "source": [
        "**K-means** "
      ]
    },
    {
      "cell_type": "code",
      "metadata": {
        "colab": {
          "base_uri": "https://localhost:8080/"
        },
        "id": "KfiIUggdMRIG",
        "outputId": "33bcc505-af66-40a6-ce46-0cef2ec4d3a4"
      },
      "source": [
        "from sklearn.feature_extraction.text import TfidfVectorizer\n",
        "tfidf_vector = TfidfVectorizer()\n",
        "tfidf = tfidf_vector.fit_transform(tweets[\"refine_text\"].values)\n",
        "tfidf.shape"
      ],
      "execution_count": 43,
      "outputs": [
        {
          "output_type": "execute_result",
          "data": {
            "text/plain": [
              "(1000, 2711)"
            ]
          },
          "metadata": {
            "tags": []
          },
          "execution_count": 43
        }
      ]
    },
    {
      "cell_type": "code",
      "metadata": {
        "colab": {
          "base_uri": "https://localhost:8080/"
        },
        "id": "9rT-xBj5MaEa",
        "outputId": "f2a6adc5-5600-4075-efa0-6fdf2f15d42c"
      },
      "source": [
        "from sklearn.cluster import KMeans\n",
        "model_tfif = KMeans(n_clusters = 10, n_jobs = -1,random_state=99)\n",
        "model_tfif.fit(tfidf)"
      ],
      "execution_count": 44,
      "outputs": [
        {
          "output_type": "execute_result",
          "data": {
            "text/plain": [
              "KMeans(algorithm='auto', copy_x=True, init='k-means++', max_iter=300,\n",
              "       n_clusters=10, n_init=10, n_jobs=-1, precompute_distances='auto',\n",
              "       random_state=99, tol=0.0001, verbose=0)"
            ]
          },
          "metadata": {
            "tags": []
          },
          "execution_count": 44
        }
      ]
    },
    {
      "cell_type": "code",
      "metadata": {
        "id": "5LChvs_BMc8f"
      },
      "source": [
        "labels_tfif = model_tfif.labels_\n",
        "cluster_center_tfif=model_tfif.cluster_centers_"
      ],
      "execution_count": 45,
      "outputs": []
    },
    {
      "cell_type": "code",
      "metadata": {
        "colab": {
          "base_uri": "https://localhost:8080/"
        },
        "id": "ZJHcsZj4MhXL",
        "outputId": "73454c85-6024-4510-c19f-5d93f7c42812"
      },
      "source": [
        "cluster_center_tfif"
      ],
      "execution_count": 46,
      "outputs": [
        {
          "output_type": "execute_result",
          "data": {
            "text/plain": [
              "array([[0.00051286, 0.        , 0.00189733, ..., 0.00046739, 0.        ,\n",
              "        0.00044525],\n",
              "       [0.        , 0.        , 0.        , ..., 0.        , 0.        ,\n",
              "        0.        ],\n",
              "       [0.        , 0.        , 0.        , ..., 0.        , 0.        ,\n",
              "        0.        ],\n",
              "       ...,\n",
              "       [0.        , 0.        , 0.        , ..., 0.        , 0.        ,\n",
              "        0.        ],\n",
              "       [0.        , 0.        , 0.        , ..., 0.        , 0.        ,\n",
              "        0.        ],\n",
              "       [0.        , 0.00367482, 0.0065745 , ..., 0.        , 0.00315616,\n",
              "        0.        ]])"
            ]
          },
          "metadata": {
            "tags": []
          },
          "execution_count": 46
        }
      ]
    },
    {
      "cell_type": "code",
      "metadata": {
        "id": "Fnd2n6AnMjxK"
      },
      "source": [
        "words = tfidf_vector.get_feature_names()"
      ],
      "execution_count": 47,
      "outputs": []
    },
    {
      "cell_type": "code",
      "metadata": {
        "id": "b1-PcDNpMpFP"
      },
      "source": [
        "from sklearn import metrics\n",
        "silhouette_score_tfif = metrics.silhouette_score(tfidf, labels_tfif, metric='euclidean')"
      ],
      "execution_count": 48,
      "outputs": []
    },
    {
      "cell_type": "code",
      "metadata": {
        "colab": {
          "base_uri": "https://localhost:8080/"
        },
        "id": "UmyoATgFMvw1",
        "outputId": "06bce489-c42b-4c56-9ab7-756d95fd5176"
      },
      "source": [
        "silhouette_score_tfif"
      ],
      "execution_count": 49,
      "outputs": [
        {
          "output_type": "execute_result",
          "data": {
            "text/plain": [
              "0.014400088854713158"
            ]
          },
          "metadata": {
            "tags": []
          },
          "execution_count": 49
        }
      ]
    },
    {
      "cell_type": "code",
      "metadata": {
        "colab": {
          "base_uri": "https://localhost:8080/",
          "height": 568
        },
        "id": "TQFeCxXcMxp5",
        "outputId": "8cf69d3d-0945-42c6-c035-bd0a3d06436e"
      },
      "source": [
        "df_tfif = tweets\n",
        "df_tfif['Tfidf cluster Labels'] = model_tfif.labels_\n",
        "df_tfif.head(5)"
      ],
      "execution_count": 50,
      "outputs": [
        {
          "output_type": "execute_result",
          "data": {
            "text/html": [
              "<div>\n",
              "<style scoped>\n",
              "    .dataframe tbody tr th:only-of-type {\n",
              "        vertical-align: middle;\n",
              "    }\n",
              "\n",
              "    .dataframe tbody tr th {\n",
              "        vertical-align: top;\n",
              "    }\n",
              "\n",
              "    .dataframe thead th {\n",
              "        text-align: right;\n",
              "    }\n",
              "</style>\n",
              "<table border=\"1\" class=\"dataframe\">\n",
              "  <thead>\n",
              "    <tr style=\"text-align: right;\">\n",
              "      <th></th>\n",
              "      <th>created</th>\n",
              "      <th>user_location</th>\n",
              "      <th>tweet_text</th>\n",
              "      <th>username</th>\n",
              "      <th>all_hashtags</th>\n",
              "      <th>refine_text</th>\n",
              "      <th>text_length</th>\n",
              "      <th>sentiment_compound_polarity</th>\n",
              "      <th>sentiment_neutral</th>\n",
              "      <th>sentiment_negative</th>\n",
              "      <th>sentiment_pos</th>\n",
              "      <th>sentiment_type</th>\n",
              "      <th>hour</th>\n",
              "      <th>date</th>\n",
              "      <th>minute</th>\n",
              "      <th>Tfidf cluster Labels</th>\n",
              "    </tr>\n",
              "  </thead>\n",
              "  <tbody>\n",
              "    <tr>\n",
              "      <th>0</th>\n",
              "      <td>11/9/2020 4:49</td>\n",
              "      <td>Gotham City</td>\n",
              "      <td>b'Look at #SRH youngster Priyam Garg after Kan...</td>\n",
              "      <td>b'SteadyTheShip'</td>\n",
              "      <td>['SRH', 'SRHvDC', 'DCvSRH', 'IPL2020']</td>\n",
              "      <td>look youngster priyam garg kane williamson mas...</td>\n",
              "      <td>40</td>\n",
              "      <td>0.6969</td>\n",
              "      <td>0.720</td>\n",
              "      <td>0.062</td>\n",
              "      <td>0.218</td>\n",
              "      <td>POSITIVE</td>\n",
              "      <td>4</td>\n",
              "      <td>2020-11-09</td>\n",
              "      <td>49</td>\n",
              "      <td>9</td>\n",
              "    </tr>\n",
              "    <tr>\n",
              "      <th>1</th>\n",
              "      <td>11/9/2020 4:49</td>\n",
              "      <td>Bengaluru South, India</td>\n",
              "      <td>b'This is Mr.360\\xc2\\xb0 @ABdeVilliers17 . Mos...</td>\n",
              "      <td>b'imsapien'</td>\n",
              "      <td>['Cricket', 'IPL2020', 'Eliminater', 'IPLQuali...</td>\n",
              "      <td>mrxcxb dangerous animal cricket</td>\n",
              "      <td>9</td>\n",
              "      <td>-0.4767</td>\n",
              "      <td>0.492</td>\n",
              "      <td>0.508</td>\n",
              "      <td>0.000</td>\n",
              "      <td>NEGATIVE</td>\n",
              "      <td>4</td>\n",
              "      <td>2020-11-09</td>\n",
              "      <td>49</td>\n",
              "      <td>0</td>\n",
              "    </tr>\n",
              "    <tr>\n",
              "      <th>2</th>\n",
              "      <td>11/9/2020 4:48</td>\n",
              "      <td>Chennai, India</td>\n",
              "      <td>b\"Great things happen to those who don't stop ...</td>\n",
              "      <td>b'CricketGirl_45'</td>\n",
              "      <td>['RohitSharma', 'MumbaiIndians', 'IPL2020', 'I...</td>\n",
              "      <td>great thing happen dont stop believing trying ...</td>\n",
              "      <td>21</td>\n",
              "      <td>0.9134</td>\n",
              "      <td>0.356</td>\n",
              "      <td>0.000</td>\n",
              "      <td>0.644</td>\n",
              "      <td>POSITIVE</td>\n",
              "      <td>4</td>\n",
              "      <td>2020-11-09</td>\n",
              "      <td>48</td>\n",
              "      <td>0</td>\n",
              "    </tr>\n",
              "    <tr>\n",
              "      <th>3</th>\n",
              "      <td>11/9/2020 4:48</td>\n",
              "      <td>Chennai, India</td>\n",
              "      <td>b'T Natarajan made a mark with his yorkers in ...</td>\n",
              "      <td>b'ESPNcricinfo'</td>\n",
              "      <td>['IPL2020']</td>\n",
              "      <td>natarajan made mark yorkers xfxfxxc see play t...</td>\n",
              "      <td>19</td>\n",
              "      <td>0.3400</td>\n",
              "      <td>0.789</td>\n",
              "      <td>0.000</td>\n",
              "      <td>0.211</td>\n",
              "      <td>POSITIVE</td>\n",
              "      <td>4</td>\n",
              "      <td>2020-11-09</td>\n",
              "      <td>48</td>\n",
              "      <td>0</td>\n",
              "    </tr>\n",
              "    <tr>\n",
              "      <th>4</th>\n",
              "      <td>11/9/2020 4:47</td>\n",
              "      <td>Kerala, India</td>\n",
              "      <td>b'#IPL2020 Final: Marcus Stoinis warning to @m...</td>\n",
              "      <td>b'InsideSportIND'</td>\n",
              "      <td>['IPL2020', 'iplseason13', 'IPLfinal', 'Mumbai...</td>\n",
              "      <td>marcus stoinis warning check</td>\n",
              "      <td>7</td>\n",
              "      <td>-0.3400</td>\n",
              "      <td>0.556</td>\n",
              "      <td>0.444</td>\n",
              "      <td>0.000</td>\n",
              "      <td>NEGATIVE</td>\n",
              "      <td>4</td>\n",
              "      <td>2020-11-09</td>\n",
              "      <td>47</td>\n",
              "      <td>0</td>\n",
              "    </tr>\n",
              "  </tbody>\n",
              "</table>\n",
              "</div>"
            ],
            "text/plain": [
              "          created           user_location  ... minute Tfidf cluster Labels\n",
              "0  11/9/2020 4:49            Gotham City   ...     49                    9\n",
              "1  11/9/2020 4:49  Bengaluru South, India  ...     49                    0\n",
              "2  11/9/2020 4:48         Chennai, India   ...     48                    0\n",
              "3  11/9/2020 4:48          Chennai, India  ...     48                    0\n",
              "4  11/9/2020 4:47           Kerala, India  ...     47                    0\n",
              "\n",
              "[5 rows x 16 columns]"
            ]
          },
          "metadata": {
            "tags": []
          },
          "execution_count": 50
        }
      ]
    },
    {
      "cell_type": "code",
      "metadata": {
        "colab": {
          "base_uri": "https://localhost:8080/"
        },
        "id": "I0khgtpHNgA6",
        "outputId": "fd1e2080-dfd2-4ac6-f860-4568c70819d1"
      },
      "source": [
        "df_tfif.groupby(['Tfidf cluster Labels'])['refine_text'].count()"
      ],
      "execution_count": 51,
      "outputs": [
        {
          "output_type": "execute_result",
          "data": {
            "text/plain": [
              "Tfidf cluster Labels\n",
              "0    508\n",
              "1     13\n",
              "2     49\n",
              "3     55\n",
              "4     50\n",
              "5     64\n",
              "6     51\n",
              "7     69\n",
              "8     33\n",
              "9    108\n",
              "Name: refine_text, dtype: int64"
            ]
          },
          "metadata": {
            "tags": []
          },
          "execution_count": 51
        }
      ]
    },
    {
      "cell_type": "code",
      "metadata": {
        "colab": {
          "base_uri": "https://localhost:8080/"
        },
        "id": "yZ0eLlU0NivH",
        "outputId": "41b1376a-d422-4141-e0cf-79a81dccf4b1"
      },
      "source": [
        "\n",
        "print(\"Top words per cluster:\")\n",
        "order_centroids = model_tfif.cluster_centers_.argsort()[:, ::-1]\n",
        "for i in range(10):\n",
        "    print(\"Cluster %d:\" % i, end='')\n",
        "    for ind in order_centroids[i, :10]:\n",
        "        print(' %s' % words[ind], end='')\n",
        "        print()"
      ],
      "execution_count": 52,
      "outputs": [
        {
          "output_type": "stream",
          "text": [
            "Top words per cluster:\n",
            "Cluster 0: congratulation\n",
            " one\n",
            " season\n",
            " champion\n",
            " year\n",
            " fan\n",
            " match\n",
            " run\n",
            " wicket\n",
            " trophy\n",
            "Cluster 1: csk\n",
            " rps\n",
            " kkr\n",
            " deccan\n",
            " kxip\n",
            " rr\n",
            " srh\n",
            " mi\n",
            " rcb\n",
            " final\n",
            "Cluster 2: win\n",
            " always\n",
            " lose\n",
            " life\n",
            " retweet\n",
            " time\n",
            " like\n",
            " wish\n",
            " first\n",
            " hope\n",
            "Cluster 3: capital\n",
            " delhi\n",
            " maiden\n",
            " run\n",
            " qualifier\n",
            " hyderabad\n",
            " sunrisers\n",
            " join\n",
            " first\n",
            " time\n",
            "Cluster 4: title\n",
            " qualifier\n",
            " tuesday\n",
            " first\n",
            " lost\n",
            " match\n",
            " face\n",
            " final\n",
            " win\n",
            " beat\n",
            "Cluster 5: final\n",
            " finally\n",
            " time\n",
            " congratulation\n",
            " first\n",
            " delhi\n",
            " see\n",
            " qualified\n",
            " trophy\n",
            " made\n",
            "Cluster 6: well\n",
            " played\n",
            " congratulation\n",
            " team\n",
            " better\n",
            " boy\n",
            " proud\n",
            " match\n",
            " done\n",
            " next\n",
            "Cluster 7: dc\n",
            " mi\n",
            " rcb\n",
            " time\n",
            " csk\n",
            " released\n",
            " final\n",
            " made\n",
            " srh\n",
            " fan\n",
            "Cluster 8: mumbai\n",
            " indian\n",
            " win\n",
            " capital\n",
            " join\n",
            " delhi\n",
            " year\n",
            " meet\n",
            " winner\n",
            " time\n",
            "Cluster 9: player\n",
            " team\n",
            " williamson\n",
            " kane\n",
            " injured\n",
            " best\n",
            " season\n",
            " fan\n",
            " good\n",
            " back\n"
          ],
          "name": "stdout"
        }
      ]
    },
    {
      "cell_type": "code",
      "metadata": {
        "colab": {
          "base_uri": "https://localhost:8080/",
          "height": 295
        },
        "id": "ozr59NtYN90f",
        "outputId": "fe534a65-0a12-4ae3-dac6-51e14b370515"
      },
      "source": [
        "import matplotlib.pyplot as plt\n",
        "plt.bar([x for x in range(10)], df_tfif.groupby(['Tfidf cluster Labels'])['refine_text'].count(), alpha = 0.4)\n",
        "plt.title('KMeans cluster points')\n",
        "plt.xlabel(\"Cluster number\")\n",
        "plt.ylabel(\"Number of points\")\n",
        "plt.show()"
      ],
      "execution_count": 53,
      "outputs": [
        {
          "output_type": "display_data",
          "data": {
            "image/png": "[encoded data removed]",
            "text/plain": [
              "<Figure size 432x288 with 1 Axes>"
            ]
          },
          "metadata": {
            "tags": [],
            "needs_background": "light"
          }
        }
      ]
    },
    {
      "cell_type": "markdown",
      "metadata": {
        "id": "jHCa96igeGlI"
      },
      "source": [
        "**Classification Algorithms**"
      ]
    },
    {
      "cell_type": "markdown",
      "metadata": {
        "id": "qvtVBjgUUYGI"
      },
      "source": [
        "**SVM**\n",
        "\n",
        "\n"
      ]
    },
    {
      "cell_type": "code",
      "metadata": {
        "id": "99IG1N_iU9RX"
      },
      "source": [
        "from sklearn.model_selection import train_test_split\n",
        "X_train, X_test, y_train, y_test = train_test_split(tfidf, tweets[\"sentiment_type\"], test_size=0.2,random_state=109)"
      ],
      "execution_count": 54,
      "outputs": []
    },
    {
      "cell_type": "code",
      "metadata": {
        "id": "BEObzo_bPvrF"
      },
      "source": [
        "import sklearn\n",
        "from sklearn.model_selection import train_test_split\n",
        "from sklearn.feature_extraction.text import CountVectorizer, TfidfTransformer\n",
        "from sklearn.linear_model import SGDClassifier\n",
        "from sklearn.pipeline import Pipeline\n",
        "from sklearn.naive_bayes import MultinomialNB\n",
        "from sklearn.svm import LinearSVC\n",
        "from sklearn.metrics import f1_score, accuracy_score, precision_score, recall_score\n",
        "train, test = sklearn.model_selection.train_test_split(tweets, train_size=0.8, test_size=0.2)\n",
        "svm_pipeline = Pipeline([('vect', CountVectorizer()),\n",
        "                     ('tfidf', TfidfTransformer()),\n",
        "                     ('clf', LinearSVC())])\n",
        "svm = svm_pipeline.fit(train['refine_text'], train['sentiment_type'])\n",
        "test['predicted sentiment'] = svm.predict(test['refine_text'])"
      ],
      "execution_count": 55,
      "outputs": []
    },
    {
      "cell_type": "code",
      "metadata": {
        "colab": {
          "base_uri": "https://localhost:8080/"
        },
        "id": "uVQS3XGFPvur",
        "outputId": "9cfd989d-587c-41f1-aba5-1e97bda48720"
      },
      "source": [
        "print('TFIDF-BASED SVM SENTIMENT ANALYSIS:', '\\n')\n",
        "print(test[['refine_text', 'sentiment_type', 'predicted sentiment']].head(10))\n",
        "svm_recall = recall_score(test['sentiment_type'], test['predicted sentiment'], average='macro')\n",
        "svm_precision = precision_score(test['sentiment_type'], test['predicted sentiment'], average='macro')\n",
        "svm_accuracy = accuracy_score(test['sentiment_type'], test['predicted sentiment'])*100\n",
        "svm_f1 = f1_score(test['sentiment_type'], test['predicted sentiment'], average='macro')\n",
        "print('Accuracy of svm :', svm_accuracy)\n",
        "print('f1-score of svm :', svm_f1)\n",
        "print('Precision score of svm :', svm_precision)\n",
        "print('Recall score of svm :', svm_recall)"
      ],
      "execution_count": 56,
      "outputs": [
        {
          "output_type": "stream",
          "text": [
            "TFIDF-BASED SVM SENTIMENT ANALYSIS: \n",
            "\n",
            "                                           refine_text  ... predicted sentiment\n",
            "818                                     noball opinion  ...            POSITIVE\n",
            "668  rcb dc reached final many year change made tea...  ...             NEUTRAL\n",
            "181  exmumbai cricketer robin morris arrested invol...  ...            NEGATIVE\n",
            "878                                            gonna v  ...            NEGATIVE\n",
            "370      prediction point table xfxfxfxfxfxfxfx topper  ...             NEUTRAL\n",
            "111                           top batsman half century  ...            POSITIVE\n",
            "572         best team ever looking team make lose hope  ...            POSITIVE\n",
            "594                                    qualified final  ...             NEUTRAL\n",
            "13   delhi capital coach ricky ponting thrilled tea...  ...            POSITIVE\n",
            "789  congratulation making first time history plzz ...  ...            POSITIVE\n",
            "\n",
            "[10 rows x 3 columns]\n",
            "Accuracy of svm : 77.5\n",
            "f1-score of svm : 0.6235214061301018\n",
            "Precision score of svm : 0.6817740817740819\n",
            "Recall score of svm : 0.5964726631393298\n"
          ],
          "name": "stdout"
        }
      ]
    },
    {
      "cell_type": "markdown",
      "metadata": {
        "id": "_dEQfPF-RlzF"
      },
      "source": [
        "**MULTINOMIAL NAIVE BAYES**"
      ]
    },
    {
      "cell_type": "code",
      "metadata": {
        "id": "9W3HJfmjRlBM"
      },
      "source": [
        "\n",
        "nb_pipeline = Pipeline([('vect', CountVectorizer()),\n",
        "                        ('tfidf', TfidfTransformer()),\n",
        "                        ('clf', MultinomialNB())])\n",
        "nb = nb_pipeline.fit(train['refine_text'], train['sentiment_type'])\n",
        "test['nb predicted sentiment'] = nb.predict(test['refine_text'])"
      ],
      "execution_count": 57,
      "outputs": []
    },
    {
      "cell_type": "code",
      "metadata": {
        "colab": {
          "base_uri": "https://localhost:8080/"
        },
        "id": "SDMXypafRrmR",
        "outputId": "eab9a670-8111-49e3-c8ca-56a31a39b837"
      },
      "source": [
        "print('\\n', 'MultinomialNB SENTIMENT ANALYSIS:', '\\n')\n",
        "print(test[['refine_text', 'sentiment_type', 'nb predicted sentiment']].head(10))\n",
        "from sklearn.metrics import accuracy_score, recall_score, precision_score, f1_score\n",
        "nb_recall = recall_score(test['sentiment_type'], test['nb predicted sentiment'], average='macro')\n",
        "nb_precision = precision_score(test['sentiment_type'], test['nb predicted sentiment'], average='macro')\n",
        "nb_accuracy = accuracy_score(test['sentiment_type'], test['nb predicted sentiment'])*100\n",
        "nb_f1 = f1_score(test['sentiment_type'], test['nb predicted sentiment'], average='macro')\n",
        "\n",
        "print('Accuracy of MultinomialNB:', nb_accuracy)\n",
        "print('f1-score of MultinomialNB:', nb_f1)\n",
        "print('Precision score of MultinomialNB:', nb_precision)\n",
        "print('Recall score of  MultinomialNB:', nb_recall)"
      ],
      "execution_count": 58,
      "outputs": [
        {
          "output_type": "stream",
          "text": [
            "\n",
            " MultinomialNB SENTIMENT ANALYSIS: \n",
            "\n",
            "                                           refine_text  ... nb predicted sentiment\n",
            "818                                     noball opinion  ...               POSITIVE\n",
            "668  rcb dc reached final many year change made tea...  ...               POSITIVE\n",
            "181  exmumbai cricketer robin morris arrested invol...  ...               POSITIVE\n",
            "878                                            gonna v  ...               POSITIVE\n",
            "370      prediction point table xfxfxfxfxfxfxfx topper  ...               POSITIVE\n",
            "111                           top batsman half century  ...               POSITIVE\n",
            "572         best team ever looking team make lose hope  ...               POSITIVE\n",
            "594                                    qualified final  ...               POSITIVE\n",
            "13   delhi capital coach ricky ponting thrilled tea...  ...               POSITIVE\n",
            "789  congratulation making first time history plzz ...  ...               POSITIVE\n",
            "\n",
            "[10 rows x 3 columns]\n",
            "Accuracy of MultinomialNB: 64.5\n",
            "f1-score of MultinomialNB: 0.3258341901590371\n",
            "Precision score of MultinomialNB: 0.797008547008547\n",
            "Recall score of  MultinomialNB: 0.3658730158730159\n"
          ],
          "name": "stdout"
        }
      ]
    },
    {
      "cell_type": "markdown",
      "metadata": {
        "id": "0xIjTeAQW7NW"
      },
      "source": [
        "**GRADIENT BOOSTING**"
      ]
    },
    {
      "cell_type": "code",
      "metadata": {
        "colab": {
          "base_uri": "https://localhost:8080/"
        },
        "id": "gO2oE6dWRlEd",
        "outputId": "16725fd9-b27e-459e-c625-eb5f285c331f"
      },
      "source": [
        "from sklearn.ensemble import GradientBoostingClassifier\n",
        "gbpln = Pipeline([('vect', CountVectorizer()),\n",
        "                     ('tfidf', TfidfTransformer()),\n",
        "                     ('clf', GradientBoostingClassifier(n_estimators=200,verbose=30))])\n",
        "gb = gbpln.fit(train['refine_text'], train['sentiment_type'])\n",
        "test['GB predicted sentiment'] = gb.predict(test['refine_text'])"
      ],
      "execution_count": 59,
      "outputs": [
        {
          "output_type": "stream",
          "text": [
            "      Iter       Train Loss   Remaining Time \n",
            "         1         686.2492            2.46s\n",
            "         2         667.4299            2.33s\n",
            "         3         651.2264            2.29s\n",
            "         4         637.7957            2.28s\n",
            "         5         625.8981            2.23s\n",
            "         6         615.4100            2.21s\n",
            "         7         605.7902            2.20s\n",
            "         8         597.5276            2.18s\n",
            "         9         588.6303            2.17s\n",
            "        10         581.0319            2.17s\n",
            "        11         573.6568            2.16s\n",
            "        12         566.9333            2.16s\n",
            "        13         559.0916            2.14s\n",
            "        14         552.3960            2.13s\n",
            "        15         545.9257            2.12s\n",
            "        16         539.7256            2.11s\n",
            "        17         534.0736            2.09s\n",
            "        18         528.9479            2.11s\n",
            "        19         523.9143            2.10s\n",
            "        20         518.2163            2.09s\n",
            "        21         513.6424            2.08s\n",
            "        22         508.5095            2.06s\n",
            "        23         504.0696            2.04s\n",
            "        24         499.8028            2.03s\n",
            "        25         495.7558            2.02s\n",
            "        26         491.6157            2.01s\n",
            "        27         487.4892            2.00s\n",
            "        28         483.7788            1.99s\n",
            "        29         479.9196            1.98s\n",
            "        30         476.5269            1.97s\n",
            "        31         473.1979            1.96s\n",
            "        32         470.1672            1.94s\n",
            "        33         466.9124            1.93s\n",
            "        34         462.8343            1.91s\n",
            "        35         459.9504            1.90s\n",
            "        36         456.7931            1.90s\n",
            "        37         453.5378            1.89s\n",
            "        38         450.8261            1.88s\n",
            "        39         447.6688            1.87s\n",
            "        40         444.1035            1.86s\n",
            "        41         440.4258            1.85s\n",
            "        42         437.3351            1.83s\n",
            "        43         434.2058            1.82s\n",
            "        44         431.1166            1.80s\n",
            "        45         428.1276            1.79s\n",
            "        46         425.3636            1.77s\n",
            "        47         422.0047            1.76s\n",
            "        48         419.1031            1.75s\n",
            "        49         416.6293            1.74s\n",
            "        50         414.3826            1.73s\n",
            "        51         411.5255            1.72s\n",
            "        52         408.9339            1.71s\n",
            "        53         406.6138            1.69s\n",
            "        54         403.8753            1.69s\n",
            "        55         401.9935            1.68s\n",
            "        56         399.7693            1.67s\n",
            "        57         397.2882            1.67s\n",
            "        58         395.0595            1.66s\n",
            "        59         392.6915            1.64s\n",
            "        60         390.4940            1.63s\n",
            "        61         388.1993            1.62s\n",
            "        62         386.1409            1.60s\n",
            "        63         383.8670            1.59s\n",
            "        64         381.7491            1.58s\n",
            "        65         379.5013            1.57s\n",
            "        66         377.6667            1.55s\n",
            "        67         375.9159            1.54s\n",
            "        68         374.0543            1.53s\n",
            "        69         372.2085            1.52s\n",
            "        70         370.3246            1.50s\n",
            "        71         368.3831            1.49s\n",
            "        72         366.5232            1.49s\n",
            "        73         364.7358            1.47s\n",
            "        74         362.9993            1.46s\n",
            "        75         361.2560            1.45s\n",
            "        76         359.1846            1.44s\n",
            "        77         357.5036            1.43s\n",
            "        78         356.0705            1.41s\n",
            "        79         354.5918            1.40s\n",
            "        80         353.0992            1.39s\n",
            "        81         351.1362            1.37s\n",
            "        82         349.1103            1.36s\n",
            "        83         347.4988            1.35s\n",
            "        84         346.1166            1.34s\n",
            "        85         344.3279            1.33s\n",
            "        86         342.9599            1.31s\n",
            "        87         341.5203            1.30s\n",
            "        88         339.6605            1.29s\n",
            "        89         338.0758            1.28s\n",
            "        90         336.5659            1.26s\n",
            "        91         334.8785            1.26s\n",
            "        92         333.3560            1.24s\n",
            "        93         332.0303            1.23s\n",
            "        94         330.8060            1.22s\n",
            "        95         329.4667            1.20s\n",
            "        96         327.6901            1.19s\n",
            "        97         326.2914            1.18s\n",
            "        98         324.6435            1.17s\n",
            "        99         322.9665            1.15s\n",
            "       100         321.5248            1.14s\n",
            "       101         320.3100            1.13s\n",
            "       102         318.8974            1.12s\n",
            "       103         317.6742            1.11s\n",
            "       104         316.1955            1.09s\n",
            "       105         314.8012            1.08s\n",
            "       106         313.6934            1.07s\n",
            "       107         312.4891            1.06s\n",
            "       108         311.3455            1.04s\n",
            "       109         310.0636            1.03s\n",
            "       110         308.5739            1.02s\n",
            "       111         307.2750            1.01s\n",
            "       112         306.0055            1.00s\n",
            "       113         304.8057            0.99s\n",
            "       114         303.5336            0.98s\n",
            "       115         302.2684            0.96s\n",
            "       116         301.1254            0.95s\n",
            "       117         299.8426            0.94s\n",
            "       118         298.3820            0.93s\n",
            "       119         297.3882            0.92s\n",
            "       120         296.1751            0.91s\n",
            "       121         294.8812            0.90s\n",
            "       122         293.8816            0.88s\n",
            "       123         292.7661            0.87s\n",
            "       124         291.5436            0.86s\n",
            "       125         290.4408            0.85s\n",
            "       126         289.3161            0.84s\n",
            "       127         288.1192            0.82s\n",
            "       128         287.0618            0.81s\n",
            "       129         286.0534            0.80s\n",
            "       130         285.0663            0.79s\n",
            "       131         284.0543            0.78s\n",
            "       132         283.1158            0.77s\n",
            "       133         282.2091            0.76s\n",
            "       134         281.1836            0.74s\n",
            "       135         280.0780            0.73s\n",
            "       136         279.0149            0.72s\n",
            "       137         278.0511            0.71s\n",
            "       138         277.0666            0.70s\n",
            "       139         275.9095            0.69s\n",
            "       140         274.8129            0.68s\n",
            "       141         273.8515            0.66s\n",
            "       142         272.9434            0.65s\n",
            "       143         271.5370            0.64s\n",
            "       144         270.5801            0.63s\n",
            "       145         269.3643            0.62s\n",
            "       146         268.3512            0.61s\n",
            "       147         267.3407            0.60s\n",
            "       148         266.4246            0.58s\n",
            "       149         265.5039            0.58s\n",
            "       150         264.6836            0.56s\n",
            "       151         263.6658            0.55s\n",
            "       152         262.8495            0.54s\n",
            "       153         261.9882            0.53s\n",
            "       154         261.0159            0.52s\n",
            "       155         260.0026            0.51s\n",
            "       156         259.1283            0.50s\n",
            "       157         258.2619            0.48s\n",
            "       158         257.2636            0.47s\n",
            "       159         256.2855            0.46s\n",
            "       160         255.3633            0.45s\n",
            "       161         254.4840            0.44s\n",
            "       162         253.4458            0.43s\n",
            "       163         252.6589            0.42s\n",
            "       164         251.8854            0.40s\n",
            "       165         251.0268            0.39s\n",
            "       166         249.9857            0.38s\n",
            "       167         249.1784            0.37s\n",
            "       168         248.1001            0.36s\n",
            "       169         247.3103            0.35s\n",
            "       170         246.5518            0.34s\n",
            "       171         245.6538            0.33s\n",
            "       172         244.5847            0.32s\n",
            "       173         243.8319            0.30s\n",
            "       174         243.1072            0.29s\n",
            "       175         242.3580            0.28s\n",
            "       176         241.3434            0.27s\n",
            "       177         240.5718            0.26s\n",
            "       178         239.7923            0.25s\n",
            "       179         238.8638            0.24s\n",
            "       180         238.1752            0.23s\n",
            "       181         237.3376            0.21s\n",
            "       182         236.6023            0.20s\n",
            "       183         235.8642            0.19s\n",
            "       184         235.0801            0.18s\n",
            "       185         234.1780            0.17s\n",
            "       186         233.3471            0.16s\n",
            "       187         232.2740            0.15s\n",
            "       188         231.5292            0.14s\n",
            "       189         230.7674            0.12s\n",
            "       190         229.9059            0.11s\n",
            "       191         229.1809            0.10s\n",
            "       192         228.4350            0.09s\n",
            "       193         227.7312            0.08s\n",
            "       194         227.1391            0.07s\n",
            "       195         226.3250            0.06s\n",
            "       196         225.5712            0.04s\n",
            "       197         224.7775            0.03s\n",
            "       198         224.0289            0.02s\n",
            "       199         223.2999            0.01s\n",
            "       200         222.4959            0.00s\n"
          ],
          "name": "stdout"
        }
      ]
    },
    {
      "cell_type": "code",
      "metadata": {
        "colab": {
          "base_uri": "https://localhost:8080/"
        },
        "id": "OqMwL7t2RlH4",
        "outputId": "3eca914b-55bf-4f50-cee3-5d94883aaead"
      },
      "source": [
        "print('GRADIENTBOOSTING SENTIMENT ANALYSIS:', '\\n')\n",
        "print(test[['refine_text', 'sentiment_type', 'GB predicted sentiment']].head(10))\n",
        "\n",
        "gb_recall = recall_score(test['sentiment_type'], test['GB predicted sentiment'], average='macro')\n",
        "gb_precision = precision_score(test['sentiment_type'], test['GB predicted sentiment'], average='macro')\n",
        "gb_accuracy = accuracy_score(test['sentiment_type'], test['GB predicted sentiment'])*100\n",
        "gb_f1 = f1_score(test['sentiment_type'], test['GB predicted sentiment'], average='macro')\n",
        "\n",
        "print('Accuracy of GradientBoosting:', gb_accuracy)\n",
        "print('f1-score of GradientBoosting:', gb_f1)\n",
        "print('Precision score of GradientBoosting:', gb_precision)\n",
        "print('Recall score of GradientBoosting:', gb_recall)"
      ],
      "execution_count": 60,
      "outputs": [
        {
          "output_type": "stream",
          "text": [
            "GRADIENTBOOSTING SENTIMENT ANALYSIS: \n",
            "\n",
            "                                           refine_text  ... GB predicted sentiment\n",
            "818                                     noball opinion  ...               POSITIVE\n",
            "668  rcb dc reached final many year change made tea...  ...                NEUTRAL\n",
            "181  exmumbai cricketer robin morris arrested invol...  ...               NEGATIVE\n",
            "878                                            gonna v  ...               NEGATIVE\n",
            "370      prediction point table xfxfxfxfxfxfxfx topper  ...                NEUTRAL\n",
            "111                           top batsman half century  ...               POSITIVE\n",
            "572         best team ever looking team make lose hope  ...               POSITIVE\n",
            "594                                    qualified final  ...                NEUTRAL\n",
            "13   delhi capital coach ricky ponting thrilled tea...  ...               POSITIVE\n",
            "789  congratulation making first time history plzz ...  ...               POSITIVE\n",
            "\n",
            "[10 rows x 3 columns]\n",
            "Accuracy of GradientBoosting: 70.5\n",
            "f1-score of GradientBoosting: 0.5380306530541272\n",
            "Precision score of GradientBoosting: 0.6129864041256446\n",
            "Recall score of GradientBoosting: 0.5171957671957671\n"
          ],
          "name": "stdout"
        }
      ]
    },
    {
      "cell_type": "markdown",
      "metadata": {
        "id": "WnDMuV29ViIH"
      },
      "source": [
        "**RANDOM FOREST**"
      ]
    },
    {
      "cell_type": "code",
      "metadata": {
        "id": "W2dsqZ8OVY8B"
      },
      "source": [
        "from sklearn import tree\n",
        "from sklearn.ensemble import RandomForestClassifier\n",
        "from sklearn.ensemble import GradientBoostingClassifier\n",
        "pln = Pipeline([('vect', CountVectorizer()),\n",
        "                     ('tfidf', TfidfTransformer()),\n",
        "                     ('clf', RandomForestClassifier(n_estimators=100))])\n",
        "rf = pln.fit(train['refine_text'], train['sentiment_type'])\n",
        "test['GB predicted sentiment'] = rf.predict(test['refine_text'])"
      ],
      "execution_count": 61,
      "outputs": []
    },
    {
      "cell_type": "code",
      "metadata": {
        "colab": {
          "base_uri": "https://localhost:8080/"
        },
        "id": "CS0JQN11VY_Z",
        "outputId": "4c850809-d9fd-465c-9f6b-430fdb80c439"
      },
      "source": [
        "print('RANDOM FOREST SENTIMENT ANALYSIS:', '\\n')\n",
        "print(test[['refine_text', 'sentiment_type', 'GB predicted sentiment']].head(10))\n",
        "\n",
        "rf_recall = recall_score(test['sentiment_type'], test['GB predicted sentiment'], average='macro')\n",
        "rf_precision = precision_score(test['sentiment_type'], test['GB predicted sentiment'], average='macro')\n",
        "rf_accuracy = accuracy_score(test['sentiment_type'], test['GB predicted sentiment'])*100\n",
        "rf_f1 = f1_score(test['sentiment_type'], test['GB predicted sentiment'], average='macro')\n",
        "\n",
        "print('Accuracy of RandomForest:', rf_accuracy)\n",
        "print('f1-score of RandomForest:', rf_f1)\n",
        "print('Precision score of RandomForest:', rf_precision)\n",
        "print('Recall score of RandomForest:', rf_recall)"
      ],
      "execution_count": 62,
      "outputs": [
        {
          "output_type": "stream",
          "text": [
            "RANDOM FOREST SENTIMENT ANALYSIS: \n",
            "\n",
            "                                           refine_text  ... GB predicted sentiment\n",
            "818                                     noball opinion  ...                NEUTRAL\n",
            "668  rcb dc reached final many year change made tea...  ...                NEUTRAL\n",
            "181  exmumbai cricketer robin morris arrested invol...  ...               NEGATIVE\n",
            "878                                            gonna v  ...                NEUTRAL\n",
            "370      prediction point table xfxfxfxfxfxfxfx topper  ...                NEUTRAL\n",
            "111                           top batsman half century  ...                NEUTRAL\n",
            "572         best team ever looking team make lose hope  ...               POSITIVE\n",
            "594                                    qualified final  ...                NEUTRAL\n",
            "13   delhi capital coach ricky ponting thrilled tea...  ...               POSITIVE\n",
            "789  congratulation making first time history plzz ...  ...               POSITIVE\n",
            "\n",
            "[10 rows x 3 columns]\n",
            "Accuracy of RandomForest: 76.0\n",
            "f1-score of RandomForest: 0.6119945414063062\n",
            "Precision score of RandomForest: 0.7089644205923276\n",
            "Recall score of RandomForest: 0.6028218694885362\n"
          ],
          "name": "stdout"
        }
      ]
    }
  ]
}