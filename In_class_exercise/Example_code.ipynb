{
  "nbformat": 4,
  "nbformat_minor": 0,
  "metadata": {
    "colab": {
      "name": "Example_code.ipynb",
      "provenance": [],
      "authorship_tag": "ABX9TyPSRLOtLS3988U3GHPLsLUU",
      "include_colab_link": true
    },
    "kernelspec": {
      "name": "python3",
      "display_name": "Python 3"
    }
  },
  "cells": [
    {
      "cell_type": "markdown",
      "metadata": {
        "id": "view-in-github",
        "colab_type": "text"
      },
      "source": [
        "<a href=\"https://colab.research.google.com/github/prashanthdnss/Nithya_INFO5731_Fall2020/blob/master/In_class_exercise/Example_code.ipynb\" target=\"_parent\"><img src=\"https://colab.research.google.com/assets/colab-badge.svg\" alt=\"Open In Colab\"/></a>"
      ]
    },
    {
      "cell_type": "markdown",
      "metadata": {
        "id": "snYJSrXmZOHP",
        "colab_type": "text"
      },
      "source": [
        "First python code"
      ]
    },
    {
      "cell_type": "code",
      "metadata": {
        "id": "slOmw0ieWOOC",
        "colab_type": "code",
        "colab": {
          "base_uri": "https://localhost:8080/",
          "height": 34
        },
        "outputId": "374fd7b5-346d-4735-bf91-efc5397e78d1"
      },
      "source": [
        "print (\"hello, this is my first code in python\")"
      ],
      "execution_count": 2,
      "outputs": [
        {
          "output_type": "stream",
          "text": [
            "hello, this is my first code in python\n"
          ],
          "name": "stdout"
        }
      ]
    }
  ]
}