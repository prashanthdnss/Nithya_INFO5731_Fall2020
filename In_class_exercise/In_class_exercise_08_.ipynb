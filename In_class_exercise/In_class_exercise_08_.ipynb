{
  "nbformat": 4,
  "nbformat_minor": 0,
  "metadata": {
    "kernelspec": {
      "display_name": "Python 3",
      "language": "python",
      "name": "python3"
    },
    "language_info": {
      "codemirror_mode": {
        "name": "ipython",
        "version": 3
      },
      "file_extension": ".py",
      "mimetype": "text/x-python",
      "name": "python",
      "nbconvert_exporter": "python",
      "pygments_lexer": "ipython3",
      "version": "3.7.4"
    },
    "colab": {
      "name": "In_class_exercise_08 .ipynb",
      "provenance": [],
      "collapsed_sections": [],
      "include_colab_link": true
    }
  },
  "cells": [
    {
      "cell_type": "markdown",
      "metadata": {
        "id": "view-in-github",
        "colab_type": "text"
      },
      "source": [
        "<a href=\"https://colab.research.google.com/github/prashanthdnss/Nithya_INFO5731_Fall2020/blob/master/In_class_exercise/In_class_exercise_08_.ipynb\" target=\"_parent\"><img src=\"https://colab.research.google.com/assets/colab-badge.svg\" alt=\"Open In Colab\"/></a>"
      ]
    },
    {
      "cell_type": "markdown",
      "metadata": {
        "id": "NmiesGMfpyvO"
      },
      "source": [
        "# **The eighth in-class-exercise (20 points in total, 10/29/2020)**"
      ]
    },
    {
      "cell_type": "markdown",
      "metadata": {
        "id": "oXnZFnhTpyvP"
      },
      "source": [
        "The data for this exercise is from the dataset you created from assignment three. Please perform answer the following questions based on your data:"
      ]
    },
    {
      "cell_type": "markdown",
      "metadata": {
        "id": "RwvUQJ6gpyvQ"
      },
      "source": [
        "## (1) (10 points) Write a python program to extract the sentiment related terms from the corpus. You may use python package such as polyglot or external lexicon resources in the question. Rank the sentiment related terms by frequency."
      ]
    },
    {
      "cell_type": "code",
      "metadata": {
        "id": "bcnul0d9pyvQ",
        "outputId": "9825ed6e-f236-4d2c-e095-a42083a61206",
        "colab": {
          "resources": {
            "http://localhost:8080/nbextensions/google.colab/files.js": {
              "data": "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",
              "ok": true,
              "headers": [
                [
                  "content-type",
                  "application/javascript"
                ]
              ],
              "status": 200,
              "status_text": ""
            }
          },
          "base_uri": "https://localhost:8080/",
          "height": 73
        }
      },
      "source": [
        "# Write your code here\n",
        "\n",
        "from google.colab import files\n",
        "\n",
        "uploaded = files.upload()"
      ],
      "execution_count": 6,
      "outputs": [
        {
          "output_type": "display_data",
          "data": {
            "text/html": [
              "\n",
              "     <input type=\"file\" id=\"files-1f519c29-3b8d-4b5d-8404-656faddc957a\" name=\"files[]\" multiple disabled\n",
              "        style=\"border:none\" />\n",
              "     <output id=\"result-1f519c29-3b8d-4b5d-8404-656faddc957a\">\n",
              "      Upload widget is only available when the cell has been executed in the\n",
              "      current browser session. Please rerun this cell to enable.\n",
              "      </output>\n",
              "      <script src=\"/nbextensions/google.colab/files.js\"></script> "
            ],
            "text/plain": [
              "<IPython.core.display.HTML object>"
            ]
          },
          "metadata": {
            "tags": []
          }
        },
        {
          "output_type": "stream",
          "text": [
            "Saving clean_text.csv to clean_text.csv\n"
          ],
          "name": "stdout"
        }
      ]
    },
    {
      "cell_type": "code",
      "metadata": {
        "id": "XbgDdTIqqPt5",
        "outputId": "ac1d416d-e911-4458-f0c2-8f0bd830b319",
        "colab": {
          "base_uri": "https://localhost:8080/",
          "height": 195
        }
      },
      "source": [
        "import pandas as pd\n",
        "df = pd.read_csv(\"clean_text.csv\")\n",
        "df.head()"
      ],
      "execution_count": 7,
      "outputs": [
        {
          "output_type": "execute_result",
          "data": {
            "text/html": [
              "<div>\n",
              "<style scoped>\n",
              "    .dataframe tbody tr th:only-of-type {\n",
              "        vertical-align: middle;\n",
              "    }\n",
              "\n",
              "    .dataframe tbody tr th {\n",
              "        vertical-align: top;\n",
              "    }\n",
              "\n",
              "    .dataframe thead th {\n",
              "        text-align: right;\n",
              "    }\n",
              "</style>\n",
              "<table border=\"1\" class=\"dataframe\">\n",
              "  <thead>\n",
              "    <tr style=\"text-align: right;\">\n",
              "      <th></th>\n",
              "      <th>document_id</th>\n",
              "      <th>clean_text</th>\n",
              "      <th>sentiment</th>\n",
              "    </tr>\n",
              "  </thead>\n",
              "  <tbody>\n",
              "    <tr>\n",
              "      <th>0</th>\n",
              "      <td>1</td>\n",
              "      <td>bitxe2x80x99s september covid_19 cases6967103 ...</td>\n",
              "      <td>neutral</td>\n",
              "    </tr>\n",
              "    <tr>\n",
              "      <th>1</th>\n",
              "      <td>2</td>\n",
              "      <td>bfda stop the political b covidvaccine</td>\n",
              "      <td>negative</td>\n",
              "    </tr>\n",
              "    <tr>\n",
              "      <th>2</th>\n",
              "      <td>3</td>\n",
              "      <td>bchinaxe2x80x99s sinovac analyzing finalstage ...</td>\n",
              "      <td>positve</td>\n",
              "    </tr>\n",
              "    <tr>\n",
              "      <th>3</th>\n",
              "      <td>4</td>\n",
              "      <td>ba covid survival rate covidvaccine 1there isn...</td>\n",
              "      <td>positve</td>\n",
              "    </tr>\n",
              "    <tr>\n",
              "      <th>4</th>\n",
              "      <td>5</td>\n",
              "      <td>bcovidvaccine im cuomo nocovidvaccineuntil2021...</td>\n",
              "      <td>negative</td>\n",
              "    </tr>\n",
              "  </tbody>\n",
              "</table>\n",
              "</div>"
            ],
            "text/plain": [
              "   document_id                                         clean_text sentiment\n",
              "0            1  bitxe2x80x99s september covid_19 cases6967103 ...   neutral\n",
              "1            2             bfda stop the political b covidvaccine  negative\n",
              "2            3  bchinaxe2x80x99s sinovac analyzing finalstage ...   positve\n",
              "3            4  ba covid survival rate covidvaccine 1there isn...   positve\n",
              "4            5  bcovidvaccine im cuomo nocovidvaccineuntil2021...  negative"
            ]
          },
          "metadata": {
            "tags": []
          },
          "execution_count": 7
        }
      ]
    },
    {
      "cell_type": "code",
      "metadata": {
        "id": "6QghqR8lqbmW",
        "outputId": "5e4aa3a5-5eb4-4f4c-e3e0-d746b93944bf",
        "colab": {
          "base_uri": "https://localhost:8080/",
          "height": 35
        }
      },
      "source": [
        "f_sen = df['clean_text'][0]\n",
        "f_sen"
      ],
      "execution_count": 8,
      "outputs": [
        {
          "output_type": "execute_result",
          "data": {
            "application/vnd.google.colaboratory.intrinsic+json": {
              "type": "string"
            },
            "text/plain": [
              "'bitxe2x80x99s september covid_19 cases6967103 deaths202558 would trust president may override fda covidvaccine amp wearadamnmaskalready amp vote'"
            ]
          },
          "metadata": {
            "tags": []
          },
          "execution_count": 8
        }
      ]
    },
    {
      "cell_type": "code",
      "metadata": {
        "id": "vV-mwIA12U1Y",
        "outputId": "1dcc8513-b75a-4eb8-910f-a2c9c0756ce0",
        "colab": {
          "base_uri": "https://localhost:8080/"
        }
      },
      "source": [
        "pip install polyglot"
      ],
      "execution_count": 10,
      "outputs": [
        {
          "output_type": "stream",
          "text": [
            "Collecting polyglot\n",
            "\u001b[?25l  Downloading https://files.pythonhosted.org/packages/e7/98/e24e2489114c5112b083714277204d92d372f5bbe00d5507acf40370edb9/polyglot-16.7.4.tar.gz (126kB)\n",
            "\u001b[K     |████████████████████████████████| 133kB 4.6MB/s \n",
            "\u001b[?25hBuilding wheels for collected packages: polyglot\n",
            "  Building wheel for polyglot (setup.py) ... \u001b[?25l\u001b[?25hdone\n",
            "  Created wheel for polyglot: filename=polyglot-16.7.4-py2.py3-none-any.whl size=52559 sha256=a925b273d2d4a6046fbcd72d51f89482887f34f04c8ca33a21cf940ec81fbaab\n",
            "  Stored in directory: /root/.cache/pip/wheels/5e/91/ef/f1369fdc1203b0a9347d4b24f149b83a305f39ab047986d9da\n",
            "Successfully built polyglot\n",
            "Installing collected packages: polyglot\n",
            "Successfully installed polyglot-16.7.4\n"
          ],
          "name": "stdout"
        }
      ]
    },
    {
      "cell_type": "code",
      "metadata": {
        "id": "LDp8e4Ra2gwM",
        "outputId": "4f6897ec-e4c1-469e-e79e-081b54b28e9b",
        "colab": {
          "base_uri": "https://localhost:8080/"
        }
      },
      "source": [
        "pip install pyicu"
      ],
      "execution_count": 11,
      "outputs": [
        {
          "output_type": "stream",
          "text": [
            "Collecting pyicu\n",
            "\u001b[?25l  Downloading https://files.pythonhosted.org/packages/5a/99/c48c816095208bf3f4936ff67e571621fbddef461303a35a076f234e31f6/PyICU-2.5.tar.gz (225kB)\n",
            "\r\u001b[K     |█▌                              | 10kB 16.8MB/s eta 0:00:01\r\u001b[K     |███                             | 20kB 2.6MB/s eta 0:00:01\r\u001b[K     |████▍                           | 30kB 3.5MB/s eta 0:00:01\r\u001b[K     |█████▉                          | 40kB 3.8MB/s eta 0:00:01\r\u001b[K     |███████▎                        | 51kB 3.1MB/s eta 0:00:01\r\u001b[K     |████████▊                       | 61kB 3.5MB/s eta 0:00:01\r\u001b[K     |██████████▏                     | 71kB 3.7MB/s eta 0:00:01\r\u001b[K     |███████████▋                    | 81kB 4.1MB/s eta 0:00:01\r\u001b[K     |█████████████                   | 92kB 4.3MB/s eta 0:00:01\r\u001b[K     |██████████████▌                 | 102kB 4.2MB/s eta 0:00:01\r\u001b[K     |████████████████                | 112kB 4.2MB/s eta 0:00:01\r\u001b[K     |█████████████████▍              | 122kB 4.2MB/s eta 0:00:01\r\u001b[K     |██████████████████▉             | 133kB 4.2MB/s eta 0:00:01\r\u001b[K     |████████████████████▍           | 143kB 4.2MB/s eta 0:00:01\r\u001b[K     |█████████████████████▉          | 153kB 4.2MB/s eta 0:00:01\r\u001b[K     |███████████████████████▎        | 163kB 4.2MB/s eta 0:00:01\r\u001b[K     |████████████████████████▊       | 174kB 4.2MB/s eta 0:00:01\r\u001b[K     |██████████████████████████▏     | 184kB 4.2MB/s eta 0:00:01\r\u001b[K     |███████████████████████████▋    | 194kB 4.2MB/s eta 0:00:01\r\u001b[K     |█████████████████████████████   | 204kB 4.2MB/s eta 0:00:01\r\u001b[K     |██████████████████████████████▌ | 215kB 4.2MB/s eta 0:00:01\r\u001b[K     |████████████████████████████████| 225kB 4.2MB/s eta 0:00:01\r\u001b[K     |████████████████████████████████| 235kB 4.2MB/s \n",
            "\u001b[?25hBuilding wheels for collected packages: pyicu\n",
            "  Building wheel for pyicu (setup.py) ... \u001b[?25l\u001b[?25hdone\n",
            "  Created wheel for pyicu: filename=PyICU-2.5-cp36-cp36m-linux_x86_64.whl size=1252515 sha256=3e95408436a508d61ea9bb980c9c35dffad73b9c713c5ad3ee5964f1e9ff4e02\n",
            "  Stored in directory: /root/.cache/pip/wheels/07/3a/28/09f90c38785945ddf9af61b7add1aa62a740f40e259626ef3a\n",
            "Successfully built pyicu\n",
            "Installing collected packages: pyicu\n",
            "Successfully installed pyicu-2.5\n"
          ],
          "name": "stdout"
        }
      ]
    },
    {
      "cell_type": "code",
      "metadata": {
        "id": "ahlcHukl3c8U",
        "outputId": "c382ae28-377b-4b4b-ed56-4431cc87951c",
        "colab": {
          "base_uri": "https://localhost:8080/"
        }
      },
      "source": [
        "!pip install pycld2"
      ],
      "execution_count": 12,
      "outputs": [
        {
          "output_type": "stream",
          "text": [
            "Collecting pycld2\n",
            "\u001b[?25l  Downloading https://files.pythonhosted.org/packages/21/d2/8b0def84a53c88d0eb27c67b05269fbd16ad68df8c78849e7b5d65e6aec3/pycld2-0.41.tar.gz (41.4MB)\n",
            "\u001b[K     |████████████████████████████████| 41.4MB 112kB/s \n",
            "\u001b[?25hBuilding wheels for collected packages: pycld2\n",
            "  Building wheel for pycld2 (setup.py) ... \u001b[?25l\u001b[?25hdone\n",
            "  Created wheel for pycld2: filename=pycld2-0.41-cp36-cp36m-linux_x86_64.whl size=9833546 sha256=1152d1da56276a60142366d3dfa4fe92632b1bea5372eb78d66890a029983d59\n",
            "  Stored in directory: /root/.cache/pip/wheels/c6/8f/e9/08a1a8932a490175bd140206cd86a3dbcfc70498100de11079\n",
            "Successfully built pycld2\n",
            "Installing collected packages: pycld2\n",
            "Successfully installed pycld2-0.41\n"
          ],
          "name": "stdout"
        }
      ]
    },
    {
      "cell_type": "code",
      "metadata": {
        "id": "wkdaUmak3sfa",
        "outputId": "d3b1d202-6b07-46ef-aaef-87b43a8658b3",
        "colab": {
          "base_uri": "https://localhost:8080/"
        }
      },
      "source": [
        "!pip install morfessor"
      ],
      "execution_count": 13,
      "outputs": [
        {
          "output_type": "stream",
          "text": [
            "Collecting morfessor\n",
            "  Downloading https://files.pythonhosted.org/packages/39/e6/7afea30be2ee4d29ce9de0fa53acbb033163615f849515c0b1956ad074ee/Morfessor-2.0.6-py3-none-any.whl\n",
            "Installing collected packages: morfessor\n",
            "Successfully installed morfessor-2.0.6\n"
          ],
          "name": "stdout"
        }
      ]
    },
    {
      "cell_type": "code",
      "metadata": {
        "id": "OeR7sax-_aON",
        "outputId": "719580cc-ca99-4def-ebbc-41e9fb235de7",
        "colab": {
          "base_uri": "https://localhost:8080/"
        }
      },
      "source": [
        "!polyglot download embeddings2.en"
      ],
      "execution_count": 14,
      "outputs": [
        {
          "output_type": "stream",
          "text": [
            "[polyglot_data] Downloading package embeddings2.en to\n",
            "[polyglot_data]     /root/polyglot_data...\n"
          ],
          "name": "stdout"
        }
      ]
    },
    {
      "cell_type": "code",
      "metadata": {
        "id": "cxDkuTtA2zj3"
      },
      "source": [
        "import polyglot\n",
        "from polyglot.text import Text, Word"
      ],
      "execution_count": 15,
      "outputs": []
    },
    {
      "cell_type": "code",
      "metadata": {
        "id": "YDTqyppE3xUj",
        "outputId": "9f9c75fd-540b-4c00-890c-7a4cd511c65b",
        "colab": {
          "base_uri": "https://localhost:8080/",
          "height": 120
        }
      },
      "source": [
        "all_text = df[\"clean_text\"].to_string()\n",
        "all_text"
      ],
      "execution_count": 16,
      "outputs": [
        {
          "output_type": "execute_result",
          "data": {
            "application/vnd.google.colaboratory.intrinsic+json": {
              "type": "string"
            },
            "text/plain": [
              "'0     bitxe2x80x99s september covid_19 cases6967103 ...\\n1                bfda stop the political b covidvaccine\\n2     bchinaxe2x80x99s sinovac analyzing finalstage ...\\n3     ba covid survival rate covidvaccine 1there isn...\\n4     bcovidvaccine im cuomo nocovidvaccineuntil2021...\\n5     bwill see realdonaldtrump family getting vacci...\\n6     bmarkc53916729 alt seems far behindlack necess...\\n7     ba group volunteer willing infected sarscov2 v...\\n8     bmsignorile i wish reporter would ask trumpyif...\\n9     bnvax uk covidvaccine phase study enroll 10k s...\\n10    bso take medical advice guy happens money inve...\\n11    bsirpatrickvallance xc2xa3600k shareholding gs...\\n12    bthis image perfectly summed current handling ...\\n13    bi take covid19 guidance ashishkjha kavitapmd ...\\n14    boperation warp speed plan released covid vacc...\\n15    bsays held million moderna share sold may that...\\n16    btoday ixe2x80x99ve signed nhscovid19app amp c...\\n17    bi sceptical come human infection trial it sli...\\n18    bwhich company covid19 vaccine think enter eur...\\n19    btrying get straightbill gate promoting vaccin...\\n20    bxe2x80x9cunfortunately longer trust federal g...\\n21    bso seems like might stuck wearing mask social...\\n22    bstephen guilfoyle talk johnson amp johnson cu...\\n23    bcoronavirus case london rise world equity mar...\\n24    bhearing terrific news coming israel covidvacc...\\n25    bye and please follow dr kizzmekia corbett don...\\n26    bthe u govt engaged amp still engages forced s...\\n27    bwhere winning strategy am i missing something...\\n28    bevolving disease require innovation defeat ev...\\n29    bpeople theyre already pushing minority first ...\\n30    bmdlsbioinnovation novavax awarded 16b operati...\\n31    bhow many xe2x80x9cmaskup lockdownxe2x80x9d po...\\n32    bvia xe2x81xa6nytimesxe2x81xa9 xe2x81xa6nygovc...\\n33    bpar course trump pedaling utter bullshit the ...\\n34    bogen covid vaccine utilizing stabilized s pro...\\n35    bthis one favorite vaccinerelated stock start ...\\n36    bif youre taking part clinical trial coronavir...\\n37    brealdonaldtrump more trump lie about covidvac...\\n38    bmoderna executive caught selling million in s...\\n39    bmoderna executive caught selling million in s...\\n40    bjust uk def take covidvaccine guardian benqui...\\n41    bdoritmi kirkuhler probably ireland irish anti...\\n42    b99freemind jason optimistic trump administrat...\\n43    bmaddow nicolledwallace 11thhour covidvaccine ...\\n44    bcovidvaccine no ixe2x80x99ll wait thank https...\\n45    ban nih update covidvaccine drs francis collin...\\n46    byesterday day trump trample constitution getr...\\n47    btafrishaala prime time crpf jammuandkashmir c...\\n48    btoday 1210pm et nih covidvaccine update https...\\n49    bread ticker bottom that highly unconstitution...\\n50    bnew breed billionaire mushrooming china manuf...\\n51    bi donxe2x80x99t know vaccine coming going ple...\\n52    bhmm trust vaccine this always happened do not...\\n53    bdanwootton talkradio lot chatter twiitter uks...\\n54    bhe say show covidvaccine work need someone pl...\\n55    bgaithersburgbased novavax making progress cov...\\n56    bhe say show covidvaccine work need someone pl...\\n57    bgaithersburgbased novavax making progress cov...\\n58    bare looking logo design brand you right place...\\n59    bminority volunteer yahuah coming yall destroy...\\n60    bnaov float spi sunw 8m covidvaccine stock bio...\\n61    bnothing see of course isnt conflict interest ...\\n62    bpittsburgh doctor discus safety measure in co...\\n63    ba kidsxe2x80x99 vaccine isnxe2x80x99t coming ...\\n64    bwe cannot trust trump admin honest u herexe2x...\\n65    bi dont get cant return normal population dont...\\n66    bhttweets why guy tedrosadhanom working china ...\\n67    bwell well well isnt horseman apocalypse valla...\\n68    bsir patrick vallance xc2xa3600000 share vacci...\\n69    bfor year us_fda way test approve new medicati...\\n70    bread even socalled scientist raking money ixe...\\n71    bvia timesofindia first ending would successfu...\\n72    bwho unveils global plan fairly distribute cov...\\n73        b910 pt today covidvaccine httpstco2sk0yadb6s\\n74    bhow know covid19 vaccine safe effective https...\\n75    bthanks talkroberto uazadnews interesting disc...\\n76    bonly hope make coronavirus vaccine coronaviru...\\n77    bbreonna taylor protest covid vaccine amp cdc ...\\n78    bhockeyskates3 homeoffree61 or never covidvaccine\\n79    bwe one choice end nightmare imposed u coronav...\\n80    bkeir_starmer confident vallance absolutely po...\\n81    bi take covidvaccine to honest im taking fluva...\\n82    bus get million prepare covidvaccine distribut...\\n83    bquestion covidvaccine amp testing kid aspphys...\\n84    bhow close coronavirus vaccine free read https...\\n85    bxf0x9fx9axa8newsflashxf0x9fx9axa8 cdcgov xe2x...\\n86    bblack doctorsxe2x80x99 group form task force ...\\n87    bthe meat industry seems exempt covid19 regula...\\n88    bquestion medtwitter anyone know covidvaccine ...\\n89    blandmark moment country agree covid vaccine a...\\n90    bif torygraph go must mileage one httpstcoa6va...\\n91    bvaxart taking covid19 oral vaccine clinic htt...\\n92    bthink i found alandershs newest repugnant cri...\\n93    bprime minister hun sen asked russian governme...\\n94    bsecond wave anyone secondwave covidvaccine re...\\n95    bjohnson amp johnson announces single shot pha...\\n96    bhttpstcobe5dwsszmn when poacher turn gamekeep...\\n97    bzlj517 a year old civilization thought proces...\\n98    bjnj covidvaccine whats value 1shot covidvacci...\\n99    bjohnson amp johnsonxe2x80x99s singleshot covi...'"
            ]
          },
          "metadata": {
            "tags": []
          },
          "execution_count": 16
        }
      ]
    },
    {
      "cell_type": "code",
      "metadata": {
        "id": "TSpxa0LW9i9h",
        "outputId": "da9d0341-ee60-4e38-def6-b3226b297096",
        "colab": {
          "base_uri": "https://localhost:8080/"
        }
      },
      "source": [
        "blobbed_text = Text(all_text)\n",
        "print(blobbed_text.words)"
      ],
      "execution_count": 17,
      "outputs": [
        {
          "output_type": "stream",
          "text": [
            "['0', 'bitxe2x80x99s', 'september', 'covid_19', 'cases6967103', '.', '.', '.', '1', 'bfda', 'stop', 'the', 'political', 'b', 'covidvaccine', '2', 'bchinaxe2x80x99s', 'sinovac', 'analyzing', 'finalstage', '.', '.', '.', '3', 'ba', 'covid', 'survival', 'rate', 'covidvaccine', '1there', 'isn', '.', '.', '.', '4', 'bcovidvaccine', 'im', 'cuomo', 'nocovidvaccineuntil2021', '.', '.', '.', '5', 'bwill', 'see', 'realdonaldtrump', 'family', 'getting', 'vacci', '.', '.', '.', '6', 'bmarkc53916729', 'alt', 'seems', 'far', 'behindlack', 'necess', '.', '.', '.', '7', 'ba', 'group', 'volunteer', 'willing', 'infected', 'sarscov2', 'v', '.', '.', '.', '8', 'bmsignorile', 'i', 'wish', 'reporter', 'would', 'ask', 'trumpyif', '.', '.', '.', '9', 'bnvax', 'uk', 'covidvaccine', 'phase', 'study', 'enroll', '10k', 's', '.', '.', '.', '10', 'bso', 'take', 'medical', 'advice', 'guy', 'happens', 'money', 'inve', '.', '.', '.', '11', 'bsirpatrickvallance', 'xc2xa3600k', 'shareholding', 'gs', '.', '.', '.', '12', 'bthis', 'image', 'perfectly', 'summed', 'current', 'handling', '.', '.', '.', '13', 'bi', 'take', 'covid19', 'guidance', 'ashishkjha', 'kavitapmd', '.', '.', '.', '14', 'boperation', 'warp', 'speed', 'plan', 'released', 'covid', 'vacc', '.', '.', '.', '15', 'bsays', 'held', 'million', 'moderna', 'share', 'sold', 'may', 'that', '.', '.', '.', '16', 'btoday', 'ixe2x80x99ve', 'signed', 'nhscovid19app', 'amp', 'c', '.', '.', '.', '17', 'bi', 'sceptical', 'come', 'human', 'infection', 'trial', 'it', 'sli', '.', '.', '.', '18', 'bwhich', 'company', 'covid19', 'vaccine', 'think', 'enter', 'eur', '.', '.', '.', '19', 'btrying', 'get', 'straightbill', 'gate', 'promoting', 'vaccin', '.', '.', '.', '20', 'bxe2x80x9cunfortunately', 'longer', 'trust', 'federal', 'g', '.', '.', '.', '21', 'bso', 'seems', 'like', 'might', 'stuck', 'wearing', 'mask', 'social', '.', '.', '.', '22', 'bstephen', 'guilfoyle', 'talk', 'johnson', 'amp', 'johnson', 'cu', '.', '.', '.', '23', 'bcoronavirus', 'case', 'london', 'rise', 'world', 'equity', 'mar', '.', '.', '.', '24', 'bhearing', 'terrific', 'news', 'coming', 'israel', 'covidvacc', '.', '.', '.', '25', 'bye', 'and', 'please', 'follow', 'dr', 'kizzmekia', 'corbett', 'don', '.', '.', '.', '26', 'bthe', 'u', 'govt', 'engaged', 'amp', 'still', 'engages', 'forced', 's', '.', '.', '.', '27', 'bwhere', 'winning', 'strategy', 'am', 'i', 'missing', 'something', '.', '.', '.', '28', 'bevolving', 'disease', 'require', 'innovation', 'defeat', 'ev', '.', '.', '.', '29', 'bpeople', 'theyre', 'already', 'pushing', 'minority', 'first', '.', '.', '.', '30', 'bmdlsbioinnovation', 'novavax', 'awarded', '16b', 'operati', '.', '.', '.', '31', 'bhow', 'many', 'xe2x80x9cmaskup', 'lockdownxe2x80x9d', 'po', '.', '.', '.', '32', 'bvia', 'xe2x81xa6nytimesxe2x81xa9', 'xe2x81xa6nygovc', '.', '.', '.', '33', 'bpar', 'course', 'trump', 'pedaling', 'utter', 'bullshit', 'the', '.', '.', '.', '34', 'bogen', 'covid', 'vaccine', 'utilizing', 'stabilized', 's', 'pro', '.', '.', '.', '35', 'bthis', 'one', 'favorite', 'vaccinerelated', 'stock', 'start', '.', '.', '.', '36', 'bif', 'youre', 'taking', 'part', 'clinical', 'trial', 'coronavir', '.', '.', '.', '37', 'brealdonaldtrump', 'more', 'trump', 'lie', 'about', 'covidvac', '.', '.', '.', '38', 'bmoderna', 'executive', 'caught', 'selling', 'million', 'in', 's', '.', '.', '.', '39', 'bmoderna', 'executive', 'caught', 'selling', 'million', 'in', 's', '.', '.', '.', '40', 'bjust', 'uk', 'def', 'take', 'covidvaccine', 'guardian', 'benqui', '.', '.', '.', '41', 'bdoritmi', 'kirkuhler', 'probably', 'ireland', 'irish', 'anti', '.', '.', '.', '42', 'b99freemind', 'jason', 'optimistic', 'trump', 'administrat', '.', '.', '.', '43', 'bmaddow', 'nicolledwallace', '11thhour', 'covidvaccine', '.', '.', '.', '44', 'bcovidvaccine', 'no', 'ixe2x80x99ll', 'wait', 'thank', 'https', '.', '.', '.', '45', 'ban', 'nih', 'update', 'covidvaccine', 'drs', 'francis', 'collin', '.', '.', '.', '46', 'byesterday', 'day', 'trump', 'trample', 'constitution', 'getr', '.', '.', '.', '47', 'btafrishaala', 'prime', 'time', 'crpf', 'jammuandkashmir', 'c', '.', '.', '.', '48', 'btoday', '1210pm', 'et', 'nih', 'covidvaccine', 'update', 'https', '.', '.', '.', '49', 'bread', 'ticker', 'bottom', 'that', 'highly', 'unconstitution', '.', '.', '.', '50', 'bnew', 'breed', 'billionaire', 'mushrooming', 'china', 'manuf', '.', '.', '.', '51', 'bi', 'donxe2x80x99t', 'know', 'vaccine', 'coming', 'going', 'ple', '.', '.', '.', '52', 'bhmm', 'trust', 'vaccine', 'this', 'always', 'happened', 'do', 'not', '.', '.', '.', '53', 'bdanwootton', 'talkradio', 'lot', 'chatter', 'twiitter', 'uks', '.', '.', '.', '54', 'bhe', 'say', 'show', 'covidvaccine', 'work', 'need', 'someone', 'pl', '.', '.', '.', '55', 'bgaithersburgbased', 'novavax', 'making', 'progress', 'cov', '.', '.', '.', '56', 'bhe', 'say', 'show', 'covidvaccine', 'work', 'need', 'someone', 'pl', '.', '.', '.', '57', 'bgaithersburgbased', 'novavax', 'making', 'progress', 'cov', '.', '.', '.', '58', 'bare', 'looking', 'logo', 'design', 'brand', 'you', 'right', 'place', '.', '.', '.', '59', 'bminority', 'volunteer', 'yahuah', 'coming', 'yall', 'destroy', '.', '.', '.', '60', 'bnaov', 'float', 'spi', 'sunw', '8m', 'covidvaccine', 'stock', 'bio', '.', '.', '.', '61', 'bnothing', 'see', 'of', 'course', 'isnt', 'conflict', 'interest', '.', '.', '.', '62', 'bpittsburgh', 'doctor', 'discus', 'safety', 'measure', 'in', 'co', '.', '.', '.', '63', 'ba', 'kidsxe2x80x99', 'vaccine', 'isnxe2x80x99t', 'coming', '.', '.', '.', '64', 'bwe', 'cannot', 'trust', 'trump', 'admin', 'honest', 'u', 'herexe2x', '.', '.', '.', '65', 'bi', 'dont', 'get', 'cant', 'return', 'normal', 'population', 'dont', '.', '.', '.', '66', 'bhttweets', 'why', 'guy', 'tedrosadhanom', 'working', 'china', '.', '.', '.', '67', 'bwell', 'well', 'well', 'isnt', 'horseman', 'apocalypse', 'valla', '.', '.', '.', '68', 'bsir', 'patrick', 'vallance', 'xc2xa3600000', 'share', 'vacci', '.', '.', '.', '69', 'bfor', 'year', 'us_fda', 'way', 'test', 'approve', 'new', 'medicati', '.', '.', '.', '70', 'bread', 'even', 'socalled', 'scientist', 'raking', 'money', 'ixe', '.', '.', '.', '71', 'bvia', 'timesofindia', 'first', 'ending', 'would', 'successfu', '.', '.', '.', '72', 'bwho', 'unveils', 'global', 'plan', 'fairly', 'distribute', 'cov', '.', '.', '.', '73', 'b910', 'pt', 'today', 'covidvaccine', 'httpstco2sk0yadb6s', '74', 'bhow', 'know', 'covid19', 'vaccine', 'safe', 'effective', 'https', '.', '.', '.', '75', 'bthanks', 'talkroberto', 'uazadnews', 'interesting', 'disc', '.', '.', '.', '76', 'bonly', 'hope', 'make', 'coronavirus', 'vaccine', 'coronaviru', '.', '.', '.', '77', 'bbreonna', 'taylor', 'protest', 'covid', 'vaccine', 'amp', 'cdc', '.', '.', '.', '78', 'bhockeyskates3', 'homeoffree61', 'or', 'never', 'covidvaccine', '79', 'bwe', 'one', 'choice', 'end', 'nightmare', 'imposed', 'u', 'coronav', '.', '.', '.', '80', 'bkeir_starmer', 'confident', 'vallance', 'absolutely', 'po', '.', '.', '.', '81', 'bi', 'take', 'covidvaccine', 'to', 'honest', 'im', 'taking', 'fluva', '.', '.', '.', '82', 'bus', 'get', 'million', 'prepare', 'covidvaccine', 'distribut', '.', '.', '.', '83', 'bquestion', 'covidvaccine', 'amp', 'testing', 'kid', 'aspphys', '.', '.', '.', '84', 'bhow', 'close', 'coronavirus', 'vaccine', 'free', 'read', 'https', '.', '.', '.', '85', 'bxf0x9fx9axa8newsflashxf0x9fx9axa8', 'cdcgov', 'xe2x', '.', '.', '.', '86', 'bblack', 'doctorsxe2x80x99', 'group', 'form', 'task', 'force', '.', '.', '.', '87', 'bthe', 'meat', 'industry', 'seems', 'exempt', 'covid19', 'regula', '.', '.', '.', '88', 'bquestion', 'medtwitter', 'anyone', 'know', 'covidvaccine', '.', '.', '.', '89', 'blandmark', 'moment', 'country', 'agree', 'covid', 'vaccine', 'a', '.', '.', '.', '90', 'bif', 'torygraph', 'go', 'must', 'mileage', 'one', 'httpstcoa6va', '.', '.', '.', '91', 'bvaxart', 'taking', 'covid19', 'oral', 'vaccine', 'clinic', 'htt', '.', '.', '.', '92', 'bthink', 'i', 'found', 'alandershs', 'newest', 'repugnant', 'cri', '.', '.', '.', '93', 'bprime', 'minister', 'hun', 'sen', 'asked', 'russian', 'governme', '.', '.', '.', '94', 'bsecond', 'wave', 'anyone', 'secondwave', 'covidvaccine', 're', '.', '.', '.', '95', 'bjohnson', 'amp', 'johnson', 'announces', 'single', 'shot', 'pha', '.', '.', '.', '96', 'bhttpstcobe5dwsszmn', 'when', 'poacher', 'turn', 'gamekeep', '.', '.', '.', '97', 'bzlj517', 'a', 'year', 'old', 'civilization', 'thought', 'proces', '.', '.', '.', '98', 'bjnj', 'covidvaccine', 'whats', 'value', '1shot', 'covidvacci', '.', '.', '.', '99', 'bjohnson', 'amp', 'johnsonxe2x80x99s', 'singleshot', 'covi', '.', '.', '.']\n"
          ],
          "name": "stdout"
        }
      ]
    },
    {
      "cell_type": "code",
      "metadata": {
        "id": "tYfiVQyH-PDr",
        "outputId": "9ce462dd-11eb-479e-ef19-73f60376ab62",
        "colab": {
          "base_uri": "https://localhost:8080/"
        }
      },
      "source": [
        "print(blobbed_text.sentences)"
      ],
      "execution_count": 18,
      "outputs": [
        {
          "output_type": "stream",
          "text": [
            "[Sentence(\"0     bitxe2x80x99s september covid_19 cases6967103 ...\"), Sentence(\"1                bfda stop the political b covidvaccine\"), Sentence(\"2     bchinaxe2x80x99s sinovac analyzing finalstage ...\"), Sentence(\"3     ba covid survival rate covidvaccine 1there isn...\"), Sentence(\"4     bcovidvaccine im cuomo nocovidvaccineuntil2021...\"), Sentence(\"5     bwill see realdonaldtrump family getting vacci...\"), Sentence(\"6     bmarkc53916729 alt seems far behindlack necess...\"), Sentence(\"7     ba group volunteer willing infected sarscov2 v...\"), Sentence(\"8     bmsignorile i wish reporter would ask trumpyif...\"), Sentence(\"9     bnvax uk covidvaccine phase study enroll 10k s...\"), Sentence(\"10    bso take medical advice guy happens money inve...\"), Sentence(\"11    bsirpatrickvallance xc2xa3600k shareholding gs...\"), Sentence(\"12    bthis image perfectly summed current handling ...\"), Sentence(\"13    bi take covid19 guidance ashishkjha kavitapmd ...\"), Sentence(\"14    boperation warp speed plan released covid vacc...\"), Sentence(\"15    bsays held million moderna share sold may that...\"), Sentence(\"16    btoday ixe2x80x99ve signed nhscovid19app amp c...\"), Sentence(\"17    bi sceptical come human infection trial it sli...\"), Sentence(\"18    bwhich company covid19 vaccine think enter eur...\"), Sentence(\"19    btrying get straightbill gate promoting vaccin...\"), Sentence(\"20    bxe2x80x9cunfortunately longer trust federal g...\"), Sentence(\"21    bso seems like might stuck wearing mask social...\"), Sentence(\"22    bstephen guilfoyle talk johnson amp johnson cu...\"), Sentence(\"23    bcoronavirus case london rise world equity mar...\"), Sentence(\"24    bhearing terrific news coming israel covidvacc...\"), Sentence(\"25    bye and please follow dr kizzmekia corbett don...\"), Sentence(\"26    bthe u govt engaged amp still engages forced s...\"), Sentence(\"27    bwhere winning strategy am i missing something...\"), Sentence(\"28    bevolving disease require innovation defeat ev...\"), Sentence(\"29    bpeople theyre already pushing minority first ...\"), Sentence(\"30    bmdlsbioinnovation novavax awarded 16b operati...\"), Sentence(\"31    bhow many xe2x80x9cmaskup lockdownxe2x80x9d po...\"), Sentence(\"32    bvia xe2x81xa6nytimesxe2x81xa9 xe2x81xa6nygovc...\"), Sentence(\"33    bpar course trump pedaling utter bullshit the ...\"), Sentence(\"34    bogen covid vaccine utilizing stabilized s pro...\"), Sentence(\"35    bthis one favorite vaccinerelated stock start ...\"), Sentence(\"36    bif youre taking part clinical trial coronavir...\"), Sentence(\"37    brealdonaldtrump more trump lie about covidvac...\"), Sentence(\"38    bmoderna executive caught selling million in s...\"), Sentence(\"39    bmoderna executive caught selling million in s...\"), Sentence(\"40    bjust uk def take covidvaccine guardian benqui...\"), Sentence(\"41    bdoritmi kirkuhler probably ireland irish anti...\"), Sentence(\"42    b99freemind jason optimistic trump administrat...\"), Sentence(\"43    bmaddow nicolledwallace 11thhour covidvaccine ...\"), Sentence(\"44    bcovidvaccine no ixe2x80x99ll wait thank https...\"), Sentence(\"45    ban nih update covidvaccine drs francis collin...\"), Sentence(\"46    byesterday day trump trample constitution getr...\"), Sentence(\"47    btafrishaala prime time crpf jammuandkashmir c...\"), Sentence(\"48    btoday 1210pm et nih covidvaccine update https...\"), Sentence(\"49    bread ticker bottom that highly unconstitution...\"), Sentence(\"50    bnew breed billionaire mushrooming china manuf...\"), Sentence(\"51    bi donxe2x80x99t know vaccine coming going ple...\"), Sentence(\"52    bhmm trust vaccine this always happened do not...\"), Sentence(\"53    bdanwootton talkradio lot chatter twiitter uks...\"), Sentence(\"54    bhe say show covidvaccine work need someone pl...\"), Sentence(\"55    bgaithersburgbased novavax making progress cov...\"), Sentence(\"56    bhe say show covidvaccine work need someone pl...\"), Sentence(\"57    bgaithersburgbased novavax making progress cov...\"), Sentence(\"58    bare looking logo design brand you right place...\"), Sentence(\"59    bminority volunteer yahuah coming yall destroy...\"), Sentence(\"60    bnaov float spi sunw 8m covidvaccine stock bio...\"), Sentence(\"61    bnothing see of course isnt conflict interest ...\"), Sentence(\"62    bpittsburgh doctor discus safety measure in co...\"), Sentence(\"63    ba kidsxe2x80x99 vaccine isnxe2x80x99t coming ...\"), Sentence(\"64    bwe cannot trust trump admin honest u herexe2x...\"), Sentence(\"65    bi dont get cant return normal population dont...\"), Sentence(\"66    bhttweets why guy tedrosadhanom working china ...\"), Sentence(\"67    bwell well well isnt horseman apocalypse valla...\"), Sentence(\"68    bsir patrick vallance xc2xa3600000 share vacci...\"), Sentence(\"69    bfor year us_fda way test approve new medicati...\"), Sentence(\"70    bread even socalled scientist raking money ixe...\"), Sentence(\"71    bvia timesofindia first ending would successfu...\"), Sentence(\"72    bwho unveils global plan fairly distribute cov...\"), Sentence(\"73        b910 pt today covidvaccine httpstco2sk0yadb6s\"), Sentence(\"74    bhow know covid19 vaccine safe effective https...\"), Sentence(\"75    bthanks talkroberto uazadnews interesting disc...\"), Sentence(\"76    bonly hope make coronavirus vaccine coronaviru...\"), Sentence(\"77    bbreonna taylor protest covid vaccine amp cdc ...\"), Sentence(\"78    bhockeyskates3 homeoffree61 or never covidvaccine\"), Sentence(\"79    bwe one choice end nightmare imposed u coronav...\"), Sentence(\"80    bkeir_starmer confident vallance absolutely po...\"), Sentence(\"81    bi take covidvaccine to honest im taking fluva...\"), Sentence(\"82    bus get million prepare covidvaccine distribut...\"), Sentence(\"83    bquestion covidvaccine amp testing kid aspphys...\"), Sentence(\"84    bhow close coronavirus vaccine free read https...\"), Sentence(\"85    bxf0x9fx9axa8newsflashxf0x9fx9axa8 cdcgov xe2x...\"), Sentence(\"86    bblack doctorsxe2x80x99 group form task force ...\"), Sentence(\"87    bthe meat industry seems exempt covid19 regula...\"), Sentence(\"88    bquestion medtwitter anyone know covidvaccine ...\"), Sentence(\"89    blandmark moment country agree covid vaccine a...\"), Sentence(\"90    bif torygraph go must mileage one httpstcoa6va...\"), Sentence(\"91    bvaxart taking covid19 oral vaccine clinic htt...\"), Sentence(\"92    bthink i found alandershs newest repugnant cri...\"), Sentence(\"93    bprime minister hun sen asked russian governme...\"), Sentence(\"94    bsecond wave anyone secondwave covidvaccine re...\"), Sentence(\"95    bjohnson amp johnson announces single shot pha...\"), Sentence(\"96    bhttpstcobe5dwsszmn when poacher turn gamekeep...\"), Sentence(\"97    bzlj517 a year old civilization thought proces...\"), Sentence(\"98    bjnj covidvaccine whats value 1shot covidvacci...\"), Sentence(\"99    bjohnson amp johnsonxe2x80x99s singleshot covi...\")]\n"
          ],
          "name": "stdout"
        }
      ]
    },
    {
      "cell_type": "code",
      "metadata": {
        "id": "cFSFtoWN_tZJ",
        "outputId": "d31f9432-d1e3-4e45-ebef-000b43dadc5c",
        "colab": {
          "base_uri": "https://localhost:8080/"
        }
      },
      "source": [
        "!polyglot download pos2.en"
      ],
      "execution_count": 19,
      "outputs": [
        {
          "output_type": "stream",
          "text": [
            "[polyglot_data] Downloading package pos2.en to /root/polyglot_data...\n"
          ],
          "name": "stdout"
        }
      ]
    },
    {
      "cell_type": "code",
      "metadata": {
        "id": "CnbR6-Ti-l5p",
        "outputId": "d09716db-33cf-4e17-c250-c195ab31fd36",
        "colab": {
          "base_uri": "https://localhost:8080/"
        }
      },
      "source": [
        "print(\"{:<16}{}\".format(\"Word\", \"POS Tag\")+\"\\n\"+\"-\"*30)\n",
        "for word, tag in blobbed_text.pos_tags:\n",
        "   print(u\"{:<16}{:>2}\".format(word, tag))"
      ],
      "execution_count": 20,
      "outputs": [
        {
          "output_type": "stream",
          "text": [
            "Word            POS Tag\n",
            "------------------------------\n",
            "0               NUM\n",
            "bitxe2x80x99s   NUM\n",
            "september       PROPN\n",
            "covid_19        NUM\n",
            "cases6967103    NUM\n",
            ".               PUNCT\n",
            ".               PUNCT\n",
            ".               PUNCT\n",
            "1               NUM\n",
            "bfda            NUM\n",
            "stop            VERB\n",
            "the             DET\n",
            "political       ADJ\n",
            "b               NOUN\n",
            "covidvaccine    PROPN\n",
            "2               NUM\n",
            "bchinaxe2x80x99sNUM\n",
            "sinovac         NUM\n",
            "analyzing       VERB\n",
            "finalstage      NOUN\n",
            ".               PUNCT\n",
            ".               PUNCT\n",
            ".               PUNCT\n",
            "3               NUM\n",
            "ba              NOUN\n",
            "covid           NUM\n",
            "survival        NOUN\n",
            "rate            NOUN\n",
            "covidvaccine    PUNCT\n",
            "1there          NUM\n",
            "isn             NUM\n",
            ".               PUNCT\n",
            ".               PUNCT\n",
            ".               PUNCT\n",
            "4               NUM\n",
            "bcovidvaccine   NUM\n",
            "im              PROPN\n",
            "cuomo           PROPN\n",
            "nocovidvaccineuntil2021NUM\n",
            ".               PUNCT\n",
            ".               PUNCT\n",
            ".               PUNCT\n",
            "5               NUM\n",
            "bwill           NUM\n",
            "see             VERB\n",
            "realdonaldtrump NUM\n",
            "family          NOUN\n",
            "getting         ADV\n",
            "vacci           PUNCT\n",
            ".               PUNCT\n",
            ".               PUNCT\n",
            ".               PUNCT\n",
            "6               NUM\n",
            "bmarkc53916729  NUM\n",
            "alt             NOUN\n",
            "seems           VERB\n",
            "far             ADV\n",
            "behindlack      PUNCT\n",
            "necess          NUM\n",
            ".               PUNCT\n",
            ".               PUNCT\n",
            ".               PUNCT\n",
            "7               NUM\n",
            "ba              NOUN\n",
            "group           NOUN\n",
            "volunteer       NOUN\n",
            "willing         ADJ\n",
            "infected        VERB\n",
            "sarscov2        NUM\n",
            "v               SYM\n",
            ".               PUNCT\n",
            ".               PUNCT\n",
            ".               PUNCT\n",
            "8               NUM\n",
            "bmsignorile     NUM\n",
            "i               PRON\n",
            "wish            VERB\n",
            "reporter        NOUN\n",
            "would           AUX\n",
            "ask             VERB\n",
            "trumpyif        PROPN\n",
            ".               PUNCT\n",
            ".               PUNCT\n",
            ".               PUNCT\n",
            "9               NUM\n",
            "bnvax           NUM\n",
            "uk              INTJ\n",
            "covidvaccine    NUM\n",
            "phase           NOUN\n",
            "study           NOUN\n",
            "enroll          VERB\n",
            "10k             PROPN\n",
            "s               NOUN\n",
            ".               PUNCT\n",
            ".               PUNCT\n",
            ".               PUNCT\n",
            "10              NUM\n",
            "bso             NOUN\n",
            "take            VERB\n",
            "medical         ADJ\n",
            "advice          NOUN\n",
            "guy             NOUN\n",
            "happens         VERB\n",
            "money           NOUN\n",
            "inve            PUNCT\n",
            ".               PUNCT\n",
            ".               PUNCT\n",
            ".                X\n",
            "11              NUM\n",
            "bsirpatrickvallanceNUM\n",
            "xc2xa3600k      NUM\n",
            "shareholding    NOUN\n",
            "gs              PROPN\n",
            ".               PUNCT\n",
            ".               PUNCT\n",
            ".                X\n",
            "12              NUM\n",
            "bthis           NUM\n",
            "image           NOUN\n",
            "perfectly       ADV\n",
            "summed          VERB\n",
            "current         ADJ\n",
            "handling        NOUN\n",
            ".               PUNCT\n",
            ".               PUNCT\n",
            ".               PUNCT\n",
            "13              NUM\n",
            "bi              ADV\n",
            "take            VERB\n",
            "covid19         NUM\n",
            "guidance        NOUN\n",
            "ashishkjha      PUNCT\n",
            "kavitapmd       NUM\n",
            ".               PUNCT\n",
            ".               PUNCT\n",
            ".                X\n",
            "14              NUM\n",
            "boperation      NUM\n",
            "warp            NOUN\n",
            "speed           NOUN\n",
            "plan            NOUN\n",
            "released        VERB\n",
            "covid           NUM\n",
            "vacc            NUM\n",
            ".               PUNCT\n",
            ".               PUNCT\n",
            ".                X\n",
            "15              NUM\n",
            "bsays           NUM\n",
            "held            VERB\n",
            "million         NUM\n",
            "moderna         PROPN\n",
            "share           NOUN\n",
            "sold            VERB\n",
            "may             AUX\n",
            "that            DET\n",
            ".               PUNCT\n",
            ".               PUNCT\n",
            ".                X\n",
            "16              NUM\n",
            "btoday          NUM\n",
            "ixe2x80x99ve    NUM\n",
            "signed          VERB\n",
            "nhscovid19app   NUM\n",
            "amp             NOUN\n",
            "c               NOUN\n",
            ".               PUNCT\n",
            ".               PUNCT\n",
            ".               PUNCT\n",
            "17              NUM\n",
            "bi              ADV\n",
            "sceptical       ADJ\n",
            "come            VERB\n",
            "human           ADJ\n",
            "infection       NOUN\n",
            "trial           NOUN\n",
            "it              PRON\n",
            "sli             PROPN\n",
            ".               PUNCT\n",
            ".               PUNCT\n",
            ".                X\n",
            "18              NUM\n",
            "bwhich          NUM\n",
            "company         NOUN\n",
            "covid19         PUNCT\n",
            "vaccine         NOUN\n",
            "think           VERB\n",
            "enter           VERB\n",
            "eur             NOUN\n",
            ".               PUNCT\n",
            ".               PUNCT\n",
            ".                X\n",
            "19              NUM\n",
            "btrying         NUM\n",
            "get             VERB\n",
            "straightbill    NUM\n",
            "gate            NOUN\n",
            "promoting       VERB\n",
            "vaccin          NUM\n",
            ".               PUNCT\n",
            ".               PUNCT\n",
            ".                X\n",
            "20              NUM\n",
            "bxe2x80x9cunfortunatelyNUM\n",
            "longer          ADJ\n",
            "trust           VERB\n",
            "federal         ADJ\n",
            "g               NOUN\n",
            ".               PUNCT\n",
            ".               PUNCT\n",
            ".               PUNCT\n",
            "21              NUM\n",
            "bso             PROPN\n",
            "seems           VERB\n",
            "like            ADP\n",
            "might           AUX\n",
            "stuck           VERB\n",
            "wearing         VERB\n",
            "mask            NOUN\n",
            "social          NOUN\n",
            ".               PUNCT\n",
            ".               PUNCT\n",
            ".                X\n",
            "22              NUM\n",
            "bstephen        NUM\n",
            "guilfoyle       NUM\n",
            "talk            VERB\n",
            "johnson         PROPN\n",
            "amp             PROPN\n",
            "johnson         PROPN\n",
            "cu              PROPN\n",
            ".               PUNCT\n",
            ".               PUNCT\n",
            ".                X\n",
            "23              NUM\n",
            "bcoronavirus    NUM\n",
            "case            NOUN\n",
            "london           X\n",
            "rise            NOUN\n",
            "world           ADJ\n",
            "equity          NOUN\n",
            "mar             NOUN\n",
            ".               PUNCT\n",
            ".               PUNCT\n",
            ".                X\n",
            "24              NUM\n",
            "bhearing        NUM\n",
            "terrific        ADJ\n",
            "news            NOUN\n",
            "coming          VERB\n",
            "israel          PROPN\n",
            "covidvacc       PROPN\n",
            ".               PUNCT\n",
            ".               PUNCT\n",
            ".               PUNCT\n",
            "25              NUM\n",
            "bye             NOUN\n",
            "and             CONJ\n",
            "please          INTJ\n",
            "follow          VERB\n",
            "dr              PROPN\n",
            "kizzmekia       NUM\n",
            "corbett         PROPN\n",
            "don             NOUN\n",
            ".               PUNCT\n",
            ".               PUNCT\n",
            ".                X\n",
            "26              NUM\n",
            "bthe            NUM\n",
            "u               PRON\n",
            "govt            PROPN\n",
            "engaged         VERB\n",
            "amp             NOUN\n",
            "still           ADV\n",
            "engages         VERB\n",
            "forced          VERB\n",
            "s               PART\n",
            ".               PUNCT\n",
            ".               PUNCT\n",
            ".                X\n",
            "27              NUM\n",
            "bwhere          NUM\n",
            "winning         NOUN\n",
            "strategy        NOUN\n",
            "am              VERB\n",
            "i               PRON\n",
            "missing         VERB\n",
            "something       NOUN\n",
            ".               PUNCT\n",
            ".               PUNCT\n",
            ".                X\n",
            "28              NUM\n",
            "bevolving       NUM\n",
            "disease         NOUN\n",
            "require         VERB\n",
            "innovation      NOUN\n",
            "defeat          NOUN\n",
            "ev              PROPN\n",
            ".               PUNCT\n",
            ".               PUNCT\n",
            ".                X\n",
            "29              NUM\n",
            "bpeople         NUM\n",
            "theyre          NUM\n",
            "already         ADV\n",
            "pushing         VERB\n",
            "minority        NOUN\n",
            "first           ADV\n",
            ".               PUNCT\n",
            ".               PUNCT\n",
            ".                X\n",
            "30              NUM\n",
            "bmdlsbioinnovationNUM\n",
            "novavax         NUM\n",
            "awarded         VERB\n",
            "16b             NOUN\n",
            "operati         NUM\n",
            ".               PUNCT\n",
            ".               PUNCT\n",
            ".                X\n",
            "31              NUM\n",
            "bhow            NUM\n",
            "many            ADJ\n",
            "xe2x80x9cmaskup PUNCT\n",
            "lockdownxe2x80x9dNUM\n",
            "po              PROPN\n",
            ".               PUNCT\n",
            ".               PUNCT\n",
            ".                X\n",
            "32              NUM\n",
            "bvia            NUM\n",
            "xe2x81xa6nytimesxe2x81xa9NUM\n",
            "xe2x81xa6nygovc NUM\n",
            ".               PUNCT\n",
            ".               PUNCT\n",
            ".                X\n",
            "33              NUM\n",
            "bpar            NUM\n",
            "course          NOUN\n",
            "trump           VERB\n",
            "pedaling        NUM\n",
            "utter           VERB\n",
            "bullshit        NOUN\n",
            "the             DET\n",
            ".               PUNCT\n",
            ".               PUNCT\n",
            ".                X\n",
            "34              NUM\n",
            "bogen           NUM\n",
            "covid           NUM\n",
            "vaccine         NOUN\n",
            "utilizing       VERB\n",
            "stabilized      VERB\n",
            "s               PART\n",
            "pro             ADJ\n",
            ".               PUNCT\n",
            ".               PUNCT\n",
            ".                X\n",
            "35              NUM\n",
            "bthis           NUM\n",
            "one             NUM\n",
            "favorite        ADJ\n",
            "vaccinerelated  NUM\n",
            "stock           NOUN\n",
            "start           NOUN\n",
            ".               PUNCT\n",
            ".               PUNCT\n",
            ".                X\n",
            "36              NUM\n",
            "bif             NUM\n",
            "youre           NUM\n",
            "taking          VERB\n",
            "part            NOUN\n",
            "clinical        ADJ\n",
            "trial           NOUN\n",
            "coronavir       PUNCT\n",
            ".               PUNCT\n",
            ".               PUNCT\n",
            ".                X\n",
            "37              NUM\n",
            "brealdonaldtrumpNUM\n",
            "more            ADJ\n",
            "trump           ADJ\n",
            "lie             VERB\n",
            "about           ADP\n",
            "covidvac        NUM\n",
            ".               PUNCT\n",
            ".               PUNCT\n",
            ".                X\n",
            "38              NUM\n",
            "bmoderna        NUM\n",
            "executive       NOUN\n",
            "caught          VERB\n",
            "selling         VERB\n",
            "million         NUM\n",
            "in              ADP\n",
            "s               NOUN\n",
            ".               PUNCT\n",
            ".               PUNCT\n",
            ".                X\n",
            "39              NUM\n",
            "bmoderna        NUM\n",
            "executive       NOUN\n",
            "caught          VERB\n",
            "selling         VERB\n",
            "million         NUM\n",
            "in              ADP\n",
            "s               NOUN\n",
            ".               PUNCT\n",
            ".               PUNCT\n",
            ".                X\n",
            "40              NUM\n",
            "bjust           NUM\n",
            "uk              PROPN\n",
            "def             NOUN\n",
            "take            VERB\n",
            "covidvaccine    NUM\n",
            "guardian        NOUN\n",
            "benqui          PROPN\n",
            ".               PUNCT\n",
            ".               PUNCT\n",
            ".                X\n",
            "41              NUM\n",
            "bdoritmi        NUM\n",
            "kirkuhler       NUM\n",
            "probably        ADV\n",
            "ireland          X\n",
            "irish           PROPN\n",
            "anti            PROPN\n",
            ".               PUNCT\n",
            ".               PUNCT\n",
            ".                X\n",
            "42              NUM\n",
            "b99freemind     NUM\n",
            "jason           PROPN\n",
            "optimistic      ADJ\n",
            "trump           NOUN\n",
            "administrat     PUNCT\n",
            ".               PUNCT\n",
            ".               PUNCT\n",
            ".                X\n",
            "43              NUM\n",
            "bmaddow         NUM\n",
            "nicolledwallace NUM\n",
            "11thhour        NUM\n",
            "covidvaccine    NUM\n",
            ".               PUNCT\n",
            ".               PUNCT\n",
            ".                X\n",
            "44              NUM\n",
            "bcovidvaccine   NUM\n",
            "no              DET\n",
            "ixe2x80x99ll    PUNCT\n",
            "wait            VERB\n",
            "thank           VERB\n",
            "https           NOUN\n",
            ".               PUNCT\n",
            ".               PUNCT\n",
            ".               PUNCT\n",
            "45              NUM\n",
            "ban             NOUN\n",
            "nih             PROPN\n",
            "update          VERB\n",
            "covidvaccine    PUNCT\n",
            "drs             PROPN\n",
            "francis         PROPN\n",
            "collin          PROPN\n",
            ".               PUNCT\n",
            ".               PUNCT\n",
            ".                X\n",
            "46              NUM\n",
            "byesterday      NUM\n",
            "day             NOUN\n",
            "trump           ADJ\n",
            "trample         NUM\n",
            "constitution    NOUN\n",
            "getr            PUNCT\n",
            ".               PUNCT\n",
            ".               PUNCT\n",
            ".                X\n",
            "47              NUM\n",
            "btafrishaala    NUM\n",
            "prime           ADJ\n",
            "time            NOUN\n",
            "crpf            PUNCT\n",
            "jammuandkashmir NUM\n",
            "c               NOUN\n",
            ".               PUNCT\n",
            ".               PUNCT\n",
            ".                X\n",
            "48              NUM\n",
            "btoday          NUM\n",
            "1210pm          SYM\n",
            "et               X\n",
            "nih              X\n",
            "covidvaccine    NUM\n",
            "update          NOUN\n",
            "https           NOUN\n",
            ".               PUNCT\n",
            ".               PUNCT\n",
            ".               PUNCT\n",
            "49              NUM\n",
            "bread           NOUN\n",
            "ticker          NOUN\n",
            "bottom          ADV\n",
            "that            DET\n",
            "highly          ADV\n",
            "unconstitution  PUNCT\n",
            ".               PUNCT\n",
            ".               PUNCT\n",
            ".                X\n",
            "50              NUM\n",
            "bnew            NUM\n",
            "breed           NOUN\n",
            "billionaire     NOUN\n",
            "mushrooming     NUM\n",
            "china           PROPN\n",
            "manuf           PUNCT\n",
            ".               PUNCT\n",
            ".               PUNCT\n",
            ".               PUNCT\n",
            "51              NUM\n",
            "bi              ADJ\n",
            "donxe2x80x99t   NUM\n",
            "know            VERB\n",
            "vaccine         NOUN\n",
            "coming          VERB\n",
            "going           VERB\n",
            "ple             NUM\n",
            ".               PUNCT\n",
            ".               PUNCT\n",
            ".                X\n",
            "52              NUM\n",
            "bhmm            NUM\n",
            "trust           NOUN\n",
            "vaccine         NOUN\n",
            "this            DET\n",
            "always          ADV\n",
            "happened        VERB\n",
            "do              AUX\n",
            "not             PART\n",
            ".               PUNCT\n",
            ".               PUNCT\n",
            ".                X\n",
            "53              NUM\n",
            "bdanwootton     NUM\n",
            "talkradio       NUM\n",
            "lot             NOUN\n",
            "chatter         NOUN\n",
            "twiitter        PUNCT\n",
            "uks             NUM\n",
            ".               PUNCT\n",
            ".               PUNCT\n",
            ".                X\n",
            "54              NUM\n",
            "bhe             NUM\n",
            "say             VERB\n",
            "show            NOUN\n",
            "covidvaccine    NUM\n",
            "work            NOUN\n",
            "need            VERB\n",
            "someone         NOUN\n",
            "pl              VERB\n",
            ".               PUNCT\n",
            ".                X\n",
            ".                X\n",
            "55              NUM\n",
            "bgaithersburgbasedNUM\n",
            "novavax         NUM\n",
            "making           X\n",
            "progress        NOUN\n",
            "cov             PUNCT\n",
            ".               PUNCT\n",
            ".               PUNCT\n",
            ".                X\n",
            "56              NUM\n",
            "bhe             NUM\n",
            "say             VERB\n",
            "show            NOUN\n",
            "covidvaccine    NUM\n",
            "work            NOUN\n",
            "need            VERB\n",
            "someone         NOUN\n",
            "pl              VERB\n",
            ".               PUNCT\n",
            ".                X\n",
            ".                X\n",
            "57              NUM\n",
            "bgaithersburgbasedNUM\n",
            "novavax         NUM\n",
            "making           X\n",
            "progress        NOUN\n",
            "cov             PUNCT\n",
            ".               PUNCT\n",
            ".               PUNCT\n",
            ".               PUNCT\n",
            "58              NUM\n",
            "bare            ADJ\n",
            "looking         NOUN\n",
            "logo            NOUN\n",
            "design          NOUN\n",
            "brand           NOUN\n",
            "you             PRON\n",
            "right           ADJ\n",
            "place           NOUN\n",
            ".               PUNCT\n",
            ".               PUNCT\n",
            ".                X\n",
            "59              NUM\n",
            "bminority       NUM\n",
            "volunteer       NOUN\n",
            "yahuah          NUM\n",
            "coming          VERB\n",
            "yall            NUM\n",
            "destroy         VERB\n",
            ".               PUNCT\n",
            ".               PUNCT\n",
            ".                X\n",
            "60              NUM\n",
            "bnaov           NUM\n",
            "float           NOUN\n",
            "spi             NOUN\n",
            "sunw            NUM\n",
            "8m              ADJ\n",
            "covidvaccine    NUM\n",
            "stock           NOUN\n",
            "bio             NOUN\n",
            ".               PUNCT\n",
            ".               PUNCT\n",
            ".                X\n",
            "61              NUM\n",
            "bnothing        NUM\n",
            "see             NOUN\n",
            "of              ADP\n",
            "course          NOUN\n",
            "isnt            VERB\n",
            "conflict        NOUN\n",
            "interest        NOUN\n",
            ".               PUNCT\n",
            ".               PUNCT\n",
            ".                X\n",
            "62              NUM\n",
            "bpittsburgh     NUM\n",
            "doctor          NOUN\n",
            "discus          NOUN\n",
            "safety          NOUN\n",
            "measure         NOUN\n",
            "in              ADP\n",
            "co              NOUN\n",
            ".               PUNCT\n",
            ".               PUNCT\n",
            ".               PUNCT\n",
            "63              NUM\n",
            "ba              NOUN\n",
            "kidsxe2x80x99   NUM\n",
            "vaccine         NOUN\n",
            "isnxe2x80x99t   PUNCT\n",
            "coming          VERB\n",
            ".               PUNCT\n",
            ".               PUNCT\n",
            ".                X\n",
            "64              NUM\n",
            "bwe             NUM\n",
            "cannot          AUX\n",
            "trust           VERB\n",
            "trump           VERB\n",
            "admin           NOUN\n",
            "honest          ADJ\n",
            "u               NOUN\n",
            "herexe2x        PUNCT\n",
            ".               PUNCT\n",
            ".               PUNCT\n",
            ".               PUNCT\n",
            "65              NUM\n",
            "bi              ADV\n",
            "dont            AUX\n",
            "get             VERB\n",
            "cant            INTJ\n",
            "return          VERB\n",
            "normal          ADJ\n",
            "population      NOUN\n",
            "dont            INTJ\n",
            ".               PUNCT\n",
            ".               PUNCT\n",
            ".                X\n",
            "66              NUM\n",
            "bhttweets       NUM\n",
            "why             ADV\n",
            "guy             NOUN\n",
            "tedrosadhanom   PUNCT\n",
            "working         VERB\n",
            "china           NOUN\n",
            ".               PUNCT\n",
            ".               PUNCT\n",
            ".                X\n",
            "67              NUM\n",
            "bwell           NUM\n",
            "well            ADV\n",
            "well            ADV\n",
            "isnt            VERB\n",
            "horseman        NOUN\n",
            "apocalypse      NOUN\n",
            "valla           PUNCT\n",
            ".               PUNCT\n",
            ".               PUNCT\n",
            ".                X\n",
            "68              NUM\n",
            "bsir            NUM\n",
            "patrick         PROPN\n",
            "vallance        PROPN\n",
            "xc2xa3600000    NUM\n",
            "share           VERB\n",
            "vacci           NUM\n",
            ".               PUNCT\n",
            ".               PUNCT\n",
            ".                X\n",
            "69              NUM\n",
            "bfor            NUM\n",
            "year            NOUN\n",
            "us_fda          NUM\n",
            "way             NOUN\n",
            "test            NOUN\n",
            "approve         VERB\n",
            "new             ADJ\n",
            "medicati        PROPN\n",
            ".               PUNCT\n",
            ".               PUNCT\n",
            ".               PUNCT\n",
            "70              NUM\n",
            "bread           NOUN\n",
            "even            ADV\n",
            "socalled        NUM\n",
            "scientist       NOUN\n",
            "raking          VERB\n",
            "money           NOUN\n",
            "ixe             PUNCT\n",
            ".               PUNCT\n",
            ".               PUNCT\n",
            ".                X\n",
            "71              NUM\n",
            "bvia            NUM\n",
            "timesofindia    NUM\n",
            "first           ADJ\n",
            "ending          NOUN\n",
            "would           AUX\n",
            "successfu       PUNCT\n",
            ".               PUNCT\n",
            ".               PUNCT\n",
            ".                X\n",
            "72              NUM\n",
            "bwho            NUM\n",
            "unveils         VERB\n",
            "global          ADJ\n",
            "plan            NOUN\n",
            "fairly          ADV\n",
            "distribute      VERB\n",
            "cov             NUM\n",
            ".               PUNCT\n",
            ".               PUNCT\n",
            ".               PUNCT\n",
            "73              NUM\n",
            "b910            NOUN\n",
            "pt              NOUN\n",
            "today           NOUN\n",
            "covidvaccine    NUM\n",
            "httpstco2sk0yadb6sNUM\n",
            "74              NUM\n",
            "bhow            NUM\n",
            "know            VERB\n",
            "covid19         NUM\n",
            "vaccine         NOUN\n",
            "safe            ADJ\n",
            "effective       ADJ\n",
            "https           NOUN\n",
            ".               PUNCT\n",
            ".               PUNCT\n",
            ".                X\n",
            "75              NUM\n",
            "bthanks         NUM\n",
            "talkroberto     NUM\n",
            "uazadnews       NUM\n",
            "interesting     ADJ\n",
            "disc            NOUN\n",
            ".               PUNCT\n",
            ".               PUNCT\n",
            ".                X\n",
            "76              NUM\n",
            "bonly           NUM\n",
            "hope            NOUN\n",
            "make            VERB\n",
            "coronavirus     NUM\n",
            "vaccine         NOUN\n",
            "coronaviru      PUNCT\n",
            ".               PUNCT\n",
            ".               PUNCT\n",
            ".                X\n",
            "77              NUM\n",
            "bbreonna        NUM\n",
            "taylor          PROPN\n",
            "protest         NOUN\n",
            "covid           NUM\n",
            "vaccine         NOUN\n",
            "amp             NOUN\n",
            "cdc             ADV\n",
            ".               PUNCT\n",
            ".               PUNCT\n",
            ".                X\n",
            "78              NUM\n",
            "bhockeyskates3  NUM\n",
            "homeoffree61    NUM\n",
            "or              CONJ\n",
            "never           ADV\n",
            "covidvaccine    PROPN\n",
            "79              NUM\n",
            "bwe             NUM\n",
            "one             NUM\n",
            "choice          NOUN\n",
            "end             NOUN\n",
            "nightmare       NOUN\n",
            "imposed         VERB\n",
            "u               PROPN\n",
            "coronav         PUNCT\n",
            ".               PUNCT\n",
            ".               PUNCT\n",
            ".                X\n",
            "80              NUM\n",
            "bkeir_starmer   NUM\n",
            "confident       ADJ\n",
            "vallance        NOUN\n",
            "absolutely      ADV\n",
            "po              ADJ\n",
            ".               PUNCT\n",
            ".               PUNCT\n",
            ".               PUNCT\n",
            "81              NUM\n",
            "bi              ADV\n",
            "take            VERB\n",
            "covidvaccine    NUM\n",
            "to              ADP\n",
            "honest          ADJ\n",
            "im              AUX\n",
            "taking          VERB\n",
            "fluva           NUM\n",
            ".               PUNCT\n",
            ".               PUNCT\n",
            ".               PUNCT\n",
            "82              NUM\n",
            "bus             NOUN\n",
            "get             VERB\n",
            "million         NUM\n",
            "prepare         VERB\n",
            "covidvaccine    NUM\n",
            "distribut       NUM\n",
            ".               PUNCT\n",
            ".               PUNCT\n",
            ".                X\n",
            "83              NUM\n",
            "bquestion       NUM\n",
            "covidvaccine    NUM\n",
            "amp             NOUN\n",
            "testing         VERB\n",
            "kid             NOUN\n",
            "aspphys         PUNCT\n",
            ".               PUNCT\n",
            ".               PUNCT\n",
            ".                X\n",
            "84              NUM\n",
            "bhow            NUM\n",
            "close           ADJ\n",
            "coronavirus     NUM\n",
            "vaccine         NOUN\n",
            "free            NOUN\n",
            "read            VERB\n",
            "https           SYM\n",
            ".               PUNCT\n",
            ".               PUNCT\n",
            ".                X\n",
            "85              NUM\n",
            "bxf0x9fx9axa8newsflashxf0x9fx9axa8NUM\n",
            "cdcgov          NUM\n",
            "xe2x            NUM\n",
            ".               PUNCT\n",
            ".               PUNCT\n",
            ".                X\n",
            "86              NUM\n",
            "bblack          NUM\n",
            "doctorsxe2x80x99NUM\n",
            "group           NOUN\n",
            "form            NOUN\n",
            "task            NOUN\n",
            "force           NOUN\n",
            ".               PUNCT\n",
            ".               PUNCT\n",
            ".                X\n",
            "87              NUM\n",
            "bthe            NUM\n",
            "meat            NOUN\n",
            "industry        NOUN\n",
            "seems           AUX\n",
            "exempt          VERB\n",
            "covid19         NUM\n",
            "regula          SYM\n",
            ".               PUNCT\n",
            ".               PUNCT\n",
            ".                X\n",
            "88              NUM\n",
            "bquestion       NUM\n",
            "medtwitter      NUM\n",
            "anyone          NOUN\n",
            "know            VERB\n",
            "covidvaccine    NUM\n",
            ".               PUNCT\n",
            ".               PUNCT\n",
            ".                X\n",
            "89              NUM\n",
            "blandmark       NUM\n",
            "moment          NOUN\n",
            "country         NOUN\n",
            "agree           VERB\n",
            "covid           NUM\n",
            "vaccine         NOUN\n",
            "a               NOUN\n",
            ".               PUNCT\n",
            ".               PUNCT\n",
            ".                X\n",
            "90              NUM\n",
            "bif             NUM\n",
            "torygraph       NUM\n",
            "go              VERB\n",
            "must            AUX\n",
            "mileage         NOUN\n",
            "one             NUM\n",
            "httpstcoa6va    NUM\n",
            ".               PUNCT\n",
            ".               PUNCT\n",
            ".                X\n",
            "91              NUM\n",
            "bvaxart         NUM\n",
            "taking          VERB\n",
            "covid19         NUM\n",
            "oral            ADJ\n",
            "vaccine         NOUN\n",
            "clinic          NOUN\n",
            "htt             PUNCT\n",
            ".               PUNCT\n",
            ".               PUNCT\n",
            ".                X\n",
            "92              NUM\n",
            "bthink          NUM\n",
            "i               PRON\n",
            "found           VERB\n",
            "alandershs      NUM\n",
            "newest          VERB\n",
            "repugnant       VERB\n",
            "cri             PROPN\n",
            ".               PUNCT\n",
            ".               PUNCT\n",
            ".                X\n",
            "93              NUM\n",
            "bprime          NUM\n",
            "minister        NOUN\n",
            "hun             PROPN\n",
            "sen             PROPN\n",
            "asked           VERB\n",
            "russian         ADJ\n",
            "governme        PROPN\n",
            ".               PUNCT\n",
            ".               PUNCT\n",
            ".                X\n",
            "94              NUM\n",
            "bsecond         NUM\n",
            "wave            NOUN\n",
            "anyone          NOUN\n",
            "secondwave      PUNCT\n",
            "covidvaccine    NUM\n",
            "re              PROPN\n",
            ".               PUNCT\n",
            ".                X\n",
            ".                X\n",
            "95              NUM\n",
            "bjohnson        NUM\n",
            "amp             NOUN\n",
            "johnson         PROPN\n",
            "announces       VERB\n",
            "single          ADJ\n",
            "shot            VERB\n",
            "pha             PROPN\n",
            ".               PUNCT\n",
            ".               PUNCT\n",
            ".                X\n",
            "96              NUM\n",
            "bhttpstcobe5dwsszmnNUM\n",
            "when            ADV\n",
            "poacher         NUM\n",
            "turn            NOUN\n",
            "gamekeep        PUNCT\n",
            ".               PUNCT\n",
            ".               PUNCT\n",
            ".                X\n",
            "97              NUM\n",
            "bzlj517         NUM\n",
            "a               DET\n",
            "year            NOUN\n",
            "old             ADJ\n",
            "civilization    NOUN\n",
            "thought         VERB\n",
            "proces          PUNCT\n",
            ".               PUNCT\n",
            ".               PUNCT\n",
            ".                X\n",
            "98              NUM\n",
            "bjnj            NUM\n",
            "covidvaccine    NUM\n",
            "whats           NOUN\n",
            "value           NOUN\n",
            "1shot           PUNCT\n",
            "covidvacci      NUM\n",
            ".               PUNCT\n",
            ".               PUNCT\n",
            ".                X\n",
            "99              NUM\n",
            "bjohnson        NUM\n",
            "amp             NOUN\n",
            "johnsonxe2x80x99sPUNCT\n",
            "singleshot      NUM\n",
            "covi            NUM\n",
            ".               PUNCT\n",
            ".               PUNCT\n",
            ".               PUNCT\n"
          ],
          "name": "stdout"
        }
      ]
    },
    {
      "cell_type": "code",
      "metadata": {
        "id": "AGkY58RS9vYz",
        "outputId": "d7c42f6b-bd2a-4378-c529-18e7427e570f",
        "colab": {
          "base_uri": "https://localhost:8080/"
        }
      },
      "source": [
        "import nltk \n",
        "import collections\n",
        "from collections import Counter\n",
        "waste_tags =  ('NUM','AUX','CONJ','INTJ','NOUN','PRON','DET','PROPN','SCONJ','ADP','PUNCT','SYM','PART','X')\n",
        "sentiment_related_terms = []\n",
        "for (word,tag) in blobbed_text.pos_tags:\n",
        "  if tag not in waste_tags:\n",
        "    sentiment_related_terms.append(word)\n",
        "\n",
        "words_f = collections.Counter(sentiment_related_terms)\n",
        "print(words_f)\n",
        "df = pd.DataFrame.from_dict(words_f, orient='index').reset_index()\n",
        "\n",
        "df.columns=['word','count_of_words']\n",
        "af=df.sort_values('count_of_words')\n",
        "af = df.sort_values(['count_of_words'], ascending=False)\n",
        "\n",
        "print(af.head())\n",
        "\n",
        "print(af.tail())\n",
        "#af.dtypes\n",
        "#df_rank = pd.DataFrame(words_f) \n",
        "\n",
        "\n",
        "#Explanation: This code will make sure only necessary sentiment related terms are extracted and all waste terms are removed based on pos tags.\n",
        "#Also, each word frequency is shown\n",
        "      "
      ],
      "execution_count": 83,
      "outputs": [
        {
          "output_type": "stream",
          "text": [
            "Counter({'bi': 5, 'take': 4, 'coming': 4, 'trump': 4, 'get': 3, 'taking': 3, 'know': 3, 'seems': 2, 'trust': 2, 'first': 2, 'caught': 2, 'selling': 2, 'say': 2, 'need': 2, 'pl': 2, 'isnt': 2, 'honest': 2, 'well': 2, 'stop': 1, 'political': 1, 'analyzing': 1, 'see': 1, 'getting': 1, 'far': 1, 'willing': 1, 'infected': 1, 'wish': 1, 'ask': 1, 'enroll': 1, 'medical': 1, 'happens': 1, 'perfectly': 1, 'summed': 1, 'current': 1, 'released': 1, 'held': 1, 'sold': 1, 'signed': 1, 'sceptical': 1, 'come': 1, 'human': 1, 'think': 1, 'enter': 1, 'promoting': 1, 'longer': 1, 'federal': 1, 'stuck': 1, 'wearing': 1, 'talk': 1, 'world': 1, 'terrific': 1, 'follow': 1, 'engaged': 1, 'still': 1, 'engages': 1, 'forced': 1, 'am': 1, 'missing': 1, 'require': 1, 'already': 1, 'pushing': 1, 'awarded': 1, 'many': 1, 'utter': 1, 'utilizing': 1, 'stabilized': 1, 'pro': 1, 'favorite': 1, 'clinical': 1, 'more': 1, 'lie': 1, 'probably': 1, 'optimistic': 1, 'wait': 1, 'thank': 1, 'update': 1, 'prime': 1, 'bottom': 1, 'highly': 1, 'going': 1, 'always': 1, 'happened': 1, 'bare': 1, 'right': 1, 'destroy': 1, '8m': 1, 'return': 1, 'normal': 1, 'why': 1, 'working': 1, 'share': 1, 'approve': 1, 'new': 1, 'even': 1, 'raking': 1, 'unveils': 1, 'global': 1, 'fairly': 1, 'distribute': 1, 'safe': 1, 'effective': 1, 'interesting': 1, 'make': 1, 'cdc': 1, 'never': 1, 'imposed': 1, 'confident': 1, 'absolutely': 1, 'po': 1, 'prepare': 1, 'testing': 1, 'close': 1, 'read': 1, 'exempt': 1, 'agree': 1, 'go': 1, 'oral': 1, 'found': 1, 'newest': 1, 'repugnant': 1, 'asked': 1, 'russian': 1, 'announces': 1, 'single': 1, 'shot': 1, 'when': 1, 'old': 1, 'thought': 1})\n",
            "      word  count_of_words\n",
            "18      bi               5\n",
            "12    take               4\n",
            "52   trump               4\n",
            "38  coming               4\n",
            "72    know               3\n",
            "         word  count_of_words\n",
            "41      still               1\n",
            "40    engaged               1\n",
            "39     follow               1\n",
            "37   terrific               1\n",
            "127   thought               1\n"
          ],
          "name": "stdout"
        }
      ]
    },
    {
      "cell_type": "code",
      "metadata": {
        "id": "aNgGKicJ5tgw"
      },
      "source": [
        ""
      ],
      "execution_count": null,
      "outputs": []
    },
    {
      "cell_type": "code",
      "metadata": {
        "id": "80JfKiDDU00s"
      },
      "source": [
        ""
      ],
      "execution_count": null,
      "outputs": []
    },
    {
      "cell_type": "markdown",
      "metadata": {
        "id": "SxjcyVCxpyvW"
      },
      "source": [
        "## (2) (10 points) Compare the performance of the following tools in sentiment identification: TextBlob (https://textblob.readthedocs.io/en/dev/), VADER (https://github.com/cjhutto/vaderSentiment), TFIDF-based Support Vector Machine (SVM) (Split your data into training and testing data). Take your own annotation as the standard answers. \n",
        "\n",
        "Reference code: https://towardsdatascience.com/fine-grained-sentiment-analysis-in-python-part-1-2697bb111ed4"
      ]
    },
    {
      "cell_type": "code",
      "metadata": {
        "id": "5Wth1EsRU2Ds"
      },
      "source": [
        ""
      ],
      "execution_count": null,
      "outputs": []
    },
    {
      "cell_type": "markdown",
      "metadata": {
        "id": "kZfK_8pjpMUF"
      },
      "source": [
        "TextBlob Model"
      ]
    },
    {
      "cell_type": "code",
      "metadata": {
        "id": "lcsNFtl0pyvX",
        "outputId": "7ad00e5e-feab-4259-cad0-0edddc9e3abc",
        "colab": {
          "base_uri": "https://localhost:8080/"
        }
      },
      "source": [
        "# Write your code here\n",
        "#Score for TextBlob\n",
        "from textblob import TextBlob\n",
        "polarity = TextBlob(all_text).sentiment.polarity\n",
        "polarity\n"
      ],
      "execution_count": 37,
      "outputs": [
        {
          "output_type": "execute_result",
          "data": {
            "text/plain": [
              "0.2261574390521759"
            ]
          },
          "metadata": {
            "tags": []
          },
          "execution_count": 37
        }
      ]
    },
    {
      "cell_type": "code",
      "metadata": {
        "id": "e_Mh1jZzorYz"
      },
      "source": [
        "#Predict for TextBlob\n",
        "df['score'] = df[clean_text].apply(score)\n",
        "df['pred'] = pd.cut(df['score'], bins=5, labels=[1, 2, 3, 4, 5])"
      ],
      "execution_count": null,
      "outputs": []
    },
    {
      "cell_type": "markdown",
      "metadata": {
        "id": "Q-5I3hYzpIXh"
      },
      "source": [
        "VADER Model"
      ]
    },
    {
      "cell_type": "code",
      "metadata": {
        "id": "ab3tkoX8bus7",
        "outputId": "cb661f79-67a1-407a-8921-6d3461603220",
        "colab": {
          "base_uri": "https://localhost:8080/"
        }
      },
      "source": [
        "import nltk\n",
        "nltk.download('vader_lexicon')\n",
        "from nltk.sentiment.vader import SentimentIntensityAnalyzer\n",
        "vader = SentimentIntensityAnalyzer()"
      ],
      "execution_count": 48,
      "outputs": [
        {
          "output_type": "stream",
          "text": [
            "[nltk_data] Downloading package vader_lexicon to /root/nltk_data...\n"
          ],
          "name": "stdout"
        }
      ]
    },
    {
      "cell_type": "code",
      "metadata": {
        "id": "fqFvG4uCfWGG",
        "outputId": "1655ca1f-1825-4f68-9c51-23b06c53c188",
        "colab": {
          "base_uri": "https://localhost:8080/"
        }
      },
      "source": [
        "vader.polarity_scores(all_text)"
      ],
      "execution_count": 49,
      "outputs": [
        {
          "output_type": "execute_result",
          "data": {
            "text/plain": [
              "{'compound': 0.9955, 'neg': 0.044, 'neu': 0.836, 'pos': 0.12}"
            ]
          },
          "metadata": {
            "tags": []
          },
          "execution_count": 49
        }
      ]
    },
    {
      "cell_type": "code",
      "metadata": {
        "id": "v6pRs0XyUzhY"
      },
      "source": [
        "#prediction for Vader model logic\n",
        "df['score'] = df['text'].apply(score)\n",
        "df['pred'] = pd.cut(df['score'], bins=5, labels=[1, 2, 3, 4, 5])"
      ],
      "execution_count": null,
      "outputs": []
    },
    {
      "cell_type": "code",
      "metadata": {
        "id": "QJCq1lyTnR7b"
      },
      "source": [
        "#Analysis:\n",
        "#Based on the Accuracy and Macro-F1 values, the best model is used."
      ],
      "execution_count": 84,
      "outputs": []
    },
    {
      "cell_type": "code",
      "metadata": {
        "id": "Hq0j3sWQptwZ"
      },
      "source": [
        ""
      ],
      "execution_count": null,
      "outputs": []
    }
  ]
}