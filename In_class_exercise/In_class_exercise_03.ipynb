{
  "nbformat": 4,
  "nbformat_minor": 0,
  "metadata": {
    "kernelspec": {
      "display_name": "Python 3",
      "language": "python",
      "name": "python3"
    },
    "language_info": {
      "codemirror_mode": {
        "name": "ipython",
        "version": 3
      },
      "file_extension": ".py",
      "mimetype": "text/x-python",
      "name": "python",
      "nbconvert_exporter": "python",
      "pygments_lexer": "ipython3",
      "version": "3.7.6"
    },
    "colab": {
      "name": "In-class-exercise-03.ipynb",
      "provenance": [],
      "collapsed_sections": [],
      "include_colab_link": true
    }
  },
  "cells": [
    {
      "cell_type": "markdown",
      "metadata": {
        "id": "view-in-github",
        "colab_type": "text"
      },
      "source": [
        "<a href=\"https://colab.research.google.com/github/prashanthdnss/Nithya_INFO5731_Fall2020/blob/master/In_class_exercise/In_class_exercise_03.ipynb\" target=\"_parent\"><img src=\"https://colab.research.google.com/assets/colab-badge.svg\" alt=\"Open In Colab\"/></a>"
      ]
    },
    {
      "cell_type": "markdown",
      "metadata": {
        "id": "Wu7JaIG1KGrL",
        "colab_type": "text"
      },
      "source": [
        "## The third In-class-exercise (9/16/2020, 20 points in total)"
      ]
    },
    {
      "cell_type": "markdown",
      "metadata": {
        "id": "qFilF5ksKGrM",
        "colab_type": "text"
      },
      "source": [
        "The purpose of this exercise is to under users' information needs, then collect the data for analysis."
      ]
    },
    {
      "cell_type": "markdown",
      "metadata": {
        "id": "ruoSaArYKGrP",
        "colab_type": "text"
      },
      "source": [
        "Question 1 (8 points): Describe an interesting research question (or practical question) you have in mind, what kind of data should be collected to answer the question(s)? How many data needed for the analysis? The detail steps for collecting and save the data. "
      ]
    },
    {
      "cell_type": "code",
      "metadata": {
        "id": "N_pZq8d8KGrR",
        "colab_type": "code",
        "colab": {}
      },
      "source": [
        "# Your answer here (no code for this question, write down your answer as detail as possible for the above questions):\n",
        "\n",
        "'''\n",
        "Please write you answer here:\n",
        "Since it is almost thanks giving time, I wanted to see the latest iphone ratings on flipkart.com from different iphone versions. \n",
        "The data which is required is very huge more than 500. \n",
        "Steps:\n",
        "I have downloaed the url, used beautiful soup to parse the data\n",
        "Then I have located the block of product using inspect option on the web and identified the div class\n",
        "Then all elements were stored in a continar. Product name has differet div class and ratings has different div class.\n",
        "created a file name data.csv \n",
        "given for loop to iterate all the products data on the page \n",
        "spliting strings of product name was done and stored in .csv file\n",
        "\n",
        "I wanted to get the reviews of all the pages, but I only got the reviews of 1st page. \n",
        "\n",
        "\n",
        "'''"
      ],
      "execution_count": null,
      "outputs": []
    },
    {
      "cell_type": "markdown",
      "metadata": {
        "id": "jDinHT04KGrX",
        "colab_type": "text"
      },
      "source": [
        "Question 2 (12 points): Write python code to collect 500 items of the data you plan to collect above."
      ]
    },
    {
      "cell_type": "code",
      "metadata": {
        "id": "zjBMEd7BKGra",
        "colab_type": "code",
        "colab": {
          "base_uri": "https://localhost:8080/",
          "height": 1000
        },
        "outputId": "15fd8e8b-4bd0-4877-f39a-4923709dfec6"
      },
      "source": [
        "# You code here (Please add comments in the code):\n",
        "from bs4 import BeautifulSoup as soup\n",
        "from urllib.request import urlopen as ureq\n",
        "\n",
        "my_url = 'https://www.flipkart.com/search?q=iphone&otracker=search&otracker1=search&marketplace=FLIPKART&as-show=on&as=off'\n",
        "\n",
        "uClient =ureq(my_url)\n",
        "page_html = uClient.read()\n",
        "uClient.close()\n",
        "page_soup = soup(page_html,\"html.parser\")\n",
        "\n",
        "my_containers = page_soup.findAll(\"div\", {\"class\": \"_3O0U0u\"})\n",
        "\n",
        "\n",
        "my_container = my_containers[0]\n",
        "print(my_container.div.img[\"alt\"])\n",
        "\n",
        "iphone_ratings=my_container.findAll(\"div\",{\"class\": \"hGSR34\"})\n",
        "\n",
        "print(iphone_ratings[0].text)\n",
        "\n",
        "my_file=\"data.csv\"\n",
        "\n",
        "f=open(my_file,\"w\")\n",
        "\n",
        "headers=\"sample\"\n",
        "f.write(headers)\n",
        "\n",
        "for my_container in my_containers:\n",
        "    product_name = my_container.div.img[\"alt\"]\n",
        "    rating_container = my_container.findAll(\"div\", {\"class\": \"hGSR34\"})\n",
        "    rating=rating_container[0].text\n",
        "    print(\"product name:\"+ product_name)\n",
        "    print(\"ratings:\"+ rating)\n",
        "    \n",
        "    split_rating = rating.split(\" \")\n",
        "    final_rating = split_rating[0]\n",
        "    print(product_name.replace(\",\", \"|\") + \",\" + final_rating + \"\\n\")\n",
        "    f.write(product_name.replace(\",\",\"|\") + \",\" + final_rating + \"\\n\")\n",
        "    \n",
        "f.close()\n",
        "\n"
      ],
      "execution_count": 2,
      "outputs": [
        {
          "output_type": "stream",
          "text": [
            "Apple iPhone SE (Black, 64 GB)\n",
            "4.5\n",
            "product name:Apple iPhone SE (Black, 64 GB)\n",
            "ratings:4.5\n",
            "Apple iPhone SE (Black| 64 GB),4.5\n",
            "\n",
            "product name:Apple iPhone SE (White, 64 GB)\n",
            "ratings:4.5\n",
            "Apple iPhone SE (White| 64 GB),4.5\n",
            "\n",
            "product name:Apple iPhone XR (White, 64 GB)\n",
            "ratings:4.6\n",
            "Apple iPhone XR (White| 64 GB),4.6\n",
            "\n",
            "product name:Apple iPhone SE (Red, 64 GB)\n",
            "ratings:4.5\n",
            "Apple iPhone SE (Red| 64 GB),4.5\n",
            "\n",
            "product name:Apple iPhone XR (Black, 128 GB)\n",
            "ratings:4.6\n",
            "Apple iPhone XR (Black| 128 GB),4.6\n",
            "\n",
            "product name:Apple iPhone XR (Black, 64 GB)\n",
            "ratings:4.6\n",
            "Apple iPhone XR (Black| 64 GB),4.6\n",
            "\n",
            "product name:Apple iPhone XR (White, 128 GB)\n",
            "ratings:4.6\n",
            "Apple iPhone XR (White| 128 GB),4.6\n",
            "\n",
            "product name:Apple iPhone SE (Black, 128 GB)\n",
            "ratings:4.5\n",
            "Apple iPhone SE (Black| 128 GB),4.5\n",
            "\n",
            "product name:Apple iPhone XR ((PRODUCT)RED, 64 GB)\n",
            "ratings:4.6\n",
            "Apple iPhone XR ((PRODUCT)RED| 64 GB),4.6\n",
            "\n",
            "product name:Apple iPhone SE (White, 128 GB)\n",
            "ratings:4.5\n",
            "Apple iPhone SE (White| 128 GB),4.5\n",
            "\n",
            "product name:Apple iPhone SE (Red, 128 GB)\n",
            "ratings:4.5\n",
            "Apple iPhone SE (Red| 128 GB),4.5\n",
            "\n",
            "product name:Apple iPhone 7 (Black, 32 GB)\n",
            "ratings:4.5\n",
            "Apple iPhone 7 (Black| 32 GB),4.5\n",
            "\n",
            "product name:Apple iPhone XR ((PRODUCT)RED, 128 GB)\n",
            "ratings:4.6\n",
            "Apple iPhone XR ((PRODUCT)RED| 128 GB),4.6\n",
            "\n",
            "product name:Apple iPhone XR (Blue, 64 GB)\n",
            "ratings:4.6\n",
            "Apple iPhone XR (Blue| 64 GB),4.6\n",
            "\n",
            "product name:Apple iPhone XR (Coral, 64 GB)\n",
            "ratings:4.6\n",
            "Apple iPhone XR (Coral| 64 GB),4.6\n",
            "\n",
            "product name:Apple iPhone XR (Blue, 128 GB)\n",
            "ratings:4.6\n",
            "Apple iPhone XR (Blue| 128 GB),4.6\n",
            "\n",
            "product name:Apple iPhone XR (Coral, 128 GB)\n",
            "ratings:4.6\n",
            "Apple iPhone XR (Coral| 128 GB),4.6\n",
            "\n",
            "product name:Apple iPhone 11 (White, 64 GB)\n",
            "ratings:4.7\n",
            "Apple iPhone 11 (White| 64 GB),4.7\n",
            "\n",
            "product name:Apple iPhone 11 (Green, 128 GB)\n",
            "ratings:4.7\n",
            "Apple iPhone 11 (Green| 128 GB),4.7\n",
            "\n",
            "product name:Apple iPhone 11 (Black, 64 GB)\n",
            "ratings:4.7\n",
            "Apple iPhone 11 (Black| 64 GB),4.7\n",
            "\n",
            "product name:Apple iPhone SE (Black, 256 GB)\n",
            "ratings:4.5\n",
            "Apple iPhone SE (Black| 256 GB),4.5\n",
            "\n",
            "product name:Apple iPhone 11 (Purple, 128 GB)\n",
            "ratings:4.7\n",
            "Apple iPhone 11 (Purple| 128 GB),4.7\n",
            "\n",
            "product name:Apple iPhone 7 Plus (Black, 32 GB)\n",
            "ratings:4.5\n",
            "Apple iPhone 7 Plus (Black| 32 GB),4.5\n",
            "\n",
            "product name:Apple iPhone 11 (Black, 128 GB)\n",
            "ratings:4.7\n",
            "Apple iPhone 11 (Black| 128 GB),4.7\n",
            "\n"
          ],
          "name": "stdout"
        }
      ]
    }
  ]
}